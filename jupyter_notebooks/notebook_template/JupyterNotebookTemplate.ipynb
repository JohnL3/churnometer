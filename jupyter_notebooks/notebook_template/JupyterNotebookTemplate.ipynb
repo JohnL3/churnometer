{
  "nbformat": 4,
  "nbformat_minor": 2,
  "metadata": {
    "orig_nbformat": 2,
    "colab": {
      "name": "Data Practitioner Jupyter Notebook.ipynb",
      "provenance": [],
      "toc_visible": true
    },
    "language_info": {
      "name": "python"
    },
    "kernelspec": {
      "name": "python3",
      "display_name": "Python 3"
    }
  },
  "cells": [
    {
      "cell_type": "markdown",
      "source": [
        "# Notebook Title (like Data Cleaning, Modeling with Sklearn etc)"
      ],
      "metadata": {
        "id": "0aStgWSO0E0E"
      }
    },
    {
      "cell_type": "markdown",
      "source": [
        "## Objectives\n",
        "\n",
        "*   Type here your objectives for this notebook (you may add as many as you want)\n",
        "*   .... \n",
        "*   .....\n",
        "\n",
        "\n",
        "## Inputs\n",
        "\n",
        "* what does this notebook need to work?\n",
        "\n",
        "## Outputs\n",
        "\n",
        "* what is this notebook's deliverable/output?\n",
        "\n",
        "## Additional Comments | Insights | Conclusions\n",
        "\n",
        "\n",
        "  * Add any relevant comment\n",
        "\n"
      ],
      "metadata": {
        "id": "1eLEkw5O0ECa"
      }
    },
    {
      "cell_type": "markdown",
      "source": [
        "---"
      ],
      "metadata": {
        "id": "9uWZXH9LwoQg"
      }
    },
    {
      "cell_type": "markdown",
      "source": [
        "# Install and Import packages"
      ],
      "metadata": {
        "id": "vbuGQj9lDAEo"
      }
    },
    {
      "cell_type": "code",
      "execution_count": null,
      "source": [
        "#! pip install xxxx"
      ],
      "outputs": [],
      "metadata": {
        "id": "dsBfLDnhx-2k"
      }
    },
    {
      "cell_type": "markdown",
      "source": [
        "---"
      ],
      "metadata": {
        "id": "gUFuYskeybZL"
      }
    },
    {
      "cell_type": "markdown",
      "source": [
        "# Your first notebook section starts from here"
      ],
      "metadata": {
        "id": "-mavJ8DibrcQ"
      }
    },
    {
      "cell_type": "code",
      "execution_count": null,
      "source": [],
      "outputs": [],
      "metadata": {
        "id": "Xk7DU_ekbtX8"
      }
    },
    {
      "cell_type": "code",
      "execution_count": null,
      "source": [],
      "outputs": [],
      "metadata": {
        "id": "n3u49Wn7byHA"
      }
    },
    {
      "cell_type": "markdown",
      "source": [
        "# Your second notebook section"
      ],
      "metadata": {
        "id": "krjAk78Tbyhv"
      }
    },
    {
      "cell_type": "code",
      "execution_count": null,
      "source": [],
      "outputs": [],
      "metadata": {
        "id": "T0oBmdCWb0xf"
      }
    },
    {
      "cell_type": "code",
      "execution_count": null,
      "source": [],
      "outputs": [],
      "metadata": {
        "id": "OnS7v_HVb1db"
      }
    },
    {
      "cell_type": "markdown",
      "source": [
        "# **Push** generated/new files from this Session to GitHub repo"
      ],
      "metadata": {
        "id": "257gMsNhiuM3"
      }
    },
    {
      "cell_type": "markdown",
      "source": [
        "* Git status"
      ],
      "metadata": {
        "id": "FUla5863TKyk"
      }
    },
    {
      "cell_type": "code",
      "execution_count": null,
      "source": [
        "! git status"
      ],
      "outputs": [],
      "metadata": {
        "id": "NzjZgWV-TMOB"
      }
    },
    {
      "cell_type": "markdown",
      "source": [
        "* Git commit"
      ],
      "metadata": {
        "id": "lH_xeleqiuM4"
      }
    },
    {
      "cell_type": "code",
      "execution_count": null,
      "source": [
        "CommitMsg = \"update\"\n",
        "!git add .\n",
        "!git commit -m {CommitMsg}"
      ],
      "outputs": [],
      "metadata": {
        "id": "VpFefbLXiuM4"
      }
    },
    {
      "cell_type": "markdown",
      "source": [
        "* Git Push"
      ],
      "metadata": {
        "id": "msFKrJ6fiuM5"
      }
    },
    {
      "cell_type": "code",
      "execution_count": null,
      "source": [
        "!git push origin main\n"
      ],
      "outputs": [],
      "metadata": {
        "id": "QZxYGf_yiuM5"
      }
    },
    {
      "cell_type": "markdown",
      "source": [
        "---"
      ],
      "metadata": {
        "id": "pXKlJFX0iuM5"
      }
    }
  ]
}