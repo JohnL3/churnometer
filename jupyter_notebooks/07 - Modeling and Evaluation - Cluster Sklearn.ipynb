{
  "nbformat": 4,
  "nbformat_minor": 2,
  "metadata": {
    "orig_nbformat": 2,
    "colab": {
      "name": "Modeling and Evaluation - Cluster Sklearn.ipynb",
      "provenance": [],
      "toc_visible": true
    },
    "language_info": {
      "name": "python",
      "version": "3.8.12",
      "mimetype": "text/x-python",
      "codemirror_mode": {
        "name": "ipython",
        "version": 3
      },
      "pygments_lexer": "ipython3",
      "nbconvert_exporter": "python",
      "file_extension": ".py"
    },
    "kernelspec": {
      "name": "python3",
      "display_name": "Python 3.8.12 64-bit"
    },
    "accelerator": "GPU",
    "interpreter": {
      "hash": "4cd7ab41f5fca4b9b44701077e38c5ffd31fe66a6cab21e0214b68d958d0e462"
    }
  },
  "cells": [
    {
      "cell_type": "markdown",
      "source": [
        "# Cluster"
      ],
      "metadata": {
        "id": "0aStgWSO0E0E"
      }
    },
    {
      "cell_type": "markdown",
      "source": [
        "## Objectives\n",
        "\n",
        "* Fit and evaluate a cluster model to group similar customer behaviour\n",
        "* Understand profile for each cluster\n",
        "\n",
        "\n",
        "## Inputs\n",
        "\n",
        "* outputs/datasets/collection/TelcoCustomerChurn.csv\n",
        "* instructions on which variables to use for data cleaning and feature engineering. They are found on its respectives notebooks.\n",
        "\n",
        "## Outputs\n",
        "\n",
        "* Cluster Pipeline\n",
        "* Train Set\n",
        "* Feature importance plot\n",
        "* Clusters Description\n",
        "* Cluster Silhouette\n"
      ],
      "metadata": {
        "id": "1eLEkw5O0ECa"
      }
    },
    {
      "cell_type": "markdown",
      "source": [
        "---"
      ],
      "metadata": {
        "id": "9uWZXH9LwoQg"
      }
    },
    {
      "cell_type": "markdown",
      "source": [
        "# Change working directory"
      ],
      "metadata": {}
    },
    {
      "cell_type": "markdown",
      "source": [
        "We need to change the working directory from its current folder to its parent folder\n",
        "* We access the current directory with os.getcwd()"
      ],
      "metadata": {}
    },
    {
      "cell_type": "code",
      "execution_count": null,
      "source": [
        "import os\n",
        "current_dir = os.getcwd()\n",
        "current_dir"
      ],
      "outputs": [],
      "metadata": {}
    },
    {
      "cell_type": "markdown",
      "source": [
        "We want to make the parent of the parent of current directory the new current directory\n",
        "* os.path.dirname() gets the parent directory\n",
        "* os.chir() defines the new current directory"
      ],
      "metadata": {}
    },
    {
      "cell_type": "code",
      "execution_count": null,
      "source": [
        "os.chdir(os.path.dirname(current_dir))\n",
        "print(\"You set a new current directory\")"
      ],
      "outputs": [],
      "metadata": {}
    },
    {
      "cell_type": "markdown",
      "source": [
        "Confirm the new current directory"
      ],
      "metadata": {}
    },
    {
      "cell_type": "code",
      "execution_count": null,
      "source": [
        "current_dir = os.getcwd()\n",
        "current_dir"
      ],
      "outputs": [],
      "metadata": {}
    },
    {
      "cell_type": "markdown",
      "source": [
        "---"
      ],
      "metadata": {
        "id": "pXKlJFX0iuM5"
      }
    },
    {
      "cell_type": "markdown",
      "source": [
        "# Load Data for Modelling"
      ],
      "metadata": {
        "id": "-mavJ8DibrcQ"
      }
    },
    {
      "cell_type": "code",
      "execution_count": null,
      "source": [
        "import pandas as pd\n",
        "df = (pd.read_csv(\"outputs/datasets/collection/TelcoCustomerChurn.csv\")\n",
        "      .drop(['customerID', 'TotalCharges', 'Churn', 'tenure' ],axis=1) \n",
        ")\n",
        "df.info()"
      ],
      "outputs": [],
      "metadata": {
        "id": "Xk7DU_ekbtX8"
      }
    },
    {
      "cell_type": "markdown",
      "source": [
        "# Cluster Pipeline considering all data: KMeans"
      ],
      "metadata": {
        "id": "krjAk78Tbyhv"
      }
    },
    {
      "cell_type": "markdown",
      "source": [
        "## ML pipeline for Data Cleaning and Feature Engineering"
      ],
      "metadata": {
        "id": "NZWZHhpYaDjf"
      }
    },
    {
      "cell_type": "code",
      "execution_count": null,
      "source": [
        "from sklearn.pipeline import Pipeline\n",
        "\n",
        "### Feature Engineering\n",
        "from feature_engine.encoding import OrdinalEncoder\n",
        "\n",
        "### PCA\n",
        "from sklearn.decomposition import PCA\n",
        "\n",
        "### Feat Selection\n",
        "from sklearn.feature_selection import SelectFromModel\n",
        "\n",
        "### Feat Scaling\n",
        "from sklearn.preprocessing import StandardScaler\n",
        "\n",
        "### ML algorithms \n",
        "from sklearn.cluster import KMeans\n",
        "\n",
        "\n",
        "def PipelineDataCleaningAndFeatureEngineering():\n",
        "  pipeline_base = Pipeline(\n",
        "      [\n",
        "       \n",
        "      (\"OrdinalCategoricalEncoder\",OrdinalEncoder(encoding_method='arbitrary',\n",
        "                                                  variables = [ 'gender', 'Partner', 'Dependents', 'PhoneService',\n",
        "                                                               'MultipleLines', 'InternetService', 'OnlineSecurity',\n",
        "                                                               'OnlineBackup','DeviceProtection', 'TechSupport', \n",
        "                                                               'StreamingTV', 'StreamingMovies','Contract', \n",
        "                                                               'PaperlessBilling', 'PaymentMethod'])\n",
        "      ),\n",
        "    ]\n",
        "  )\n",
        "\n",
        "  return pipeline_base"
      ],
      "outputs": [],
      "metadata": {
        "id": "C6keis6ao8LA"
      }
    },
    {
      "cell_type": "markdown",
      "source": [
        "## ML Pipeline for Cluster"
      ],
      "metadata": {
        "id": "SrxSzwiJGzFP"
      }
    },
    {
      "cell_type": "markdown",
      "source": [
        "where `n_components` of PCA and `n_clusters` of KMeans will be updated"
      ],
      "metadata": {
        "id": "5hNJCrTiClFR"
      }
    },
    {
      "cell_type": "code",
      "execution_count": null,
      "source": [
        "def PipelineCluster():\n",
        "  pipe = PipelineDataCleaningAndFeatureEngineering()\n",
        "  pipe.steps.append([\"PCA\",PCA(n_components=3, random_state=0)])\n",
        "  pipe.steps.append([\"scaler\",StandardScaler()])\n",
        "  pipe.steps.append([\"model\",KMeans(n_clusters=4, random_state=0)])\n",
        "  return pipe\n",
        "\n",
        "PipelineCluster()"
      ],
      "outputs": [],
      "metadata": {
        "id": "eU953c8ZGzUQ"
      }
    },
    {
      "cell_type": "markdown",
      "source": [
        "## ML Pipeline for a classifier to explain the clusters"
      ],
      "metadata": {
        "id": "vzF21hNlG3H9"
      }
    },
    {
      "cell_type": "markdown",
      "source": [
        "We are considering a model that typically offers good results and features importance can be assessed with `.features_importance_`"
      ],
      "metadata": {
        "id": "g5m15PdrBzFE"
      }
    },
    {
      "cell_type": "code",
      "execution_count": null,
      "source": [
        "from sklearn.ensemble import GradientBoostingClassifier\n",
        "def PipelineClf2ExplainClusters():\n",
        "   pipe = PipelineDataCleaningAndFeatureEngineering()\n",
        "   pipe.steps.append([\"feat_selection\",SelectFromModel(GradientBoostingClassifier(random_state=0))])\n",
        "   pipe.steps.append([\"scaler\",StandardScaler()])\n",
        "   pipe.steps.append([\"model\",GradientBoostingClassifier(random_state=0)])\n",
        "   return pipe\n",
        "  \n",
        "PipelineClf2ExplainClusters()"
      ],
      "outputs": [],
      "metadata": {
        "id": "55qpqXLaG3d9"
      }
    },
    {
      "cell_type": "markdown",
      "source": [
        "## Principal Component Analysis (PCA)"
      ],
      "metadata": {
        "id": "Mrr31sD9DyvY"
      }
    },
    {
      "cell_type": "markdown",
      "source": [
        "Apply PCA separately to find the most suitable `n_components`, update the value on ML Pipeline for Cluster"
      ],
      "metadata": {
        "id": "mC9WunDaCuQo"
      }
    },
    {
      "cell_type": "markdown",
      "source": [
        "It needs the dataset after data cleaning and feature engineering\n",
        "  * That means you have to remove 3 steps"
      ],
      "metadata": {
        "id": "_1fnArcWET0D"
      }
    },
    {
      "cell_type": "code",
      "execution_count": null,
      "source": [
        "pipeline_pca = PipelineDataCleaningAndFeatureEngineering()\n",
        "df_pca = pipeline_pca.fit_transform(df)\n",
        "print(df_pca.shape)\n",
        "df_pca.head(3)"
      ],
      "outputs": [],
      "metadata": {
        "id": "es49S65qqvRw"
      }
    },
    {
      "cell_type": "markdown",
      "source": [
        "Apply PCA component"
      ],
      "metadata": {
        "id": "WlABEj9Iw6Jr"
      }
    },
    {
      "cell_type": "code",
      "execution_count": null,
      "source": [
        "import numpy as np\n",
        "from sklearn.decomposition import PCA\n",
        "\n",
        "n_components = 3\n",
        "\n",
        "pca = PCA(n_components=n_components).fit(df_pca)\n",
        "x_PCA = pca.transform(df_pca) # array with transformed PCA\n",
        "\n",
        "ComponentsList = [\"Component \" + str(number) for number in range(n_components)]\n",
        "dfExplVarRatio = pd.DataFrame(\n",
        "    data= np.round(100 * pca.explained_variance_ratio_ ,2),\n",
        "    index=ComponentsList,\n",
        "    columns=['Explained Variance Ratio (%)'])\n",
        "\n",
        "PercentageOfDataExplained = dfExplVarRatio['Explained Variance Ratio (%)'].sum()\n",
        "\n",
        "print(f\"* The {n_components} components explain {round(PercentageOfDataExplained,2)}% of the data \\n\")\n",
        "print(dfExplVarRatio)"
      ],
      "outputs": [],
      "metadata": {
        "id": "cM_Xsqxsrt5M"
      }
    },
    {
      "cell_type": "markdown",
      "source": [
        "Heatmap: PCA components and variables"
      ],
      "metadata": {
        "id": "HFC6gDrfq83G"
      }
    },
    {
      "cell_type": "code",
      "execution_count": null,
      "source": [
        "import matplotlib.pyplot as plt\n",
        "import seaborn as sns\n",
        "sns.set_style(\"whitegrid\")\n",
        "\n",
        "df_comp = pd.DataFrame(pca.components_, columns=df_pca.columns)\n",
        "plt.figure(figsize=(20,5))\n",
        "sns.heatmap(df_comp,center=0,linewidths=.5)\n",
        "plt.show()"
      ],
      "outputs": [],
      "metadata": {
        "id": "plQLu3Z3tE5Y"
      }
    },
    {
      "cell_type": "markdown",
      "source": [
        "## Elbow Analysis"
      ],
      "metadata": {
        "id": "Uw9NtDj4EtEJ"
      }
    },
    {
      "cell_type": "markdown",
      "source": [
        "Find the most suitable `n_clusters`, update the value on ML Pipeline for Cluster\n"
      ],
      "metadata": {
        "id": "txwWrETeDFS2"
      }
    },
    {
      "cell_type": "markdown",
      "source": [
        "Prepare data for analysis\n",
        "  * You need to clean and feature engineer your data using the pipeline without the model"
      ],
      "metadata": {
        "id": "DOXb_H6iGx6U"
      }
    },
    {
      "cell_type": "code",
      "execution_count": null,
      "source": [
        "pipeline_cluster = PipelineCluster()\n",
        "pipeline_elbow = Pipeline(pipeline_cluster.steps[:-1])\n",
        "df_elbow = pipeline_elbow.fit_transform(df)\n",
        "\n",
        "print(df_elbow.shape,'\\n')\n",
        "df_elbow"
      ],
      "outputs": [],
      "metadata": {
        "id": "JVaMnb9vGyBw"
      }
    },
    {
      "cell_type": "markdown",
      "source": [
        "Elbow Analysis"
      ],
      "metadata": {
        "id": "q_1KLQujEvgi"
      }
    },
    {
      "cell_type": "code",
      "execution_count": null,
      "source": [
        "from yellowbrick.cluster import KElbowVisualizer\n",
        "from sklearn.cluster import KMeans\n",
        "\n",
        "visualizer = KElbowVisualizer(KMeans(random_state=0), k=(1,16))\n",
        "visualizer.fit(df_elbow) \n",
        "visualizer.show() \n",
        "plt.show()"
      ],
      "outputs": [],
      "metadata": {
        "id": "TZBcHjt7EwFT"
      }
    },
    {
      "cell_type": "markdown",
      "source": [
        "## Fit Cluster Pipeline"
      ],
      "metadata": {
        "id": "YQBjAlRsHhU4"
      }
    },
    {
      "cell_type": "markdown",
      "source": [
        "Quick recap in our raw dataset"
      ],
      "metadata": {
        "id": "kpxaylKk-6CQ"
      }
    },
    {
      "cell_type": "code",
      "execution_count": null,
      "source": [
        "print(df.shape)\n",
        "df.head(3)"
      ],
      "outputs": [],
      "metadata": {
        "id": "zfKHc63v-6Zm"
      }
    },
    {
      "cell_type": "markdown",
      "source": [
        "Fit Cluster pipeline"
      ],
      "metadata": {
        "id": "NfRpKC4Ykreg"
      }
    },
    {
      "cell_type": "code",
      "execution_count": null,
      "source": [
        "X = df.copy()\n",
        "pipeline_cluster = PipelineCluster()\n",
        "pipeline_cluster.fit(X)"
      ],
      "outputs": [],
      "metadata": {
        "id": "MAiyUpTWHjQh"
      }
    },
    {
      "cell_type": "markdown",
      "source": [
        "Cluster model output is an array with clusters labels"
      ],
      "metadata": {
        "id": "3AU1E4IdkyLd"
      }
    },
    {
      "cell_type": "code",
      "execution_count": null,
      "source": [
        "pipeline_cluster['model'].labels_"
      ],
      "outputs": [],
      "metadata": {
        "id": "y9lx5EqalOtv"
      }
    },
    {
      "cell_type": "markdown",
      "source": [
        "Let's check its shape"
      ],
      "metadata": {
        "id": "cvr_dnl6wiE_"
      }
    },
    {
      "cell_type": "code",
      "execution_count": null,
      "source": [
        "pipeline_cluster['model'].labels_.shape"
      ],
      "outputs": [],
      "metadata": {
        "id": "aRk0uyz1lSIW"
      }
    },
    {
      "cell_type": "markdown",
      "source": [
        "## Add cluster labels to dataset"
      ],
      "metadata": {
        "id": "0L0iMkjJHXSI"
      }
    },
    {
      "cell_type": "markdown",
      "source": [
        "The goal is to merge cluster labels to `X` DataFrame. There is one attention point: **does the pipeline have a step for dropping rows?** \n",
        "  * If yes, before merging, we need to drop these rows from X. the code below can do that\n",
        "\n",
        "```\n",
        "drop_imputer = DropMissingData(variables =['place here the variables where you drop rows'])\n",
        "X = drop_imputer.fit_transform(X)\n",
        "```\n",
        "* If no, ignore this step.\n",
        "\n",
        "Our project doesn't need this step. You can confirm that comparing the length of `X` and the length of `cluster label predictions`\n"
      ],
      "metadata": {
        "id": "CnJzUxAmkv07"
      }
    },
    {
      "cell_type": "code",
      "execution_count": null,
      "source": [
        "print(X.shape)\n",
        "print(pipeline_cluster['model'].labels_.shape)"
      ],
      "outputs": [],
      "metadata": {
        "id": "JAUY6-_6A-rN"
      }
    },
    {
      "cell_type": "markdown",
      "source": [
        "We add a column \"`Clusters`\" to the data and check clusters distribution\n",
        "* Clusters don't look to be imbalanced"
      ],
      "metadata": {
        "id": "ZKT5IjmTmei8"
      }
    },
    {
      "cell_type": "code",
      "execution_count": null,
      "source": [
        "X['Clusters'] = pipeline_cluster['model'].labels_\n",
        "\n",
        "print(f\"* Clusters frequencies \\n{ X['Clusters'].value_counts(normalize=True).to_frame().round(2)} \\n\\n\")\n",
        "X['Clusters'].value_counts().sort_values().plot(kind='bar');"
      ],
      "outputs": [],
      "metadata": {
        "id": "ow8B0xVdmlgK"
      }
    },
    {
      "cell_type": "markdown",
      "source": [
        "This is how our data look like from now\n",
        "  * Check the last column: `Clusters`\n",
        "  * Quick reminder: The data is unprocessed (**no data cleaning or feature engineering applied yet**)"
      ],
      "metadata": {
        "id": "MVeCKYbRW9Xi"
      }
    },
    {
      "cell_type": "code",
      "execution_count": null,
      "source": [
        "print(X.shape)\n",
        "X.head(3)"
      ],
      "outputs": [],
      "metadata": {
        "id": "eAVrYJEqxYyG"
      }
    },
    {
      "cell_type": "markdown",
      "source": [
        "Here we are saving the cluster predictions for this pipeline to use in a fututre moment. We will get back to that soon"
      ],
      "metadata": {
        "id": "MnjHhYjXng2r"
      }
    },
    {
      "cell_type": "code",
      "execution_count": null,
      "source": [
        "cluster_anwers_with_all_variables = X['Clusters']\n",
        "cluster_anwers_with_all_variables"
      ],
      "outputs": [],
      "metadata": {
        "id": "FWgb0kPOWtMa"
      }
    },
    {
      "cell_type": "markdown",
      "source": [
        "## Evaluate Clusters silhouette"
      ],
      "metadata": {
        "id": "hXtmFP_Ulpnd"
      }
    },
    {
      "cell_type": "markdown",
      "source": [
        "To evaluate clusters silhouete we need:\n",
        "  * data transformed (transform data in the pipeline wihout model step)\n",
        "  * clusters arrays"
      ],
      "metadata": {
        "id": "dAJj6IZqmrxx"
      }
    },
    {
      "cell_type": "code",
      "execution_count": null,
      "source": [
        "pipeline_silhouette = Pipeline(pipeline_cluster.steps[:-1])\n",
        "df_transformed = pipeline_silhouette.transform(df)\n",
        "df_transformed"
      ],
      "outputs": [],
      "metadata": {
        "id": "A4j4h-2Shlq4"
      }
    },
    {
      "cell_type": "markdown",
      "source": [
        "Silhouette plot function"
      ],
      "metadata": {
        "id": "cSSZZSBEXPD7"
      }
    },
    {
      "cell_type": "code",
      "execution_count": null,
      "source": [
        "import matplotlib.pyplot as plt\n",
        "import seaborn as sns\n",
        "import matplotlib.cm as cm\n",
        "import numpy as np\n",
        "from sklearn.metrics import silhouette_samples, silhouette_score\n",
        "sns.set_style(\"whitegrid\")\n",
        "\n",
        "def EvaluateClusterSilhouette(X,n_clusters,cluster_labels):\n",
        "\n",
        "  print(f\"  * The silhouette score range is -1 to +1, where: \\n\"\n",
        "        f\"  - 1 means the clusters are dense and properly separated.\\n\"\n",
        "        f\"  - 0 means the clusters are overlapping. \\n\"\n",
        "        f\"  - A negative score means that these data points from that cluster may be wrong, \"\n",
        "        f\"they should belong to other cluster.\")  \n",
        "  \n",
        "  print(f\"\\n* You should evaluate:\\n\"\n",
        "      \"  * If there are clusters with below average silhouette scores. \\n\"\n",
        "      \"  * If there is broad variation in the silhouette plots's size across clusters. \\n\"\n",
        "      \"  * If the thickness of the silhouettes are uniform/similar in general \\n\")\n",
        "  \n",
        "  fig = plot_clusters_silhouette(X,n_clusters,cluster_labels)\n",
        "  plt.show()\n",
        "\n",
        "def plot_clusters_silhouette(X,n_clusters,cluster_labels):\n",
        "\n",
        "  silhouette_avg = silhouette_score(X, cluster_labels,random_state=0)\n",
        "\n",
        "  fig, axes = plt.subplots(nrows=1, ncols=1, figsize=(15,7))\n",
        "  axes.set_xlim([-0.1, 1])\n",
        "  axes.set_ylim([0, len(X) + (n_clusters + 1) * 10])\n",
        "\n",
        "  sample_silhouette_values = silhouette_samples(X, cluster_labels)\n",
        "  y_lower = 10\n",
        "  for i in range(n_clusters):\n",
        "    ith_cluster_silhouette_values = \\\n",
        "      sample_silhouette_values[cluster_labels == i]\n",
        "    ith_cluster_silhouette_values.sort()\n",
        "    size_cluster_i = ith_cluster_silhouette_values.shape[0]\n",
        "    y_upper = y_lower + size_cluster_i\n",
        "    color = cm.nipy_spectral(float(i) / n_clusters)\n",
        "    axes.fill_betweenx(np.arange(y_lower, y_upper),\n",
        "              0, ith_cluster_silhouette_values,\n",
        "              facecolor=color, edgecolor=color, alpha=0.7)\n",
        "    axes.text(-0.05, y_lower + 0.5 * size_cluster_i, str(i))\n",
        "    y_lower = y_upper + 10\n",
        "\n",
        "  axes.set_title(\"The silhouette plot for each cluster\")\n",
        "  axes.set_xlabel(\"The silhouette coefficient values\")\n",
        "  axes.set_ylabel(\"Cluster label\")\n",
        "  axes.text(x=silhouette_avg*1.01, y=len(X)*0.95, s=f\"Silhouette Average: {round(silhouette_avg,2)}\", fontsize=12, c='r')\n",
        "  axes.axvline(x=silhouette_avg, color=\"red\", linestyle=\"--\")\n",
        "  axes.set_yticks([])\n",
        "  axes.set_xticks([-0.1, 0, 0.2, 0.4, 0.6, 0.8, 1])\n",
        "  return fig\n"
      ],
      "outputs": [],
      "metadata": {
        "id": "HzqxawC8lq1R"
      }
    },
    {
      "cell_type": "markdown",
      "source": [
        "Evaluate Cluster Silhouette"
      ],
      "metadata": {
        "id": "GpimuOdgXS5G"
      }
    },
    {
      "cell_type": "code",
      "execution_count": null,
      "source": [
        "EvaluateClusterSilhouette(\n",
        "    X=df_transformed,\n",
        "    n_clusters=X['Clusters'].nunique(),\n",
        "    cluster_labels=X['Clusters'].values)"
      ],
      "outputs": [],
      "metadata": {
        "id": "RsrpxXqljJ-y"
      }
    },
    {
      "cell_type": "markdown",
      "source": [
        "## Fit a classifier, where target is cluster labels and features remaining variables"
      ],
      "metadata": {
        "id": "sTWTf1rgkQ7b"
      }
    },
    {
      "cell_type": "markdown",
      "source": [
        "We are in a moment where we have predictions from the cluster pipeline, but we don't have a meaning for them yet. \n",
        "* We seek to understand clusters' profile **bold text**\n",
        "\n",
        "We need to find the most relevant variables, to define each cluster in terms of each relevant variable\n",
        "* Our new dataset has `Clusters`, which will be the **target for a classifier**. The most relevant features for this classifier, will be the most relevant variables when we run a classifier where the target is the cluster labels!"
      ],
      "metadata": {
        "id": "ipsJSzhhkUiu"
      }
    },
    {
      "cell_type": "code",
      "execution_count": null,
      "source": [
        "X.head()"
      ],
      "outputs": [],
      "metadata": {
        "id": "tHTHwMOoz5le"
      }
    },
    {
      "cell_type": "markdown",
      "source": [
        "We copy `X` to a DataFrame `df_clf`, just to separate the cases"
      ],
      "metadata": {
        "id": "hP6sGUn0XyDm"
      }
    },
    {
      "cell_type": "code",
      "execution_count": null,
      "source": [
        "df_clf = X.copy()\n",
        "print(df_clf.shape)\n",
        "df_clf.head(3)"
      ],
      "outputs": [],
      "metadata": {
        "id": "OeLq81sm2yAg"
      }
    },
    {
      "cell_type": "markdown",
      "source": [
        "Split Train and Test sets"
      ],
      "metadata": {
        "id": "4b3Ei6Os5X3s"
      }
    },
    {
      "cell_type": "code",
      "execution_count": null,
      "source": [
        "from sklearn.model_selection import train_test_split\n",
        "\n",
        "X_train, X_test,y_train, y_test = train_test_split(\n",
        "                                    df_clf.drop(['Clusters'],axis=1),\n",
        "                                    df_clf['Clusters'],\n",
        "                                    test_size=0.2,\n",
        "                                    random_state=0\n",
        "                                    )\n",
        "\n",
        "print(X_train.shape, X_test.shape)"
      ],
      "outputs": [],
      "metadata": {
        "id": "cgHXehCVyzUl"
      }
    },
    {
      "cell_type": "markdown",
      "source": [
        "Create pipeline"
      ],
      "metadata": {
        "id": "6EZUk-uV5aN8"
      }
    },
    {
      "cell_type": "code",
      "execution_count": null,
      "source": [
        "pipeline_clf_cluster = PipelineClf2ExplainClusters()\n",
        "pipeline_clf_cluster"
      ],
      "outputs": [],
      "metadata": {
        "id": "3R7xdg1Av0Ce"
      }
    },
    {
      "cell_type": "markdown",
      "source": [
        "Fit pipeline"
      ],
      "metadata": {
        "id": "W8Cjsn6l5cqF"
      }
    },
    {
      "cell_type": "code",
      "execution_count": null,
      "source": [
        "pipeline_clf_cluster.fit(X_train, y_train)"
      ],
      "outputs": [],
      "metadata": {
        "id": "P0QPwTqa0OcY"
      }
    },
    {
      "cell_type": "markdown",
      "source": [
        "## Evaluate classifier performance on Train and Test Sets"
      ],
      "metadata": {
        "id": "z05LMFoZ4T2K"
      }
    },
    {
      "cell_type": "code",
      "execution_count": null,
      "source": [
        "from sklearn.metrics import classification_report\n",
        "print(classification_report(y_train, pipeline_clf_cluster.predict(X_train)))"
      ],
      "outputs": [],
      "metadata": {
        "id": "M1iqL2Kc544K"
      }
    },
    {
      "cell_type": "code",
      "execution_count": null,
      "source": [
        "print(classification_report(y_test, pipeline_clf_cluster.predict(X_test)))"
      ],
      "outputs": [],
      "metadata": {
        "id": "0Oo4xJMZ615p"
      }
    },
    {
      "cell_type": "markdown",
      "source": [
        "## Assess Most Important Features that define a cluster"
      ],
      "metadata": {
        "id": "MEwjHBSh5ejG"
      }
    },
    {
      "cell_type": "code",
      "execution_count": null,
      "source": [
        "# after data cleaning and feat engine, the feature space changes\n",
        "columns_after_data_cleaning_feat_eng = (PipelineDataCleaningAndFeatureEngineering()\n",
        "                                        .fit_transform(X_train)\n",
        "                                        .columns)\n",
        "\n",
        "best_features = columns_after_data_cleaning_feat_eng[pipeline_clf_cluster['feat_selection'].get_support()].to_list()\n",
        "\n",
        "# create DataFrame to display feature importance\n",
        "df_feature_importance = (pd.DataFrame(data={\n",
        "          'Attribute': columns_after_data_cleaning_feat_eng[pipeline_clf_cluster['feat_selection'].get_support()],\n",
        "          'Importance': pipeline_clf_cluster['model'].feature_importances_})\n",
        "  .sort_values(by='Importance', ascending=False)\n",
        "  )\n",
        "\n",
        "best_features = df_feature_importance['Attribute'].to_list() # reassign best features in importance order\n",
        "\n",
        "# Most important features statement and plot\n",
        "print(f\"* These are the {len(best_features)} most important features in descending order. \"\n",
        "      f\"The model was trained on them: \\n{best_features} \\n\")\n",
        "df_feature_importance.plot(kind='bar',x='Attribute',y='Importance')\n",
        "plt.show()"
      ],
      "outputs": [],
      "metadata": {
        "id": "BG5ztHxsKcd5"
      }
    },
    {
      "cell_type": "markdown",
      "source": [
        "We will store the best_features for future usage. We will get back to that soon"
      ],
      "metadata": {
        "id": "qgul0EF9nx_E"
      }
    },
    {
      "cell_type": "code",
      "execution_count": null,
      "source": [
        "best_features_pipeline_all_variables = best_features\n",
        "best_features_pipeline_all_variables"
      ],
      "outputs": [],
      "metadata": {
        "id": "YzyMkwHznyG8"
      }
    },
    {
      "cell_type": "markdown",
      "source": [
        "## Cluster Analysis"
      ],
      "metadata": {
        "id": "J2ywCxJmkRQn"
      }
    },
    {
      "cell_type": "markdown",
      "source": [
        "Custom Functions for Cluster Analysis"
      ],
      "metadata": {
        "id": "2NBCTceJbgRu"
      }
    },
    {
      "cell_type": "markdown",
      "source": [
        "* Table with description for all Clusters"
      ],
      "metadata": {
        "id": "hZMr-wiudEkb"
      }
    },
    {
      "cell_type": "code",
      "execution_count": null,
      "source": [
        "def Clusters_IndividualDescription(EDA_Cluster,cluster):\n",
        "\n",
        "  ClustersDescription = pd.DataFrame(columns=EDA_Cluster.columns)\n",
        "  for col in EDA_Cluster.columns:\n",
        "    \n",
        "    try:  # eventually a given cluster will have only mssing data for a given variable\n",
        "      \n",
        "      if EDA_Cluster[col].dtypes == 'object':\n",
        "        \n",
        "        top_frequencies = EDA_Cluster.dropna(subset=[col])[[col]].value_counts(normalize=True).nlargest(n=3)\n",
        "        Description = ''\n",
        "        \n",
        "        for x in range(len(top_frequencies)):\n",
        "          freq = top_frequencies.iloc[x]\n",
        "          category = top_frequencies.index[x][0]\n",
        "          CategoryPercentage = int(round(freq*100,0))\n",
        "          statement =  f\"'{category}': {CategoryPercentage}% , \"  \n",
        "          Description = Description + statement\n",
        "        \n",
        "        ClustersDescription.at[0,col] = Description[:-2]\n",
        "\n",
        "\n",
        "      \n",
        "      elif EDA_Cluster[col].dtypes in ['float', 'int']:\n",
        "        DescStats = EDA_Cluster.dropna(subset=[col])[[col]].describe()\n",
        "        Q1 = int(round(DescStats.iloc[4,0],0))\n",
        "        Q3 = int(round(DescStats.iloc[6,0],0))\n",
        "        Description = f\"{Q1} -- {Q3}\"\n",
        "        ClustersDescription.at[0,col] = Description\n",
        "    \n",
        "    \n",
        "    except Exception as e:\n",
        "      ClustersDescription.at[0,col] = 'Not available'\n",
        "      print(f\"** Error Exception: {e} - cluster {cluster}, variable {col}\")\n",
        "  \n",
        "  ClustersDescription['Cluster'] = str(cluster)\n",
        "  \n",
        "  return ClustersDescription\n",
        "\n",
        "\n",
        "def DescriptionAllClusters(df_cluster_profile):\n",
        "\n",
        "  DescriptionAllClusters = pd.DataFrame(columns=df_cluster_profile.drop(['Clusters'],axis=1).columns)\n",
        "  for cluster in df_cluster_profile.sort_values(by='Clusters')['Clusters'].unique():\n",
        "    \n",
        "      EDA_ClusterSubset = df_cluster_profile.query(f\"Clusters == {cluster}\").drop(['Clusters'],axis=1)\n",
        "      ClusterDescription = Clusters_IndividualDescription(EDA_ClusterSubset,cluster)\n",
        "      DescriptionAllClusters = DescriptionAllClusters.append(ClusterDescription)\n",
        "\n",
        "  \n",
        "  DescriptionAllClusters.set_index(['Cluster'],inplace=True)\n",
        "  return DescriptionAllClusters\n"
      ],
      "outputs": [],
      "metadata": {
        "id": "_lpRVDqTdEul"
      }
    },
    {
      "cell_type": "markdown",
      "source": [
        "* Cluster distribution per Variable (absolute and relative)"
      ],
      "metadata": {
        "id": "OHo7wmH68AYc"
      }
    },
    {
      "cell_type": "code",
      "execution_count": null,
      "source": [
        "import plotly.express as px\n",
        "def cluster_distribution_per_variable(df,target):\n",
        "\n",
        "\n",
        "  df_bar_plot = df.value_counts([\"Clusters\", target]).reset_index() \n",
        "  df_bar_plot.columns = ['Clusters',target,'Count']\n",
        "  df_bar_plot[target] = df_bar_plot[target].astype('object')\n",
        "\n",
        "  print(f\"Clusters distribution across {target} levels\")\n",
        "  fig = px.bar(df_bar_plot, x='Clusters',y='Count',color=target,width=800, height=500)\n",
        "  fig.update_layout(xaxis=dict(tickmode= 'array',tickvals= df['Clusters'].unique()))\n",
        "  fig.show()\n",
        "\n",
        "\n",
        "  df_relative = (df\n",
        "                 .groupby([\"Clusters\", target])\n",
        "                 .size()\n",
        "                 .groupby(level=0)\n",
        "                 .apply(lambda x:  100*x / x.sum())\n",
        "                 .reset_index()\n",
        "                 .sort_values(by=['Clusters'])\n",
        "                 )\n",
        "  df_relative.columns = ['Clusters',target,'Relative Percentage (%)']\n",
        " \n",
        "\n",
        "  print(f\"Relative Percentage (%) of {target} in each cluster\")\n",
        "  fig = px.line(df_relative, x='Clusters',y='Relative Percentage (%)',color=target,width=800, height=500)\n",
        "  fig.update_layout(xaxis=dict(tickmode= 'array',tickvals= df['Clusters'].unique()))\n",
        "  fig.update_traces(mode='markers+lines')\n",
        "  fig.show()\n",
        " \n"
      ],
      "outputs": [],
      "metadata": {
        "id": "NN23X2dT8AeA"
      }
    },
    {
      "cell_type": "markdown",
      "source": [
        "---"
      ],
      "metadata": {
        "id": "Ou5ymnDkJJTl"
      }
    },
    {
      "cell_type": "markdown",
      "source": [
        "We will study the profile for the main variables that define a cluster\n"
      ],
      "metadata": {
        "id": "73J7J65v4O_d"
      }
    },
    {
      "cell_type": "code",
      "execution_count": null,
      "source": [
        "df_cluster_profile = df_clf.copy()\n",
        "df_cluster_profile = df_cluster_profile.filter(items=best_features + ['Clusters'], axis=1)\n",
        "df_cluster_profile.head(3)"
      ],
      "outputs": [],
      "metadata": {
        "id": "PztdhjGl4Vkg"
      }
    },
    {
      "cell_type": "markdown",
      "source": [
        "Load Churn levels"
      ],
      "metadata": {
        "id": "-mfJRrFc7wzu"
      }
    },
    {
      "cell_type": "code",
      "execution_count": null,
      "source": [
        "df_churn = pd.read_csv(\"outputs/datasets/collection/TelcoCustomerChurn.csv\").filter(['Churn'])\n",
        "df_churn['Churn'] = df_churn['Churn'].astype('object')\n",
        "df_churn.head(3)"
      ],
      "outputs": [],
      "metadata": {
        "id": "fSRSNqiF4mnm"
      }
    },
    {
      "cell_type": "markdown",
      "source": [
        "### Cluster profile on most important features"
      ],
      "metadata": {
        "id": "KtD0Y3NdJOhm"
      }
    },
    {
      "cell_type": "markdown",
      "source": [
        "Considering `df_cluster_profile` and `df_churn`"
      ],
      "metadata": {
        "id": "T0dCJG1zG13D"
      }
    },
    {
      "cell_type": "code",
      "execution_count": null,
      "source": [
        "pd.set_option('display.max_colwidth', None)\n",
        "clusters_profile = DescriptionAllClusters(pd.concat([df_cluster_profile,df_churn], axis=1))\n",
        "clusters_profile"
      ],
      "outputs": [],
      "metadata": {
        "id": "LDhycaSEdORm"
      }
    },
    {
      "cell_type": "markdown",
      "source": [
        "### Clusters distribution across Churn levels & Relative Percentage of Churn in each cluster"
      ],
      "metadata": {
        "id": "2SS6CCCb74lH"
      }
    },
    {
      "cell_type": "code",
      "execution_count": null,
      "source": [
        "df_cluster_vs_churn=  df_churn.copy()\n",
        "df_cluster_vs_churn['Clusters'] = X['Clusters']\n",
        "cluster_distribution_per_variable(df=df_cluster_vs_churn, target='Churn')"
      ],
      "outputs": [],
      "metadata": {
        "id": "kwEUdPI2NHOb"
      }
    },
    {
      "cell_type": "markdown",
      "source": [
        "# Fit New Cluster Pipeline only on most important features"
      ],
      "metadata": {
        "id": "iEfOvjx8ZhAH"
      }
    },
    {
      "cell_type": "markdown",
      "source": [
        "In order to reduce feature space, we will study the trade-off between considering the previous Cluster Pipeline (fitted with all variables) and creating a new Cluster Pipeline with the variables that are most important to define the clusters from previous pipeline"
      ],
      "metadata": {
        "id": "MFno4XnSZlZV"
      }
    },
    {
      "cell_type": "code",
      "execution_count": null,
      "source": [
        "best_features_pipeline_all_variables"
      ],
      "outputs": [],
      "metadata": {
        "id": "ROH8cre2PHWx"
      }
    },
    {
      "cell_type": "markdown",
      "source": [
        "## Define trade-off and metrics to compare new and previous Cluster Pipeline"
      ],
      "metadata": {
        "id": "cLOL2zr4Jr68"
      }
    },
    {
      "cell_type": "markdown",
      "source": [
        "To evaluate this tradeoff we will\n",
        "1. Conduct a PCA analysis, with the same amount of components from \n",
        "previous study, in a dataset only with `best_features_pipeline_all_variables` and see if all variables are relevant\n",
        "2. Conduct a elbow study and check if the same number of clusters is suggested\n",
        "3. Fit new cluster pipeline and compare if the both clusters predictions are \"equivalent\"\n",
        "4. Compare silhoutte score\n",
        "5. Fit a classifier to explain cluster, and check if performance on Train and Test sets is similar\n",
        "6. Check if the most important features for the classifier are the same.\n",
        "7. Compare if the cluster profile from both cases are \"equivalent\"\n",
        "\n",
        "If we are happy to say **yes** for them, you can use a cluster pipeline with reduced feature space!\n",
        "* The **gain** is that in real time (which is the major purpose of Machine Learning) you will need less variables for running predictions and decision making."
      ],
      "metadata": {
        "id": "eJyxkSowZ9Cm"
      }
    },
    {
      "cell_type": "markdown",
      "source": [
        "## Consider the data with the most relevant variables"
      ],
      "metadata": {
        "id": "DxyTpm4EJx4s"
      }
    },
    {
      "cell_type": "code",
      "execution_count": null,
      "source": [
        "df_reduced = df.filter(best_features_pipeline_all_variables)\n",
        "df_reduced.head(3)"
      ],
      "outputs": [],
      "metadata": {
        "id": "lQu9033oZ6r9"
      }
    },
    {
      "cell_type": "markdown",
      "source": [
        "## Rewrite ML pipeline for Data Cleaning and Feature Engineering"
      ],
      "metadata": {
        "id": "_ub9_YoIeaS5"
      }
    },
    {
      "cell_type": "code",
      "execution_count": null,
      "source": [
        "def PipelineDataCleaningAndFeatureEngineering():\n",
        "  pipeline_base = Pipeline(\n",
        "      [\n",
        "        # we updated the pipeline, considering only the new variables      \n",
        "       (\"OrdinalCategoricalEncoder\",OrdinalEncoder(encoding_method='arbitrary',\n",
        "                                                  variables = ['PaymentMethod', 'InternetService',\n",
        "                                                               'DeviceProtection','OnlineSecurity'])\n",
        "      ),\n",
        "\n",
        "    ]\n",
        "  )\n",
        "\n",
        "  return pipeline_base"
      ],
      "outputs": [],
      "metadata": {
        "id": "PrlQuieZeaS6"
      }
    },
    {
      "cell_type": "markdown",
      "source": [
        "## Apply PCA and compare to previous PCA"
      ],
      "metadata": {
        "id": "S4JsUASTfCiE"
      }
    },
    {
      "cell_type": "markdown",
      "source": [
        "It needs the dataset after data cleaning and feature engineering"
      ],
      "metadata": {
        "id": "GJs6VtKvfCiS"
      }
    },
    {
      "cell_type": "code",
      "execution_count": null,
      "source": [
        "pipeline_pca = PipelineDataCleaningAndFeatureEngineering()\n",
        "df_pca = pipeline_pca.fit_transform(df_reduced)\n",
        "print(df_pca.shape)\n",
        "df_pca.head(3)"
      ],
      "outputs": [],
      "metadata": {
        "id": "sQ09ogO8fCiS"
      }
    },
    {
      "cell_type": "markdown",
      "source": [
        "Apply PCA component"
      ],
      "metadata": {
        "id": "grI6_LgYfCiU"
      }
    },
    {
      "cell_type": "code",
      "execution_count": null,
      "source": [
        "print(f\"* n_components here should be the same amount from previous study: {n_components}\")"
      ],
      "outputs": [],
      "metadata": {
        "id": "DmvyqKRFfOsH"
      }
    },
    {
      "cell_type": "code",
      "execution_count": null,
      "source": [
        "n_components = 3\n",
        "\n",
        "pca = PCA(n_components=n_components).fit(df_pca)\n",
        "x_PCA = pca.transform(df_pca) # array with transformed PCA\n",
        "\n",
        "ComponentsList = [\"Component \" + str(number) for number in range(n_components)]\n",
        "dfExplVarRatio = pd.DataFrame(\n",
        "    data= np.round(100 * pca.explained_variance_ratio_ ,2),\n",
        "    index=ComponentsList,\n",
        "    columns=['Explained Variance Ratio (%)'])\n",
        "\n",
        "PercentageOfDataExplained = dfExplVarRatio['Explained Variance Ratio (%)'].sum()\n",
        "\n",
        "print(f\"* The {n_components} components explain {round(PercentageOfDataExplained,2)}% of the data \\n\")\n",
        "print(dfExplVarRatio)"
      ],
      "outputs": [],
      "metadata": {
        "id": "upco-DU-fCiU"
      }
    },
    {
      "cell_type": "markdown",
      "source": [
        "Heatmap: PCA components and variables"
      ],
      "metadata": {
        "id": "TjEfQ8F6fCiV"
      }
    },
    {
      "cell_type": "code",
      "execution_count": null,
      "source": [
        "df_comp = pd.DataFrame(pca.components_, columns=df_pca.columns)\n",
        "plt.figure(figsize=(20,5))\n",
        "sns.heatmap(df_comp, center=0, linewidths=.5)\n",
        "plt.show()"
      ],
      "outputs": [],
      "metadata": {
        "id": "WRPLuEeDfCiV"
      }
    },
    {
      "cell_type": "markdown",
      "source": [
        "Note that all variables from `best_features_pipeline_all_variables` are indicated as relevant after applying PCA"
      ],
      "metadata": {
        "id": "BBrtfzIufwdW"
      }
    },
    {
      "cell_type": "markdown",
      "source": [
        "## Apply Elbow analysis and compare to previous Elbow analysis"
      ],
      "metadata": {
        "id": "D57ncdQ7hBXe"
      }
    },
    {
      "cell_type": "markdown",
      "source": [
        "Prepare data for analysis\n",
        "  * You need to clean and feature engineer your data using the pipeline without the model"
      ],
      "metadata": {
        "id": "i_Iw99sEhBXr"
      }
    },
    {
      "cell_type": "code",
      "execution_count": null,
      "source": [
        "pipeline_cluster = PipelineCluster()\n",
        "pipeline_elbow = Pipeline(pipeline_cluster.steps[:-1])\n",
        "df_elbow = pipeline_elbow.fit_transform(df_reduced)\n",
        "\n",
        "print(df_elbow.shape,'\\n')\n",
        "df_elbow"
      ],
      "outputs": [],
      "metadata": {
        "id": "D0wqQOM3hBXr"
      }
    },
    {
      "cell_type": "markdown",
      "source": [
        "Elbow Analysis"
      ],
      "metadata": {
        "id": "r_1H05FKhBXs"
      }
    },
    {
      "cell_type": "code",
      "execution_count": null,
      "source": [
        "from yellowbrick.cluster import KElbowVisualizer\n",
        "from sklearn.cluster import KMeans\n",
        "\n",
        "visualizer = KElbowVisualizer(KMeans(random_state=0), k=(1,16))\n",
        "visualizer.fit(df_elbow) \n",
        "visualizer.show() \n",
        "plt.show()"
      ],
      "outputs": [],
      "metadata": {
        "id": "nsAJW4s0hBXt"
      }
    },
    {
      "cell_type": "markdown",
      "source": [
        "The same number of clusters is suggested! :)"
      ],
      "metadata": {
        "id": "pFVtLmU5hWyn"
      }
    },
    {
      "cell_type": "markdown",
      "source": [
        "## Fit New Cluster Pipeline"
      ],
      "metadata": {
        "id": "f_T1gtprhe8W"
      }
    },
    {
      "cell_type": "markdown",
      "source": [
        "Quick recap in our raw dataset"
      ],
      "metadata": {
        "id": "ZEtzurhOhe8W"
      }
    },
    {
      "cell_type": "code",
      "execution_count": null,
      "source": [
        "print(df_reduced.shape)\n",
        "df_reduced.head(3)"
      ],
      "outputs": [],
      "metadata": {
        "id": "BIZRR3wChe8X"
      }
    },
    {
      "cell_type": "markdown",
      "source": [
        "Fit Cluster pipeline"
      ],
      "metadata": {
        "id": "O-z3ST3nhe8Z"
      }
    },
    {
      "cell_type": "code",
      "execution_count": null,
      "source": [
        "X = df_reduced.copy()\n",
        "pipeline_cluster = PipelineCluster()\n",
        "pipeline_cluster.fit(X)"
      ],
      "outputs": [],
      "metadata": {
        "id": "AAaEPy3Uhe8Z"
      }
    },
    {
      "cell_type": "markdown",
      "source": [
        "Cluster model output is an array with clusters labels"
      ],
      "metadata": {
        "id": "Z5Ruqu_vhe8a"
      }
    },
    {
      "cell_type": "code",
      "execution_count": null,
      "source": [
        "pipeline_cluster['model'].labels_"
      ],
      "outputs": [],
      "metadata": {
        "id": "OQ0Klt1phe8a"
      }
    },
    {
      "cell_type": "code",
      "execution_count": null,
      "source": [
        "pipeline_cluster['model'].labels_.shape"
      ],
      "outputs": [],
      "metadata": {
        "id": "11AZ1w3bhe8a"
      }
    },
    {
      "cell_type": "markdown",
      "source": [
        "## Add cluster labels to dataset"
      ],
      "metadata": {
        "id": "_Pdrt5bdKLDF"
      }
    },
    {
      "cell_type": "markdown",
      "source": [
        "We add a column \"Cluster\" to the data and check clusters distribution\n",
        "* Clusters don't look to be imbalanced"
      ],
      "metadata": {
        "id": "CdFwZk1ihe8b"
      }
    },
    {
      "cell_type": "code",
      "execution_count": null,
      "source": [
        "X['Clusters'] = pipeline_cluster['model'].labels_\n",
        "\n",
        "print(f\"* Clusters frequencies \\n{ X['Clusters'].value_counts(normalize=True).to_frame().round(2)} \\n\\n\")\n",
        "X['Clusters'].value_counts().sort_values().plot(kind='bar');"
      ],
      "outputs": [],
      "metadata": {
        "id": "wUwR8vCEhe8b"
      }
    },
    {
      "cell_type": "markdown",
      "source": [
        "## Compare current cluster labels to previous cluster labels"
      ],
      "metadata": {
        "id": "QUxjeMypKOUe"
      }
    },
    {
      "cell_type": "markdown",
      "source": [
        "We just fitted a new cluster pipeline and want to compare if its predictions are \"equivalent\" from the previous cluster"
      ],
      "metadata": {
        "id": "w6721kuGiII6"
      }
    },
    {
      "cell_type": "markdown",
      "source": [
        "These are the predictions from **previous** cluster pipeline "
      ],
      "metadata": {
        "id": "GAS2dDXQhe8c"
      }
    },
    {
      "cell_type": "code",
      "execution_count": null,
      "source": [
        "cluster_anwers_with_all_variables"
      ],
      "outputs": [],
      "metadata": {
        "id": "pbVaUAABhe8c"
      }
    },
    {
      "cell_type": "markdown",
      "source": [
        "And these are the predictions from **current** cluster pipeline (trained with `df_reduced`)"
      ],
      "metadata": {
        "id": "xUiHzLIwimaD"
      }
    },
    {
      "cell_type": "code",
      "execution_count": null,
      "source": [
        "cluster_anwers_with_major_variables = X['Clusters'] \n",
        "cluster_anwers_with_major_variables"
      ],
      "outputs": [],
      "metadata": {
        "id": "_kC7cKKCiwD5"
      }
    },
    {
      "cell_type": "markdown",
      "source": [
        "---"
      ],
      "metadata": {
        "id": "UgkF8MyyAjTF"
      }
    },
    {
      "cell_type": "markdown",
      "source": [
        "We use a confusion matrix to evaluate if the predictions of both pipelines are **\"equivalent\"**\n",
        "* We say equivalent in quotes, because we can't expect that a cluster label 0 in the previous cluster will have the same label in the current cluster. Eventually label 0 in previous cluster pipeline will be a different label in current cluster pipeline\n",
        "* When we reach this **equivalence**, it means both clusters \"clustered\" in a similar way but with different labels. And this is fine, since the label itself doesn't have meaning. We will look for the meaning after. "
      ],
      "metadata": {
        "id": "3Jt-2n1GidBa"
      }
    },
    {
      "cell_type": "code",
      "execution_count": null,
      "source": [
        "from sklearn.metrics import confusion_matrix\n",
        "print(confusion_matrix(cluster_anwers_with_all_variables,\n",
        "                       cluster_anwers_with_major_variables))"
      ],
      "outputs": [],
      "metadata": {
        "id": "tLy37N1TiiSx"
      }
    },
    {
      "cell_type": "markdown",
      "source": [
        "We see that one pipeline labeled 1526 observations as label 2 and other as label 0. \n",
        "  * So what is label 2 in the first, is label 0 in the second\n",
        "\n",
        "We also see one pipeline labeled 1674 observations as label 0 and other as label 2.\n",
        "  * So what is label 0 in one, is label 2 in the other\n",
        "  * We notice 146 data points were labelled as 0 in one, and a 1 in the other. This is fine, since is a minority compared to the 1674\n",
        "\n",
        "When you keep comparing you will notice:\n",
        "  * What is label 1 in one, is label 3 in the other\n",
        "  * What is label 3 is one, is label 1 in the other\n",
        "\n",
        "\n",
        "Conclusion\n",
        "* We see that both Clusters Pipelines are not predicting the data 100% equivalent, since few data points have different meaning for each pipeline. \n",
        "* However this is fine, and we say yes for this criteria. This is part of the trade-off we are up to."
      ],
      "metadata": {
        "id": "aXrL1GUnjz1t"
      }
    },
    {
      "cell_type": "markdown",
      "source": [
        "## Evaluate current Clusters silhouette"
      ],
      "metadata": {
        "id": "VXSU4Tk3mIBv"
      }
    },
    {
      "cell_type": "markdown",
      "source": [
        "* To evaluate clusters silhouete we need:\n",
        "  * data transformed (transform data in the pipeline wihout model step)\n",
        "  * clusters arrays"
      ],
      "metadata": {
        "id": "1Fwxo2fPmIB8"
      }
    },
    {
      "cell_type": "code",
      "execution_count": null,
      "source": [
        "pipeline_silhouette = Pipeline(pipeline_cluster.steps[:-1])\n",
        "df_transformed = pipeline_silhouette.transform(df_reduced)\n",
        "df_transformed"
      ],
      "outputs": [],
      "metadata": {
        "id": "1IupILQzmIB9"
      }
    },
    {
      "cell_type": "markdown",
      "source": [
        "Evaluate Cluster Silhouette"
      ],
      "metadata": {
        "id": "ozvP79HimICA"
      }
    },
    {
      "cell_type": "code",
      "execution_count": null,
      "source": [
        "EvaluateClusterSilhouette(\n",
        "    X=df_transformed,\n",
        "    n_clusters=X['Clusters'].nunique(),\n",
        "    cluster_labels=X['Clusters'].values)"
      ],
      "outputs": [],
      "metadata": {
        "id": "ohVwnguomICA"
      }
    },
    {
      "cell_type": "markdown",
      "source": [
        "The silhoutte score from both pipelines are similar! Now it has even increased a bit :)"
      ],
      "metadata": {
        "id": "h98ivtaamYAx"
      }
    },
    {
      "cell_type": "markdown",
      "source": [
        "## Rewrite ML Pipeline for a classifier to explain the clusters"
      ],
      "metadata": {
        "id": "fcPfalkwmomc"
      }
    },
    {
      "cell_type": "markdown",
      "source": [
        "We want again to explain the major variables for our clusters"
      ],
      "metadata": {
        "id": "cIcOSR42momd"
      }
    },
    {
      "cell_type": "markdown",
      "source": [
        "We copy `X` to a DataFrame `df_clf`, just to separate the concerns"
      ],
      "metadata": {
        "id": "7ZClC5E5mome"
      }
    },
    {
      "cell_type": "code",
      "execution_count": null,
      "source": [
        "df_clf = X.copy()\n",
        "print(df_clf.shape)\n",
        "df_clf.head(3)"
      ],
      "outputs": [],
      "metadata": {
        "id": "_XoL6tuRmomf"
      }
    },
    {
      "cell_type": "markdown",
      "source": [
        "Split Train and Test sets"
      ],
      "metadata": {
        "id": "PSfwpL-Fmomf"
      }
    },
    {
      "cell_type": "code",
      "execution_count": null,
      "source": [
        "from sklearn.model_selection import train_test_split\n",
        "\n",
        "X_train, X_test,y_train, y_test = train_test_split(\n",
        "                                    df_clf.drop(['Clusters'],axis=1),\n",
        "                                    df_clf['Clusters'],\n",
        "                                    test_size=0.2,\n",
        "                                    random_state=0\n",
        "                                    )\n",
        "\n",
        "print(X_train.shape, X_test.shape)"
      ],
      "outputs": [],
      "metadata": {
        "id": "sPyXs27Kmomf"
      }
    },
    {
      "cell_type": "markdown",
      "source": [
        "Rewrite pipeline to explain clusters"
      ],
      "metadata": {
        "id": "0W-cV2ts8A_N"
      }
    },
    {
      "cell_type": "code",
      "execution_count": null,
      "source": [
        "def PipelineClf2ExplainClusters():\n",
        "   pipe = PipelineDataCleaningAndFeatureEngineering()\n",
        "   # no feature selection step\n",
        "   pipe.steps.append([\"scaler\",StandardScaler()])\n",
        "   pipe.steps.append([\"model\",GradientBoostingClassifier(random_state=0)])\n",
        "   return pipe"
      ],
      "outputs": [],
      "metadata": {
        "id": "Lm63GRYP8BIV"
      }
    },
    {
      "cell_type": "markdown",
      "source": [
        "Create pipeline"
      ],
      "metadata": {
        "id": "zU6mwsFYmomg"
      }
    },
    {
      "cell_type": "code",
      "execution_count": null,
      "source": [
        "pipeline_clf_cluster = PipelineClf2ExplainClusters()\n",
        "pipeline_clf_cluster"
      ],
      "outputs": [],
      "metadata": {
        "id": "w3liI7qjmomg"
      }
    },
    {
      "cell_type": "markdown",
      "source": [
        "## Fit a classifier, where target is cluster labels and features remaining variables"
      ],
      "metadata": {
        "id": "lkaBhgjOmomg"
      }
    },
    {
      "cell_type": "code",
      "execution_count": null,
      "source": [
        "pipeline_clf_cluster.fit(X_train,y_train)"
      ],
      "outputs": [],
      "metadata": {
        "id": "fbmUqfhjmomg"
      }
    },
    {
      "cell_type": "markdown",
      "source": [
        "## Evaluate classifier performance on Train and Test Sets"
      ],
      "metadata": {
        "id": "6hCk6Swrmomh"
      }
    },
    {
      "cell_type": "code",
      "execution_count": null,
      "source": [
        "from sklearn.metrics import classification_report\n",
        "print(classification_report(y_train, pipeline_clf_cluster.predict(X_train)))"
      ],
      "outputs": [],
      "metadata": {
        "id": "ZjXpF0x8momh"
      }
    },
    {
      "cell_type": "code",
      "execution_count": null,
      "source": [
        "print(classification_report(y_test, pipeline_clf_cluster.predict(X_test)))"
      ],
      "outputs": [],
      "metadata": {
        "id": "l-Obn_Hcmomh"
      }
    },
    {
      "cell_type": "markdown",
      "source": [
        "The performance on Train and Test sets are similar, comparing to the previous pipeline! :)"
      ],
      "metadata": {
        "id": "X-KlCS6MnBLk"
      }
    },
    {
      "cell_type": "markdown",
      "source": [
        "## Assess Most Important Features"
      ],
      "metadata": {
        "id": "G07251XWmomh"
      }
    },
    {
      "cell_type": "markdown",
      "source": [
        "They help the most to define a cluster, compare with previous pipeline\n"
      ],
      "metadata": {
        "id": "BE0E0QkbKv-Z"
      }
    },
    {
      "cell_type": "code",
      "execution_count": null,
      "source": [
        "best_features = X_train.columns.to_list()\n",
        "\n",
        "# create DataFrame to display feature importance\n",
        "df_feature_importance = (pd.DataFrame(data={\n",
        "    'Attribute': X_train.columns,\n",
        "    'Importance': pipeline_clf_cluster['model'].feature_importances_})\n",
        ".sort_values(by='Importance', ascending=False)\n",
        ")\n",
        "\n",
        "best_features = df_feature_importance['Attribute'].to_list()\n",
        "\n",
        "# Most important features statement and plot\n",
        "print(f\"* These are the {len(best_features)} most important features in descending order. \"\n",
        "      f\"The model was trained on them: \\n{df_feature_importance['Attribute'].to_list()}\")\n",
        "\n",
        "df_feature_importance.plot(kind='bar',x='Attribute',y='Importance')\n",
        "plt.show()"
      ],
      "outputs": [],
      "metadata": {
        "id": "IMTUNBYN8fyf"
      }
    },
    {
      "cell_type": "markdown",
      "source": [
        "The most relevant variables, in descending order, to explain the cluster from the previous pipeline are"
      ],
      "metadata": {
        "id": "VtVUleNhndTp"
      }
    },
    {
      "cell_type": "code",
      "execution_count": null,
      "source": [
        "best_features"
      ],
      "outputs": [],
      "metadata": {
        "id": "Fuud7SmsnjB9"
      }
    },
    {
      "cell_type": "markdown",
      "source": [
        "We noticed the features importance order are the same from the previous cluster pipeline :)"
      ],
      "metadata": {
        "id": "F47JdIk6njMV"
      }
    },
    {
      "cell_type": "markdown",
      "source": [
        "## Cluster Analysis"
      ],
      "metadata": {
        "id": "9q1TJSqdI6xK"
      }
    },
    {
      "cell_type": "markdown",
      "source": [
        "We will study the profile for the main variables that define a cluster\n"
      ],
      "metadata": {
        "id": "C8EMIqE5I6xP"
      }
    },
    {
      "cell_type": "code",
      "execution_count": null,
      "source": [
        "df_cluster_profile = df_clf.copy()\n",
        "df_cluster_profile = df_cluster_profile.filter(items=best_features + ['Clusters'], axis=1)\n",
        "df_cluster_profile.head(3)"
      ],
      "outputs": [],
      "metadata": {
        "id": "TEg92vdnI6xP"
      }
    },
    {
      "cell_type": "markdown",
      "source": [
        "Load Churn levels"
      ],
      "metadata": {
        "id": "789CeA0WI6xQ"
      }
    },
    {
      "cell_type": "code",
      "execution_count": null,
      "source": [
        "df_churn = pd.read_csv(\"outputs/datasets/collection/TelcoCustomerChurn.csv\").filter(['Churn'])\n",
        "df_churn['Churn'] = df_churn['Churn'].astype('object')\n",
        "df_churn.head(3)"
      ],
      "outputs": [],
      "metadata": {
        "id": "Nx335aqtI6xR"
      }
    },
    {
      "cell_type": "markdown",
      "source": [
        "### Cluster profile on most important features"
      ],
      "metadata": {
        "id": "f-7jYzhtI6xR"
      }
    },
    {
      "cell_type": "markdown",
      "source": [
        "Considering `df_cluster_profile` and `df_churn`"
      ],
      "metadata": {
        "id": "7Yi0fwrTI6xR"
      }
    },
    {
      "cell_type": "code",
      "execution_count": null,
      "source": [
        "pd.set_option('display.max_colwidth', None)\n",
        "clusters_profile = DescriptionAllClusters(pd.concat([df_cluster_profile,df_churn], axis=1))\n",
        "clusters_profile"
      ],
      "outputs": [],
      "metadata": {
        "id": "urBmw5HJI6xS"
      }
    },
    {
      "cell_type": "markdown",
      "source": [
        "### Clusters distribution across Churn levels & Relative Percentage of Churn in each cluster"
      ],
      "metadata": {
        "id": "LDJRuBBgI6xS"
      }
    },
    {
      "cell_type": "code",
      "execution_count": null,
      "source": [
        "df_cluster_vs_churn=  df_churn.copy()\n",
        "df_cluster_vs_churn['Clusters'] = X['Clusters']\n",
        "cluster_distribution_per_variable(df=df_cluster_vs_churn, target='Churn')"
      ],
      "outputs": [],
      "metadata": {
        "id": "ZjMnAqYKI6xS"
      }
    },
    {
      "cell_type": "markdown",
      "source": [
        "## Which pipeline should I keep?"
      ],
      "metadata": {
        "id": "4xhPLbC4dwXL"
      }
    },
    {
      "cell_type": "markdown",
      "source": [
        "Let's recap the criteria we consider to evaluate the **trade-off**\n",
        "1. Conduct a PCA analysis, with the same amount of components from previous study, in a dataset only with `best_features_pipeline_all_variables` and see if all variables are relevant\n",
        "2. Conduct a elbow study and check if the same number of clusters is suggested\n",
        "3. Fit new cluster pipeline and compare if the both clusters predictions are \"equivalent\"\n",
        "4. Compare silhoutte score\n",
        "5. Fit a classifier to explain cluster, and check if performance on Train and Test sets is similar\n",
        "6. Check if the most important features for the classifier are the same.\n",
        "7. Compare if the cluster profile from both cases are \"equivalent\""
      ],
      "metadata": {
        "id": "-8qASh5k1jph"
      }
    },
    {
      "cell_type": "markdown",
      "source": [
        "We are happy with all criteria above for the new Cluster Pipeline\n",
        "\n",
        "\n",
        "Now we face a moment of trade-off, where there is no 100% right or wrong decision, it is more a contextual decision\n",
        "* All 7 criteria support the second pipeline. In addition, there is a great gain to have less variables for predicting live data\n",
        "* Therefore we have positive evidence to take the pipeline with less variables"
      ],
      "metadata": {
        "id": "hPbS7JYN101K"
      }
    },
    {
      "cell_type": "code",
      "execution_count": null,
      "source": [
        "pipeline_cluster"
      ],
      "outputs": [],
      "metadata": {
        "id": "a4HsuSuqd0g_"
      }
    },
    {
      "cell_type": "markdown",
      "source": [
        "# Push files to Repo"
      ],
      "metadata": {
        "id": "4zxpjktKd1n6"
      }
    },
    {
      "cell_type": "markdown",
      "source": [
        "\n",
        "We will generate the following files\n",
        "\n",
        "* Cluster Pipeline\n",
        "* Train Set\n",
        "* Feature importance plot\n",
        "* Clusters Description\n",
        "* Cluster Silhouette\n"
      ],
      "metadata": {
        "id": "5i9X1oOORAQc"
      }
    },
    {
      "cell_type": "code",
      "execution_count": null,
      "source": [
        "import joblib\n",
        "import os\n",
        "\n",
        "version = 'v1'\n",
        "file_path = f'outputs/ml_pipeline/cluster_analysis/{version}'\n",
        "\n",
        "try:\n",
        "  os.makedirs(name=file_path)\n",
        "except Exception as e:\n",
        "  print(e)"
      ],
      "outputs": [],
      "metadata": {
        "id": "5ySBIrV1Q4cY"
      }
    },
    {
      "cell_type": "markdown",
      "source": [
        "## Cluster pipeline"
      ],
      "metadata": {
        "id": "6y9-0fisd5cl"
      }
    },
    {
      "cell_type": "code",
      "execution_count": null,
      "source": [
        "pipeline_cluster"
      ],
      "outputs": [],
      "metadata": {
        "id": "Xfv9k5xMd7fv"
      }
    },
    {
      "cell_type": "code",
      "execution_count": null,
      "source": [
        "joblib.dump(value=pipeline_cluster ,\n",
        "            filename=f\"{file_path}/cluster_pipeline.pkl\")"
      ],
      "outputs": [],
      "metadata": {
        "id": "IsphnIR84hJ4"
      }
    },
    {
      "cell_type": "markdown",
      "source": [
        "## Train Set"
      ],
      "metadata": {
        "id": "_ORnkwG6d74O"
      }
    },
    {
      "cell_type": "code",
      "execution_count": null,
      "source": [
        "print(df_reduced.shape)\n",
        "df_reduced.head(3)"
      ],
      "outputs": [],
      "metadata": {
        "id": "QqcwHaVwd9Ff"
      }
    },
    {
      "cell_type": "code",
      "execution_count": null,
      "source": [
        "df_reduced.to_csv(f\"{file_path}/TrainSet.csv\", index=False)"
      ],
      "outputs": [],
      "metadata": {
        "id": "M26MiJ9Y485Q"
      }
    },
    {
      "cell_type": "markdown",
      "source": [
        "## Most important features plot"
      ],
      "metadata": {
        "id": "eX_lcQVXaV0p"
      }
    },
    {
      "cell_type": "markdown",
      "source": [
        "These are the features that define a cluster"
      ],
      "metadata": {
        "id": "o9datNfsLCVV"
      }
    },
    {
      "cell_type": "code",
      "execution_count": null,
      "source": [
        "df_feature_importance.plot(kind='bar',x='Attribute',y='Importance')\n",
        "plt.show()"
      ],
      "outputs": [],
      "metadata": {
        "id": "FYeoH7fjaV8J"
      }
    },
    {
      "cell_type": "code",
      "execution_count": null,
      "source": [
        "df_feature_importance.plot(kind='bar',x='Attribute',y='Importance')\n",
        "plt.savefig(f\"{file_path}/features_define_cluster.png\", bbox_inches='tight')"
      ],
      "outputs": [],
      "metadata": {
        "id": "sr0cVVQsaZqk"
      }
    },
    {
      "cell_type": "markdown",
      "source": [
        "## Cluster Profile"
      ],
      "metadata": {
        "id": "GX3Z5ivNd9mw"
      }
    },
    {
      "cell_type": "code",
      "execution_count": null,
      "source": [
        "clusters_profile"
      ],
      "outputs": [],
      "metadata": {
        "id": "tw-mEnI8d_Bv"
      }
    },
    {
      "cell_type": "code",
      "execution_count": null,
      "source": [
        "clusters_profile.to_csv(f\"{file_path}/clusters_profile.csv\")"
      ],
      "outputs": [],
      "metadata": {
        "id": "7G5CsAl738p7"
      }
    },
    {
      "cell_type": "markdown",
      "source": [
        "## Cluster silhouette plot"
      ],
      "metadata": {
        "id": "RObeac1HQq5a"
      }
    },
    {
      "cell_type": "code",
      "execution_count": null,
      "source": [
        "plot_clusters_silhouette(\n",
        "    X=df_transformed,\n",
        "    n_clusters=X['Clusters'].nunique(),\n",
        "    cluster_labels=X['Clusters'].values)\n",
        "plt.show()"
      ],
      "outputs": [],
      "metadata": {
        "id": "kf6p3MN-R7Qc"
      }
    },
    {
      "cell_type": "code",
      "execution_count": null,
      "source": [
        "fig = plot_clusters_silhouette(\n",
        "    X=df_transformed,\n",
        "    n_clusters=X['Clusters'].nunique(),\n",
        "    cluster_labels=X['Clusters'].values)\n",
        "\n",
        "plt.savefig(f\"{file_path}/clusters_silhouette.png\", bbox_inches='tight')"
      ],
      "outputs": [],
      "metadata": {
        "id": "AQowyaTAQssB"
      }
    },
    {
      "cell_type": "markdown",
      "source": [
        "---"
      ],
      "metadata": {
        "id": "fDr9NoI7LLKF"
      }
    },
    {
      "cell_type": "markdown",
      "source": [
        "## **Push** generated/new files from this Session to GitHub repo"
      ],
      "metadata": {
        "id": "257gMsNhiuM3"
      }
    },
    {
      "cell_type": "markdown",
      "source": [
        "You can push the files now to the Repo!!!!"
      ],
      "metadata": {
        "id": "sBtt-lvYLLi8"
      }
    },
    {
      "cell_type": "markdown",
      "source": [
        "* Git status"
      ],
      "metadata": {
        "id": "FUla5863TKyk"
      }
    },
    {
      "cell_type": "code",
      "execution_count": null,
      "source": [
        "! git status"
      ],
      "outputs": [],
      "metadata": {
        "id": "NzjZgWV-TMOB"
      }
    },
    {
      "cell_type": "markdown",
      "source": [
        "* Git commit"
      ],
      "metadata": {
        "id": "lH_xeleqiuM4"
      }
    },
    {
      "cell_type": "code",
      "execution_count": null,
      "source": [
        "CommitMsg = \"added-files-cluster-analysis\"\n",
        "! git add .\n",
        "! git commit -m {CommitMsg}"
      ],
      "outputs": [],
      "metadata": {
        "id": "VpFefbLXiuM4"
      }
    },
    {
      "cell_type": "markdown",
      "source": [
        "* Git Push"
      ],
      "metadata": {
        "id": "msFKrJ6fiuM5"
      }
    },
    {
      "cell_type": "code",
      "execution_count": null,
      "source": [
        "! git push origin main"
      ],
      "outputs": [],
      "metadata": {
        "id": "QZxYGf_yiuM5"
      }
    },
    {
      "cell_type": "markdown",
      "source": [
        "Good job, now save the notebook in your repo and terminate the session (Runtime - Manage Session - Terminate)"
      ],
      "metadata": {
        "id": "TeIEUrWkJ-6_"
      }
    }
  ]
}