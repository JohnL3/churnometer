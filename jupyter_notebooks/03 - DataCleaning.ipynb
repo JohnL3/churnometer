{
  "nbformat": 4,
  "nbformat_minor": 2,
  "metadata": {
    "orig_nbformat": 2,
    "colab": {
      "name": "Data Practitioner Jupyter Notebook.ipynb",
      "provenance": []
    },
    "language_info": {
      "name": "python",
      "version": "3.8.12",
      "mimetype": "text/x-python",
      "codemirror_mode": {
        "name": "ipython",
        "version": 3
      },
      "pygments_lexer": "ipython3",
      "nbconvert_exporter": "python",
      "file_extension": ".py"
    },
    "kernelspec": {
      "name": "python3",
      "display_name": "Python 3.8.12 64-bit ('3.8.12': pyenv)"
    },
    "accelerator": "GPU",
    "interpreter": {
      "hash": "625c31d6b4db3d7e7e2853cc30dc2062e1cda684f3e49d5f899ae496ae755fe0"
    }
  },
  "cells": [
    {
      "cell_type": "markdown",
      "source": [
        "# Data Cleaning Notebook"
      ],
      "metadata": {
        "id": "0aStgWSO0E0E"
      }
    },
    {
      "cell_type": "markdown",
      "source": [
        "## Objectives\n",
        "\n",
        "*   Evaluate missing data\n",
        "*   Clean data\n",
        "\n",
        "## Inputs\n",
        "\n",
        "* outputs/datasets/collection/TelcoCustomerChurn.csv\n",
        "\n",
        "## Outputs\n",
        "\n",
        "* Generate cleaned Train and Test sets, both saved under outputs/datasets/cleaned\n",
        "\n",
        "## Conclusions\n",
        "\n",
        " \n",
        "  * Data Cleaning Pipeline\n",
        "  * Drop Variables:  `['customerID', 'TotalCharges' ]`\n",
        "\n"
      ],
      "metadata": {
        "id": "1eLEkw5O0ECa"
      }
    },
    {
      "cell_type": "markdown",
      "source": [
        "---\n"
      ],
      "metadata": {
        "id": "kspgyffxear-"
      }
    },
    {
      "cell_type": "markdown",
      "source": [
        "# Change working directory"
      ],
      "metadata": {}
    },
    {
      "cell_type": "markdown",
      "source": [
        "We need to change the working directory from its current folder to its parent folder\n",
        "* We access the current directory with os.getcwd()"
      ],
      "metadata": {}
    },
    {
      "cell_type": "code",
      "execution_count": 1,
      "source": [
        "import os\n",
        "current_dir = os.getcwd()\n",
        "current_dir"
      ],
      "outputs": [
        {
          "output_type": "execute_result",
          "data": {
            "text/plain": [
              "'/workspace/churnometer/jupyter_notebooks'"
            ]
          },
          "metadata": {},
          "execution_count": 1
        }
      ],
      "metadata": {}
    },
    {
      "cell_type": "markdown",
      "source": [
        "We want to make the parent of current directory the new current directory\n",
        "* os.path.dirname() gets the parent directory\n",
        "* os.chir() defines the new current directory"
      ],
      "metadata": {}
    },
    {
      "cell_type": "code",
      "execution_count": 2,
      "source": [
        "os.chdir(os.path.dirname(current_dir))\n",
        "print(\"You set a new current directory\")"
      ],
      "outputs": [
        {
          "output_type": "stream",
          "name": "stdout",
          "text": [
            "You set a new current directory\n"
          ]
        }
      ],
      "metadata": {}
    },
    {
      "cell_type": "markdown",
      "source": [
        "Confirm the new current directory"
      ],
      "metadata": {}
    },
    {
      "cell_type": "code",
      "execution_count": 3,
      "source": [
        "current_dir = os.getcwd()\n",
        "current_dir"
      ],
      "outputs": [
        {
          "output_type": "execute_result",
          "data": {
            "text/plain": [
              "'/workspace/churnometer'"
            ]
          },
          "metadata": {},
          "execution_count": 3
        }
      ],
      "metadata": {}
    },
    {
      "cell_type": "markdown",
      "source": [
        "---"
      ],
      "metadata": {
        "id": "_tdAGw4Zwssu"
      }
    },
    {
      "cell_type": "markdown",
      "source": [
        "# Load Collected data"
      ],
      "metadata": {
        "id": "-mavJ8DibrcQ"
      }
    },
    {
      "cell_type": "code",
      "execution_count": 27,
      "source": [
        "import pandas as pd\n",
        "df_raw_path = \"outputs/datasets/collection/TelcoCustomerChurn.csv\"\n",
        "df = pd.read_csv(df_raw_path)\n",
        "df.info()"
      ],
      "outputs": [
        {
          "output_type": "stream",
          "name": "stdout",
          "text": [
            "<class 'pandas.core.frame.DataFrame'>\n",
            "RangeIndex: 7043 entries, 0 to 7042\n",
            "Data columns (total 21 columns):\n",
            " #   Column            Non-Null Count  Dtype  \n",
            "---  ------            --------------  -----  \n",
            " 0   customerID        7043 non-null   object \n",
            " 1   gender            7043 non-null   object \n",
            " 2   SeniorCitizen     7043 non-null   int64  \n",
            " 3   Partner           7043 non-null   object \n",
            " 4   Dependents        7043 non-null   object \n",
            " 5   tenure            7043 non-null   int64  \n",
            " 6   PhoneService      7043 non-null   object \n",
            " 7   MultipleLines     7043 non-null   object \n",
            " 8   InternetService   7043 non-null   object \n",
            " 9   OnlineSecurity    7043 non-null   object \n",
            " 10  OnlineBackup      7043 non-null   object \n",
            " 11  DeviceProtection  7043 non-null   object \n",
            " 12  TechSupport       7043 non-null   object \n",
            " 13  StreamingTV       7043 non-null   object \n",
            " 14  StreamingMovies   7043 non-null   object \n",
            " 15  Contract          7043 non-null   object \n",
            " 16  PaperlessBilling  7043 non-null   object \n",
            " 17  PaymentMethod     7043 non-null   object \n",
            " 18  MonthlyCharges    7043 non-null   float64\n",
            " 19  TotalCharges      7032 non-null   float64\n",
            " 20  Churn             7043 non-null   int64  \n",
            "dtypes: float64(2), int64(3), object(16)\n",
            "memory usage: 1.1+ MB\n"
          ]
        }
      ],
      "metadata": {
        "id": "C2ELZj83tF1g",
        "colab": {
          "base_uri": "https://localhost:8080/"
        },
        "outputId": "d51e2567-7f6c-4200-b9c2-d4982d22e6fd"
      }
    },
    {
      "cell_type": "markdown",
      "source": [
        "# Pandas Profiling"
      ],
      "metadata": {
        "id": "Iue5e5GJ_vZg"
      }
    },
    {
      "cell_type": "markdown",
      "source": [
        "In Data Cleaning you are interested to check the distribution and shape from a variable with missing data\n",
        "* Create a spreadsheet at your Google Drive to list **potential approaches to handle missing data**!"
      ],
      "metadata": {
        "id": "QhWelcb_17dw"
      }
    },
    {
      "cell_type": "code",
      "execution_count": 28,
      "source": [
        "vars_with_missing_data = df.columns[df.isna().sum() > 0].to_list()\n",
        "vars_with_missing_data"
      ],
      "outputs": [
        {
          "output_type": "execute_result",
          "data": {
            "text/plain": [
              "['TotalCharges']"
            ]
          },
          "metadata": {},
          "execution_count": 28
        }
      ],
      "metadata": {}
    },
    {
      "cell_type": "code",
      "execution_count": 26,
      "source": [
        "from pandas_profiling import ProfileReport\n",
        "if vars_with_missing_data:\n",
        "    profile = ProfileReport(df=df[vars_with_missing_data], minimal=True)\n",
        "    profile.to_notebook_iframe()\n",
        "else:\n",
        "    print(\"There are no variables with missing data\")"
      ],
      "outputs": [
        {
          "output_type": "stream",
          "name": "stdout",
          "text": [
            "There are no variables with missing data\n"
          ]
        }
      ],
      "metadata": {
        "id": "oyi3gi2-_q1j"
      }
    },
    {
      "cell_type": "markdown",
      "source": [
        "# Correlation and PPS Analysis"
      ],
      "metadata": {
        "id": "LvwabO0JsmYW"
      }
    },
    {
      "cell_type": "code",
      "execution_count": null,
      "source": [
        "import numpy as np\n",
        "import matplotlib.pyplot as plt\n",
        "import seaborn as sns\n",
        "import ppscore as pps\n",
        "\n",
        "def heatmap_corr(df,threshold, figsize=(20,12), font_annot = 8):\n",
        "  if len(df.columns) > 1:\n",
        "    mask = np.zeros_like(df, dtype=np.bool)\n",
        "    mask[np.triu_indices_from(mask)] = True\n",
        "    mask[abs(df) < threshold] = True\n",
        "\n",
        "    fig, axes = plt.subplots(figsize=figsize)\n",
        "    sns.heatmap(df, annot=True, xticklabels=True, yticklabels=True,\n",
        "                mask=mask, cmap='viridis', annot_kws={\"size\": font_annot}, ax=axes,\n",
        "                linewidth=0.5\n",
        "                     )\n",
        "    axes.set_yticklabels(df.columns, rotation = 0)\n",
        "    plt.ylim(len(df.columns),0)\n",
        "    plt.show()\n",
        "\n",
        "\n",
        "def heatmap_pps(df,threshold, figsize=(20,12), font_annot = 8):\n",
        "    if len(df.columns) > 1:\n",
        "\n",
        "      mask = np.zeros_like(df, dtype=np.bool)\n",
        "      mask[abs(df) < threshold] = True\n",
        "\n",
        "      fig, ax = plt.subplots(figsize=figsize)\n",
        "      ax = sns.heatmap(df, annot=True, xticklabels=True,yticklabels=True,\n",
        "                       mask=mask,cmap='rocket_r', annot_kws={\"size\": font_annot},\n",
        "                       linewidth=0.05,linecolor='grey')\n",
        "      \n",
        "      plt.ylim(len(df.columns),0)\n",
        "      plt.show()\n",
        "\n",
        "\n",
        "\n",
        "def CalculateCorrAndPPS(df):\n",
        "  df_corr_spearman = df.corr(method=\"spearman\")\n",
        "  df_corr_pearson = df.corr(method=\"pearson\")\n",
        "\n",
        "  pps_matrix_raw = pps.matrix(df)\n",
        "  pps_matrix = pps_matrix_raw.filter(['x', 'y', 'ppscore']).pivot(columns='x', index='y', values='ppscore')\n",
        "\n",
        "  pps_score_stats = pps_matrix_raw.query(\"ppscore < 1\").filter(['ppscore']).describe().T\n",
        "  print(\"PPS threshold - check PPS score IQR to decide threshold for heatmap \\n\")\n",
        "  print(pps_score_stats.round(3))\n",
        "\n",
        "  return df_corr_pearson, df_corr_spearman, pps_matrix\n",
        "\n",
        "\n",
        "def DisplayCorrAndPPS(df_corr_pearson, df_corr_spearman, pps_matrix,CorrThreshold,PPS_Threshold,\n",
        "                      figsize=(20,12), font_annot=8 ):\n",
        "\n",
        "  print(\"\\n\")\n",
        "  print(\"* Analyze how the target variable for your ML models are correlated with other variables (features and target)\")\n",
        "  print(\"* Analyze multi colinearity, that is, how the features are correlated among themselves\")\n",
        "\n",
        "  print(\"\\n\")\n",
        "  print(\"*** Heatmap: Spearman Correlation ***\")\n",
        "  print(\"It evaluates monotonic relationship \\n\")\n",
        "  heatmap_corr(df=df_corr_spearman, threshold=CorrThreshold, figsize=figsize, font_annot=font_annot)\n",
        "\n",
        "  print(\"\\n\")\n",
        "  print(\"*** Heatmap: Pearson Correlation ***\")\n",
        "  print(\"It evaluates the linear relationship between two continuous variables \\n\")\n",
        "  heatmap_corr(df=df_corr_pearson, threshold=CorrThreshold, figsize=figsize, font_annot=font_annot)\n",
        "\n",
        "  print(\"\\n\")\n",
        "  print(\"*** Heatmap: Power Predictive Score (PPS) ***\")\n",
        "  print(f\"PPS detects linear or non-linear relationships between two columns.\\n\"\n",
        "        f\"The score ranges from 0 (no predictive power) to 1 (perfect predictive power) \\n\")\n",
        "  heatmap_pps(df=pps_matrix,threshold=PPS_Threshold, figsize=figsize, font_annot=font_annot)"
      ],
      "outputs": [],
      "metadata": {
        "id": "g6Zy_MglsmYo"
      }
    },
    {
      "cell_type": "markdown",
      "source": [
        "Calculate Correlations and Power Predictive Score"
      ],
      "metadata": {
        "id": "ryNo1VnXSK9K"
      }
    },
    {
      "cell_type": "code",
      "execution_count": null,
      "source": [
        "df_corr_pearson, df_corr_spearman, pps_matrix = CalculateCorrAndPPS(df)"
      ],
      "outputs": [],
      "metadata": {
        "id": "3_Z4SXf6GbED",
        "colab": {
          "base_uri": "https://localhost:8080/"
        },
        "outputId": "6978dbde-ebb0-4023-af6c-b6f896ced798"
      }
    },
    {
      "cell_type": "markdown",
      "source": [
        "Display at Heatmaps"
      ],
      "metadata": {
        "id": "cJ-0L4PiSPEK"
      }
    },
    {
      "cell_type": "code",
      "execution_count": null,
      "source": [
        "DisplayCorrAndPPS(df_corr_pearson = df_corr_pearson,\n",
        "                  df_corr_spearman = df_corr_spearman, \n",
        "                  pps_matrix = pps_matrix,\n",
        "                  CorrThreshold = 0.4, PPS_Threshold =0.2,\n",
        "                  figsize=(12,10), font_annot=10)"
      ],
      "outputs": [],
      "metadata": {
        "id": "ioE3yuC4Q7QK",
        "colab": {
          "base_uri": "https://localhost:8080/",
          "height": 1000
        },
        "outputId": "1946ffa1-2e5d-4972-eeda-45d7fe382314"
      }
    },
    {
      "cell_type": "markdown",
      "source": [
        "# Data Cleaning"
      ],
      "metadata": {
        "id": "bYdZHyDhu4kG"
      }
    },
    {
      "cell_type": "markdown",
      "source": [
        "## Assessing Missing Data Levels"
      ],
      "metadata": {
        "id": "HxoVRefhu2Bk"
      }
    },
    {
      "cell_type": "markdown",
      "source": [
        "* Custom function to display missing data levels in a dataframe, it shows the aboslute levels, relative levels and data type"
      ],
      "metadata": {
        "id": "pcocWZkIx6nk"
      }
    },
    {
      "cell_type": "code",
      "execution_count": null,
      "source": [
        "def EvaluateMissingData(df):\n",
        "  missing_data_absolute = df.isnull().sum()\n",
        "  missing_data_percentage = round(missing_data_absolute/len(df)*100 , 2)\n",
        "  df_missing_data = (pd.DataFrame(\n",
        "                          data= {\"RowsWithMissingData\": missing_data_absolute,\n",
        "                                 \"PercentageOfDataset\": missing_data_percentage,\n",
        "                                 \"DataType\":df.dtypes}\n",
        "                                  )\n",
        "                    .sort_values(by=['PercentageOfDataset'],ascending=False)\n",
        "                    .query(\"PercentageOfDataset > 0\")\n",
        "                    )\n",
        "\n",
        "  return df_missing_data"
      ],
      "outputs": [],
      "metadata": {
        "id": "z9CoLqBhO7ga"
      }
    },
    {
      "cell_type": "markdown",
      "source": [
        "Check missing data levels for collected dataset"
      ],
      "metadata": {
        "id": "HHrzaG-ZhEKt"
      }
    },
    {
      "cell_type": "code",
      "execution_count": null,
      "source": [
        "EvaluateMissingData(df)"
      ],
      "outputs": [],
      "metadata": {
        "id": "zxvNnLAjxCSi",
        "colab": {
          "base_uri": "https://localhost:8080/",
          "height": 80
        },
        "outputId": "e6239998-21e1-4401-80de-e25c33bbba52"
      }
    },
    {
      "cell_type": "markdown",
      "source": [
        "## Data Cleaning Spreadsheet Summary"
      ],
      "metadata": {
        "id": "mWAI2EAp2FNM"
      }
    },
    {
      "cell_type": "markdown",
      "source": [
        "* Consider your spreadsheet notes on potential approaches to handle missing data\n"
      ],
      "metadata": {
        "id": "Pp-lSdVH-_-3"
      }
    },
    {
      "cell_type": "markdown",
      "source": [
        "## Dealing with Missing Data"
      ],
      "metadata": {
        "id": "nsL8yYQEyOSt"
      }
    },
    {
      "cell_type": "markdown",
      "source": [
        "\n",
        "* It is assumed that you  already:\n",
        "  * assessed the missing data levels, \n",
        "  * did a quick EDA, \n",
        "  * checked correlation (pearson, spearman),\n",
        "  * checked power predictive score.\n",
        "* So you are aware of the variables to work on\n",
        "\n",
        "---\n",
        "\n",
        "* **Strategy**\n",
        "* First, for all variables you need to imput missing data, write potential imputation approach for data cleaning.\n",
        "  * Over the course, you saw multiple approaches for dealing with missing data, like DropVariables, DropNA, Imput with mean/median/mode, Imput the most frequent item etc\n",
        "\n",
        "* Then, you will **iterate the steps below across different imputation approaches**, so at the end you will have dealt with all variables with missing data\n",
        "\n",
        "  * 1 -  Select a **imputation approach**\n",
        "  * 2 - Select **variables** to apply the approach\n",
        "  * 3 - Create a **separate dataframe** applying this imputation approach to the selected variables\n",
        "  * 4 - **Compare** this new dataset with initial dataset to validate/assess the effect on distribution on variables\n",
        "  * 5 - **If** you are satisfied, **apply** the selected imputation approach to the initial dataframe\n",
        "  * 6 - **Evaluate** if you have more variables to deal. If yes, iterate. If not, you are done.\n",
        "\n",
        "---"
      ],
      "metadata": {
        "id": "P_52ePITy6pQ"
      }
    },
    {
      "cell_type": "markdown",
      "source": [
        "This dataset doesn't require much data cleaning, therefore we are not loading the DataCleaningEffect() function we studied at feature-negine lesson\n",
        "* For your future projects, this would be a moment to load that function and to use over your data cleaning process\n",
        "* For this project, we are skipping this part"
      ],
      "metadata": {}
    },
    {
      "cell_type": "markdown",
      "source": [
        "### Data Cleaning Summary"
      ],
      "metadata": {
        "id": "Jt8Yqjy6ghyw"
      }
    },
    {
      "cell_type": "markdown",
      "source": [
        "List here data cleaning approaches you want initially to try.\n",
        "* Drop - TotalCharges\n",
        "\n",
        "\n",
        "**The list above is your guide, your map to know in which stage you are in the data cleaning process**"
      ],
      "metadata": {
        "id": "O4GaYe_DgqwT"
      }
    },
    {
      "cell_type": "markdown",
      "source": [
        "### Split Train and Test Set"
      ],
      "metadata": {
        "id": "W12Z8KIPoZ-8"
      }
    },
    {
      "cell_type": "code",
      "execution_count": null,
      "source": [
        "from sklearn.model_selection import train_test_split\n",
        "TrainSet, TestSet, _, __ = train_test_split(\n",
        "                                        df,\n",
        "                                        df['Churn'],\n",
        "                                        test_size=0.2,\n",
        "                                        random_state=0)\n",
        "\n",
        "print(f\"TrainSet shape: {TrainSet.shape} \\nTestSet shape: {TestSet.shape}\")"
      ],
      "outputs": [],
      "metadata": {
        "id": "Knk7DcVborLI",
        "colab": {
          "base_uri": "https://localhost:8080/"
        },
        "outputId": "049ef5f2-c431-4a9d-fd87-00809986c38d"
      }
    },
    {
      "cell_type": "code",
      "execution_count": null,
      "source": [
        "df_missing_data = EvaluateMissingData(TrainSet)\n",
        "print(f\"* There are {df_missing_data.shape[0]} variables with missing data \\n\")\n",
        "df_missing_data"
      ],
      "outputs": [],
      "metadata": {
        "id": "zdMPKBU_yCpF",
        "colab": {
          "base_uri": "https://localhost:8080/",
          "height": 115
        },
        "outputId": "df45adaf-5e93-4644-919f-6b82e51fe8b7"
      }
    },
    {
      "cell_type": "markdown",
      "source": [
        "### Drop Variables\n"
      ],
      "metadata": {
        "id": "EUeGUUmu4qru"
      }
    },
    {
      "cell_type": "markdown",
      "source": [
        "* Hint: you may drop Variables with more than 80% of missing data, since these variables will likely not add much value. However, this is not the case in this dataset\n",
        "* Step 1: imputation approach: **Drop Variables**\n",
        "* Step 2: Select variables to apply the imputation approach\n"
      ],
      "metadata": {
        "id": "cLTFTio14qr8"
      }
    },
    {
      "cell_type": "code",
      "execution_count": null,
      "source": [
        "variables_method = ['customerID', 'TotalCharges' ]\n",
        "\n",
        "print(f\"* {len(variables_method)} variables to drop \\n\\n\"\n",
        "    f\"{variables_method}\")\n"
      ],
      "outputs": [],
      "metadata": {
        "id": "zlQBeLo44qr8",
        "colab": {
          "base_uri": "https://localhost:8080/"
        },
        "outputId": "6a342431-6be3-48fa-ce83-ed00489d960c"
      }
    },
    {
      "cell_type": "markdown",
      "source": [
        "* We are dropping `CustomerID`, since it is a unique identifier to each customer, it doesn't add information to the dataset as it is\n",
        "* We are dropping `TotalCharges` since for the context of the ML projects, a prospect doesn't have `TotalCharges`"
      ],
      "metadata": {
        "id": "h1kKajldGrqF"
      }
    },
    {
      "cell_type": "markdown",
      "source": [
        "* Step 3: Create a separate dataframe applying this imputation approach to the selected variables"
      ],
      "metadata": {
        "id": "7au_UdA34qr9"
      }
    },
    {
      "cell_type": "code",
      "execution_count": null,
      "source": [
        "from feature_engine.selection import DropFeatures\n",
        "imputer = DropFeatures(features_to_drop=variables_method)\n",
        "imputer.fit(TrainSet)\n",
        "df_method = imputer.transform(TrainSet)"
      ],
      "outputs": [],
      "metadata": {
        "id": "Zh9E2cEe4qr9"
      }
    },
    {
      "cell_type": "markdown",
      "source": [
        "* Step 4: Assess the effect on variable's distribution"
      ],
      "metadata": {
        "id": "fsjRXMlU4qr9"
      }
    },
    {
      "cell_type": "markdown",
      "source": [
        "* In this case, no effect on variables distribution, since you are not removing rows, but columns\n",
        "* The effect might be losing features that might have a relevant impact in your machine learning model."
      ],
      "metadata": {
        "id": "zc9pg4ww_BO-"
      }
    },
    {
      "cell_type": "markdown",
      "source": [
        "* Step 5: If you are statisfied, apply the transformation in your data"
      ],
      "metadata": {
        "id": "uBq1a_Me4qr-"
      }
    },
    {
      "cell_type": "code",
      "execution_count": null,
      "source": [
        "from feature_engine.selection import DropFeatures\n",
        "imputer = DropFeatures(features_to_drop=variables_method)\n",
        "imputer.fit(TrainSet)\n",
        "\n",
        "TrainSet, TestSet = imputer.transform(TrainSet) , imputer.transform(TestSet)"
      ],
      "outputs": [],
      "metadata": {
        "id": "NGO5M1k44qr-"
      }
    },
    {
      "cell_type": "markdown",
      "source": [
        "* Step 6: Evaluate if you have more variables to deal. If yes, iterate. If not, you are done."
      ],
      "metadata": {
        "id": "LozxNCVO4qr_"
      }
    },
    {
      "cell_type": "code",
      "execution_count": null,
      "source": [
        "EvaluateMissingData(TrainSet)"
      ],
      "outputs": [],
      "metadata": {
        "id": "zGmZy46L4qr_",
        "colab": {
          "base_uri": "https://localhost:8080/",
          "height": 49
        },
        "outputId": "3597364f-19a3-42af-8d56-3bbcfe8675e4"
      }
    },
    {
      "cell_type": "markdown",
      "source": [
        "# Push cleaned data to Repo"
      ],
      "metadata": {
        "id": "eD--GI5Jvp8h"
      }
    },
    {
      "cell_type": "code",
      "execution_count": null,
      "source": [
        "import os\n",
        "try:\n",
        "  os.makedirs(name='outputs/datasets/cleaned') # create outputs/datasets/collection folder\n",
        "except Exception as e:\n",
        "  print(e)\n"
      ],
      "outputs": [],
      "metadata": {
        "id": "1SNWONrYwu6d"
      }
    },
    {
      "cell_type": "markdown",
      "source": [
        "## Train Set"
      ],
      "metadata": {
        "id": "TE3DQfy82r7I"
      }
    },
    {
      "cell_type": "code",
      "execution_count": null,
      "source": [
        "TrainSet.to_csv(\"outputs/datasets/cleaned/TrainSetCleaned.csv\",index=False)"
      ],
      "outputs": [],
      "metadata": {
        "id": "Q1ayKT4F2p52"
      }
    },
    {
      "cell_type": "markdown",
      "source": [
        "## Test Set"
      ],
      "metadata": {
        "id": "BTTabVk-2ulD"
      }
    },
    {
      "cell_type": "code",
      "execution_count": null,
      "source": [
        "TestSet.to_csv(\"outputs/datasets/cleaned/TestSetCleaned.csv\",index=False)"
      ],
      "outputs": [],
      "metadata": {
        "id": "zCjorYny2qCD"
      }
    },
    {
      "cell_type": "markdown",
      "source": [
        "Good job! Clear cell's outputs and move on to the next notebook."
      ],
      "metadata": {}
    },
    {
      "cell_type": "markdown",
      "source": [
        "Well done! You can now push the changes to your GitHub Repo, using the Git commands (git add, git commit, git push)"
      ],
      "metadata": {
        "id": "ZgNVNpuV6NV2"
      }
    }
  ]
}