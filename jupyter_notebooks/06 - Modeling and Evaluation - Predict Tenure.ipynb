{
  "nbformat": 4,
  "nbformat_minor": 2,
  "metadata": {
    "orig_nbformat": 2,
    "colab": {
      "name": "Modeling and Evaluation - Predict Tenure.ipynb",
      "provenance": []
    },
    "language_info": {
      "name": "python",
      "version": "3.8.12",
      "mimetype": "text/x-python",
      "codemirror_mode": {
        "name": "ipython",
        "version": 3
      },
      "pygments_lexer": "ipython3",
      "nbconvert_exporter": "python",
      "file_extension": ".py"
    },
    "kernelspec": {
      "name": "python3",
      "display_name": "Python 3.8.12 64-bit ('3.8.12': pyenv)"
    },
    "accelerator": "GPU",
    "interpreter": {
      "hash": "625c31d6b4db3d7e7e2853cc30dc2062e1cda684f3e49d5f899ae496ae755fe0"
    }
  },
  "cells": [
    {
      "cell_type": "markdown",
      "source": [
        "# Regression"
      ],
      "metadata": {
        "id": "0aStgWSO0E0E"
      }
    },
    {
      "cell_type": "markdown",
      "source": [
        "## Objectives\n",
        "\n",
        "*   Fit and evaluate a regression model to predict tenure levels for a prospect that will likely churn\n",
        "\n",
        "\n",
        "## Inputs\n",
        "\n",
        "* outputs/datasets/collection/TelcoCustomerChurn.csv\n",
        "* instructions on which variables to use for data cleaning and feature engineering. They are found on its respectives notebooks.\n",
        "\n",
        "## Outputs\n",
        "\n",
        "* Train set (features and target)\n",
        "* Test set (features and target)\n",
        "* ML pipeline to predict tenure\n",
        "* labels map\n",
        "* Feature Importance Plot\n",
        "\n"
      ],
      "metadata": {
        "id": "1eLEkw5O0ECa"
      }
    },
    {
      "cell_type": "markdown",
      "source": [
        "---"
      ],
      "metadata": {
        "id": "9uWZXH9LwoQg"
      }
    },
    {
      "cell_type": "markdown",
      "source": [
        "# Change working directory"
      ],
      "metadata": {}
    },
    {
      "cell_type": "markdown",
      "source": [
        "We need to change the working directory from its current folder to its parent folder\n",
        "* We access the current directory with os.getcwd()"
      ],
      "metadata": {}
    },
    {
      "cell_type": "code",
      "execution_count": null,
      "source": [
        "import os\n",
        "current_dir = os.getcwd()\n",
        "current_dir"
      ],
      "outputs": [],
      "metadata": {}
    },
    {
      "cell_type": "markdown",
      "source": [
        "We want to make the parent of the parent of current directory the new current directory\n",
        "* os.path.dirname() gets the parent directory\n",
        "* os.chir() defines the new current directory"
      ],
      "metadata": {}
    },
    {
      "cell_type": "code",
      "execution_count": null,
      "source": [
        "os.chdir(os.path.dirname(current_dir))\n",
        "print(\"You set a new current directory\")"
      ],
      "outputs": [],
      "metadata": {}
    },
    {
      "cell_type": "markdown",
      "source": [
        "Confirm the new current directory"
      ],
      "metadata": {}
    },
    {
      "cell_type": "code",
      "execution_count": null,
      "source": [
        "current_dir = os.getcwd()\n",
        "current_dir"
      ],
      "outputs": [],
      "metadata": {}
    },
    {
      "cell_type": "markdown",
      "source": [
        "---"
      ],
      "metadata": {
        "id": "pXKlJFX0iuM5"
      }
    },
    {
      "cell_type": "markdown",
      "source": [
        "# Load Data for Modelling"
      ],
      "metadata": {
        "id": "-mavJ8DibrcQ"
      }
    },
    {
      "cell_type": "code",
      "execution_count": null,
      "source": [
        "import numpy as np\n",
        "import pandas as pd\n",
        "df = (pd.read_csv(\"outputs/datasets/collection/TelcoCustomerChurn.csv\")\n",
        "      .query(\"Churn == 1\")  # subset churned customer\n",
        "      .drop(labels=['customerID','TotalCharges','Churn'],axis=1)  \n",
        "                    # variables we will not need for this project\n",
        "                    # we will not need Churn, since it is has only 1\n",
        "  )\n",
        "\n",
        "df.info()"
      ],
      "outputs": [],
      "metadata": {
        "id": "Xk7DU_ekbtX8"
      }
    },
    {
      "cell_type": "markdown",
      "source": [
        "# Regressor: Sklearn"
      ],
      "metadata": {
        "id": "krjAk78Tbyhv"
      }
    },
    {
      "cell_type": "markdown",
      "source": [
        "* In the ML Pipeline, we are using the raw data, therefore we need to create the pipeline with data cleaninig and feature engineering steps\n",
        "  * This pipeline will be used in the Train Set, Test Set and Live Data"
      ],
      "metadata": {
        "id": "wr9LUaOV08Su"
      }
    },
    {
      "cell_type": "markdown",
      "source": [
        "### ML pipeline for Data Cleaning and Feature Engineering"
      ],
      "metadata": {
        "id": "HzSg8Iwjl7dz"
      }
    },
    {
      "cell_type": "markdown",
      "source": [
        "Load Estimators"
      ],
      "metadata": {
        "id": "4MK_AHgh86Sc"
      }
    },
    {
      "cell_type": "code",
      "execution_count": null,
      "source": [
        "from sklearn.pipeline import Pipeline\n",
        "\n",
        "### Feature Engineering\n",
        "from feature_engine.encoding import OrdinalEncoder\n",
        "from feature_engine.selection import SmartCorrelatedSelection\n",
        "\n",
        "### Feat Scaling\n",
        "from sklearn.preprocessing import StandardScaler\n",
        "\n",
        "### Feat Selection\n",
        "from sklearn.feature_selection import SelectFromModel\n",
        "\n",
        "### ML algorithms \n",
        "from sklearn.tree import DecisionTreeRegressor\n",
        "from xgboost import XGBRegressor\n",
        "from sklearn.ensemble import GradientBoostingRegressor, RandomForestRegressor\n",
        "from sklearn.linear_model import LinearRegression\n",
        "from sklearn.ensemble import AdaBoostRegressor\n",
        "from sklearn.ensemble import ExtraTreesRegressor"
      ],
      "outputs": [],
      "metadata": {
        "id": "AFUD8ofWl7nm"
      }
    },
    {
      "cell_type": "markdown",
      "source": [
        " Pipeline for Data Cleaning and Feat Eng"
      ],
      "metadata": {
        "id": "fr0kimOaAjL6"
      }
    },
    {
      "cell_type": "code",
      "execution_count": null,
      "source": [
        "def PipelineDataCleaningAndFeatureEngineering():\n",
        "  pipeline_base = Pipeline(\n",
        "      [\n",
        "\n",
        "      (\"OrdinalCategoricalEncoder\",OrdinalEncoder(encoding_method='arbitrary', \n",
        "                                                  variables = [ 'gender', 'Partner', 'Dependents', 'PhoneService',\n",
        "                                                               'MultipleLines', 'InternetService', 'OnlineSecurity',\n",
        "                                                               'OnlineBackup','DeviceProtection', 'TechSupport', \n",
        "                                                               'StreamingTV', 'StreamingMovies','Contract', \n",
        "                                                               'PaperlessBilling', 'PaymentMethod']\n",
        "                                                  )\n",
        "      ),      \n",
        "       \n",
        "\n",
        "      (\"SmartCorrelatedSelection\",SmartCorrelatedSelection(variables=None, method=\"spearman\",\n",
        "                                                           threshold=0.6,selection_method=\"variance\")\n",
        "      ),\n",
        "       \n",
        "    ]\n",
        "  )\n",
        "\n",
        "  return pipeline_base"
      ],
      "outputs": [],
      "metadata": {
        "id": "C6keis6ao8LA"
      }
    },
    {
      "cell_type": "markdown",
      "source": [
        "## ML Pipeline for Modelling and Hyperparameter Optimization"
      ],
      "metadata": {
        "id": "TWTrFyxZWVar"
      }
    },
    {
      "cell_type": "markdown",
      "source": [
        "* Pipeline Optmization: Add Feature Scaling, Feature Selection and Model"
      ],
      "metadata": {
        "id": "hF9V5_ctHbO7"
      }
    },
    {
      "cell_type": "code",
      "execution_count": null,
      "source": [
        "def PipelineOptimization(model):\n",
        "  pipe = PipelineDataCleaningAndFeatureEngineering()\n",
        "  pipe.steps.append([\"scaler\", StandardScaler()])\n",
        "  pipe.steps.append([\"feat_selection\", SelectFromModel(model)])\n",
        "  pipe.steps.append([\"model\", model])\n",
        "  \n",
        "  return pipe"
      ],
      "outputs": [],
      "metadata": {
        "id": "h8lGTb0yHbZq"
      }
    },
    {
      "cell_type": "markdown",
      "source": [
        "Custom Class for hyperparameter Optimization"
      ],
      "metadata": {
        "id": "lDmjjF3tHuCU"
      }
    },
    {
      "cell_type": "code",
      "execution_count": null,
      "source": [
        "from sklearn.model_selection import GridSearchCV\n",
        "class HyperparameterOptimizationSearch:\n",
        "\n",
        "    def __init__(self, models, params):\n",
        "        self.models = models\n",
        "        self.params = params\n",
        "        self.keys = models.keys()\n",
        "        self.grid_searches = {}\n",
        "\n",
        "    def fit(self, X, y, cv, n_jobs, verbose=1, scoring=None, refit=False):\n",
        "        for key in self.keys:\n",
        "            print(f\"\\nRunning GridSearchCV for {key} \\n\")\n",
        "            model=  PipelineOptimization(self.models[key])\n",
        "\n",
        "            params = self.params[key]\n",
        "            gs = GridSearchCV(model, params, cv=cv, n_jobs=n_jobs, verbose=verbose, scoring=scoring)\n",
        "            gs.fit(X,y)\n",
        "            self.grid_searches[key] = gs    \n",
        "\n",
        "    def score_summary(self, sort_by='mean_score'):\n",
        "        def row(key, scores, params):\n",
        "            d = {\n",
        "                 'estimator': key,\n",
        "                 'min_score': min(scores),\n",
        "                 'max_score': max(scores),\n",
        "                 'mean_score': np.mean(scores),\n",
        "                 'std_score': np.std(scores),\n",
        "            }\n",
        "            return pd.Series({**params,**d})\n",
        "\n",
        "        rows = []\n",
        "        for k in self.grid_searches:\n",
        "            params = self.grid_searches[k].cv_results_['params']\n",
        "            scores = []\n",
        "            for i in range(self.grid_searches[k].cv):\n",
        "                key = \"split{}_test_score\".format(i)\n",
        "                r = self.grid_searches[k].cv_results_[key]        \n",
        "                scores.append(r.reshape(len(params),1))\n",
        "\n",
        "            all_scores = np.hstack(scores)\n",
        "            for p, s in zip(params,all_scores):\n",
        "                rows.append((row(k, s, p)))\n",
        "\n",
        "        df = pd.concat(rows, axis=1).T.sort_values([sort_by], ascending=False)\n",
        "\n",
        "        columns = ['estimator', 'min_score', 'mean_score', 'max_score', 'std_score']\n",
        "        columns = columns + [c for c in df.columns if c not in columns]\n",
        "\n",
        "        return df[columns], self.grid_searches\n"
      ],
      "outputs": [],
      "metadata": {
        "id": "NpTcVDtQ5RMc"
      }
    },
    {
      "cell_type": "markdown",
      "source": [
        "## Split Train Test Set"
      ],
      "metadata": {
        "id": "LD6B3CuhiDMT"
      }
    },
    {
      "cell_type": "markdown",
      "source": [
        "Quick recap in our raw dataset"
      ],
      "metadata": {
        "id": "kpxaylKk-6CQ"
      }
    },
    {
      "cell_type": "code",
      "execution_count": null,
      "source": [
        "print(df.shape)\n",
        "df.head(3)"
      ],
      "outputs": [],
      "metadata": {
        "id": "zfKHc63v-6Zm"
      }
    },
    {
      "cell_type": "markdown",
      "source": [
        "Split Train and Test Set"
      ],
      "metadata": {
        "id": "Gs6mDnoDhzwj"
      }
    },
    {
      "cell_type": "code",
      "execution_count": null,
      "source": [
        "from sklearn.model_selection import train_test_split\n",
        "X_train, X_test,y_train, y_test = train_test_split(\n",
        "                                    df.drop(['tenure'],axis=1),\n",
        "                                    df['tenure'],\n",
        "                                    test_size=0.2,\n",
        "                                    random_state=0\n",
        "                                    )\n",
        "\n",
        "print(\"* Train set:\", X_train.shape, y_train.shape, \"\\n* Test set:\",  X_test.shape, y_test.shape)"
      ],
      "outputs": [],
      "metadata": {
        "id": "-pFzP2iGiIk1"
      }
    },
    {
      "cell_type": "markdown",
      "source": [
        "## Target Distribution Analysis"
      ],
      "metadata": {
        "id": "j285uIq1f3h3"
      }
    },
    {
      "cell_type": "code",
      "execution_count": null,
      "source": [
        "import seaborn as sns\n",
        "import matplotlib.pyplot as plt\n",
        "sns.set_style(\"whitegrid\")\n",
        "\n",
        "def Target_DistributionAndStats(y_train,y_test):\n",
        "\n",
        "  figure, ax = plt.subplots(nrows=1, ncols=2,figsize=(12,3))\n",
        "  sns.histplot(x=y_train, kde=True,ax=ax[0]).set(title='y train')\n",
        "  sns.histplot(x=y_test, kde=True,ax=ax[1]).set(title='y test')\n",
        "  plt.show()\n",
        "\n",
        "  print(\"\\n* Train set - target descriptive stats: \\n\", y_train.describe().to_frame().round(3))\n",
        "  print(f\"\\n* Train set skewness: {y_train.skew().round(3)}, and kurtosis: {y_train.kurt().round(3)} \\n\\n\")"
      ],
      "outputs": [],
      "metadata": {
        "id": "Q0IYJz0uf2CT"
      }
    },
    {
      "cell_type": "code",
      "execution_count": null,
      "source": [
        "Target_DistributionAndStats(y_train, y_test)"
      ],
      "outputs": [],
      "metadata": {
        "id": "Z4TsdEhkhlht"
      }
    },
    {
      "cell_type": "markdown",
      "source": [
        "Target Transformation"
      ],
      "metadata": {
        "id": "IUSDkpgSnNed"
      }
    },
    {
      "cell_type": "code",
      "execution_count": null,
      "source": [
        "import sklearn.preprocessing\n",
        "target_transformer = sklearn.preprocessing.PowerTransformer(method='box-cox',standardize=True)\n",
        "\n",
        "y_train = target_transformer.fit_transform(y_train.to_frame())\n",
        "y_train = pd.Series(y_train.reshape(-1), name='tenure')\n",
        "\n",
        "y_test = target_transformer.transform(y_test.to_frame())\n",
        "y_test = pd.Series(y_test.reshape(-1), name='tenure')\n",
        "\n",
        "Target_DistributionAndStats(y_train,y_test)"
      ],
      "outputs": [],
      "metadata": {
        "id": "PqTCBJMua4QS"
      }
    },
    {
      "cell_type": "markdown",
      "source": [
        "## Grid Search CV - Sklearn"
      ],
      "metadata": {
        "id": "-15-sWUST6XX"
      }
    },
    {
      "cell_type": "markdown",
      "source": [
        "### Use standard hyper parameters to find most suitable model"
      ],
      "metadata": {
        "id": "KTFXq-ieogBj"
      }
    },
    {
      "cell_type": "markdown",
      "source": [
        "Define models for quick search"
      ],
      "metadata": {
        "id": "8D5u8D_2MvqM"
      }
    },
    {
      "cell_type": "code",
      "execution_count": null,
      "source": [
        "models_quick_search = {\n",
        "    'LinearRegression': LinearRegression(),\n",
        "    \"DecisionTreeRegressor\": DecisionTreeRegressor(random_state=0),\n",
        "    \"RandomForestRegressor\": RandomForestRegressor(random_state=0),\n",
        "    \"ExtraTreesRegressor\": ExtraTreesRegressor(random_state=0),\n",
        "    \"AdaBoostRegressor\": AdaBoostRegressor(random_state=0),\n",
        "    \"GradientBoostingRegressor\": GradientBoostingRegressor(random_state=0),\n",
        "    \"XGBRegressor\": XGBRegressor(random_state=0),\n",
        "}\n",
        "\n",
        "params_quick_search = {\n",
        "    'LinearRegression': {},\n",
        "    \"DecisionTreeRegressor\": {},\n",
        "    \"RandomForestRegressor\": {},\n",
        "    \"ExtraTreesRegressor\": {},\n",
        "    \"AdaBoostRegressor\": {},\n",
        "    \"GradientBoostingRegressor\": {},\n",
        "    \"XGBRegressor\": {},\n",
        "}\n"
      ],
      "outputs": [],
      "metadata": {
        "id": "XZKV86gsPw8c"
      }
    },
    {
      "cell_type": "markdown",
      "source": [
        "Do a hyperparameter optmization search "
      ],
      "metadata": {
        "id": "jGABtSoSLP9u"
      }
    },
    {
      "cell_type": "code",
      "execution_count": null,
      "source": [
        "search = HyperparameterOptimizationSearch(models=models_quick_search, params=params_quick_search)\n",
        "search.fit(X_train, y_train, scoring='r2', n_jobs=-1, cv=5)"
      ],
      "outputs": [],
      "metadata": {
        "id": "-_q-ru92GiBb"
      }
    },
    {
      "cell_type": "markdown",
      "source": [
        "Check results"
      ],
      "metadata": {
        "id": "c7p56nXeoqWo"
      }
    },
    {
      "cell_type": "code",
      "execution_count": null,
      "source": [
        "grid_search_summary, grid_search_pipelines = search.score_summary(sort_by='mean_score')\n",
        "grid_search_summary"
      ],
      "outputs": [],
      "metadata": {
        "id": "mq4YlrmZooiw"
      }
    },
    {
      "cell_type": "markdown",
      "source": [
        "### Do extensive search on most suitable model to find best hyperparameter configuration"
      ],
      "metadata": {
        "id": "6pRUAeoG9lrZ"
      }
    },
    {
      "cell_type": "markdown",
      "source": [
        "Define model and parameters, for Extensive Search"
      ],
      "metadata": {
        "id": "w2XCyOYkAYpZ"
      }
    },
    {
      "cell_type": "code",
      "execution_count": null,
      "source": [
        "models_search = {\n",
        "    \"GradientBoostingRegressor\":GradientBoostingRegressor(random_state=0),\n",
        "}\n",
        "\n",
        "# documentation to help on hyperparameter list: \n",
        "# https://scikit-learn.org/stable/modules/generated/sklearn.ensemble.GradientBoostingRegressor.html\n",
        "\n",
        "# We will not conduct an extensive search, since the focus\n",
        "# is on how to combine all knowledge in an applied project.\n",
        "# In a workplace project, you may consider more hyperparameters and spend more time in this step\n",
        "\n",
        "params_search = {\n",
        "    \"GradientBoostingRegressor\":{\n",
        "        'model__n_estimators': [100,300],\n",
        "        'model__learning_rate': [1e-1,1e-2,1e-3], \n",
        "        'model__max_depth': [3,10,None],\n",
        "    }\n",
        "}"
      ],
      "outputs": [],
      "metadata": {
        "id": "lyjC7ThFAYKY"
      }
    },
    {
      "cell_type": "markdown",
      "source": [
        "Extensive GridSearch CV"
      ],
      "metadata": {
        "id": "sBy8thxqAlrd"
      }
    },
    {
      "cell_type": "code",
      "execution_count": null,
      "source": [
        "search = HyperparameterOptimizationSearch(models=models_search, params=params_search)\n",
        "search.fit(X_train, y_train, scoring = 'r2', n_jobs=-1, cv=5)"
      ],
      "outputs": [],
      "metadata": {
        "id": "Y_4Ob7heAYM9"
      }
    },
    {
      "cell_type": "markdown",
      "source": [
        "Check results"
      ],
      "metadata": {
        "id": "wtNJJpLEAzdP"
      }
    },
    {
      "cell_type": "code",
      "execution_count": null,
      "source": [
        "grid_search_summary, grid_search_pipelines = search.score_summary(sort_by='mean_score')\n",
        "grid_search_summary"
      ],
      "outputs": [],
      "metadata": {
        "id": "qjauRLNHAYPr"
      }
    },
    {
      "cell_type": "markdown",
      "source": [
        "Check the best model"
      ],
      "metadata": {
        "id": "DWryh7BlA2df"
      }
    },
    {
      "cell_type": "code",
      "execution_count": null,
      "source": [
        "best_model = grid_search_summary.iloc[0,0]\n",
        "best_model"
      ],
      "outputs": [],
      "metadata": {
        "id": "QVWEmpSuA4C7"
      }
    },
    {
      "cell_type": "markdown",
      "source": [
        "Parameters for best model"
      ],
      "metadata": {
        "id": "7_jvnR4sZ8km"
      }
    },
    {
      "cell_type": "code",
      "execution_count": null,
      "source": [
        "grid_search_pipelines[best_model].best_params_"
      ],
      "outputs": [],
      "metadata": {
        "id": "2my-LZFzZ-YD"
      }
    },
    {
      "cell_type": "markdown",
      "source": [
        "Define the best regressor, based on search"
      ],
      "metadata": {
        "id": "DgWXlprwaAW-"
      }
    },
    {
      "cell_type": "code",
      "execution_count": null,
      "source": [
        "best_regressor_pipeline = grid_search_pipelines[best_model].best_estimator_\n",
        "best_regressor_pipeline"
      ],
      "outputs": [],
      "metadata": {
        "id": "0OZ24jS0aAfP"
      }
    },
    {
      "cell_type": "markdown",
      "source": [
        "## Assess feature importance"
      ],
      "metadata": {
        "id": "I9uT2XmaKISR"
      }
    },
    {
      "cell_type": "code",
      "execution_count": null,
      "source": [
        "# after data cleaning and feat engine, the feature space changes\n",
        "columns_after_data_cleaning_feat_eng = (PipelineDataCleaningAndFeatureEngineering()\n",
        "                                        .fit_transform(X_train)\n",
        "                                        .columns)\n",
        "\n",
        "best_features = columns_after_data_cleaning_feat_eng[best_regressor_pipeline['feat_selection'].get_support()].to_list()\n",
        "\n",
        "# create DataFrame to display feature importance\n",
        "df_feature_importance = (pd.DataFrame(data={\n",
        "          'Attribute': columns_after_data_cleaning_feat_eng[best_regressor_pipeline['feat_selection'].get_support()],\n",
        "          'Importance': best_regressor_pipeline['model'].feature_importances_})\n",
        "  .sort_values(by='Importance', ascending=False)\n",
        "  )\n",
        "\n",
        "# Most important features statement and plot\n",
        "print(f\"* These are the {len(best_features)} most important features in descending order. \"\n",
        "      f\"The model was trained on them: \\n{df_feature_importance['Attribute'].to_list()}\")\n",
        "\n",
        "df_feature_importance.plot(kind='bar',x='Attribute',y='Importance')\n",
        "plt.show()"
      ],
      "outputs": [],
      "metadata": {
        "id": "-m6NUUa0KFQX"
      }
    },
    {
      "cell_type": "markdown",
      "source": [
        "## Evaluate Regressor on Train and Test Sets"
      ],
      "metadata": {
        "id": "QzNyQirSKJj6"
      }
    },
    {
      "cell_type": "markdown",
      "source": [
        "Custom Functions"
      ],
      "metadata": {
        "id": "Ye8fsXJYBO1g"
      }
    },
    {
      "cell_type": "code",
      "execution_count": null,
      "source": [
        "from sklearn.metrics import r2_score, mean_squared_error, mean_absolute_error \n",
        "import numpy as np\n",
        "\n",
        "def regression_performance(X_train, y_train, X_test, y_test,pipeline):\n",
        "\tprint(\"Model Evaluation \\n\")\n",
        "\tprint(\"* Train Set\")\n",
        "\tregression_evaluation(X_train,y_train,pipeline)\n",
        "\tprint(\"* Test Set\")\n",
        "\tregression_evaluation(X_test,y_test,pipeline)\n",
        "\n",
        "\n",
        "\n",
        "def regression_evaluation(X,y,pipeline):\n",
        "  prediction = pipeline.predict(X)\n",
        "  print('R2 Score:', r2_score(y, prediction).round(3))  \n",
        "  print('Mean Absolute Error:', mean_absolute_error(y, prediction).round(3))  \n",
        "  print('Mean Squared Error:', mean_squared_error(y, prediction).round(3))  \n",
        "  print('Root Mean Squared Error:', np.sqrt(mean_squared_error(y, prediction)).round(3))\n",
        "  print(\"\\n\")\n",
        "\n",
        "  \n",
        "\n",
        "def regression_evaluation_plots(X_train, y_train, X_test, y_test,pipeline, alpha_scatter=0.5):\n",
        "  pred_train = pipeline.predict(X_train)\n",
        "  pred_test = pipeline.predict(X_test)\n",
        "\n",
        "\n",
        "  fig, axes = plt.subplots(nrows=1, ncols=2, figsize=(12,6))\n",
        "  sns.scatterplot(x=y_train , y=pred_train, alpha=alpha_scatter, ax=axes[0])\n",
        "  sns.lineplot(x=y_train , y=y_train, color='red', ax=axes[0])\n",
        "  axes[0].set_xlabel(\"Actual\")\n",
        "  axes[0].set_ylabel(\"Predictions\")\n",
        "  axes[0].set_title(\"Train Set\")\n",
        "\n",
        "  sns.scatterplot(x=y_test , y=pred_test, alpha=alpha_scatter, ax=axes[1])\n",
        "  sns.lineplot(x=y_test , y=y_test, color='red', ax=axes[1])\n",
        "  axes[1].set_xlabel(\"Actual\")\n",
        "  axes[1].set_ylabel(\"Predictions\")\n",
        "  axes[1].set_title(\"Test Set\")\n",
        "\n",
        "  plt.show()\n",
        "\n",
        "  print(\"\\n\")\n",
        "  fig, axes = plt.subplots(nrows=1, ncols=2, figsize=(12,4))\n",
        "  sns.histplot(x=pred_train-y_train, kde=True, ax=axes[0])\n",
        "  axes[0].set_title(\"Residuals Train Set\")\n",
        "  sns.histplot(x=pred_test-y_test, kde=True, ax=axes[1])\n",
        "  axes[1].set_title(\"Residuals Test Set\")"
      ],
      "outputs": [],
      "metadata": {
        "id": "5pBm_vx8BO9s"
      }
    },
    {
      "cell_type": "markdown",
      "source": [
        "Evaluate Performance"
      ],
      "metadata": {
        "id": "tV-W5nYyBPdk"
      }
    },
    {
      "cell_type": "code",
      "execution_count": null,
      "source": [
        "regression_performance(X_train, y_train, X_test, y_test,best_regressor_pipeline)\n",
        "regression_evaluation_plots(X_train, y_train, X_test, y_test,\n",
        "                            best_regressor_pipeline,\n",
        "                            alpha_scatter=0.5)"
      ],
      "outputs": [],
      "metadata": {
        "id": "EgBgrKJ5KFcX"
      }
    },
    {
      "cell_type": "markdown",
      "source": [
        "# Regressor add PCA() in the pipeline: Sklearn"
      ],
      "metadata": {
        "id": "HZ9tjLxEIn3h"
      }
    },
    {
      "cell_type": "markdown",
      "source": [
        "## Rewrite ML Pipeline for Modelling: add PCA step"
      ],
      "metadata": {
        "id": "5eaMf41ZBhBk"
      }
    },
    {
      "cell_type": "markdown",
      "source": [
        "* It will change only the PipelineOptimization() function"
      ],
      "metadata": {
        "id": "LPWv-kTBKnjR"
      }
    },
    {
      "cell_type": "code",
      "execution_count": null,
      "source": [
        "### PCA\n",
        "from sklearn.decomposition import PCA\n",
        "\n",
        "def PipelineOptimization(model):\n",
        "  pipe = PipelineDataCleaningAndFeatureEngineering()\n",
        "  pipe.steps.append([\"PCA\",PCA(n_components=3, random_state=0)])   #### PCA replace Feature Selection\n",
        "  pipe.steps.append([\"scaler\", StandardScaler()])\n",
        "  pipe.steps.append([\"model\", model])\n",
        "  \n",
        "  return pipe"
      ],
      "outputs": [],
      "metadata": {
        "id": "XfU562GBIsB1"
      }
    },
    {
      "cell_type": "markdown",
      "source": [
        "## Grid Search CV – Sklearn"
      ],
      "metadata": {
        "id": "irUsq475Bn7N"
      }
    },
    {
      "cell_type": "markdown",
      "source": [
        "### Use standard hyper parameters to find most suitable model"
      ],
      "metadata": {
        "id": "2LVF-KR_Bqum"
      }
    },
    {
      "cell_type": "code",
      "execution_count": null,
      "source": [
        "models_quick_search = {\n",
        "    'LinearRegression': LinearRegression(),\n",
        "    \"DecisionTreeRegressor\": DecisionTreeRegressor(random_state=0),\n",
        "    \"RandomForestRegressor\": RandomForestRegressor(random_state=0),\n",
        "    \"ExtraTreesRegressor\": ExtraTreesRegressor(random_state=0),\n",
        "    \"AdaBoostRegressor\": AdaBoostRegressor(random_state=0),\n",
        "    \"GradientBoostingRegressor\": GradientBoostingRegressor(random_state=0),\n",
        "    \"XGBRegressor\": XGBRegressor(random_state=0),\n",
        "}\n",
        "\n",
        "params_quick_search = {\n",
        "    'LinearRegression': {},\n",
        "    \"DecisionTreeRegressor\": {},\n",
        "    \"RandomForestRegressor\": {},\n",
        "    \"ExtraTreesRegressor\": {},\n",
        "    \"AdaBoostRegressor\": {},\n",
        "    \"GradientBoostingRegressor\": {},\n",
        "    \"XGBRegressor\": {},\n",
        "}\n"
      ],
      "outputs": [],
      "metadata": {
        "id": "2XmJNoUcJkKX"
      }
    },
    {
      "cell_type": "markdown",
      "source": [
        "Do a quick optmization search "
      ],
      "metadata": {
        "id": "Jq8td65fJkKY"
      }
    },
    {
      "cell_type": "code",
      "execution_count": null,
      "source": [
        "quick_search = HyperparameterOptimizationSearch(models=models_quick_search, params=params_quick_search)\n",
        "quick_search.fit(X_train, y_train, scoring='r2', n_jobs=-1, cv=5)"
      ],
      "outputs": [],
      "metadata": {
        "id": "s1BdqEB6JkKZ"
      }
    },
    {
      "cell_type": "markdown",
      "source": [
        "Check results"
      ],
      "metadata": {
        "id": "zQ_Xj5oGJkKZ"
      }
    },
    {
      "cell_type": "code",
      "execution_count": null,
      "source": [
        "grid_search_summary, grid_search_pipelines = quick_search.score_summary(sort_by='mean_score')\n",
        "grid_search_summary"
      ],
      "outputs": [],
      "metadata": {
        "id": "vIC2csxKJkKZ"
      }
    },
    {
      "cell_type": "markdown",
      "source": [
        "### Do extensive search on most suitable model to find best hyperparameter configuration"
      ],
      "metadata": {
        "id": "383vOhJZBwza"
      }
    },
    {
      "cell_type": "markdown",
      "source": [
        "Define model and parameters, for Extensive Search"
      ],
      "metadata": {
        "id": "PrcbiQHlB9QT"
      }
    },
    {
      "cell_type": "code",
      "execution_count": null,
      "source": [
        "models_search = {\n",
        "    \"GradientBoostingRegressor\":GradientBoostingRegressor(random_state=0),\n",
        "}\n",
        "\n",
        "# documentation to help on hyperparameter list: \n",
        "# https://scikit-learn.org/stable/modules/generated/sklearn.ensemble.GradientBoostingRegressor.html\n",
        "\n",
        "# We will not conduct an extensive search, since the focus\n",
        "# is on how to combine all knowledge in an applied project.\n",
        "# In a workplace project, you may spend more time in this step\n",
        "params_search = {\n",
        "    \"GradientBoostingRegressor\":{\n",
        "        'model__n_estimators': [100,300],\n",
        "        'model__learning_rate': [1e-1,1e-2,1e-3], \n",
        "        'model__max_depth': [3,10, None],\n",
        "    }\n",
        "}"
      ],
      "outputs": [],
      "metadata": {
        "id": "S7t-fum6B9QU"
      }
    },
    {
      "cell_type": "markdown",
      "source": [
        "Extensive GridSearch CV"
      ],
      "metadata": {
        "id": "Jvt-IOmHB9QU"
      }
    },
    {
      "cell_type": "code",
      "execution_count": null,
      "source": [
        "search = HyperparameterOptimizationSearch(models=models_search, params=params_search)\n",
        "search.fit(X_train, y_train, scoring = 'r2', n_jobs=-1, cv=5)"
      ],
      "outputs": [],
      "metadata": {
        "id": "eXbTwW1UB9QV"
      }
    },
    {
      "cell_type": "markdown",
      "source": [
        "Check results"
      ],
      "metadata": {
        "id": "TVUDzRSGB9QV"
      }
    },
    {
      "cell_type": "code",
      "execution_count": null,
      "source": [
        "grid_search_summary, grid_search_pipelines = search.score_summary(sort_by='mean_score')\n",
        "grid_search_summary"
      ],
      "outputs": [],
      "metadata": {
        "id": "5ZfOdh5kB9QW"
      }
    },
    {
      "cell_type": "markdown",
      "source": [
        "Check the best model"
      ],
      "metadata": {
        "id": "CgoLo5C8B9QW"
      }
    },
    {
      "cell_type": "code",
      "execution_count": null,
      "source": [
        "best_model = grid_search_summary.iloc[0,0]\n",
        "best_model"
      ],
      "outputs": [],
      "metadata": {
        "id": "C3UGYjpcB9QW"
      }
    },
    {
      "cell_type": "markdown",
      "source": [
        "Parameters for best model"
      ],
      "metadata": {
        "id": "bjY2MdBNB9QX"
      }
    },
    {
      "cell_type": "code",
      "execution_count": null,
      "source": [
        "grid_search_pipelines[best_model].best_params_"
      ],
      "outputs": [],
      "metadata": {
        "id": "Uspihv71B9QX"
      }
    },
    {
      "cell_type": "markdown",
      "source": [
        "Define the best regressor, based on search"
      ],
      "metadata": {
        "id": "-8HonhniB9QX"
      }
    },
    {
      "cell_type": "code",
      "execution_count": null,
      "source": [
        "best_regressor_pipeline = grid_search_pipelines[best_model].best_estimator_\n",
        "best_regressor_pipeline"
      ],
      "outputs": [],
      "metadata": {
        "id": "DC8U4skKB9QY"
      }
    },
    {
      "cell_type": "markdown",
      "source": [
        "## Evaluate Regressor on Train and Tests Sets"
      ],
      "metadata": {
        "id": "rKGmSgINCQwj"
      }
    },
    {
      "cell_type": "code",
      "execution_count": null,
      "source": [
        "regression_performance(X_train, y_train, X_test, y_test,best_regressor_pipeline)\n",
        "regression_evaluation_plots(X_train, y_train, X_test, y_test,\n",
        "                            best_regressor_pipeline,\n",
        "                            alpha_scatter=0.5)"
      ],
      "outputs": [],
      "metadata": {
        "id": "78tt_ZkiJRdE"
      }
    },
    {
      "cell_type": "markdown",
      "source": [
        "# Convert Regression to Classification: Sklearn"
      ],
      "metadata": {
        "id": "qpKz9qjRUOR0"
      }
    },
    {
      "cell_type": "markdown",
      "source": [
        "### Convert target to bins and check if it is balanced"
      ],
      "metadata": {
        "id": "g0yf7s9LVZFH"
      }
    },
    {
      "cell_type": "code",
      "execution_count": null,
      "source": [
        "from feature_engine.discretisation import EqualFrequencyDiscretiser\n",
        "disc = EqualFrequencyDiscretiser(q=3, variables=['tenure'])\n",
        "\n",
        "df_clf = disc.fit_transform(df)\n",
        "df_clf['tenure'].value_counts()"
      ],
      "outputs": [],
      "metadata": {
        "id": "dzXQjVf-Uoay"
      }
    },
    {
      "cell_type": "markdown",
      "source": [
        "Visualize target distribution and range levels"
      ],
      "metadata": {
        "id": "MaElij1Wv_gL"
      }
    },
    {
      "cell_type": "code",
      "execution_count": null,
      "source": [
        "print(f\"* The classes represent the following ranges: \\n{disc.binner_dict_} \\n\")\n",
        "sns.countplot(data=df_clf, x='tenure')\n",
        "plt.show()"
      ],
      "outputs": [],
      "metadata": {
        "id": "Rh-sJMpuVPuR"
      }
    },
    {
      "cell_type": "markdown",
      "source": [
        "## Rewrite ML Pipeline for Modelling"
      ],
      "metadata": {
        "id": "lkPaGZfiXexn"
      }
    },
    {
      "cell_type": "code",
      "execution_count": null,
      "source": [
        "def PipelineOptimization(model):\n",
        "  pipe = PipelineDataCleaningAndFeatureEngineering()\n",
        "  pipe.steps.append([\"scaler\", StandardScaler()])\n",
        "  pipe.steps.append([\"feat_selection\", SelectFromModel(model)])\n",
        "  pipe.steps.append([\"model\", model])\n",
        "  return pipe"
      ],
      "outputs": [],
      "metadata": {
        "id": "I53mlfqRUSzn"
      }
    },
    {
      "cell_type": "markdown",
      "source": [
        "## Load estimators for classification"
      ],
      "metadata": {
        "id": "fW2lu54NCgOC"
      }
    },
    {
      "cell_type": "code",
      "execution_count": null,
      "source": [
        "from sklearn.tree import DecisionTreeClassifier \n",
        "from sklearn.ensemble import RandomForestClassifier\n",
        "from sklearn.ensemble import GradientBoostingClassifier \n",
        "from sklearn.ensemble import ExtraTreesClassifier\n",
        "from sklearn.ensemble import AdaBoostClassifier\n",
        "from xgboost import XGBClassifier"
      ],
      "outputs": [],
      "metadata": {
        "id": "MvkMORvOft14"
      }
    },
    {
      "cell_type": "markdown",
      "source": [
        "## Split Train Test Sets"
      ],
      "metadata": {
        "id": "mVnTzZZBC73_"
      }
    },
    {
      "cell_type": "code",
      "execution_count": null,
      "source": [
        "from sklearn.model_selection import train_test_split\n",
        "\n",
        "X_train, X_test,y_train, y_test = train_test_split(\n",
        "                                    df_clf.drop(['tenure'],axis=1),\n",
        "                                    df_clf['tenure'],\n",
        "                                    test_size=0.2,\n",
        "                                    random_state=0\n",
        "                                    )\n",
        "\n",
        "print(\"* Train set:\", X_train.shape, y_train.shape, \"\\n* Test set:\",  X_test.shape, y_test.shape)"
      ],
      "outputs": [],
      "metadata": {
        "id": "ev5Rb80fC-dP"
      }
    },
    {
      "cell_type": "markdown",
      "source": [
        "Check if target is balanced"
      ],
      "metadata": {
        "id": "flZCqIL4DB80"
      }
    },
    {
      "cell_type": "code",
      "execution_count": null,
      "source": [
        "y_train.value_counts(normalize=True).to_frame().round(2)"
      ],
      "outputs": [],
      "metadata": {
        "id": "pFLYKem1DCmJ"
      }
    },
    {
      "cell_type": "markdown",
      "source": [
        "## Grid Seach CV – Sklearn"
      ],
      "metadata": {
        "id": "aTEEhpvRDF0a"
      }
    },
    {
      "cell_type": "markdown",
      "source": [
        "### Use standard hyper parameters to find most suitable model"
      ],
      "metadata": {
        "id": "PPNNBP-QDIkv"
      }
    },
    {
      "cell_type": "code",
      "execution_count": null,
      "source": [
        "models_quick_search = {\n",
        "    \"XGBClassifier\": XGBClassifier(random_state=0),\n",
        "    \"DecisionTreeClassifier\": DecisionTreeClassifier(random_state=0),\n",
        "    \"RandomForestClassifier\": RandomForestClassifier(random_state=0),\n",
        "    \"GradientBoostingClassifier\": GradientBoostingClassifier(random_state=0),\n",
        "    \"ExtraTreesClassifier\": ExtraTreesClassifier(random_state=0),\n",
        "    \"AdaBoostClassifier\": AdaBoostClassifier(random_state=0),\n",
        "}\n",
        "\n",
        "params_quick_search = {\n",
        "    \"XGBClassifier\":{},\n",
        "    \"DecisionTreeClassifier\":{},\n",
        "    \"RandomForestClassifier\":{},\n",
        "    \"GradientBoostingClassifier\":{},\n",
        "    \"ExtraTreesClassifier\":{},\n",
        "    \"AdaBoostClassifier\":{},\n",
        "}"
      ],
      "outputs": [],
      "metadata": {
        "id": "IfW5jSmSe7Gl"
      }
    },
    {
      "cell_type": "markdown",
      "source": [
        "GridSearch CV"
      ],
      "metadata": {
        "id": "YDYHs3I1D89F"
      }
    },
    {
      "cell_type": "code",
      "execution_count": null,
      "source": [
        "from sklearn.metrics import make_scorer, f1_score\n",
        "quick_search = HyperparameterOptimizationSearch(models=models_quick_search, params=params_quick_search)\n",
        "quick_search.fit(X_train, y_train,\n",
        "                 scoring = make_scorer(f1_score, labels=[0], average=None),\n",
        "                 n_jobs=-1,\n",
        "                 cv=5)"
      ],
      "outputs": [],
      "metadata": {
        "id": "dh-nd-JCfX7M"
      }
    },
    {
      "cell_type": "markdown",
      "source": [
        "Check results"
      ],
      "metadata": {
        "id": "uqQfPBxfEQgf"
      }
    },
    {
      "cell_type": "code",
      "execution_count": null,
      "source": [
        "grid_search_summary, grid_search_pipelines = quick_search.score_summary(sort_by='mean_score')\n",
        "grid_search_summary"
      ],
      "outputs": [],
      "metadata": {
        "id": "yXUbzctLfXd2"
      }
    },
    {
      "cell_type": "markdown",
      "source": [
        "### Do extensive search on most suitable model to find best hyperparameter configuration"
      ],
      "metadata": {
        "id": "uQWhAJtcDoSI"
      }
    },
    {
      "cell_type": "markdown",
      "source": [
        "Define models and parameters"
      ],
      "metadata": {
        "id": "yyeaZbCFDxf4"
      }
    },
    {
      "cell_type": "code",
      "execution_count": null,
      "source": [
        "models_search = {\n",
        "    \"AdaBoostClassifier\":AdaBoostClassifier(random_state=0),\n",
        "}\n",
        "\n",
        "# documentation to help on hyperparameter list: \n",
        "# https://scikit-learn.org/stable/modules/generated/sklearn.ensemble.AdaBoostClassifier.html\n",
        "params_search = {\n",
        "    \"AdaBoostClassifier\":{\n",
        "        'model__n_estimators': [50,100,300],\n",
        "        'model__learning_rate': [1e-1,1e-2,1e-3], \n",
        "    }\n",
        "}"
      ],
      "outputs": [],
      "metadata": {
        "id": "FxEXnjBWDzOr"
      }
    },
    {
      "cell_type": "markdown",
      "source": [
        "Extensive GridSearch CV"
      ],
      "metadata": {
        "id": "ZcqabQPpD_vX"
      }
    },
    {
      "cell_type": "code",
      "execution_count": null,
      "source": [
        "from sklearn.metrics import make_scorer,  f1_score\n",
        "search = HyperparameterOptimizationSearch(models=models_search, params=params_search)\n",
        "search.fit(X_train, y_train,\n",
        "           scoring = make_scorer(f1_score, labels=[0], average=None),\n",
        "           n_jobs=-1, cv=5)"
      ],
      "outputs": [],
      "metadata": {
        "id": "CC2xgdgkECox"
      }
    },
    {
      "cell_type": "markdown",
      "source": [
        "Check results"
      ],
      "metadata": {
        "id": "RDne0BgoEaDz"
      }
    },
    {
      "cell_type": "code",
      "execution_count": null,
      "source": [
        "grid_search_summary, grid_search_pipelines = search.score_summary(sort_by='mean_score')\n",
        "grid_search_summary"
      ],
      "outputs": [],
      "metadata": {
        "id": "KsNiNwdGECra"
      }
    },
    {
      "cell_type": "markdown",
      "source": [
        "\n",
        "Check the best model"
      ],
      "metadata": {
        "id": "-bZ2Qu5JEhrp"
      }
    },
    {
      "cell_type": "code",
      "execution_count": null,
      "source": [
        "best_model = grid_search_summary.iloc[0,0]\n",
        "best_model"
      ],
      "outputs": [],
      "metadata": {
        "id": "aAbJosK8ECt-"
      }
    },
    {
      "cell_type": "markdown",
      "source": [
        "Parameters for best model\n",
        "* We are saving this content for later"
      ],
      "metadata": {
        "id": "qUyqeVjkEjn7"
      }
    },
    {
      "cell_type": "code",
      "execution_count": null,
      "source": [
        "best_parameters = grid_search_pipelines[best_model].best_params_\n",
        "best_parameters"
      ],
      "outputs": [],
      "metadata": {
        "id": "BXPyDbbxYbv6"
      }
    },
    {
      "cell_type": "markdown",
      "source": [
        "Define the best clf pipeline"
      ],
      "metadata": {
        "id": "_YUeAvIsEo5v"
      }
    },
    {
      "cell_type": "code",
      "execution_count": null,
      "source": [
        "pipeline_clf = grid_search_pipelines[best_model].best_estimator_\n",
        "pipeline_clf"
      ],
      "outputs": [],
      "metadata": {
        "id": "LTrUEOcBYby4"
      }
    },
    {
      "cell_type": "markdown",
      "source": [
        "## Assess feature importance"
      ],
      "metadata": {
        "id": "aGc1W7wEM2GP"
      }
    },
    {
      "cell_type": "markdown",
      "source": [
        "We can assess feature importane for this model with `.feature_importances_`"
      ],
      "metadata": {
        "id": "fHN_VRwZarUp"
      }
    },
    {
      "cell_type": "code",
      "execution_count": null,
      "source": [
        "# after data cleaning and feat engine, the feature space changes\n",
        "columns_after_data_cleaning_feat_eng = (PipelineDataCleaningAndFeatureEngineering()\n",
        "                                        .fit_transform(X_train)\n",
        "                                        .columns)\n",
        "\n",
        "# best_features = columns_after_data_cleaning_feat_eng\n",
        "best_features = columns_after_data_cleaning_feat_eng[pipeline_clf['feat_selection'].get_support()].to_list()\n",
        "\n",
        "# create DataFrame to display feature importance\n",
        "df_feature_importance = (pd.DataFrame(data={\n",
        "          'Attribute': columns_after_data_cleaning_feat_eng[pipeline_clf['feat_selection'].get_support()],\n",
        "          'Importance': pipeline_clf['model'].feature_importances_})\n",
        "  .sort_values(by='Importance', ascending=False)\n",
        "  )\n",
        "\n",
        "best_features = df_feature_importance['Attribute'].to_list() # reassign best features in order\n",
        "\n",
        "# Most important features statement and plot\n",
        "print(f\"* These are the {len(best_features)} most important features in descending order. \"\n",
        "      f\"The model was trained on them: \\n{best_features}\")\n",
        "\n",
        "df_feature_importance.plot(kind='bar',x='Attribute',y='Importance')\n",
        "plt.show()"
      ],
      "outputs": [],
      "metadata": {
        "id": "kfckT_bFxFaE"
      }
    },
    {
      "cell_type": "code",
      "execution_count": null,
      "source": [
        "best_features_clf = best_features\n",
        "best_features_clf"
      ],
      "outputs": [],
      "metadata": {
        "id": "BxYUJst9MfR8"
      }
    },
    {
      "cell_type": "markdown",
      "source": [
        "## Evaluate Classifier on Train and Test Sets"
      ],
      "metadata": {
        "id": "jiwI6U28UV4C"
      }
    },
    {
      "cell_type": "markdown",
      "source": [
        "Custom Function"
      ],
      "metadata": {
        "id": "6sL9XamIDTG3"
      }
    },
    {
      "cell_type": "code",
      "execution_count": null,
      "source": [
        "from sklearn.metrics import classification_report, confusion_matrix\n",
        "\n",
        "def confusion_matrix_and_report(X,y,pipeline,label_map):\n",
        "\n",
        "  prediction = pipeline.predict(X)\n",
        "\n",
        "  print('---  Confusion Matrix  ---')\n",
        "  print(pd.DataFrame(confusion_matrix(y_true=prediction, y_pred=y),\n",
        "        columns=[ [\"Actual \" + sub for sub in label_map] ], \n",
        "        index= [ [\"Prediction \" + sub for sub in label_map ]]\n",
        "        ))\n",
        "  print(\"\\n\")\n",
        "\n",
        "\n",
        "  print('---  Classification Report  ---')\n",
        "  print(classification_report(y, prediction),\"\\n\")\n",
        "\n",
        "\n",
        "\n",
        "def clf_performance(X_train,y_train,X_test,y_test,pipeline,label_map):\n",
        "  print(\"#### Train Set #### \\n\")\n",
        "  confusion_matrix_and_report(X_train,y_train,pipeline,label_map)\n",
        "\n",
        "  print(\"#### Test Set ####\\n\")\n",
        "  confusion_matrix_and_report(X_test,y_test,pipeline,label_map)"
      ],
      "outputs": [],
      "metadata": {
        "id": "yMcvrPmdXbmP"
      }
    },
    {
      "cell_type": "markdown",
      "source": [
        "Creates a list that relates the classes and tenure interval"
      ],
      "metadata": {
        "id": "PyX8PsH-0z8z"
      }
    },
    {
      "cell_type": "code",
      "execution_count": null,
      "source": [
        "disc.binner_dict_['tenure']"
      ],
      "outputs": [],
      "metadata": {}
    },
    {
      "cell_type": "markdown",
      "source": [
        "We can create manually"
      ],
      "metadata": {}
    },
    {
      "cell_type": "code",
      "execution_count": null,
      "source": [
        "label_map = ['<4.0', '4.0 to 20.0','+20.0']\n",
        "label_map"
      ],
      "outputs": [],
      "metadata": {}
    },
    {
      "cell_type": "code",
      "execution_count": null,
      "source": [
        "clf_performance(X_train=X_train, y_train=y_train,\n",
        "                        X_test=X_test, y_test=y_test,\n",
        "                        pipeline=pipeline_clf,\n",
        "                        label_map= label_map )"
      ],
      "outputs": [],
      "metadata": {
        "id": "no7flbMcYbsz"
      }
    },
    {
      "cell_type": "markdown",
      "source": [
        "# Which pipeline to choose?"
      ],
      "metadata": {
        "id": "mQ3u0TodDdOZ"
      }
    },
    {
      "cell_type": "markdown",
      "source": [
        "We fitted multiple pipelines:\n",
        "* Regression\n",
        "* Regression with PCA\n",
        "* Classifier"
      ],
      "metadata": {
        "id": "FE5va8Cr-CCy"
      }
    },
    {
      "cell_type": "markdown",
      "source": [
        "The regressor pipelines didn't reach the expected performance threshold of 0.7 for R2 score, for train and test set.\n",
        "\n",
        "The classifier was tuned on f1 score for class 0 (tenure <4 months), since we are interested to detect prospects that may churn soon. \n",
        "* It has reasonable performance for class 0 (<4 months) and can separate the opposite classes: class 0 (<4 months) and class 2 (+20 months).\n",
        "* Class 1 (4 to 20 months) has weak performance. We will accept this limitation and will handle a prediction of class 1 as if it was a prediction of class 0."
      ],
      "metadata": {
        "id": "sQR54xeCbIAH"
      }
    },
    {
      "cell_type": "markdown",
      "source": [
        "# Refit pipeline with best features"
      ],
      "metadata": {
        "id": "1BqT1Kne54Fq"
      }
    },
    {
      "cell_type": "markdown",
      "source": [
        "## Split Train Test Set, only with best features"
      ],
      "metadata": {
        "id": "GpgS-AgU6IWx"
      }
    },
    {
      "cell_type": "code",
      "execution_count": null,
      "source": [
        "from sklearn.model_selection import train_test_split\n",
        "\n",
        "X_train, X_test,y_train, y_test = train_test_split(\n",
        "                                    df_clf.drop(['tenure'],axis=1),\n",
        "                                    df_clf['tenure'],\n",
        "                                    test_size=0.2,\n",
        "                                    random_state=0\n",
        "                                    )\n",
        "\n",
        "print(\"* Train set:\", X_train.shape, y_train.shape, \"\\n* Test set:\",  X_test.shape, y_test.shape)"
      ],
      "outputs": [],
      "metadata": {
        "id": "_31XFcrg6IWy"
      }
    },
    {
      "cell_type": "markdown",
      "source": [
        "Subset Best Features"
      ],
      "metadata": {
        "id": "ohPWfCs2E_3G"
      }
    },
    {
      "cell_type": "code",
      "execution_count": null,
      "source": [
        "X_train = X_train.filter(best_features_clf)\n",
        "\n",
        "X_test = X_test.filter(best_features_clf)\n",
        "print(\"* Train set:\", X_train.shape, y_train.shape, \"\\n* Test set:\",  X_test.shape, y_test.shape)"
      ],
      "outputs": [],
      "metadata": {
        "id": "UUEIfyLU6IWz"
      }
    },
    {
      "cell_type": "markdown",
      "source": [
        "Check how training data looks like now"
      ],
      "metadata": {
        "id": "PsYi88NhFBcx"
      }
    },
    {
      "cell_type": "code",
      "execution_count": null,
      "source": [
        "X_train.head(3)"
      ],
      "outputs": [],
      "metadata": {
        "id": "9vuYQjAfNljQ"
      }
    },
    {
      "cell_type": "markdown",
      "source": [
        "## Rewrite Data Cleaning and Feature Engineering Pipeline"
      ],
      "metadata": {
        "id": "KN4T0UFCE-qy"
      }
    },
    {
      "cell_type": "code",
      "execution_count": null,
      "source": [
        "def PipelineDataCleaningAndFeatureEngineering():\n",
        "  pipeline_base = Pipeline(\n",
        "      [\n",
        "      (\"OrdinalCategoricalEncoder\",OrdinalEncoder(encoding_method='arbitrary', \n",
        "                                                  variables = ['Contract', 'PaymentMethod']\n",
        "                                                  )\n",
        "      ),\n",
        "       \n",
        "    ]\n",
        "  )\n",
        "\n",
        "  return pipeline_base"
      ],
      "outputs": [],
      "metadata": {
        "id": "MGrvMwV76S1u"
      }
    },
    {
      "cell_type": "markdown",
      "source": [
        "## Rewrite Modelling Pipeline (removes feat_selection)"
      ],
      "metadata": {
        "id": "y0O-hHDpFGqd"
      }
    },
    {
      "cell_type": "code",
      "execution_count": null,
      "source": [
        "def PipelineOptimization(model):\n",
        "  pipe = PipelineDataCleaningAndFeatureEngineering()\n",
        "  pipe.steps.append([\"scaler\", StandardScaler()])\n",
        "  pipe.steps.append([\"model\", model])\n",
        "  return pipe\n"
      ],
      "outputs": [],
      "metadata": {
        "id": "QGcOyX2y589f"
      }
    },
    {
      "cell_type": "markdown",
      "source": [
        "## Grid Search CV – Sklearn"
      ],
      "metadata": {
        "id": "2fT_mdLWFJFz"
      }
    },
    {
      "cell_type": "markdown",
      "source": [
        "* using most suitable model from last section and it best hyperparameter configuration"
      ],
      "metadata": {
        "id": "r2l_tUNcFLd0"
      }
    },
    {
      "cell_type": "markdown",
      "source": [
        "We are using the same model from the last GridCV search"
      ],
      "metadata": {
        "id": "RfKEBTyLeDtj"
      }
    },
    {
      "cell_type": "code",
      "execution_count": null,
      "source": [
        "models_search"
      ],
      "outputs": [],
      "metadata": {
        "id": "_1qcZktreHH5"
      }
    },
    {
      "cell_type": "markdown",
      "source": [
        "And the best parameters from the last GridCV search"
      ],
      "metadata": {
        "id": "9WaSA9jcecXr"
      }
    },
    {
      "cell_type": "code",
      "execution_count": null,
      "source": [
        "best_parameters"
      ],
      "outputs": [],
      "metadata": {
        "id": "XXi0L025eKA6"
      }
    },
    {
      "cell_type": "markdown",
      "source": [
        "You will need to type in manually, since the hyperparameter values has to be a list. The previous dictonary is not in this format"
      ],
      "metadata": {
        "id": "_7jAkvlBeeQl"
      }
    },
    {
      "cell_type": "code",
      "execution_count": null,
      "source": [
        "params_search = {'AdaBoostClassifier':  {\n",
        "    'model__learning_rate': [0.1],   # the value should be in []\n",
        "    'model__n_estimators': [50]       # the value should be in []\n",
        "}\n",
        "}\n",
        "params_search"
      ],
      "outputs": [],
      "metadata": {
        "id": "u9HBXI2E58_5"
      }
    },
    {
      "cell_type": "markdown",
      "source": [
        "GridSearch CV"
      ],
      "metadata": {
        "id": "zEZYXLRQfvTL"
      }
    },
    {
      "cell_type": "code",
      "execution_count": null,
      "source": [
        "from sklearn.metrics import make_scorer, f1_score\n",
        "search = HyperparameterOptimizationSearch(models=models_search, params=params_search)\n",
        "search.fit(X_train, y_train,\n",
        "           scoring = make_scorer(f1_score, labels=[0], average=None),\n",
        "           n_jobs=-1,cv=5)"
      ],
      "outputs": [],
      "metadata": {
        "id": "msJPkpo8fFAI"
      }
    },
    {
      "cell_type": "markdown",
      "source": [
        "\n",
        "Check results"
      ],
      "metadata": {
        "id": "OcgDvuLRfwsE"
      }
    },
    {
      "cell_type": "code",
      "execution_count": null,
      "source": [
        "grid_search_summary, grid_search_pipelines = search.score_summary(sort_by='mean_score')\n",
        "grid_search_summary"
      ],
      "outputs": [],
      "metadata": {
        "id": "loZEVp8g6q9O"
      }
    },
    {
      "cell_type": "markdown",
      "source": [
        "Check the best model"
      ],
      "metadata": {
        "id": "3TE6Xgvif1ek"
      }
    },
    {
      "cell_type": "code",
      "execution_count": null,
      "source": [
        "best_model = grid_search_summary.iloc[0,0]\n",
        "best_model"
      ],
      "outputs": [],
      "metadata": {
        "id": "sf6qYXV06q9O"
      }
    },
    {
      "cell_type": "markdown",
      "source": [
        "Parameters for best model"
      ],
      "metadata": {
        "id": "KL2y9Zpgf4ZK"
      }
    },
    {
      "cell_type": "code",
      "execution_count": null,
      "source": [
        "grid_search_pipelines[best_model].best_params_"
      ],
      "outputs": [],
      "metadata": {
        "id": "oK7kFD5O6q9O"
      }
    },
    {
      "cell_type": "markdown",
      "source": [
        "Define the best clf pipeline"
      ],
      "metadata": {
        "id": "oeB08Md3f60p"
      }
    },
    {
      "cell_type": "code",
      "execution_count": null,
      "source": [
        "pipeline_clf = grid_search_pipelines[best_model].best_estimator_\n",
        "pipeline_clf"
      ],
      "outputs": [],
      "metadata": {
        "id": "YuA9mpyk6q9P"
      }
    },
    {
      "cell_type": "markdown",
      "source": [
        "## Assess feature importance"
      ],
      "metadata": {
        "id": "IN0aj0iv6q9P"
      }
    },
    {
      "cell_type": "code",
      "execution_count": null,
      "source": [
        "# after data cleaning and feat engine, the feature space changes\n",
        "columns_after_data_cleaning_feat_eng = (PipelineDataCleaningAndFeatureEngineering()\n",
        "                                        .fit_transform(X_train)\n",
        "                                        .columns)\n",
        "\n",
        "best_features = columns_after_data_cleaning_feat_eng\n",
        "\n",
        "# create DataFrame to display feature importance\n",
        "df_feature_importance = (pd.DataFrame(data={\n",
        "          'Attribute': columns_after_data_cleaning_feat_eng,\n",
        "          'Importance': pipeline_clf['model'].feature_importances_})\n",
        "  .sort_values(by='Importance', ascending=False)\n",
        "  )\n",
        "\n",
        "# Most important features statement and plot\n",
        "print(f\"* These are the {len(best_features)} most important features in descending order. \"\n",
        "      f\"The model was trained on them: \\n{df_feature_importance['Attribute'].to_list()}\")\n",
        "\n",
        "df_feature_importance.plot(kind='bar',x='Attribute',y='Importance')\n",
        "plt.show()"
      ],
      "outputs": [],
      "metadata": {
        "id": "dN-blGZb6q9P"
      }
    },
    {
      "cell_type": "markdown",
      "source": [
        "## Evaluate Classifier on Train and Test Sets"
      ],
      "metadata": {
        "id": "h7fjgzReFYeM"
      }
    },
    {
      "cell_type": "code",
      "execution_count": null,
      "source": [
        "clf_performance(X_train=X_train, y_train=y_train,\n",
        "                        X_test=X_test, y_test=y_test,\n",
        "                        pipeline=pipeline_clf,\n",
        "                        label_map= label_map )"
      ],
      "outputs": [],
      "metadata": {
        "id": "aPeKtw3A59C3"
      }
    },
    {
      "cell_type": "markdown",
      "source": [
        "# Push files to the repo"
      ],
      "metadata": {
        "id": "GBtppR73G1Yx"
      }
    },
    {
      "cell_type": "markdown",
      "source": [
        "We will generate the following files\n",
        "\n",
        "* Train set\n",
        "* Test set\n",
        "* Modeling pipeline\n",
        "* label map\n",
        "* features importance plot"
      ],
      "metadata": {
        "id": "ShuJ5tYUC06o"
      }
    },
    {
      "cell_type": "code",
      "execution_count": null,
      "source": [
        "import joblib\n",
        "import os\n",
        "\n",
        "version = 'v1'\n",
        "file_path = f'outputs/ml_pipeline/predict_tenure/{version}'\n",
        "\n",
        "try:\n",
        "  os.makedirs(name=file_path)\n",
        "except Exception as e:\n",
        "  print(e)"
      ],
      "outputs": [],
      "metadata": {
        "id": "8vBpPvnaG5Mb"
      }
    },
    {
      "cell_type": "markdown",
      "source": [
        "## Train Set : features and target"
      ],
      "metadata": {
        "id": "4TvoMsi3DNw1"
      }
    },
    {
      "cell_type": "code",
      "execution_count": null,
      "source": [
        "X_train.head()"
      ],
      "outputs": [],
      "metadata": {
        "id": "yJHmwyqgDOr1"
      }
    },
    {
      "cell_type": "code",
      "execution_count": null,
      "source": [
        "X_train.to_csv(f\"{file_path}/X_train.csv\", index=False)"
      ],
      "outputs": [],
      "metadata": {
        "id": "yh6w6R7tDOvM"
      }
    },
    {
      "cell_type": "code",
      "execution_count": null,
      "source": [
        "y_train"
      ],
      "outputs": [],
      "metadata": {
        "id": "pB6pjmAcDOym"
      }
    },
    {
      "cell_type": "code",
      "execution_count": null,
      "source": [
        "y_train.to_csv(f\"{file_path}/y_train.csv\", index=False)"
      ],
      "outputs": [],
      "metadata": {
        "id": "ZZ93HN6cDPBN"
      }
    },
    {
      "cell_type": "markdown",
      "source": [
        "## Test Set: features and target"
      ],
      "metadata": {
        "id": "aVbS3OnRDYtJ"
      }
    },
    {
      "cell_type": "code",
      "execution_count": null,
      "source": [
        "X_test.head()"
      ],
      "outputs": [],
      "metadata": {
        "id": "XbgF38n1DaPp"
      }
    },
    {
      "cell_type": "code",
      "execution_count": null,
      "source": [
        "X_test.to_csv(f\"{file_path}/X_test.csv\", index=False)"
      ],
      "outputs": [],
      "metadata": {
        "id": "x9lM0xDvDaVZ"
      }
    },
    {
      "cell_type": "code",
      "execution_count": null,
      "source": [
        "y_test"
      ],
      "outputs": [],
      "metadata": {
        "id": "5Jz66iMaDacI"
      }
    },
    {
      "cell_type": "code",
      "execution_count": null,
      "source": [
        "y_test.to_csv(f\"{file_path}/y_test.csv\", index=False)"
      ],
      "outputs": [],
      "metadata": {
        "id": "weYaJ4UxDake"
      }
    },
    {
      "cell_type": "markdown",
      "source": [
        "## Modelling pipeline (that includes Data Cleaning and Feat Eng pipeline)"
      ],
      "metadata": {
        "id": "U-XpkYAPFncu"
      }
    },
    {
      "cell_type": "markdown",
      "source": [
        "ML pipeline for predicting tenure"
      ],
      "metadata": {
        "id": "xLmFFWF6RGo6"
      }
    },
    {
      "cell_type": "code",
      "execution_count": null,
      "source": [
        "pipeline_clf"
      ],
      "outputs": [],
      "metadata": {
        "id": "vQkr4rcrHDnn"
      }
    },
    {
      "cell_type": "code",
      "execution_count": null,
      "source": [
        "joblib.dump(value=pipeline_clf ,\n",
        "            filename=f\"{file_path}/clf_pipeline.pkl\")"
      ],
      "outputs": [],
      "metadata": {
        "id": "YrZPif2aHdyO"
      }
    },
    {
      "cell_type": "markdown",
      "source": [
        "## Dictionary mapping target levels to bins"
      ],
      "metadata": {
        "id": "LUCrXGvUFpeB"
      }
    },
    {
      "cell_type": "markdown",
      "source": [
        "Map for converting numerical variable to categorical variable"
      ],
      "metadata": {
        "id": "TFkAKp0eRMYM"
      }
    },
    {
      "cell_type": "code",
      "execution_count": null,
      "source": [
        "labels_map"
      ],
      "outputs": [],
      "metadata": {
        "id": "V6HfkzarHHbW"
      }
    },
    {
      "cell_type": "code",
      "execution_count": null,
      "source": [
        "joblib.dump(value=labels_map ,\n",
        "            filename=f\"{file_path}/labels_map.pkl\")"
      ],
      "outputs": [],
      "metadata": {
        "id": "TPEpdAgPHQaL"
      }
    },
    {
      "cell_type": "markdown",
      "source": [
        "## Feature importance plot"
      ],
      "metadata": {
        "id": "tTJlYRC5Q2wJ"
      }
    },
    {
      "cell_type": "code",
      "execution_count": null,
      "source": [
        "df_feature_importance.plot(kind='bar', x='Attribute', y='Importance')\n",
        "plt.show()"
      ],
      "outputs": [],
      "metadata": {
        "id": "0SfLH05-Q2D8"
      }
    },
    {
      "cell_type": "code",
      "execution_count": null,
      "source": [
        "df_feature_importance.plot(kind='bar',x='Attribute',y='Importance')\n",
        "plt.savefig(f'{file_path}/features_importance.png', bbox_inches='tight')"
      ],
      "outputs": [],
      "metadata": {
        "id": "R-Hc2H3dQ74Z"
      }
    },
    {
      "cell_type": "markdown",
      "source": [
        "## **Push** generated/new files from this Session to GitHub repo"
      ],
      "metadata": {
        "id": "257gMsNhiuM3"
      }
    },
    {
      "cell_type": "markdown",
      "source": [
        "Now you can push the files to the GitHub repo!!!"
      ],
      "metadata": {
        "id": "5Qwo5rjVFsnL"
      }
    },
    {
      "cell_type": "markdown",
      "source": [
        "* Git status"
      ],
      "metadata": {
        "id": "FUla5863TKyk"
      }
    },
    {
      "cell_type": "code",
      "execution_count": null,
      "source": [
        "! git status"
      ],
      "outputs": [],
      "metadata": {
        "id": "NzjZgWV-TMOB"
      }
    },
    {
      "cell_type": "markdown",
      "source": [
        "* Git commit"
      ],
      "metadata": {
        "id": "lH_xeleqiuM4"
      }
    },
    {
      "cell_type": "code",
      "execution_count": null,
      "source": [
        "CommitMsg = \"added-files-predict-tenure\"\n",
        "! git add .\n",
        "! git commit -m {CommitMsg}"
      ],
      "outputs": [],
      "metadata": {
        "id": "VpFefbLXiuM4"
      }
    },
    {
      "cell_type": "markdown",
      "source": [
        "* Git Push"
      ],
      "metadata": {
        "id": "msFKrJ6fiuM5"
      }
    },
    {
      "cell_type": "code",
      "execution_count": null,
      "source": [
        "! git push origin main"
      ],
      "outputs": [],
      "metadata": {
        "id": "QZxYGf_yiuM5"
      }
    },
    {
      "cell_type": "markdown",
      "source": [
        "Good job! Clear cell's outputs and move on to the next notebook"
      ],
      "metadata": {
        "id": "Sh0SKfv_s-3V"
      }
    }
  ]
}