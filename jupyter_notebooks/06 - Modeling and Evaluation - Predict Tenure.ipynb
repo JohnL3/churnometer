{
  "nbformat": 4,
  "nbformat_minor": 2,
  "metadata": {
    "orig_nbformat": 2,
    "colab": {
      "name": "Modeling and Evaluation - Predict Tenure.ipynb",
      "provenance": []
    },
    "language_info": {
      "name": "python",
      "version": "3.8.12",
      "mimetype": "text/x-python",
      "codemirror_mode": {
        "name": "ipython",
        "version": 3
      },
      "pygments_lexer": "ipython3",
      "nbconvert_exporter": "python",
      "file_extension": ".py"
    },
    "kernelspec": {
      "name": "python3",
      "display_name": "Python 3.8.12 64-bit ('3.8.12': pyenv)"
    },
    "accelerator": "GPU",
    "interpreter": {
      "hash": "625c31d6b4db3d7e7e2853cc30dc2062e1cda684f3e49d5f899ae496ae755fe0"
    }
  },
  "cells": [
    {
      "cell_type": "markdown",
      "source": [
        "# Regression"
      ],
      "metadata": {
        "id": "0aStgWSO0E0E"
      }
    },
    {
      "cell_type": "markdown",
      "source": [
        "## Objectives\n",
        "\n",
        "*   Fit and evaluate a regression model to predict tenure levels for a prospect that will likely churn\n",
        "\n",
        "\n",
        "## Inputs\n",
        "\n",
        "* outputs/datasets/collection/TelcoCustomerChurn.csv\n",
        "* instructions on which variables to use for data cleaning and feature engineering. They are found on its respectives notebooks.\n",
        "\n",
        "## Outputs\n",
        "\n",
        "* Train set (features and target)\n",
        "* Test set (features and target)\n",
        "* ML pipeline to predict tenure\n",
        "* labels map\n",
        "* Feature Importance Plot\n",
        "\n"
      ],
      "metadata": {
        "id": "1eLEkw5O0ECa"
      }
    },
    {
      "cell_type": "markdown",
      "source": [
        "---"
      ],
      "metadata": {
        "id": "9uWZXH9LwoQg"
      }
    },
    {
      "cell_type": "markdown",
      "source": [
        "# Change working directory"
      ],
      "metadata": {}
    },
    {
      "cell_type": "markdown",
      "source": [
        "We need to change the working directory from its current folder to its parent folder\n",
        "* We access the current directory with os.getcwd()"
      ],
      "metadata": {}
    },
    {
      "cell_type": "code",
      "execution_count": 1,
      "source": [
        "import os\n",
        "current_dir = os.getcwd()\n",
        "current_dir"
      ],
      "outputs": [
        {
          "output_type": "execute_result",
          "data": {
            "text/plain": [
              "'/workspace/churnometer/jupyter_notebooks'"
            ]
          },
          "metadata": {},
          "execution_count": 1
        }
      ],
      "metadata": {}
    },
    {
      "cell_type": "markdown",
      "source": [
        "We want to make the parent of the parent of current directory the new current directory\n",
        "* os.path.dirname() gets the parent directory\n",
        "* os.chir() defines the new current directory"
      ],
      "metadata": {}
    },
    {
      "cell_type": "code",
      "execution_count": 2,
      "source": [
        "os.chdir(os.path.dirname(current_dir))\n",
        "print(\"You set a new current directory\")"
      ],
      "outputs": [
        {
          "output_type": "stream",
          "name": "stdout",
          "text": [
            "You set a new current directory\n"
          ]
        }
      ],
      "metadata": {}
    },
    {
      "cell_type": "markdown",
      "source": [
        "Confirm the new current directory"
      ],
      "metadata": {}
    },
    {
      "cell_type": "code",
      "execution_count": 3,
      "source": [
        "current_dir = os.getcwd()\n",
        "current_dir"
      ],
      "outputs": [
        {
          "output_type": "execute_result",
          "data": {
            "text/plain": [
              "'/workspace/churnometer'"
            ]
          },
          "metadata": {},
          "execution_count": 3
        }
      ],
      "metadata": {}
    },
    {
      "cell_type": "markdown",
      "source": [
        "---"
      ],
      "metadata": {
        "id": "pXKlJFX0iuM5"
      }
    },
    {
      "cell_type": "markdown",
      "source": [
        "# Load Data for Modelling"
      ],
      "metadata": {
        "id": "-mavJ8DibrcQ"
      }
    },
    {
      "cell_type": "code",
      "execution_count": 4,
      "source": [
        "import numpy as np\n",
        "import pandas as pd\n",
        "df = (pd.read_csv(\"outputs/datasets/collection/TelcoCustomerChurn.csv\")\n",
        "      .query(\"Churn == 1\")  # subset churned customer\n",
        "      .drop(labels=['customerID','TotalCharges','Churn'],axis=1)  \n",
        "                    # variables we will not need for this project\n",
        "                    # we will not need Churn, since it is has only 1\n",
        "  )\n",
        "\n",
        "df.info()"
      ],
      "outputs": [
        {
          "output_type": "stream",
          "name": "stdout",
          "text": [
            "<class 'pandas.core.frame.DataFrame'>\n",
            "Int64Index: 1869 entries, 2 to 7041\n",
            "Data columns (total 18 columns):\n",
            " #   Column            Non-Null Count  Dtype  \n",
            "---  ------            --------------  -----  \n",
            " 0   gender            1869 non-null   object \n",
            " 1   SeniorCitizen     1869 non-null   int64  \n",
            " 2   Partner           1869 non-null   object \n",
            " 3   Dependents        1869 non-null   object \n",
            " 4   tenure            1869 non-null   int64  \n",
            " 5   PhoneService      1869 non-null   object \n",
            " 6   MultipleLines     1869 non-null   object \n",
            " 7   InternetService   1869 non-null   object \n",
            " 8   OnlineSecurity    1869 non-null   object \n",
            " 9   OnlineBackup      1869 non-null   object \n",
            " 10  DeviceProtection  1869 non-null   object \n",
            " 11  TechSupport       1869 non-null   object \n",
            " 12  StreamingTV       1869 non-null   object \n",
            " 13  StreamingMovies   1869 non-null   object \n",
            " 14  Contract          1869 non-null   object \n",
            " 15  PaperlessBilling  1869 non-null   object \n",
            " 16  PaymentMethod     1869 non-null   object \n",
            " 17  MonthlyCharges    1869 non-null   float64\n",
            "dtypes: float64(1), int64(2), object(15)\n",
            "memory usage: 277.4+ KB\n"
          ]
        }
      ],
      "metadata": {
        "id": "Xk7DU_ekbtX8"
      }
    },
    {
      "cell_type": "markdown",
      "source": [
        "# Regressor: Sklearn"
      ],
      "metadata": {
        "id": "krjAk78Tbyhv"
      }
    },
    {
      "cell_type": "markdown",
      "source": [
        "* In the ML Pipeline, we are using the raw data, therefore we need to create the pipeline with data cleaninig and feature engineering steps\n",
        "  * This pipeline will be used in the Train Set, Test Set and Live Data"
      ],
      "metadata": {
        "id": "wr9LUaOV08Su"
      }
    },
    {
      "cell_type": "markdown",
      "source": [
        "### ML pipeline for Data Cleaning and Feature Engineering"
      ],
      "metadata": {
        "id": "HzSg8Iwjl7dz"
      }
    },
    {
      "cell_type": "markdown",
      "source": [
        "Load Estimators"
      ],
      "metadata": {
        "id": "4MK_AHgh86Sc"
      }
    },
    {
      "cell_type": "code",
      "execution_count": 5,
      "source": [
        "from sklearn.pipeline import Pipeline\n",
        "\n",
        "### Feature Engineering\n",
        "from feature_engine.encoding import OrdinalEncoder\n",
        "from feature_engine.selection import SmartCorrelatedSelection\n",
        "\n",
        "### Feat Scaling\n",
        "from sklearn.preprocessing import StandardScaler\n",
        "\n",
        "### Feat Selection\n",
        "from sklearn.feature_selection import SelectFromModel\n",
        "\n",
        "### ML algorithms \n",
        "from sklearn.tree import DecisionTreeRegressor\n",
        "from xgboost import XGBRegressor\n",
        "from sklearn.ensemble import GradientBoostingRegressor, RandomForestRegressor\n",
        "from sklearn.linear_model import LinearRegression\n",
        "from sklearn.ensemble import AdaBoostRegressor\n",
        "from sklearn.ensemble import ExtraTreesRegressor"
      ],
      "outputs": [],
      "metadata": {
        "id": "AFUD8ofWl7nm"
      }
    },
    {
      "cell_type": "markdown",
      "source": [
        " Pipeline for Data Cleaning and Feat Eng"
      ],
      "metadata": {
        "id": "fr0kimOaAjL6"
      }
    },
    {
      "cell_type": "code",
      "execution_count": 6,
      "source": [
        "def PipelineDataCleaningAndFeatureEngineering():\n",
        "  pipeline_base = Pipeline(\n",
        "      [\n",
        "\n",
        "      (\"OrdinalCategoricalEncoder\",OrdinalEncoder(encoding_method='arbitrary', \n",
        "                                                  variables = [ 'gender', 'Partner', 'Dependents', 'PhoneService',\n",
        "                                                               'MultipleLines', 'InternetService', 'OnlineSecurity',\n",
        "                                                               'OnlineBackup','DeviceProtection', 'TechSupport', \n",
        "                                                               'StreamingTV', 'StreamingMovies','Contract', \n",
        "                                                               'PaperlessBilling', 'PaymentMethod']\n",
        "                                                  )\n",
        "      ),      \n",
        "       \n",
        "\n",
        "      (\"SmartCorrelatedSelection\",SmartCorrelatedSelection(variables=None, method=\"spearman\",\n",
        "                                                           threshold=0.6,selection_method=\"variance\")\n",
        "      ),\n",
        "       \n",
        "    ]\n",
        "  )\n",
        "\n",
        "  return pipeline_base"
      ],
      "outputs": [],
      "metadata": {
        "id": "C6keis6ao8LA"
      }
    },
    {
      "cell_type": "markdown",
      "source": [
        "## ML Pipeline for Modelling and Hyperparameter Optimization"
      ],
      "metadata": {
        "id": "TWTrFyxZWVar"
      }
    },
    {
      "cell_type": "markdown",
      "source": [
        "* Pipeline Optmization: Add Feature Scaling, Feature Selection and Model"
      ],
      "metadata": {
        "id": "hF9V5_ctHbO7"
      }
    },
    {
      "cell_type": "code",
      "execution_count": 7,
      "source": [
        "def PipelineOptimization(model):\n",
        "  pipe = PipelineDataCleaningAndFeatureEngineering()\n",
        "  pipe.steps.append([\"scaler\", StandardScaler()])\n",
        "  pipe.steps.append([\"feat_selection\", SelectFromModel(model)])\n",
        "  pipe.steps.append([\"model\", model])\n",
        "  \n",
        "  return pipe"
      ],
      "outputs": [],
      "metadata": {
        "id": "h8lGTb0yHbZq"
      }
    },
    {
      "cell_type": "markdown",
      "source": [
        "Custom Class for hyperparameter Optimization"
      ],
      "metadata": {
        "id": "lDmjjF3tHuCU"
      }
    },
    {
      "cell_type": "code",
      "execution_count": 8,
      "source": [
        "from sklearn.model_selection import GridSearchCV\n",
        "class HyperparameterOptimizationSearch:\n",
        "\n",
        "    def __init__(self, models, params):\n",
        "        self.models = models\n",
        "        self.params = params\n",
        "        self.keys = models.keys()\n",
        "        self.grid_searches = {}\n",
        "\n",
        "    def fit(self, X, y, cv, n_jobs, verbose=1, scoring=None, refit=False):\n",
        "        for key in self.keys:\n",
        "            print(f\"\\nRunning GridSearchCV for {key} \\n\")\n",
        "            model=  PipelineOptimization(self.models[key])\n",
        "\n",
        "            params = self.params[key]\n",
        "            gs = GridSearchCV(model, params, cv=cv, n_jobs=n_jobs, verbose=verbose, scoring=scoring)\n",
        "            gs.fit(X,y)\n",
        "            self.grid_searches[key] = gs    \n",
        "\n",
        "    def score_summary(self, sort_by='mean_score'):\n",
        "        def row(key, scores, params):\n",
        "            d = {\n",
        "                 'estimator': key,\n",
        "                 'min_score': min(scores),\n",
        "                 'max_score': max(scores),\n",
        "                 'mean_score': np.mean(scores),\n",
        "                 'std_score': np.std(scores),\n",
        "            }\n",
        "            return pd.Series({**params,**d})\n",
        "\n",
        "        rows = []\n",
        "        for k in self.grid_searches:\n",
        "            params = self.grid_searches[k].cv_results_['params']\n",
        "            scores = []\n",
        "            for i in range(self.grid_searches[k].cv):\n",
        "                key = \"split{}_test_score\".format(i)\n",
        "                r = self.grid_searches[k].cv_results_[key]        \n",
        "                scores.append(r.reshape(len(params),1))\n",
        "\n",
        "            all_scores = np.hstack(scores)\n",
        "            for p, s in zip(params,all_scores):\n",
        "                rows.append((row(k, s, p)))\n",
        "\n",
        "        df = pd.concat(rows, axis=1).T.sort_values([sort_by], ascending=False)\n",
        "\n",
        "        columns = ['estimator', 'min_score', 'mean_score', 'max_score', 'std_score']\n",
        "        columns = columns + [c for c in df.columns if c not in columns]\n",
        "\n",
        "        return df[columns], self.grid_searches\n"
      ],
      "outputs": [],
      "metadata": {
        "id": "NpTcVDtQ5RMc"
      }
    },
    {
      "cell_type": "markdown",
      "source": [
        "## Split Train Test Set"
      ],
      "metadata": {
        "id": "LD6B3CuhiDMT"
      }
    },
    {
      "cell_type": "markdown",
      "source": [
        "Quick recap in our raw dataset"
      ],
      "metadata": {
        "id": "kpxaylKk-6CQ"
      }
    },
    {
      "cell_type": "code",
      "execution_count": 9,
      "source": [
        "print(df.shape)\n",
        "df.head(3)"
      ],
      "outputs": [
        {
          "output_type": "stream",
          "name": "stdout",
          "text": [
            "(1869, 18)\n"
          ]
        },
        {
          "output_type": "execute_result",
          "data": {
            "text/plain": [
              "   gender  SeniorCitizen Partner Dependents  tenure PhoneService  \\\n",
              "2    Male              0      No         No       2          Yes   \n",
              "4  Female              0      No         No       2          Yes   \n",
              "5  Female              0      No         No       8          Yes   \n",
              "\n",
              "  MultipleLines InternetService OnlineSecurity OnlineBackup DeviceProtection  \\\n",
              "2            No             DSL            Yes          Yes               No   \n",
              "4            No     Fiber optic             No           No               No   \n",
              "5           Yes     Fiber optic             No           No              Yes   \n",
              "\n",
              "  TechSupport StreamingTV StreamingMovies        Contract PaperlessBilling  \\\n",
              "2          No          No              No  Month-to-month              Yes   \n",
              "4          No          No              No  Month-to-month              Yes   \n",
              "5          No         Yes             Yes  Month-to-month              Yes   \n",
              "\n",
              "      PaymentMethod  MonthlyCharges  \n",
              "2      Mailed check           53.85  \n",
              "4  Electronic check           70.70  \n",
              "5  Electronic check           99.65  "
            ],
            "text/html": [
              "<div>\n",
              "<style scoped>\n",
              "    .dataframe tbody tr th:only-of-type {\n",
              "        vertical-align: middle;\n",
              "    }\n",
              "\n",
              "    .dataframe tbody tr th {\n",
              "        vertical-align: top;\n",
              "    }\n",
              "\n",
              "    .dataframe thead th {\n",
              "        text-align: right;\n",
              "    }\n",
              "</style>\n",
              "<table border=\"1\" class=\"dataframe\">\n",
              "  <thead>\n",
              "    <tr style=\"text-align: right;\">\n",
              "      <th></th>\n",
              "      <th>gender</th>\n",
              "      <th>SeniorCitizen</th>\n",
              "      <th>Partner</th>\n",
              "      <th>Dependents</th>\n",
              "      <th>tenure</th>\n",
              "      <th>PhoneService</th>\n",
              "      <th>MultipleLines</th>\n",
              "      <th>InternetService</th>\n",
              "      <th>OnlineSecurity</th>\n",
              "      <th>OnlineBackup</th>\n",
              "      <th>DeviceProtection</th>\n",
              "      <th>TechSupport</th>\n",
              "      <th>StreamingTV</th>\n",
              "      <th>StreamingMovies</th>\n",
              "      <th>Contract</th>\n",
              "      <th>PaperlessBilling</th>\n",
              "      <th>PaymentMethod</th>\n",
              "      <th>MonthlyCharges</th>\n",
              "    </tr>\n",
              "  </thead>\n",
              "  <tbody>\n",
              "    <tr>\n",
              "      <th>2</th>\n",
              "      <td>Male</td>\n",
              "      <td>0</td>\n",
              "      <td>No</td>\n",
              "      <td>No</td>\n",
              "      <td>2</td>\n",
              "      <td>Yes</td>\n",
              "      <td>No</td>\n",
              "      <td>DSL</td>\n",
              "      <td>Yes</td>\n",
              "      <td>Yes</td>\n",
              "      <td>No</td>\n",
              "      <td>No</td>\n",
              "      <td>No</td>\n",
              "      <td>No</td>\n",
              "      <td>Month-to-month</td>\n",
              "      <td>Yes</td>\n",
              "      <td>Mailed check</td>\n",
              "      <td>53.85</td>\n",
              "    </tr>\n",
              "    <tr>\n",
              "      <th>4</th>\n",
              "      <td>Female</td>\n",
              "      <td>0</td>\n",
              "      <td>No</td>\n",
              "      <td>No</td>\n",
              "      <td>2</td>\n",
              "      <td>Yes</td>\n",
              "      <td>No</td>\n",
              "      <td>Fiber optic</td>\n",
              "      <td>No</td>\n",
              "      <td>No</td>\n",
              "      <td>No</td>\n",
              "      <td>No</td>\n",
              "      <td>No</td>\n",
              "      <td>No</td>\n",
              "      <td>Month-to-month</td>\n",
              "      <td>Yes</td>\n",
              "      <td>Electronic check</td>\n",
              "      <td>70.70</td>\n",
              "    </tr>\n",
              "    <tr>\n",
              "      <th>5</th>\n",
              "      <td>Female</td>\n",
              "      <td>0</td>\n",
              "      <td>No</td>\n",
              "      <td>No</td>\n",
              "      <td>8</td>\n",
              "      <td>Yes</td>\n",
              "      <td>Yes</td>\n",
              "      <td>Fiber optic</td>\n",
              "      <td>No</td>\n",
              "      <td>No</td>\n",
              "      <td>Yes</td>\n",
              "      <td>No</td>\n",
              "      <td>Yes</td>\n",
              "      <td>Yes</td>\n",
              "      <td>Month-to-month</td>\n",
              "      <td>Yes</td>\n",
              "      <td>Electronic check</td>\n",
              "      <td>99.65</td>\n",
              "    </tr>\n",
              "  </tbody>\n",
              "</table>\n",
              "</div>"
            ]
          },
          "metadata": {},
          "execution_count": 9
        }
      ],
      "metadata": {
        "id": "zfKHc63v-6Zm"
      }
    },
    {
      "cell_type": "markdown",
      "source": [
        "Split Train and Test Set"
      ],
      "metadata": {
        "id": "Gs6mDnoDhzwj"
      }
    },
    {
      "cell_type": "code",
      "execution_count": 10,
      "source": [
        "from sklearn.model_selection import train_test_split\n",
        "X_train, X_test,y_train, y_test = train_test_split(\n",
        "                                    df.drop(['tenure'],axis=1),\n",
        "                                    df['tenure'],\n",
        "                                    test_size=0.2,\n",
        "                                    random_state=0\n",
        "                                    )\n",
        "\n",
        "print(\"* Train set:\", X_train.shape, y_train.shape, \"\\n* Test set:\",  X_test.shape, y_test.shape)"
      ],
      "outputs": [
        {
          "output_type": "stream",
          "name": "stdout",
          "text": [
            "* Train set: (1495, 17) (1495,) \n",
            "* Test set: (374, 17) (374,)\n"
          ]
        }
      ],
      "metadata": {
        "id": "-pFzP2iGiIk1"
      }
    },
    {
      "cell_type": "markdown",
      "source": [
        "## Target Distribution Analysis"
      ],
      "metadata": {
        "id": "j285uIq1f3h3"
      }
    },
    {
      "cell_type": "code",
      "execution_count": 11,
      "source": [
        "import seaborn as sns\n",
        "import matplotlib.pyplot as plt\n",
        "sns.set_style(\"whitegrid\")\n",
        "\n",
        "def Target_DistributionAndStats(y_train,y_test):\n",
        "\n",
        "  figure, ax = plt.subplots(nrows=1, ncols=2,figsize=(12,3))\n",
        "  sns.histplot(x=y_train, kde=True,ax=ax[0]).set(title='y train')\n",
        "  sns.histplot(x=y_test, kde=True,ax=ax[1]).set(title='y test')\n",
        "  plt.show()\n",
        "\n",
        "  print(\"\\n* Train set - target descriptive stats: \\n\", y_train.describe().to_frame().round(3))\n",
        "  print(f\"\\n* Train set skewness: {y_train.skew().round(3)}, and kurtosis: {y_train.kurt().round(3)} \\n\\n\")"
      ],
      "outputs": [],
      "metadata": {
        "id": "Q0IYJz0uf2CT"
      }
    },
    {
      "cell_type": "code",
      "execution_count": 12,
      "source": [
        "Target_DistributionAndStats(y_train, y_test)"
      ],
      "outputs": [
        {
          "output_type": "display_data",
          "data": {
            "text/plain": [
              "<Figure size 864x216 with 2 Axes>"
            ],
            "image/svg+xml": "<?xml version=\"1.0\" encoding=\"utf-8\" standalone=\"no\"?>\n<!DOCTYPE svg PUBLIC \"-//W3C//DTD SVG 1.1//EN\"\n  \"http://www.w3.org/Graphics/SVG/1.1/DTD/svg11.dtd\">\n<!-- Created with matplotlib (https://matplotlib.org/) -->\n<svg height=\"222.954375pt\" version=\"1.1\" viewBox=\"0 0 723.765625 222.954375\" width=\"723.765625pt\" xmlns=\"http://www.w3.org/2000/svg\" xmlns:xlink=\"http://www.w3.org/1999/xlink\">\n <metadata>\n  <rdf:RDF xmlns:cc=\"http://creativecommons.org/ns#\" xmlns:dc=\"http://purl.org/dc/elements/1.1/\" xmlns:rdf=\"http://www.w3.org/1999/02/22-rdf-syntax-ns#\">\n   <cc:Work>\n    <dc:type rdf:resource=\"http://purl.org/dc/dcmitype/StillImage\"/>\n    <dc:date>2021-09-29T12:54:25.711448</dc:date>\n    <dc:format>image/svg+xml</dc:format>\n    <dc:creator>\n     <cc:Agent>\n      <dc:title>Matplotlib v3.3.1, https://matplotlib.org/</dc:title>\n     </cc:Agent>\n    </dc:creator>\n   </cc:Work>\n  </rdf:RDF>\n </metadata>\n <defs>\n  <style type=\"text/css\">*{stroke-linecap:butt;stroke-linejoin:round;}</style>\n </defs>\n <g id=\"figure_1\">\n  <g id=\"patch_1\">\n   <path d=\"M 0 222.954375 \nL 723.765625 222.954375 \nL 723.765625 0 \nL 0 0 \nz\n\" style=\"fill:#ffffff;\"/>\n  </g>\n  <g id=\"axes_1\">\n   <g id=\"patch_2\">\n    <path d=\"M 46.965625 185.398125 \nL 351.329261 185.398125 \nL 351.329261 22.318125 \nL 46.965625 22.318125 \nz\n\" style=\"fill:#ffffff;\"/>\n   </g>\n   <g id=\"matplotlib.axis_1\">\n    <g id=\"xtick_1\">\n     <g id=\"line2d_1\">\n      <path clip-path=\"url(#pf45d524e8b)\" d=\"M 56.903234 185.398125 \nL 56.903234 22.318125 \n\" style=\"fill:none;stroke:#cccccc;stroke-linecap:round;stroke-width:0.8;\"/>\n     </g>\n     <g id=\"text_1\">\n      <!-- 0 -->\n      <g style=\"fill:#262626;\" transform=\"translate(53.721984 199.996562)scale(0.1 -0.1)\">\n       <defs>\n        <path d=\"M 31.78125 66.40625 \nQ 24.171875 66.40625 20.328125 58.90625 \nQ 16.5 51.421875 16.5 36.375 \nQ 16.5 21.390625 20.328125 13.890625 \nQ 24.171875 6.390625 31.78125 6.390625 \nQ 39.453125 6.390625 43.28125 13.890625 \nQ 47.125 21.390625 47.125 36.375 \nQ 47.125 51.421875 43.28125 58.90625 \nQ 39.453125 66.40625 31.78125 66.40625 \nz\nM 31.78125 74.21875 \nQ 44.046875 74.21875 50.515625 64.515625 \nQ 56.984375 54.828125 56.984375 36.375 \nQ 56.984375 17.96875 50.515625 8.265625 \nQ 44.046875 -1.421875 31.78125 -1.421875 \nQ 19.53125 -1.421875 13.0625 8.265625 \nQ 6.59375 17.96875 6.59375 36.375 \nQ 6.59375 54.828125 13.0625 64.515625 \nQ 19.53125 74.21875 31.78125 74.21875 \nz\n\" id=\"DejaVuSans-48\"/>\n       </defs>\n       <use xlink:href=\"#DejaVuSans-48\"/>\n      </g>\n     </g>\n    </g>\n    <g id=\"xtick_2\">\n     <g id=\"line2d_2\">\n      <path clip-path=\"url(#pf45d524e8b)\" d=\"M 95.87425 185.398125 \nL 95.87425 22.318125 \n\" style=\"fill:none;stroke:#cccccc;stroke-linecap:round;stroke-width:0.8;\"/>\n     </g>\n     <g id=\"text_2\">\n      <!-- 10 -->\n      <g style=\"fill:#262626;\" transform=\"translate(89.51175 199.996562)scale(0.1 -0.1)\">\n       <defs>\n        <path d=\"M 12.40625 8.296875 \nL 28.515625 8.296875 \nL 28.515625 63.921875 \nL 10.984375 60.40625 \nL 10.984375 69.390625 \nL 28.421875 72.90625 \nL 38.28125 72.90625 \nL 38.28125 8.296875 \nL 54.390625 8.296875 \nL 54.390625 0 \nL 12.40625 0 \nz\n\" id=\"DejaVuSans-49\"/>\n       </defs>\n       <use xlink:href=\"#DejaVuSans-49\"/>\n       <use x=\"63.623047\" xlink:href=\"#DejaVuSans-48\"/>\n      </g>\n     </g>\n    </g>\n    <g id=\"xtick_3\">\n     <g id=\"line2d_3\">\n      <path clip-path=\"url(#pf45d524e8b)\" d=\"M 134.845266 185.398125 \nL 134.845266 22.318125 \n\" style=\"fill:none;stroke:#cccccc;stroke-linecap:round;stroke-width:0.8;\"/>\n     </g>\n     <g id=\"text_3\">\n      <!-- 20 -->\n      <g style=\"fill:#262626;\" transform=\"translate(128.482766 199.996562)scale(0.1 -0.1)\">\n       <defs>\n        <path d=\"M 19.1875 8.296875 \nL 53.609375 8.296875 \nL 53.609375 0 \nL 7.328125 0 \nL 7.328125 8.296875 \nQ 12.9375 14.109375 22.625 23.890625 \nQ 32.328125 33.6875 34.8125 36.53125 \nQ 39.546875 41.84375 41.421875 45.53125 \nQ 43.3125 49.21875 43.3125 52.78125 \nQ 43.3125 58.59375 39.234375 62.25 \nQ 35.15625 65.921875 28.609375 65.921875 \nQ 23.96875 65.921875 18.8125 64.3125 \nQ 13.671875 62.703125 7.8125 59.421875 \nL 7.8125 69.390625 \nQ 13.765625 71.78125 18.9375 73 \nQ 24.125 74.21875 28.421875 74.21875 \nQ 39.75 74.21875 46.484375 68.546875 \nQ 53.21875 62.890625 53.21875 53.421875 \nQ 53.21875 48.921875 51.53125 44.890625 \nQ 49.859375 40.875 45.40625 35.40625 \nQ 44.1875 33.984375 37.640625 27.21875 \nQ 31.109375 20.453125 19.1875 8.296875 \nz\n\" id=\"DejaVuSans-50\"/>\n       </defs>\n       <use xlink:href=\"#DejaVuSans-50\"/>\n       <use x=\"63.623047\" xlink:href=\"#DejaVuSans-48\"/>\n      </g>\n     </g>\n    </g>\n    <g id=\"xtick_4\">\n     <g id=\"line2d_4\">\n      <path clip-path=\"url(#pf45d524e8b)\" d=\"M 173.816283 185.398125 \nL 173.816283 22.318125 \n\" style=\"fill:none;stroke:#cccccc;stroke-linecap:round;stroke-width:0.8;\"/>\n     </g>\n     <g id=\"text_4\">\n      <!-- 30 -->\n      <g style=\"fill:#262626;\" transform=\"translate(167.453783 199.996562)scale(0.1 -0.1)\">\n       <defs>\n        <path d=\"M 40.578125 39.3125 \nQ 47.65625 37.796875 51.625 33 \nQ 55.609375 28.21875 55.609375 21.1875 \nQ 55.609375 10.40625 48.1875 4.484375 \nQ 40.765625 -1.421875 27.09375 -1.421875 \nQ 22.515625 -1.421875 17.65625 -0.515625 \nQ 12.796875 0.390625 7.625 2.203125 \nL 7.625 11.71875 \nQ 11.71875 9.328125 16.59375 8.109375 \nQ 21.484375 6.890625 26.8125 6.890625 \nQ 36.078125 6.890625 40.9375 10.546875 \nQ 45.796875 14.203125 45.796875 21.1875 \nQ 45.796875 27.640625 41.28125 31.265625 \nQ 36.765625 34.90625 28.71875 34.90625 \nL 20.21875 34.90625 \nL 20.21875 43.015625 \nL 29.109375 43.015625 \nQ 36.375 43.015625 40.234375 45.921875 \nQ 44.09375 48.828125 44.09375 54.296875 \nQ 44.09375 59.90625 40.109375 62.90625 \nQ 36.140625 65.921875 28.71875 65.921875 \nQ 24.65625 65.921875 20.015625 65.03125 \nQ 15.375 64.15625 9.8125 62.3125 \nL 9.8125 71.09375 \nQ 15.4375 72.65625 20.34375 73.4375 \nQ 25.25 74.21875 29.59375 74.21875 \nQ 40.828125 74.21875 47.359375 69.109375 \nQ 53.90625 64.015625 53.90625 55.328125 \nQ 53.90625 49.265625 50.4375 45.09375 \nQ 46.96875 40.921875 40.578125 39.3125 \nz\n\" id=\"DejaVuSans-51\"/>\n       </defs>\n       <use xlink:href=\"#DejaVuSans-51\"/>\n       <use x=\"63.623047\" xlink:href=\"#DejaVuSans-48\"/>\n      </g>\n     </g>\n    </g>\n    <g id=\"xtick_5\">\n     <g id=\"line2d_5\">\n      <path clip-path=\"url(#pf45d524e8b)\" d=\"M 212.787299 185.398125 \nL 212.787299 22.318125 \n\" style=\"fill:none;stroke:#cccccc;stroke-linecap:round;stroke-width:0.8;\"/>\n     </g>\n     <g id=\"text_5\">\n      <!-- 40 -->\n      <g style=\"fill:#262626;\" transform=\"translate(206.424799 199.996562)scale(0.1 -0.1)\">\n       <defs>\n        <path d=\"M 37.796875 64.3125 \nL 12.890625 25.390625 \nL 37.796875 25.390625 \nz\nM 35.203125 72.90625 \nL 47.609375 72.90625 \nL 47.609375 25.390625 \nL 58.015625 25.390625 \nL 58.015625 17.1875 \nL 47.609375 17.1875 \nL 47.609375 0 \nL 37.796875 0 \nL 37.796875 17.1875 \nL 4.890625 17.1875 \nL 4.890625 26.703125 \nz\n\" id=\"DejaVuSans-52\"/>\n       </defs>\n       <use xlink:href=\"#DejaVuSans-52\"/>\n       <use x=\"63.623047\" xlink:href=\"#DejaVuSans-48\"/>\n      </g>\n     </g>\n    </g>\n    <g id=\"xtick_6\">\n     <g id=\"line2d_6\">\n      <path clip-path=\"url(#pf45d524e8b)\" d=\"M 251.758315 185.398125 \nL 251.758315 22.318125 \n\" style=\"fill:none;stroke:#cccccc;stroke-linecap:round;stroke-width:0.8;\"/>\n     </g>\n     <g id=\"text_6\">\n      <!-- 50 -->\n      <g style=\"fill:#262626;\" transform=\"translate(245.395815 199.996562)scale(0.1 -0.1)\">\n       <defs>\n        <path d=\"M 10.796875 72.90625 \nL 49.515625 72.90625 \nL 49.515625 64.59375 \nL 19.828125 64.59375 \nL 19.828125 46.734375 \nQ 21.96875 47.46875 24.109375 47.828125 \nQ 26.265625 48.1875 28.421875 48.1875 \nQ 40.625 48.1875 47.75 41.5 \nQ 54.890625 34.8125 54.890625 23.390625 \nQ 54.890625 11.625 47.5625 5.09375 \nQ 40.234375 -1.421875 26.90625 -1.421875 \nQ 22.3125 -1.421875 17.546875 -0.640625 \nQ 12.796875 0.140625 7.71875 1.703125 \nL 7.71875 11.625 \nQ 12.109375 9.234375 16.796875 8.0625 \nQ 21.484375 6.890625 26.703125 6.890625 \nQ 35.15625 6.890625 40.078125 11.328125 \nQ 45.015625 15.765625 45.015625 23.390625 \nQ 45.015625 31 40.078125 35.4375 \nQ 35.15625 39.890625 26.703125 39.890625 \nQ 22.75 39.890625 18.8125 39.015625 \nQ 14.890625 38.140625 10.796875 36.28125 \nz\n\" id=\"DejaVuSans-53\"/>\n       </defs>\n       <use xlink:href=\"#DejaVuSans-53\"/>\n       <use x=\"63.623047\" xlink:href=\"#DejaVuSans-48\"/>\n      </g>\n     </g>\n    </g>\n    <g id=\"xtick_7\">\n     <g id=\"line2d_7\">\n      <path clip-path=\"url(#pf45d524e8b)\" d=\"M 290.729331 185.398125 \nL 290.729331 22.318125 \n\" style=\"fill:none;stroke:#cccccc;stroke-linecap:round;stroke-width:0.8;\"/>\n     </g>\n     <g id=\"text_7\">\n      <!-- 60 -->\n      <g style=\"fill:#262626;\" transform=\"translate(284.366831 199.996562)scale(0.1 -0.1)\">\n       <defs>\n        <path d=\"M 33.015625 40.375 \nQ 26.375 40.375 22.484375 35.828125 \nQ 18.609375 31.296875 18.609375 23.390625 \nQ 18.609375 15.53125 22.484375 10.953125 \nQ 26.375 6.390625 33.015625 6.390625 \nQ 39.65625 6.390625 43.53125 10.953125 \nQ 47.40625 15.53125 47.40625 23.390625 \nQ 47.40625 31.296875 43.53125 35.828125 \nQ 39.65625 40.375 33.015625 40.375 \nz\nM 52.59375 71.296875 \nL 52.59375 62.3125 \nQ 48.875 64.0625 45.09375 64.984375 \nQ 41.3125 65.921875 37.59375 65.921875 \nQ 27.828125 65.921875 22.671875 59.328125 \nQ 17.53125 52.734375 16.796875 39.40625 \nQ 19.671875 43.65625 24.015625 45.921875 \nQ 28.375 48.1875 33.59375 48.1875 \nQ 44.578125 48.1875 50.953125 41.515625 \nQ 57.328125 34.859375 57.328125 23.390625 \nQ 57.328125 12.15625 50.6875 5.359375 \nQ 44.046875 -1.421875 33.015625 -1.421875 \nQ 20.359375 -1.421875 13.671875 8.265625 \nQ 6.984375 17.96875 6.984375 36.375 \nQ 6.984375 53.65625 15.1875 63.9375 \nQ 23.390625 74.21875 37.203125 74.21875 \nQ 40.921875 74.21875 44.703125 73.484375 \nQ 48.484375 72.75 52.59375 71.296875 \nz\n\" id=\"DejaVuSans-54\"/>\n       </defs>\n       <use xlink:href=\"#DejaVuSans-54\"/>\n       <use x=\"63.623047\" xlink:href=\"#DejaVuSans-48\"/>\n      </g>\n     </g>\n    </g>\n    <g id=\"xtick_8\">\n     <g id=\"line2d_8\">\n      <path clip-path=\"url(#pf45d524e8b)\" d=\"M 329.700347 185.398125 \nL 329.700347 22.318125 \n\" style=\"fill:none;stroke:#cccccc;stroke-linecap:round;stroke-width:0.8;\"/>\n     </g>\n     <g id=\"text_8\">\n      <!-- 70 -->\n      <g style=\"fill:#262626;\" transform=\"translate(323.337847 199.996562)scale(0.1 -0.1)\">\n       <defs>\n        <path d=\"M 8.203125 72.90625 \nL 55.078125 72.90625 \nL 55.078125 68.703125 \nL 28.609375 0 \nL 18.3125 0 \nL 43.21875 64.59375 \nL 8.203125 64.59375 \nz\n\" id=\"DejaVuSans-55\"/>\n       </defs>\n       <use xlink:href=\"#DejaVuSans-55\"/>\n       <use x=\"63.623047\" xlink:href=\"#DejaVuSans-48\"/>\n      </g>\n     </g>\n    </g>\n    <g id=\"text_9\">\n     <!-- tenure -->\n     <g style=\"fill:#262626;\" transform=\"translate(182.753693 213.674688)scale(0.1 -0.1)\">\n      <defs>\n       <path d=\"M 18.3125 70.21875 \nL 18.3125 54.6875 \nL 36.8125 54.6875 \nL 36.8125 47.703125 \nL 18.3125 47.703125 \nL 18.3125 18.015625 \nQ 18.3125 11.328125 20.140625 9.421875 \nQ 21.96875 7.515625 27.59375 7.515625 \nL 36.8125 7.515625 \nL 36.8125 0 \nL 27.59375 0 \nQ 17.1875 0 13.234375 3.875 \nQ 9.28125 7.765625 9.28125 18.015625 \nL 9.28125 47.703125 \nL 2.6875 47.703125 \nL 2.6875 54.6875 \nL 9.28125 54.6875 \nL 9.28125 70.21875 \nz\n\" id=\"DejaVuSans-116\"/>\n       <path d=\"M 56.203125 29.59375 \nL 56.203125 25.203125 \nL 14.890625 25.203125 \nQ 15.484375 15.921875 20.484375 11.0625 \nQ 25.484375 6.203125 34.421875 6.203125 \nQ 39.59375 6.203125 44.453125 7.46875 \nQ 49.3125 8.734375 54.109375 11.28125 \nL 54.109375 2.78125 \nQ 49.265625 0.734375 44.1875 -0.34375 \nQ 39.109375 -1.421875 33.890625 -1.421875 \nQ 20.796875 -1.421875 13.15625 6.1875 \nQ 5.515625 13.8125 5.515625 26.8125 \nQ 5.515625 40.234375 12.765625 48.109375 \nQ 20.015625 56 32.328125 56 \nQ 43.359375 56 49.78125 48.890625 \nQ 56.203125 41.796875 56.203125 29.59375 \nz\nM 47.21875 32.234375 \nQ 47.125 39.59375 43.09375 43.984375 \nQ 39.0625 48.390625 32.421875 48.390625 \nQ 24.90625 48.390625 20.390625 44.140625 \nQ 15.875 39.890625 15.1875 32.171875 \nz\n\" id=\"DejaVuSans-101\"/>\n       <path d=\"M 54.890625 33.015625 \nL 54.890625 0 \nL 45.90625 0 \nL 45.90625 32.71875 \nQ 45.90625 40.484375 42.875 44.328125 \nQ 39.84375 48.1875 33.796875 48.1875 \nQ 26.515625 48.1875 22.3125 43.546875 \nQ 18.109375 38.921875 18.109375 30.90625 \nL 18.109375 0 \nL 9.078125 0 \nL 9.078125 54.6875 \nL 18.109375 54.6875 \nL 18.109375 46.1875 \nQ 21.34375 51.125 25.703125 53.5625 \nQ 30.078125 56 35.796875 56 \nQ 45.21875 56 50.046875 50.171875 \nQ 54.890625 44.34375 54.890625 33.015625 \nz\n\" id=\"DejaVuSans-110\"/>\n       <path d=\"M 8.5 21.578125 \nL 8.5 54.6875 \nL 17.484375 54.6875 \nL 17.484375 21.921875 \nQ 17.484375 14.15625 20.5 10.265625 \nQ 23.53125 6.390625 29.59375 6.390625 \nQ 36.859375 6.390625 41.078125 11.03125 \nQ 45.3125 15.671875 45.3125 23.6875 \nL 45.3125 54.6875 \nL 54.296875 54.6875 \nL 54.296875 0 \nL 45.3125 0 \nL 45.3125 8.40625 \nQ 42.046875 3.421875 37.71875 1 \nQ 33.40625 -1.421875 27.6875 -1.421875 \nQ 18.265625 -1.421875 13.375 4.4375 \nQ 8.5 10.296875 8.5 21.578125 \nz\nM 31.109375 56 \nz\n\" id=\"DejaVuSans-117\"/>\n       <path d=\"M 41.109375 46.296875 \nQ 39.59375 47.171875 37.8125 47.578125 \nQ 36.03125 48 33.890625 48 \nQ 26.265625 48 22.1875 43.046875 \nQ 18.109375 38.09375 18.109375 28.8125 \nL 18.109375 0 \nL 9.078125 0 \nL 9.078125 54.6875 \nL 18.109375 54.6875 \nL 18.109375 46.1875 \nQ 20.953125 51.171875 25.484375 53.578125 \nQ 30.03125 56 36.53125 56 \nQ 37.453125 56 38.578125 55.875 \nQ 39.703125 55.765625 41.0625 55.515625 \nz\n\" id=\"DejaVuSans-114\"/>\n      </defs>\n      <use xlink:href=\"#DejaVuSans-116\"/>\n      <use x=\"39.208984\" xlink:href=\"#DejaVuSans-101\"/>\n      <use x=\"100.732422\" xlink:href=\"#DejaVuSans-110\"/>\n      <use x=\"164.111328\" xlink:href=\"#DejaVuSans-117\"/>\n      <use x=\"227.490234\" xlink:href=\"#DejaVuSans-114\"/>\n      <use x=\"266.353516\" xlink:href=\"#DejaVuSans-101\"/>\n     </g>\n    </g>\n   </g>\n   <g id=\"matplotlib.axis_2\">\n    <g id=\"ytick_1\">\n     <g id=\"line2d_9\">\n      <path clip-path=\"url(#pf45d524e8b)\" d=\"M 46.965625 185.398125 \nL 351.329261 185.398125 \n\" style=\"fill:none;stroke:#cccccc;stroke-linecap:round;stroke-width:0.8;\"/>\n     </g>\n     <g id=\"text_10\">\n      <!-- 0 -->\n      <g style=\"fill:#262626;\" transform=\"translate(33.603125 189.197344)scale(0.1 -0.1)\">\n       <use xlink:href=\"#DejaVuSans-48\"/>\n      </g>\n     </g>\n    </g>\n    <g id=\"ytick_2\">\n     <g id=\"line2d_10\">\n      <path clip-path=\"url(#pf45d524e8b)\" d=\"M 46.965625 159.07367 \nL 351.329261 159.07367 \n\" style=\"fill:none;stroke:#cccccc;stroke-linecap:round;stroke-width:0.8;\"/>\n     </g>\n     <g id=\"text_11\">\n      <!-- 100 -->\n      <g style=\"fill:#262626;\" transform=\"translate(20.878125 162.872889)scale(0.1 -0.1)\">\n       <use xlink:href=\"#DejaVuSans-49\"/>\n       <use x=\"63.623047\" xlink:href=\"#DejaVuSans-48\"/>\n       <use x=\"127.246094\" xlink:href=\"#DejaVuSans-48\"/>\n      </g>\n     </g>\n    </g>\n    <g id=\"ytick_3\">\n     <g id=\"line2d_11\">\n      <path clip-path=\"url(#pf45d524e8b)\" d=\"M 46.965625 132.749215 \nL 351.329261 132.749215 \n\" style=\"fill:none;stroke:#cccccc;stroke-linecap:round;stroke-width:0.8;\"/>\n     </g>\n     <g id=\"text_12\">\n      <!-- 200 -->\n      <g style=\"fill:#262626;\" transform=\"translate(20.878125 136.548433)scale(0.1 -0.1)\">\n       <use xlink:href=\"#DejaVuSans-50\"/>\n       <use x=\"63.623047\" xlink:href=\"#DejaVuSans-48\"/>\n       <use x=\"127.246094\" xlink:href=\"#DejaVuSans-48\"/>\n      </g>\n     </g>\n    </g>\n    <g id=\"ytick_4\">\n     <g id=\"line2d_12\">\n      <path clip-path=\"url(#pf45d524e8b)\" d=\"M 46.965625 106.424759 \nL 351.329261 106.424759 \n\" style=\"fill:none;stroke:#cccccc;stroke-linecap:round;stroke-width:0.8;\"/>\n     </g>\n     <g id=\"text_13\">\n      <!-- 300 -->\n      <g style=\"fill:#262626;\" transform=\"translate(20.878125 110.223978)scale(0.1 -0.1)\">\n       <use xlink:href=\"#DejaVuSans-51\"/>\n       <use x=\"63.623047\" xlink:href=\"#DejaVuSans-48\"/>\n       <use x=\"127.246094\" xlink:href=\"#DejaVuSans-48\"/>\n      </g>\n     </g>\n    </g>\n    <g id=\"ytick_5\">\n     <g id=\"line2d_13\">\n      <path clip-path=\"url(#pf45d524e8b)\" d=\"M 46.965625 80.100304 \nL 351.329261 80.100304 \n\" style=\"fill:none;stroke:#cccccc;stroke-linecap:round;stroke-width:0.8;\"/>\n     </g>\n     <g id=\"text_14\">\n      <!-- 400 -->\n      <g style=\"fill:#262626;\" transform=\"translate(20.878125 83.899523)scale(0.1 -0.1)\">\n       <use xlink:href=\"#DejaVuSans-52\"/>\n       <use x=\"63.623047\" xlink:href=\"#DejaVuSans-48\"/>\n       <use x=\"127.246094\" xlink:href=\"#DejaVuSans-48\"/>\n      </g>\n     </g>\n    </g>\n    <g id=\"ytick_6\">\n     <g id=\"line2d_14\">\n      <path clip-path=\"url(#pf45d524e8b)\" d=\"M 46.965625 53.775849 \nL 351.329261 53.775849 \n\" style=\"fill:none;stroke:#cccccc;stroke-linecap:round;stroke-width:0.8;\"/>\n     </g>\n     <g id=\"text_15\">\n      <!-- 500 -->\n      <g style=\"fill:#262626;\" transform=\"translate(20.878125 57.575068)scale(0.1 -0.1)\">\n       <use xlink:href=\"#DejaVuSans-53\"/>\n       <use x=\"63.623047\" xlink:href=\"#DejaVuSans-48\"/>\n       <use x=\"127.246094\" xlink:href=\"#DejaVuSans-48\"/>\n      </g>\n     </g>\n    </g>\n    <g id=\"ytick_7\">\n     <g id=\"line2d_15\">\n      <path clip-path=\"url(#pf45d524e8b)\" d=\"M 46.965625 27.451394 \nL 351.329261 27.451394 \n\" style=\"fill:none;stroke:#cccccc;stroke-linecap:round;stroke-width:0.8;\"/>\n     </g>\n     <g id=\"text_16\">\n      <!-- 600 -->\n      <g style=\"fill:#262626;\" transform=\"translate(20.878125 31.250613)scale(0.1 -0.1)\">\n       <use xlink:href=\"#DejaVuSans-54\"/>\n       <use x=\"63.623047\" xlink:href=\"#DejaVuSans-48\"/>\n       <use x=\"127.246094\" xlink:href=\"#DejaVuSans-48\"/>\n      </g>\n     </g>\n    </g>\n    <g id=\"text_17\">\n     <!-- Count -->\n     <g style=\"fill:#262626;\" transform=\"translate(14.798438 118.706562)rotate(-90)scale(0.1 -0.1)\">\n      <defs>\n       <path d=\"M 64.40625 67.28125 \nL 64.40625 56.890625 \nQ 59.421875 61.53125 53.78125 63.8125 \nQ 48.140625 66.109375 41.796875 66.109375 \nQ 29.296875 66.109375 22.65625 58.46875 \nQ 16.015625 50.828125 16.015625 36.375 \nQ 16.015625 21.96875 22.65625 14.328125 \nQ 29.296875 6.6875 41.796875 6.6875 \nQ 48.140625 6.6875 53.78125 8.984375 \nQ 59.421875 11.28125 64.40625 15.921875 \nL 64.40625 5.609375 \nQ 59.234375 2.09375 53.4375 0.328125 \nQ 47.65625 -1.421875 41.21875 -1.421875 \nQ 24.65625 -1.421875 15.125 8.703125 \nQ 5.609375 18.84375 5.609375 36.375 \nQ 5.609375 53.953125 15.125 64.078125 \nQ 24.65625 74.21875 41.21875 74.21875 \nQ 47.75 74.21875 53.53125 72.484375 \nQ 59.328125 70.75 64.40625 67.28125 \nz\n\" id=\"DejaVuSans-67\"/>\n       <path d=\"M 30.609375 48.390625 \nQ 23.390625 48.390625 19.1875 42.75 \nQ 14.984375 37.109375 14.984375 27.296875 \nQ 14.984375 17.484375 19.15625 11.84375 \nQ 23.34375 6.203125 30.609375 6.203125 \nQ 37.796875 6.203125 41.984375 11.859375 \nQ 46.1875 17.53125 46.1875 27.296875 \nQ 46.1875 37.015625 41.984375 42.703125 \nQ 37.796875 48.390625 30.609375 48.390625 \nz\nM 30.609375 56 \nQ 42.328125 56 49.015625 48.375 \nQ 55.71875 40.765625 55.71875 27.296875 \nQ 55.71875 13.875 49.015625 6.21875 \nQ 42.328125 -1.421875 30.609375 -1.421875 \nQ 18.84375 -1.421875 12.171875 6.21875 \nQ 5.515625 13.875 5.515625 27.296875 \nQ 5.515625 40.765625 12.171875 48.375 \nQ 18.84375 56 30.609375 56 \nz\n\" id=\"DejaVuSans-111\"/>\n      </defs>\n      <use xlink:href=\"#DejaVuSans-67\"/>\n      <use x=\"69.824219\" xlink:href=\"#DejaVuSans-111\"/>\n      <use x=\"131.005859\" xlink:href=\"#DejaVuSans-117\"/>\n      <use x=\"194.384766\" xlink:href=\"#DejaVuSans-110\"/>\n      <use x=\"257.763672\" xlink:href=\"#DejaVuSans-116\"/>\n     </g>\n    </g>\n   </g>\n   <g id=\"patch_3\">\n    <path clip-path=\"url(#pf45d524e8b)\" d=\"M 60.800336 185.398125 \nL 78.093724 185.398125 \nL 78.093724 30.083839 \nL 60.800336 30.083839 \nz\n\" style=\"fill:#1f77b4;fill-opacity:0.5;stroke:#ffffff;stroke-linejoin:miter;\"/>\n   </g>\n   <g id=\"patch_4\">\n    <path clip-path=\"url(#pf45d524e8b)\" d=\"M 78.093724 185.398125 \nL 95.387113 185.398125 \nL 95.387113 146.437931 \nL 78.093724 146.437931 \nz\n\" style=\"fill:#1f77b4;fill-opacity:0.5;stroke:#ffffff;stroke-linejoin:miter;\"/>\n   </g>\n   <g id=\"patch_5\">\n    <path clip-path=\"url(#pf45d524e8b)\" d=\"M 95.387113 185.398125 \nL 112.680501 185.398125 \nL 112.680501 147.227665 \nL 95.387113 147.227665 \nz\n\" style=\"fill:#1f77b4;fill-opacity:0.5;stroke:#ffffff;stroke-linejoin:miter;\"/>\n   </g>\n   <g id=\"patch_6\">\n    <path clip-path=\"url(#pf45d524e8b)\" d=\"M 112.680501 185.398125 \nL 129.973889 185.398125 \nL 129.973889 160.389893 \nL 112.680501 160.389893 \nz\n\" style=\"fill:#1f77b4;fill-opacity:0.5;stroke:#ffffff;stroke-linejoin:miter;\"/>\n   </g>\n   <g id=\"patch_7\">\n    <path clip-path=\"url(#pf45d524e8b)\" d=\"M 129.973889 185.398125 \nL 147.267278 185.398125 \nL 147.267278 165.654784 \nL 129.973889 165.654784 \nz\n\" style=\"fill:#1f77b4;fill-opacity:0.5;stroke:#ffffff;stroke-linejoin:miter;\"/>\n   </g>\n   <g id=\"patch_8\">\n    <path clip-path=\"url(#pf45d524e8b)\" d=\"M 147.267278 185.398125 \nL 164.560666 185.398125 \nL 164.560666 169.340207 \nL 147.267278 169.340207 \nz\n\" style=\"fill:#1f77b4;fill-opacity:0.5;stroke:#ffffff;stroke-linejoin:miter;\"/>\n   </g>\n   <g id=\"patch_9\">\n    <path clip-path=\"url(#pf45d524e8b)\" d=\"M 164.560666 185.398125 \nL 181.854055 185.398125 \nL 181.854055 170.129941 \nL 164.560666 170.129941 \nz\n\" style=\"fill:#1f77b4;fill-opacity:0.5;stroke:#ffffff;stroke-linejoin:miter;\"/>\n   </g>\n   <g id=\"patch_10\">\n    <path clip-path=\"url(#pf45d524e8b)\" d=\"M 181.854055 185.398125 \nL 199.147443 185.398125 \nL 199.147443 175.921321 \nL 181.854055 175.921321 \nz\n\" style=\"fill:#1f77b4;fill-opacity:0.5;stroke:#ffffff;stroke-linejoin:miter;\"/>\n   </g>\n   <g id=\"patch_11\">\n    <path clip-path=\"url(#pf45d524e8b)\" d=\"M 199.147443 185.398125 \nL 216.440832 185.398125 \nL 216.440832 173.025631 \nL 199.147443 173.025631 \nz\n\" style=\"fill:#1f77b4;fill-opacity:0.5;stroke:#ffffff;stroke-linejoin:miter;\"/>\n   </g>\n   <g id=\"patch_12\">\n    <path clip-path=\"url(#pf45d524e8b)\" d=\"M 216.440832 185.398125 \nL 233.73422 185.398125 \nL 233.73422 173.025631 \nL 216.440832 173.025631 \nz\n\" style=\"fill:#1f77b4;fill-opacity:0.5;stroke:#ffffff;stroke-linejoin:miter;\"/>\n   </g>\n   <g id=\"patch_13\">\n    <path clip-path=\"url(#pf45d524e8b)\" d=\"M 233.73422 185.398125 \nL 251.027608 185.398125 \nL 251.027608 175.921321 \nL 233.73422 175.921321 \nz\n\" style=\"fill:#1f77b4;fill-opacity:0.5;stroke:#ffffff;stroke-linejoin:miter;\"/>\n   </g>\n   <g id=\"patch_14\">\n    <path clip-path=\"url(#pf45d524e8b)\" d=\"M 251.027608 185.398125 \nL 268.320997 185.398125 \nL 268.320997 174.341854 \nL 251.027608 174.341854 \nz\n\" style=\"fill:#1f77b4;fill-opacity:0.5;stroke:#ffffff;stroke-linejoin:miter;\"/>\n   </g>\n   <g id=\"patch_15\">\n    <path clip-path=\"url(#pf45d524e8b)\" d=\"M 268.320997 185.398125 \nL 285.614385 185.398125 \nL 285.614385 178.027278 \nL 268.320997 178.027278 \nz\n\" style=\"fill:#1f77b4;fill-opacity:0.5;stroke:#ffffff;stroke-linejoin:miter;\"/>\n   </g>\n   <g id=\"patch_16\">\n    <path clip-path=\"url(#pf45d524e8b)\" d=\"M 285.614385 185.398125 \nL 302.907774 185.398125 \nL 302.907774 179.869989 \nL 285.614385 179.869989 \nz\n\" style=\"fill:#1f77b4;fill-opacity:0.5;stroke:#ffffff;stroke-linejoin:miter;\"/>\n   </g>\n   <g id=\"patch_17\">\n    <path clip-path=\"url(#pf45d524e8b)\" d=\"M 302.907774 185.398125 \nL 320.201162 185.398125 \nL 320.201162 177.764033 \nL 302.907774 177.764033 \nz\n\" style=\"fill:#1f77b4;fill-opacity:0.5;stroke:#ffffff;stroke-linejoin:miter;\"/>\n   </g>\n   <g id=\"patch_18\">\n    <path clip-path=\"url(#pf45d524e8b)\" d=\"M 320.201162 185.398125 \nL 337.494551 185.398125 \nL 337.494551 175.658077 \nL 320.201162 175.658077 \nz\n\" style=\"fill:#1f77b4;fill-opacity:0.5;stroke:#ffffff;stroke-linejoin:miter;\"/>\n   </g>\n   <g id=\"line2d_16\">\n    <path clip-path=\"url(#pf45d524e8b)\" d=\"M 60.800336 121.947879 \nL 62.190759 120.331245 \nL 63.581182 118.978573 \nL 64.971605 117.899639 \nL 66.362029 117.099619 \nL 67.752452 116.579056 \nL 69.142875 116.333978 \nL 70.533298 116.356121 \nL 71.923721 116.633285 \nL 73.314144 117.149778 \nL 74.704568 117.88694 \nL 76.094991 118.823723 \nL 77.485414 119.937313 \nL 80.26626 122.598575 \nL 83.047107 125.676285 \nL 88.6088 132.362957 \nL 92.780069 137.283998 \nL 95.560916 140.343043 \nL 98.341762 143.169668 \nL 101.122608 145.74849 \nL 103.903455 148.084796 \nL 106.684301 150.197209 \nL 110.855571 153.001892 \nL 115.02684 155.447387 \nL 119.19811 157.604568 \nL 123.369379 159.519868 \nL 127.540649 161.219588 \nL 131.711918 162.720061 \nL 137.273611 164.439774 \nL 142.835304 165.889554 \nL 149.78742 167.424883 \nL 158.129959 168.99898 \nL 166.472498 170.336826 \nL 173.424614 171.250919 \nL 180.37673 171.961278 \nL 187.328846 172.466458 \nL 195.671385 172.838098 \nL 217.918156 173.613601 \nL 229.041542 174.36884 \nL 242.945774 175.294464 \nL 269.363814 176.841366 \nL 287.439316 178.175614 \nL 294.391432 178.399486 \nL 301.343548 178.388827 \nL 315.24778 178.267886 \nL 320.809472 178.511183 \nL 324.980742 178.883434 \nL 330.542435 179.63132 \nL 337.494551 180.862678 \nL 337.494551 180.862678 \n\" style=\"fill:none;stroke:#1f77b4;stroke-linecap:round;stroke-width:1.5;\"/>\n   </g>\n   <g id=\"patch_19\">\n    <path d=\"M 46.965625 185.398125 \nL 46.965625 22.318125 \n\" style=\"fill:none;stroke:#cccccc;stroke-linecap:square;stroke-linejoin:miter;stroke-width:0.8;\"/>\n   </g>\n   <g id=\"patch_20\">\n    <path d=\"M 351.329261 185.398125 \nL 351.329261 22.318125 \n\" style=\"fill:none;stroke:#cccccc;stroke-linecap:square;stroke-linejoin:miter;stroke-width:0.8;\"/>\n   </g>\n   <g id=\"patch_21\">\n    <path d=\"M 46.965625 185.398125 \nL 351.329261 185.398125 \n\" style=\"fill:none;stroke:#cccccc;stroke-linecap:square;stroke-linejoin:miter;stroke-width:0.8;\"/>\n   </g>\n   <g id=\"patch_22\">\n    <path d=\"M 46.965625 22.318125 \nL 351.329261 22.318125 \n\" style=\"fill:none;stroke:#cccccc;stroke-linecap:square;stroke-linejoin:miter;stroke-width:0.8;\"/>\n   </g>\n   <g id=\"text_18\">\n    <!-- y train -->\n    <g style=\"fill:#262626;\" transform=\"translate(179.724318 16.318125)scale(0.12 -0.12)\">\n     <defs>\n      <path d=\"M 32.171875 -5.078125 \nQ 28.375 -14.84375 24.75 -17.8125 \nQ 21.140625 -20.796875 15.09375 -20.796875 \nL 7.90625 -20.796875 \nL 7.90625 -13.28125 \nL 13.1875 -13.28125 \nQ 16.890625 -13.28125 18.9375 -11.515625 \nQ 21 -9.765625 23.484375 -3.21875 \nL 25.09375 0.875 \nL 2.984375 54.6875 \nL 12.5 54.6875 \nL 29.59375 11.921875 \nL 46.6875 54.6875 \nL 56.203125 54.6875 \nz\n\" id=\"DejaVuSans-121\"/>\n      <path id=\"DejaVuSans-32\"/>\n      <path d=\"M 34.28125 27.484375 \nQ 23.390625 27.484375 19.1875 25 \nQ 14.984375 22.515625 14.984375 16.5 \nQ 14.984375 11.71875 18.140625 8.90625 \nQ 21.296875 6.109375 26.703125 6.109375 \nQ 34.1875 6.109375 38.703125 11.40625 \nQ 43.21875 16.703125 43.21875 25.484375 \nL 43.21875 27.484375 \nz\nM 52.203125 31.203125 \nL 52.203125 0 \nL 43.21875 0 \nL 43.21875 8.296875 \nQ 40.140625 3.328125 35.546875 0.953125 \nQ 30.953125 -1.421875 24.3125 -1.421875 \nQ 15.921875 -1.421875 10.953125 3.296875 \nQ 6 8.015625 6 15.921875 \nQ 6 25.140625 12.171875 29.828125 \nQ 18.359375 34.515625 30.609375 34.515625 \nL 43.21875 34.515625 \nL 43.21875 35.40625 \nQ 43.21875 41.609375 39.140625 45 \nQ 35.0625 48.390625 27.6875 48.390625 \nQ 23 48.390625 18.546875 47.265625 \nQ 14.109375 46.140625 10.015625 43.890625 \nL 10.015625 52.203125 \nQ 14.9375 54.109375 19.578125 55.046875 \nQ 24.21875 56 28.609375 56 \nQ 40.484375 56 46.34375 49.84375 \nQ 52.203125 43.703125 52.203125 31.203125 \nz\n\" id=\"DejaVuSans-97\"/>\n      <path d=\"M 9.421875 54.6875 \nL 18.40625 54.6875 \nL 18.40625 0 \nL 9.421875 0 \nz\nM 9.421875 75.984375 \nL 18.40625 75.984375 \nL 18.40625 64.59375 \nL 9.421875 64.59375 \nz\n\" id=\"DejaVuSans-105\"/>\n     </defs>\n     <use xlink:href=\"#DejaVuSans-121\"/>\n     <use x=\"59.179688\" xlink:href=\"#DejaVuSans-32\"/>\n     <use x=\"90.966797\" xlink:href=\"#DejaVuSans-116\"/>\n     <use x=\"130.175781\" xlink:href=\"#DejaVuSans-114\"/>\n     <use x=\"171.289062\" xlink:href=\"#DejaVuSans-97\"/>\n     <use x=\"232.568359\" xlink:href=\"#DejaVuSans-105\"/>\n     <use x=\"260.351562\" xlink:href=\"#DejaVuSans-110\"/>\n    </g>\n   </g>\n  </g>\n  <g id=\"axes_2\">\n   <g id=\"patch_23\">\n    <path d=\"M 412.201989 185.398125 \nL 716.565625 185.398125 \nL 716.565625 22.318125 \nL 412.201989 22.318125 \nz\n\" style=\"fill:#ffffff;\"/>\n   </g>\n   <g id=\"matplotlib.axis_3\">\n    <g id=\"xtick_9\">\n     <g id=\"line2d_17\">\n      <path clip-path=\"url(#pf5c5646b78)\" d=\"M 422.083925 185.398125 \nL 422.083925 22.318125 \n\" style=\"fill:none;stroke:#cccccc;stroke-linecap:round;stroke-width:0.8;\"/>\n     </g>\n     <g id=\"text_19\">\n      <!-- 0 -->\n      <g style=\"fill:#262626;\" transform=\"translate(418.902675 199.996562)scale(0.1 -0.1)\">\n       <use xlink:href=\"#DejaVuSans-48\"/>\n      </g>\n     </g>\n    </g>\n    <g id=\"xtick_10\">\n     <g id=\"line2d_18\">\n      <path clip-path=\"url(#pf5c5646b78)\" d=\"M 461.61167 185.398125 \nL 461.61167 22.318125 \n\" style=\"fill:none;stroke:#cccccc;stroke-linecap:round;stroke-width:0.8;\"/>\n     </g>\n     <g id=\"text_20\">\n      <!-- 10 -->\n      <g style=\"fill:#262626;\" transform=\"translate(455.24917 199.996562)scale(0.1 -0.1)\">\n       <use xlink:href=\"#DejaVuSans-49\"/>\n       <use x=\"63.623047\" xlink:href=\"#DejaVuSans-48\"/>\n      </g>\n     </g>\n    </g>\n    <g id=\"xtick_11\">\n     <g id=\"line2d_19\">\n      <path clip-path=\"url(#pf5c5646b78)\" d=\"M 501.139415 185.398125 \nL 501.139415 22.318125 \n\" style=\"fill:none;stroke:#cccccc;stroke-linecap:round;stroke-width:0.8;\"/>\n     </g>\n     <g id=\"text_21\">\n      <!-- 20 -->\n      <g style=\"fill:#262626;\" transform=\"translate(494.776915 199.996562)scale(0.1 -0.1)\">\n       <use xlink:href=\"#DejaVuSans-50\"/>\n       <use x=\"63.623047\" xlink:href=\"#DejaVuSans-48\"/>\n      </g>\n     </g>\n    </g>\n    <g id=\"xtick_12\">\n     <g id=\"line2d_20\">\n      <path clip-path=\"url(#pf5c5646b78)\" d=\"M 540.66716 185.398125 \nL 540.66716 22.318125 \n\" style=\"fill:none;stroke:#cccccc;stroke-linecap:round;stroke-width:0.8;\"/>\n     </g>\n     <g id=\"text_22\">\n      <!-- 30 -->\n      <g style=\"fill:#262626;\" transform=\"translate(534.30466 199.996562)scale(0.1 -0.1)\">\n       <use xlink:href=\"#DejaVuSans-51\"/>\n       <use x=\"63.623047\" xlink:href=\"#DejaVuSans-48\"/>\n      </g>\n     </g>\n    </g>\n    <g id=\"xtick_13\">\n     <g id=\"line2d_21\">\n      <path clip-path=\"url(#pf5c5646b78)\" d=\"M 580.194905 185.398125 \nL 580.194905 22.318125 \n\" style=\"fill:none;stroke:#cccccc;stroke-linecap:round;stroke-width:0.8;\"/>\n     </g>\n     <g id=\"text_23\">\n      <!-- 40 -->\n      <g style=\"fill:#262626;\" transform=\"translate(573.832405 199.996562)scale(0.1 -0.1)\">\n       <use xlink:href=\"#DejaVuSans-52\"/>\n       <use x=\"63.623047\" xlink:href=\"#DejaVuSans-48\"/>\n      </g>\n     </g>\n    </g>\n    <g id=\"xtick_14\">\n     <g id=\"line2d_22\">\n      <path clip-path=\"url(#pf5c5646b78)\" d=\"M 619.72265 185.398125 \nL 619.72265 22.318125 \n\" style=\"fill:none;stroke:#cccccc;stroke-linecap:round;stroke-width:0.8;\"/>\n     </g>\n     <g id=\"text_24\">\n      <!-- 50 -->\n      <g style=\"fill:#262626;\" transform=\"translate(613.36015 199.996562)scale(0.1 -0.1)\">\n       <use xlink:href=\"#DejaVuSans-53\"/>\n       <use x=\"63.623047\" xlink:href=\"#DejaVuSans-48\"/>\n      </g>\n     </g>\n    </g>\n    <g id=\"xtick_15\">\n     <g id=\"line2d_23\">\n      <path clip-path=\"url(#pf5c5646b78)\" d=\"M 659.250395 185.398125 \nL 659.250395 22.318125 \n\" style=\"fill:none;stroke:#cccccc;stroke-linecap:round;stroke-width:0.8;\"/>\n     </g>\n     <g id=\"text_25\">\n      <!-- 60 -->\n      <g style=\"fill:#262626;\" transform=\"translate(652.887895 199.996562)scale(0.1 -0.1)\">\n       <use xlink:href=\"#DejaVuSans-54\"/>\n       <use x=\"63.623047\" xlink:href=\"#DejaVuSans-48\"/>\n      </g>\n     </g>\n    </g>\n    <g id=\"xtick_16\">\n     <g id=\"line2d_24\">\n      <path clip-path=\"url(#pf5c5646b78)\" d=\"M 698.77814 185.398125 \nL 698.77814 22.318125 \n\" style=\"fill:none;stroke:#cccccc;stroke-linecap:round;stroke-width:0.8;\"/>\n     </g>\n     <g id=\"text_26\">\n      <!-- 70 -->\n      <g style=\"fill:#262626;\" transform=\"translate(692.41564 199.996562)scale(0.1 -0.1)\">\n       <use xlink:href=\"#DejaVuSans-55\"/>\n       <use x=\"63.623047\" xlink:href=\"#DejaVuSans-48\"/>\n      </g>\n     </g>\n    </g>\n    <g id=\"text_27\">\n     <!-- tenure -->\n     <g style=\"fill:#262626;\" transform=\"translate(547.990057 213.674688)scale(0.1 -0.1)\">\n      <use xlink:href=\"#DejaVuSans-116\"/>\n      <use x=\"39.208984\" xlink:href=\"#DejaVuSans-101\"/>\n      <use x=\"100.732422\" xlink:href=\"#DejaVuSans-110\"/>\n      <use x=\"164.111328\" xlink:href=\"#DejaVuSans-117\"/>\n      <use x=\"227.490234\" xlink:href=\"#DejaVuSans-114\"/>\n      <use x=\"266.353516\" xlink:href=\"#DejaVuSans-101\"/>\n     </g>\n    </g>\n   </g>\n   <g id=\"matplotlib.axis_4\">\n    <g id=\"ytick_8\">\n     <g id=\"line2d_25\">\n      <path clip-path=\"url(#pf5c5646b78)\" d=\"M 412.201989 185.398125 \nL 716.565625 185.398125 \n\" style=\"fill:none;stroke:#cccccc;stroke-linecap:round;stroke-width:0.8;\"/>\n     </g>\n     <g id=\"text_28\">\n      <!-- 0 -->\n      <g style=\"fill:#262626;\" transform=\"translate(398.839489 189.197344)scale(0.1 -0.1)\">\n       <use xlink:href=\"#DejaVuSans-48\"/>\n      </g>\n     </g>\n    </g>\n    <g id=\"ytick_9\">\n     <g id=\"line2d_26\">\n      <path clip-path=\"url(#pf5c5646b78)\" d=\"M 412.201989 161.722167 \nL 716.565625 161.722167 \n\" style=\"fill:none;stroke:#cccccc;stroke-linecap:round;stroke-width:0.8;\"/>\n     </g>\n     <g id=\"text_29\">\n      <!-- 25 -->\n      <g style=\"fill:#262626;\" transform=\"translate(392.476989 165.521386)scale(0.1 -0.1)\">\n       <use xlink:href=\"#DejaVuSans-50\"/>\n       <use x=\"63.623047\" xlink:href=\"#DejaVuSans-53\"/>\n      </g>\n     </g>\n    </g>\n    <g id=\"ytick_10\">\n     <g id=\"line2d_27\">\n      <path clip-path=\"url(#pf5c5646b78)\" d=\"M 412.201989 138.046209 \nL 716.565625 138.046209 \n\" style=\"fill:none;stroke:#cccccc;stroke-linecap:round;stroke-width:0.8;\"/>\n     </g>\n     <g id=\"text_30\">\n      <!-- 50 -->\n      <g style=\"fill:#262626;\" transform=\"translate(392.476989 141.845427)scale(0.1 -0.1)\">\n       <use xlink:href=\"#DejaVuSans-53\"/>\n       <use x=\"63.623047\" xlink:href=\"#DejaVuSans-48\"/>\n      </g>\n     </g>\n    </g>\n    <g id=\"ytick_11\">\n     <g id=\"line2d_28\">\n      <path clip-path=\"url(#pf5c5646b78)\" d=\"M 412.201989 114.37025 \nL 716.565625 114.37025 \n\" style=\"fill:none;stroke:#cccccc;stroke-linecap:round;stroke-width:0.8;\"/>\n     </g>\n     <g id=\"text_31\">\n      <!-- 75 -->\n      <g style=\"fill:#262626;\" transform=\"translate(392.476989 118.169469)scale(0.1 -0.1)\">\n       <use xlink:href=\"#DejaVuSans-55\"/>\n       <use x=\"63.623047\" xlink:href=\"#DejaVuSans-53\"/>\n      </g>\n     </g>\n    </g>\n    <g id=\"ytick_12\">\n     <g id=\"line2d_29\">\n      <path clip-path=\"url(#pf5c5646b78)\" d=\"M 412.201989 90.694292 \nL 716.565625 90.694292 \n\" style=\"fill:none;stroke:#cccccc;stroke-linecap:round;stroke-width:0.8;\"/>\n     </g>\n     <g id=\"text_32\">\n      <!-- 100 -->\n      <g style=\"fill:#262626;\" transform=\"translate(386.114489 94.493511)scale(0.1 -0.1)\">\n       <use xlink:href=\"#DejaVuSans-49\"/>\n       <use x=\"63.623047\" xlink:href=\"#DejaVuSans-48\"/>\n       <use x=\"127.246094\" xlink:href=\"#DejaVuSans-48\"/>\n      </g>\n     </g>\n    </g>\n    <g id=\"ytick_13\">\n     <g id=\"line2d_30\">\n      <path clip-path=\"url(#pf5c5646b78)\" d=\"M 412.201989 67.018334 \nL 716.565625 67.018334 \n\" style=\"fill:none;stroke:#cccccc;stroke-linecap:round;stroke-width:0.8;\"/>\n     </g>\n     <g id=\"text_33\">\n      <!-- 125 -->\n      <g style=\"fill:#262626;\" transform=\"translate(386.114489 70.817553)scale(0.1 -0.1)\">\n       <use xlink:href=\"#DejaVuSans-49\"/>\n       <use x=\"63.623047\" xlink:href=\"#DejaVuSans-50\"/>\n       <use x=\"127.246094\" xlink:href=\"#DejaVuSans-53\"/>\n      </g>\n     </g>\n    </g>\n    <g id=\"ytick_14\">\n     <g id=\"line2d_31\">\n      <path clip-path=\"url(#pf5c5646b78)\" d=\"M 412.201989 43.342376 \nL 716.565625 43.342376 \n\" style=\"fill:none;stroke:#cccccc;stroke-linecap:round;stroke-width:0.8;\"/>\n     </g>\n     <g id=\"text_34\">\n      <!-- 150 -->\n      <g style=\"fill:#262626;\" transform=\"translate(386.114489 47.141595)scale(0.1 -0.1)\">\n       <use xlink:href=\"#DejaVuSans-49\"/>\n       <use x=\"63.623047\" xlink:href=\"#DejaVuSans-53\"/>\n       <use x=\"127.246094\" xlink:href=\"#DejaVuSans-48\"/>\n      </g>\n     </g>\n    </g>\n    <g id=\"text_35\">\n     <!-- Count -->\n     <g style=\"fill:#262626;\" transform=\"translate(380.034801 118.706562)rotate(-90)scale(0.1 -0.1)\">\n      <use xlink:href=\"#DejaVuSans-67\"/>\n      <use x=\"69.824219\" xlink:href=\"#DejaVuSans-111\"/>\n      <use x=\"131.005859\" xlink:href=\"#DejaVuSans-117\"/>\n      <use x=\"194.384766\" xlink:href=\"#DejaVuSans-110\"/>\n      <use x=\"257.763672\" xlink:href=\"#DejaVuSans-116\"/>\n     </g>\n    </g>\n   </g>\n   <g id=\"patch_24\">\n    <path clip-path=\"url(#pf5c5646b78)\" d=\"M 426.036699 185.398125 \nL 453.706121 185.398125 \nL 453.706121 30.083839 \nL 426.036699 30.083839 \nz\n\" style=\"fill:#1f77b4;fill-opacity:0.5;stroke:#ffffff;stroke-linejoin:miter;\"/>\n   </g>\n   <g id=\"patch_25\">\n    <path clip-path=\"url(#pf5c5646b78)\" d=\"M 453.706121 185.398125 \nL 481.375542 185.398125 \nL 481.375542 136.152132 \nL 453.706121 136.152132 \nz\n\" style=\"fill:#1f77b4;fill-opacity:0.5;stroke:#ffffff;stroke-linejoin:miter;\"/>\n   </g>\n   <g id=\"patch_26\">\n    <path clip-path=\"url(#pf5c5646b78)\" d=\"M 481.375542 185.398125 \nL 509.044964 185.398125 \nL 509.044964 154.14586 \nL 481.375542 154.14586 \nz\n\" style=\"fill:#1f77b4;fill-opacity:0.5;stroke:#ffffff;stroke-linejoin:miter;\"/>\n   </g>\n   <g id=\"patch_27\">\n    <path clip-path=\"url(#pf5c5646b78)\" d=\"M 509.044964 185.398125 \nL 536.714385 185.398125 \nL 536.714385 163.616243 \nL 509.044964 163.616243 \nz\n\" style=\"fill:#1f77b4;fill-opacity:0.5;stroke:#ffffff;stroke-linejoin:miter;\"/>\n   </g>\n   <g id=\"patch_28\">\n    <path clip-path=\"url(#pf5c5646b78)\" d=\"M 536.714385 185.398125 \nL 564.383807 185.398125 \nL 564.383807 157.934014 \nL 536.714385 157.934014 \nz\n\" style=\"fill:#1f77b4;fill-opacity:0.5;stroke:#ffffff;stroke-linejoin:miter;\"/>\n   </g>\n   <g id=\"patch_29\">\n    <path clip-path=\"url(#pf5c5646b78)\" d=\"M 564.383807 185.398125 \nL 592.053228 185.398125 \nL 592.053228 171.19255 \nL 564.383807 171.19255 \nz\n\" style=\"fill:#1f77b4;fill-opacity:0.5;stroke:#ffffff;stroke-linejoin:miter;\"/>\n   </g>\n   <g id=\"patch_30\">\n    <path clip-path=\"url(#pf5c5646b78)\" d=\"M 592.053228 185.398125 \nL 619.72265 185.398125 \nL 619.72265 169.298473 \nL 592.053228 169.298473 \nz\n\" style=\"fill:#1f77b4;fill-opacity:0.5;stroke:#ffffff;stroke-linejoin:miter;\"/>\n   </g>\n   <g id=\"patch_31\">\n    <path clip-path=\"url(#pf5c5646b78)\" d=\"M 619.72265 185.398125 \nL 647.392071 185.398125 \nL 647.392071 171.19255 \nL 619.72265 171.19255 \nz\n\" style=\"fill:#1f77b4;fill-opacity:0.5;stroke:#ffffff;stroke-linejoin:miter;\"/>\n   </g>\n   <g id=\"patch_32\">\n    <path clip-path=\"url(#pf5c5646b78)\" d=\"M 647.392071 185.398125 \nL 675.061493 185.398125 \nL 675.061493 170.245512 \nL 647.392071 170.245512 \nz\n\" style=\"fill:#1f77b4;fill-opacity:0.5;stroke:#ffffff;stroke-linejoin:miter;\"/>\n   </g>\n   <g id=\"patch_33\">\n    <path clip-path=\"url(#pf5c5646b78)\" d=\"M 675.061493 185.398125 \nL 702.730914 185.398125 \nL 702.730914 175.927742 \nL 675.061493 175.927742 \nz\n\" style=\"fill:#1f77b4;fill-opacity:0.5;stroke:#ffffff;stroke-linejoin:miter;\"/>\n   </g>\n   <g id=\"line2d_32\">\n    <path clip-path=\"url(#pf5c5646b78)\" d=\"M 426.036699 109.332296 \nL 427.427123 107.970077 \nL 428.817546 106.790175 \nL 430.207969 105.797899 \nL 431.598392 104.996797 \nL 432.988815 104.388629 \nL 434.379239 103.973379 \nL 435.769662 103.749279 \nL 437.160085 103.712882 \nL 438.550508 103.85914 \nL 439.940931 104.181518 \nL 441.331354 104.672125 \nL 442.721778 105.321863 \nL 444.112201 106.120585 \nL 446.893047 108.120194 \nL 449.673894 110.57549 \nL 452.45474 113.385573 \nL 456.62601 118.046367 \nL 469.139818 132.564511 \nL 473.311088 136.914386 \nL 477.482357 140.846874 \nL 481.653627 144.338372 \nL 485.824897 147.399197 \nL 489.996166 150.059429 \nL 494.167436 152.357344 \nL 498.338705 154.331414 \nL 502.509975 156.015943 \nL 506.681244 157.439839 \nL 510.852514 158.627673 \nL 515.023784 159.602063 \nL 519.195053 160.386453 \nL 524.756746 161.183484 \nL 531.708862 161.889446 \nL 551.174787 163.586402 \nL 558.126902 164.509669 \nL 566.469442 165.882231 \nL 580.373674 168.240321 \nL 585.935366 168.971448 \nL 591.497059 169.495493 \nL 597.058752 169.80037 \nL 604.010868 169.910126 \nL 612.353407 169.780001 \nL 627.648062 169.491482 \nL 634.600178 169.594221 \nL 641.552294 169.944082 \nL 647.113987 170.422909 \nL 654.066103 171.267431 \nL 661.018219 172.351485 \nL 669.360758 173.883061 \nL 684.655413 176.980125 \nL 699.950068 180.003281 \nL 702.730914 180.513001 \nL 702.730914 180.513001 \n\" style=\"fill:none;stroke:#1f77b4;stroke-linecap:round;stroke-width:1.5;\"/>\n   </g>\n   <g id=\"patch_34\">\n    <path d=\"M 412.201989 185.398125 \nL 412.201989 22.318125 \n\" style=\"fill:none;stroke:#cccccc;stroke-linecap:square;stroke-linejoin:miter;stroke-width:0.8;\"/>\n   </g>\n   <g id=\"patch_35\">\n    <path d=\"M 716.565625 185.398125 \nL 716.565625 22.318125 \n\" style=\"fill:none;stroke:#cccccc;stroke-linecap:square;stroke-linejoin:miter;stroke-width:0.8;\"/>\n   </g>\n   <g id=\"patch_36\">\n    <path d=\"M 412.201989 185.398125 \nL 716.565625 185.398125 \n\" style=\"fill:none;stroke:#cccccc;stroke-linecap:square;stroke-linejoin:miter;stroke-width:0.8;\"/>\n   </g>\n   <g id=\"patch_37\">\n    <path d=\"M 412.201989 22.318125 \nL 716.565625 22.318125 \n\" style=\"fill:none;stroke:#cccccc;stroke-linecap:square;stroke-linejoin:miter;stroke-width:0.8;\"/>\n   </g>\n   <g id=\"text_36\">\n    <!-- y test -->\n    <g style=\"fill:#262626;\" transform=\"translate(547.403807 16.318125)scale(0.12 -0.12)\">\n     <defs>\n      <path d=\"M 44.28125 53.078125 \nL 44.28125 44.578125 \nQ 40.484375 46.53125 36.375 47.5 \nQ 32.28125 48.484375 27.875 48.484375 \nQ 21.1875 48.484375 17.84375 46.4375 \nQ 14.5 44.390625 14.5 40.28125 \nQ 14.5 37.15625 16.890625 35.375 \nQ 19.28125 33.59375 26.515625 31.984375 \nL 29.59375 31.296875 \nQ 39.15625 29.25 43.1875 25.515625 \nQ 47.21875 21.78125 47.21875 15.09375 \nQ 47.21875 7.46875 41.1875 3.015625 \nQ 35.15625 -1.421875 24.609375 -1.421875 \nQ 20.21875 -1.421875 15.453125 -0.5625 \nQ 10.6875 0.296875 5.421875 2 \nL 5.421875 11.28125 \nQ 10.40625 8.6875 15.234375 7.390625 \nQ 20.0625 6.109375 24.8125 6.109375 \nQ 31.15625 6.109375 34.5625 8.28125 \nQ 37.984375 10.453125 37.984375 14.40625 \nQ 37.984375 18.0625 35.515625 20.015625 \nQ 33.0625 21.96875 24.703125 23.78125 \nL 21.578125 24.515625 \nQ 13.234375 26.265625 9.515625 29.90625 \nQ 5.8125 33.546875 5.8125 39.890625 \nQ 5.8125 47.609375 11.28125 51.796875 \nQ 16.75 56 26.8125 56 \nQ 31.78125 56 36.171875 55.265625 \nQ 40.578125 54.546875 44.28125 53.078125 \nz\n\" id=\"DejaVuSans-115\"/>\n     </defs>\n     <use xlink:href=\"#DejaVuSans-121\"/>\n     <use x=\"59.179688\" xlink:href=\"#DejaVuSans-32\"/>\n     <use x=\"90.966797\" xlink:href=\"#DejaVuSans-116\"/>\n     <use x=\"130.175781\" xlink:href=\"#DejaVuSans-101\"/>\n     <use x=\"191.699219\" xlink:href=\"#DejaVuSans-115\"/>\n     <use x=\"243.798828\" xlink:href=\"#DejaVuSans-116\"/>\n    </g>\n   </g>\n  </g>\n </g>\n <defs>\n  <clipPath id=\"pf45d524e8b\">\n   <rect height=\"163.08\" width=\"304.363636\" x=\"46.965625\" y=\"22.318125\"/>\n  </clipPath>\n  <clipPath id=\"pf5c5646b78\">\n   <rect height=\"163.08\" width=\"304.363636\" x=\"412.201989\" y=\"22.318125\"/>\n  </clipPath>\n </defs>\n</svg>\n",
            "image/png": "[encoded data removed]"
          },
          "metadata": {}
        },
        {
          "output_type": "stream",
          "name": "stdout",
          "text": [
            "\n",
            "* Train set - target descriptive stats: \n",
            "          tenure\n",
            "count  1495.000\n",
            "mean     17.913\n",
            "std      19.518\n",
            "min       1.000\n",
            "25%       2.000\n",
            "50%      10.000\n",
            "75%      28.000\n",
            "max      72.000\n",
            "\n",
            "* Train set skewness: 1.177, and kurtosis: 0.284 \n",
            "\n",
            "\n"
          ]
        }
      ],
      "metadata": {
        "id": "Z4TsdEhkhlht"
      }
    },
    {
      "cell_type": "markdown",
      "source": [
        "Target Transformation"
      ],
      "metadata": {
        "id": "IUSDkpgSnNed"
      }
    },
    {
      "cell_type": "code",
      "execution_count": 13,
      "source": [
        "import sklearn.preprocessing\n",
        "target_transformer = sklearn.preprocessing.PowerTransformer(method='box-cox',standardize=True)\n",
        "\n",
        "y_train = target_transformer.fit_transform(y_train.to_frame())\n",
        "y_train = pd.Series(y_train.reshape(-1), name='tenure')\n",
        "\n",
        "y_test = target_transformer.transform(y_test.to_frame())\n",
        "y_test = pd.Series(y_test.reshape(-1), name='tenure')\n",
        "\n",
        "Target_DistributionAndStats(y_train,y_test)"
      ],
      "outputs": [
        {
          "output_type": "display_data",
          "data": {
            "text/plain": [
              "<Figure size 864x216 with 2 Axes>"
            ],
            "image/svg+xml": "<?xml version=\"1.0\" encoding=\"utf-8\" standalone=\"no\"?>\n<!DOCTYPE svg PUBLIC \"-//W3C//DTD SVG 1.1//EN\"\n  \"http://www.w3.org/Graphics/SVG/1.1/DTD/svg11.dtd\">\n<!-- Created with matplotlib (https://matplotlib.org/) -->\n<svg height=\"222.954375pt\" version=\"1.1\" viewBox=\"0 0 723.765625 222.954375\" width=\"723.765625pt\" xmlns=\"http://www.w3.org/2000/svg\" xmlns:xlink=\"http://www.w3.org/1999/xlink\">\n <metadata>\n  <rdf:RDF xmlns:cc=\"http://creativecommons.org/ns#\" xmlns:dc=\"http://purl.org/dc/elements/1.1/\" xmlns:rdf=\"http://www.w3.org/1999/02/22-rdf-syntax-ns#\">\n   <cc:Work>\n    <dc:type rdf:resource=\"http://purl.org/dc/dcmitype/StillImage\"/>\n    <dc:date>2021-09-29T12:54:32.091980</dc:date>\n    <dc:format>image/svg+xml</dc:format>\n    <dc:creator>\n     <cc:Agent>\n      <dc:title>Matplotlib v3.3.1, https://matplotlib.org/</dc:title>\n     </cc:Agent>\n    </dc:creator>\n   </cc:Work>\n  </rdf:RDF>\n </metadata>\n <defs>\n  <style type=\"text/css\">*{stroke-linecap:butt;stroke-linejoin:round;}</style>\n </defs>\n <g id=\"figure_1\">\n  <g id=\"patch_1\">\n   <path d=\"M 0 222.954375 \nL 723.765625 222.954375 \nL 723.765625 0 \nL 0 0 \nz\n\" style=\"fill:#ffffff;\"/>\n  </g>\n  <g id=\"axes_1\">\n   <g id=\"patch_2\">\n    <path d=\"M 46.965625 185.398125 \nL 351.329261 185.398125 \nL 351.329261 22.318125 \nL 46.965625 22.318125 \nz\n\" style=\"fill:#ffffff;\"/>\n   </g>\n   <g id=\"matplotlib.axis_1\">\n    <g id=\"xtick_1\">\n     <g id=\"line2d_1\">\n      <path clip-path=\"url(#p2969dcd6f5)\" d=\"M 53.066685 185.398125 \nL 53.066685 22.318125 \n\" style=\"fill:none;stroke:#cccccc;stroke-linecap:round;stroke-width:0.8;\"/>\n     </g>\n     <g id=\"text_1\">\n      <!-- −1.5 -->\n      <g style=\"fill:#262626;\" transform=\"translate(40.925279 199.996562)scale(0.1 -0.1)\">\n       <defs>\n        <path d=\"M 10.59375 35.5 \nL 73.1875 35.5 \nL 73.1875 27.203125 \nL 10.59375 27.203125 \nz\n\" id=\"DejaVuSans-8722\"/>\n        <path d=\"M 12.40625 8.296875 \nL 28.515625 8.296875 \nL 28.515625 63.921875 \nL 10.984375 60.40625 \nL 10.984375 69.390625 \nL 28.421875 72.90625 \nL 38.28125 72.90625 \nL 38.28125 8.296875 \nL 54.390625 8.296875 \nL 54.390625 0 \nL 12.40625 0 \nz\n\" id=\"DejaVuSans-49\"/>\n        <path d=\"M 10.6875 12.40625 \nL 21 12.40625 \nL 21 0 \nL 10.6875 0 \nz\n\" id=\"DejaVuSans-46\"/>\n        <path d=\"M 10.796875 72.90625 \nL 49.515625 72.90625 \nL 49.515625 64.59375 \nL 19.828125 64.59375 \nL 19.828125 46.734375 \nQ 21.96875 47.46875 24.109375 47.828125 \nQ 26.265625 48.1875 28.421875 48.1875 \nQ 40.625 48.1875 47.75 41.5 \nQ 54.890625 34.8125 54.890625 23.390625 \nQ 54.890625 11.625 47.5625 5.09375 \nQ 40.234375 -1.421875 26.90625 -1.421875 \nQ 22.3125 -1.421875 17.546875 -0.640625 \nQ 12.796875 0.140625 7.71875 1.703125 \nL 7.71875 11.625 \nQ 12.109375 9.234375 16.796875 8.0625 \nQ 21.484375 6.890625 26.703125 6.890625 \nQ 35.15625 6.890625 40.078125 11.328125 \nQ 45.015625 15.765625 45.015625 23.390625 \nQ 45.015625 31 40.078125 35.4375 \nQ 35.15625 39.890625 26.703125 39.890625 \nQ 22.75 39.890625 18.8125 39.015625 \nQ 14.890625 38.140625 10.796875 36.28125 \nz\n\" id=\"DejaVuSans-53\"/>\n       </defs>\n       <use xlink:href=\"#DejaVuSans-8722\"/>\n       <use x=\"83.789062\" xlink:href=\"#DejaVuSans-49\"/>\n       <use x=\"147.412109\" xlink:href=\"#DejaVuSans-46\"/>\n       <use x=\"179.199219\" xlink:href=\"#DejaVuSans-53\"/>\n      </g>\n     </g>\n    </g>\n    <g id=\"xtick_2\">\n     <g id=\"line2d_2\">\n      <path clip-path=\"url(#p2969dcd6f5)\" d=\"M 98.247876 185.398125 \nL 98.247876 22.318125 \n\" style=\"fill:none;stroke:#cccccc;stroke-linecap:round;stroke-width:0.8;\"/>\n     </g>\n     <g id=\"text_2\">\n      <!-- −1.0 -->\n      <g style=\"fill:#262626;\" transform=\"translate(86.106469 199.996562)scale(0.1 -0.1)\">\n       <defs>\n        <path d=\"M 31.78125 66.40625 \nQ 24.171875 66.40625 20.328125 58.90625 \nQ 16.5 51.421875 16.5 36.375 \nQ 16.5 21.390625 20.328125 13.890625 \nQ 24.171875 6.390625 31.78125 6.390625 \nQ 39.453125 6.390625 43.28125 13.890625 \nQ 47.125 21.390625 47.125 36.375 \nQ 47.125 51.421875 43.28125 58.90625 \nQ 39.453125 66.40625 31.78125 66.40625 \nz\nM 31.78125 74.21875 \nQ 44.046875 74.21875 50.515625 64.515625 \nQ 56.984375 54.828125 56.984375 36.375 \nQ 56.984375 17.96875 50.515625 8.265625 \nQ 44.046875 -1.421875 31.78125 -1.421875 \nQ 19.53125 -1.421875 13.0625 8.265625 \nQ 6.59375 17.96875 6.59375 36.375 \nQ 6.59375 54.828125 13.0625 64.515625 \nQ 19.53125 74.21875 31.78125 74.21875 \nz\n\" id=\"DejaVuSans-48\"/>\n       </defs>\n       <use xlink:href=\"#DejaVuSans-8722\"/>\n       <use x=\"83.789062\" xlink:href=\"#DejaVuSans-49\"/>\n       <use x=\"147.412109\" xlink:href=\"#DejaVuSans-46\"/>\n       <use x=\"179.199219\" xlink:href=\"#DejaVuSans-48\"/>\n      </g>\n     </g>\n    </g>\n    <g id=\"xtick_3\">\n     <g id=\"line2d_3\">\n      <path clip-path=\"url(#p2969dcd6f5)\" d=\"M 143.429066 185.398125 \nL 143.429066 22.318125 \n\" style=\"fill:none;stroke:#cccccc;stroke-linecap:round;stroke-width:0.8;\"/>\n     </g>\n     <g id=\"text_3\">\n      <!-- −0.5 -->\n      <g style=\"fill:#262626;\" transform=\"translate(131.28766 199.996562)scale(0.1 -0.1)\">\n       <use xlink:href=\"#DejaVuSans-8722\"/>\n       <use x=\"83.789062\" xlink:href=\"#DejaVuSans-48\"/>\n       <use x=\"147.412109\" xlink:href=\"#DejaVuSans-46\"/>\n       <use x=\"179.199219\" xlink:href=\"#DejaVuSans-53\"/>\n      </g>\n     </g>\n    </g>\n    <g id=\"xtick_4\">\n     <g id=\"line2d_4\">\n      <path clip-path=\"url(#p2969dcd6f5)\" d=\"M 188.610257 185.398125 \nL 188.610257 22.318125 \n\" style=\"fill:none;stroke:#cccccc;stroke-linecap:round;stroke-width:0.8;\"/>\n     </g>\n     <g id=\"text_4\">\n      <!-- 0.0 -->\n      <g style=\"fill:#262626;\" transform=\"translate(180.658694 199.996562)scale(0.1 -0.1)\">\n       <use xlink:href=\"#DejaVuSans-48\"/>\n       <use x=\"63.623047\" xlink:href=\"#DejaVuSans-46\"/>\n       <use x=\"95.410156\" xlink:href=\"#DejaVuSans-48\"/>\n      </g>\n     </g>\n    </g>\n    <g id=\"xtick_5\">\n     <g id=\"line2d_5\">\n      <path clip-path=\"url(#p2969dcd6f5)\" d=\"M 233.791448 185.398125 \nL 233.791448 22.318125 \n\" style=\"fill:none;stroke:#cccccc;stroke-linecap:round;stroke-width:0.8;\"/>\n     </g>\n     <g id=\"text_5\">\n      <!-- 0.5 -->\n      <g style=\"fill:#262626;\" transform=\"translate(225.839885 199.996562)scale(0.1 -0.1)\">\n       <use xlink:href=\"#DejaVuSans-48\"/>\n       <use x=\"63.623047\" xlink:href=\"#DejaVuSans-46\"/>\n       <use x=\"95.410156\" xlink:href=\"#DejaVuSans-53\"/>\n      </g>\n     </g>\n    </g>\n    <g id=\"xtick_6\">\n     <g id=\"line2d_6\">\n      <path clip-path=\"url(#p2969dcd6f5)\" d=\"M 278.972638 185.398125 \nL 278.972638 22.318125 \n\" style=\"fill:none;stroke:#cccccc;stroke-linecap:round;stroke-width:0.8;\"/>\n     </g>\n     <g id=\"text_6\">\n      <!-- 1.0 -->\n      <g style=\"fill:#262626;\" transform=\"translate(271.021076 199.996562)scale(0.1 -0.1)\">\n       <use xlink:href=\"#DejaVuSans-49\"/>\n       <use x=\"63.623047\" xlink:href=\"#DejaVuSans-46\"/>\n       <use x=\"95.410156\" xlink:href=\"#DejaVuSans-48\"/>\n      </g>\n     </g>\n    </g>\n    <g id=\"xtick_7\">\n     <g id=\"line2d_7\">\n      <path clip-path=\"url(#p2969dcd6f5)\" d=\"M 324.153829 185.398125 \nL 324.153829 22.318125 \n\" style=\"fill:none;stroke:#cccccc;stroke-linecap:round;stroke-width:0.8;\"/>\n     </g>\n     <g id=\"text_7\">\n      <!-- 1.5 -->\n      <g style=\"fill:#262626;\" transform=\"translate(316.202266 199.996562)scale(0.1 -0.1)\">\n       <use xlink:href=\"#DejaVuSans-49\"/>\n       <use x=\"63.623047\" xlink:href=\"#DejaVuSans-46\"/>\n       <use x=\"95.410156\" xlink:href=\"#DejaVuSans-53\"/>\n      </g>\n     </g>\n    </g>\n    <g id=\"text_8\">\n     <!-- tenure -->\n     <g style=\"fill:#262626;\" transform=\"translate(182.753693 213.674688)scale(0.1 -0.1)\">\n      <defs>\n       <path d=\"M 18.3125 70.21875 \nL 18.3125 54.6875 \nL 36.8125 54.6875 \nL 36.8125 47.703125 \nL 18.3125 47.703125 \nL 18.3125 18.015625 \nQ 18.3125 11.328125 20.140625 9.421875 \nQ 21.96875 7.515625 27.59375 7.515625 \nL 36.8125 7.515625 \nL 36.8125 0 \nL 27.59375 0 \nQ 17.1875 0 13.234375 3.875 \nQ 9.28125 7.765625 9.28125 18.015625 \nL 9.28125 47.703125 \nL 2.6875 47.703125 \nL 2.6875 54.6875 \nL 9.28125 54.6875 \nL 9.28125 70.21875 \nz\n\" id=\"DejaVuSans-116\"/>\n       <path d=\"M 56.203125 29.59375 \nL 56.203125 25.203125 \nL 14.890625 25.203125 \nQ 15.484375 15.921875 20.484375 11.0625 \nQ 25.484375 6.203125 34.421875 6.203125 \nQ 39.59375 6.203125 44.453125 7.46875 \nQ 49.3125 8.734375 54.109375 11.28125 \nL 54.109375 2.78125 \nQ 49.265625 0.734375 44.1875 -0.34375 \nQ 39.109375 -1.421875 33.890625 -1.421875 \nQ 20.796875 -1.421875 13.15625 6.1875 \nQ 5.515625 13.8125 5.515625 26.8125 \nQ 5.515625 40.234375 12.765625 48.109375 \nQ 20.015625 56 32.328125 56 \nQ 43.359375 56 49.78125 48.890625 \nQ 56.203125 41.796875 56.203125 29.59375 \nz\nM 47.21875 32.234375 \nQ 47.125 39.59375 43.09375 43.984375 \nQ 39.0625 48.390625 32.421875 48.390625 \nQ 24.90625 48.390625 20.390625 44.140625 \nQ 15.875 39.890625 15.1875 32.171875 \nz\n\" id=\"DejaVuSans-101\"/>\n       <path d=\"M 54.890625 33.015625 \nL 54.890625 0 \nL 45.90625 0 \nL 45.90625 32.71875 \nQ 45.90625 40.484375 42.875 44.328125 \nQ 39.84375 48.1875 33.796875 48.1875 \nQ 26.515625 48.1875 22.3125 43.546875 \nQ 18.109375 38.921875 18.109375 30.90625 \nL 18.109375 0 \nL 9.078125 0 \nL 9.078125 54.6875 \nL 18.109375 54.6875 \nL 18.109375 46.1875 \nQ 21.34375 51.125 25.703125 53.5625 \nQ 30.078125 56 35.796875 56 \nQ 45.21875 56 50.046875 50.171875 \nQ 54.890625 44.34375 54.890625 33.015625 \nz\n\" id=\"DejaVuSans-110\"/>\n       <path d=\"M 8.5 21.578125 \nL 8.5 54.6875 \nL 17.484375 54.6875 \nL 17.484375 21.921875 \nQ 17.484375 14.15625 20.5 10.265625 \nQ 23.53125 6.390625 29.59375 6.390625 \nQ 36.859375 6.390625 41.078125 11.03125 \nQ 45.3125 15.671875 45.3125 23.6875 \nL 45.3125 54.6875 \nL 54.296875 54.6875 \nL 54.296875 0 \nL 45.3125 0 \nL 45.3125 8.40625 \nQ 42.046875 3.421875 37.71875 1 \nQ 33.40625 -1.421875 27.6875 -1.421875 \nQ 18.265625 -1.421875 13.375 4.4375 \nQ 8.5 10.296875 8.5 21.578125 \nz\nM 31.109375 56 \nz\n\" id=\"DejaVuSans-117\"/>\n       <path d=\"M 41.109375 46.296875 \nQ 39.59375 47.171875 37.8125 47.578125 \nQ 36.03125 48 33.890625 48 \nQ 26.265625 48 22.1875 43.046875 \nQ 18.109375 38.09375 18.109375 28.8125 \nL 18.109375 0 \nL 9.078125 0 \nL 9.078125 54.6875 \nL 18.109375 54.6875 \nL 18.109375 46.1875 \nQ 20.953125 51.171875 25.484375 53.578125 \nQ 30.03125 56 36.53125 56 \nQ 37.453125 56 38.578125 55.875 \nQ 39.703125 55.765625 41.0625 55.515625 \nz\n\" id=\"DejaVuSans-114\"/>\n      </defs>\n      <use xlink:href=\"#DejaVuSans-116\"/>\n      <use x=\"39.208984\" xlink:href=\"#DejaVuSans-101\"/>\n      <use x=\"100.732422\" xlink:href=\"#DejaVuSans-110\"/>\n      <use x=\"164.111328\" xlink:href=\"#DejaVuSans-117\"/>\n      <use x=\"227.490234\" xlink:href=\"#DejaVuSans-114\"/>\n      <use x=\"266.353516\" xlink:href=\"#DejaVuSans-101\"/>\n     </g>\n    </g>\n   </g>\n   <g id=\"matplotlib.axis_2\">\n    <g id=\"ytick_1\">\n     <g id=\"line2d_8\">\n      <path clip-path=\"url(#p2969dcd6f5)\" d=\"M 46.965625 185.398125 \nL 351.329261 185.398125 \n\" style=\"fill:none;stroke:#cccccc;stroke-linecap:round;stroke-width:0.8;\"/>\n     </g>\n     <g id=\"text_9\">\n      <!-- 0 -->\n      <g style=\"fill:#262626;\" transform=\"translate(33.603125 189.197344)scale(0.1 -0.1)\">\n       <use xlink:href=\"#DejaVuSans-48\"/>\n      </g>\n     </g>\n    </g>\n    <g id=\"ytick_2\">\n     <g id=\"line2d_9\">\n      <path clip-path=\"url(#p2969dcd6f5)\" d=\"M 46.965625 159.59841 \nL 351.329261 159.59841 \n\" style=\"fill:none;stroke:#cccccc;stroke-linecap:round;stroke-width:0.8;\"/>\n     </g>\n     <g id=\"text_10\">\n      <!-- 50 -->\n      <g style=\"fill:#262626;\" transform=\"translate(27.240625 163.397629)scale(0.1 -0.1)\">\n       <use xlink:href=\"#DejaVuSans-53\"/>\n       <use x=\"63.623047\" xlink:href=\"#DejaVuSans-48\"/>\n      </g>\n     </g>\n    </g>\n    <g id=\"ytick_3\">\n     <g id=\"line2d_10\">\n      <path clip-path=\"url(#p2969dcd6f5)\" d=\"M 46.965625 133.798695 \nL 351.329261 133.798695 \n\" style=\"fill:none;stroke:#cccccc;stroke-linecap:round;stroke-width:0.8;\"/>\n     </g>\n     <g id=\"text_11\">\n      <!-- 100 -->\n      <g style=\"fill:#262626;\" transform=\"translate(20.878125 137.597913)scale(0.1 -0.1)\">\n       <use xlink:href=\"#DejaVuSans-49\"/>\n       <use x=\"63.623047\" xlink:href=\"#DejaVuSans-48\"/>\n       <use x=\"127.246094\" xlink:href=\"#DejaVuSans-48\"/>\n      </g>\n     </g>\n    </g>\n    <g id=\"ytick_4\">\n     <g id=\"line2d_11\">\n      <path clip-path=\"url(#p2969dcd6f5)\" d=\"M 46.965625 107.998979 \nL 351.329261 107.998979 \n\" style=\"fill:none;stroke:#cccccc;stroke-linecap:round;stroke-width:0.8;\"/>\n     </g>\n     <g id=\"text_12\">\n      <!-- 150 -->\n      <g style=\"fill:#262626;\" transform=\"translate(20.878125 111.798198)scale(0.1 -0.1)\">\n       <use xlink:href=\"#DejaVuSans-49\"/>\n       <use x=\"63.623047\" xlink:href=\"#DejaVuSans-53\"/>\n       <use x=\"127.246094\" xlink:href=\"#DejaVuSans-48\"/>\n      </g>\n     </g>\n    </g>\n    <g id=\"ytick_5\">\n     <g id=\"line2d_12\">\n      <path clip-path=\"url(#p2969dcd6f5)\" d=\"M 46.965625 82.199264 \nL 351.329261 82.199264 \n\" style=\"fill:none;stroke:#cccccc;stroke-linecap:round;stroke-width:0.8;\"/>\n     </g>\n     <g id=\"text_13\">\n      <!-- 200 -->\n      <g style=\"fill:#262626;\" transform=\"translate(20.878125 85.998483)scale(0.1 -0.1)\">\n       <defs>\n        <path d=\"M 19.1875 8.296875 \nL 53.609375 8.296875 \nL 53.609375 0 \nL 7.328125 0 \nL 7.328125 8.296875 \nQ 12.9375 14.109375 22.625 23.890625 \nQ 32.328125 33.6875 34.8125 36.53125 \nQ 39.546875 41.84375 41.421875 45.53125 \nQ 43.3125 49.21875 43.3125 52.78125 \nQ 43.3125 58.59375 39.234375 62.25 \nQ 35.15625 65.921875 28.609375 65.921875 \nQ 23.96875 65.921875 18.8125 64.3125 \nQ 13.671875 62.703125 7.8125 59.421875 \nL 7.8125 69.390625 \nQ 13.765625 71.78125 18.9375 73 \nQ 24.125 74.21875 28.421875 74.21875 \nQ 39.75 74.21875 46.484375 68.546875 \nQ 53.21875 62.890625 53.21875 53.421875 \nQ 53.21875 48.921875 51.53125 44.890625 \nQ 49.859375 40.875 45.40625 35.40625 \nQ 44.1875 33.984375 37.640625 27.21875 \nQ 31.109375 20.453125 19.1875 8.296875 \nz\n\" id=\"DejaVuSans-50\"/>\n       </defs>\n       <use xlink:href=\"#DejaVuSans-50\"/>\n       <use x=\"63.623047\" xlink:href=\"#DejaVuSans-48\"/>\n       <use x=\"127.246094\" xlink:href=\"#DejaVuSans-48\"/>\n      </g>\n     </g>\n    </g>\n    <g id=\"ytick_6\">\n     <g id=\"line2d_13\">\n      <path clip-path=\"url(#p2969dcd6f5)\" d=\"M 46.965625 56.399549 \nL 351.329261 56.399549 \n\" style=\"fill:none;stroke:#cccccc;stroke-linecap:round;stroke-width:0.8;\"/>\n     </g>\n     <g id=\"text_14\">\n      <!-- 250 -->\n      <g style=\"fill:#262626;\" transform=\"translate(20.878125 60.198768)scale(0.1 -0.1)\">\n       <use xlink:href=\"#DejaVuSans-50\"/>\n       <use x=\"63.623047\" xlink:href=\"#DejaVuSans-53\"/>\n       <use x=\"127.246094\" xlink:href=\"#DejaVuSans-48\"/>\n      </g>\n     </g>\n    </g>\n    <g id=\"ytick_7\">\n     <g id=\"line2d_14\">\n      <path clip-path=\"url(#p2969dcd6f5)\" d=\"M 46.965625 30.599834 \nL 351.329261 30.599834 \n\" style=\"fill:none;stroke:#cccccc;stroke-linecap:round;stroke-width:0.8;\"/>\n     </g>\n     <g id=\"text_15\">\n      <!-- 300 -->\n      <g style=\"fill:#262626;\" transform=\"translate(20.878125 34.399052)scale(0.1 -0.1)\">\n       <defs>\n        <path d=\"M 40.578125 39.3125 \nQ 47.65625 37.796875 51.625 33 \nQ 55.609375 28.21875 55.609375 21.1875 \nQ 55.609375 10.40625 48.1875 4.484375 \nQ 40.765625 -1.421875 27.09375 -1.421875 \nQ 22.515625 -1.421875 17.65625 -0.515625 \nQ 12.796875 0.390625 7.625 2.203125 \nL 7.625 11.71875 \nQ 11.71875 9.328125 16.59375 8.109375 \nQ 21.484375 6.890625 26.8125 6.890625 \nQ 36.078125 6.890625 40.9375 10.546875 \nQ 45.796875 14.203125 45.796875 21.1875 \nQ 45.796875 27.640625 41.28125 31.265625 \nQ 36.765625 34.90625 28.71875 34.90625 \nL 20.21875 34.90625 \nL 20.21875 43.015625 \nL 29.109375 43.015625 \nQ 36.375 43.015625 40.234375 45.921875 \nQ 44.09375 48.828125 44.09375 54.296875 \nQ 44.09375 59.90625 40.109375 62.90625 \nQ 36.140625 65.921875 28.71875 65.921875 \nQ 24.65625 65.921875 20.015625 65.03125 \nQ 15.375 64.15625 9.8125 62.3125 \nL 9.8125 71.09375 \nQ 15.4375 72.65625 20.34375 73.4375 \nQ 25.25 74.21875 29.59375 74.21875 \nQ 40.828125 74.21875 47.359375 69.109375 \nQ 53.90625 64.015625 53.90625 55.328125 \nQ 53.90625 49.265625 50.4375 45.09375 \nQ 46.96875 40.921875 40.578125 39.3125 \nz\n\" id=\"DejaVuSans-51\"/>\n       </defs>\n       <use xlink:href=\"#DejaVuSans-51\"/>\n       <use x=\"63.623047\" xlink:href=\"#DejaVuSans-48\"/>\n       <use x=\"127.246094\" xlink:href=\"#DejaVuSans-48\"/>\n      </g>\n     </g>\n    </g>\n    <g id=\"text_16\">\n     <!-- Count -->\n     <g style=\"fill:#262626;\" transform=\"translate(14.798438 118.706562)rotate(-90)scale(0.1 -0.1)\">\n      <defs>\n       <path d=\"M 64.40625 67.28125 \nL 64.40625 56.890625 \nQ 59.421875 61.53125 53.78125 63.8125 \nQ 48.140625 66.109375 41.796875 66.109375 \nQ 29.296875 66.109375 22.65625 58.46875 \nQ 16.015625 50.828125 16.015625 36.375 \nQ 16.015625 21.96875 22.65625 14.328125 \nQ 29.296875 6.6875 41.796875 6.6875 \nQ 48.140625 6.6875 53.78125 8.984375 \nQ 59.421875 11.28125 64.40625 15.921875 \nL 64.40625 5.609375 \nQ 59.234375 2.09375 53.4375 0.328125 \nQ 47.65625 -1.421875 41.21875 -1.421875 \nQ 24.65625 -1.421875 15.125 8.703125 \nQ 5.609375 18.84375 5.609375 36.375 \nQ 5.609375 53.953125 15.125 64.078125 \nQ 24.65625 74.21875 41.21875 74.21875 \nQ 47.75 74.21875 53.53125 72.484375 \nQ 59.328125 70.75 64.40625 67.28125 \nz\n\" id=\"DejaVuSans-67\"/>\n       <path d=\"M 30.609375 48.390625 \nQ 23.390625 48.390625 19.1875 42.75 \nQ 14.984375 37.109375 14.984375 27.296875 \nQ 14.984375 17.484375 19.15625 11.84375 \nQ 23.34375 6.203125 30.609375 6.203125 \nQ 37.796875 6.203125 41.984375 11.859375 \nQ 46.1875 17.53125 46.1875 27.296875 \nQ 46.1875 37.015625 41.984375 42.703125 \nQ 37.796875 48.390625 30.609375 48.390625 \nz\nM 30.609375 56 \nQ 42.328125 56 49.015625 48.375 \nQ 55.71875 40.765625 55.71875 27.296875 \nQ 55.71875 13.875 49.015625 6.21875 \nQ 42.328125 -1.421875 30.609375 -1.421875 \nQ 18.84375 -1.421875 12.171875 6.21875 \nQ 5.515625 13.875 5.515625 27.296875 \nQ 5.515625 40.765625 12.171875 48.375 \nQ 18.84375 56 30.609375 56 \nz\n\" id=\"DejaVuSans-111\"/>\n      </defs>\n      <use xlink:href=\"#DejaVuSans-67\"/>\n      <use x=\"69.824219\" xlink:href=\"#DejaVuSans-111\"/>\n      <use x=\"131.005859\" xlink:href=\"#DejaVuSans-117\"/>\n      <use x=\"194.384766\" xlink:href=\"#DejaVuSans-110\"/>\n      <use x=\"257.763672\" xlink:href=\"#DejaVuSans-116\"/>\n     </g>\n    </g>\n   </g>\n   <g id=\"patch_3\">\n    <path clip-path=\"url(#p2969dcd6f5)\" d=\"M 60.800336 185.398125 \nL 83.858187 185.398125 \nL 83.858187 30.083839 \nL 60.800336 30.083839 \nz\n\" style=\"fill:#1f77b4;fill-opacity:0.5;stroke:#ffffff;stroke-linejoin:miter;\"/>\n   </g>\n   <g id=\"patch_4\">\n    <path clip-path=\"url(#p2969dcd6f5)\" d=\"M 83.858187 185.398125 \nL 106.916038 185.398125 \nL 106.916038 134.830683 \nL 83.858187 134.830683 \nz\n\" style=\"fill:#1f77b4;fill-opacity:0.5;stroke:#ffffff;stroke-linejoin:miter;\"/>\n   </g>\n   <g id=\"patch_5\">\n    <path clip-path=\"url(#p2969dcd6f5)\" d=\"M 106.916038 185.398125 \nL 129.973889 185.398125 \nL 129.973889 149.278524 \nL 106.916038 149.278524 \nz\n\" style=\"fill:#1f77b4;fill-opacity:0.5;stroke:#ffffff;stroke-linejoin:miter;\"/>\n   </g>\n   <g id=\"patch_6\">\n    <path clip-path=\"url(#p2969dcd6f5)\" d=\"M 129.973889 185.398125 \nL 153.031741 185.398125 \nL 153.031741 122.962814 \nL 129.973889 122.962814 \nz\n\" style=\"fill:#1f77b4;fill-opacity:0.5;stroke:#ffffff;stroke-linejoin:miter;\"/>\n   </g>\n   <g id=\"patch_7\">\n    <path clip-path=\"url(#p2969dcd6f5)\" d=\"M 153.031741 185.398125 \nL 176.089592 185.398125 \nL 176.089592 143.602586 \nL 153.031741 143.602586 \nz\n\" style=\"fill:#1f77b4;fill-opacity:0.5;stroke:#ffffff;stroke-linejoin:miter;\"/>\n   </g>\n   <g id=\"patch_8\">\n    <path clip-path=\"url(#p2969dcd6f5)\" d=\"M 176.089592 185.398125 \nL 199.147443 185.398125 \nL 199.147443 132.766706 \nL 176.089592 132.766706 \nz\n\" style=\"fill:#1f77b4;fill-opacity:0.5;stroke:#ffffff;stroke-linejoin:miter;\"/>\n   </g>\n   <g id=\"patch_9\">\n    <path clip-path=\"url(#p2969dcd6f5)\" d=\"M 199.147443 185.398125 \nL 222.205294 185.398125 \nL 222.205294 128.638751 \nL 199.147443 128.638751 \nz\n\" style=\"fill:#1f77b4;fill-opacity:0.5;stroke:#ffffff;stroke-linejoin:miter;\"/>\n   </g>\n   <g id=\"patch_10\">\n    <path clip-path=\"url(#p2969dcd6f5)\" d=\"M 222.205294 185.398125 \nL 245.263146 185.398125 \nL 245.263146 122.962814 \nL 222.205294 122.962814 \nz\n\" style=\"fill:#1f77b4;fill-opacity:0.5;stroke:#ffffff;stroke-linejoin:miter;\"/>\n   </g>\n   <g id=\"patch_11\">\n    <path clip-path=\"url(#p2969dcd6f5)\" d=\"M 245.263146 185.398125 \nL 268.320997 185.398125 \nL 268.320997 124.510797 \nL 245.263146 124.510797 \nz\n\" style=\"fill:#1f77b4;fill-opacity:0.5;stroke:#ffffff;stroke-linejoin:miter;\"/>\n   </g>\n   <g id=\"patch_12\">\n    <path clip-path=\"url(#p2969dcd6f5)\" d=\"M 268.320997 185.398125 \nL 291.378848 185.398125 \nL 291.378848 122.962814 \nL 268.320997 122.962814 \nz\n\" style=\"fill:#1f77b4;fill-opacity:0.5;stroke:#ffffff;stroke-linejoin:miter;\"/>\n   </g>\n   <g id=\"patch_13\">\n    <path clip-path=\"url(#p2969dcd6f5)\" d=\"M 291.378848 185.398125 \nL 314.436699 185.398125 \nL 314.436699 119.350854 \nL 291.378848 119.350854 \nz\n\" style=\"fill:#1f77b4;fill-opacity:0.5;stroke:#ffffff;stroke-linejoin:miter;\"/>\n   </g>\n   <g id=\"patch_14\">\n    <path clip-path=\"url(#p2969dcd6f5)\" d=\"M 314.436699 185.398125 \nL 337.494551 185.398125 \nL 337.494551 121.414831 \nL 314.436699 121.414831 \nz\n\" style=\"fill:#1f77b4;fill-opacity:0.5;stroke:#ffffff;stroke-linejoin:miter;\"/>\n   </g>\n   <g id=\"line2d_15\">\n    <path clip-path=\"url(#p2969dcd6f5)\" d=\"M 60.800336 112.700649 \nL 62.190759 112.263997 \nL 63.581182 112.072402 \nL 64.971605 112.118684 \nL 66.362029 112.392351 \nL 67.752452 112.879865 \nL 69.142875 113.564968 \nL 70.533298 114.429079 \nL 73.314144 116.611011 \nL 76.094991 119.247736 \nL 80.26626 123.652173 \nL 84.43753 128.084721 \nL 87.218376 130.822477 \nL 89.999223 133.270946 \nL 92.780069 135.370653 \nL 95.560916 137.094881 \nL 98.341762 138.444623 \nL 101.122608 139.442008 \nL 103.903455 140.123268 \nL 106.684301 140.532192 \nL 109.465147 140.714716 \nL 112.245994 140.714995 \nL 116.417263 140.459713 \nL 121.978956 139.810346 \nL 131.711918 138.334616 \nL 141.444881 136.926686 \nL 151.177843 135.759126 \nL 162.301229 134.398964 \nL 169.253345 133.295041 \nL 176.205461 131.912578 \nL 183.157576 130.292427 \nL 199.842655 126.271651 \nL 205.404348 125.213393 \nL 209.575617 124.599275 \nL 213.746887 124.161785 \nL 217.918156 123.906604 \nL 223.479849 123.831349 \nL 229.041542 124.000419 \nL 238.774504 124.602043 \nL 248.507466 125.15944 \nL 255.459582 125.333622 \nL 262.411698 125.2554 \nL 269.363814 124.927826 \nL 280.4872 124.098059 \nL 287.439316 123.696648 \nL 291.610585 123.655268 \nL 295.781855 123.86326 \nL 298.562701 124.183117 \nL 301.343548 124.677601 \nL 304.124394 125.370994 \nL 306.90524 126.285644 \nL 309.686087 127.441029 \nL 312.466933 128.85273 \nL 315.24778 130.531315 \nL 318.028626 132.481191 \nL 320.809472 134.699518 \nL 323.590319 137.175288 \nL 326.371165 139.888724 \nL 330.542435 144.339324 \nL 336.104127 150.768488 \nL 337.494551 152.423186 \nL 337.494551 152.423186 \n\" style=\"fill:none;stroke:#1f77b4;stroke-linecap:round;stroke-width:1.5;\"/>\n   </g>\n   <g id=\"patch_15\">\n    <path d=\"M 46.965625 185.398125 \nL 46.965625 22.318125 \n\" style=\"fill:none;stroke:#cccccc;stroke-linecap:square;stroke-linejoin:miter;stroke-width:0.8;\"/>\n   </g>\n   <g id=\"patch_16\">\n    <path d=\"M 351.329261 185.398125 \nL 351.329261 22.318125 \n\" style=\"fill:none;stroke:#cccccc;stroke-linecap:square;stroke-linejoin:miter;stroke-width:0.8;\"/>\n   </g>\n   <g id=\"patch_17\">\n    <path d=\"M 46.965625 185.398125 \nL 351.329261 185.398125 \n\" style=\"fill:none;stroke:#cccccc;stroke-linecap:square;stroke-linejoin:miter;stroke-width:0.8;\"/>\n   </g>\n   <g id=\"patch_18\">\n    <path d=\"M 46.965625 22.318125 \nL 351.329261 22.318125 \n\" style=\"fill:none;stroke:#cccccc;stroke-linecap:square;stroke-linejoin:miter;stroke-width:0.8;\"/>\n   </g>\n   <g id=\"text_17\">\n    <!-- y train -->\n    <g style=\"fill:#262626;\" transform=\"translate(179.724318 16.318125)scale(0.12 -0.12)\">\n     <defs>\n      <path d=\"M 32.171875 -5.078125 \nQ 28.375 -14.84375 24.75 -17.8125 \nQ 21.140625 -20.796875 15.09375 -20.796875 \nL 7.90625 -20.796875 \nL 7.90625 -13.28125 \nL 13.1875 -13.28125 \nQ 16.890625 -13.28125 18.9375 -11.515625 \nQ 21 -9.765625 23.484375 -3.21875 \nL 25.09375 0.875 \nL 2.984375 54.6875 \nL 12.5 54.6875 \nL 29.59375 11.921875 \nL 46.6875 54.6875 \nL 56.203125 54.6875 \nz\n\" id=\"DejaVuSans-121\"/>\n      <path id=\"DejaVuSans-32\"/>\n      <path d=\"M 34.28125 27.484375 \nQ 23.390625 27.484375 19.1875 25 \nQ 14.984375 22.515625 14.984375 16.5 \nQ 14.984375 11.71875 18.140625 8.90625 \nQ 21.296875 6.109375 26.703125 6.109375 \nQ 34.1875 6.109375 38.703125 11.40625 \nQ 43.21875 16.703125 43.21875 25.484375 \nL 43.21875 27.484375 \nz\nM 52.203125 31.203125 \nL 52.203125 0 \nL 43.21875 0 \nL 43.21875 8.296875 \nQ 40.140625 3.328125 35.546875 0.953125 \nQ 30.953125 -1.421875 24.3125 -1.421875 \nQ 15.921875 -1.421875 10.953125 3.296875 \nQ 6 8.015625 6 15.921875 \nQ 6 25.140625 12.171875 29.828125 \nQ 18.359375 34.515625 30.609375 34.515625 \nL 43.21875 34.515625 \nL 43.21875 35.40625 \nQ 43.21875 41.609375 39.140625 45 \nQ 35.0625 48.390625 27.6875 48.390625 \nQ 23 48.390625 18.546875 47.265625 \nQ 14.109375 46.140625 10.015625 43.890625 \nL 10.015625 52.203125 \nQ 14.9375 54.109375 19.578125 55.046875 \nQ 24.21875 56 28.609375 56 \nQ 40.484375 56 46.34375 49.84375 \nQ 52.203125 43.703125 52.203125 31.203125 \nz\n\" id=\"DejaVuSans-97\"/>\n      <path d=\"M 9.421875 54.6875 \nL 18.40625 54.6875 \nL 18.40625 0 \nL 9.421875 0 \nz\nM 9.421875 75.984375 \nL 18.40625 75.984375 \nL 18.40625 64.59375 \nL 9.421875 64.59375 \nz\n\" id=\"DejaVuSans-105\"/>\n     </defs>\n     <use xlink:href=\"#DejaVuSans-121\"/>\n     <use x=\"59.179688\" xlink:href=\"#DejaVuSans-32\"/>\n     <use x=\"90.966797\" xlink:href=\"#DejaVuSans-116\"/>\n     <use x=\"130.175781\" xlink:href=\"#DejaVuSans-114\"/>\n     <use x=\"171.289062\" xlink:href=\"#DejaVuSans-97\"/>\n     <use x=\"232.568359\" xlink:href=\"#DejaVuSans-105\"/>\n     <use x=\"260.351562\" xlink:href=\"#DejaVuSans-110\"/>\n    </g>\n   </g>\n  </g>\n  <g id=\"axes_2\">\n   <g id=\"patch_19\">\n    <path d=\"M 412.201989 185.398125 \nL 716.565625 185.398125 \nL 716.565625 22.318125 \nL 412.201989 22.318125 \nz\n\" style=\"fill:#ffffff;\"/>\n   </g>\n   <g id=\"matplotlib.axis_3\">\n    <g id=\"xtick_8\">\n     <g id=\"line2d_16\">\n      <path clip-path=\"url(#p7373b89bd5)\" d=\"M 418.272556 185.398125 \nL 418.272556 22.318125 \n\" style=\"fill:none;stroke:#cccccc;stroke-linecap:round;stroke-width:0.8;\"/>\n     </g>\n     <g id=\"text_18\">\n      <!-- −1.5 -->\n      <g style=\"fill:#262626;\" transform=\"translate(406.131149 199.996562)scale(0.1 -0.1)\">\n       <use xlink:href=\"#DejaVuSans-8722\"/>\n       <use x=\"83.789062\" xlink:href=\"#DejaVuSans-49\"/>\n       <use x=\"147.412109\" xlink:href=\"#DejaVuSans-46\"/>\n       <use x=\"179.199219\" xlink:href=\"#DejaVuSans-53\"/>\n      </g>\n     </g>\n    </g>\n    <g id=\"xtick_9\">\n     <g id=\"line2d_17\">\n      <path clip-path=\"url(#p7373b89bd5)\" d=\"M 463.631891 185.398125 \nL 463.631891 22.318125 \n\" style=\"fill:none;stroke:#cccccc;stroke-linecap:round;stroke-width:0.8;\"/>\n     </g>\n     <g id=\"text_19\">\n      <!-- −1.0 -->\n      <g style=\"fill:#262626;\" transform=\"translate(451.490485 199.996562)scale(0.1 -0.1)\">\n       <use xlink:href=\"#DejaVuSans-8722\"/>\n       <use x=\"83.789062\" xlink:href=\"#DejaVuSans-49\"/>\n       <use x=\"147.412109\" xlink:href=\"#DejaVuSans-46\"/>\n       <use x=\"179.199219\" xlink:href=\"#DejaVuSans-48\"/>\n      </g>\n     </g>\n    </g>\n    <g id=\"xtick_10\">\n     <g id=\"line2d_18\">\n      <path clip-path=\"url(#p7373b89bd5)\" d=\"M 508.991226 185.398125 \nL 508.991226 22.318125 \n\" style=\"fill:none;stroke:#cccccc;stroke-linecap:round;stroke-width:0.8;\"/>\n     </g>\n     <g id=\"text_20\">\n      <!-- −0.5 -->\n      <g style=\"fill:#262626;\" transform=\"translate(496.84982 199.996562)scale(0.1 -0.1)\">\n       <use xlink:href=\"#DejaVuSans-8722\"/>\n       <use x=\"83.789062\" xlink:href=\"#DejaVuSans-48\"/>\n       <use x=\"147.412109\" xlink:href=\"#DejaVuSans-46\"/>\n       <use x=\"179.199219\" xlink:href=\"#DejaVuSans-53\"/>\n      </g>\n     </g>\n    </g>\n    <g id=\"xtick_11\">\n     <g id=\"line2d_19\">\n      <path clip-path=\"url(#p7373b89bd5)\" d=\"M 554.350561 185.398125 \nL 554.350561 22.318125 \n\" style=\"fill:none;stroke:#cccccc;stroke-linecap:round;stroke-width:0.8;\"/>\n     </g>\n     <g id=\"text_21\">\n      <!-- 0.0 -->\n      <g style=\"fill:#262626;\" transform=\"translate(546.398999 199.996562)scale(0.1 -0.1)\">\n       <use xlink:href=\"#DejaVuSans-48\"/>\n       <use x=\"63.623047\" xlink:href=\"#DejaVuSans-46\"/>\n       <use x=\"95.410156\" xlink:href=\"#DejaVuSans-48\"/>\n      </g>\n     </g>\n    </g>\n    <g id=\"xtick_12\">\n     <g id=\"line2d_20\">\n      <path clip-path=\"url(#p7373b89bd5)\" d=\"M 599.709896 185.398125 \nL 599.709896 22.318125 \n\" style=\"fill:none;stroke:#cccccc;stroke-linecap:round;stroke-width:0.8;\"/>\n     </g>\n     <g id=\"text_22\">\n      <!-- 0.5 -->\n      <g style=\"fill:#262626;\" transform=\"translate(591.758334 199.996562)scale(0.1 -0.1)\">\n       <use xlink:href=\"#DejaVuSans-48\"/>\n       <use x=\"63.623047\" xlink:href=\"#DejaVuSans-46\"/>\n       <use x=\"95.410156\" xlink:href=\"#DejaVuSans-53\"/>\n      </g>\n     </g>\n    </g>\n    <g id=\"xtick_13\">\n     <g id=\"line2d_21\">\n      <path clip-path=\"url(#p7373b89bd5)\" d=\"M 645.069232 185.398125 \nL 645.069232 22.318125 \n\" style=\"fill:none;stroke:#cccccc;stroke-linecap:round;stroke-width:0.8;\"/>\n     </g>\n     <g id=\"text_23\">\n      <!-- 1.0 -->\n      <g style=\"fill:#262626;\" transform=\"translate(637.117669 199.996562)scale(0.1 -0.1)\">\n       <use xlink:href=\"#DejaVuSans-49\"/>\n       <use x=\"63.623047\" xlink:href=\"#DejaVuSans-46\"/>\n       <use x=\"95.410156\" xlink:href=\"#DejaVuSans-48\"/>\n      </g>\n     </g>\n    </g>\n    <g id=\"xtick_14\">\n     <g id=\"line2d_22\">\n      <path clip-path=\"url(#p7373b89bd5)\" d=\"M 690.428567 185.398125 \nL 690.428567 22.318125 \n\" style=\"fill:none;stroke:#cccccc;stroke-linecap:round;stroke-width:0.8;\"/>\n     </g>\n     <g id=\"text_24\">\n      <!-- 1.5 -->\n      <g style=\"fill:#262626;\" transform=\"translate(682.477004 199.996562)scale(0.1 -0.1)\">\n       <use xlink:href=\"#DejaVuSans-49\"/>\n       <use x=\"63.623047\" xlink:href=\"#DejaVuSans-46\"/>\n       <use x=\"95.410156\" xlink:href=\"#DejaVuSans-53\"/>\n      </g>\n     </g>\n    </g>\n    <g id=\"text_25\">\n     <!-- tenure -->\n     <g style=\"fill:#262626;\" transform=\"translate(547.990057 213.674688)scale(0.1 -0.1)\">\n      <use xlink:href=\"#DejaVuSans-116\"/>\n      <use x=\"39.208984\" xlink:href=\"#DejaVuSans-101\"/>\n      <use x=\"100.732422\" xlink:href=\"#DejaVuSans-110\"/>\n      <use x=\"164.111328\" xlink:href=\"#DejaVuSans-117\"/>\n      <use x=\"227.490234\" xlink:href=\"#DejaVuSans-114\"/>\n      <use x=\"266.353516\" xlink:href=\"#DejaVuSans-101\"/>\n     </g>\n    </g>\n   </g>\n   <g id=\"matplotlib.axis_4\">\n    <g id=\"ytick_8\">\n     <g id=\"line2d_23\">\n      <path clip-path=\"url(#p7373b89bd5)\" d=\"M 412.201989 185.398125 \nL 716.565625 185.398125 \n\" style=\"fill:none;stroke:#cccccc;stroke-linecap:round;stroke-width:0.8;\"/>\n     </g>\n     <g id=\"text_26\">\n      <!-- 0 -->\n      <g style=\"fill:#262626;\" transform=\"translate(398.839489 189.197344)scale(0.1 -0.1)\">\n       <use xlink:href=\"#DejaVuSans-48\"/>\n      </g>\n     </g>\n    </g>\n    <g id=\"ytick_9\">\n     <g id=\"line2d_24\">\n      <path clip-path=\"url(#p7373b89bd5)\" d=\"M 412.201989 146.078053 \nL 716.565625 146.078053 \n\" style=\"fill:none;stroke:#cccccc;stroke-linecap:round;stroke-width:0.8;\"/>\n     </g>\n     <g id=\"text_27\">\n      <!-- 20 -->\n      <g style=\"fill:#262626;\" transform=\"translate(392.476989 149.877271)scale(0.1 -0.1)\">\n       <use xlink:href=\"#DejaVuSans-50\"/>\n       <use x=\"63.623047\" xlink:href=\"#DejaVuSans-48\"/>\n      </g>\n     </g>\n    </g>\n    <g id=\"ytick_10\">\n     <g id=\"line2d_25\">\n      <path clip-path=\"url(#p7373b89bd5)\" d=\"M 412.201989 106.75798 \nL 716.565625 106.75798 \n\" style=\"fill:none;stroke:#cccccc;stroke-linecap:round;stroke-width:0.8;\"/>\n     </g>\n     <g id=\"text_28\">\n      <!-- 40 -->\n      <g style=\"fill:#262626;\" transform=\"translate(392.476989 110.557199)scale(0.1 -0.1)\">\n       <defs>\n        <path d=\"M 37.796875 64.3125 \nL 12.890625 25.390625 \nL 37.796875 25.390625 \nz\nM 35.203125 72.90625 \nL 47.609375 72.90625 \nL 47.609375 25.390625 \nL 58.015625 25.390625 \nL 58.015625 17.1875 \nL 47.609375 17.1875 \nL 47.609375 0 \nL 37.796875 0 \nL 37.796875 17.1875 \nL 4.890625 17.1875 \nL 4.890625 26.703125 \nz\n\" id=\"DejaVuSans-52\"/>\n       </defs>\n       <use xlink:href=\"#DejaVuSans-52\"/>\n       <use x=\"63.623047\" xlink:href=\"#DejaVuSans-48\"/>\n      </g>\n     </g>\n    </g>\n    <g id=\"ytick_11\">\n     <g id=\"line2d_26\">\n      <path clip-path=\"url(#p7373b89bd5)\" d=\"M 412.201989 67.437908 \nL 716.565625 67.437908 \n\" style=\"fill:none;stroke:#cccccc;stroke-linecap:round;stroke-width:0.8;\"/>\n     </g>\n     <g id=\"text_29\">\n      <!-- 60 -->\n      <g style=\"fill:#262626;\" transform=\"translate(392.476989 71.237127)scale(0.1 -0.1)\">\n       <defs>\n        <path d=\"M 33.015625 40.375 \nQ 26.375 40.375 22.484375 35.828125 \nQ 18.609375 31.296875 18.609375 23.390625 \nQ 18.609375 15.53125 22.484375 10.953125 \nQ 26.375 6.390625 33.015625 6.390625 \nQ 39.65625 6.390625 43.53125 10.953125 \nQ 47.40625 15.53125 47.40625 23.390625 \nQ 47.40625 31.296875 43.53125 35.828125 \nQ 39.65625 40.375 33.015625 40.375 \nz\nM 52.59375 71.296875 \nL 52.59375 62.3125 \nQ 48.875 64.0625 45.09375 64.984375 \nQ 41.3125 65.921875 37.59375 65.921875 \nQ 27.828125 65.921875 22.671875 59.328125 \nQ 17.53125 52.734375 16.796875 39.40625 \nQ 19.671875 43.65625 24.015625 45.921875 \nQ 28.375 48.1875 33.59375 48.1875 \nQ 44.578125 48.1875 50.953125 41.515625 \nQ 57.328125 34.859375 57.328125 23.390625 \nQ 57.328125 12.15625 50.6875 5.359375 \nQ 44.046875 -1.421875 33.015625 -1.421875 \nQ 20.359375 -1.421875 13.671875 8.265625 \nQ 6.984375 17.96875 6.984375 36.375 \nQ 6.984375 53.65625 15.1875 63.9375 \nQ 23.390625 74.21875 37.203125 74.21875 \nQ 40.921875 74.21875 44.703125 73.484375 \nQ 48.484375 72.75 52.59375 71.296875 \nz\n\" id=\"DejaVuSans-54\"/>\n       </defs>\n       <use xlink:href=\"#DejaVuSans-54\"/>\n       <use x=\"63.623047\" xlink:href=\"#DejaVuSans-48\"/>\n      </g>\n     </g>\n    </g>\n    <g id=\"ytick_12\">\n     <g id=\"line2d_27\">\n      <path clip-path=\"url(#p7373b89bd5)\" d=\"M 412.201989 28.117836 \nL 716.565625 28.117836 \n\" style=\"fill:none;stroke:#cccccc;stroke-linecap:round;stroke-width:0.8;\"/>\n     </g>\n     <g id=\"text_30\">\n      <!-- 80 -->\n      <g style=\"fill:#262626;\" transform=\"translate(392.476989 31.917054)scale(0.1 -0.1)\">\n       <defs>\n        <path d=\"M 31.78125 34.625 \nQ 24.75 34.625 20.71875 30.859375 \nQ 16.703125 27.09375 16.703125 20.515625 \nQ 16.703125 13.921875 20.71875 10.15625 \nQ 24.75 6.390625 31.78125 6.390625 \nQ 38.8125 6.390625 42.859375 10.171875 \nQ 46.921875 13.96875 46.921875 20.515625 \nQ 46.921875 27.09375 42.890625 30.859375 \nQ 38.875 34.625 31.78125 34.625 \nz\nM 21.921875 38.8125 \nQ 15.578125 40.375 12.03125 44.71875 \nQ 8.5 49.078125 8.5 55.328125 \nQ 8.5 64.0625 14.71875 69.140625 \nQ 20.953125 74.21875 31.78125 74.21875 \nQ 42.671875 74.21875 48.875 69.140625 \nQ 55.078125 64.0625 55.078125 55.328125 \nQ 55.078125 49.078125 51.53125 44.71875 \nQ 48 40.375 41.703125 38.8125 \nQ 48.828125 37.15625 52.796875 32.3125 \nQ 56.78125 27.484375 56.78125 20.515625 \nQ 56.78125 9.90625 50.3125 4.234375 \nQ 43.84375 -1.421875 31.78125 -1.421875 \nQ 19.734375 -1.421875 13.25 4.234375 \nQ 6.78125 9.90625 6.78125 20.515625 \nQ 6.78125 27.484375 10.78125 32.3125 \nQ 14.796875 37.15625 21.921875 38.8125 \nz\nM 18.3125 54.390625 \nQ 18.3125 48.734375 21.84375 45.5625 \nQ 25.390625 42.390625 31.78125 42.390625 \nQ 38.140625 42.390625 41.71875 45.5625 \nQ 45.3125 48.734375 45.3125 54.390625 \nQ 45.3125 60.0625 41.71875 63.234375 \nQ 38.140625 66.40625 31.78125 66.40625 \nQ 25.390625 66.40625 21.84375 63.234375 \nQ 18.3125 60.0625 18.3125 54.390625 \nz\n\" id=\"DejaVuSans-56\"/>\n       </defs>\n       <use xlink:href=\"#DejaVuSans-56\"/>\n       <use x=\"63.623047\" xlink:href=\"#DejaVuSans-48\"/>\n      </g>\n     </g>\n    </g>\n    <g id=\"text_31\">\n     <!-- Count -->\n     <g style=\"fill:#262626;\" transform=\"translate(386.397301 118.706562)rotate(-90)scale(0.1 -0.1)\">\n      <use xlink:href=\"#DejaVuSans-67\"/>\n      <use x=\"69.824219\" xlink:href=\"#DejaVuSans-111\"/>\n      <use x=\"131.005859\" xlink:href=\"#DejaVuSans-117\"/>\n      <use x=\"194.384766\" xlink:href=\"#DejaVuSans-110\"/>\n      <use x=\"257.763672\" xlink:href=\"#DejaVuSans-116\"/>\n     </g>\n    </g>\n   </g>\n   <g id=\"patch_20\">\n    <path clip-path=\"url(#p7373b89bd5)\" d=\"M 426.036699 185.398125 \nL 453.706121 185.398125 \nL 453.706121 30.083839 \nL 426.036699 30.083839 \nz\n\" style=\"fill:#1f77b4;fill-opacity:0.5;stroke:#ffffff;stroke-linejoin:miter;\"/>\n   </g>\n   <g id=\"patch_21\">\n    <path clip-path=\"url(#p7373b89bd5)\" d=\"M 453.706121 185.398125 \nL 481.375542 185.398125 \nL 481.375542 136.248035 \nL 453.706121 136.248035 \nz\n\" style=\"fill:#1f77b4;fill-opacity:0.5;stroke:#ffffff;stroke-linejoin:miter;\"/>\n   </g>\n   <g id=\"patch_22\">\n    <path clip-path=\"url(#p7373b89bd5)\" d=\"M 481.375542 185.398125 \nL 509.044964 185.398125 \nL 509.044964 108.723984 \nL 481.375542 108.723984 \nz\n\" style=\"fill:#1f77b4;fill-opacity:0.5;stroke:#ffffff;stroke-linejoin:miter;\"/>\n   </g>\n   <g id=\"patch_23\">\n    <path clip-path=\"url(#p7373b89bd5)\" d=\"M 509.044964 185.398125 \nL 536.714385 185.398125 \nL 536.714385 151.976064 \nL 509.044964 151.976064 \nz\n\" style=\"fill:#1f77b4;fill-opacity:0.5;stroke:#ffffff;stroke-linejoin:miter;\"/>\n   </g>\n   <g id=\"patch_24\">\n    <path clip-path=\"url(#p7373b89bd5)\" d=\"M 536.714385 185.398125 \nL 564.383807 185.398125 \nL 564.383807 116.587998 \nL 536.714385 116.587998 \nz\n\" style=\"fill:#1f77b4;fill-opacity:0.5;stroke:#ffffff;stroke-linejoin:miter;\"/>\n   </g>\n   <g id=\"patch_25\">\n    <path clip-path=\"url(#p7373b89bd5)\" d=\"M 564.383807 185.398125 \nL 592.053228 185.398125 \nL 592.053228 130.350024 \nL 564.383807 130.350024 \nz\n\" style=\"fill:#1f77b4;fill-opacity:0.5;stroke:#ffffff;stroke-linejoin:miter;\"/>\n   </g>\n   <g id=\"patch_26\">\n    <path clip-path=\"url(#p7373b89bd5)\" d=\"M 592.053228 185.398125 \nL 619.72265 185.398125 \nL 619.72265 122.486009 \nL 592.053228 122.486009 \nz\n\" style=\"fill:#1f77b4;fill-opacity:0.5;stroke:#ffffff;stroke-linejoin:miter;\"/>\n   </g>\n   <g id=\"patch_27\">\n    <path clip-path=\"url(#p7373b89bd5)\" d=\"M 619.72265 185.398125 \nL 647.392071 185.398125 \nL 647.392071 110.689988 \nL 619.72265 110.689988 \nz\n\" style=\"fill:#1f77b4;fill-opacity:0.5;stroke:#ffffff;stroke-linejoin:miter;\"/>\n   </g>\n   <g id=\"patch_28\">\n    <path clip-path=\"url(#p7373b89bd5)\" d=\"M 647.392071 185.398125 \nL 675.061493 185.398125 \nL 675.061493 106.75798 \nL 647.392071 106.75798 \nz\n\" style=\"fill:#1f77b4;fill-opacity:0.5;stroke:#ffffff;stroke-linejoin:miter;\"/>\n   </g>\n   <g id=\"patch_29\">\n    <path clip-path=\"url(#p7373b89bd5)\" d=\"M 675.061493 185.398125 \nL 702.730914 185.398125 \nL 702.730914 104.791977 \nL 675.061493 104.791977 \nz\n\" style=\"fill:#1f77b4;fill-opacity:0.5;stroke:#ffffff;stroke-linejoin:miter;\"/>\n   </g>\n   <g id=\"line2d_28\">\n    <path clip-path=\"url(#p7373b89bd5)\" d=\"M 426.036699 115.297275 \nL 428.817546 114.043263 \nL 431.598392 113.217943 \nL 434.379239 112.803249 \nL 437.160085 112.769621 \nL 439.940931 113.077821 \nL 442.721778 113.681172 \nL 445.502624 114.52807 \nL 449.673894 116.137138 \nL 455.235586 118.640279 \nL 463.578126 122.450918 \nL 467.749395 124.161493 \nL 471.920665 125.674985 \nL 476.091934 126.983515 \nL 481.653627 128.440528 \nL 487.21532 129.639721 \nL 494.167436 130.897358 \nL 502.509975 132.170135 \nL 509.462091 133.018668 \nL 515.023784 133.488041 \nL 520.585476 133.698565 \nL 524.756746 133.651849 \nL 528.928015 133.413862 \nL 533.099285 132.983251 \nL 537.270555 132.371748 \nL 542.832247 131.317996 \nL 549.784363 129.737711 \nL 566.469442 125.803053 \nL 573.421558 124.432277 \nL 581.764097 123.055692 \nL 610.962984 118.596206 \nL 620.695946 116.654297 \nL 634.600178 113.829812 \nL 640.161871 112.935825 \nL 644.33314 112.455823 \nL 648.50441 112.197676 \nL 652.675679 112.216069 \nL 655.456526 112.409006 \nL 658.237372 112.764887 \nL 661.018219 113.29861 \nL 663.799065 114.023836 \nL 666.579911 114.952523 \nL 669.360758 116.094429 \nL 672.141604 117.456594 \nL 674.92245 119.042838 \nL 677.703297 120.853306 \nL 680.484143 122.884078 \nL 683.26499 125.126901 \nL 687.436259 128.859696 \nL 691.607529 132.978539 \nL 695.778798 137.401705 \nL 702.730914 145.17845 \nL 702.730914 145.17845 \n\" style=\"fill:none;stroke:#1f77b4;stroke-linecap:round;stroke-width:1.5;\"/>\n   </g>\n   <g id=\"patch_30\">\n    <path d=\"M 412.201989 185.398125 \nL 412.201989 22.318125 \n\" style=\"fill:none;stroke:#cccccc;stroke-linecap:square;stroke-linejoin:miter;stroke-width:0.8;\"/>\n   </g>\n   <g id=\"patch_31\">\n    <path d=\"M 716.565625 185.398125 \nL 716.565625 22.318125 \n\" style=\"fill:none;stroke:#cccccc;stroke-linecap:square;stroke-linejoin:miter;stroke-width:0.8;\"/>\n   </g>\n   <g id=\"patch_32\">\n    <path d=\"M 412.201989 185.398125 \nL 716.565625 185.398125 \n\" style=\"fill:none;stroke:#cccccc;stroke-linecap:square;stroke-linejoin:miter;stroke-width:0.8;\"/>\n   </g>\n   <g id=\"patch_33\">\n    <path d=\"M 412.201989 22.318125 \nL 716.565625 22.318125 \n\" style=\"fill:none;stroke:#cccccc;stroke-linecap:square;stroke-linejoin:miter;stroke-width:0.8;\"/>\n   </g>\n   <g id=\"text_32\">\n    <!-- y test -->\n    <g style=\"fill:#262626;\" transform=\"translate(547.403807 16.318125)scale(0.12 -0.12)\">\n     <defs>\n      <path d=\"M 44.28125 53.078125 \nL 44.28125 44.578125 \nQ 40.484375 46.53125 36.375 47.5 \nQ 32.28125 48.484375 27.875 48.484375 \nQ 21.1875 48.484375 17.84375 46.4375 \nQ 14.5 44.390625 14.5 40.28125 \nQ 14.5 37.15625 16.890625 35.375 \nQ 19.28125 33.59375 26.515625 31.984375 \nL 29.59375 31.296875 \nQ 39.15625 29.25 43.1875 25.515625 \nQ 47.21875 21.78125 47.21875 15.09375 \nQ 47.21875 7.46875 41.1875 3.015625 \nQ 35.15625 -1.421875 24.609375 -1.421875 \nQ 20.21875 -1.421875 15.453125 -0.5625 \nQ 10.6875 0.296875 5.421875 2 \nL 5.421875 11.28125 \nQ 10.40625 8.6875 15.234375 7.390625 \nQ 20.0625 6.109375 24.8125 6.109375 \nQ 31.15625 6.109375 34.5625 8.28125 \nQ 37.984375 10.453125 37.984375 14.40625 \nQ 37.984375 18.0625 35.515625 20.015625 \nQ 33.0625 21.96875 24.703125 23.78125 \nL 21.578125 24.515625 \nQ 13.234375 26.265625 9.515625 29.90625 \nQ 5.8125 33.546875 5.8125 39.890625 \nQ 5.8125 47.609375 11.28125 51.796875 \nQ 16.75 56 26.8125 56 \nQ 31.78125 56 36.171875 55.265625 \nQ 40.578125 54.546875 44.28125 53.078125 \nz\n\" id=\"DejaVuSans-115\"/>\n     </defs>\n     <use xlink:href=\"#DejaVuSans-121\"/>\n     <use x=\"59.179688\" xlink:href=\"#DejaVuSans-32\"/>\n     <use x=\"90.966797\" xlink:href=\"#DejaVuSans-116\"/>\n     <use x=\"130.175781\" xlink:href=\"#DejaVuSans-101\"/>\n     <use x=\"191.699219\" xlink:href=\"#DejaVuSans-115\"/>\n     <use x=\"243.798828\" xlink:href=\"#DejaVuSans-116\"/>\n    </g>\n   </g>\n  </g>\n </g>\n <defs>\n  <clipPath id=\"p2969dcd6f5\">\n   <rect height=\"163.08\" width=\"304.363636\" x=\"46.965625\" y=\"22.318125\"/>\n  </clipPath>\n  <clipPath id=\"p7373b89bd5\">\n   <rect height=\"163.08\" width=\"304.363636\" x=\"412.201989\" y=\"22.318125\"/>\n  </clipPath>\n </defs>\n</svg>\n",
            "image/png": "[encoded data removed]"
          },
          "metadata": {}
        },
        {
          "output_type": "stream",
          "name": "stdout",
          "text": [
            "\n",
            "* Train set - target descriptive stats: \n",
            "          tenure\n",
            "count  1495.000\n",
            "mean      0.000\n",
            "std       1.000\n",
            "min      -1.414\n",
            "25%      -0.994\n",
            "50%       0.090\n",
            "75%       0.868\n",
            "max       1.648\n",
            "\n",
            "* Train set skewness: -0.055, and kurtosis: -1.302 \n",
            "\n",
            "\n"
          ]
        }
      ],
      "metadata": {
        "id": "PqTCBJMua4QS"
      }
    },
    {
      "cell_type": "markdown",
      "source": [
        "## Grid Search CV - Sklearn"
      ],
      "metadata": {
        "id": "-15-sWUST6XX"
      }
    },
    {
      "cell_type": "markdown",
      "source": [
        "### Use standard hyper parameters to find most suitable model"
      ],
      "metadata": {
        "id": "KTFXq-ieogBj"
      }
    },
    {
      "cell_type": "markdown",
      "source": [
        "Define models for quick search"
      ],
      "metadata": {
        "id": "8D5u8D_2MvqM"
      }
    },
    {
      "cell_type": "code",
      "execution_count": 20,
      "source": [
        "models_quick_search = {\n",
        "    'LinearRegression': LinearRegression(),\n",
        "    \"DecisionTreeRegressor\": DecisionTreeRegressor(random_state=0),\n",
        "    \"RandomForestRegressor\": RandomForestRegressor(random_state=0),\n",
        "    \"ExtraTreesRegressor\": ExtraTreesRegressor(random_state=0),\n",
        "    \"AdaBoostRegressor\": AdaBoostRegressor(random_state=0),\n",
        "    \"GradientBoostingRegressor\": GradientBoostingRegressor(random_state=0),\n",
        "    # \"XGBRegressor\": XGBRegressor(random_state=0),\n",
        "}\n",
        "\n",
        "params_quick_search = {\n",
        "    'LinearRegression': {},\n",
        "    \"DecisionTreeRegressor\": {},\n",
        "    \"RandomForestRegressor\": {},\n",
        "    \"ExtraTreesRegressor\": {},\n",
        "    \"AdaBoostRegressor\": {},\n",
        "    \"GradientBoostingRegressor\": {},\n",
        "    \"XGBRegressor\": {},\n",
        "}\n"
      ],
      "outputs": [],
      "metadata": {
        "id": "XZKV86gsPw8c"
      }
    },
    {
      "cell_type": "markdown",
      "source": [
        "Do a hyperparameter optmization search "
      ],
      "metadata": {
        "id": "jGABtSoSLP9u"
      }
    },
    {
      "cell_type": "code",
      "execution_count": 21,
      "source": [
        "search = HyperparameterOptimizationSearch(models=models_quick_search, params=params_quick_search)\n",
        "search.fit(X_train, y_train, scoring='r2', n_jobs=-1, cv=5)"
      ],
      "outputs": [
        {
          "output_type": "stream",
          "name": "stdout",
          "text": [
            "\n",
            "Running GridSearchCV for LinearRegression \n",
            "\n",
            "Fitting 5 folds for each of 1 candidates, totalling 5 fits\n",
            "\n",
            "Running GridSearchCV for DecisionTreeRegressor \n",
            "\n",
            "Fitting 5 folds for each of 1 candidates, totalling 5 fits\n",
            "\n",
            "Running GridSearchCV for RandomForestRegressor \n",
            "\n",
            "Fitting 5 folds for each of 1 candidates, totalling 5 fits\n",
            "\n",
            "Running GridSearchCV for ExtraTreesRegressor \n",
            "\n",
            "Fitting 5 folds for each of 1 candidates, totalling 5 fits\n",
            "\n",
            "Running GridSearchCV for AdaBoostRegressor \n",
            "\n",
            "Fitting 5 folds for each of 1 candidates, totalling 5 fits\n",
            "\n",
            "Running GridSearchCV for GradientBoostingRegressor \n",
            "\n",
            "Fitting 5 folds for each of 1 candidates, totalling 5 fits\n"
          ]
        }
      ],
      "metadata": {
        "id": "-_q-ru92GiBb"
      }
    },
    {
      "cell_type": "markdown",
      "source": [
        "Check results"
      ],
      "metadata": {
        "id": "c7p56nXeoqWo"
      }
    },
    {
      "cell_type": "code",
      "execution_count": 22,
      "source": [
        "grid_search_summary, grid_search_pipelines = search.score_summary(sort_by='mean_score')\n",
        "grid_search_summary"
      ],
      "outputs": [
        {
          "output_type": "execute_result",
          "data": {
            "text/plain": [
              "                   estimator   min_score mean_score  max_score  std_score\n",
              "5  GradientBoostingRegressor    0.387012   0.461865   0.503968  0.0424318\n",
              "0           LinearRegression    0.343394   0.420021   0.485439  0.0458841\n",
              "4          AdaBoostRegressor    0.307589   0.378884   0.431785  0.0413897\n",
              "2      RandomForestRegressor    0.183694    0.23775    0.29637  0.0391951\n",
              "3        ExtraTreesRegressor  0.00121036   0.139266    0.21312  0.0767148\n",
              "1      DecisionTreeRegressor   -0.202812 -0.0596575  0.0203846  0.0760251"
            ],
            "text/html": [
              "<div>\n",
              "<style scoped>\n",
              "    .dataframe tbody tr th:only-of-type {\n",
              "        vertical-align: middle;\n",
              "    }\n",
              "\n",
              "    .dataframe tbody tr th {\n",
              "        vertical-align: top;\n",
              "    }\n",
              "\n",
              "    .dataframe thead th {\n",
              "        text-align: right;\n",
              "    }\n",
              "</style>\n",
              "<table border=\"1\" class=\"dataframe\">\n",
              "  <thead>\n",
              "    <tr style=\"text-align: right;\">\n",
              "      <th></th>\n",
              "      <th>estimator</th>\n",
              "      <th>min_score</th>\n",
              "      <th>mean_score</th>\n",
              "      <th>max_score</th>\n",
              "      <th>std_score</th>\n",
              "    </tr>\n",
              "  </thead>\n",
              "  <tbody>\n",
              "    <tr>\n",
              "      <th>5</th>\n",
              "      <td>GradientBoostingRegressor</td>\n",
              "      <td>0.387012</td>\n",
              "      <td>0.461865</td>\n",
              "      <td>0.503968</td>\n",
              "      <td>0.0424318</td>\n",
              "    </tr>\n",
              "    <tr>\n",
              "      <th>0</th>\n",
              "      <td>LinearRegression</td>\n",
              "      <td>0.343394</td>\n",
              "      <td>0.420021</td>\n",
              "      <td>0.485439</td>\n",
              "      <td>0.0458841</td>\n",
              "    </tr>\n",
              "    <tr>\n",
              "      <th>4</th>\n",
              "      <td>AdaBoostRegressor</td>\n",
              "      <td>0.307589</td>\n",
              "      <td>0.378884</td>\n",
              "      <td>0.431785</td>\n",
              "      <td>0.0413897</td>\n",
              "    </tr>\n",
              "    <tr>\n",
              "      <th>2</th>\n",
              "      <td>RandomForestRegressor</td>\n",
              "      <td>0.183694</td>\n",
              "      <td>0.23775</td>\n",
              "      <td>0.29637</td>\n",
              "      <td>0.0391951</td>\n",
              "    </tr>\n",
              "    <tr>\n",
              "      <th>3</th>\n",
              "      <td>ExtraTreesRegressor</td>\n",
              "      <td>0.00121036</td>\n",
              "      <td>0.139266</td>\n",
              "      <td>0.21312</td>\n",
              "      <td>0.0767148</td>\n",
              "    </tr>\n",
              "    <tr>\n",
              "      <th>1</th>\n",
              "      <td>DecisionTreeRegressor</td>\n",
              "      <td>-0.202812</td>\n",
              "      <td>-0.0596575</td>\n",
              "      <td>0.0203846</td>\n",
              "      <td>0.0760251</td>\n",
              "    </tr>\n",
              "  </tbody>\n",
              "</table>\n",
              "</div>"
            ]
          },
          "metadata": {},
          "execution_count": 22
        }
      ],
      "metadata": {
        "id": "mq4YlrmZooiw"
      }
    },
    {
      "cell_type": "markdown",
      "source": [
        "Check best model"
      ],
      "metadata": {
        "id": "igjPv1kxZ38P"
      }
    },
    {
      "cell_type": "code",
      "execution_count": 23,
      "source": [
        "best_model = grid_search_summary.iloc[0,0]\n",
        "best_model"
      ],
      "outputs": [
        {
          "output_type": "execute_result",
          "data": {
            "text/plain": [
              "'GradientBoostingRegressor'"
            ]
          },
          "metadata": {},
          "execution_count": 23
        }
      ],
      "metadata": {
        "id": "pmBzm_jEZ4FD"
      }
    },
    {
      "cell_type": "markdown",
      "source": [
        "### Do extensive search on most suitable model to find best hyperparameter configuration"
      ],
      "metadata": {
        "id": "6pRUAeoG9lrZ"
      }
    },
    {
      "cell_type": "markdown",
      "source": [
        "Define model and parameters, for Extensive Search"
      ],
      "metadata": {
        "id": "w2XCyOYkAYpZ"
      }
    },
    {
      "cell_type": "code",
      "execution_count": 24,
      "source": [
        "models_search = {\n",
        "    \"GradientBoostingRegressor\":GradientBoostingRegressor(random_state=0),\n",
        "}\n",
        "\n",
        "# documentation to help on hyperparameter list: \n",
        "# https://scikit-learn.org/stable/modules/generated/sklearn.ensemble.GradientBoostingRegressor.html\n",
        "\n",
        "# We will not conduct an extensive search, since the focus\n",
        "# is on how to combine all knowledge in an applied project.\n",
        "# In a workplace project, you may consider more hyperparameters and spend more time in this step\n",
        "\n",
        "params_search = {\n",
        "    \"GradientBoostingRegressor\":{\n",
        "        'model__n_estimators': [100,300],\n",
        "        'model__learning_rate': [1e-1,1e-2,1e-3], \n",
        "        'model__max_depth': [3,10,None],\n",
        "    }\n",
        "}"
      ],
      "outputs": [],
      "metadata": {
        "id": "lyjC7ThFAYKY"
      }
    },
    {
      "cell_type": "markdown",
      "source": [
        "Extensive GridSearch CV"
      ],
      "metadata": {
        "id": "sBy8thxqAlrd"
      }
    },
    {
      "cell_type": "code",
      "execution_count": 25,
      "source": [
        "search = HyperparameterOptimizationSearch(models=models_search, params=params_search)\n",
        "search.fit(X_train, y_train, scoring = 'r2', n_jobs=-1, cv=5)"
      ],
      "outputs": [
        {
          "output_type": "stream",
          "name": "stdout",
          "text": [
            "\n",
            "Running GridSearchCV for GradientBoostingRegressor \n",
            "\n",
            "Fitting 5 folds for each of 18 candidates, totalling 90 fits\n"
          ]
        }
      ],
      "metadata": {
        "id": "Y_4Ob7heAYM9"
      }
    },
    {
      "cell_type": "markdown",
      "source": [
        "Check results"
      ],
      "metadata": {
        "id": "wtNJJpLEAzdP"
      }
    },
    {
      "cell_type": "code",
      "execution_count": 26,
      "source": [
        "grid_search_summary, grid_search_pipelines = search.score_summary(sort_by='mean_score')\n",
        "grid_search_summary"
      ],
      "outputs": [
        {
          "output_type": "execute_result",
          "data": {
            "text/plain": [
              "                    estimator  min_score  mean_score  max_score   std_score  \\\n",
              "0   GradientBoostingRegressor   0.387012    0.461865   0.503968   0.0424318   \n",
              "7   GradientBoostingRegressor   0.377916    0.447425   0.496555    0.039552   \n",
              "1   GradientBoostingRegressor   0.346378    0.431174    0.47556   0.0470933   \n",
              "6   GradientBoostingRegressor   0.293759    0.338929   0.379381    0.028879   \n",
              "8   GradientBoostingRegressor   0.283865    0.338479   0.402475   0.0411954   \n",
              "9   GradientBoostingRegressor   0.268105    0.326855   0.410846   0.0483059   \n",
              "2   GradientBoostingRegressor   0.188722    0.249556   0.324808   0.0539987   \n",
              "10  GradientBoostingRegressor   0.161658    0.228122   0.308396   0.0472849   \n",
              "15  GradientBoostingRegressor    0.16612    0.197245   0.223178   0.0201625   \n",
              "17  GradientBoostingRegressor   0.151624    0.186236    0.22913   0.0248656   \n",
              "3   GradientBoostingRegressor  0.0942873    0.178091   0.256346   0.0653755   \n",
              "13  GradientBoostingRegressor   0.133194    0.155685   0.176941   0.0157356   \n",
              "16  GradientBoostingRegressor  0.0666042   0.0819956   0.100071   0.0107894   \n",
              "14  GradientBoostingRegressor  0.0681727   0.0808933  0.0911123   0.0078564   \n",
              "12  GradientBoostingRegressor  0.0500354   0.0579523  0.0671143  0.00673718   \n",
              "11  GradientBoostingRegressor -0.0274499   0.0504503   0.141893   0.0555008   \n",
              "4   GradientBoostingRegressor -0.0741624  0.00312708  0.0946072   0.0555458   \n",
              "5   GradientBoostingRegressor -0.0741886  0.00310137  0.0945813    0.055546   \n",
              "\n",
              "   model__learning_rate model__max_depth model__n_estimators  \n",
              "0                   0.1                3                 100  \n",
              "7                  0.01                3                 300  \n",
              "1                   0.1                3                 300  \n",
              "6                  0.01                3                 100  \n",
              "8                  0.01               10                 100  \n",
              "9                  0.01               10                 300  \n",
              "2                   0.1               10                 100  \n",
              "10                 0.01             None                 100  \n",
              "15                0.001               10                 300  \n",
              "17                0.001             None                 300  \n",
              "3                   0.1               10                 300  \n",
              "13                0.001                3                 300  \n",
              "16                0.001             None                 100  \n",
              "14                0.001               10                 100  \n",
              "12                0.001                3                 100  \n",
              "11                 0.01             None                 300  \n",
              "4                   0.1             None                 100  \n",
              "5                   0.1             None                 300  "
            ],
            "text/html": [
              "<div>\n",
              "<style scoped>\n",
              "    .dataframe tbody tr th:only-of-type {\n",
              "        vertical-align: middle;\n",
              "    }\n",
              "\n",
              "    .dataframe tbody tr th {\n",
              "        vertical-align: top;\n",
              "    }\n",
              "\n",
              "    .dataframe thead th {\n",
              "        text-align: right;\n",
              "    }\n",
              "</style>\n",
              "<table border=\"1\" class=\"dataframe\">\n",
              "  <thead>\n",
              "    <tr style=\"text-align: right;\">\n",
              "      <th></th>\n",
              "      <th>estimator</th>\n",
              "      <th>min_score</th>\n",
              "      <th>mean_score</th>\n",
              "      <th>max_score</th>\n",
              "      <th>std_score</th>\n",
              "      <th>model__learning_rate</th>\n",
              "      <th>model__max_depth</th>\n",
              "      <th>model__n_estimators</th>\n",
              "    </tr>\n",
              "  </thead>\n",
              "  <tbody>\n",
              "    <tr>\n",
              "      <th>0</th>\n",
              "      <td>GradientBoostingRegressor</td>\n",
              "      <td>0.387012</td>\n",
              "      <td>0.461865</td>\n",
              "      <td>0.503968</td>\n",
              "      <td>0.0424318</td>\n",
              "      <td>0.1</td>\n",
              "      <td>3</td>\n",
              "      <td>100</td>\n",
              "    </tr>\n",
              "    <tr>\n",
              "      <th>7</th>\n",
              "      <td>GradientBoostingRegressor</td>\n",
              "      <td>0.377916</td>\n",
              "      <td>0.447425</td>\n",
              "      <td>0.496555</td>\n",
              "      <td>0.039552</td>\n",
              "      <td>0.01</td>\n",
              "      <td>3</td>\n",
              "      <td>300</td>\n",
              "    </tr>\n",
              "    <tr>\n",
              "      <th>1</th>\n",
              "      <td>GradientBoostingRegressor</td>\n",
              "      <td>0.346378</td>\n",
              "      <td>0.431174</td>\n",
              "      <td>0.47556</td>\n",
              "      <td>0.0470933</td>\n",
              "      <td>0.1</td>\n",
              "      <td>3</td>\n",
              "      <td>300</td>\n",
              "    </tr>\n",
              "    <tr>\n",
              "      <th>6</th>\n",
              "      <td>GradientBoostingRegressor</td>\n",
              "      <td>0.293759</td>\n",
              "      <td>0.338929</td>\n",
              "      <td>0.379381</td>\n",
              "      <td>0.028879</td>\n",
              "      <td>0.01</td>\n",
              "      <td>3</td>\n",
              "      <td>100</td>\n",
              "    </tr>\n",
              "    <tr>\n",
              "      <th>8</th>\n",
              "      <td>GradientBoostingRegressor</td>\n",
              "      <td>0.283865</td>\n",
              "      <td>0.338479</td>\n",
              "      <td>0.402475</td>\n",
              "      <td>0.0411954</td>\n",
              "      <td>0.01</td>\n",
              "      <td>10</td>\n",
              "      <td>100</td>\n",
              "    </tr>\n",
              "    <tr>\n",
              "      <th>9</th>\n",
              "      <td>GradientBoostingRegressor</td>\n",
              "      <td>0.268105</td>\n",
              "      <td>0.326855</td>\n",
              "      <td>0.410846</td>\n",
              "      <td>0.0483059</td>\n",
              "      <td>0.01</td>\n",
              "      <td>10</td>\n",
              "      <td>300</td>\n",
              "    </tr>\n",
              "    <tr>\n",
              "      <th>2</th>\n",
              "      <td>GradientBoostingRegressor</td>\n",
              "      <td>0.188722</td>\n",
              "      <td>0.249556</td>\n",
              "      <td>0.324808</td>\n",
              "      <td>0.0539987</td>\n",
              "      <td>0.1</td>\n",
              "      <td>10</td>\n",
              "      <td>100</td>\n",
              "    </tr>\n",
              "    <tr>\n",
              "      <th>10</th>\n",
              "      <td>GradientBoostingRegressor</td>\n",
              "      <td>0.161658</td>\n",
              "      <td>0.228122</td>\n",
              "      <td>0.308396</td>\n",
              "      <td>0.0472849</td>\n",
              "      <td>0.01</td>\n",
              "      <td>None</td>\n",
              "      <td>100</td>\n",
              "    </tr>\n",
              "    <tr>\n",
              "      <th>15</th>\n",
              "      <td>GradientBoostingRegressor</td>\n",
              "      <td>0.16612</td>\n",
              "      <td>0.197245</td>\n",
              "      <td>0.223178</td>\n",
              "      <td>0.0201625</td>\n",
              "      <td>0.001</td>\n",
              "      <td>10</td>\n",
              "      <td>300</td>\n",
              "    </tr>\n",
              "    <tr>\n",
              "      <th>17</th>\n",
              "      <td>GradientBoostingRegressor</td>\n",
              "      <td>0.151624</td>\n",
              "      <td>0.186236</td>\n",
              "      <td>0.22913</td>\n",
              "      <td>0.0248656</td>\n",
              "      <td>0.001</td>\n",
              "      <td>None</td>\n",
              "      <td>300</td>\n",
              "    </tr>\n",
              "    <tr>\n",
              "      <th>3</th>\n",
              "      <td>GradientBoostingRegressor</td>\n",
              "      <td>0.0942873</td>\n",
              "      <td>0.178091</td>\n",
              "      <td>0.256346</td>\n",
              "      <td>0.0653755</td>\n",
              "      <td>0.1</td>\n",
              "      <td>10</td>\n",
              "      <td>300</td>\n",
              "    </tr>\n",
              "    <tr>\n",
              "      <th>13</th>\n",
              "      <td>GradientBoostingRegressor</td>\n",
              "      <td>0.133194</td>\n",
              "      <td>0.155685</td>\n",
              "      <td>0.176941</td>\n",
              "      <td>0.0157356</td>\n",
              "      <td>0.001</td>\n",
              "      <td>3</td>\n",
              "      <td>300</td>\n",
              "    </tr>\n",
              "    <tr>\n",
              "      <th>16</th>\n",
              "      <td>GradientBoostingRegressor</td>\n",
              "      <td>0.0666042</td>\n",
              "      <td>0.0819956</td>\n",
              "      <td>0.100071</td>\n",
              "      <td>0.0107894</td>\n",
              "      <td>0.001</td>\n",
              "      <td>None</td>\n",
              "      <td>100</td>\n",
              "    </tr>\n",
              "    <tr>\n",
              "      <th>14</th>\n",
              "      <td>GradientBoostingRegressor</td>\n",
              "      <td>0.0681727</td>\n",
              "      <td>0.0808933</td>\n",
              "      <td>0.0911123</td>\n",
              "      <td>0.0078564</td>\n",
              "      <td>0.001</td>\n",
              "      <td>10</td>\n",
              "      <td>100</td>\n",
              "    </tr>\n",
              "    <tr>\n",
              "      <th>12</th>\n",
              "      <td>GradientBoostingRegressor</td>\n",
              "      <td>0.0500354</td>\n",
              "      <td>0.0579523</td>\n",
              "      <td>0.0671143</td>\n",
              "      <td>0.00673718</td>\n",
              "      <td>0.001</td>\n",
              "      <td>3</td>\n",
              "      <td>100</td>\n",
              "    </tr>\n",
              "    <tr>\n",
              "      <th>11</th>\n",
              "      <td>GradientBoostingRegressor</td>\n",
              "      <td>-0.0274499</td>\n",
              "      <td>0.0504503</td>\n",
              "      <td>0.141893</td>\n",
              "      <td>0.0555008</td>\n",
              "      <td>0.01</td>\n",
              "      <td>None</td>\n",
              "      <td>300</td>\n",
              "    </tr>\n",
              "    <tr>\n",
              "      <th>4</th>\n",
              "      <td>GradientBoostingRegressor</td>\n",
              "      <td>-0.0741624</td>\n",
              "      <td>0.00312708</td>\n",
              "      <td>0.0946072</td>\n",
              "      <td>0.0555458</td>\n",
              "      <td>0.1</td>\n",
              "      <td>None</td>\n",
              "      <td>100</td>\n",
              "    </tr>\n",
              "    <tr>\n",
              "      <th>5</th>\n",
              "      <td>GradientBoostingRegressor</td>\n",
              "      <td>-0.0741886</td>\n",
              "      <td>0.00310137</td>\n",
              "      <td>0.0945813</td>\n",
              "      <td>0.055546</td>\n",
              "      <td>0.1</td>\n",
              "      <td>None</td>\n",
              "      <td>300</td>\n",
              "    </tr>\n",
              "  </tbody>\n",
              "</table>\n",
              "</div>"
            ]
          },
          "metadata": {},
          "execution_count": 26
        }
      ],
      "metadata": {
        "id": "qjauRLNHAYPr"
      }
    },
    {
      "cell_type": "markdown",
      "source": [
        "Check the best model"
      ],
      "metadata": {
        "id": "DWryh7BlA2df"
      }
    },
    {
      "cell_type": "code",
      "execution_count": 27,
      "source": [
        "best_model = grid_search_summary.iloc[0,0]\n",
        "best_model"
      ],
      "outputs": [
        {
          "output_type": "execute_result",
          "data": {
            "text/plain": [
              "'GradientBoostingRegressor'"
            ]
          },
          "metadata": {},
          "execution_count": 27
        }
      ],
      "metadata": {
        "id": "QVWEmpSuA4C7"
      }
    },
    {
      "cell_type": "markdown",
      "source": [
        "Parameters for best model"
      ],
      "metadata": {
        "id": "7_jvnR4sZ8km"
      }
    },
    {
      "cell_type": "code",
      "execution_count": 28,
      "source": [
        "grid_search_pipelines[best_model].best_params_"
      ],
      "outputs": [
        {
          "output_type": "execute_result",
          "data": {
            "text/plain": [
              "{'model__learning_rate': 0.1,\n",
              " 'model__max_depth': 3,\n",
              " 'model__n_estimators': 100}"
            ]
          },
          "metadata": {},
          "execution_count": 28
        }
      ],
      "metadata": {
        "id": "2my-LZFzZ-YD"
      }
    },
    {
      "cell_type": "markdown",
      "source": [
        "Define the best regressor, based on search"
      ],
      "metadata": {
        "id": "DgWXlprwaAW-"
      }
    },
    {
      "cell_type": "code",
      "execution_count": 29,
      "source": [
        "best_regressor_pipeline = grid_search_pipelines[best_model].best_estimator_\n",
        "best_regressor_pipeline"
      ],
      "outputs": [
        {
          "output_type": "execute_result",
          "data": {
            "text/plain": [
              "Pipeline(steps=[('OrdinalCategoricalEncoder',\n",
              "                 OrdinalEncoder(encoding_method='arbitrary',\n",
              "                                variables=['gender', 'Partner', 'Dependents',\n",
              "                                           'PhoneService', 'MultipleLines',\n",
              "                                           'InternetService', 'OnlineSecurity',\n",
              "                                           'OnlineBackup', 'DeviceProtection',\n",
              "                                           'TechSupport', 'StreamingTV',\n",
              "                                           'StreamingMovies', 'Contract',\n",
              "                                           'PaperlessBilling',\n",
              "                                           'PaymentMethod'])),\n",
              "                ('SmartCorrelatedSelecti...\n",
              "                                                     'InternetService',\n",
              "                                                     'OnlineSecurity',\n",
              "                                                     'OnlineBackup',\n",
              "                                                     'DeviceProtection',\n",
              "                                                     'TechSupport',\n",
              "                                                     'StreamingTV',\n",
              "                                                     'StreamingMovies',\n",
              "                                                     'Contract',\n",
              "                                                     'PaperlessBilling',\n",
              "                                                     'PaymentMethod',\n",
              "                                                     'MonthlyCharges'])),\n",
              "                ('scaler', StandardScaler()),\n",
              "                ('feat_selection',\n",
              "                 SelectFromModel(estimator=GradientBoostingRegressor(random_state=0))),\n",
              "                ['model', GradientBoostingRegressor(random_state=0)]])"
            ]
          },
          "metadata": {},
          "execution_count": 29
        }
      ],
      "metadata": {
        "id": "0OZ24jS0aAfP"
      }
    },
    {
      "cell_type": "markdown",
      "source": [
        "## Assess feature importance"
      ],
      "metadata": {
        "id": "I9uT2XmaKISR"
      }
    },
    {
      "cell_type": "code",
      "execution_count": 30,
      "source": [
        "# after data cleaning and feat engine, the feature space changes\n",
        "columns_after_data_cleaning_feat_eng = (PipelineDataCleaningAndFeatureEngineering()\n",
        "                                        .fit_transform(X_train)\n",
        "                                        .columns)\n",
        "\n",
        "best_features = columns_after_data_cleaning_feat_eng[best_regressor_pipeline['feat_selection'].get_support()].to_list()\n",
        "\n",
        "# create DataFrame to display feature importance\n",
        "df_feature_importance = (pd.DataFrame(data={\n",
        "          'Attribute': columns_after_data_cleaning_feat_eng[best_regressor_pipeline['feat_selection'].get_support()],\n",
        "          'Importance': best_regressor_pipeline['model'].feature_importances_})\n",
        "  .sort_values(by='Importance', ascending=False)\n",
        "  )\n",
        "\n",
        "# Most important features statement and plot\n",
        "print(f\"* These are the {len(best_features)} most important features in descending order. \"\n",
        "      f\"The model was trained on them: \\n{df_feature_importance['Attribute'].to_list()}\")\n",
        "\n",
        "df_feature_importance.plot(kind='bar',x='Attribute',y='Importance')\n",
        "plt.show()"
      ],
      "outputs": [
        {
          "output_type": "stream",
          "name": "stdout",
          "text": [
            "* These are the 5 most important features in descending order. The model was trained on them: \n",
            "['MonthlyCharges', 'Contract', 'MultipleLines', 'PaymentMethod', 'Partner']\n"
          ]
        },
        {
          "output_type": "display_data",
          "data": {
            "text/plain": [
              "<Figure size 432x288 with 1 Axes>"
            ],
            "image/svg+xml": "<?xml version=\"1.0\" encoding=\"utf-8\" standalone=\"no\"?>\n<!DOCTYPE svg PUBLIC \"-//W3C//DTD SVG 1.1//EN\"\n  \"http://www.w3.org/Graphics/SVG/1.1/DTD/svg11.dtd\">\n<!-- Created with matplotlib (https://matplotlib.org/) -->\n<svg height=\"333.8025pt\" version=\"1.1\" viewBox=\"0 0 372.103125 333.8025\" width=\"372.103125pt\" xmlns=\"http://www.w3.org/2000/svg\" xmlns:xlink=\"http://www.w3.org/1999/xlink\">\n <metadata>\n  <rdf:RDF xmlns:cc=\"http://creativecommons.org/ns#\" xmlns:dc=\"http://purl.org/dc/elements/1.1/\" xmlns:rdf=\"http://www.w3.org/1999/02/22-rdf-syntax-ns#\">\n   <cc:Work>\n    <dc:type rdf:resource=\"http://purl.org/dc/dcmitype/StillImage\"/>\n    <dc:date>2021-09-29T12:57:48.851163</dc:date>\n    <dc:format>image/svg+xml</dc:format>\n    <dc:creator>\n     <cc:Agent>\n      <dc:title>Matplotlib v3.3.1, https://matplotlib.org/</dc:title>\n     </cc:Agent>\n    </dc:creator>\n   </cc:Work>\n  </rdf:RDF>\n </metadata>\n <defs>\n  <style type=\"text/css\">*{stroke-linecap:butt;stroke-linejoin:round;}</style>\n </defs>\n <g id=\"figure_1\">\n  <g id=\"patch_1\">\n   <path d=\"M 0 333.8025 \nL 372.103125 333.8025 \nL 372.103125 0 \nL 0 0 \nz\n\" style=\"fill:#ffffff;\"/>\n  </g>\n  <g id=\"axes_1\">\n   <g id=\"patch_2\">\n    <path d=\"M 30.103125 224.64 \nL 364.903125 224.64 \nL 364.903125 7.2 \nL 30.103125 7.2 \nz\n\" style=\"fill:#ffffff;\"/>\n   </g>\n   <g id=\"matplotlib.axis_1\">\n    <g id=\"xtick_1\">\n     <g id=\"line2d_1\">\n      <path clip-path=\"url(#p2ff8a03274)\" d=\"M 63.583125 224.64 \nL 63.583125 7.2 \n\" style=\"fill:none;stroke:#cccccc;stroke-linecap:round;stroke-width:0.8;\"/>\n     </g>\n     <g id=\"text_1\">\n      <!-- MonthlyCharges -->\n      <g style=\"fill:#262626;\" transform=\"translate(66.3425 312.774375)rotate(-90)scale(0.1 -0.1)\">\n       <defs>\n        <path d=\"M 9.8125 72.90625 \nL 24.515625 72.90625 \nL 43.109375 23.296875 \nL 61.8125 72.90625 \nL 76.515625 72.90625 \nL 76.515625 0 \nL 66.890625 0 \nL 66.890625 64.015625 \nL 48.09375 14.015625 \nL 38.1875 14.015625 \nL 19.390625 64.015625 \nL 19.390625 0 \nL 9.8125 0 \nz\n\" id=\"DejaVuSans-77\"/>\n        <path d=\"M 30.609375 48.390625 \nQ 23.390625 48.390625 19.1875 42.75 \nQ 14.984375 37.109375 14.984375 27.296875 \nQ 14.984375 17.484375 19.15625 11.84375 \nQ 23.34375 6.203125 30.609375 6.203125 \nQ 37.796875 6.203125 41.984375 11.859375 \nQ 46.1875 17.53125 46.1875 27.296875 \nQ 46.1875 37.015625 41.984375 42.703125 \nQ 37.796875 48.390625 30.609375 48.390625 \nz\nM 30.609375 56 \nQ 42.328125 56 49.015625 48.375 \nQ 55.71875 40.765625 55.71875 27.296875 \nQ 55.71875 13.875 49.015625 6.21875 \nQ 42.328125 -1.421875 30.609375 -1.421875 \nQ 18.84375 -1.421875 12.171875 6.21875 \nQ 5.515625 13.875 5.515625 27.296875 \nQ 5.515625 40.765625 12.171875 48.375 \nQ 18.84375 56 30.609375 56 \nz\n\" id=\"DejaVuSans-111\"/>\n        <path d=\"M 54.890625 33.015625 \nL 54.890625 0 \nL 45.90625 0 \nL 45.90625 32.71875 \nQ 45.90625 40.484375 42.875 44.328125 \nQ 39.84375 48.1875 33.796875 48.1875 \nQ 26.515625 48.1875 22.3125 43.546875 \nQ 18.109375 38.921875 18.109375 30.90625 \nL 18.109375 0 \nL 9.078125 0 \nL 9.078125 54.6875 \nL 18.109375 54.6875 \nL 18.109375 46.1875 \nQ 21.34375 51.125 25.703125 53.5625 \nQ 30.078125 56 35.796875 56 \nQ 45.21875 56 50.046875 50.171875 \nQ 54.890625 44.34375 54.890625 33.015625 \nz\n\" id=\"DejaVuSans-110\"/>\n        <path d=\"M 18.3125 70.21875 \nL 18.3125 54.6875 \nL 36.8125 54.6875 \nL 36.8125 47.703125 \nL 18.3125 47.703125 \nL 18.3125 18.015625 \nQ 18.3125 11.328125 20.140625 9.421875 \nQ 21.96875 7.515625 27.59375 7.515625 \nL 36.8125 7.515625 \nL 36.8125 0 \nL 27.59375 0 \nQ 17.1875 0 13.234375 3.875 \nQ 9.28125 7.765625 9.28125 18.015625 \nL 9.28125 47.703125 \nL 2.6875 47.703125 \nL 2.6875 54.6875 \nL 9.28125 54.6875 \nL 9.28125 70.21875 \nz\n\" id=\"DejaVuSans-116\"/>\n        <path d=\"M 54.890625 33.015625 \nL 54.890625 0 \nL 45.90625 0 \nL 45.90625 32.71875 \nQ 45.90625 40.484375 42.875 44.328125 \nQ 39.84375 48.1875 33.796875 48.1875 \nQ 26.515625 48.1875 22.3125 43.546875 \nQ 18.109375 38.921875 18.109375 30.90625 \nL 18.109375 0 \nL 9.078125 0 \nL 9.078125 75.984375 \nL 18.109375 75.984375 \nL 18.109375 46.1875 \nQ 21.34375 51.125 25.703125 53.5625 \nQ 30.078125 56 35.796875 56 \nQ 45.21875 56 50.046875 50.171875 \nQ 54.890625 44.34375 54.890625 33.015625 \nz\n\" id=\"DejaVuSans-104\"/>\n        <path d=\"M 9.421875 75.984375 \nL 18.40625 75.984375 \nL 18.40625 0 \nL 9.421875 0 \nz\n\" id=\"DejaVuSans-108\"/>\n        <path d=\"M 32.171875 -5.078125 \nQ 28.375 -14.84375 24.75 -17.8125 \nQ 21.140625 -20.796875 15.09375 -20.796875 \nL 7.90625 -20.796875 \nL 7.90625 -13.28125 \nL 13.1875 -13.28125 \nQ 16.890625 -13.28125 18.9375 -11.515625 \nQ 21 -9.765625 23.484375 -3.21875 \nL 25.09375 0.875 \nL 2.984375 54.6875 \nL 12.5 54.6875 \nL 29.59375 11.921875 \nL 46.6875 54.6875 \nL 56.203125 54.6875 \nz\n\" id=\"DejaVuSans-121\"/>\n        <path d=\"M 64.40625 67.28125 \nL 64.40625 56.890625 \nQ 59.421875 61.53125 53.78125 63.8125 \nQ 48.140625 66.109375 41.796875 66.109375 \nQ 29.296875 66.109375 22.65625 58.46875 \nQ 16.015625 50.828125 16.015625 36.375 \nQ 16.015625 21.96875 22.65625 14.328125 \nQ 29.296875 6.6875 41.796875 6.6875 \nQ 48.140625 6.6875 53.78125 8.984375 \nQ 59.421875 11.28125 64.40625 15.921875 \nL 64.40625 5.609375 \nQ 59.234375 2.09375 53.4375 0.328125 \nQ 47.65625 -1.421875 41.21875 -1.421875 \nQ 24.65625 -1.421875 15.125 8.703125 \nQ 5.609375 18.84375 5.609375 36.375 \nQ 5.609375 53.953125 15.125 64.078125 \nQ 24.65625 74.21875 41.21875 74.21875 \nQ 47.75 74.21875 53.53125 72.484375 \nQ 59.328125 70.75 64.40625 67.28125 \nz\n\" id=\"DejaVuSans-67\"/>\n        <path d=\"M 34.28125 27.484375 \nQ 23.390625 27.484375 19.1875 25 \nQ 14.984375 22.515625 14.984375 16.5 \nQ 14.984375 11.71875 18.140625 8.90625 \nQ 21.296875 6.109375 26.703125 6.109375 \nQ 34.1875 6.109375 38.703125 11.40625 \nQ 43.21875 16.703125 43.21875 25.484375 \nL 43.21875 27.484375 \nz\nM 52.203125 31.203125 \nL 52.203125 0 \nL 43.21875 0 \nL 43.21875 8.296875 \nQ 40.140625 3.328125 35.546875 0.953125 \nQ 30.953125 -1.421875 24.3125 -1.421875 \nQ 15.921875 -1.421875 10.953125 3.296875 \nQ 6 8.015625 6 15.921875 \nQ 6 25.140625 12.171875 29.828125 \nQ 18.359375 34.515625 30.609375 34.515625 \nL 43.21875 34.515625 \nL 43.21875 35.40625 \nQ 43.21875 41.609375 39.140625 45 \nQ 35.0625 48.390625 27.6875 48.390625 \nQ 23 48.390625 18.546875 47.265625 \nQ 14.109375 46.140625 10.015625 43.890625 \nL 10.015625 52.203125 \nQ 14.9375 54.109375 19.578125 55.046875 \nQ 24.21875 56 28.609375 56 \nQ 40.484375 56 46.34375 49.84375 \nQ 52.203125 43.703125 52.203125 31.203125 \nz\n\" id=\"DejaVuSans-97\"/>\n        <path d=\"M 41.109375 46.296875 \nQ 39.59375 47.171875 37.8125 47.578125 \nQ 36.03125 48 33.890625 48 \nQ 26.265625 48 22.1875 43.046875 \nQ 18.109375 38.09375 18.109375 28.8125 \nL 18.109375 0 \nL 9.078125 0 \nL 9.078125 54.6875 \nL 18.109375 54.6875 \nL 18.109375 46.1875 \nQ 20.953125 51.171875 25.484375 53.578125 \nQ 30.03125 56 36.53125 56 \nQ 37.453125 56 38.578125 55.875 \nQ 39.703125 55.765625 41.0625 55.515625 \nz\n\" id=\"DejaVuSans-114\"/>\n        <path d=\"M 45.40625 27.984375 \nQ 45.40625 37.75 41.375 43.109375 \nQ 37.359375 48.484375 30.078125 48.484375 \nQ 22.859375 48.484375 18.828125 43.109375 \nQ 14.796875 37.75 14.796875 27.984375 \nQ 14.796875 18.265625 18.828125 12.890625 \nQ 22.859375 7.515625 30.078125 7.515625 \nQ 37.359375 7.515625 41.375 12.890625 \nQ 45.40625 18.265625 45.40625 27.984375 \nz\nM 54.390625 6.78125 \nQ 54.390625 -7.171875 48.1875 -13.984375 \nQ 42 -20.796875 29.203125 -20.796875 \nQ 24.46875 -20.796875 20.265625 -20.09375 \nQ 16.0625 -19.390625 12.109375 -17.921875 \nL 12.109375 -9.1875 \nQ 16.0625 -11.328125 19.921875 -12.34375 \nQ 23.78125 -13.375 27.78125 -13.375 \nQ 36.625 -13.375 41.015625 -8.765625 \nQ 45.40625 -4.15625 45.40625 5.171875 \nL 45.40625 9.625 \nQ 42.625 4.78125 38.28125 2.390625 \nQ 33.9375 0 27.875 0 \nQ 17.828125 0 11.671875 7.65625 \nQ 5.515625 15.328125 5.515625 27.984375 \nQ 5.515625 40.671875 11.671875 48.328125 \nQ 17.828125 56 27.875 56 \nQ 33.9375 56 38.28125 53.609375 \nQ 42.625 51.21875 45.40625 46.390625 \nL 45.40625 54.6875 \nL 54.390625 54.6875 \nz\n\" id=\"DejaVuSans-103\"/>\n        <path d=\"M 56.203125 29.59375 \nL 56.203125 25.203125 \nL 14.890625 25.203125 \nQ 15.484375 15.921875 20.484375 11.0625 \nQ 25.484375 6.203125 34.421875 6.203125 \nQ 39.59375 6.203125 44.453125 7.46875 \nQ 49.3125 8.734375 54.109375 11.28125 \nL 54.109375 2.78125 \nQ 49.265625 0.734375 44.1875 -0.34375 \nQ 39.109375 -1.421875 33.890625 -1.421875 \nQ 20.796875 -1.421875 13.15625 6.1875 \nQ 5.515625 13.8125 5.515625 26.8125 \nQ 5.515625 40.234375 12.765625 48.109375 \nQ 20.015625 56 32.328125 56 \nQ 43.359375 56 49.78125 48.890625 \nQ 56.203125 41.796875 56.203125 29.59375 \nz\nM 47.21875 32.234375 \nQ 47.125 39.59375 43.09375 43.984375 \nQ 39.0625 48.390625 32.421875 48.390625 \nQ 24.90625 48.390625 20.390625 44.140625 \nQ 15.875 39.890625 15.1875 32.171875 \nz\n\" id=\"DejaVuSans-101\"/>\n        <path d=\"M 44.28125 53.078125 \nL 44.28125 44.578125 \nQ 40.484375 46.53125 36.375 47.5 \nQ 32.28125 48.484375 27.875 48.484375 \nQ 21.1875 48.484375 17.84375 46.4375 \nQ 14.5 44.390625 14.5 40.28125 \nQ 14.5 37.15625 16.890625 35.375 \nQ 19.28125 33.59375 26.515625 31.984375 \nL 29.59375 31.296875 \nQ 39.15625 29.25 43.1875 25.515625 \nQ 47.21875 21.78125 47.21875 15.09375 \nQ 47.21875 7.46875 41.1875 3.015625 \nQ 35.15625 -1.421875 24.609375 -1.421875 \nQ 20.21875 -1.421875 15.453125 -0.5625 \nQ 10.6875 0.296875 5.421875 2 \nL 5.421875 11.28125 \nQ 10.40625 8.6875 15.234375 7.390625 \nQ 20.0625 6.109375 24.8125 6.109375 \nQ 31.15625 6.109375 34.5625 8.28125 \nQ 37.984375 10.453125 37.984375 14.40625 \nQ 37.984375 18.0625 35.515625 20.015625 \nQ 33.0625 21.96875 24.703125 23.78125 \nL 21.578125 24.515625 \nQ 13.234375 26.265625 9.515625 29.90625 \nQ 5.8125 33.546875 5.8125 39.890625 \nQ 5.8125 47.609375 11.28125 51.796875 \nQ 16.75 56 26.8125 56 \nQ 31.78125 56 36.171875 55.265625 \nQ 40.578125 54.546875 44.28125 53.078125 \nz\n\" id=\"DejaVuSans-115\"/>\n       </defs>\n       <use xlink:href=\"#DejaVuSans-77\"/>\n       <use x=\"86.279297\" xlink:href=\"#DejaVuSans-111\"/>\n       <use x=\"147.460938\" xlink:href=\"#DejaVuSans-110\"/>\n       <use x=\"210.839844\" xlink:href=\"#DejaVuSans-116\"/>\n       <use x=\"250.048828\" xlink:href=\"#DejaVuSans-104\"/>\n       <use x=\"313.427734\" xlink:href=\"#DejaVuSans-108\"/>\n       <use x=\"341.210938\" xlink:href=\"#DejaVuSans-121\"/>\n       <use x=\"400.390625\" xlink:href=\"#DejaVuSans-67\"/>\n       <use x=\"470.214844\" xlink:href=\"#DejaVuSans-104\"/>\n       <use x=\"533.59375\" xlink:href=\"#DejaVuSans-97\"/>\n       <use x=\"594.873047\" xlink:href=\"#DejaVuSans-114\"/>\n       <use x=\"634.236328\" xlink:href=\"#DejaVuSans-103\"/>\n       <use x=\"697.712891\" xlink:href=\"#DejaVuSans-101\"/>\n       <use x=\"759.236328\" xlink:href=\"#DejaVuSans-115\"/>\n      </g>\n     </g>\n    </g>\n    <g id=\"xtick_2\">\n     <g id=\"line2d_2\">\n      <path clip-path=\"url(#p2ff8a03274)\" d=\"M 130.543125 224.64 \nL 130.543125 7.2 \n\" style=\"fill:none;stroke:#cccccc;stroke-linecap:round;stroke-width:0.8;\"/>\n     </g>\n     <g id=\"text_2\">\n      <!-- Contract -->\n      <g style=\"fill:#262626;\" transform=\"translate(133.3025 274.657187)rotate(-90)scale(0.1 -0.1)\">\n       <defs>\n        <path d=\"M 48.78125 52.59375 \nL 48.78125 44.1875 \nQ 44.96875 46.296875 41.140625 47.34375 \nQ 37.3125 48.390625 33.40625 48.390625 \nQ 24.65625 48.390625 19.8125 42.84375 \nQ 14.984375 37.3125 14.984375 27.296875 \nQ 14.984375 17.28125 19.8125 11.734375 \nQ 24.65625 6.203125 33.40625 6.203125 \nQ 37.3125 6.203125 41.140625 7.25 \nQ 44.96875 8.296875 48.78125 10.40625 \nL 48.78125 2.09375 \nQ 45.015625 0.34375 40.984375 -0.53125 \nQ 36.96875 -1.421875 32.421875 -1.421875 \nQ 20.0625 -1.421875 12.78125 6.34375 \nQ 5.515625 14.109375 5.515625 27.296875 \nQ 5.515625 40.671875 12.859375 48.328125 \nQ 20.21875 56 33.015625 56 \nQ 37.15625 56 41.109375 55.140625 \nQ 45.0625 54.296875 48.78125 52.59375 \nz\n\" id=\"DejaVuSans-99\"/>\n       </defs>\n       <use xlink:href=\"#DejaVuSans-67\"/>\n       <use x=\"69.824219\" xlink:href=\"#DejaVuSans-111\"/>\n       <use x=\"131.005859\" xlink:href=\"#DejaVuSans-110\"/>\n       <use x=\"194.384766\" xlink:href=\"#DejaVuSans-116\"/>\n       <use x=\"233.59375\" xlink:href=\"#DejaVuSans-114\"/>\n       <use x=\"274.707031\" xlink:href=\"#DejaVuSans-97\"/>\n       <use x=\"335.986328\" xlink:href=\"#DejaVuSans-99\"/>\n       <use x=\"390.966797\" xlink:href=\"#DejaVuSans-116\"/>\n      </g>\n     </g>\n    </g>\n    <g id=\"xtick_3\">\n     <g id=\"line2d_3\">\n      <path clip-path=\"url(#p2ff8a03274)\" d=\"M 197.503125 224.64 \nL 197.503125 7.2 \n\" style=\"fill:none;stroke:#cccccc;stroke-linecap:round;stroke-width:0.8;\"/>\n     </g>\n     <g id=\"text_3\">\n      <!-- MultipleLines -->\n      <g style=\"fill:#262626;\" transform=\"translate(200.2625 297.411875)rotate(-90)scale(0.1 -0.1)\">\n       <defs>\n        <path d=\"M 8.5 21.578125 \nL 8.5 54.6875 \nL 17.484375 54.6875 \nL 17.484375 21.921875 \nQ 17.484375 14.15625 20.5 10.265625 \nQ 23.53125 6.390625 29.59375 6.390625 \nQ 36.859375 6.390625 41.078125 11.03125 \nQ 45.3125 15.671875 45.3125 23.6875 \nL 45.3125 54.6875 \nL 54.296875 54.6875 \nL 54.296875 0 \nL 45.3125 0 \nL 45.3125 8.40625 \nQ 42.046875 3.421875 37.71875 1 \nQ 33.40625 -1.421875 27.6875 -1.421875 \nQ 18.265625 -1.421875 13.375 4.4375 \nQ 8.5 10.296875 8.5 21.578125 \nz\nM 31.109375 56 \nz\n\" id=\"DejaVuSans-117\"/>\n        <path d=\"M 9.421875 54.6875 \nL 18.40625 54.6875 \nL 18.40625 0 \nL 9.421875 0 \nz\nM 9.421875 75.984375 \nL 18.40625 75.984375 \nL 18.40625 64.59375 \nL 9.421875 64.59375 \nz\n\" id=\"DejaVuSans-105\"/>\n        <path d=\"M 18.109375 8.203125 \nL 18.109375 -20.796875 \nL 9.078125 -20.796875 \nL 9.078125 54.6875 \nL 18.109375 54.6875 \nL 18.109375 46.390625 \nQ 20.953125 51.265625 25.265625 53.625 \nQ 29.59375 56 35.59375 56 \nQ 45.5625 56 51.78125 48.09375 \nQ 58.015625 40.1875 58.015625 27.296875 \nQ 58.015625 14.40625 51.78125 6.484375 \nQ 45.5625 -1.421875 35.59375 -1.421875 \nQ 29.59375 -1.421875 25.265625 0.953125 \nQ 20.953125 3.328125 18.109375 8.203125 \nz\nM 48.6875 27.296875 \nQ 48.6875 37.203125 44.609375 42.84375 \nQ 40.53125 48.484375 33.40625 48.484375 \nQ 26.265625 48.484375 22.1875 42.84375 \nQ 18.109375 37.203125 18.109375 27.296875 \nQ 18.109375 17.390625 22.1875 11.75 \nQ 26.265625 6.109375 33.40625 6.109375 \nQ 40.53125 6.109375 44.609375 11.75 \nQ 48.6875 17.390625 48.6875 27.296875 \nz\n\" id=\"DejaVuSans-112\"/>\n        <path d=\"M 9.8125 72.90625 \nL 19.671875 72.90625 \nL 19.671875 8.296875 \nL 55.171875 8.296875 \nL 55.171875 0 \nL 9.8125 0 \nz\n\" id=\"DejaVuSans-76\"/>\n       </defs>\n       <use xlink:href=\"#DejaVuSans-77\"/>\n       <use x=\"86.279297\" xlink:href=\"#DejaVuSans-117\"/>\n       <use x=\"149.658203\" xlink:href=\"#DejaVuSans-108\"/>\n       <use x=\"177.441406\" xlink:href=\"#DejaVuSans-116\"/>\n       <use x=\"216.650391\" xlink:href=\"#DejaVuSans-105\"/>\n       <use x=\"244.433594\" xlink:href=\"#DejaVuSans-112\"/>\n       <use x=\"307.910156\" xlink:href=\"#DejaVuSans-108\"/>\n       <use x=\"335.693359\" xlink:href=\"#DejaVuSans-101\"/>\n       <use x=\"397.216797\" xlink:href=\"#DejaVuSans-76\"/>\n       <use x=\"452.929688\" xlink:href=\"#DejaVuSans-105\"/>\n       <use x=\"480.712891\" xlink:href=\"#DejaVuSans-110\"/>\n       <use x=\"544.091797\" xlink:href=\"#DejaVuSans-101\"/>\n       <use x=\"605.615234\" xlink:href=\"#DejaVuSans-115\"/>\n      </g>\n     </g>\n    </g>\n    <g id=\"xtick_4\">\n     <g id=\"line2d_4\">\n      <path clip-path=\"url(#p2ff8a03274)\" d=\"M 264.463125 224.64 \nL 264.463125 7.2 \n\" style=\"fill:none;stroke:#cccccc;stroke-linecap:round;stroke-width:0.8;\"/>\n     </g>\n     <g id=\"text_4\">\n      <!-- PaymentMethod -->\n      <g style=\"fill:#262626;\" transform=\"translate(267.2225 312.924375)rotate(-90)scale(0.1 -0.1)\">\n       <defs>\n        <path d=\"M 19.671875 64.796875 \nL 19.671875 37.40625 \nL 32.078125 37.40625 \nQ 38.96875 37.40625 42.71875 40.96875 \nQ 46.484375 44.53125 46.484375 51.125 \nQ 46.484375 57.671875 42.71875 61.234375 \nQ 38.96875 64.796875 32.078125 64.796875 \nz\nM 9.8125 72.90625 \nL 32.078125 72.90625 \nQ 44.34375 72.90625 50.609375 67.359375 \nQ 56.890625 61.8125 56.890625 51.125 \nQ 56.890625 40.328125 50.609375 34.8125 \nQ 44.34375 29.296875 32.078125 29.296875 \nL 19.671875 29.296875 \nL 19.671875 0 \nL 9.8125 0 \nz\n\" id=\"DejaVuSans-80\"/>\n        <path d=\"M 52 44.1875 \nQ 55.375 50.25 60.0625 53.125 \nQ 64.75 56 71.09375 56 \nQ 79.640625 56 84.28125 50.015625 \nQ 88.921875 44.046875 88.921875 33.015625 \nL 88.921875 0 \nL 79.890625 0 \nL 79.890625 32.71875 \nQ 79.890625 40.578125 77.09375 44.375 \nQ 74.3125 48.1875 68.609375 48.1875 \nQ 61.625 48.1875 57.5625 43.546875 \nQ 53.515625 38.921875 53.515625 30.90625 \nL 53.515625 0 \nL 44.484375 0 \nL 44.484375 32.71875 \nQ 44.484375 40.625 41.703125 44.40625 \nQ 38.921875 48.1875 33.109375 48.1875 \nQ 26.21875 48.1875 22.15625 43.53125 \nQ 18.109375 38.875 18.109375 30.90625 \nL 18.109375 0 \nL 9.078125 0 \nL 9.078125 54.6875 \nL 18.109375 54.6875 \nL 18.109375 46.1875 \nQ 21.1875 51.21875 25.484375 53.609375 \nQ 29.78125 56 35.6875 56 \nQ 41.65625 56 45.828125 52.96875 \nQ 50 49.953125 52 44.1875 \nz\n\" id=\"DejaVuSans-109\"/>\n        <path d=\"M 45.40625 46.390625 \nL 45.40625 75.984375 \nL 54.390625 75.984375 \nL 54.390625 0 \nL 45.40625 0 \nL 45.40625 8.203125 \nQ 42.578125 3.328125 38.25 0.953125 \nQ 33.9375 -1.421875 27.875 -1.421875 \nQ 17.96875 -1.421875 11.734375 6.484375 \nQ 5.515625 14.40625 5.515625 27.296875 \nQ 5.515625 40.1875 11.734375 48.09375 \nQ 17.96875 56 27.875 56 \nQ 33.9375 56 38.25 53.625 \nQ 42.578125 51.265625 45.40625 46.390625 \nz\nM 14.796875 27.296875 \nQ 14.796875 17.390625 18.875 11.75 \nQ 22.953125 6.109375 30.078125 6.109375 \nQ 37.203125 6.109375 41.296875 11.75 \nQ 45.40625 17.390625 45.40625 27.296875 \nQ 45.40625 37.203125 41.296875 42.84375 \nQ 37.203125 48.484375 30.078125 48.484375 \nQ 22.953125 48.484375 18.875 42.84375 \nQ 14.796875 37.203125 14.796875 27.296875 \nz\n\" id=\"DejaVuSans-100\"/>\n       </defs>\n       <use xlink:href=\"#DejaVuSans-80\"/>\n       <use x=\"55.802734\" xlink:href=\"#DejaVuSans-97\"/>\n       <use x=\"117.082031\" xlink:href=\"#DejaVuSans-121\"/>\n       <use x=\"176.261719\" xlink:href=\"#DejaVuSans-109\"/>\n       <use x=\"273.673828\" xlink:href=\"#DejaVuSans-101\"/>\n       <use x=\"335.197266\" xlink:href=\"#DejaVuSans-110\"/>\n       <use x=\"398.576172\" xlink:href=\"#DejaVuSans-116\"/>\n       <use x=\"437.785156\" xlink:href=\"#DejaVuSans-77\"/>\n       <use x=\"524.064453\" xlink:href=\"#DejaVuSans-101\"/>\n       <use x=\"585.587891\" xlink:href=\"#DejaVuSans-116\"/>\n       <use x=\"624.796875\" xlink:href=\"#DejaVuSans-104\"/>\n       <use x=\"688.175781\" xlink:href=\"#DejaVuSans-111\"/>\n       <use x=\"749.357422\" xlink:href=\"#DejaVuSans-100\"/>\n      </g>\n     </g>\n    </g>\n    <g id=\"xtick_5\">\n     <g id=\"line2d_5\">\n      <path clip-path=\"url(#p2ff8a03274)\" d=\"M 331.423125 224.64 \nL 331.423125 7.2 \n\" style=\"fill:none;stroke:#cccccc;stroke-linecap:round;stroke-width:0.8;\"/>\n     </g>\n     <g id=\"text_5\">\n      <!-- Partner -->\n      <g style=\"fill:#262626;\" transform=\"translate(334.1825 267.980625)rotate(-90)scale(0.1 -0.1)\">\n       <use xlink:href=\"#DejaVuSans-80\"/>\n       <use x=\"55.802734\" xlink:href=\"#DejaVuSans-97\"/>\n       <use x=\"117.082031\" xlink:href=\"#DejaVuSans-114\"/>\n       <use x=\"158.195312\" xlink:href=\"#DejaVuSans-116\"/>\n       <use x=\"197.404297\" xlink:href=\"#DejaVuSans-110\"/>\n       <use x=\"260.783203\" xlink:href=\"#DejaVuSans-101\"/>\n       <use x=\"322.306641\" xlink:href=\"#DejaVuSans-114\"/>\n      </g>\n     </g>\n    </g>\n    <g id=\"text_6\">\n     <!-- Attribute -->\n     <g style=\"fill:#262626;\" transform=\"translate(175.425781 324.522812)scale(0.1 -0.1)\">\n      <defs>\n       <path d=\"M 34.1875 63.1875 \nL 20.796875 26.90625 \nL 47.609375 26.90625 \nz\nM 28.609375 72.90625 \nL 39.796875 72.90625 \nL 67.578125 0 \nL 57.328125 0 \nL 50.6875 18.703125 \nL 17.828125 18.703125 \nL 11.1875 0 \nL 0.78125 0 \nz\n\" id=\"DejaVuSans-65\"/>\n       <path d=\"M 48.6875 27.296875 \nQ 48.6875 37.203125 44.609375 42.84375 \nQ 40.53125 48.484375 33.40625 48.484375 \nQ 26.265625 48.484375 22.1875 42.84375 \nQ 18.109375 37.203125 18.109375 27.296875 \nQ 18.109375 17.390625 22.1875 11.75 \nQ 26.265625 6.109375 33.40625 6.109375 \nQ 40.53125 6.109375 44.609375 11.75 \nQ 48.6875 17.390625 48.6875 27.296875 \nz\nM 18.109375 46.390625 \nQ 20.953125 51.265625 25.265625 53.625 \nQ 29.59375 56 35.59375 56 \nQ 45.5625 56 51.78125 48.09375 \nQ 58.015625 40.1875 58.015625 27.296875 \nQ 58.015625 14.40625 51.78125 6.484375 \nQ 45.5625 -1.421875 35.59375 -1.421875 \nQ 29.59375 -1.421875 25.265625 0.953125 \nQ 20.953125 3.328125 18.109375 8.203125 \nL 18.109375 0 \nL 9.078125 0 \nL 9.078125 75.984375 \nL 18.109375 75.984375 \nz\n\" id=\"DejaVuSans-98\"/>\n      </defs>\n      <use xlink:href=\"#DejaVuSans-65\"/>\n      <use x=\"66.658203\" xlink:href=\"#DejaVuSans-116\"/>\n      <use x=\"105.867188\" xlink:href=\"#DejaVuSans-116\"/>\n      <use x=\"145.076172\" xlink:href=\"#DejaVuSans-114\"/>\n      <use x=\"186.189453\" xlink:href=\"#DejaVuSans-105\"/>\n      <use x=\"213.972656\" xlink:href=\"#DejaVuSans-98\"/>\n      <use x=\"277.449219\" xlink:href=\"#DejaVuSans-117\"/>\n      <use x=\"340.828125\" xlink:href=\"#DejaVuSans-116\"/>\n      <use x=\"380.037109\" xlink:href=\"#DejaVuSans-101\"/>\n     </g>\n    </g>\n   </g>\n   <g id=\"matplotlib.axis_2\">\n    <g id=\"ytick_1\">\n     <g id=\"line2d_6\">\n      <path clip-path=\"url(#p2ff8a03274)\" d=\"M 30.103125 224.64 \nL 364.903125 224.64 \n\" style=\"fill:none;stroke:#cccccc;stroke-linecap:round;stroke-width:0.8;\"/>\n     </g>\n     <g id=\"text_7\">\n      <!-- 0.0 -->\n      <g style=\"fill:#262626;\" transform=\"translate(7.2 228.439219)scale(0.1 -0.1)\">\n       <defs>\n        <path d=\"M 31.78125 66.40625 \nQ 24.171875 66.40625 20.328125 58.90625 \nQ 16.5 51.421875 16.5 36.375 \nQ 16.5 21.390625 20.328125 13.890625 \nQ 24.171875 6.390625 31.78125 6.390625 \nQ 39.453125 6.390625 43.28125 13.890625 \nQ 47.125 21.390625 47.125 36.375 \nQ 47.125 51.421875 43.28125 58.90625 \nQ 39.453125 66.40625 31.78125 66.40625 \nz\nM 31.78125 74.21875 \nQ 44.046875 74.21875 50.515625 64.515625 \nQ 56.984375 54.828125 56.984375 36.375 \nQ 56.984375 17.96875 50.515625 8.265625 \nQ 44.046875 -1.421875 31.78125 -1.421875 \nQ 19.53125 -1.421875 13.0625 8.265625 \nQ 6.59375 17.96875 6.59375 36.375 \nQ 6.59375 54.828125 13.0625 64.515625 \nQ 19.53125 74.21875 31.78125 74.21875 \nz\n\" id=\"DejaVuSans-48\"/>\n        <path d=\"M 10.6875 12.40625 \nL 21 12.40625 \nL 21 0 \nL 10.6875 0 \nz\n\" id=\"DejaVuSans-46\"/>\n       </defs>\n       <use xlink:href=\"#DejaVuSans-48\"/>\n       <use x=\"63.623047\" xlink:href=\"#DejaVuSans-46\"/>\n       <use x=\"95.410156\" xlink:href=\"#DejaVuSans-48\"/>\n      </g>\n     </g>\n    </g>\n    <g id=\"ytick_2\">\n     <g id=\"line2d_7\">\n      <path clip-path=\"url(#p2ff8a03274)\" d=\"M 30.103125 181.938598 \nL 364.903125 181.938598 \n\" style=\"fill:none;stroke:#cccccc;stroke-linecap:round;stroke-width:0.8;\"/>\n     </g>\n     <g id=\"text_8\">\n      <!-- 0.1 -->\n      <g style=\"fill:#262626;\" transform=\"translate(7.2 185.737817)scale(0.1 -0.1)\">\n       <defs>\n        <path d=\"M 12.40625 8.296875 \nL 28.515625 8.296875 \nL 28.515625 63.921875 \nL 10.984375 60.40625 \nL 10.984375 69.390625 \nL 28.421875 72.90625 \nL 38.28125 72.90625 \nL 38.28125 8.296875 \nL 54.390625 8.296875 \nL 54.390625 0 \nL 12.40625 0 \nz\n\" id=\"DejaVuSans-49\"/>\n       </defs>\n       <use xlink:href=\"#DejaVuSans-48\"/>\n       <use x=\"63.623047\" xlink:href=\"#DejaVuSans-46\"/>\n       <use x=\"95.410156\" xlink:href=\"#DejaVuSans-49\"/>\n      </g>\n     </g>\n    </g>\n    <g id=\"ytick_3\">\n     <g id=\"line2d_8\">\n      <path clip-path=\"url(#p2ff8a03274)\" d=\"M 30.103125 139.237196 \nL 364.903125 139.237196 \n\" style=\"fill:none;stroke:#cccccc;stroke-linecap:round;stroke-width:0.8;\"/>\n     </g>\n     <g id=\"text_9\">\n      <!-- 0.2 -->\n      <g style=\"fill:#262626;\" transform=\"translate(7.2 143.036414)scale(0.1 -0.1)\">\n       <defs>\n        <path d=\"M 19.1875 8.296875 \nL 53.609375 8.296875 \nL 53.609375 0 \nL 7.328125 0 \nL 7.328125 8.296875 \nQ 12.9375 14.109375 22.625 23.890625 \nQ 32.328125 33.6875 34.8125 36.53125 \nQ 39.546875 41.84375 41.421875 45.53125 \nQ 43.3125 49.21875 43.3125 52.78125 \nQ 43.3125 58.59375 39.234375 62.25 \nQ 35.15625 65.921875 28.609375 65.921875 \nQ 23.96875 65.921875 18.8125 64.3125 \nQ 13.671875 62.703125 7.8125 59.421875 \nL 7.8125 69.390625 \nQ 13.765625 71.78125 18.9375 73 \nQ 24.125 74.21875 28.421875 74.21875 \nQ 39.75 74.21875 46.484375 68.546875 \nQ 53.21875 62.890625 53.21875 53.421875 \nQ 53.21875 48.921875 51.53125 44.890625 \nQ 49.859375 40.875 45.40625 35.40625 \nQ 44.1875 33.984375 37.640625 27.21875 \nQ 31.109375 20.453125 19.1875 8.296875 \nz\n\" id=\"DejaVuSans-50\"/>\n       </defs>\n       <use xlink:href=\"#DejaVuSans-48\"/>\n       <use x=\"63.623047\" xlink:href=\"#DejaVuSans-46\"/>\n       <use x=\"95.410156\" xlink:href=\"#DejaVuSans-50\"/>\n      </g>\n     </g>\n    </g>\n    <g id=\"ytick_4\">\n     <g id=\"line2d_9\">\n      <path clip-path=\"url(#p2ff8a03274)\" d=\"M 30.103125 96.535793 \nL 364.903125 96.535793 \n\" style=\"fill:none;stroke:#cccccc;stroke-linecap:round;stroke-width:0.8;\"/>\n     </g>\n     <g id=\"text_10\">\n      <!-- 0.3 -->\n      <g style=\"fill:#262626;\" transform=\"translate(7.2 100.335012)scale(0.1 -0.1)\">\n       <defs>\n        <path d=\"M 40.578125 39.3125 \nQ 47.65625 37.796875 51.625 33 \nQ 55.609375 28.21875 55.609375 21.1875 \nQ 55.609375 10.40625 48.1875 4.484375 \nQ 40.765625 -1.421875 27.09375 -1.421875 \nQ 22.515625 -1.421875 17.65625 -0.515625 \nQ 12.796875 0.390625 7.625 2.203125 \nL 7.625 11.71875 \nQ 11.71875 9.328125 16.59375 8.109375 \nQ 21.484375 6.890625 26.8125 6.890625 \nQ 36.078125 6.890625 40.9375 10.546875 \nQ 45.796875 14.203125 45.796875 21.1875 \nQ 45.796875 27.640625 41.28125 31.265625 \nQ 36.765625 34.90625 28.71875 34.90625 \nL 20.21875 34.90625 \nL 20.21875 43.015625 \nL 29.109375 43.015625 \nQ 36.375 43.015625 40.234375 45.921875 \nQ 44.09375 48.828125 44.09375 54.296875 \nQ 44.09375 59.90625 40.109375 62.90625 \nQ 36.140625 65.921875 28.71875 65.921875 \nQ 24.65625 65.921875 20.015625 65.03125 \nQ 15.375 64.15625 9.8125 62.3125 \nL 9.8125 71.09375 \nQ 15.4375 72.65625 20.34375 73.4375 \nQ 25.25 74.21875 29.59375 74.21875 \nQ 40.828125 74.21875 47.359375 69.109375 \nQ 53.90625 64.015625 53.90625 55.328125 \nQ 53.90625 49.265625 50.4375 45.09375 \nQ 46.96875 40.921875 40.578125 39.3125 \nz\n\" id=\"DejaVuSans-51\"/>\n       </defs>\n       <use xlink:href=\"#DejaVuSans-48\"/>\n       <use x=\"63.623047\" xlink:href=\"#DejaVuSans-46\"/>\n       <use x=\"95.410156\" xlink:href=\"#DejaVuSans-51\"/>\n      </g>\n     </g>\n    </g>\n    <g id=\"ytick_5\">\n     <g id=\"line2d_10\">\n      <path clip-path=\"url(#p2ff8a03274)\" d=\"M 30.103125 53.834391 \nL 364.903125 53.834391 \n\" style=\"fill:none;stroke:#cccccc;stroke-linecap:round;stroke-width:0.8;\"/>\n     </g>\n     <g id=\"text_11\">\n      <!-- 0.4 -->\n      <g style=\"fill:#262626;\" transform=\"translate(7.2 57.63361)scale(0.1 -0.1)\">\n       <defs>\n        <path d=\"M 37.796875 64.3125 \nL 12.890625 25.390625 \nL 37.796875 25.390625 \nz\nM 35.203125 72.90625 \nL 47.609375 72.90625 \nL 47.609375 25.390625 \nL 58.015625 25.390625 \nL 58.015625 17.1875 \nL 47.609375 17.1875 \nL 47.609375 0 \nL 37.796875 0 \nL 37.796875 17.1875 \nL 4.890625 17.1875 \nL 4.890625 26.703125 \nz\n\" id=\"DejaVuSans-52\"/>\n       </defs>\n       <use xlink:href=\"#DejaVuSans-48\"/>\n       <use x=\"63.623047\" xlink:href=\"#DejaVuSans-46\"/>\n       <use x=\"95.410156\" xlink:href=\"#DejaVuSans-52\"/>\n      </g>\n     </g>\n    </g>\n    <g id=\"ytick_6\">\n     <g id=\"line2d_11\">\n      <path clip-path=\"url(#p2ff8a03274)\" d=\"M 30.103125 11.132989 \nL 364.903125 11.132989 \n\" style=\"fill:none;stroke:#cccccc;stroke-linecap:round;stroke-width:0.8;\"/>\n     </g>\n     <g id=\"text_12\">\n      <!-- 0.5 -->\n      <g style=\"fill:#262626;\" transform=\"translate(7.2 14.932208)scale(0.1 -0.1)\">\n       <defs>\n        <path d=\"M 10.796875 72.90625 \nL 49.515625 72.90625 \nL 49.515625 64.59375 \nL 19.828125 64.59375 \nL 19.828125 46.734375 \nQ 21.96875 47.46875 24.109375 47.828125 \nQ 26.265625 48.1875 28.421875 48.1875 \nQ 40.625 48.1875 47.75 41.5 \nQ 54.890625 34.8125 54.890625 23.390625 \nQ 54.890625 11.625 47.5625 5.09375 \nQ 40.234375 -1.421875 26.90625 -1.421875 \nQ 22.3125 -1.421875 17.546875 -0.640625 \nQ 12.796875 0.140625 7.71875 1.703125 \nL 7.71875 11.625 \nQ 12.109375 9.234375 16.796875 8.0625 \nQ 21.484375 6.890625 26.703125 6.890625 \nQ 35.15625 6.890625 40.078125 11.328125 \nQ 45.015625 15.765625 45.015625 23.390625 \nQ 45.015625 31 40.078125 35.4375 \nQ 35.15625 39.890625 26.703125 39.890625 \nQ 22.75 39.890625 18.8125 39.015625 \nQ 14.890625 38.140625 10.796875 36.28125 \nz\n\" id=\"DejaVuSans-53\"/>\n       </defs>\n       <use xlink:href=\"#DejaVuSans-48\"/>\n       <use x=\"63.623047\" xlink:href=\"#DejaVuSans-46\"/>\n       <use x=\"95.410156\" xlink:href=\"#DejaVuSans-53\"/>\n      </g>\n     </g>\n    </g>\n   </g>\n   <g id=\"patch_3\">\n    <path clip-path=\"url(#p2ff8a03274)\" d=\"M 46.843125 224.64 \nL 80.323125 224.64 \nL 80.323125 17.554286 \nL 46.843125 17.554286 \nz\n\" style=\"fill:#1f77b4;stroke:#ffffff;stroke-linejoin:miter;\"/>\n   </g>\n   <g id=\"patch_4\">\n    <path clip-path=\"url(#p2ff8a03274)\" d=\"M 113.803125 224.64 \nL 147.283125 224.64 \nL 147.283125 150.567953 \nL 113.803125 150.567953 \nz\n\" style=\"fill:#1f77b4;stroke:#ffffff;stroke-linejoin:miter;\"/>\n   </g>\n   <g id=\"patch_5\">\n    <path clip-path=\"url(#p2ff8a03274)\" d=\"M 180.763125 224.64 \nL 214.243125 224.64 \nL 214.243125 161.79568 \nL 180.763125 161.79568 \nz\n\" style=\"fill:#1f77b4;stroke:#ffffff;stroke-linejoin:miter;\"/>\n   </g>\n   <g id=\"patch_6\">\n    <path clip-path=\"url(#p2ff8a03274)\" d=\"M 247.723125 224.64 \nL 281.203125 224.64 \nL 281.203125 181.691999 \nL 247.723125 181.691999 \nz\n\" style=\"fill:#1f77b4;stroke:#ffffff;stroke-linejoin:miter;\"/>\n   </g>\n   <g id=\"patch_7\">\n    <path clip-path=\"url(#p2ff8a03274)\" d=\"M 314.683125 224.64 \nL 348.163125 224.64 \nL 348.163125 184.576059 \nL 314.683125 184.576059 \nz\n\" style=\"fill:#1f77b4;stroke:#ffffff;stroke-linejoin:miter;\"/>\n   </g>\n   <g id=\"patch_8\">\n    <path d=\"M 30.103125 224.64 \nL 30.103125 7.2 \n\" style=\"fill:none;stroke:#cccccc;stroke-linecap:square;stroke-linejoin:miter;stroke-width:0.8;\"/>\n   </g>\n   <g id=\"patch_9\">\n    <path d=\"M 364.903125 224.64 \nL 364.903125 7.2 \n\" style=\"fill:none;stroke:#cccccc;stroke-linecap:square;stroke-linejoin:miter;stroke-width:0.8;\"/>\n   </g>\n   <g id=\"patch_10\">\n    <path d=\"M 30.103125 224.64 \nL 364.903125 224.64 \n\" style=\"fill:none;stroke:#cccccc;stroke-linecap:square;stroke-linejoin:miter;stroke-width:0.8;\"/>\n   </g>\n   <g id=\"patch_11\">\n    <path d=\"M 30.103125 7.2 \nL 364.903125 7.2 \n\" style=\"fill:none;stroke:#cccccc;stroke-linecap:square;stroke-linejoin:miter;stroke-width:0.8;\"/>\n   </g>\n   <g id=\"legend_1\">\n    <g id=\"patch_12\">\n     <path d=\"M 268.596875 29.878125 \nL 357.903125 29.878125 \nQ 359.903125 29.878125 359.903125 27.878125 \nL 359.903125 14.2 \nQ 359.903125 12.2 357.903125 12.2 \nL 268.596875 12.2 \nQ 266.596875 12.2 266.596875 14.2 \nL 266.596875 27.878125 \nQ 266.596875 29.878125 268.596875 29.878125 \nz\n\" style=\"fill:#ffffff;opacity:0.8;stroke:#cccccc;stroke-linejoin:miter;\"/>\n    </g>\n    <g id=\"patch_13\">\n     <path d=\"M 270.596875 23.798438 \nL 290.596875 23.798438 \nL 290.596875 16.798438 \nL 270.596875 16.798438 \nz\n\" style=\"fill:#1f77b4;stroke:#ffffff;stroke-linejoin:miter;\"/>\n    </g>\n    <g id=\"text_13\">\n     <!-- Importance -->\n     <g style=\"fill:#262626;\" transform=\"translate(298.596875 23.798438)scale(0.1 -0.1)\">\n      <defs>\n       <path d=\"M 9.8125 72.90625 \nL 19.671875 72.90625 \nL 19.671875 0 \nL 9.8125 0 \nz\n\" id=\"DejaVuSans-73\"/>\n      </defs>\n      <use xlink:href=\"#DejaVuSans-73\"/>\n      <use x=\"29.492188\" xlink:href=\"#DejaVuSans-109\"/>\n      <use x=\"126.904297\" xlink:href=\"#DejaVuSans-112\"/>\n      <use x=\"190.380859\" xlink:href=\"#DejaVuSans-111\"/>\n      <use x=\"251.5625\" xlink:href=\"#DejaVuSans-114\"/>\n      <use x=\"292.675781\" xlink:href=\"#DejaVuSans-116\"/>\n      <use x=\"331.884766\" xlink:href=\"#DejaVuSans-97\"/>\n      <use x=\"393.164062\" xlink:href=\"#DejaVuSans-110\"/>\n      <use x=\"456.542969\" xlink:href=\"#DejaVuSans-99\"/>\n      <use x=\"511.523438\" xlink:href=\"#DejaVuSans-101\"/>\n     </g>\n    </g>\n   </g>\n  </g>\n </g>\n <defs>\n  <clipPath id=\"p2ff8a03274\">\n   <rect height=\"217.44\" width=\"334.8\" x=\"30.103125\" y=\"7.2\"/>\n  </clipPath>\n </defs>\n</svg>\n",
            "image/png": "[encoded data removed]"
          },
          "metadata": {}
        }
      ],
      "metadata": {
        "id": "-m6NUUa0KFQX"
      }
    },
    {
      "cell_type": "markdown",
      "source": [
        "## Evaluate Regressor on Train and Test Sets"
      ],
      "metadata": {
        "id": "QzNyQirSKJj6"
      }
    },
    {
      "cell_type": "markdown",
      "source": [
        "Custom Functions"
      ],
      "metadata": {
        "id": "Ye8fsXJYBO1g"
      }
    },
    {
      "cell_type": "code",
      "execution_count": null,
      "source": [
        "from sklearn.metrics import r2_score, mean_squared_error, mean_absolute_error \n",
        "import numpy as np\n",
        "\n",
        "def model_score_train_test_set(X_train, y_train, X_test, y_test,pipeline):\n",
        "\n",
        "\tprint(\"Model Evaluation \\n\")\n",
        "\tprint(\"* Train Set\")\n",
        "\tPredictionEvaluation(X_train,y_train,pipeline)\n",
        "\n",
        "\tprint(\"* Test Set\")\n",
        "\tPredictionEvaluation(X_test,y_test,pipeline)\n",
        "\n",
        "\n",
        "\n",
        "def PredictionEvaluation(X,y,pipeline):\n",
        "  prediction = pipeline.predict(X)\n",
        "\n",
        "  print('R2 Score:', r2_score(y, prediction).round(3))  \n",
        "  print('Mean Absolute Error:', mean_absolute_error(y, prediction).round(3))  \n",
        "  print('Mean Squared Error:', mean_squared_error(y, prediction).round(3))  \n",
        "  print('Root Mean Squared Error:', np.sqrt(mean_squared_error(y, prediction)).round(3))\n",
        "  print(\"\\n\")\n",
        "\n",
        "  \n",
        "\n",
        "\n",
        "def PredictionVsActual_TrainTestSets(X_train, y_train, X_test, y_test,pipeline):\n",
        "  pred_train = pipeline.predict(X_train)\n",
        "  pred_test = pipeline.predict(X_test)\n",
        "  Plot_Prediction_vs_Actual(y_train,pred_train,y_test, pred_test)\n",
        "\n",
        "\n",
        "\n",
        "def Plot_Prediction_vs_Actual(TrainActual,TrainPred,TestActual,TestPred):\n",
        "\n",
        "  fig, axes = plt.subplots(nrows=1, ncols=2, figsize=(12,6))\n",
        "\n",
        "  sns.scatterplot(x=TrainActual , y=TrainPred, alpha=0.2, ax=axes[0])\n",
        "  sns.lineplot(x=TrainActual , y=TrainActual, color='red', ax=axes[0])\n",
        "  axes[0].set_xlabel(\"Actual\")\n",
        "  axes[0].set_ylabel(\"Predictions\")\n",
        "  axes[0].set_title(\"Train Set\")\n",
        "\n",
        "  sns.scatterplot(x=TestActual , y=TestPred, alpha=0.2, ax=axes[1])\n",
        "  sns.lineplot(x=TestActual , y=TestActual, color='red', ax=axes[1])\n",
        "  axes[1].set_xlabel(\"Actual\")\n",
        "  axes[1].set_ylabel(\"Predictions\")\n",
        "  axes[1].set_title(\"Test Set\")\n",
        "\n",
        "  plt.show()"
      ],
      "outputs": [],
      "metadata": {
        "id": "5pBm_vx8BO9s"
      }
    },
    {
      "cell_type": "markdown",
      "source": [
        "Evaluate Performance"
      ],
      "metadata": {
        "id": "tV-W5nYyBPdk"
      }
    },
    {
      "cell_type": "code",
      "execution_count": null,
      "source": [
        "model_score_train_test_set(X_train, y_train, X_test, y_test,best_regressor_pipeline)\n",
        "PredictionVsActual_TrainTestSets(X_train, y_train, X_test, y_test,best_regressor_pipeline)"
      ],
      "outputs": [],
      "metadata": {
        "id": "EgBgrKJ5KFcX"
      }
    },
    {
      "cell_type": "markdown",
      "source": [
        "# Regressor add PCA() in the pipeline: Sklearn"
      ],
      "metadata": {
        "id": "HZ9tjLxEIn3h"
      }
    },
    {
      "cell_type": "markdown",
      "source": [
        "## Rewrite ML Pipeline for Modelling: add PCA step"
      ],
      "metadata": {
        "id": "5eaMf41ZBhBk"
      }
    },
    {
      "cell_type": "markdown",
      "source": [
        "* It will change only the PipelineOptimization() function"
      ],
      "metadata": {
        "id": "LPWv-kTBKnjR"
      }
    },
    {
      "cell_type": "code",
      "execution_count": 31,
      "source": [
        "### PCA\n",
        "from sklearn.decomposition import PCA\n",
        "\n",
        "def PipelineOptimization(model):\n",
        "  pipe = PipelineDataCleaningAndFeatureEngineering()\n",
        "  pipe.steps.append([\"PCA\",PCA(n_components=3, random_state=0)])   #### PCA replace Feature Engineering\n",
        "  pipe.steps.append([\"scaler\", StandardScaler()])\n",
        "  pipe.steps.append([\"model\", model])\n",
        "  \n",
        "  return pipe"
      ],
      "outputs": [],
      "metadata": {
        "id": "XfU562GBIsB1"
      }
    },
    {
      "cell_type": "markdown",
      "source": [
        "## Grid Search CV – Sklearn"
      ],
      "metadata": {
        "id": "irUsq475Bn7N"
      }
    },
    {
      "cell_type": "markdown",
      "source": [
        "### Use standard hyper parameters to find most suitable model"
      ],
      "metadata": {
        "id": "2LVF-KR_Bqum"
      }
    },
    {
      "cell_type": "code",
      "execution_count": 32,
      "source": [
        "models_quick_search = {\n",
        "    'LinearRegression': LinearRegression(),\n",
        "    \"DecisionTreeRegressor\": DecisionTreeRegressor(random_state=0),\n",
        "    \"RandomForestRegressor\": RandomForestRegressor(random_state=0),\n",
        "    \"ExtraTreesRegressor\": ExtraTreesRegressor(random_state=0),\n",
        "    \"AdaBoostRegressor\": AdaBoostRegressor(random_state=0),\n",
        "    \"GradientBoostingRegressor\": GradientBoostingRegressor(random_state=0),\n",
        "    # \"XGBRegressor\": XGBRegressor(random_state=0),\n",
        "}\n",
        "\n",
        "params_quick_search = {\n",
        "    'LinearRegression': {},\n",
        "    \"DecisionTreeRegressor\": {},\n",
        "    \"RandomForestRegressor\": {},\n",
        "    \"ExtraTreesRegressor\": {},\n",
        "    \"AdaBoostRegressor\": {},\n",
        "    \"GradientBoostingRegressor\": {},\n",
        "    \"XGBRegressor\": {},\n",
        "}\n"
      ],
      "outputs": [],
      "metadata": {
        "id": "2XmJNoUcJkKX"
      }
    },
    {
      "cell_type": "markdown",
      "source": [
        "Do a quick optmization search "
      ],
      "metadata": {
        "id": "Jq8td65fJkKY"
      }
    },
    {
      "cell_type": "code",
      "execution_count": 33,
      "source": [
        "quick_search = HyperparameterOptimizationSearch(models=models_quick_search, params=params_quick_search)\n",
        "quick_search.fit(X_train, y_train, scoring='r2', n_jobs=-1, cv=5)"
      ],
      "outputs": [
        {
          "output_type": "stream",
          "name": "stdout",
          "text": [
            "\n",
            "Running GridSearchCV for LinearRegression \n",
            "\n",
            "Fitting 5 folds for each of 1 candidates, totalling 5 fits\n",
            "\n",
            "Running GridSearchCV for DecisionTreeRegressor \n",
            "\n",
            "Fitting 5 folds for each of 1 candidates, totalling 5 fits\n",
            "\n",
            "Running GridSearchCV for RandomForestRegressor \n",
            "\n",
            "Fitting 5 folds for each of 1 candidates, totalling 5 fits\n",
            "\n",
            "Running GridSearchCV for ExtraTreesRegressor \n",
            "\n",
            "Fitting 5 folds for each of 1 candidates, totalling 5 fits\n",
            "\n",
            "Running GridSearchCV for AdaBoostRegressor \n",
            "\n",
            "Fitting 5 folds for each of 1 candidates, totalling 5 fits\n",
            "\n",
            "Running GridSearchCV for GradientBoostingRegressor \n",
            "\n",
            "Fitting 5 folds for each of 1 candidates, totalling 5 fits\n"
          ]
        }
      ],
      "metadata": {
        "id": "s1BdqEB6JkKZ"
      }
    },
    {
      "cell_type": "markdown",
      "source": [
        "Check results"
      ],
      "metadata": {
        "id": "zQ_Xj5oGJkKZ"
      }
    },
    {
      "cell_type": "code",
      "execution_count": 34,
      "source": [
        "grid_search_summary, grid_search_pipelines = quick_search.score_summary(sort_by='mean_score')\n",
        "grid_search_summary"
      ],
      "outputs": [
        {
          "output_type": "execute_result",
          "data": {
            "text/plain": [
              "                   estimator min_score mean_score  max_score  std_score\n",
              "5  GradientBoostingRegressor  0.292139   0.380262   0.435378  0.0478961\n",
              "2      RandomForestRegressor  0.259349    0.33728   0.400934   0.047094\n",
              "4          AdaBoostRegressor  0.263693   0.333468   0.368808  0.0362284\n",
              "0           LinearRegression  0.246823   0.308161   0.362973  0.0411205\n",
              "3        ExtraTreesRegressor  0.209481   0.287381   0.356079  0.0511687\n",
              "1      DecisionTreeRegressor -0.211158   -0.12299  0.0592011  0.0945859"
            ],
            "text/html": [
              "<div>\n",
              "<style scoped>\n",
              "    .dataframe tbody tr th:only-of-type {\n",
              "        vertical-align: middle;\n",
              "    }\n",
              "\n",
              "    .dataframe tbody tr th {\n",
              "        vertical-align: top;\n",
              "    }\n",
              "\n",
              "    .dataframe thead th {\n",
              "        text-align: right;\n",
              "    }\n",
              "</style>\n",
              "<table border=\"1\" class=\"dataframe\">\n",
              "  <thead>\n",
              "    <tr style=\"text-align: right;\">\n",
              "      <th></th>\n",
              "      <th>estimator</th>\n",
              "      <th>min_score</th>\n",
              "      <th>mean_score</th>\n",
              "      <th>max_score</th>\n",
              "      <th>std_score</th>\n",
              "    </tr>\n",
              "  </thead>\n",
              "  <tbody>\n",
              "    <tr>\n",
              "      <th>5</th>\n",
              "      <td>GradientBoostingRegressor</td>\n",
              "      <td>0.292139</td>\n",
              "      <td>0.380262</td>\n",
              "      <td>0.435378</td>\n",
              "      <td>0.0478961</td>\n",
              "    </tr>\n",
              "    <tr>\n",
              "      <th>2</th>\n",
              "      <td>RandomForestRegressor</td>\n",
              "      <td>0.259349</td>\n",
              "      <td>0.33728</td>\n",
              "      <td>0.400934</td>\n",
              "      <td>0.047094</td>\n",
              "    </tr>\n",
              "    <tr>\n",
              "      <th>4</th>\n",
              "      <td>AdaBoostRegressor</td>\n",
              "      <td>0.263693</td>\n",
              "      <td>0.333468</td>\n",
              "      <td>0.368808</td>\n",
              "      <td>0.0362284</td>\n",
              "    </tr>\n",
              "    <tr>\n",
              "      <th>0</th>\n",
              "      <td>LinearRegression</td>\n",
              "      <td>0.246823</td>\n",
              "      <td>0.308161</td>\n",
              "      <td>0.362973</td>\n",
              "      <td>0.0411205</td>\n",
              "    </tr>\n",
              "    <tr>\n",
              "      <th>3</th>\n",
              "      <td>ExtraTreesRegressor</td>\n",
              "      <td>0.209481</td>\n",
              "      <td>0.287381</td>\n",
              "      <td>0.356079</td>\n",
              "      <td>0.0511687</td>\n",
              "    </tr>\n",
              "    <tr>\n",
              "      <th>1</th>\n",
              "      <td>DecisionTreeRegressor</td>\n",
              "      <td>-0.211158</td>\n",
              "      <td>-0.12299</td>\n",
              "      <td>0.0592011</td>\n",
              "      <td>0.0945859</td>\n",
              "    </tr>\n",
              "  </tbody>\n",
              "</table>\n",
              "</div>"
            ]
          },
          "metadata": {},
          "execution_count": 34
        }
      ],
      "metadata": {
        "id": "vIC2csxKJkKZ"
      }
    },
    {
      "cell_type": "markdown",
      "source": [
        "Check best model"
      ],
      "metadata": {
        "id": "F3QJ5d7GJkKc"
      }
    },
    {
      "cell_type": "code",
      "execution_count": 35,
      "source": [
        "best_model = grid_search_summary.iloc[0,0]\n",
        "best_model"
      ],
      "outputs": [
        {
          "output_type": "execute_result",
          "data": {
            "text/plain": [
              "'GradientBoostingRegressor'"
            ]
          },
          "metadata": {},
          "execution_count": 35
        }
      ],
      "metadata": {
        "id": "T-qRFydjJkKc"
      }
    },
    {
      "cell_type": "markdown",
      "source": [
        "### Do extensive search on most suitable model to find best hyperparameter configuration"
      ],
      "metadata": {
        "id": "383vOhJZBwza"
      }
    },
    {
      "cell_type": "markdown",
      "source": [
        "Define model and parameters, for Extensive Search"
      ],
      "metadata": {
        "id": "PrcbiQHlB9QT"
      }
    },
    {
      "cell_type": "code",
      "execution_count": 36,
      "source": [
        "models_search = {\n",
        "    \"GradientBoostingRegressor\":GradientBoostingRegressor(random_state=0),\n",
        "}\n",
        "\n",
        "# documentation to help on hyperparameter list: \n",
        "# https://scikit-learn.org/stable/modules/generated/sklearn.ensemble.GradientBoostingRegressor.html\n",
        "\n",
        "# We will not conduct an extensive search, since the focus\n",
        "# is on how to combine all knowledge in an applied project.\n",
        "# In a workplace project, you may spend more time in this step\n",
        "params_search = {\n",
        "    \"GradientBoostingRegressor\":{\n",
        "        'model__n_estimators': [100,300],\n",
        "        'model__learning_rate': [1e-1,1e-2,1e-3], \n",
        "        'model__max_depth': [3,10, None],\n",
        "    }\n",
        "}"
      ],
      "outputs": [],
      "metadata": {
        "id": "S7t-fum6B9QU"
      }
    },
    {
      "cell_type": "markdown",
      "source": [
        "Extensive GridSearch CV"
      ],
      "metadata": {
        "id": "Jvt-IOmHB9QU"
      }
    },
    {
      "cell_type": "code",
      "execution_count": 37,
      "source": [
        "search = HyperparameterOptimizationSearch(models=models_search, params=params_search)\n",
        "search.fit(X_train, y_train, scoring = 'r2', n_jobs=-1, cv=5)"
      ],
      "outputs": [
        {
          "output_type": "stream",
          "name": "stdout",
          "text": [
            "\n",
            "Running GridSearchCV for GradientBoostingRegressor \n",
            "\n",
            "Fitting 2 folds for each of 18 candidates, totalling 36 fits\n"
          ]
        }
      ],
      "metadata": {
        "id": "eXbTwW1UB9QV"
      }
    },
    {
      "cell_type": "markdown",
      "source": [
        "Check results"
      ],
      "metadata": {
        "id": "TVUDzRSGB9QV"
      }
    },
    {
      "cell_type": "code",
      "execution_count": 38,
      "source": [
        "grid_search_summary, grid_search_pipelines = search.score_summary(sort_by='mean_score')\n",
        "grid_search_summary"
      ],
      "outputs": [
        {
          "output_type": "execute_result",
          "data": {
            "text/plain": [
              "                    estimator  min_score mean_score  max_score    std_score  \\\n",
              "0   GradientBoostingRegressor   0.339106    0.34793   0.356755   0.00882437   \n",
              "7   GradientBoostingRegressor   0.334237   0.344124    0.35401   0.00988622   \n",
              "1   GradientBoostingRegressor   0.289908   0.306167   0.322425    0.0162584   \n",
              "6   GradientBoostingRegressor   0.258206   0.271471   0.284736     0.013265   \n",
              "8   GradientBoostingRegressor   0.247784    0.25928   0.270776    0.0114963   \n",
              "9   GradientBoostingRegressor   0.196943   0.200796   0.204648   0.00385226   \n",
              "2   GradientBoostingRegressor   0.153219   0.164368   0.175517    0.0111486   \n",
              "15  GradientBoostingRegressor   0.158573   0.161558   0.164544   0.00298549   \n",
              "3   GradientBoostingRegressor   0.139146    0.15249   0.165834     0.013344   \n",
              "17  GradientBoostingRegressor   0.141225   0.144588   0.147951   0.00336278   \n",
              "13  GradientBoostingRegressor   0.125508   0.135641   0.145774    0.0101329   \n",
              "10  GradientBoostingRegressor   0.115739   0.117563   0.119387    0.0018238   \n",
              "16  GradientBoostingRegressor  0.0666739  0.0682593  0.0698447   0.00158538   \n",
              "14  GradientBoostingRegressor  0.0659902  0.0662158  0.0664413  0.000225543   \n",
              "12  GradientBoostingRegressor  0.0493673  0.0541144  0.0588615   0.00474708   \n",
              "11  GradientBoostingRegressor  -0.126852  -0.122498  -0.118144   0.00435377   \n",
              "4   GradientBoostingRegressor  -0.181549  -0.176151  -0.170753   0.00539796   \n",
              "5   GradientBoostingRegressor  -0.181581  -0.176182  -0.170783   0.00539881   \n",
              "\n",
              "   model__learning_rate model__max_depth model__n_estimators  \n",
              "0                   0.1                3                 100  \n",
              "7                  0.01                3                 300  \n",
              "1                   0.1                3                 300  \n",
              "6                  0.01                3                 100  \n",
              "8                  0.01               10                 100  \n",
              "9                  0.01               10                 300  \n",
              "2                   0.1               10                 100  \n",
              "15                0.001               10                 300  \n",
              "3                   0.1               10                 300  \n",
              "17                0.001             None                 300  \n",
              "13                0.001                3                 300  \n",
              "10                 0.01             None                 100  \n",
              "16                0.001             None                 100  \n",
              "14                0.001               10                 100  \n",
              "12                0.001                3                 100  \n",
              "11                 0.01             None                 300  \n",
              "4                   0.1             None                 100  \n",
              "5                   0.1             None                 300  "
            ],
            "text/html": [
              "<div>\n",
              "<style scoped>\n",
              "    .dataframe tbody tr th:only-of-type {\n",
              "        vertical-align: middle;\n",
              "    }\n",
              "\n",
              "    .dataframe tbody tr th {\n",
              "        vertical-align: top;\n",
              "    }\n",
              "\n",
              "    .dataframe thead th {\n",
              "        text-align: right;\n",
              "    }\n",
              "</style>\n",
              "<table border=\"1\" class=\"dataframe\">\n",
              "  <thead>\n",
              "    <tr style=\"text-align: right;\">\n",
              "      <th></th>\n",
              "      <th>estimator</th>\n",
              "      <th>min_score</th>\n",
              "      <th>mean_score</th>\n",
              "      <th>max_score</th>\n",
              "      <th>std_score</th>\n",
              "      <th>model__learning_rate</th>\n",
              "      <th>model__max_depth</th>\n",
              "      <th>model__n_estimators</th>\n",
              "    </tr>\n",
              "  </thead>\n",
              "  <tbody>\n",
              "    <tr>\n",
              "      <th>0</th>\n",
              "      <td>GradientBoostingRegressor</td>\n",
              "      <td>0.339106</td>\n",
              "      <td>0.34793</td>\n",
              "      <td>0.356755</td>\n",
              "      <td>0.00882437</td>\n",
              "      <td>0.1</td>\n",
              "      <td>3</td>\n",
              "      <td>100</td>\n",
              "    </tr>\n",
              "    <tr>\n",
              "      <th>7</th>\n",
              "      <td>GradientBoostingRegressor</td>\n",
              "      <td>0.334237</td>\n",
              "      <td>0.344124</td>\n",
              "      <td>0.35401</td>\n",
              "      <td>0.00988622</td>\n",
              "      <td>0.01</td>\n",
              "      <td>3</td>\n",
              "      <td>300</td>\n",
              "    </tr>\n",
              "    <tr>\n",
              "      <th>1</th>\n",
              "      <td>GradientBoostingRegressor</td>\n",
              "      <td>0.289908</td>\n",
              "      <td>0.306167</td>\n",
              "      <td>0.322425</td>\n",
              "      <td>0.0162584</td>\n",
              "      <td>0.1</td>\n",
              "      <td>3</td>\n",
              "      <td>300</td>\n",
              "    </tr>\n",
              "    <tr>\n",
              "      <th>6</th>\n",
              "      <td>GradientBoostingRegressor</td>\n",
              "      <td>0.258206</td>\n",
              "      <td>0.271471</td>\n",
              "      <td>0.284736</td>\n",
              "      <td>0.013265</td>\n",
              "      <td>0.01</td>\n",
              "      <td>3</td>\n",
              "      <td>100</td>\n",
              "    </tr>\n",
              "    <tr>\n",
              "      <th>8</th>\n",
              "      <td>GradientBoostingRegressor</td>\n",
              "      <td>0.247784</td>\n",
              "      <td>0.25928</td>\n",
              "      <td>0.270776</td>\n",
              "      <td>0.0114963</td>\n",
              "      <td>0.01</td>\n",
              "      <td>10</td>\n",
              "      <td>100</td>\n",
              "    </tr>\n",
              "    <tr>\n",
              "      <th>9</th>\n",
              "      <td>GradientBoostingRegressor</td>\n",
              "      <td>0.196943</td>\n",
              "      <td>0.200796</td>\n",
              "      <td>0.204648</td>\n",
              "      <td>0.00385226</td>\n",
              "      <td>0.01</td>\n",
              "      <td>10</td>\n",
              "      <td>300</td>\n",
              "    </tr>\n",
              "    <tr>\n",
              "      <th>2</th>\n",
              "      <td>GradientBoostingRegressor</td>\n",
              "      <td>0.153219</td>\n",
              "      <td>0.164368</td>\n",
              "      <td>0.175517</td>\n",
              "      <td>0.0111486</td>\n",
              "      <td>0.1</td>\n",
              "      <td>10</td>\n",
              "      <td>100</td>\n",
              "    </tr>\n",
              "    <tr>\n",
              "      <th>15</th>\n",
              "      <td>GradientBoostingRegressor</td>\n",
              "      <td>0.158573</td>\n",
              "      <td>0.161558</td>\n",
              "      <td>0.164544</td>\n",
              "      <td>0.00298549</td>\n",
              "      <td>0.001</td>\n",
              "      <td>10</td>\n",
              "      <td>300</td>\n",
              "    </tr>\n",
              "    <tr>\n",
              "      <th>3</th>\n",
              "      <td>GradientBoostingRegressor</td>\n",
              "      <td>0.139146</td>\n",
              "      <td>0.15249</td>\n",
              "      <td>0.165834</td>\n",
              "      <td>0.013344</td>\n",
              "      <td>0.1</td>\n",
              "      <td>10</td>\n",
              "      <td>300</td>\n",
              "    </tr>\n",
              "    <tr>\n",
              "      <th>17</th>\n",
              "      <td>GradientBoostingRegressor</td>\n",
              "      <td>0.141225</td>\n",
              "      <td>0.144588</td>\n",
              "      <td>0.147951</td>\n",
              "      <td>0.00336278</td>\n",
              "      <td>0.001</td>\n",
              "      <td>None</td>\n",
              "      <td>300</td>\n",
              "    </tr>\n",
              "    <tr>\n",
              "      <th>13</th>\n",
              "      <td>GradientBoostingRegressor</td>\n",
              "      <td>0.125508</td>\n",
              "      <td>0.135641</td>\n",
              "      <td>0.145774</td>\n",
              "      <td>0.0101329</td>\n",
              "      <td>0.001</td>\n",
              "      <td>3</td>\n",
              "      <td>300</td>\n",
              "    </tr>\n",
              "    <tr>\n",
              "      <th>10</th>\n",
              "      <td>GradientBoostingRegressor</td>\n",
              "      <td>0.115739</td>\n",
              "      <td>0.117563</td>\n",
              "      <td>0.119387</td>\n",
              "      <td>0.0018238</td>\n",
              "      <td>0.01</td>\n",
              "      <td>None</td>\n",
              "      <td>100</td>\n",
              "    </tr>\n",
              "    <tr>\n",
              "      <th>16</th>\n",
              "      <td>GradientBoostingRegressor</td>\n",
              "      <td>0.0666739</td>\n",
              "      <td>0.0682593</td>\n",
              "      <td>0.0698447</td>\n",
              "      <td>0.00158538</td>\n",
              "      <td>0.001</td>\n",
              "      <td>None</td>\n",
              "      <td>100</td>\n",
              "    </tr>\n",
              "    <tr>\n",
              "      <th>14</th>\n",
              "      <td>GradientBoostingRegressor</td>\n",
              "      <td>0.0659902</td>\n",
              "      <td>0.0662158</td>\n",
              "      <td>0.0664413</td>\n",
              "      <td>0.000225543</td>\n",
              "      <td>0.001</td>\n",
              "      <td>10</td>\n",
              "      <td>100</td>\n",
              "    </tr>\n",
              "    <tr>\n",
              "      <th>12</th>\n",
              "      <td>GradientBoostingRegressor</td>\n",
              "      <td>0.0493673</td>\n",
              "      <td>0.0541144</td>\n",
              "      <td>0.0588615</td>\n",
              "      <td>0.00474708</td>\n",
              "      <td>0.001</td>\n",
              "      <td>3</td>\n",
              "      <td>100</td>\n",
              "    </tr>\n",
              "    <tr>\n",
              "      <th>11</th>\n",
              "      <td>GradientBoostingRegressor</td>\n",
              "      <td>-0.126852</td>\n",
              "      <td>-0.122498</td>\n",
              "      <td>-0.118144</td>\n",
              "      <td>0.00435377</td>\n",
              "      <td>0.01</td>\n",
              "      <td>None</td>\n",
              "      <td>300</td>\n",
              "    </tr>\n",
              "    <tr>\n",
              "      <th>4</th>\n",
              "      <td>GradientBoostingRegressor</td>\n",
              "      <td>-0.181549</td>\n",
              "      <td>-0.176151</td>\n",
              "      <td>-0.170753</td>\n",
              "      <td>0.00539796</td>\n",
              "      <td>0.1</td>\n",
              "      <td>None</td>\n",
              "      <td>100</td>\n",
              "    </tr>\n",
              "    <tr>\n",
              "      <th>5</th>\n",
              "      <td>GradientBoostingRegressor</td>\n",
              "      <td>-0.181581</td>\n",
              "      <td>-0.176182</td>\n",
              "      <td>-0.170783</td>\n",
              "      <td>0.00539881</td>\n",
              "      <td>0.1</td>\n",
              "      <td>None</td>\n",
              "      <td>300</td>\n",
              "    </tr>\n",
              "  </tbody>\n",
              "</table>\n",
              "</div>"
            ]
          },
          "metadata": {},
          "execution_count": 38
        }
      ],
      "metadata": {
        "id": "5ZfOdh5kB9QW"
      }
    },
    {
      "cell_type": "markdown",
      "source": [
        "Check the best model"
      ],
      "metadata": {
        "id": "CgoLo5C8B9QW"
      }
    },
    {
      "cell_type": "code",
      "execution_count": 39,
      "source": [
        "best_model = grid_search_summary.iloc[0,0]\n",
        "best_model"
      ],
      "outputs": [
        {
          "output_type": "execute_result",
          "data": {
            "text/plain": [
              "'GradientBoostingRegressor'"
            ]
          },
          "metadata": {},
          "execution_count": 39
        }
      ],
      "metadata": {
        "id": "C3UGYjpcB9QW"
      }
    },
    {
      "cell_type": "markdown",
      "source": [
        "Parameters for best model"
      ],
      "metadata": {
        "id": "bjY2MdBNB9QX"
      }
    },
    {
      "cell_type": "code",
      "execution_count": 40,
      "source": [
        "grid_search_pipelines[best_model].best_params_"
      ],
      "outputs": [
        {
          "output_type": "execute_result",
          "data": {
            "text/plain": [
              "{'model__learning_rate': 0.1,\n",
              " 'model__max_depth': 3,\n",
              " 'model__n_estimators': 100}"
            ]
          },
          "metadata": {},
          "execution_count": 40
        }
      ],
      "metadata": {
        "id": "Uspihv71B9QX"
      }
    },
    {
      "cell_type": "markdown",
      "source": [
        "Define the best regressor, based on search"
      ],
      "metadata": {
        "id": "-8HonhniB9QX"
      }
    },
    {
      "cell_type": "code",
      "execution_count": 41,
      "source": [
        "best_regressor_pipeline = grid_search_pipelines[best_model].best_estimator_\n",
        "best_regressor_pipeline"
      ],
      "outputs": [
        {
          "output_type": "execute_result",
          "data": {
            "text/plain": [
              "Pipeline(steps=[('OrdinalCategoricalEncoder',\n",
              "                 OrdinalEncoder(encoding_method='arbitrary',\n",
              "                                variables=['gender', 'Partner', 'Dependents',\n",
              "                                           'PhoneService', 'MultipleLines',\n",
              "                                           'InternetService', 'OnlineSecurity',\n",
              "                                           'OnlineBackup', 'DeviceProtection',\n",
              "                                           'TechSupport', 'StreamingTV',\n",
              "                                           'StreamingMovies', 'Contract',\n",
              "                                           'PaperlessBilling',\n",
              "                                           'PaymentMethod'])),\n",
              "                ('SmartCorrelatedSelecti...\n",
              "                                                     'Partner', 'Dependents',\n",
              "                                                     'PhoneService',\n",
              "                                                     'MultipleLines',\n",
              "                                                     'InternetService',\n",
              "                                                     'OnlineSecurity',\n",
              "                                                     'OnlineBackup',\n",
              "                                                     'DeviceProtection',\n",
              "                                                     'TechSupport',\n",
              "                                                     'StreamingTV',\n",
              "                                                     'StreamingMovies',\n",
              "                                                     'Contract',\n",
              "                                                     'PaperlessBilling',\n",
              "                                                     'PaymentMethod',\n",
              "                                                     'MonthlyCharges'])),\n",
              "                ('PCA', PCA(n_components=3, random_state=0)),\n",
              "                ('scaler', StandardScaler()),\n",
              "                ['model', GradientBoostingRegressor(random_state=0)]])"
            ]
          },
          "metadata": {},
          "execution_count": 41
        }
      ],
      "metadata": {
        "id": "DC8U4skKB9QY"
      }
    },
    {
      "cell_type": "markdown",
      "source": [
        "## Evaluate Regressor on Train and Tests Sets"
      ],
      "metadata": {
        "id": "rKGmSgINCQwj"
      }
    },
    {
      "cell_type": "code",
      "execution_count": null,
      "source": [
        "model_score_train_test_set(X_train, y_train, X_test, y_test,best_regressor_pipeline)\n",
        "PredictionVsActual_TrainTestSets(X_train, y_train, X_test, y_test,best_regressor_pipeline)"
      ],
      "outputs": [],
      "metadata": {
        "id": "78tt_ZkiJRdE"
      }
    },
    {
      "cell_type": "markdown",
      "source": [
        "# Convert Regression to Classification: Sklearn"
      ],
      "metadata": {
        "id": "qpKz9qjRUOR0"
      }
    },
    {
      "cell_type": "markdown",
      "source": [
        "### Convert target to bins and check if it is balanced"
      ],
      "metadata": {
        "id": "g0yf7s9LVZFH"
      }
    },
    {
      "cell_type": "code",
      "execution_count": 42,
      "source": [
        "from feature_engine.discretisation import EqualFrequencyDiscretiser\n",
        "disc = EqualFrequencyDiscretiser(q=3, variables=['tenure'])\n",
        "\n",
        "df_clf = disc.fit_transform(df)\n",
        "df_clf['tenure'].value_counts()"
      ],
      "outputs": [
        {
          "output_type": "execute_result",
          "data": {
            "text/plain": [
              "0    680\n",
              "2    618\n",
              "1    571\n",
              "Name: tenure, dtype: int64"
            ]
          },
          "metadata": {},
          "execution_count": 42
        }
      ],
      "metadata": {
        "id": "dzXQjVf-Uoay"
      }
    },
    {
      "cell_type": "markdown",
      "source": [
        "Visualize target distribution and range levels"
      ],
      "metadata": {
        "id": "MaElij1Wv_gL"
      }
    },
    {
      "cell_type": "code",
      "execution_count": 43,
      "source": [
        "print(f\"* The classes represent the following ranges: \\n{disc.binner_dict_} \\n\")\n",
        "sns.countplot(data=df_clf, x='tenure')\n",
        "plt.show()"
      ],
      "outputs": [
        {
          "output_type": "stream",
          "name": "stdout",
          "text": [
            "* The classes represent the following ranges: \n",
            "{'tenure': [-inf, 4.0, 20.0, inf]} \n",
            "\n"
          ]
        },
        {
          "output_type": "display_data",
          "data": {
            "text/plain": [
              "<Figure size 432x288 with 1 Axes>"
            ],
            "image/svg+xml": "<?xml version=\"1.0\" encoding=\"utf-8\" standalone=\"no\"?>\n<!DOCTYPE svg PUBLIC \"-//W3C//DTD SVG 1.1//EN\"\n  \"http://www.w3.org/Graphics/SVG/1.1/DTD/svg11.dtd\">\n<!-- Created with matplotlib (https://matplotlib.org/) -->\n<svg height=\"262.19625pt\" version=\"1.1\" viewBox=\"0 0 388.965625 262.19625\" width=\"388.965625pt\" xmlns=\"http://www.w3.org/2000/svg\" xmlns:xlink=\"http://www.w3.org/1999/xlink\">\n <metadata>\n  <rdf:RDF xmlns:cc=\"http://creativecommons.org/ns#\" xmlns:dc=\"http://purl.org/dc/elements/1.1/\" xmlns:rdf=\"http://www.w3.org/1999/02/22-rdf-syntax-ns#\">\n   <cc:Work>\n    <dc:type rdf:resource=\"http://purl.org/dc/dcmitype/StillImage\"/>\n    <dc:date>2021-09-29T12:59:45.141985</dc:date>\n    <dc:format>image/svg+xml</dc:format>\n    <dc:creator>\n     <cc:Agent>\n      <dc:title>Matplotlib v3.3.1, https://matplotlib.org/</dc:title>\n     </cc:Agent>\n    </dc:creator>\n   </cc:Work>\n  </rdf:RDF>\n </metadata>\n <defs>\n  <style type=\"text/css\">*{stroke-linecap:butt;stroke-linejoin:round;}</style>\n </defs>\n <g id=\"figure_1\">\n  <g id=\"patch_1\">\n   <path d=\"M -0 262.19625 \nL 388.965625 262.19625 \nL 388.965625 0 \nL -0 0 \nz\n\" style=\"fill:#ffffff;\"/>\n  </g>\n  <g id=\"axes_1\">\n   <g id=\"patch_2\">\n    <path d=\"M 46.965625 224.64 \nL 381.765625 224.64 \nL 381.765625 7.2 \nL 46.965625 7.2 \nz\n\" style=\"fill:#ffffff;\"/>\n   </g>\n   <g id=\"matplotlib.axis_1\">\n    <g id=\"xtick_1\">\n     <g id=\"text_1\">\n      <!-- 0 -->\n      <g style=\"fill:#262626;\" transform=\"translate(99.584375 239.238438)scale(0.1 -0.1)\">\n       <defs>\n        <path d=\"M 31.78125 66.40625 \nQ 24.171875 66.40625 20.328125 58.90625 \nQ 16.5 51.421875 16.5 36.375 \nQ 16.5 21.390625 20.328125 13.890625 \nQ 24.171875 6.390625 31.78125 6.390625 \nQ 39.453125 6.390625 43.28125 13.890625 \nQ 47.125 21.390625 47.125 36.375 \nQ 47.125 51.421875 43.28125 58.90625 \nQ 39.453125 66.40625 31.78125 66.40625 \nz\nM 31.78125 74.21875 \nQ 44.046875 74.21875 50.515625 64.515625 \nQ 56.984375 54.828125 56.984375 36.375 \nQ 56.984375 17.96875 50.515625 8.265625 \nQ 44.046875 -1.421875 31.78125 -1.421875 \nQ 19.53125 -1.421875 13.0625 8.265625 \nQ 6.59375 17.96875 6.59375 36.375 \nQ 6.59375 54.828125 13.0625 64.515625 \nQ 19.53125 74.21875 31.78125 74.21875 \nz\n\" id=\"DejaVuSans-48\"/>\n       </defs>\n       <use xlink:href=\"#DejaVuSans-48\"/>\n      </g>\n     </g>\n    </g>\n    <g id=\"xtick_2\">\n     <g id=\"text_2\">\n      <!-- 1 -->\n      <g style=\"fill:#262626;\" transform=\"translate(211.184375 239.238438)scale(0.1 -0.1)\">\n       <defs>\n        <path d=\"M 12.40625 8.296875 \nL 28.515625 8.296875 \nL 28.515625 63.921875 \nL 10.984375 60.40625 \nL 10.984375 69.390625 \nL 28.421875 72.90625 \nL 38.28125 72.90625 \nL 38.28125 8.296875 \nL 54.390625 8.296875 \nL 54.390625 0 \nL 12.40625 0 \nz\n\" id=\"DejaVuSans-49\"/>\n       </defs>\n       <use xlink:href=\"#DejaVuSans-49\"/>\n      </g>\n     </g>\n    </g>\n    <g id=\"xtick_3\">\n     <g id=\"text_3\">\n      <!-- 2 -->\n      <g style=\"fill:#262626;\" transform=\"translate(322.784375 239.238438)scale(0.1 -0.1)\">\n       <defs>\n        <path d=\"M 19.1875 8.296875 \nL 53.609375 8.296875 \nL 53.609375 0 \nL 7.328125 0 \nL 7.328125 8.296875 \nQ 12.9375 14.109375 22.625 23.890625 \nQ 32.328125 33.6875 34.8125 36.53125 \nQ 39.546875 41.84375 41.421875 45.53125 \nQ 43.3125 49.21875 43.3125 52.78125 \nQ 43.3125 58.59375 39.234375 62.25 \nQ 35.15625 65.921875 28.609375 65.921875 \nQ 23.96875 65.921875 18.8125 64.3125 \nQ 13.671875 62.703125 7.8125 59.421875 \nL 7.8125 69.390625 \nQ 13.765625 71.78125 18.9375 73 \nQ 24.125 74.21875 28.421875 74.21875 \nQ 39.75 74.21875 46.484375 68.546875 \nQ 53.21875 62.890625 53.21875 53.421875 \nQ 53.21875 48.921875 51.53125 44.890625 \nQ 49.859375 40.875 45.40625 35.40625 \nQ 44.1875 33.984375 37.640625 27.21875 \nQ 31.109375 20.453125 19.1875 8.296875 \nz\n\" id=\"DejaVuSans-50\"/>\n       </defs>\n       <use xlink:href=\"#DejaVuSans-50\"/>\n      </g>\n     </g>\n    </g>\n    <g id=\"text_4\">\n     <!-- tenure -->\n     <g style=\"fill:#262626;\" transform=\"translate(197.971875 252.916563)scale(0.1 -0.1)\">\n      <defs>\n       <path d=\"M 18.3125 70.21875 \nL 18.3125 54.6875 \nL 36.8125 54.6875 \nL 36.8125 47.703125 \nL 18.3125 47.703125 \nL 18.3125 18.015625 \nQ 18.3125 11.328125 20.140625 9.421875 \nQ 21.96875 7.515625 27.59375 7.515625 \nL 36.8125 7.515625 \nL 36.8125 0 \nL 27.59375 0 \nQ 17.1875 0 13.234375 3.875 \nQ 9.28125 7.765625 9.28125 18.015625 \nL 9.28125 47.703125 \nL 2.6875 47.703125 \nL 2.6875 54.6875 \nL 9.28125 54.6875 \nL 9.28125 70.21875 \nz\n\" id=\"DejaVuSans-116\"/>\n       <path d=\"M 56.203125 29.59375 \nL 56.203125 25.203125 \nL 14.890625 25.203125 \nQ 15.484375 15.921875 20.484375 11.0625 \nQ 25.484375 6.203125 34.421875 6.203125 \nQ 39.59375 6.203125 44.453125 7.46875 \nQ 49.3125 8.734375 54.109375 11.28125 \nL 54.109375 2.78125 \nQ 49.265625 0.734375 44.1875 -0.34375 \nQ 39.109375 -1.421875 33.890625 -1.421875 \nQ 20.796875 -1.421875 13.15625 6.1875 \nQ 5.515625 13.8125 5.515625 26.8125 \nQ 5.515625 40.234375 12.765625 48.109375 \nQ 20.015625 56 32.328125 56 \nQ 43.359375 56 49.78125 48.890625 \nQ 56.203125 41.796875 56.203125 29.59375 \nz\nM 47.21875 32.234375 \nQ 47.125 39.59375 43.09375 43.984375 \nQ 39.0625 48.390625 32.421875 48.390625 \nQ 24.90625 48.390625 20.390625 44.140625 \nQ 15.875 39.890625 15.1875 32.171875 \nz\n\" id=\"DejaVuSans-101\"/>\n       <path d=\"M 54.890625 33.015625 \nL 54.890625 0 \nL 45.90625 0 \nL 45.90625 32.71875 \nQ 45.90625 40.484375 42.875 44.328125 \nQ 39.84375 48.1875 33.796875 48.1875 \nQ 26.515625 48.1875 22.3125 43.546875 \nQ 18.109375 38.921875 18.109375 30.90625 \nL 18.109375 0 \nL 9.078125 0 \nL 9.078125 54.6875 \nL 18.109375 54.6875 \nL 18.109375 46.1875 \nQ 21.34375 51.125 25.703125 53.5625 \nQ 30.078125 56 35.796875 56 \nQ 45.21875 56 50.046875 50.171875 \nQ 54.890625 44.34375 54.890625 33.015625 \nz\n\" id=\"DejaVuSans-110\"/>\n       <path d=\"M 8.5 21.578125 \nL 8.5 54.6875 \nL 17.484375 54.6875 \nL 17.484375 21.921875 \nQ 17.484375 14.15625 20.5 10.265625 \nQ 23.53125 6.390625 29.59375 6.390625 \nQ 36.859375 6.390625 41.078125 11.03125 \nQ 45.3125 15.671875 45.3125 23.6875 \nL 45.3125 54.6875 \nL 54.296875 54.6875 \nL 54.296875 0 \nL 45.3125 0 \nL 45.3125 8.40625 \nQ 42.046875 3.421875 37.71875 1 \nQ 33.40625 -1.421875 27.6875 -1.421875 \nQ 18.265625 -1.421875 13.375 4.4375 \nQ 8.5 10.296875 8.5 21.578125 \nz\nM 31.109375 56 \nz\n\" id=\"DejaVuSans-117\"/>\n       <path d=\"M 41.109375 46.296875 \nQ 39.59375 47.171875 37.8125 47.578125 \nQ 36.03125 48 33.890625 48 \nQ 26.265625 48 22.1875 43.046875 \nQ 18.109375 38.09375 18.109375 28.8125 \nL 18.109375 0 \nL 9.078125 0 \nL 9.078125 54.6875 \nL 18.109375 54.6875 \nL 18.109375 46.1875 \nQ 20.953125 51.171875 25.484375 53.578125 \nQ 30.03125 56 36.53125 56 \nQ 37.453125 56 38.578125 55.875 \nQ 39.703125 55.765625 41.0625 55.515625 \nz\n\" id=\"DejaVuSans-114\"/>\n      </defs>\n      <use xlink:href=\"#DejaVuSans-116\"/>\n      <use x=\"39.208984\" xlink:href=\"#DejaVuSans-101\"/>\n      <use x=\"100.732422\" xlink:href=\"#DejaVuSans-110\"/>\n      <use x=\"164.111328\" xlink:href=\"#DejaVuSans-117\"/>\n      <use x=\"227.490234\" xlink:href=\"#DejaVuSans-114\"/>\n      <use x=\"266.353516\" xlink:href=\"#DejaVuSans-101\"/>\n     </g>\n    </g>\n   </g>\n   <g id=\"matplotlib.axis_2\">\n    <g id=\"ytick_1\">\n     <g id=\"line2d_1\">\n      <path clip-path=\"url(#pb6686c31a3)\" d=\"M 46.965625 224.64 \nL 381.765625 224.64 \n\" style=\"fill:none;stroke:#cccccc;stroke-linecap:round;stroke-width:0.8;\"/>\n     </g>\n     <g id=\"text_5\">\n      <!-- 0 -->\n      <g style=\"fill:#262626;\" transform=\"translate(33.603125 228.439219)scale(0.1 -0.1)\">\n       <use xlink:href=\"#DejaVuSans-48\"/>\n      </g>\n     </g>\n    </g>\n    <g id=\"ytick_2\">\n     <g id=\"line2d_2\">\n      <path clip-path=\"url(#pb6686c31a3)\" d=\"M 46.965625 194.186218 \nL 381.765625 194.186218 \n\" style=\"fill:none;stroke:#cccccc;stroke-linecap:round;stroke-width:0.8;\"/>\n     </g>\n     <g id=\"text_6\">\n      <!-- 100 -->\n      <g style=\"fill:#262626;\" transform=\"translate(20.878125 197.985437)scale(0.1 -0.1)\">\n       <use xlink:href=\"#DejaVuSans-49\"/>\n       <use x=\"63.623047\" xlink:href=\"#DejaVuSans-48\"/>\n       <use x=\"127.246094\" xlink:href=\"#DejaVuSans-48\"/>\n      </g>\n     </g>\n    </g>\n    <g id=\"ytick_3\">\n     <g id=\"line2d_3\">\n      <path clip-path=\"url(#pb6686c31a3)\" d=\"M 46.965625 163.732437 \nL 381.765625 163.732437 \n\" style=\"fill:none;stroke:#cccccc;stroke-linecap:round;stroke-width:0.8;\"/>\n     </g>\n     <g id=\"text_7\">\n      <!-- 200 -->\n      <g style=\"fill:#262626;\" transform=\"translate(20.878125 167.531656)scale(0.1 -0.1)\">\n       <use xlink:href=\"#DejaVuSans-50\"/>\n       <use x=\"63.623047\" xlink:href=\"#DejaVuSans-48\"/>\n       <use x=\"127.246094\" xlink:href=\"#DejaVuSans-48\"/>\n      </g>\n     </g>\n    </g>\n    <g id=\"ytick_4\">\n     <g id=\"line2d_4\">\n      <path clip-path=\"url(#pb6686c31a3)\" d=\"M 46.965625 133.278655 \nL 381.765625 133.278655 \n\" style=\"fill:none;stroke:#cccccc;stroke-linecap:round;stroke-width:0.8;\"/>\n     </g>\n     <g id=\"text_8\">\n      <!-- 300 -->\n      <g style=\"fill:#262626;\" transform=\"translate(20.878125 137.077874)scale(0.1 -0.1)\">\n       <defs>\n        <path d=\"M 40.578125 39.3125 \nQ 47.65625 37.796875 51.625 33 \nQ 55.609375 28.21875 55.609375 21.1875 \nQ 55.609375 10.40625 48.1875 4.484375 \nQ 40.765625 -1.421875 27.09375 -1.421875 \nQ 22.515625 -1.421875 17.65625 -0.515625 \nQ 12.796875 0.390625 7.625 2.203125 \nL 7.625 11.71875 \nQ 11.71875 9.328125 16.59375 8.109375 \nQ 21.484375 6.890625 26.8125 6.890625 \nQ 36.078125 6.890625 40.9375 10.546875 \nQ 45.796875 14.203125 45.796875 21.1875 \nQ 45.796875 27.640625 41.28125 31.265625 \nQ 36.765625 34.90625 28.71875 34.90625 \nL 20.21875 34.90625 \nL 20.21875 43.015625 \nL 29.109375 43.015625 \nQ 36.375 43.015625 40.234375 45.921875 \nQ 44.09375 48.828125 44.09375 54.296875 \nQ 44.09375 59.90625 40.109375 62.90625 \nQ 36.140625 65.921875 28.71875 65.921875 \nQ 24.65625 65.921875 20.015625 65.03125 \nQ 15.375 64.15625 9.8125 62.3125 \nL 9.8125 71.09375 \nQ 15.4375 72.65625 20.34375 73.4375 \nQ 25.25 74.21875 29.59375 74.21875 \nQ 40.828125 74.21875 47.359375 69.109375 \nQ 53.90625 64.015625 53.90625 55.328125 \nQ 53.90625 49.265625 50.4375 45.09375 \nQ 46.96875 40.921875 40.578125 39.3125 \nz\n\" id=\"DejaVuSans-51\"/>\n       </defs>\n       <use xlink:href=\"#DejaVuSans-51\"/>\n       <use x=\"63.623047\" xlink:href=\"#DejaVuSans-48\"/>\n       <use x=\"127.246094\" xlink:href=\"#DejaVuSans-48\"/>\n      </g>\n     </g>\n    </g>\n    <g id=\"ytick_5\">\n     <g id=\"line2d_5\">\n      <path clip-path=\"url(#pb6686c31a3)\" d=\"M 46.965625 102.824874 \nL 381.765625 102.824874 \n\" style=\"fill:none;stroke:#cccccc;stroke-linecap:round;stroke-width:0.8;\"/>\n     </g>\n     <g id=\"text_9\">\n      <!-- 400 -->\n      <g style=\"fill:#262626;\" transform=\"translate(20.878125 106.624093)scale(0.1 -0.1)\">\n       <defs>\n        <path d=\"M 37.796875 64.3125 \nL 12.890625 25.390625 \nL 37.796875 25.390625 \nz\nM 35.203125 72.90625 \nL 47.609375 72.90625 \nL 47.609375 25.390625 \nL 58.015625 25.390625 \nL 58.015625 17.1875 \nL 47.609375 17.1875 \nL 47.609375 0 \nL 37.796875 0 \nL 37.796875 17.1875 \nL 4.890625 17.1875 \nL 4.890625 26.703125 \nz\n\" id=\"DejaVuSans-52\"/>\n       </defs>\n       <use xlink:href=\"#DejaVuSans-52\"/>\n       <use x=\"63.623047\" xlink:href=\"#DejaVuSans-48\"/>\n       <use x=\"127.246094\" xlink:href=\"#DejaVuSans-48\"/>\n      </g>\n     </g>\n    </g>\n    <g id=\"ytick_6\">\n     <g id=\"line2d_6\">\n      <path clip-path=\"url(#pb6686c31a3)\" d=\"M 46.965625 72.371092 \nL 381.765625 72.371092 \n\" style=\"fill:none;stroke:#cccccc;stroke-linecap:round;stroke-width:0.8;\"/>\n     </g>\n     <g id=\"text_10\">\n      <!-- 500 -->\n      <g style=\"fill:#262626;\" transform=\"translate(20.878125 76.170311)scale(0.1 -0.1)\">\n       <defs>\n        <path d=\"M 10.796875 72.90625 \nL 49.515625 72.90625 \nL 49.515625 64.59375 \nL 19.828125 64.59375 \nL 19.828125 46.734375 \nQ 21.96875 47.46875 24.109375 47.828125 \nQ 26.265625 48.1875 28.421875 48.1875 \nQ 40.625 48.1875 47.75 41.5 \nQ 54.890625 34.8125 54.890625 23.390625 \nQ 54.890625 11.625 47.5625 5.09375 \nQ 40.234375 -1.421875 26.90625 -1.421875 \nQ 22.3125 -1.421875 17.546875 -0.640625 \nQ 12.796875 0.140625 7.71875 1.703125 \nL 7.71875 11.625 \nQ 12.109375 9.234375 16.796875 8.0625 \nQ 21.484375 6.890625 26.703125 6.890625 \nQ 35.15625 6.890625 40.078125 11.328125 \nQ 45.015625 15.765625 45.015625 23.390625 \nQ 45.015625 31 40.078125 35.4375 \nQ 35.15625 39.890625 26.703125 39.890625 \nQ 22.75 39.890625 18.8125 39.015625 \nQ 14.890625 38.140625 10.796875 36.28125 \nz\n\" id=\"DejaVuSans-53\"/>\n       </defs>\n       <use xlink:href=\"#DejaVuSans-53\"/>\n       <use x=\"63.623047\" xlink:href=\"#DejaVuSans-48\"/>\n       <use x=\"127.246094\" xlink:href=\"#DejaVuSans-48\"/>\n      </g>\n     </g>\n    </g>\n    <g id=\"ytick_7\">\n     <g id=\"line2d_7\">\n      <path clip-path=\"url(#pb6686c31a3)\" d=\"M 46.965625 41.917311 \nL 381.765625 41.917311 \n\" style=\"fill:none;stroke:#cccccc;stroke-linecap:round;stroke-width:0.8;\"/>\n     </g>\n     <g id=\"text_11\">\n      <!-- 600 -->\n      <g style=\"fill:#262626;\" transform=\"translate(20.878125 45.71653)scale(0.1 -0.1)\">\n       <defs>\n        <path d=\"M 33.015625 40.375 \nQ 26.375 40.375 22.484375 35.828125 \nQ 18.609375 31.296875 18.609375 23.390625 \nQ 18.609375 15.53125 22.484375 10.953125 \nQ 26.375 6.390625 33.015625 6.390625 \nQ 39.65625 6.390625 43.53125 10.953125 \nQ 47.40625 15.53125 47.40625 23.390625 \nQ 47.40625 31.296875 43.53125 35.828125 \nQ 39.65625 40.375 33.015625 40.375 \nz\nM 52.59375 71.296875 \nL 52.59375 62.3125 \nQ 48.875 64.0625 45.09375 64.984375 \nQ 41.3125 65.921875 37.59375 65.921875 \nQ 27.828125 65.921875 22.671875 59.328125 \nQ 17.53125 52.734375 16.796875 39.40625 \nQ 19.671875 43.65625 24.015625 45.921875 \nQ 28.375 48.1875 33.59375 48.1875 \nQ 44.578125 48.1875 50.953125 41.515625 \nQ 57.328125 34.859375 57.328125 23.390625 \nQ 57.328125 12.15625 50.6875 5.359375 \nQ 44.046875 -1.421875 33.015625 -1.421875 \nQ 20.359375 -1.421875 13.671875 8.265625 \nQ 6.984375 17.96875 6.984375 36.375 \nQ 6.984375 53.65625 15.1875 63.9375 \nQ 23.390625 74.21875 37.203125 74.21875 \nQ 40.921875 74.21875 44.703125 73.484375 \nQ 48.484375 72.75 52.59375 71.296875 \nz\n\" id=\"DejaVuSans-54\"/>\n       </defs>\n       <use xlink:href=\"#DejaVuSans-54\"/>\n       <use x=\"63.623047\" xlink:href=\"#DejaVuSans-48\"/>\n       <use x=\"127.246094\" xlink:href=\"#DejaVuSans-48\"/>\n      </g>\n     </g>\n    </g>\n    <g id=\"ytick_8\">\n     <g id=\"line2d_8\">\n      <path clip-path=\"url(#pb6686c31a3)\" d=\"M 46.965625 11.463529 \nL 381.765625 11.463529 \n\" style=\"fill:none;stroke:#cccccc;stroke-linecap:round;stroke-width:0.8;\"/>\n     </g>\n     <g id=\"text_12\">\n      <!-- 700 -->\n      <g style=\"fill:#262626;\" transform=\"translate(20.878125 15.262748)scale(0.1 -0.1)\">\n       <defs>\n        <path d=\"M 8.203125 72.90625 \nL 55.078125 72.90625 \nL 55.078125 68.703125 \nL 28.609375 0 \nL 18.3125 0 \nL 43.21875 64.59375 \nL 8.203125 64.59375 \nz\n\" id=\"DejaVuSans-55\"/>\n       </defs>\n       <use xlink:href=\"#DejaVuSans-55\"/>\n       <use x=\"63.623047\" xlink:href=\"#DejaVuSans-48\"/>\n       <use x=\"127.246094\" xlink:href=\"#DejaVuSans-48\"/>\n      </g>\n     </g>\n    </g>\n    <g id=\"text_13\">\n     <!-- count -->\n     <g style=\"fill:#262626;\" transform=\"translate(14.798438 130.02625)rotate(-90)scale(0.1 -0.1)\">\n      <defs>\n       <path d=\"M 48.78125 52.59375 \nL 48.78125 44.1875 \nQ 44.96875 46.296875 41.140625 47.34375 \nQ 37.3125 48.390625 33.40625 48.390625 \nQ 24.65625 48.390625 19.8125 42.84375 \nQ 14.984375 37.3125 14.984375 27.296875 \nQ 14.984375 17.28125 19.8125 11.734375 \nQ 24.65625 6.203125 33.40625 6.203125 \nQ 37.3125 6.203125 41.140625 7.25 \nQ 44.96875 8.296875 48.78125 10.40625 \nL 48.78125 2.09375 \nQ 45.015625 0.34375 40.984375 -0.53125 \nQ 36.96875 -1.421875 32.421875 -1.421875 \nQ 20.0625 -1.421875 12.78125 6.34375 \nQ 5.515625 14.109375 5.515625 27.296875 \nQ 5.515625 40.671875 12.859375 48.328125 \nQ 20.21875 56 33.015625 56 \nQ 37.15625 56 41.109375 55.140625 \nQ 45.0625 54.296875 48.78125 52.59375 \nz\n\" id=\"DejaVuSans-99\"/>\n       <path d=\"M 30.609375 48.390625 \nQ 23.390625 48.390625 19.1875 42.75 \nQ 14.984375 37.109375 14.984375 27.296875 \nQ 14.984375 17.484375 19.15625 11.84375 \nQ 23.34375 6.203125 30.609375 6.203125 \nQ 37.796875 6.203125 41.984375 11.859375 \nQ 46.1875 17.53125 46.1875 27.296875 \nQ 46.1875 37.015625 41.984375 42.703125 \nQ 37.796875 48.390625 30.609375 48.390625 \nz\nM 30.609375 56 \nQ 42.328125 56 49.015625 48.375 \nQ 55.71875 40.765625 55.71875 27.296875 \nQ 55.71875 13.875 49.015625 6.21875 \nQ 42.328125 -1.421875 30.609375 -1.421875 \nQ 18.84375 -1.421875 12.171875 6.21875 \nQ 5.515625 13.875 5.515625 27.296875 \nQ 5.515625 40.765625 12.171875 48.375 \nQ 18.84375 56 30.609375 56 \nz\n\" id=\"DejaVuSans-111\"/>\n      </defs>\n      <use xlink:href=\"#DejaVuSans-99\"/>\n      <use x=\"54.980469\" xlink:href=\"#DejaVuSans-111\"/>\n      <use x=\"116.162109\" xlink:href=\"#DejaVuSans-117\"/>\n      <use x=\"179.541016\" xlink:href=\"#DejaVuSans-110\"/>\n      <use x=\"242.919922\" xlink:href=\"#DejaVuSans-116\"/>\n     </g>\n    </g>\n   </g>\n   <g id=\"patch_3\">\n    <path clip-path=\"url(#pb6686c31a3)\" d=\"M 58.125625 224.64 \nL 147.405625 224.64 \nL 147.405625 17.554286 \nL 58.125625 17.554286 \nz\n\" style=\"fill:#3274a1;stroke:#ffffff;stroke-linejoin:miter;\"/>\n   </g>\n   <g id=\"patch_4\">\n    <path clip-path=\"url(#pb6686c31a3)\" d=\"M 169.725625 224.64 \nL 259.005625 224.64 \nL 259.005625 50.748908 \nL 169.725625 50.748908 \nz\n\" style=\"fill:#e1812c;stroke:#ffffff;stroke-linejoin:miter;\"/>\n   </g>\n   <g id=\"patch_5\">\n    <path clip-path=\"url(#pb6686c31a3)\" d=\"M 281.325625 224.64 \nL 370.605625 224.64 \nL 370.605625 36.43563 \nL 281.325625 36.43563 \nz\n\" style=\"fill:#3a923a;stroke:#ffffff;stroke-linejoin:miter;\"/>\n   </g>\n   <g id=\"patch_6\">\n    <path d=\"M 46.965625 224.64 \nL 46.965625 7.2 \n\" style=\"fill:none;stroke:#cccccc;stroke-linecap:square;stroke-linejoin:miter;stroke-width:0.8;\"/>\n   </g>\n   <g id=\"patch_7\">\n    <path d=\"M 381.765625 224.64 \nL 381.765625 7.2 \n\" style=\"fill:none;stroke:#cccccc;stroke-linecap:square;stroke-linejoin:miter;stroke-width:0.8;\"/>\n   </g>\n   <g id=\"patch_8\">\n    <path d=\"M 46.965625 224.64 \nL 381.765625 224.64 \n\" style=\"fill:none;stroke:#cccccc;stroke-linecap:square;stroke-linejoin:miter;stroke-width:0.8;\"/>\n   </g>\n   <g id=\"patch_9\">\n    <path d=\"M 46.965625 7.2 \nL 381.765625 7.2 \n\" style=\"fill:none;stroke:#cccccc;stroke-linecap:square;stroke-linejoin:miter;stroke-width:0.8;\"/>\n   </g>\n  </g>\n </g>\n <defs>\n  <clipPath id=\"pb6686c31a3\">\n   <rect height=\"217.44\" width=\"334.8\" x=\"46.965625\" y=\"7.2\"/>\n  </clipPath>\n </defs>\n</svg>\n",
            "image/png": "[encoded data removed]"
          },
          "metadata": {}
        }
      ],
      "metadata": {
        "id": "Rh-sJMpuVPuR"
      }
    },
    {
      "cell_type": "markdown",
      "source": [
        "## Rewrite ML Pipeline for Modelling"
      ],
      "metadata": {
        "id": "lkPaGZfiXexn"
      }
    },
    {
      "cell_type": "code",
      "execution_count": 44,
      "source": [
        "def PipelineOptimization(model):\n",
        "  pipe = PipelineDataCleaningAndFeatureEngineering()\n",
        "  pipe.steps.append([\"scaler\", StandardScaler()])\n",
        "  pipe.steps.append([\"feat_selection\", SelectFromModel(model)])\n",
        "  pipe.steps.append([\"model\", model])\n",
        "  return pipe"
      ],
      "outputs": [],
      "metadata": {
        "id": "I53mlfqRUSzn"
      }
    },
    {
      "cell_type": "markdown",
      "source": [
        "## Load estimators for classification"
      ],
      "metadata": {
        "id": "fW2lu54NCgOC"
      }
    },
    {
      "cell_type": "code",
      "execution_count": 45,
      "source": [
        "from sklearn.tree import DecisionTreeClassifier \n",
        "from sklearn.ensemble import RandomForestClassifier\n",
        "from sklearn.ensemble import GradientBoostingClassifier \n",
        "from sklearn.ensemble import ExtraTreesClassifier\n",
        "from sklearn.ensemble import AdaBoostClassifier\n",
        "from xgboost import XGBClassifier"
      ],
      "outputs": [],
      "metadata": {
        "id": "MvkMORvOft14"
      }
    },
    {
      "cell_type": "markdown",
      "source": [
        "## Split Train Test Sets"
      ],
      "metadata": {
        "id": "mVnTzZZBC73_"
      }
    },
    {
      "cell_type": "code",
      "execution_count": 46,
      "source": [
        "from sklearn.model_selection import train_test_split\n",
        "\n",
        "X_train, X_test,y_train, y_test = train_test_split(\n",
        "                                    df_clf.drop(['tenure'],axis=1),\n",
        "                                    df_clf['tenure'],\n",
        "                                    test_size=0.2,\n",
        "                                    random_state=0\n",
        "                                    )\n",
        "\n",
        "print(\"* Train set:\", X_train.shape, y_train.shape, \"\\n* Test set:\",  X_test.shape, y_test.shape)"
      ],
      "outputs": [
        {
          "output_type": "stream",
          "name": "stdout",
          "text": [
            "* Train set: (1495, 17) (1495,) \n",
            "* Test set: (374, 17) (374,)\n"
          ]
        }
      ],
      "metadata": {
        "id": "ev5Rb80fC-dP"
      }
    },
    {
      "cell_type": "markdown",
      "source": [
        "Check if target is balanced"
      ],
      "metadata": {
        "id": "flZCqIL4DB80"
      }
    },
    {
      "cell_type": "code",
      "execution_count": 47,
      "source": [
        "y_train.value_counts(normalize=True).to_frame().round(2)"
      ],
      "outputs": [
        {
          "output_type": "execute_result",
          "data": {
            "text/plain": [
              "   tenure\n",
              "0    0.36\n",
              "2    0.33\n",
              "1    0.31"
            ],
            "text/html": [
              "<div>\n",
              "<style scoped>\n",
              "    .dataframe tbody tr th:only-of-type {\n",
              "        vertical-align: middle;\n",
              "    }\n",
              "\n",
              "    .dataframe tbody tr th {\n",
              "        vertical-align: top;\n",
              "    }\n",
              "\n",
              "    .dataframe thead th {\n",
              "        text-align: right;\n",
              "    }\n",
              "</style>\n",
              "<table border=\"1\" class=\"dataframe\">\n",
              "  <thead>\n",
              "    <tr style=\"text-align: right;\">\n",
              "      <th></th>\n",
              "      <th>tenure</th>\n",
              "    </tr>\n",
              "  </thead>\n",
              "  <tbody>\n",
              "    <tr>\n",
              "      <th>0</th>\n",
              "      <td>0.36</td>\n",
              "    </tr>\n",
              "    <tr>\n",
              "      <th>2</th>\n",
              "      <td>0.33</td>\n",
              "    </tr>\n",
              "    <tr>\n",
              "      <th>1</th>\n",
              "      <td>0.31</td>\n",
              "    </tr>\n",
              "  </tbody>\n",
              "</table>\n",
              "</div>"
            ]
          },
          "metadata": {},
          "execution_count": 47
        }
      ],
      "metadata": {
        "id": "pFLYKem1DCmJ"
      }
    },
    {
      "cell_type": "markdown",
      "source": [
        "## Grid Seach CV – Sklearn"
      ],
      "metadata": {
        "id": "aTEEhpvRDF0a"
      }
    },
    {
      "cell_type": "markdown",
      "source": [
        "### Use standard hyper parameters to find most suitable model"
      ],
      "metadata": {
        "id": "PPNNBP-QDIkv"
      }
    },
    {
      "cell_type": "code",
      "execution_count": 48,
      "source": [
        "models_quick_search = {\n",
        "    # \"XGBClassifier\": XGBClassifier(random_state=0),\n",
        "    \"DecisionTreeClassifier\": DecisionTreeClassifier(random_state=0),\n",
        "    \"RandomForestClassifier\": RandomForestClassifier(random_state=0),\n",
        "    \"GradientBoostingClassifier\": GradientBoostingClassifier(random_state=0),\n",
        "    \"ExtraTreesClassifier\": ExtraTreesClassifier(random_state=0),\n",
        "    \"AdaBoostClassifier\": AdaBoostClassifier(random_state=0),\n",
        "}\n",
        "\n",
        "params_quick_search = {\n",
        "    \"XGBClassifier\":{},\n",
        "    \"DecisionTreeClassifier\":{},\n",
        "    \"RandomForestClassifier\":{},\n",
        "    \"GradientBoostingClassifier\":{},\n",
        "    \"ExtraTreesClassifier\":{},\n",
        "    \"AdaBoostClassifier\":{},\n",
        "}"
      ],
      "outputs": [],
      "metadata": {
        "id": "IfW5jSmSe7Gl"
      }
    },
    {
      "cell_type": "markdown",
      "source": [
        "GridSearch CV"
      ],
      "metadata": {
        "id": "YDYHs3I1D89F"
      }
    },
    {
      "cell_type": "code",
      "execution_count": 49,
      "source": [
        "from sklearn.metrics import make_scorer, f1_score\n",
        "quick_search = HyperparameterOptimizationSearch(models=models_quick_search, params=params_quick_search)\n",
        "quick_search.fit(X_train, y_train,\n",
        "                 scoring = make_scorer(f1_score, labels=[0], average=None),\n",
        "                 n_jobs=-1,\n",
        "                 cv=5)"
      ],
      "outputs": [
        {
          "output_type": "stream",
          "name": "stdout",
          "text": [
            "\n",
            "Running GridSearchCV for DecisionTreeClassifier \n",
            "\n",
            "Fitting 5 folds for each of 1 candidates, totalling 5 fits\n",
            "\n",
            "Running GridSearchCV for RandomForestClassifier \n",
            "\n",
            "Fitting 5 folds for each of 1 candidates, totalling 5 fits\n",
            "\n",
            "Running GridSearchCV for GradientBoostingClassifier \n",
            "\n",
            "Fitting 5 folds for each of 1 candidates, totalling 5 fits\n",
            "\n",
            "Running GridSearchCV for ExtraTreesClassifier \n",
            "\n",
            "Fitting 5 folds for each of 1 candidates, totalling 5 fits\n",
            "\n",
            "Running GridSearchCV for AdaBoostClassifier \n",
            "\n",
            "Fitting 5 folds for each of 1 candidates, totalling 5 fits\n"
          ]
        }
      ],
      "metadata": {
        "id": "dh-nd-JCfX7M"
      }
    },
    {
      "cell_type": "markdown",
      "source": [
        "Check results"
      ],
      "metadata": {
        "id": "uqQfPBxfEQgf"
      }
    },
    {
      "cell_type": "code",
      "execution_count": 50,
      "source": [
        "grid_search_summary, grid_search_pipelines = quick_search.score_summary(sort_by='mean_score')\n",
        "grid_search_summary"
      ],
      "outputs": [
        {
          "output_type": "execute_result",
          "data": {
            "text/plain": [
              "                    estimator min_score mean_score max_score  std_score\n",
              "4          AdaBoostClassifier  0.633333    0.65817  0.702929  0.0255069\n",
              "2  GradientBoostingClassifier  0.630631   0.652244  0.691983  0.0223306\n",
              "0      DecisionTreeClassifier  0.528634   0.570731  0.627615  0.0326084\n",
              "3        ExtraTreesClassifier  0.511628   0.553961  0.589744  0.0267486\n",
              "1      RandomForestClassifier  0.514286   0.551839   0.60262  0.0303015"
            ],
            "text/html": [
              "<div>\n",
              "<style scoped>\n",
              "    .dataframe tbody tr th:only-of-type {\n",
              "        vertical-align: middle;\n",
              "    }\n",
              "\n",
              "    .dataframe tbody tr th {\n",
              "        vertical-align: top;\n",
              "    }\n",
              "\n",
              "    .dataframe thead th {\n",
              "        text-align: right;\n",
              "    }\n",
              "</style>\n",
              "<table border=\"1\" class=\"dataframe\">\n",
              "  <thead>\n",
              "    <tr style=\"text-align: right;\">\n",
              "      <th></th>\n",
              "      <th>estimator</th>\n",
              "      <th>min_score</th>\n",
              "      <th>mean_score</th>\n",
              "      <th>max_score</th>\n",
              "      <th>std_score</th>\n",
              "    </tr>\n",
              "  </thead>\n",
              "  <tbody>\n",
              "    <tr>\n",
              "      <th>4</th>\n",
              "      <td>AdaBoostClassifier</td>\n",
              "      <td>0.633333</td>\n",
              "      <td>0.65817</td>\n",
              "      <td>0.702929</td>\n",
              "      <td>0.0255069</td>\n",
              "    </tr>\n",
              "    <tr>\n",
              "      <th>2</th>\n",
              "      <td>GradientBoostingClassifier</td>\n",
              "      <td>0.630631</td>\n",
              "      <td>0.652244</td>\n",
              "      <td>0.691983</td>\n",
              "      <td>0.0223306</td>\n",
              "    </tr>\n",
              "    <tr>\n",
              "      <th>0</th>\n",
              "      <td>DecisionTreeClassifier</td>\n",
              "      <td>0.528634</td>\n",
              "      <td>0.570731</td>\n",
              "      <td>0.627615</td>\n",
              "      <td>0.0326084</td>\n",
              "    </tr>\n",
              "    <tr>\n",
              "      <th>3</th>\n",
              "      <td>ExtraTreesClassifier</td>\n",
              "      <td>0.511628</td>\n",
              "      <td>0.553961</td>\n",
              "      <td>0.589744</td>\n",
              "      <td>0.0267486</td>\n",
              "    </tr>\n",
              "    <tr>\n",
              "      <th>1</th>\n",
              "      <td>RandomForestClassifier</td>\n",
              "      <td>0.514286</td>\n",
              "      <td>0.551839</td>\n",
              "      <td>0.60262</td>\n",
              "      <td>0.0303015</td>\n",
              "    </tr>\n",
              "  </tbody>\n",
              "</table>\n",
              "</div>"
            ]
          },
          "metadata": {},
          "execution_count": 50
        }
      ],
      "metadata": {
        "id": "yXUbzctLfXd2"
      }
    },
    {
      "cell_type": "markdown",
      "source": [
        "Check best model"
      ],
      "metadata": {
        "id": "j8Vs9pB8EVyc"
      }
    },
    {
      "cell_type": "code",
      "execution_count": 51,
      "source": [
        "best_model = grid_search_summary.iloc[0,0]\n",
        "best_model"
      ],
      "outputs": [
        {
          "output_type": "execute_result",
          "data": {
            "text/plain": [
              "'AdaBoostClassifier'"
            ]
          },
          "metadata": {},
          "execution_count": 51
        }
      ],
      "metadata": {
        "id": "r6R2wXm0XbjG"
      }
    },
    {
      "cell_type": "markdown",
      "source": [
        "### Do extensive search on most suitable model to find best hyperparameter configuration"
      ],
      "metadata": {
        "id": "uQWhAJtcDoSI"
      }
    },
    {
      "cell_type": "markdown",
      "source": [
        "Define models and parameters"
      ],
      "metadata": {
        "id": "yyeaZbCFDxf4"
      }
    },
    {
      "cell_type": "code",
      "execution_count": 52,
      "source": [
        "models_search = {\n",
        "    \"AdaBoostClassifier\":AdaBoostClassifier(random_state=0),\n",
        "}\n",
        "\n",
        "# documentation to help on hyperparameter list: \n",
        "# https://scikit-learn.org/stable/modules/generated/sklearn.ensemble.AdaBoostClassifier.html\n",
        "params_search = {\n",
        "    \"AdaBoostClassifier\":{\n",
        "        'model__n_estimators': [50,100,300],\n",
        "        'model__learning_rate': [1e-1,1e-2,1e-3], \n",
        "    }\n",
        "}"
      ],
      "outputs": [],
      "metadata": {
        "id": "FxEXnjBWDzOr"
      }
    },
    {
      "cell_type": "markdown",
      "source": [
        "Extensive GridSearch CV"
      ],
      "metadata": {
        "id": "ZcqabQPpD_vX"
      }
    },
    {
      "cell_type": "code",
      "execution_count": 53,
      "source": [
        "from sklearn.metrics import make_scorer,  f1_score\n",
        "search = HyperparameterOptimizationSearch(models=models_search, params=params_search)\n",
        "search.fit(X_train, y_train,\n",
        "           scoring = make_scorer(f1_score, labels=[0], average=None),\n",
        "           n_jobs=-1, cv=5)"
      ],
      "outputs": [
        {
          "output_type": "stream",
          "name": "stdout",
          "text": [
            "\n",
            "Running GridSearchCV for AdaBoostClassifier \n",
            "\n",
            "Fitting 5 folds for each of 9 candidates, totalling 45 fits\n"
          ]
        }
      ],
      "metadata": {
        "id": "CC2xgdgkECox"
      }
    },
    {
      "cell_type": "markdown",
      "source": [
        "Check results"
      ],
      "metadata": {
        "id": "RDne0BgoEaDz"
      }
    },
    {
      "cell_type": "code",
      "execution_count": 54,
      "source": [
        "grid_search_summary, grid_search_pipelines = search.score_summary(sort_by='mean_score')\n",
        "grid_search_summary"
      ],
      "outputs": [
        {
          "output_type": "execute_result",
          "data": {
            "text/plain": [
              "            estimator min_score mean_score max_score  std_score  \\\n",
              "0  AdaBoostClassifier  0.645914   0.660355  0.685259  0.0141237   \n",
              "5  AdaBoostClassifier     0.648    0.65899  0.685259  0.0139766   \n",
              "1  AdaBoostClassifier  0.639344    0.65809     0.688  0.0170438   \n",
              "2  AdaBoostClassifier  0.639344   0.653516  0.688525  0.0182376   \n",
              "4  AdaBoostClassifier  0.637795   0.653186  0.685259  0.0167588   \n",
              "3  AdaBoostClassifier  0.625899   0.645665  0.685259  0.0205223   \n",
              "8  AdaBoostClassifier   0.59306   0.626239  0.695652  0.0369149   \n",
              "7  AdaBoostClassifier  0.583333   0.613487  0.645963  0.0227189   \n",
              "6  AdaBoostClassifier  0.583333   0.612383  0.645963   0.023794   \n",
              "\n",
              "  model__learning_rate model__n_estimators  \n",
              "0                  0.1                  50  \n",
              "5                 0.01                 300  \n",
              "1                  0.1                 100  \n",
              "2                  0.1                 300  \n",
              "4                 0.01                 100  \n",
              "3                 0.01                  50  \n",
              "8                0.001                 300  \n",
              "7                0.001                 100  \n",
              "6                0.001                  50  "
            ],
            "text/html": [
              "<div>\n",
              "<style scoped>\n",
              "    .dataframe tbody tr th:only-of-type {\n",
              "        vertical-align: middle;\n",
              "    }\n",
              "\n",
              "    .dataframe tbody tr th {\n",
              "        vertical-align: top;\n",
              "    }\n",
              "\n",
              "    .dataframe thead th {\n",
              "        text-align: right;\n",
              "    }\n",
              "</style>\n",
              "<table border=\"1\" class=\"dataframe\">\n",
              "  <thead>\n",
              "    <tr style=\"text-align: right;\">\n",
              "      <th></th>\n",
              "      <th>estimator</th>\n",
              "      <th>min_score</th>\n",
              "      <th>mean_score</th>\n",
              "      <th>max_score</th>\n",
              "      <th>std_score</th>\n",
              "      <th>model__learning_rate</th>\n",
              "      <th>model__n_estimators</th>\n",
              "    </tr>\n",
              "  </thead>\n",
              "  <tbody>\n",
              "    <tr>\n",
              "      <th>0</th>\n",
              "      <td>AdaBoostClassifier</td>\n",
              "      <td>0.645914</td>\n",
              "      <td>0.660355</td>\n",
              "      <td>0.685259</td>\n",
              "      <td>0.0141237</td>\n",
              "      <td>0.1</td>\n",
              "      <td>50</td>\n",
              "    </tr>\n",
              "    <tr>\n",
              "      <th>5</th>\n",
              "      <td>AdaBoostClassifier</td>\n",
              "      <td>0.648</td>\n",
              "      <td>0.65899</td>\n",
              "      <td>0.685259</td>\n",
              "      <td>0.0139766</td>\n",
              "      <td>0.01</td>\n",
              "      <td>300</td>\n",
              "    </tr>\n",
              "    <tr>\n",
              "      <th>1</th>\n",
              "      <td>AdaBoostClassifier</td>\n",
              "      <td>0.639344</td>\n",
              "      <td>0.65809</td>\n",
              "      <td>0.688</td>\n",
              "      <td>0.0170438</td>\n",
              "      <td>0.1</td>\n",
              "      <td>100</td>\n",
              "    </tr>\n",
              "    <tr>\n",
              "      <th>2</th>\n",
              "      <td>AdaBoostClassifier</td>\n",
              "      <td>0.639344</td>\n",
              "      <td>0.653516</td>\n",
              "      <td>0.688525</td>\n",
              "      <td>0.0182376</td>\n",
              "      <td>0.1</td>\n",
              "      <td>300</td>\n",
              "    </tr>\n",
              "    <tr>\n",
              "      <th>4</th>\n",
              "      <td>AdaBoostClassifier</td>\n",
              "      <td>0.637795</td>\n",
              "      <td>0.653186</td>\n",
              "      <td>0.685259</td>\n",
              "      <td>0.0167588</td>\n",
              "      <td>0.01</td>\n",
              "      <td>100</td>\n",
              "    </tr>\n",
              "    <tr>\n",
              "      <th>3</th>\n",
              "      <td>AdaBoostClassifier</td>\n",
              "      <td>0.625899</td>\n",
              "      <td>0.645665</td>\n",
              "      <td>0.685259</td>\n",
              "      <td>0.0205223</td>\n",
              "      <td>0.01</td>\n",
              "      <td>50</td>\n",
              "    </tr>\n",
              "    <tr>\n",
              "      <th>8</th>\n",
              "      <td>AdaBoostClassifier</td>\n",
              "      <td>0.59306</td>\n",
              "      <td>0.626239</td>\n",
              "      <td>0.695652</td>\n",
              "      <td>0.0369149</td>\n",
              "      <td>0.001</td>\n",
              "      <td>300</td>\n",
              "    </tr>\n",
              "    <tr>\n",
              "      <th>7</th>\n",
              "      <td>AdaBoostClassifier</td>\n",
              "      <td>0.583333</td>\n",
              "      <td>0.613487</td>\n",
              "      <td>0.645963</td>\n",
              "      <td>0.0227189</td>\n",
              "      <td>0.001</td>\n",
              "      <td>100</td>\n",
              "    </tr>\n",
              "    <tr>\n",
              "      <th>6</th>\n",
              "      <td>AdaBoostClassifier</td>\n",
              "      <td>0.583333</td>\n",
              "      <td>0.612383</td>\n",
              "      <td>0.645963</td>\n",
              "      <td>0.023794</td>\n",
              "      <td>0.001</td>\n",
              "      <td>50</td>\n",
              "    </tr>\n",
              "  </tbody>\n",
              "</table>\n",
              "</div>"
            ]
          },
          "metadata": {},
          "execution_count": 54
        }
      ],
      "metadata": {
        "id": "KsNiNwdGECra"
      }
    },
    {
      "cell_type": "markdown",
      "source": [
        "\n",
        "Check the best model"
      ],
      "metadata": {
        "id": "-bZ2Qu5JEhrp"
      }
    },
    {
      "cell_type": "code",
      "execution_count": 55,
      "source": [
        "best_model = grid_search_summary.iloc[0,0]\n",
        "best_model"
      ],
      "outputs": [
        {
          "output_type": "execute_result",
          "data": {
            "text/plain": [
              "'AdaBoostClassifier'"
            ]
          },
          "metadata": {},
          "execution_count": 55
        }
      ],
      "metadata": {
        "id": "aAbJosK8ECt-"
      }
    },
    {
      "cell_type": "markdown",
      "source": [
        "Parameters for best model\n",
        "* We are saving this content for later"
      ],
      "metadata": {
        "id": "qUyqeVjkEjn7"
      }
    },
    {
      "cell_type": "code",
      "execution_count": 56,
      "source": [
        "best_parameters = grid_search_pipelines[best_model].best_params_\n",
        "best_parameters"
      ],
      "outputs": [
        {
          "output_type": "execute_result",
          "data": {
            "text/plain": [
              "{'model__learning_rate': 0.1, 'model__n_estimators': 50}"
            ]
          },
          "metadata": {},
          "execution_count": 56
        }
      ],
      "metadata": {
        "id": "BXPyDbbxYbv6"
      }
    },
    {
      "cell_type": "markdown",
      "source": [
        "Define the best clf pipeline"
      ],
      "metadata": {
        "id": "_YUeAvIsEo5v"
      }
    },
    {
      "cell_type": "code",
      "execution_count": 57,
      "source": [
        "pipeline_clf = grid_search_pipelines[best_model].best_estimator_\n",
        "pipeline_clf"
      ],
      "outputs": [
        {
          "output_type": "execute_result",
          "data": {
            "text/plain": [
              "Pipeline(steps=[('OrdinalCategoricalEncoder',\n",
              "                 OrdinalEncoder(encoding_method='arbitrary',\n",
              "                                variables=['gender', 'Partner', 'Dependents',\n",
              "                                           'PhoneService', 'MultipleLines',\n",
              "                                           'InternetService', 'OnlineSecurity',\n",
              "                                           'OnlineBackup', 'DeviceProtection',\n",
              "                                           'TechSupport', 'StreamingTV',\n",
              "                                           'StreamingMovies', 'Contract',\n",
              "                                           'PaperlessBilling',\n",
              "                                           'PaymentMethod'])),\n",
              "                ('SmartCorrelatedSelecti...\n",
              "                                                     'InternetService',\n",
              "                                                     'OnlineSecurity',\n",
              "                                                     'OnlineBackup',\n",
              "                                                     'DeviceProtection',\n",
              "                                                     'TechSupport',\n",
              "                                                     'StreamingTV',\n",
              "                                                     'StreamingMovies',\n",
              "                                                     'Contract',\n",
              "                                                     'PaperlessBilling',\n",
              "                                                     'PaymentMethod',\n",
              "                                                     'MonthlyCharges'])),\n",
              "                ('scaler', StandardScaler()),\n",
              "                ('feat_selection',\n",
              "                 SelectFromModel(estimator=AdaBoostClassifier(random_state=0))),\n",
              "                ['model',\n",
              "                 AdaBoostClassifier(learning_rate=0.1, random_state=0)]])"
            ]
          },
          "metadata": {},
          "execution_count": 57
        }
      ],
      "metadata": {
        "id": "LTrUEOcBYby4"
      }
    },
    {
      "cell_type": "markdown",
      "source": [
        "## Assess feature importance"
      ],
      "metadata": {
        "id": "aGc1W7wEM2GP"
      }
    },
    {
      "cell_type": "markdown",
      "source": [
        "We can assess feature importane for this model with `.feature_importances_`"
      ],
      "metadata": {
        "id": "fHN_VRwZarUp"
      }
    },
    {
      "cell_type": "code",
      "execution_count": 58,
      "source": [
        "# after data cleaning and feat engine, the feature space changes\n",
        "columns_after_data_cleaning_feat_eng = (PipelineDataCleaningAndFeatureEngineering()\n",
        "                                        .fit_transform(X_train)\n",
        "                                        .columns)\n",
        "\n",
        "# best_features = columns_after_data_cleaning_feat_eng\n",
        "best_features = columns_after_data_cleaning_feat_eng[pipeline_clf['feat_selection'].get_support()].to_list()\n",
        "\n",
        "# create DataFrame to display feature importance\n",
        "df_feature_importance = (pd.DataFrame(data={\n",
        "          'Attribute': columns_after_data_cleaning_feat_eng[pipeline_clf['feat_selection'].get_support()],\n",
        "          'Importance': pipeline_clf['model'].feature_importances_})\n",
        "  .sort_values(by='Importance', ascending=False)\n",
        "  )\n",
        "\n",
        "best_features = df_feature_importance['Attribute'].to_list() # reassign best features in order\n",
        "\n",
        "# Most important features statement and plot\n",
        "print(f\"* These are the {len(best_features)} most important features in descending order. \"\n",
        "      f\"The model was trained on them: \\n{best_features}\")\n",
        "\n",
        "df_feature_importance.plot(kind='bar',x='Attribute',y='Importance')\n",
        "plt.show()"
      ],
      "outputs": [
        {
          "output_type": "stream",
          "name": "stdout",
          "text": [
            "* These are the 3 most important features in descending order. The model was trained on them: \n",
            "['MonthlyCharges', 'Contract', 'PaymentMethod']\n"
          ]
        },
        {
          "output_type": "display_data",
          "data": {
            "text/plain": [
              "<Figure size 432x288 with 1 Axes>"
            ],
            "image/svg+xml": "<?xml version=\"1.0\" encoding=\"utf-8\" standalone=\"no\"?>\n<!DOCTYPE svg PUBLIC \"-//W3C//DTD SVG 1.1//EN\"\n  \"http://www.w3.org/Graphics/SVG/1.1/DTD/svg11.dtd\">\n<!-- Created with matplotlib (https://matplotlib.org/) -->\n<svg height=\"333.8025pt\" version=\"1.1\" viewBox=\"0 0 372.103125 333.8025\" width=\"372.103125pt\" xmlns=\"http://www.w3.org/2000/svg\" xmlns:xlink=\"http://www.w3.org/1999/xlink\">\n <metadata>\n  <rdf:RDF xmlns:cc=\"http://creativecommons.org/ns#\" xmlns:dc=\"http://purl.org/dc/elements/1.1/\" xmlns:rdf=\"http://www.w3.org/1999/02/22-rdf-syntax-ns#\">\n   <cc:Work>\n    <dc:type rdf:resource=\"http://purl.org/dc/dcmitype/StillImage\"/>\n    <dc:date>2021-09-29T13:00:57.038933</dc:date>\n    <dc:format>image/svg+xml</dc:format>\n    <dc:creator>\n     <cc:Agent>\n      <dc:title>Matplotlib v3.3.1, https://matplotlib.org/</dc:title>\n     </cc:Agent>\n    </dc:creator>\n   </cc:Work>\n  </rdf:RDF>\n </metadata>\n <defs>\n  <style type=\"text/css\">*{stroke-linecap:butt;stroke-linejoin:round;}</style>\n </defs>\n <g id=\"figure_1\">\n  <g id=\"patch_1\">\n   <path d=\"M 0 333.8025 \nL 372.103125 333.8025 \nL 372.103125 0 \nL 0 0 \nz\n\" style=\"fill:#ffffff;\"/>\n  </g>\n  <g id=\"axes_1\">\n   <g id=\"patch_2\">\n    <path d=\"M 30.103125 224.64 \nL 364.903125 224.64 \nL 364.903125 7.2 \nL 30.103125 7.2 \nz\n\" style=\"fill:#ffffff;\"/>\n   </g>\n   <g id=\"matplotlib.axis_1\">\n    <g id=\"xtick_1\">\n     <g id=\"line2d_1\">\n      <path clip-path=\"url(#p12dde46a6d)\" d=\"M 85.903125 224.64 \nL 85.903125 7.2 \n\" style=\"fill:none;stroke:#cccccc;stroke-linecap:round;stroke-width:0.8;\"/>\n     </g>\n     <g id=\"text_1\">\n      <!-- MonthlyCharges -->\n      <g style=\"fill:#262626;\" transform=\"translate(88.6625 312.774375)rotate(-90)scale(0.1 -0.1)\">\n       <defs>\n        <path d=\"M 9.8125 72.90625 \nL 24.515625 72.90625 \nL 43.109375 23.296875 \nL 61.8125 72.90625 \nL 76.515625 72.90625 \nL 76.515625 0 \nL 66.890625 0 \nL 66.890625 64.015625 \nL 48.09375 14.015625 \nL 38.1875 14.015625 \nL 19.390625 64.015625 \nL 19.390625 0 \nL 9.8125 0 \nz\n\" id=\"DejaVuSans-77\"/>\n        <path d=\"M 30.609375 48.390625 \nQ 23.390625 48.390625 19.1875 42.75 \nQ 14.984375 37.109375 14.984375 27.296875 \nQ 14.984375 17.484375 19.15625 11.84375 \nQ 23.34375 6.203125 30.609375 6.203125 \nQ 37.796875 6.203125 41.984375 11.859375 \nQ 46.1875 17.53125 46.1875 27.296875 \nQ 46.1875 37.015625 41.984375 42.703125 \nQ 37.796875 48.390625 30.609375 48.390625 \nz\nM 30.609375 56 \nQ 42.328125 56 49.015625 48.375 \nQ 55.71875 40.765625 55.71875 27.296875 \nQ 55.71875 13.875 49.015625 6.21875 \nQ 42.328125 -1.421875 30.609375 -1.421875 \nQ 18.84375 -1.421875 12.171875 6.21875 \nQ 5.515625 13.875 5.515625 27.296875 \nQ 5.515625 40.765625 12.171875 48.375 \nQ 18.84375 56 30.609375 56 \nz\n\" id=\"DejaVuSans-111\"/>\n        <path d=\"M 54.890625 33.015625 \nL 54.890625 0 \nL 45.90625 0 \nL 45.90625 32.71875 \nQ 45.90625 40.484375 42.875 44.328125 \nQ 39.84375 48.1875 33.796875 48.1875 \nQ 26.515625 48.1875 22.3125 43.546875 \nQ 18.109375 38.921875 18.109375 30.90625 \nL 18.109375 0 \nL 9.078125 0 \nL 9.078125 54.6875 \nL 18.109375 54.6875 \nL 18.109375 46.1875 \nQ 21.34375 51.125 25.703125 53.5625 \nQ 30.078125 56 35.796875 56 \nQ 45.21875 56 50.046875 50.171875 \nQ 54.890625 44.34375 54.890625 33.015625 \nz\n\" id=\"DejaVuSans-110\"/>\n        <path d=\"M 18.3125 70.21875 \nL 18.3125 54.6875 \nL 36.8125 54.6875 \nL 36.8125 47.703125 \nL 18.3125 47.703125 \nL 18.3125 18.015625 \nQ 18.3125 11.328125 20.140625 9.421875 \nQ 21.96875 7.515625 27.59375 7.515625 \nL 36.8125 7.515625 \nL 36.8125 0 \nL 27.59375 0 \nQ 17.1875 0 13.234375 3.875 \nQ 9.28125 7.765625 9.28125 18.015625 \nL 9.28125 47.703125 \nL 2.6875 47.703125 \nL 2.6875 54.6875 \nL 9.28125 54.6875 \nL 9.28125 70.21875 \nz\n\" id=\"DejaVuSans-116\"/>\n        <path d=\"M 54.890625 33.015625 \nL 54.890625 0 \nL 45.90625 0 \nL 45.90625 32.71875 \nQ 45.90625 40.484375 42.875 44.328125 \nQ 39.84375 48.1875 33.796875 48.1875 \nQ 26.515625 48.1875 22.3125 43.546875 \nQ 18.109375 38.921875 18.109375 30.90625 \nL 18.109375 0 \nL 9.078125 0 \nL 9.078125 75.984375 \nL 18.109375 75.984375 \nL 18.109375 46.1875 \nQ 21.34375 51.125 25.703125 53.5625 \nQ 30.078125 56 35.796875 56 \nQ 45.21875 56 50.046875 50.171875 \nQ 54.890625 44.34375 54.890625 33.015625 \nz\n\" id=\"DejaVuSans-104\"/>\n        <path d=\"M 9.421875 75.984375 \nL 18.40625 75.984375 \nL 18.40625 0 \nL 9.421875 0 \nz\n\" id=\"DejaVuSans-108\"/>\n        <path d=\"M 32.171875 -5.078125 \nQ 28.375 -14.84375 24.75 -17.8125 \nQ 21.140625 -20.796875 15.09375 -20.796875 \nL 7.90625 -20.796875 \nL 7.90625 -13.28125 \nL 13.1875 -13.28125 \nQ 16.890625 -13.28125 18.9375 -11.515625 \nQ 21 -9.765625 23.484375 -3.21875 \nL 25.09375 0.875 \nL 2.984375 54.6875 \nL 12.5 54.6875 \nL 29.59375 11.921875 \nL 46.6875 54.6875 \nL 56.203125 54.6875 \nz\n\" id=\"DejaVuSans-121\"/>\n        <path d=\"M 64.40625 67.28125 \nL 64.40625 56.890625 \nQ 59.421875 61.53125 53.78125 63.8125 \nQ 48.140625 66.109375 41.796875 66.109375 \nQ 29.296875 66.109375 22.65625 58.46875 \nQ 16.015625 50.828125 16.015625 36.375 \nQ 16.015625 21.96875 22.65625 14.328125 \nQ 29.296875 6.6875 41.796875 6.6875 \nQ 48.140625 6.6875 53.78125 8.984375 \nQ 59.421875 11.28125 64.40625 15.921875 \nL 64.40625 5.609375 \nQ 59.234375 2.09375 53.4375 0.328125 \nQ 47.65625 -1.421875 41.21875 -1.421875 \nQ 24.65625 -1.421875 15.125 8.703125 \nQ 5.609375 18.84375 5.609375 36.375 \nQ 5.609375 53.953125 15.125 64.078125 \nQ 24.65625 74.21875 41.21875 74.21875 \nQ 47.75 74.21875 53.53125 72.484375 \nQ 59.328125 70.75 64.40625 67.28125 \nz\n\" id=\"DejaVuSans-67\"/>\n        <path d=\"M 34.28125 27.484375 \nQ 23.390625 27.484375 19.1875 25 \nQ 14.984375 22.515625 14.984375 16.5 \nQ 14.984375 11.71875 18.140625 8.90625 \nQ 21.296875 6.109375 26.703125 6.109375 \nQ 34.1875 6.109375 38.703125 11.40625 \nQ 43.21875 16.703125 43.21875 25.484375 \nL 43.21875 27.484375 \nz\nM 52.203125 31.203125 \nL 52.203125 0 \nL 43.21875 0 \nL 43.21875 8.296875 \nQ 40.140625 3.328125 35.546875 0.953125 \nQ 30.953125 -1.421875 24.3125 -1.421875 \nQ 15.921875 -1.421875 10.953125 3.296875 \nQ 6 8.015625 6 15.921875 \nQ 6 25.140625 12.171875 29.828125 \nQ 18.359375 34.515625 30.609375 34.515625 \nL 43.21875 34.515625 \nL 43.21875 35.40625 \nQ 43.21875 41.609375 39.140625 45 \nQ 35.0625 48.390625 27.6875 48.390625 \nQ 23 48.390625 18.546875 47.265625 \nQ 14.109375 46.140625 10.015625 43.890625 \nL 10.015625 52.203125 \nQ 14.9375 54.109375 19.578125 55.046875 \nQ 24.21875 56 28.609375 56 \nQ 40.484375 56 46.34375 49.84375 \nQ 52.203125 43.703125 52.203125 31.203125 \nz\n\" id=\"DejaVuSans-97\"/>\n        <path d=\"M 41.109375 46.296875 \nQ 39.59375 47.171875 37.8125 47.578125 \nQ 36.03125 48 33.890625 48 \nQ 26.265625 48 22.1875 43.046875 \nQ 18.109375 38.09375 18.109375 28.8125 \nL 18.109375 0 \nL 9.078125 0 \nL 9.078125 54.6875 \nL 18.109375 54.6875 \nL 18.109375 46.1875 \nQ 20.953125 51.171875 25.484375 53.578125 \nQ 30.03125 56 36.53125 56 \nQ 37.453125 56 38.578125 55.875 \nQ 39.703125 55.765625 41.0625 55.515625 \nz\n\" id=\"DejaVuSans-114\"/>\n        <path d=\"M 45.40625 27.984375 \nQ 45.40625 37.75 41.375 43.109375 \nQ 37.359375 48.484375 30.078125 48.484375 \nQ 22.859375 48.484375 18.828125 43.109375 \nQ 14.796875 37.75 14.796875 27.984375 \nQ 14.796875 18.265625 18.828125 12.890625 \nQ 22.859375 7.515625 30.078125 7.515625 \nQ 37.359375 7.515625 41.375 12.890625 \nQ 45.40625 18.265625 45.40625 27.984375 \nz\nM 54.390625 6.78125 \nQ 54.390625 -7.171875 48.1875 -13.984375 \nQ 42 -20.796875 29.203125 -20.796875 \nQ 24.46875 -20.796875 20.265625 -20.09375 \nQ 16.0625 -19.390625 12.109375 -17.921875 \nL 12.109375 -9.1875 \nQ 16.0625 -11.328125 19.921875 -12.34375 \nQ 23.78125 -13.375 27.78125 -13.375 \nQ 36.625 -13.375 41.015625 -8.765625 \nQ 45.40625 -4.15625 45.40625 5.171875 \nL 45.40625 9.625 \nQ 42.625 4.78125 38.28125 2.390625 \nQ 33.9375 0 27.875 0 \nQ 17.828125 0 11.671875 7.65625 \nQ 5.515625 15.328125 5.515625 27.984375 \nQ 5.515625 40.671875 11.671875 48.328125 \nQ 17.828125 56 27.875 56 \nQ 33.9375 56 38.28125 53.609375 \nQ 42.625 51.21875 45.40625 46.390625 \nL 45.40625 54.6875 \nL 54.390625 54.6875 \nz\n\" id=\"DejaVuSans-103\"/>\n        <path d=\"M 56.203125 29.59375 \nL 56.203125 25.203125 \nL 14.890625 25.203125 \nQ 15.484375 15.921875 20.484375 11.0625 \nQ 25.484375 6.203125 34.421875 6.203125 \nQ 39.59375 6.203125 44.453125 7.46875 \nQ 49.3125 8.734375 54.109375 11.28125 \nL 54.109375 2.78125 \nQ 49.265625 0.734375 44.1875 -0.34375 \nQ 39.109375 -1.421875 33.890625 -1.421875 \nQ 20.796875 -1.421875 13.15625 6.1875 \nQ 5.515625 13.8125 5.515625 26.8125 \nQ 5.515625 40.234375 12.765625 48.109375 \nQ 20.015625 56 32.328125 56 \nQ 43.359375 56 49.78125 48.890625 \nQ 56.203125 41.796875 56.203125 29.59375 \nz\nM 47.21875 32.234375 \nQ 47.125 39.59375 43.09375 43.984375 \nQ 39.0625 48.390625 32.421875 48.390625 \nQ 24.90625 48.390625 20.390625 44.140625 \nQ 15.875 39.890625 15.1875 32.171875 \nz\n\" id=\"DejaVuSans-101\"/>\n        <path d=\"M 44.28125 53.078125 \nL 44.28125 44.578125 \nQ 40.484375 46.53125 36.375 47.5 \nQ 32.28125 48.484375 27.875 48.484375 \nQ 21.1875 48.484375 17.84375 46.4375 \nQ 14.5 44.390625 14.5 40.28125 \nQ 14.5 37.15625 16.890625 35.375 \nQ 19.28125 33.59375 26.515625 31.984375 \nL 29.59375 31.296875 \nQ 39.15625 29.25 43.1875 25.515625 \nQ 47.21875 21.78125 47.21875 15.09375 \nQ 47.21875 7.46875 41.1875 3.015625 \nQ 35.15625 -1.421875 24.609375 -1.421875 \nQ 20.21875 -1.421875 15.453125 -0.5625 \nQ 10.6875 0.296875 5.421875 2 \nL 5.421875 11.28125 \nQ 10.40625 8.6875 15.234375 7.390625 \nQ 20.0625 6.109375 24.8125 6.109375 \nQ 31.15625 6.109375 34.5625 8.28125 \nQ 37.984375 10.453125 37.984375 14.40625 \nQ 37.984375 18.0625 35.515625 20.015625 \nQ 33.0625 21.96875 24.703125 23.78125 \nL 21.578125 24.515625 \nQ 13.234375 26.265625 9.515625 29.90625 \nQ 5.8125 33.546875 5.8125 39.890625 \nQ 5.8125 47.609375 11.28125 51.796875 \nQ 16.75 56 26.8125 56 \nQ 31.78125 56 36.171875 55.265625 \nQ 40.578125 54.546875 44.28125 53.078125 \nz\n\" id=\"DejaVuSans-115\"/>\n       </defs>\n       <use xlink:href=\"#DejaVuSans-77\"/>\n       <use x=\"86.279297\" xlink:href=\"#DejaVuSans-111\"/>\n       <use x=\"147.460938\" xlink:href=\"#DejaVuSans-110\"/>\n       <use x=\"210.839844\" xlink:href=\"#DejaVuSans-116\"/>\n       <use x=\"250.048828\" xlink:href=\"#DejaVuSans-104\"/>\n       <use x=\"313.427734\" xlink:href=\"#DejaVuSans-108\"/>\n       <use x=\"341.210938\" xlink:href=\"#DejaVuSans-121\"/>\n       <use x=\"400.390625\" xlink:href=\"#DejaVuSans-67\"/>\n       <use x=\"470.214844\" xlink:href=\"#DejaVuSans-104\"/>\n       <use x=\"533.59375\" xlink:href=\"#DejaVuSans-97\"/>\n       <use x=\"594.873047\" xlink:href=\"#DejaVuSans-114\"/>\n       <use x=\"634.236328\" xlink:href=\"#DejaVuSans-103\"/>\n       <use x=\"697.712891\" xlink:href=\"#DejaVuSans-101\"/>\n       <use x=\"759.236328\" xlink:href=\"#DejaVuSans-115\"/>\n      </g>\n     </g>\n    </g>\n    <g id=\"xtick_2\">\n     <g id=\"line2d_2\">\n      <path clip-path=\"url(#p12dde46a6d)\" d=\"M 197.503125 224.64 \nL 197.503125 7.2 \n\" style=\"fill:none;stroke:#cccccc;stroke-linecap:round;stroke-width:0.8;\"/>\n     </g>\n     <g id=\"text_2\">\n      <!-- Contract -->\n      <g style=\"fill:#262626;\" transform=\"translate(200.2625 274.657188)rotate(-90)scale(0.1 -0.1)\">\n       <defs>\n        <path d=\"M 48.78125 52.59375 \nL 48.78125 44.1875 \nQ 44.96875 46.296875 41.140625 47.34375 \nQ 37.3125 48.390625 33.40625 48.390625 \nQ 24.65625 48.390625 19.8125 42.84375 \nQ 14.984375 37.3125 14.984375 27.296875 \nQ 14.984375 17.28125 19.8125 11.734375 \nQ 24.65625 6.203125 33.40625 6.203125 \nQ 37.3125 6.203125 41.140625 7.25 \nQ 44.96875 8.296875 48.78125 10.40625 \nL 48.78125 2.09375 \nQ 45.015625 0.34375 40.984375 -0.53125 \nQ 36.96875 -1.421875 32.421875 -1.421875 \nQ 20.0625 -1.421875 12.78125 6.34375 \nQ 5.515625 14.109375 5.515625 27.296875 \nQ 5.515625 40.671875 12.859375 48.328125 \nQ 20.21875 56 33.015625 56 \nQ 37.15625 56 41.109375 55.140625 \nQ 45.0625 54.296875 48.78125 52.59375 \nz\n\" id=\"DejaVuSans-99\"/>\n       </defs>\n       <use xlink:href=\"#DejaVuSans-67\"/>\n       <use x=\"69.824219\" xlink:href=\"#DejaVuSans-111\"/>\n       <use x=\"131.005859\" xlink:href=\"#DejaVuSans-110\"/>\n       <use x=\"194.384766\" xlink:href=\"#DejaVuSans-116\"/>\n       <use x=\"233.59375\" xlink:href=\"#DejaVuSans-114\"/>\n       <use x=\"274.707031\" xlink:href=\"#DejaVuSans-97\"/>\n       <use x=\"335.986328\" xlink:href=\"#DejaVuSans-99\"/>\n       <use x=\"390.966797\" xlink:href=\"#DejaVuSans-116\"/>\n      </g>\n     </g>\n    </g>\n    <g id=\"xtick_3\">\n     <g id=\"line2d_3\">\n      <path clip-path=\"url(#p12dde46a6d)\" d=\"M 309.103125 224.64 \nL 309.103125 7.2 \n\" style=\"fill:none;stroke:#cccccc;stroke-linecap:round;stroke-width:0.8;\"/>\n     </g>\n     <g id=\"text_3\">\n      <!-- PaymentMethod -->\n      <g style=\"fill:#262626;\" transform=\"translate(311.8625 312.924375)rotate(-90)scale(0.1 -0.1)\">\n       <defs>\n        <path d=\"M 19.671875 64.796875 \nL 19.671875 37.40625 \nL 32.078125 37.40625 \nQ 38.96875 37.40625 42.71875 40.96875 \nQ 46.484375 44.53125 46.484375 51.125 \nQ 46.484375 57.671875 42.71875 61.234375 \nQ 38.96875 64.796875 32.078125 64.796875 \nz\nM 9.8125 72.90625 \nL 32.078125 72.90625 \nQ 44.34375 72.90625 50.609375 67.359375 \nQ 56.890625 61.8125 56.890625 51.125 \nQ 56.890625 40.328125 50.609375 34.8125 \nQ 44.34375 29.296875 32.078125 29.296875 \nL 19.671875 29.296875 \nL 19.671875 0 \nL 9.8125 0 \nz\n\" id=\"DejaVuSans-80\"/>\n        <path d=\"M 52 44.1875 \nQ 55.375 50.25 60.0625 53.125 \nQ 64.75 56 71.09375 56 \nQ 79.640625 56 84.28125 50.015625 \nQ 88.921875 44.046875 88.921875 33.015625 \nL 88.921875 0 \nL 79.890625 0 \nL 79.890625 32.71875 \nQ 79.890625 40.578125 77.09375 44.375 \nQ 74.3125 48.1875 68.609375 48.1875 \nQ 61.625 48.1875 57.5625 43.546875 \nQ 53.515625 38.921875 53.515625 30.90625 \nL 53.515625 0 \nL 44.484375 0 \nL 44.484375 32.71875 \nQ 44.484375 40.625 41.703125 44.40625 \nQ 38.921875 48.1875 33.109375 48.1875 \nQ 26.21875 48.1875 22.15625 43.53125 \nQ 18.109375 38.875 18.109375 30.90625 \nL 18.109375 0 \nL 9.078125 0 \nL 9.078125 54.6875 \nL 18.109375 54.6875 \nL 18.109375 46.1875 \nQ 21.1875 51.21875 25.484375 53.609375 \nQ 29.78125 56 35.6875 56 \nQ 41.65625 56 45.828125 52.96875 \nQ 50 49.953125 52 44.1875 \nz\n\" id=\"DejaVuSans-109\"/>\n        <path d=\"M 45.40625 46.390625 \nL 45.40625 75.984375 \nL 54.390625 75.984375 \nL 54.390625 0 \nL 45.40625 0 \nL 45.40625 8.203125 \nQ 42.578125 3.328125 38.25 0.953125 \nQ 33.9375 -1.421875 27.875 -1.421875 \nQ 17.96875 -1.421875 11.734375 6.484375 \nQ 5.515625 14.40625 5.515625 27.296875 \nQ 5.515625 40.1875 11.734375 48.09375 \nQ 17.96875 56 27.875 56 \nQ 33.9375 56 38.25 53.625 \nQ 42.578125 51.265625 45.40625 46.390625 \nz\nM 14.796875 27.296875 \nQ 14.796875 17.390625 18.875 11.75 \nQ 22.953125 6.109375 30.078125 6.109375 \nQ 37.203125 6.109375 41.296875 11.75 \nQ 45.40625 17.390625 45.40625 27.296875 \nQ 45.40625 37.203125 41.296875 42.84375 \nQ 37.203125 48.484375 30.078125 48.484375 \nQ 22.953125 48.484375 18.875 42.84375 \nQ 14.796875 37.203125 14.796875 27.296875 \nz\n\" id=\"DejaVuSans-100\"/>\n       </defs>\n       <use xlink:href=\"#DejaVuSans-80\"/>\n       <use x=\"55.802734\" xlink:href=\"#DejaVuSans-97\"/>\n       <use x=\"117.082031\" xlink:href=\"#DejaVuSans-121\"/>\n       <use x=\"176.261719\" xlink:href=\"#DejaVuSans-109\"/>\n       <use x=\"273.673828\" xlink:href=\"#DejaVuSans-101\"/>\n       <use x=\"335.197266\" xlink:href=\"#DejaVuSans-110\"/>\n       <use x=\"398.576172\" xlink:href=\"#DejaVuSans-116\"/>\n       <use x=\"437.785156\" xlink:href=\"#DejaVuSans-77\"/>\n       <use x=\"524.064453\" xlink:href=\"#DejaVuSans-101\"/>\n       <use x=\"585.587891\" xlink:href=\"#DejaVuSans-116\"/>\n       <use x=\"624.796875\" xlink:href=\"#DejaVuSans-104\"/>\n       <use x=\"688.175781\" xlink:href=\"#DejaVuSans-111\"/>\n       <use x=\"749.357422\" xlink:href=\"#DejaVuSans-100\"/>\n      </g>\n     </g>\n    </g>\n    <g id=\"text_4\">\n     <!-- Attribute -->\n     <g style=\"fill:#262626;\" transform=\"translate(175.425781 324.522813)scale(0.1 -0.1)\">\n      <defs>\n       <path d=\"M 34.1875 63.1875 \nL 20.796875 26.90625 \nL 47.609375 26.90625 \nz\nM 28.609375 72.90625 \nL 39.796875 72.90625 \nL 67.578125 0 \nL 57.328125 0 \nL 50.6875 18.703125 \nL 17.828125 18.703125 \nL 11.1875 0 \nL 0.78125 0 \nz\n\" id=\"DejaVuSans-65\"/>\n       <path d=\"M 9.421875 54.6875 \nL 18.40625 54.6875 \nL 18.40625 0 \nL 9.421875 0 \nz\nM 9.421875 75.984375 \nL 18.40625 75.984375 \nL 18.40625 64.59375 \nL 9.421875 64.59375 \nz\n\" id=\"DejaVuSans-105\"/>\n       <path d=\"M 48.6875 27.296875 \nQ 48.6875 37.203125 44.609375 42.84375 \nQ 40.53125 48.484375 33.40625 48.484375 \nQ 26.265625 48.484375 22.1875 42.84375 \nQ 18.109375 37.203125 18.109375 27.296875 \nQ 18.109375 17.390625 22.1875 11.75 \nQ 26.265625 6.109375 33.40625 6.109375 \nQ 40.53125 6.109375 44.609375 11.75 \nQ 48.6875 17.390625 48.6875 27.296875 \nz\nM 18.109375 46.390625 \nQ 20.953125 51.265625 25.265625 53.625 \nQ 29.59375 56 35.59375 56 \nQ 45.5625 56 51.78125 48.09375 \nQ 58.015625 40.1875 58.015625 27.296875 \nQ 58.015625 14.40625 51.78125 6.484375 \nQ 45.5625 -1.421875 35.59375 -1.421875 \nQ 29.59375 -1.421875 25.265625 0.953125 \nQ 20.953125 3.328125 18.109375 8.203125 \nL 18.109375 0 \nL 9.078125 0 \nL 9.078125 75.984375 \nL 18.109375 75.984375 \nz\n\" id=\"DejaVuSans-98\"/>\n       <path d=\"M 8.5 21.578125 \nL 8.5 54.6875 \nL 17.484375 54.6875 \nL 17.484375 21.921875 \nQ 17.484375 14.15625 20.5 10.265625 \nQ 23.53125 6.390625 29.59375 6.390625 \nQ 36.859375 6.390625 41.078125 11.03125 \nQ 45.3125 15.671875 45.3125 23.6875 \nL 45.3125 54.6875 \nL 54.296875 54.6875 \nL 54.296875 0 \nL 45.3125 0 \nL 45.3125 8.40625 \nQ 42.046875 3.421875 37.71875 1 \nQ 33.40625 -1.421875 27.6875 -1.421875 \nQ 18.265625 -1.421875 13.375 4.4375 \nQ 8.5 10.296875 8.5 21.578125 \nz\nM 31.109375 56 \nz\n\" id=\"DejaVuSans-117\"/>\n      </defs>\n      <use xlink:href=\"#DejaVuSans-65\"/>\n      <use x=\"66.658203\" xlink:href=\"#DejaVuSans-116\"/>\n      <use x=\"105.867188\" xlink:href=\"#DejaVuSans-116\"/>\n      <use x=\"145.076172\" xlink:href=\"#DejaVuSans-114\"/>\n      <use x=\"186.189453\" xlink:href=\"#DejaVuSans-105\"/>\n      <use x=\"213.972656\" xlink:href=\"#DejaVuSans-98\"/>\n      <use x=\"277.449219\" xlink:href=\"#DejaVuSans-117\"/>\n      <use x=\"340.828125\" xlink:href=\"#DejaVuSans-116\"/>\n      <use x=\"380.037109\" xlink:href=\"#DejaVuSans-101\"/>\n     </g>\n    </g>\n   </g>\n   <g id=\"matplotlib.axis_2\">\n    <g id=\"ytick_1\">\n     <g id=\"line2d_4\">\n      <path clip-path=\"url(#p12dde46a6d)\" d=\"M 30.103125 224.64 \nL 364.903125 224.64 \n\" style=\"fill:none;stroke:#cccccc;stroke-linecap:round;stroke-width:0.8;\"/>\n     </g>\n     <g id=\"text_5\">\n      <!-- 0.0 -->\n      <g style=\"fill:#262626;\" transform=\"translate(7.2 228.439219)scale(0.1 -0.1)\">\n       <defs>\n        <path d=\"M 31.78125 66.40625 \nQ 24.171875 66.40625 20.328125 58.90625 \nQ 16.5 51.421875 16.5 36.375 \nQ 16.5 21.390625 20.328125 13.890625 \nQ 24.171875 6.390625 31.78125 6.390625 \nQ 39.453125 6.390625 43.28125 13.890625 \nQ 47.125 21.390625 47.125 36.375 \nQ 47.125 51.421875 43.28125 58.90625 \nQ 39.453125 66.40625 31.78125 66.40625 \nz\nM 31.78125 74.21875 \nQ 44.046875 74.21875 50.515625 64.515625 \nQ 56.984375 54.828125 56.984375 36.375 \nQ 56.984375 17.96875 50.515625 8.265625 \nQ 44.046875 -1.421875 31.78125 -1.421875 \nQ 19.53125 -1.421875 13.0625 8.265625 \nQ 6.59375 17.96875 6.59375 36.375 \nQ 6.59375 54.828125 13.0625 64.515625 \nQ 19.53125 74.21875 31.78125 74.21875 \nz\n\" id=\"DejaVuSans-48\"/>\n        <path d=\"M 10.6875 12.40625 \nL 21 12.40625 \nL 21 0 \nL 10.6875 0 \nz\n\" id=\"DejaVuSans-46\"/>\n       </defs>\n       <use xlink:href=\"#DejaVuSans-48\"/>\n       <use x=\"63.623047\" xlink:href=\"#DejaVuSans-46\"/>\n       <use x=\"95.410156\" xlink:href=\"#DejaVuSans-48\"/>\n      </g>\n     </g>\n    </g>\n    <g id=\"ytick_2\">\n     <g id=\"line2d_5\">\n      <path clip-path=\"url(#p12dde46a6d)\" d=\"M 30.103125 186.290794 \nL 364.903125 186.290794 \n\" style=\"fill:none;stroke:#cccccc;stroke-linecap:round;stroke-width:0.8;\"/>\n     </g>\n     <g id=\"text_6\">\n      <!-- 0.1 -->\n      <g style=\"fill:#262626;\" transform=\"translate(7.2 190.090012)scale(0.1 -0.1)\">\n       <defs>\n        <path d=\"M 12.40625 8.296875 \nL 28.515625 8.296875 \nL 28.515625 63.921875 \nL 10.984375 60.40625 \nL 10.984375 69.390625 \nL 28.421875 72.90625 \nL 38.28125 72.90625 \nL 38.28125 8.296875 \nL 54.390625 8.296875 \nL 54.390625 0 \nL 12.40625 0 \nz\n\" id=\"DejaVuSans-49\"/>\n       </defs>\n       <use xlink:href=\"#DejaVuSans-48\"/>\n       <use x=\"63.623047\" xlink:href=\"#DejaVuSans-46\"/>\n       <use x=\"95.410156\" xlink:href=\"#DejaVuSans-49\"/>\n      </g>\n     </g>\n    </g>\n    <g id=\"ytick_3\">\n     <g id=\"line2d_6\">\n      <path clip-path=\"url(#p12dde46a6d)\" d=\"M 30.103125 147.941587 \nL 364.903125 147.941587 \n\" style=\"fill:none;stroke:#cccccc;stroke-linecap:round;stroke-width:0.8;\"/>\n     </g>\n     <g id=\"text_7\">\n      <!-- 0.2 -->\n      <g style=\"fill:#262626;\" transform=\"translate(7.2 151.740806)scale(0.1 -0.1)\">\n       <defs>\n        <path d=\"M 19.1875 8.296875 \nL 53.609375 8.296875 \nL 53.609375 0 \nL 7.328125 0 \nL 7.328125 8.296875 \nQ 12.9375 14.109375 22.625 23.890625 \nQ 32.328125 33.6875 34.8125 36.53125 \nQ 39.546875 41.84375 41.421875 45.53125 \nQ 43.3125 49.21875 43.3125 52.78125 \nQ 43.3125 58.59375 39.234375 62.25 \nQ 35.15625 65.921875 28.609375 65.921875 \nQ 23.96875 65.921875 18.8125 64.3125 \nQ 13.671875 62.703125 7.8125 59.421875 \nL 7.8125 69.390625 \nQ 13.765625 71.78125 18.9375 73 \nQ 24.125 74.21875 28.421875 74.21875 \nQ 39.75 74.21875 46.484375 68.546875 \nQ 53.21875 62.890625 53.21875 53.421875 \nQ 53.21875 48.921875 51.53125 44.890625 \nQ 49.859375 40.875 45.40625 35.40625 \nQ 44.1875 33.984375 37.640625 27.21875 \nQ 31.109375 20.453125 19.1875 8.296875 \nz\n\" id=\"DejaVuSans-50\"/>\n       </defs>\n       <use xlink:href=\"#DejaVuSans-48\"/>\n       <use x=\"63.623047\" xlink:href=\"#DejaVuSans-46\"/>\n       <use x=\"95.410156\" xlink:href=\"#DejaVuSans-50\"/>\n      </g>\n     </g>\n    </g>\n    <g id=\"ytick_4\">\n     <g id=\"line2d_7\">\n      <path clip-path=\"url(#p12dde46a6d)\" d=\"M 30.103125 109.592381 \nL 364.903125 109.592381 \n\" style=\"fill:none;stroke:#cccccc;stroke-linecap:round;stroke-width:0.8;\"/>\n     </g>\n     <g id=\"text_8\">\n      <!-- 0.3 -->\n      <g style=\"fill:#262626;\" transform=\"translate(7.2 113.3916)scale(0.1 -0.1)\">\n       <defs>\n        <path d=\"M 40.578125 39.3125 \nQ 47.65625 37.796875 51.625 33 \nQ 55.609375 28.21875 55.609375 21.1875 \nQ 55.609375 10.40625 48.1875 4.484375 \nQ 40.765625 -1.421875 27.09375 -1.421875 \nQ 22.515625 -1.421875 17.65625 -0.515625 \nQ 12.796875 0.390625 7.625 2.203125 \nL 7.625 11.71875 \nQ 11.71875 9.328125 16.59375 8.109375 \nQ 21.484375 6.890625 26.8125 6.890625 \nQ 36.078125 6.890625 40.9375 10.546875 \nQ 45.796875 14.203125 45.796875 21.1875 \nQ 45.796875 27.640625 41.28125 31.265625 \nQ 36.765625 34.90625 28.71875 34.90625 \nL 20.21875 34.90625 \nL 20.21875 43.015625 \nL 29.109375 43.015625 \nQ 36.375 43.015625 40.234375 45.921875 \nQ 44.09375 48.828125 44.09375 54.296875 \nQ 44.09375 59.90625 40.109375 62.90625 \nQ 36.140625 65.921875 28.71875 65.921875 \nQ 24.65625 65.921875 20.015625 65.03125 \nQ 15.375 64.15625 9.8125 62.3125 \nL 9.8125 71.09375 \nQ 15.4375 72.65625 20.34375 73.4375 \nQ 25.25 74.21875 29.59375 74.21875 \nQ 40.828125 74.21875 47.359375 69.109375 \nQ 53.90625 64.015625 53.90625 55.328125 \nQ 53.90625 49.265625 50.4375 45.09375 \nQ 46.96875 40.921875 40.578125 39.3125 \nz\n\" id=\"DejaVuSans-51\"/>\n       </defs>\n       <use xlink:href=\"#DejaVuSans-48\"/>\n       <use x=\"63.623047\" xlink:href=\"#DejaVuSans-46\"/>\n       <use x=\"95.410156\" xlink:href=\"#DejaVuSans-51\"/>\n      </g>\n     </g>\n    </g>\n    <g id=\"ytick_5\">\n     <g id=\"line2d_8\">\n      <path clip-path=\"url(#p12dde46a6d)\" d=\"M 30.103125 71.243175 \nL 364.903125 71.243175 \n\" style=\"fill:none;stroke:#cccccc;stroke-linecap:round;stroke-width:0.8;\"/>\n     </g>\n     <g id=\"text_9\">\n      <!-- 0.4 -->\n      <g style=\"fill:#262626;\" transform=\"translate(7.2 75.042393)scale(0.1 -0.1)\">\n       <defs>\n        <path d=\"M 37.796875 64.3125 \nL 12.890625 25.390625 \nL 37.796875 25.390625 \nz\nM 35.203125 72.90625 \nL 47.609375 72.90625 \nL 47.609375 25.390625 \nL 58.015625 25.390625 \nL 58.015625 17.1875 \nL 47.609375 17.1875 \nL 47.609375 0 \nL 37.796875 0 \nL 37.796875 17.1875 \nL 4.890625 17.1875 \nL 4.890625 26.703125 \nz\n\" id=\"DejaVuSans-52\"/>\n       </defs>\n       <use xlink:href=\"#DejaVuSans-48\"/>\n       <use x=\"63.623047\" xlink:href=\"#DejaVuSans-46\"/>\n       <use x=\"95.410156\" xlink:href=\"#DejaVuSans-52\"/>\n      </g>\n     </g>\n    </g>\n    <g id=\"ytick_6\">\n     <g id=\"line2d_9\">\n      <path clip-path=\"url(#p12dde46a6d)\" d=\"M 30.103125 32.893968 \nL 364.903125 32.893968 \n\" style=\"fill:none;stroke:#cccccc;stroke-linecap:round;stroke-width:0.8;\"/>\n     </g>\n     <g id=\"text_10\">\n      <!-- 0.5 -->\n      <g style=\"fill:#262626;\" transform=\"translate(7.2 36.693187)scale(0.1 -0.1)\">\n       <defs>\n        <path d=\"M 10.796875 72.90625 \nL 49.515625 72.90625 \nL 49.515625 64.59375 \nL 19.828125 64.59375 \nL 19.828125 46.734375 \nQ 21.96875 47.46875 24.109375 47.828125 \nQ 26.265625 48.1875 28.421875 48.1875 \nQ 40.625 48.1875 47.75 41.5 \nQ 54.890625 34.8125 54.890625 23.390625 \nQ 54.890625 11.625 47.5625 5.09375 \nQ 40.234375 -1.421875 26.90625 -1.421875 \nQ 22.3125 -1.421875 17.546875 -0.640625 \nQ 12.796875 0.140625 7.71875 1.703125 \nL 7.71875 11.625 \nQ 12.109375 9.234375 16.796875 8.0625 \nQ 21.484375 6.890625 26.703125 6.890625 \nQ 35.15625 6.890625 40.078125 11.328125 \nQ 45.015625 15.765625 45.015625 23.390625 \nQ 45.015625 31 40.078125 35.4375 \nQ 35.15625 39.890625 26.703125 39.890625 \nQ 22.75 39.890625 18.8125 39.015625 \nQ 14.890625 38.140625 10.796875 36.28125 \nz\n\" id=\"DejaVuSans-53\"/>\n       </defs>\n       <use xlink:href=\"#DejaVuSans-48\"/>\n       <use x=\"63.623047\" xlink:href=\"#DejaVuSans-46\"/>\n       <use x=\"95.410156\" xlink:href=\"#DejaVuSans-53\"/>\n      </g>\n     </g>\n    </g>\n   </g>\n   <g id=\"patch_3\">\n    <path clip-path=\"url(#p12dde46a6d)\" d=\"M 58.003125 224.64 \nL 113.803125 224.64 \nL 113.803125 17.554286 \nL 58.003125 17.554286 \nz\n\" style=\"fill:#1f77b4;stroke:#ffffff;stroke-linejoin:miter;\"/>\n   </g>\n   <g id=\"patch_4\">\n    <path clip-path=\"url(#p12dde46a6d)\" d=\"M 169.603125 224.64 \nL 225.403125 224.64 \nL 225.403125 124.932063 \nL 169.603125 124.932063 \nz\n\" style=\"fill:#1f77b4;stroke:#ffffff;stroke-linejoin:miter;\"/>\n   </g>\n   <g id=\"patch_5\">\n    <path clip-path=\"url(#p12dde46a6d)\" d=\"M 281.203125 224.64 \nL 337.003125 224.64 \nL 337.003125 147.941587 \nL 281.203125 147.941587 \nz\n\" style=\"fill:#1f77b4;stroke:#ffffff;stroke-linejoin:miter;\"/>\n   </g>\n   <g id=\"patch_6\">\n    <path d=\"M 30.103125 224.64 \nL 30.103125 7.2 \n\" style=\"fill:none;stroke:#cccccc;stroke-linecap:square;stroke-linejoin:miter;stroke-width:0.8;\"/>\n   </g>\n   <g id=\"patch_7\">\n    <path d=\"M 364.903125 224.64 \nL 364.903125 7.2 \n\" style=\"fill:none;stroke:#cccccc;stroke-linecap:square;stroke-linejoin:miter;stroke-width:0.8;\"/>\n   </g>\n   <g id=\"patch_8\">\n    <path d=\"M 30.103125 224.64 \nL 364.903125 224.64 \n\" style=\"fill:none;stroke:#cccccc;stroke-linecap:square;stroke-linejoin:miter;stroke-width:0.8;\"/>\n   </g>\n   <g id=\"patch_9\">\n    <path d=\"M 30.103125 7.2 \nL 364.903125 7.2 \n\" style=\"fill:none;stroke:#cccccc;stroke-linecap:square;stroke-linejoin:miter;stroke-width:0.8;\"/>\n   </g>\n   <g id=\"legend_1\">\n    <g id=\"patch_10\">\n     <path d=\"M 268.596875 29.878125 \nL 357.903125 29.878125 \nQ 359.903125 29.878125 359.903125 27.878125 \nL 359.903125 14.2 \nQ 359.903125 12.2 357.903125 12.2 \nL 268.596875 12.2 \nQ 266.596875 12.2 266.596875 14.2 \nL 266.596875 27.878125 \nQ 266.596875 29.878125 268.596875 29.878125 \nz\n\" style=\"fill:#ffffff;opacity:0.8;stroke:#cccccc;stroke-linejoin:miter;\"/>\n    </g>\n    <g id=\"patch_11\">\n     <path d=\"M 270.596875 23.798438 \nL 290.596875 23.798438 \nL 290.596875 16.798438 \nL 270.596875 16.798438 \nz\n\" style=\"fill:#1f77b4;stroke:#ffffff;stroke-linejoin:miter;\"/>\n    </g>\n    <g id=\"text_11\">\n     <!-- Importance -->\n     <g style=\"fill:#262626;\" transform=\"translate(298.596875 23.798438)scale(0.1 -0.1)\">\n      <defs>\n       <path d=\"M 9.8125 72.90625 \nL 19.671875 72.90625 \nL 19.671875 0 \nL 9.8125 0 \nz\n\" id=\"DejaVuSans-73\"/>\n       <path d=\"M 18.109375 8.203125 \nL 18.109375 -20.796875 \nL 9.078125 -20.796875 \nL 9.078125 54.6875 \nL 18.109375 54.6875 \nL 18.109375 46.390625 \nQ 20.953125 51.265625 25.265625 53.625 \nQ 29.59375 56 35.59375 56 \nQ 45.5625 56 51.78125 48.09375 \nQ 58.015625 40.1875 58.015625 27.296875 \nQ 58.015625 14.40625 51.78125 6.484375 \nQ 45.5625 -1.421875 35.59375 -1.421875 \nQ 29.59375 -1.421875 25.265625 0.953125 \nQ 20.953125 3.328125 18.109375 8.203125 \nz\nM 48.6875 27.296875 \nQ 48.6875 37.203125 44.609375 42.84375 \nQ 40.53125 48.484375 33.40625 48.484375 \nQ 26.265625 48.484375 22.1875 42.84375 \nQ 18.109375 37.203125 18.109375 27.296875 \nQ 18.109375 17.390625 22.1875 11.75 \nQ 26.265625 6.109375 33.40625 6.109375 \nQ 40.53125 6.109375 44.609375 11.75 \nQ 48.6875 17.390625 48.6875 27.296875 \nz\n\" id=\"DejaVuSans-112\"/>\n      </defs>\n      <use xlink:href=\"#DejaVuSans-73\"/>\n      <use x=\"29.492188\" xlink:href=\"#DejaVuSans-109\"/>\n      <use x=\"126.904297\" xlink:href=\"#DejaVuSans-112\"/>\n      <use x=\"190.380859\" xlink:href=\"#DejaVuSans-111\"/>\n      <use x=\"251.5625\" xlink:href=\"#DejaVuSans-114\"/>\n      <use x=\"292.675781\" xlink:href=\"#DejaVuSans-116\"/>\n      <use x=\"331.884766\" xlink:href=\"#DejaVuSans-97\"/>\n      <use x=\"393.164062\" xlink:href=\"#DejaVuSans-110\"/>\n      <use x=\"456.542969\" xlink:href=\"#DejaVuSans-99\"/>\n      <use x=\"511.523438\" xlink:href=\"#DejaVuSans-101\"/>\n     </g>\n    </g>\n   </g>\n  </g>\n </g>\n <defs>\n  <clipPath id=\"p12dde46a6d\">\n   <rect height=\"217.44\" width=\"334.8\" x=\"30.103125\" y=\"7.2\"/>\n  </clipPath>\n </defs>\n</svg>\n",
            "image/png": "[encoded data removed]"
          },
          "metadata": {}
        }
      ],
      "metadata": {
        "id": "kfckT_bFxFaE"
      }
    },
    {
      "cell_type": "code",
      "execution_count": 59,
      "source": [
        "best_features_clf = best_features\n",
        "best_features_clf"
      ],
      "outputs": [
        {
          "output_type": "execute_result",
          "data": {
            "text/plain": [
              "['MonthlyCharges', 'Contract', 'PaymentMethod']"
            ]
          },
          "metadata": {},
          "execution_count": 59
        }
      ],
      "metadata": {
        "id": "BxYUJst9MfR8"
      }
    },
    {
      "cell_type": "markdown",
      "source": [
        "## Evaluate Classifier on Train and Test Sets"
      ],
      "metadata": {
        "id": "jiwI6U28UV4C"
      }
    },
    {
      "cell_type": "markdown",
      "source": [
        "Custom Function"
      ],
      "metadata": {
        "id": "6sL9XamIDTG3"
      }
    },
    {
      "cell_type": "code",
      "execution_count": 60,
      "source": [
        "from sklearn.metrics import classification_report, confusion_matrix\n",
        "\n",
        "def ClfPredictionEvaluation(X,y,pipeline,LabelsMap):\n",
        "\n",
        "  prediction = pipeline.predict(X)\n",
        "\n",
        "  Map = list() \n",
        "  for key, value in LabelsMap.items():\n",
        "    Map.append( str(key) + \": \" + value)\n",
        "\n",
        "  print('---  Confusion Matrix  ---')\n",
        "  print(pd.DataFrame(confusion_matrix(prediction,y),\n",
        "        columns=[ [\"Actual \" + sub for sub in Map] ], \n",
        "        index = [ [\"Prediction \" + sub for sub in Map ]]\n",
        "        # index=['Prediction 0', 'Prediction 1']\n",
        "        ))\n",
        "  print(\"\\n\")\n",
        "\n",
        "\n",
        "  print('---  Classification Report  ---')\n",
        "  print(classification_report(y, prediction),\"\\n\")\n",
        "\n",
        "\n",
        "def ClfPerformanceTrainTestSet(X_train,y_train,X_test,y_test,pipeline,LabelsMap):\n",
        "  print(\"#### Train Set #### \\n\")\n",
        "  ClfPredictionEvaluation(X_train,y_train,pipeline,LabelsMap)\n",
        "\n",
        "  print(\"#### Test Set ####\\n\")\n",
        "  ClfPredictionEvaluation(X_test,y_test,pipeline,LabelsMap)"
      ],
      "outputs": [],
      "metadata": {
        "id": "yMcvrPmdXbmP"
      }
    },
    {
      "cell_type": "markdown",
      "source": [
        "Creates a dictionary that relates the class and numerical interval"
      ],
      "metadata": {
        "id": "PyX8PsH-0z8z"
      }
    },
    {
      "cell_type": "code",
      "execution_count": 61,
      "source": [
        "n_classes = len(disc.binner_dict_['tenure']) - 1\n",
        "classes_ranges = disc.binner_dict_['tenure'][1:-1]\n",
        "\n",
        "labels_map = {}\n",
        "for n in range(0,n_classes):\n",
        "  if n == 0:\n",
        "    labels_map[n] = f\"<{classes_ranges[0]}\"\n",
        "  elif n == n_classes-1:\n",
        "    labels_map[n] = f\"+{classes_ranges[-1]}\"\n",
        "  else:\n",
        "    labels_map[n] = f\"{classes_ranges[n-1]} to {classes_ranges[n]}\"\n",
        "\n",
        "labels_map"
      ],
      "outputs": [
        {
          "output_type": "execute_result",
          "data": {
            "text/plain": [
              "{0: '<4.0', 1: '4.0 to 20.0', 2: '+20.0'}"
            ]
          },
          "metadata": {},
          "execution_count": 61
        }
      ],
      "metadata": {
        "id": "KGLKOq44xpMw"
      }
    },
    {
      "cell_type": "code",
      "execution_count": 62,
      "source": [
        "ClfPerformanceTrainTestSet(X_train, y_train ,X_test, y_test,\n",
        "                        pipeline_clf,\n",
        "                        LabelsMap=labels_map )"
      ],
      "outputs": [
        {
          "output_type": "stream",
          "name": "stdout",
          "text": [
            "#### Train Set #### \n",
            "\n",
            "---  Confusion Matrix  ---\n",
            "                          Actual 0: <4.0 Actual 1: 4.0 to 20.0 Actual 2: +20.0\n",
            "Prediction 0: <4.0                   418                   207              89\n",
            "Prediction 1: 4.0 to 20.0             91                   151             103\n",
            "Prediction 2: +20.0                   28                   109             299\n",
            "\n",
            "\n",
            "---  Classification Report  ---\n",
            "              precision    recall  f1-score   support\n",
            "\n",
            "           0       0.59      0.78      0.67       537\n",
            "           1       0.44      0.32      0.37       467\n",
            "           2       0.69      0.61      0.65       491\n",
            "\n",
            "    accuracy                           0.58      1495\n",
            "   macro avg       0.57      0.57      0.56      1495\n",
            "weighted avg       0.57      0.58      0.57      1495\n",
            " \n",
            "\n",
            "#### Test Set ####\n",
            "\n",
            "---  Confusion Matrix  ---\n",
            "                          Actual 0: <4.0 Actual 1: 4.0 to 20.0 Actual 2: +20.0\n",
            "Prediction 0: <4.0                   113                    40              22\n",
            "Prediction 1: 4.0 to 20.0             24                    39              22\n",
            "Prediction 2: +20.0                    6                    25              83\n",
            "\n",
            "\n",
            "---  Classification Report  ---\n",
            "              precision    recall  f1-score   support\n",
            "\n",
            "           0       0.65      0.79      0.71       143\n",
            "           1       0.46      0.38      0.41       104\n",
            "           2       0.73      0.65      0.69       127\n",
            "\n",
            "    accuracy                           0.63       374\n",
            "   macro avg       0.61      0.61      0.60       374\n",
            "weighted avg       0.62      0.63      0.62       374\n",
            " \n",
            "\n"
          ]
        }
      ],
      "metadata": {
        "id": "no7flbMcYbsz"
      }
    },
    {
      "cell_type": "markdown",
      "source": [
        "# Which pipeline to choose?"
      ],
      "metadata": {
        "id": "mQ3u0TodDdOZ"
      }
    },
    {
      "cell_type": "markdown",
      "source": [
        "We fitted multiple pipelines:\n",
        "* Regression\n",
        "* Regression with PCA\n",
        "* Classifier"
      ],
      "metadata": {
        "id": "FE5va8Cr-CCy"
      }
    },
    {
      "cell_type": "markdown",
      "source": [
        "The regressor pipelines didn't reach the expected performance threshold of 0.7 for R2 score, for train and test set.\n",
        "\n",
        "The classifier was tuned on recall for class 0, since we are interested to detect prospects that may churn soon. \n",
        "* It has reasonable performance for class 0 (<4 months) and can separate the opposite classes: class 0 (<4 months) and class 2 (+20 months).\n",
        "* Class 1 (4 to 20 months) has weak performance. We will accept this limitation and will handle a prediction of class 1 as if it was a prediction of class 0."
      ],
      "metadata": {
        "id": "sQR54xeCbIAH"
      }
    },
    {
      "cell_type": "markdown",
      "source": [
        "# Refit pipeline with best features"
      ],
      "metadata": {
        "id": "1BqT1Kne54Fq"
      }
    },
    {
      "cell_type": "markdown",
      "source": [
        "## Split Train Test Set, only with best features"
      ],
      "metadata": {
        "id": "GpgS-AgU6IWx"
      }
    },
    {
      "cell_type": "code",
      "execution_count": 63,
      "source": [
        "from sklearn.model_selection import train_test_split\n",
        "\n",
        "X_train, X_test,y_train, y_test = train_test_split(\n",
        "                                    df_clf.drop(['tenure'],axis=1),\n",
        "                                    df_clf['tenure'],\n",
        "                                    test_size=0.2,\n",
        "                                    random_state=0\n",
        "                                    )\n",
        "\n",
        "print(\"* Train set:\", X_train.shape, y_train.shape, \"\\n* Test set:\",  X_test.shape, y_test.shape)"
      ],
      "outputs": [
        {
          "output_type": "stream",
          "name": "stdout",
          "text": [
            "* Train set: (1495, 17) (1495,) \n",
            "* Test set: (374, 17) (374,)\n"
          ]
        }
      ],
      "metadata": {
        "id": "_31XFcrg6IWy"
      }
    },
    {
      "cell_type": "markdown",
      "source": [
        "Subset Best Features"
      ],
      "metadata": {
        "id": "ohPWfCs2E_3G"
      }
    },
    {
      "cell_type": "code",
      "execution_count": 64,
      "source": [
        "X_train = X_train.filter(best_features_clf)\n",
        "\n",
        "X_test = X_test.filter(best_features_clf)\n",
        "print(\"* Train set:\", X_train.shape, y_train.shape, \"\\n* Test set:\",  X_test.shape, y_test.shape)"
      ],
      "outputs": [
        {
          "output_type": "stream",
          "name": "stdout",
          "text": [
            "* Train set: (1495, 3) (1495,) \n",
            "* Test set: (374, 3) (374,)\n"
          ]
        }
      ],
      "metadata": {
        "id": "UUEIfyLU6IWz"
      }
    },
    {
      "cell_type": "markdown",
      "source": [
        "Check how training data looks like now"
      ],
      "metadata": {
        "id": "PsYi88NhFBcx"
      }
    },
    {
      "cell_type": "code",
      "execution_count": 65,
      "source": [
        "X_train.head(3)"
      ],
      "outputs": [
        {
          "output_type": "execute_result",
          "data": {
            "text/plain": [
              "      MonthlyCharges        Contract     PaymentMethod\n",
              "5779           95.55        One year  Electronic check\n",
              "2608           34.50  Month-to-month  Electronic check\n",
              "2464           77.15  Month-to-month  Electronic check"
            ],
            "text/html": [
              "<div>\n",
              "<style scoped>\n",
              "    .dataframe tbody tr th:only-of-type {\n",
              "        vertical-align: middle;\n",
              "    }\n",
              "\n",
              "    .dataframe tbody tr th {\n",
              "        vertical-align: top;\n",
              "    }\n",
              "\n",
              "    .dataframe thead th {\n",
              "        text-align: right;\n",
              "    }\n",
              "</style>\n",
              "<table border=\"1\" class=\"dataframe\">\n",
              "  <thead>\n",
              "    <tr style=\"text-align: right;\">\n",
              "      <th></th>\n",
              "      <th>MonthlyCharges</th>\n",
              "      <th>Contract</th>\n",
              "      <th>PaymentMethod</th>\n",
              "    </tr>\n",
              "  </thead>\n",
              "  <tbody>\n",
              "    <tr>\n",
              "      <th>5779</th>\n",
              "      <td>95.55</td>\n",
              "      <td>One year</td>\n",
              "      <td>Electronic check</td>\n",
              "    </tr>\n",
              "    <tr>\n",
              "      <th>2608</th>\n",
              "      <td>34.50</td>\n",
              "      <td>Month-to-month</td>\n",
              "      <td>Electronic check</td>\n",
              "    </tr>\n",
              "    <tr>\n",
              "      <th>2464</th>\n",
              "      <td>77.15</td>\n",
              "      <td>Month-to-month</td>\n",
              "      <td>Electronic check</td>\n",
              "    </tr>\n",
              "  </tbody>\n",
              "</table>\n",
              "</div>"
            ]
          },
          "metadata": {},
          "execution_count": 65
        }
      ],
      "metadata": {
        "id": "9vuYQjAfNljQ"
      }
    },
    {
      "cell_type": "markdown",
      "source": [
        "## Rewrite Data Cleaning and Feature Engineering Pipeline"
      ],
      "metadata": {
        "id": "KN4T0UFCE-qy"
      }
    },
    {
      "cell_type": "code",
      "execution_count": 66,
      "source": [
        "def PipelineDataCleaningAndFeatureEngineering():\n",
        "  pipeline_base = Pipeline(\n",
        "      [\n",
        "      (\"OrdinalCategoricalEncoder\",OrdinalEncoder(encoding_method='arbitrary', \n",
        "                                                  # variables = ['MultipleLines', 'Contract', \n",
        "                                                  #              'PaymentMethod','Partner']\n",
        "                                                  variables = ['Contract', 'PaymentMethod']\n",
        "                                                  )\n",
        "      ),\n",
        "       \n",
        "    ]\n",
        "  )\n",
        "\n",
        "  return pipeline_base"
      ],
      "outputs": [],
      "metadata": {
        "id": "MGrvMwV76S1u"
      }
    },
    {
      "cell_type": "markdown",
      "source": [
        "## Rewrite Modelling Pipeline (removes feat_selection)"
      ],
      "metadata": {
        "id": "y0O-hHDpFGqd"
      }
    },
    {
      "cell_type": "code",
      "execution_count": 67,
      "source": [
        "def PipelineOptimization(model):\n",
        "  pipe = PipelineDataCleaningAndFeatureEngineering()\n",
        "  pipe.steps.append([\"scaler\", StandardScaler()])\n",
        "  pipe.steps.append([\"model\", model])\n",
        "  return pipe\n"
      ],
      "outputs": [],
      "metadata": {
        "id": "QGcOyX2y589f"
      }
    },
    {
      "cell_type": "markdown",
      "source": [
        "## Grid Search CV – Sklearn"
      ],
      "metadata": {
        "id": "2fT_mdLWFJFz"
      }
    },
    {
      "cell_type": "markdown",
      "source": [
        "* using most suitable model from last section and it best hyperparameter configuration"
      ],
      "metadata": {
        "id": "r2l_tUNcFLd0"
      }
    },
    {
      "cell_type": "markdown",
      "source": [
        "We are using the same model from the last GridCV search"
      ],
      "metadata": {
        "id": "RfKEBTyLeDtj"
      }
    },
    {
      "cell_type": "code",
      "execution_count": 68,
      "source": [
        "models_search"
      ],
      "outputs": [
        {
          "output_type": "execute_result",
          "data": {
            "text/plain": [
              "{'AdaBoostClassifier': AdaBoostClassifier(random_state=0)}"
            ]
          },
          "metadata": {},
          "execution_count": 68
        }
      ],
      "metadata": {
        "id": "_1qcZktreHH5"
      }
    },
    {
      "cell_type": "markdown",
      "source": [
        "And the best parameters from the last GridCV search"
      ],
      "metadata": {
        "id": "9WaSA9jcecXr"
      }
    },
    {
      "cell_type": "code",
      "execution_count": 69,
      "source": [
        "best_parameters"
      ],
      "outputs": [
        {
          "output_type": "execute_result",
          "data": {
            "text/plain": [
              "{'model__learning_rate': 0.1, 'model__n_estimators': 50}"
            ]
          },
          "metadata": {},
          "execution_count": 69
        }
      ],
      "metadata": {
        "id": "XXi0L025eKA6"
      }
    },
    {
      "cell_type": "markdown",
      "source": [
        "You will need to type in manually, since the hyperparameter values has to be a list. The previous dictonary is not in this format"
      ],
      "metadata": {
        "id": "_7jAkvlBeeQl"
      }
    },
    {
      "cell_type": "code",
      "execution_count": 70,
      "source": [
        "params_search = {'AdaBoostClassifier':  {\n",
        "    'model__learning_rate': [0.1],   # the value should be in []\n",
        "    'model__n_estimators': [50]       # the value should be in []\n",
        "}\n",
        "}\n",
        "params_search"
      ],
      "outputs": [
        {
          "output_type": "execute_result",
          "data": {
            "text/plain": [
              "{'AdaBoostClassifier': {'model__learning_rate': [0.1],\n",
              "  'model__n_estimators': [50]}}"
            ]
          },
          "metadata": {},
          "execution_count": 70
        }
      ],
      "metadata": {
        "id": "u9HBXI2E58_5"
      }
    },
    {
      "cell_type": "markdown",
      "source": [
        "GridSearch CV"
      ],
      "metadata": {
        "id": "zEZYXLRQfvTL"
      }
    },
    {
      "cell_type": "code",
      "execution_count": 71,
      "source": [
        "from sklearn.metrics import make_scorer, f1_score\n",
        "search = HyperparameterOptimizationSearch(models=models_search, params=params_search)\n",
        "search.fit(X_train, y_train,\n",
        "           scoring = make_scorer(f1_score, labels=[0], average=None),\n",
        "           n_jobs=-1,cv=5)"
      ],
      "outputs": [
        {
          "output_type": "stream",
          "name": "stdout",
          "text": [
            "\n",
            "Running GridSearchCV for AdaBoostClassifier \n",
            "\n",
            "Fitting 5 folds for each of 1 candidates, totalling 5 fits\n"
          ]
        },
        {
          "output_type": "stream",
          "name": "stderr",
          "text": [
            "/workspace/.pip-modules/lib/python3.8/site-packages/sklearn/model_selection/_validation.py:615: FitFailedWarning: Estimator fit failed. The score on this train-test partition for these parameters will be set to nan. Details: \n",
            "Traceback (most recent call last):\n",
            "  File \"/workspace/.pip-modules/lib/python3.8/site-packages/sklearn/model_selection/_validation.py\", line 598, in _fit_and_score\n",
            "    estimator.fit(X_train, y_train, **fit_params)\n",
            "  File \"/workspace/.pip-modules/lib/python3.8/site-packages/sklearn/pipeline.py\", line 341, in fit\n",
            "    Xt = self._fit(X, y, **fit_params_steps)\n",
            "  File \"/workspace/.pip-modules/lib/python3.8/site-packages/sklearn/pipeline.py\", line 303, in _fit\n",
            "    X, fitted_transformer = fit_transform_one_cached(\n",
            "  File \"/workspace/.pip-modules/lib/python3.8/site-packages/joblib/memory.py\", line 352, in __call__\n",
            "    return self.func(*args, **kwargs)\n",
            "  File \"/workspace/.pip-modules/lib/python3.8/site-packages/sklearn/pipeline.py\", line 754, in _fit_transform_one\n",
            "    res = transformer.fit_transform(X, y, **fit_params)\n",
            "  File \"/workspace/.pip-modules/lib/python3.8/site-packages/sklearn/base.py\", line 702, in fit_transform\n",
            "    return self.fit(X, y, **fit_params).transform(X)\n",
            "  File \"/workspace/.pip-modules/lib/python3.8/site-packages/feature_engine/encoding/ordinal.py\", line 123, in fit\n",
            "    X = self._check_fit_input_and_variables(X)\n",
            "  File \"/workspace/.pip-modules/lib/python3.8/site-packages/feature_engine/encoding/base_encoder.py\", line 50, in _check_fit_input_and_variables\n",
            "    self.variables: List[Union[str, int]] = _find_or_check_categorical_variables(\n",
            "  File \"/workspace/.pip-modules/lib/python3.8/site-packages/feature_engine/variable_manipulation.py\", line 121, in _find_or_check_categorical_variables\n",
            "    if any(X[variables].select_dtypes(exclude=\"O\").columns):\n",
            "  File \"/workspace/.pip-modules/lib/python3.8/site-packages/pandas/core/frame.py\", line 2908, in __getitem__\n",
            "    indexer = self.loc._get_listlike_indexer(key, axis=1, raise_missing=True)[1]\n",
            "  File \"/workspace/.pip-modules/lib/python3.8/site-packages/pandas/core/indexing.py\", line 1254, in _get_listlike_indexer\n",
            "    self._validate_read_indexer(keyarr, indexer, axis, raise_missing=raise_missing)\n",
            "  File \"/workspace/.pip-modules/lib/python3.8/site-packages/pandas/core/indexing.py\", line 1304, in _validate_read_indexer\n",
            "    raise KeyError(f\"{not_found} not in index\")\n",
            "KeyError: \"['MultipleLines', 'Partner'] not in index\"\n",
            "\n",
            "  warnings.warn(\"Estimator fit failed. The score on this train-test\"\n",
            "/workspace/.pip-modules/lib/python3.8/site-packages/sklearn/model_selection/_validation.py:615: FitFailedWarning: Estimator fit failed. The score on this train-test partition for these parameters will be set to nan. Details: \n",
            "Traceback (most recent call last):\n",
            "  File \"/workspace/.pip-modules/lib/python3.8/site-packages/sklearn/model_selection/_validation.py\", line 598, in _fit_and_score\n",
            "    estimator.fit(X_train, y_train, **fit_params)\n",
            "  File \"/workspace/.pip-modules/lib/python3.8/site-packages/sklearn/pipeline.py\", line 341, in fit\n",
            "    Xt = self._fit(X, y, **fit_params_steps)\n",
            "  File \"/workspace/.pip-modules/lib/python3.8/site-packages/sklearn/pipeline.py\", line 303, in _fit\n",
            "    X, fitted_transformer = fit_transform_one_cached(\n",
            "  File \"/workspace/.pip-modules/lib/python3.8/site-packages/joblib/memory.py\", line 352, in __call__\n",
            "    return self.func(*args, **kwargs)\n",
            "  File \"/workspace/.pip-modules/lib/python3.8/site-packages/sklearn/pipeline.py\", line 754, in _fit_transform_one\n",
            "    res = transformer.fit_transform(X, y, **fit_params)\n",
            "  File \"/workspace/.pip-modules/lib/python3.8/site-packages/sklearn/base.py\", line 702, in fit_transform\n",
            "    return self.fit(X, y, **fit_params).transform(X)\n",
            "  File \"/workspace/.pip-modules/lib/python3.8/site-packages/feature_engine/encoding/ordinal.py\", line 123, in fit\n",
            "    X = self._check_fit_input_and_variables(X)\n",
            "  File \"/workspace/.pip-modules/lib/python3.8/site-packages/feature_engine/encoding/base_encoder.py\", line 50, in _check_fit_input_and_variables\n",
            "    self.variables: List[Union[str, int]] = _find_or_check_categorical_variables(\n",
            "  File \"/workspace/.pip-modules/lib/python3.8/site-packages/feature_engine/variable_manipulation.py\", line 121, in _find_or_check_categorical_variables\n",
            "    if any(X[variables].select_dtypes(exclude=\"O\").columns):\n",
            "  File \"/workspace/.pip-modules/lib/python3.8/site-packages/pandas/core/frame.py\", line 2908, in __getitem__\n",
            "    indexer = self.loc._get_listlike_indexer(key, axis=1, raise_missing=True)[1]\n",
            "  File \"/workspace/.pip-modules/lib/python3.8/site-packages/pandas/core/indexing.py\", line 1254, in _get_listlike_indexer\n",
            "    self._validate_read_indexer(keyarr, indexer, axis, raise_missing=raise_missing)\n",
            "  File \"/workspace/.pip-modules/lib/python3.8/site-packages/pandas/core/indexing.py\", line 1304, in _validate_read_indexer\n",
            "    raise KeyError(f\"{not_found} not in index\")\n",
            "KeyError: \"['MultipleLines', 'Partner'] not in index\"\n",
            "\n",
            "  warnings.warn(\"Estimator fit failed. The score on this train-test\"\n",
            "/workspace/.pip-modules/lib/python3.8/site-packages/sklearn/model_selection/_validation.py:615: FitFailedWarning: Estimator fit failed. The score on this train-test partition for these parameters will be set to nan. Details: \n",
            "Traceback (most recent call last):\n",
            "  File \"/workspace/.pip-modules/lib/python3.8/site-packages/sklearn/model_selection/_validation.py\", line 598, in _fit_and_score\n",
            "    estimator.fit(X_train, y_train, **fit_params)\n",
            "  File \"/workspace/.pip-modules/lib/python3.8/site-packages/sklearn/pipeline.py\", line 341, in fit\n",
            "    Xt = self._fit(X, y, **fit_params_steps)\n",
            "  File \"/workspace/.pip-modules/lib/python3.8/site-packages/sklearn/pipeline.py\", line 303, in _fit\n",
            "    X, fitted_transformer = fit_transform_one_cached(\n",
            "  File \"/workspace/.pip-modules/lib/python3.8/site-packages/joblib/memory.py\", line 352, in __call__\n",
            "    return self.func(*args, **kwargs)\n",
            "  File \"/workspace/.pip-modules/lib/python3.8/site-packages/sklearn/pipeline.py\", line 754, in _fit_transform_one\n",
            "    res = transformer.fit_transform(X, y, **fit_params)\n",
            "  File \"/workspace/.pip-modules/lib/python3.8/site-packages/sklearn/base.py\", line 702, in fit_transform\n",
            "    return self.fit(X, y, **fit_params).transform(X)\n",
            "  File \"/workspace/.pip-modules/lib/python3.8/site-packages/feature_engine/encoding/ordinal.py\", line 123, in fit\n",
            "    X = self._check_fit_input_and_variables(X)\n",
            "  File \"/workspace/.pip-modules/lib/python3.8/site-packages/feature_engine/encoding/base_encoder.py\", line 50, in _check_fit_input_and_variables\n",
            "    self.variables: List[Union[str, int]] = _find_or_check_categorical_variables(\n",
            "  File \"/workspace/.pip-modules/lib/python3.8/site-packages/feature_engine/variable_manipulation.py\", line 121, in _find_or_check_categorical_variables\n",
            "    if any(X[variables].select_dtypes(exclude=\"O\").columns):\n",
            "  File \"/workspace/.pip-modules/lib/python3.8/site-packages/pandas/core/frame.py\", line 2908, in __getitem__\n",
            "    indexer = self.loc._get_listlike_indexer(key, axis=1, raise_missing=True)[1]\n",
            "  File \"/workspace/.pip-modules/lib/python3.8/site-packages/pandas/core/indexing.py\", line 1254, in _get_listlike_indexer\n",
            "    self._validate_read_indexer(keyarr, indexer, axis, raise_missing=raise_missing)\n",
            "  File \"/workspace/.pip-modules/lib/python3.8/site-packages/pandas/core/indexing.py\", line 1304, in _validate_read_indexer\n",
            "    raise KeyError(f\"{not_found} not in index\")\n",
            "KeyError: \"['Partner', 'MultipleLines'] not in index\"\n",
            "\n",
            "  warnings.warn(\"Estimator fit failed. The score on this train-test\"\n",
            "/workspace/.pip-modules/lib/python3.8/site-packages/sklearn/model_selection/_validation.py:615: FitFailedWarning: Estimator fit failed. The score on this train-test partition for these parameters will be set to nan. Details: \n",
            "Traceback (most recent call last):\n",
            "  File \"/workspace/.pip-modules/lib/python3.8/site-packages/sklearn/model_selection/_validation.py\", line 598, in _fit_and_score\n",
            "    estimator.fit(X_train, y_train, **fit_params)\n",
            "  File \"/workspace/.pip-modules/lib/python3.8/site-packages/sklearn/pipeline.py\", line 341, in fit\n",
            "    Xt = self._fit(X, y, **fit_params_steps)\n",
            "  File \"/workspace/.pip-modules/lib/python3.8/site-packages/sklearn/pipeline.py\", line 303, in _fit\n",
            "    X, fitted_transformer = fit_transform_one_cached(\n",
            "  File \"/workspace/.pip-modules/lib/python3.8/site-packages/joblib/memory.py\", line 352, in __call__\n",
            "    return self.func(*args, **kwargs)\n",
            "  File \"/workspace/.pip-modules/lib/python3.8/site-packages/sklearn/pipeline.py\", line 754, in _fit_transform_one\n",
            "    res = transformer.fit_transform(X, y, **fit_params)\n",
            "  File \"/workspace/.pip-modules/lib/python3.8/site-packages/sklearn/base.py\", line 702, in fit_transform\n",
            "    return self.fit(X, y, **fit_params).transform(X)\n",
            "  File \"/workspace/.pip-modules/lib/python3.8/site-packages/feature_engine/encoding/ordinal.py\", line 123, in fit\n",
            "    X = self._check_fit_input_and_variables(X)\n",
            "  File \"/workspace/.pip-modules/lib/python3.8/site-packages/feature_engine/encoding/base_encoder.py\", line 50, in _check_fit_input_and_variables\n",
            "    self.variables: List[Union[str, int]] = _find_or_check_categorical_variables(\n",
            "  File \"/workspace/.pip-modules/lib/python3.8/site-packages/feature_engine/variable_manipulation.py\", line 121, in _find_or_check_categorical_variables\n",
            "    if any(X[variables].select_dtypes(exclude=\"O\").columns):\n",
            "  File \"/workspace/.pip-modules/lib/python3.8/site-packages/pandas/core/frame.py\", line 2908, in __getitem__\n",
            "    indexer = self.loc._get_listlike_indexer(key, axis=1, raise_missing=True)[1]\n",
            "  File \"/workspace/.pip-modules/lib/python3.8/site-packages/pandas/core/indexing.py\", line 1254, in _get_listlike_indexer\n",
            "    self._validate_read_indexer(keyarr, indexer, axis, raise_missing=raise_missing)\n",
            "  File \"/workspace/.pip-modules/lib/python3.8/site-packages/pandas/core/indexing.py\", line 1304, in _validate_read_indexer\n",
            "    raise KeyError(f\"{not_found} not in index\")\n",
            "KeyError: \"['MultipleLines', 'Partner'] not in index\"\n",
            "\n",
            "  warnings.warn(\"Estimator fit failed. The score on this train-test\"\n",
            "/workspace/.pip-modules/lib/python3.8/site-packages/sklearn/model_selection/_validation.py:615: FitFailedWarning: Estimator fit failed. The score on this train-test partition for these parameters will be set to nan. Details: \n",
            "Traceback (most recent call last):\n",
            "  File \"/workspace/.pip-modules/lib/python3.8/site-packages/sklearn/model_selection/_validation.py\", line 598, in _fit_and_score\n",
            "    estimator.fit(X_train, y_train, **fit_params)\n",
            "  File \"/workspace/.pip-modules/lib/python3.8/site-packages/sklearn/pipeline.py\", line 341, in fit\n",
            "    Xt = self._fit(X, y, **fit_params_steps)\n",
            "  File \"/workspace/.pip-modules/lib/python3.8/site-packages/sklearn/pipeline.py\", line 303, in _fit\n",
            "    X, fitted_transformer = fit_transform_one_cached(\n",
            "  File \"/workspace/.pip-modules/lib/python3.8/site-packages/joblib/memory.py\", line 352, in __call__\n",
            "    return self.func(*args, **kwargs)\n",
            "  File \"/workspace/.pip-modules/lib/python3.8/site-packages/sklearn/pipeline.py\", line 754, in _fit_transform_one\n",
            "    res = transformer.fit_transform(X, y, **fit_params)\n",
            "  File \"/workspace/.pip-modules/lib/python3.8/site-packages/sklearn/base.py\", line 702, in fit_transform\n",
            "    return self.fit(X, y, **fit_params).transform(X)\n",
            "  File \"/workspace/.pip-modules/lib/python3.8/site-packages/feature_engine/encoding/ordinal.py\", line 123, in fit\n",
            "    X = self._check_fit_input_and_variables(X)\n",
            "  File \"/workspace/.pip-modules/lib/python3.8/site-packages/feature_engine/encoding/base_encoder.py\", line 50, in _check_fit_input_and_variables\n",
            "    self.variables: List[Union[str, int]] = _find_or_check_categorical_variables(\n",
            "  File \"/workspace/.pip-modules/lib/python3.8/site-packages/feature_engine/variable_manipulation.py\", line 121, in _find_or_check_categorical_variables\n",
            "    if any(X[variables].select_dtypes(exclude=\"O\").columns):\n",
            "  File \"/workspace/.pip-modules/lib/python3.8/site-packages/pandas/core/frame.py\", line 2908, in __getitem__\n",
            "    indexer = self.loc._get_listlike_indexer(key, axis=1, raise_missing=True)[1]\n",
            "  File \"/workspace/.pip-modules/lib/python3.8/site-packages/pandas/core/indexing.py\", line 1254, in _get_listlike_indexer\n",
            "    self._validate_read_indexer(keyarr, indexer, axis, raise_missing=raise_missing)\n",
            "  File \"/workspace/.pip-modules/lib/python3.8/site-packages/pandas/core/indexing.py\", line 1304, in _validate_read_indexer\n",
            "    raise KeyError(f\"{not_found} not in index\")\n",
            "KeyError: \"['MultipleLines', 'Partner'] not in index\"\n",
            "\n",
            "  warnings.warn(\"Estimator fit failed. The score on this train-test\"\n"
          ]
        },
        {
          "output_type": "error",
          "ename": "NotFittedError",
          "evalue": "All estimators failed to fit",
          "traceback": [
            "\u001b[0;31m---------------------------------------------------------------------------\u001b[0m",
            "\u001b[0;31mNotFittedError\u001b[0m                            Traceback (most recent call last)",
            "\u001b[0;32m/tmp/ipykernel_2530/1962633577.py\u001b[0m in \u001b[0;36m<module>\u001b[0;34m\u001b[0m\n\u001b[1;32m      1\u001b[0m \u001b[0;32mfrom\u001b[0m \u001b[0msklearn\u001b[0m\u001b[0;34m.\u001b[0m\u001b[0mmetrics\u001b[0m \u001b[0;32mimport\u001b[0m \u001b[0mmake_scorer\u001b[0m\u001b[0;34m,\u001b[0m \u001b[0mf1_score\u001b[0m\u001b[0;34m\u001b[0m\u001b[0;34m\u001b[0m\u001b[0m\n\u001b[1;32m      2\u001b[0m \u001b[0msearch\u001b[0m \u001b[0;34m=\u001b[0m \u001b[0mHyperparameterOptimizationSearch\u001b[0m\u001b[0;34m(\u001b[0m\u001b[0mmodels\u001b[0m\u001b[0;34m=\u001b[0m\u001b[0mmodels_search\u001b[0m\u001b[0;34m,\u001b[0m \u001b[0mparams\u001b[0m\u001b[0;34m=\u001b[0m\u001b[0mparams_search\u001b[0m\u001b[0;34m)\u001b[0m\u001b[0;34m\u001b[0m\u001b[0;34m\u001b[0m\u001b[0m\n\u001b[0;32m----> 3\u001b[0;31m search.fit(X_train, y_train,\n\u001b[0m\u001b[1;32m      4\u001b[0m            \u001b[0mscoring\u001b[0m \u001b[0;34m=\u001b[0m \u001b[0mmake_scorer\u001b[0m\u001b[0;34m(\u001b[0m\u001b[0mf1_score\u001b[0m\u001b[0;34m,\u001b[0m \u001b[0mlabels\u001b[0m\u001b[0;34m=\u001b[0m\u001b[0;34m[\u001b[0m\u001b[0;36m0\u001b[0m\u001b[0;34m]\u001b[0m\u001b[0;34m,\u001b[0m \u001b[0maverage\u001b[0m\u001b[0;34m=\u001b[0m\u001b[0;32mNone\u001b[0m\u001b[0;34m)\u001b[0m\u001b[0;34m,\u001b[0m\u001b[0;34m\u001b[0m\u001b[0;34m\u001b[0m\u001b[0m\n\u001b[1;32m      5\u001b[0m            n_jobs=-1,cv=5)\n",
            "\u001b[0;32m/tmp/ipykernel_2530/2437944502.py\u001b[0m in \u001b[0;36mfit\u001b[0;34m(self, X, y, cv, n_jobs, verbose, scoring, refit)\u001b[0m\n\u001b[1;32m     15\u001b[0m             \u001b[0mparams\u001b[0m \u001b[0;34m=\u001b[0m \u001b[0mself\u001b[0m\u001b[0;34m.\u001b[0m\u001b[0mparams\u001b[0m\u001b[0;34m[\u001b[0m\u001b[0mkey\u001b[0m\u001b[0;34m]\u001b[0m\u001b[0;34m\u001b[0m\u001b[0;34m\u001b[0m\u001b[0m\n\u001b[1;32m     16\u001b[0m             \u001b[0mgs\u001b[0m \u001b[0;34m=\u001b[0m \u001b[0mGridSearchCV\u001b[0m\u001b[0;34m(\u001b[0m\u001b[0mmodel\u001b[0m\u001b[0;34m,\u001b[0m \u001b[0mparams\u001b[0m\u001b[0;34m,\u001b[0m \u001b[0mcv\u001b[0m\u001b[0;34m=\u001b[0m\u001b[0mcv\u001b[0m\u001b[0;34m,\u001b[0m \u001b[0mn_jobs\u001b[0m\u001b[0;34m=\u001b[0m\u001b[0mn_jobs\u001b[0m\u001b[0;34m,\u001b[0m \u001b[0mverbose\u001b[0m\u001b[0;34m=\u001b[0m\u001b[0mverbose\u001b[0m\u001b[0;34m,\u001b[0m \u001b[0mscoring\u001b[0m\u001b[0;34m=\u001b[0m\u001b[0mscoring\u001b[0m\u001b[0;34m)\u001b[0m\u001b[0;34m\u001b[0m\u001b[0;34m\u001b[0m\u001b[0m\n\u001b[0;32m---> 17\u001b[0;31m             \u001b[0mgs\u001b[0m\u001b[0;34m.\u001b[0m\u001b[0mfit\u001b[0m\u001b[0;34m(\u001b[0m\u001b[0mX\u001b[0m\u001b[0;34m,\u001b[0m\u001b[0my\u001b[0m\u001b[0;34m)\u001b[0m\u001b[0;34m\u001b[0m\u001b[0;34m\u001b[0m\u001b[0m\n\u001b[0m\u001b[1;32m     18\u001b[0m             \u001b[0mself\u001b[0m\u001b[0;34m.\u001b[0m\u001b[0mgrid_searches\u001b[0m\u001b[0;34m[\u001b[0m\u001b[0mkey\u001b[0m\u001b[0;34m]\u001b[0m \u001b[0;34m=\u001b[0m \u001b[0mgs\u001b[0m\u001b[0;34m\u001b[0m\u001b[0;34m\u001b[0m\u001b[0m\n\u001b[1;32m     19\u001b[0m \u001b[0;34m\u001b[0m\u001b[0m\n",
            "\u001b[0;32m/workspace/.pip-modules/lib/python3.8/site-packages/sklearn/utils/validation.py\u001b[0m in \u001b[0;36minner_f\u001b[0;34m(*args, **kwargs)\u001b[0m\n\u001b[1;32m     61\u001b[0m             \u001b[0mextra_args\u001b[0m \u001b[0;34m=\u001b[0m \u001b[0mlen\u001b[0m\u001b[0;34m(\u001b[0m\u001b[0margs\u001b[0m\u001b[0;34m)\u001b[0m \u001b[0;34m-\u001b[0m \u001b[0mlen\u001b[0m\u001b[0;34m(\u001b[0m\u001b[0mall_args\u001b[0m\u001b[0;34m)\u001b[0m\u001b[0;34m\u001b[0m\u001b[0;34m\u001b[0m\u001b[0m\n\u001b[1;32m     62\u001b[0m             \u001b[0;32mif\u001b[0m \u001b[0mextra_args\u001b[0m \u001b[0;34m<=\u001b[0m \u001b[0;36m0\u001b[0m\u001b[0;34m:\u001b[0m\u001b[0;34m\u001b[0m\u001b[0;34m\u001b[0m\u001b[0m\n\u001b[0;32m---> 63\u001b[0;31m                 \u001b[0;32mreturn\u001b[0m \u001b[0mf\u001b[0m\u001b[0;34m(\u001b[0m\u001b[0;34m*\u001b[0m\u001b[0margs\u001b[0m\u001b[0;34m,\u001b[0m \u001b[0;34m**\u001b[0m\u001b[0mkwargs\u001b[0m\u001b[0;34m)\u001b[0m\u001b[0;34m\u001b[0m\u001b[0;34m\u001b[0m\u001b[0m\n\u001b[0m\u001b[1;32m     64\u001b[0m \u001b[0;34m\u001b[0m\u001b[0m\n\u001b[1;32m     65\u001b[0m             \u001b[0;31m# extra_args > 0\u001b[0m\u001b[0;34m\u001b[0m\u001b[0;34m\u001b[0m\u001b[0;34m\u001b[0m\u001b[0m\n",
            "\u001b[0;32m/workspace/.pip-modules/lib/python3.8/site-packages/sklearn/model_selection/_search.py\u001b[0m in \u001b[0;36mfit\u001b[0;34m(self, X, y, groups, **fit_params)\u001b[0m\n\u001b[1;32m    839\u001b[0m                 \u001b[0;32mreturn\u001b[0m \u001b[0mresults\u001b[0m\u001b[0;34m\u001b[0m\u001b[0;34m\u001b[0m\u001b[0m\n\u001b[1;32m    840\u001b[0m \u001b[0;34m\u001b[0m\u001b[0m\n\u001b[0;32m--> 841\u001b[0;31m             \u001b[0mself\u001b[0m\u001b[0;34m.\u001b[0m\u001b[0m_run_search\u001b[0m\u001b[0;34m(\u001b[0m\u001b[0mevaluate_candidates\u001b[0m\u001b[0;34m)\u001b[0m\u001b[0;34m\u001b[0m\u001b[0;34m\u001b[0m\u001b[0m\n\u001b[0m\u001b[1;32m    842\u001b[0m \u001b[0;34m\u001b[0m\u001b[0m\n\u001b[1;32m    843\u001b[0m             \u001b[0;31m# multimetric is determined here because in the case of a callable\u001b[0m\u001b[0;34m\u001b[0m\u001b[0;34m\u001b[0m\u001b[0;34m\u001b[0m\u001b[0m\n",
            "\u001b[0;32m/workspace/.pip-modules/lib/python3.8/site-packages/sklearn/model_selection/_search.py\u001b[0m in \u001b[0;36m_run_search\u001b[0;34m(self, evaluate_candidates)\u001b[0m\n\u001b[1;32m   1294\u001b[0m     \u001b[0;32mdef\u001b[0m \u001b[0m_run_search\u001b[0m\u001b[0;34m(\u001b[0m\u001b[0mself\u001b[0m\u001b[0;34m,\u001b[0m \u001b[0mevaluate_candidates\u001b[0m\u001b[0;34m)\u001b[0m\u001b[0;34m:\u001b[0m\u001b[0;34m\u001b[0m\u001b[0;34m\u001b[0m\u001b[0m\n\u001b[1;32m   1295\u001b[0m         \u001b[0;34m\"\"\"Search all candidates in param_grid\"\"\"\u001b[0m\u001b[0;34m\u001b[0m\u001b[0;34m\u001b[0m\u001b[0m\n\u001b[0;32m-> 1296\u001b[0;31m         \u001b[0mevaluate_candidates\u001b[0m\u001b[0;34m(\u001b[0m\u001b[0mParameterGrid\u001b[0m\u001b[0;34m(\u001b[0m\u001b[0mself\u001b[0m\u001b[0;34m.\u001b[0m\u001b[0mparam_grid\u001b[0m\u001b[0;34m)\u001b[0m\u001b[0;34m)\u001b[0m\u001b[0;34m\u001b[0m\u001b[0;34m\u001b[0m\u001b[0m\n\u001b[0m\u001b[1;32m   1297\u001b[0m \u001b[0;34m\u001b[0m\u001b[0m\n\u001b[1;32m   1298\u001b[0m \u001b[0;34m\u001b[0m\u001b[0m\n",
            "\u001b[0;32m/workspace/.pip-modules/lib/python3.8/site-packages/sklearn/model_selection/_search.py\u001b[0m in \u001b[0;36mevaluate_candidates\u001b[0;34m(candidate_params, cv, more_results)\u001b[0m\n\u001b[1;32m    825\u001b[0m                 \u001b[0;31m# of out will be done in `_insert_error_scores`.\u001b[0m\u001b[0;34m\u001b[0m\u001b[0;34m\u001b[0m\u001b[0;34m\u001b[0m\u001b[0m\n\u001b[1;32m    826\u001b[0m                 \u001b[0;32mif\u001b[0m \u001b[0mcallable\u001b[0m\u001b[0;34m(\u001b[0m\u001b[0mself\u001b[0m\u001b[0;34m.\u001b[0m\u001b[0mscoring\u001b[0m\u001b[0;34m)\u001b[0m\u001b[0;34m:\u001b[0m\u001b[0;34m\u001b[0m\u001b[0;34m\u001b[0m\u001b[0m\n\u001b[0;32m--> 827\u001b[0;31m                     \u001b[0m_insert_error_scores\u001b[0m\u001b[0;34m(\u001b[0m\u001b[0mout\u001b[0m\u001b[0;34m,\u001b[0m \u001b[0mself\u001b[0m\u001b[0;34m.\u001b[0m\u001b[0merror_score\u001b[0m\u001b[0;34m)\u001b[0m\u001b[0;34m\u001b[0m\u001b[0;34m\u001b[0m\u001b[0m\n\u001b[0m\u001b[1;32m    828\u001b[0m                 \u001b[0mall_candidate_params\u001b[0m\u001b[0;34m.\u001b[0m\u001b[0mextend\u001b[0m\u001b[0;34m(\u001b[0m\u001b[0mcandidate_params\u001b[0m\u001b[0;34m)\u001b[0m\u001b[0;34m\u001b[0m\u001b[0;34m\u001b[0m\u001b[0m\n\u001b[1;32m    829\u001b[0m                 \u001b[0mall_out\u001b[0m\u001b[0;34m.\u001b[0m\u001b[0mextend\u001b[0m\u001b[0;34m(\u001b[0m\u001b[0mout\u001b[0m\u001b[0;34m)\u001b[0m\u001b[0;34m\u001b[0m\u001b[0;34m\u001b[0m\u001b[0m\n",
            "\u001b[0;32m/workspace/.pip-modules/lib/python3.8/site-packages/sklearn/model_selection/_validation.py\u001b[0m in \u001b[0;36m_insert_error_scores\u001b[0;34m(results, error_score)\u001b[0m\n\u001b[1;32m    299\u001b[0m \u001b[0;34m\u001b[0m\u001b[0m\n\u001b[1;32m    300\u001b[0m     \u001b[0;32mif\u001b[0m \u001b[0msuccessful_score\u001b[0m \u001b[0;32mis\u001b[0m \u001b[0;32mNone\u001b[0m\u001b[0;34m:\u001b[0m\u001b[0;34m\u001b[0m\u001b[0;34m\u001b[0m\u001b[0m\n\u001b[0;32m--> 301\u001b[0;31m         \u001b[0;32mraise\u001b[0m \u001b[0mNotFittedError\u001b[0m\u001b[0;34m(\u001b[0m\u001b[0;34m\"All estimators failed to fit\"\u001b[0m\u001b[0;34m)\u001b[0m\u001b[0;34m\u001b[0m\u001b[0;34m\u001b[0m\u001b[0m\n\u001b[0m\u001b[1;32m    302\u001b[0m \u001b[0;34m\u001b[0m\u001b[0m\n\u001b[1;32m    303\u001b[0m     \u001b[0;32mif\u001b[0m \u001b[0misinstance\u001b[0m\u001b[0;34m(\u001b[0m\u001b[0msuccessful_score\u001b[0m\u001b[0;34m,\u001b[0m \u001b[0mdict\u001b[0m\u001b[0;34m)\u001b[0m\u001b[0;34m:\u001b[0m\u001b[0;34m\u001b[0m\u001b[0;34m\u001b[0m\u001b[0m\n",
            "\u001b[0;31mNotFittedError\u001b[0m: All estimators failed to fit"
          ]
        }
      ],
      "metadata": {
        "id": "msJPkpo8fFAI"
      }
    },
    {
      "cell_type": "markdown",
      "source": [
        "\n",
        "Check results"
      ],
      "metadata": {
        "id": "OcgDvuLRfwsE"
      }
    },
    {
      "cell_type": "code",
      "execution_count": null,
      "source": [
        "grid_search_summary, grid_search_pipelines = search.score_summary(sort_by='mean_score')\n",
        "grid_search_summary"
      ],
      "outputs": [],
      "metadata": {
        "id": "loZEVp8g6q9O"
      }
    },
    {
      "cell_type": "markdown",
      "source": [
        "Check the best model"
      ],
      "metadata": {
        "id": "3TE6Xgvif1ek"
      }
    },
    {
      "cell_type": "code",
      "execution_count": null,
      "source": [
        "best_model = grid_search_summary.iloc[0,0]\n",
        "best_model"
      ],
      "outputs": [],
      "metadata": {
        "id": "sf6qYXV06q9O"
      }
    },
    {
      "cell_type": "markdown",
      "source": [
        "Parameters for best model"
      ],
      "metadata": {
        "id": "KL2y9Zpgf4ZK"
      }
    },
    {
      "cell_type": "code",
      "execution_count": null,
      "source": [
        "grid_search_pipelines[best_model].best_params_"
      ],
      "outputs": [],
      "metadata": {
        "id": "oK7kFD5O6q9O"
      }
    },
    {
      "cell_type": "markdown",
      "source": [
        "Define the best clf pipeline"
      ],
      "metadata": {
        "id": "oeB08Md3f60p"
      }
    },
    {
      "cell_type": "code",
      "execution_count": null,
      "source": [
        "pipeline_clf = grid_search_pipelines[best_model].best_estimator_\n",
        "pipeline_clf"
      ],
      "outputs": [],
      "metadata": {
        "id": "YuA9mpyk6q9P"
      }
    },
    {
      "cell_type": "markdown",
      "source": [
        "## Assess feature importance"
      ],
      "metadata": {
        "id": "IN0aj0iv6q9P"
      }
    },
    {
      "cell_type": "code",
      "execution_count": null,
      "source": [
        "# after data cleaning and feat engine, the feature space changes\n",
        "columns_after_data_cleaning_feat_eng = (PipelineDataCleaningAndFeatureEngineering()\n",
        "                                        .fit_transform(X_train)\n",
        "                                        .columns)\n",
        "\n",
        "best_features = columns_after_data_cleaning_feat_eng\n",
        "\n",
        "# create DataFrame to display feature importance\n",
        "df_feature_importance = (pd.DataFrame(data={\n",
        "          'Attribute': columns_after_data_cleaning_feat_eng,\n",
        "          'Importance': pipeline_clf['model'].feature_importances_})\n",
        "  .sort_values(by='Importance', ascending=False)\n",
        "  )\n",
        "\n",
        "# Most important features statement and plot\n",
        "print(f\"* These are the {len(best_features)} most important features in descending order. \"\n",
        "      f\"The model was trained on them: \\n{df_feature_importance['Attribute'].to_list()}\")\n",
        "\n",
        "df_feature_importance.plot(kind='bar',x='Attribute',y='Importance')\n",
        "plt.show()"
      ],
      "outputs": [],
      "metadata": {
        "id": "dN-blGZb6q9P"
      }
    },
    {
      "cell_type": "markdown",
      "source": [
        "## Evaluate Classifier on Train and Test Sets"
      ],
      "metadata": {
        "id": "h7fjgzReFYeM"
      }
    },
    {
      "cell_type": "code",
      "execution_count": null,
      "source": [
        "ClfPerformanceTrainTestSet(X_train, y_train ,X_test, y_test,\n",
        "                        pipeline_clf,\n",
        "                        LabelsMap=labels_map )"
      ],
      "outputs": [],
      "metadata": {
        "id": "aPeKtw3A59C3"
      }
    },
    {
      "cell_type": "markdown",
      "source": [
        "# Push files to the repo"
      ],
      "metadata": {
        "id": "GBtppR73G1Yx"
      }
    },
    {
      "cell_type": "markdown",
      "source": [
        "We will generate the following files\n",
        "\n",
        "* Train set\n",
        "* Test set\n",
        "* Modeling pipeline\n",
        "* label map\n",
        "* features importance plot"
      ],
      "metadata": {
        "id": "ShuJ5tYUC06o"
      }
    },
    {
      "cell_type": "code",
      "execution_count": null,
      "source": [
        "import joblib\n",
        "import os\n",
        "\n",
        "version = 'v1'\n",
        "file_path = f'outputs/ml_pipeline/predict_tenure/{version}'\n",
        "\n",
        "try:\n",
        "  os.makedirs(name=file_path)\n",
        "except Exception as e:\n",
        "  print(e)"
      ],
      "outputs": [],
      "metadata": {
        "id": "8vBpPvnaG5Mb"
      }
    },
    {
      "cell_type": "markdown",
      "source": [
        "## Train Set : features and target"
      ],
      "metadata": {
        "id": "4TvoMsi3DNw1"
      }
    },
    {
      "cell_type": "code",
      "execution_count": null,
      "source": [
        "X_train.head()"
      ],
      "outputs": [],
      "metadata": {
        "id": "yJHmwyqgDOr1"
      }
    },
    {
      "cell_type": "code",
      "execution_count": null,
      "source": [
        "X_train.to_csv(f\"{file_path}/X_train.csv\", index=False)"
      ],
      "outputs": [],
      "metadata": {
        "id": "yh6w6R7tDOvM"
      }
    },
    {
      "cell_type": "code",
      "execution_count": null,
      "source": [
        "y_train"
      ],
      "outputs": [],
      "metadata": {
        "id": "pB6pjmAcDOym"
      }
    },
    {
      "cell_type": "code",
      "execution_count": null,
      "source": [
        "y_train.to_csv(f\"{file_path}/y_train.csv\", index=False)"
      ],
      "outputs": [],
      "metadata": {
        "id": "ZZ93HN6cDPBN"
      }
    },
    {
      "cell_type": "markdown",
      "source": [
        "## Test Set: features and target"
      ],
      "metadata": {
        "id": "aVbS3OnRDYtJ"
      }
    },
    {
      "cell_type": "code",
      "execution_count": null,
      "source": [
        "X_test.head()"
      ],
      "outputs": [],
      "metadata": {
        "id": "XbgF38n1DaPp"
      }
    },
    {
      "cell_type": "code",
      "execution_count": null,
      "source": [
        "X_test.to_csv(f\"{file_path}/X_test.csv\", index=False)"
      ],
      "outputs": [],
      "metadata": {
        "id": "x9lM0xDvDaVZ"
      }
    },
    {
      "cell_type": "code",
      "execution_count": null,
      "source": [
        "y_test"
      ],
      "outputs": [],
      "metadata": {
        "id": "5Jz66iMaDacI"
      }
    },
    {
      "cell_type": "code",
      "execution_count": null,
      "source": [
        "y_test.to_csv(f\"{file_path}/y_test.csv\", index=False)"
      ],
      "outputs": [],
      "metadata": {
        "id": "weYaJ4UxDake"
      }
    },
    {
      "cell_type": "markdown",
      "source": [
        "## Modelling pipeline (that includes Data Cleaning and Feat Eng pipeline)"
      ],
      "metadata": {
        "id": "U-XpkYAPFncu"
      }
    },
    {
      "cell_type": "markdown",
      "source": [
        "ML pipeline for predicting tenure"
      ],
      "metadata": {
        "id": "xLmFFWF6RGo6"
      }
    },
    {
      "cell_type": "code",
      "execution_count": null,
      "source": [
        "pipeline_clf"
      ],
      "outputs": [],
      "metadata": {
        "id": "vQkr4rcrHDnn"
      }
    },
    {
      "cell_type": "code",
      "execution_count": null,
      "source": [
        "joblib.dump(value=pipeline_clf ,\n",
        "            filename=f\"{file_path}/clf_pipeline.pkl\")"
      ],
      "outputs": [],
      "metadata": {
        "id": "YrZPif2aHdyO"
      }
    },
    {
      "cell_type": "markdown",
      "source": [
        "## Dictionary mapping target levels to bins"
      ],
      "metadata": {
        "id": "LUCrXGvUFpeB"
      }
    },
    {
      "cell_type": "markdown",
      "source": [
        "Map for converting numerical variable to categorical variable"
      ],
      "metadata": {
        "id": "TFkAKp0eRMYM"
      }
    },
    {
      "cell_type": "code",
      "execution_count": null,
      "source": [
        "labels_map"
      ],
      "outputs": [],
      "metadata": {
        "id": "V6HfkzarHHbW"
      }
    },
    {
      "cell_type": "code",
      "execution_count": null,
      "source": [
        "joblib.dump(value=labels_map ,\n",
        "            filename=f\"{file_path}/labels_map.pkl\")"
      ],
      "outputs": [],
      "metadata": {
        "id": "TPEpdAgPHQaL"
      }
    },
    {
      "cell_type": "markdown",
      "source": [
        "## Feature importance plot"
      ],
      "metadata": {
        "id": "tTJlYRC5Q2wJ"
      }
    },
    {
      "cell_type": "code",
      "execution_count": null,
      "source": [
        "df_feature_importance.plot(kind='bar', x='Attribute', y='Importance')\n",
        "plt.show()"
      ],
      "outputs": [],
      "metadata": {
        "id": "0SfLH05-Q2D8"
      }
    },
    {
      "cell_type": "code",
      "execution_count": null,
      "source": [
        "df_feature_importance.plot(kind='bar',x='Attribute',y='Importance')\n",
        "plt.savefig(f'{file_path}/features_importance.png', bbox_inches='tight')"
      ],
      "outputs": [],
      "metadata": {
        "id": "R-Hc2H3dQ74Z"
      }
    },
    {
      "cell_type": "markdown",
      "source": [
        "## **Push** generated/new files from this Session to GitHub repo"
      ],
      "metadata": {
        "id": "257gMsNhiuM3"
      }
    },
    {
      "cell_type": "markdown",
      "source": [
        "Now you can push the files to the GitHub repo!!!"
      ],
      "metadata": {
        "id": "5Qwo5rjVFsnL"
      }
    },
    {
      "cell_type": "markdown",
      "source": [
        "* Git status"
      ],
      "metadata": {
        "id": "FUla5863TKyk"
      }
    },
    {
      "cell_type": "code",
      "execution_count": null,
      "source": [
        "! git status"
      ],
      "outputs": [],
      "metadata": {
        "id": "NzjZgWV-TMOB"
      }
    },
    {
      "cell_type": "markdown",
      "source": [
        "* Git commit"
      ],
      "metadata": {
        "id": "lH_xeleqiuM4"
      }
    },
    {
      "cell_type": "code",
      "execution_count": null,
      "source": [
        "CommitMsg = \"added-files-predict-tenure\"\n",
        "! git add .\n",
        "! git commit -m {CommitMsg}"
      ],
      "outputs": [],
      "metadata": {
        "id": "VpFefbLXiuM4"
      }
    },
    {
      "cell_type": "markdown",
      "source": [
        "* Git Push"
      ],
      "metadata": {
        "id": "msFKrJ6fiuM5"
      }
    },
    {
      "cell_type": "code",
      "execution_count": null,
      "source": [
        "! git push origin main"
      ],
      "outputs": [],
      "metadata": {
        "id": "QZxYGf_yiuM5"
      }
    },
    {
      "cell_type": "markdown",
      "source": [
        "Good job! Save the notebook in your repo.\n",
        "\n",
        "Then, terminate the session (Runtime - Manage Sessions - Terminate)"
      ],
      "metadata": {
        "id": "Sh0SKfv_s-3V"
      }
    }
  ]
}