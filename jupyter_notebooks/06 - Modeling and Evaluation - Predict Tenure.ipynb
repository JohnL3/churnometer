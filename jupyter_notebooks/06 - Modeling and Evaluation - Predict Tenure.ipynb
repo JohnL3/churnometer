{
  "nbformat": 4,
  "nbformat_minor": 2,
  "metadata": {
    "orig_nbformat": 2,
    "colab": {
      "name": "Modeling and Evaluation - Predict Tenure.ipynb",
      "provenance": []
    },
    "language_info": {
      "name": "python",
      "version": "3.8.12",
      "mimetype": "text/x-python",
      "codemirror_mode": {
        "name": "ipython",
        "version": 3
      },
      "pygments_lexer": "ipython3",
      "nbconvert_exporter": "python",
      "file_extension": ".py"
    },
    "kernelspec": {
      "name": "python3",
      "display_name": "Python 3.8.12 64-bit ('3.8.12': pyenv)"
    },
    "accelerator": "GPU",
    "interpreter": {
      "hash": "625c31d6b4db3d7e7e2853cc30dc2062e1cda684f3e49d5f899ae496ae755fe0"
    }
  },
  "cells": [
    {
      "cell_type": "markdown",
      "source": [
        "# Regression"
      ],
      "metadata": {
        "id": "0aStgWSO0E0E"
      }
    },
    {
      "cell_type": "markdown",
      "source": [
        "## Objectives\n",
        "\n",
        "*   Fit and evaluate a regression model to predict tenure levels for a prospect that will likely churn\n",
        "\n",
        "\n",
        "## Inputs\n",
        "\n",
        "* outputs/datasets/collection/TelcoCustomerChurn.csv\n",
        "* instructions on which variables to use for data cleaning and feature engineering. They are found on its respectives notebooks.\n",
        "\n",
        "## Outputs\n",
        "\n",
        "* Train set (features and target)\n",
        "* Test set (features and target)\n",
        "* ML pipeline to predict tenure\n",
        "* labels map\n",
        "* Feature Importance Plot\n",
        "\n"
      ],
      "metadata": {
        "id": "1eLEkw5O0ECa"
      }
    },
    {
      "cell_type": "markdown",
      "source": [
        "---"
      ],
      "metadata": {
        "id": "9uWZXH9LwoQg"
      }
    },
    {
      "cell_type": "markdown",
      "source": [
        "# Change working directory"
      ],
      "metadata": {}
    },
    {
      "cell_type": "markdown",
      "source": [
        "We need to change the working directory from its current folder to its parent folder\n",
        "* We access the current directory with os.getcwd()"
      ],
      "metadata": {}
    },
    {
      "cell_type": "code",
      "execution_count": null,
      "source": [
        "import os\n",
        "current_dir = os.getcwd()\n",
        "current_dir"
      ],
      "outputs": [],
      "metadata": {}
    },
    {
      "cell_type": "markdown",
      "source": [
        "We want to make the parent of the parent of current directory the new current directory\n",
        "* os.path.dirname() gets the parent directory\n",
        "* os.chir() defines the new current directory"
      ],
      "metadata": {}
    },
    {
      "cell_type": "code",
      "execution_count": null,
      "source": [
        "os.chdir(os.path.dirname(current_dir))\n",
        "print(\"You set a new current directory\")"
      ],
      "outputs": [],
      "metadata": {}
    },
    {
      "cell_type": "markdown",
      "source": [
        "Confirm the new current directory"
      ],
      "metadata": {}
    },
    {
      "cell_type": "code",
      "execution_count": null,
      "source": [
        "current_dir = os.getcwd()\n",
        "current_dir"
      ],
      "outputs": [],
      "metadata": {}
    },
    {
      "cell_type": "markdown",
      "source": [
        "---"
      ],
      "metadata": {
        "id": "pXKlJFX0iuM5"
      }
    },
    {
      "cell_type": "markdown",
      "source": [
        "# Load Data for Modelling"
      ],
      "metadata": {
        "id": "-mavJ8DibrcQ"
      }
    },
    {
      "cell_type": "code",
      "execution_count": null,
      "source": [
        "import numpy as np\n",
        "import pandas as pd\n",
        "df = (pd.read_csv(\"outputs/datasets/collection/TelcoCustomerChurn.csv\")\n",
        "      .query(\"Churn == 1\")  # subset churned customer\n",
        "      .drop(labels=['customerID','TotalCharges','Churn'],axis=1)  \n",
        "                    # variables we will not need for this project\n",
        "                    # we will not need Churn, since it is has only 1\n",
        "  )\n",
        "\n",
        "df.info()"
      ],
      "outputs": [],
      "metadata": {
        "id": "Xk7DU_ekbtX8"
      }
    },
    {
      "cell_type": "markdown",
      "source": [
        "# Regressor: Sklearn"
      ],
      "metadata": {
        "id": "krjAk78Tbyhv"
      }
    },
    {
      "cell_type": "markdown",
      "source": [
        "* In the ML Pipeline, we are using the raw data, therefore we need to create the pipeline with data cleaninig and feature engineering steps\n",
        "  * This pipeline will be used in the Train Set, Test Set and Live Data"
      ],
      "metadata": {
        "id": "wr9LUaOV08Su"
      }
    },
    {
      "cell_type": "markdown",
      "source": [
        "### ML pipeline for Data Cleaning and Feature Engineering"
      ],
      "metadata": {
        "id": "HzSg8Iwjl7dz"
      }
    },
    {
      "cell_type": "markdown",
      "source": [
        "Load Estimators"
      ],
      "metadata": {
        "id": "4MK_AHgh86Sc"
      }
    },
    {
      "cell_type": "code",
      "execution_count": null,
      "source": [
        "from sklearn.pipeline import Pipeline\n",
        "\n",
        "### Feature Engineering\n",
        "from feature_engine.encoding import OrdinalEncoder\n",
        "from feature_engine.selection import SmartCorrelatedSelection\n",
        "\n",
        "\n",
        "### Feat Scaling\n",
        "from sklearn.preprocessing import StandardScaler\n",
        "\n",
        "### Feat Selection\n",
        "from sklearn.feature_selection import SelectFromModel\n",
        "\n",
        "### ML algorithms \n",
        "from sklearn.tree import DecisionTreeRegressor\n",
        "from xgboost import XGBRegressor\n",
        "from sklearn.ensemble import GradientBoostingRegressor, RandomForestRegressor\n",
        "from sklearn.linear_model import LinearRegression\n",
        "from sklearn.ensemble import AdaBoostRegressor\n",
        "from sklearn.ensemble import ExtraTreesRegressor"
      ],
      "outputs": [],
      "metadata": {
        "id": "AFUD8ofWl7nm"
      }
    },
    {
      "cell_type": "markdown",
      "source": [
        " Pipeline for Data Cleaning and Feat Eng"
      ],
      "metadata": {
        "id": "fr0kimOaAjL6"
      }
    },
    {
      "cell_type": "code",
      "execution_count": null,
      "source": [
        "def PipelineDataCleaningAndFeatureEngineering():\n",
        "  pipeline_base = Pipeline(\n",
        "      [\n",
        "\n",
        "      (\"OrdinalCategoricalEncoder\",OrdinalEncoder(encoding_method='arbitrary', \n",
        "                                                  variables = [ 'gender', 'Partner', 'Dependents', 'PhoneService',\n",
        "                                                               'MultipleLines', 'InternetService', 'OnlineSecurity',\n",
        "                                                               'OnlineBackup','DeviceProtection', 'TechSupport', \n",
        "                                                               'StreamingTV', 'StreamingMovies','Contract', \n",
        "                                                               'PaperlessBilling', 'PaymentMethod']\n",
        "                                                  )\n",
        "      ),      \n",
        "       \n",
        "\n",
        "      (\"SmartCorrelatedSelection\",SmartCorrelatedSelection(variables=None, method=\"spearman\",\n",
        "                                                           threshold=0.6,selection_method=\"variance\")\n",
        "      ),\n",
        "       \n",
        "    ]\n",
        "  )\n",
        "\n",
        "  return pipeline_base"
      ],
      "outputs": [],
      "metadata": {
        "id": "C6keis6ao8LA"
      }
    },
    {
      "cell_type": "markdown",
      "source": [
        "## ML Pipeline for Modelling and Hyperparameter Optimization"
      ],
      "metadata": {
        "id": "TWTrFyxZWVar"
      }
    },
    {
      "cell_type": "markdown",
      "source": [
        "* Pipeline Optmization: Add Feature Scaling, Feature Selection and Model"
      ],
      "metadata": {
        "id": "hF9V5_ctHbO7"
      }
    },
    {
      "cell_type": "code",
      "execution_count": null,
      "source": [
        "def PipelineOptimization(model):\n",
        "  pipe = PipelineDataCleaningAndFeatureEngineering()\n",
        "  pipe.steps.append([\"scaler\", StandardScaler()])\n",
        "  pipe.steps.append([\"feat_selection\", SelectFromModel(model)])\n",
        "  pipe.steps.append([\"model\", model])\n",
        "  \n",
        "  return pipe"
      ],
      "outputs": [],
      "metadata": {
        "id": "h8lGTb0yHbZq"
      }
    },
    {
      "cell_type": "markdown",
      "source": [
        "Custom Class for hyperparameter Optimization"
      ],
      "metadata": {
        "id": "lDmjjF3tHuCU"
      }
    },
    {
      "cell_type": "code",
      "execution_count": null,
      "source": [
        "from sklearn.model_selection import GridSearchCV\n",
        "class HyperparameterOptimizationSearch:\n",
        "\n",
        "    def __init__(self, models, params):\n",
        "        self.models = models\n",
        "        self.params = params\n",
        "        self.keys = models.keys()\n",
        "        self.grid_searches = {}\n",
        "\n",
        "    def fit(self, X, y, cv, n_jobs, verbose=1, scoring=None, refit=False):\n",
        "        for key in self.keys:\n",
        "            print(f\"\\nRunning GridSearchCV for {key} \\n\")\n",
        "            model=  PipelineOptimization(self.models[key])\n",
        "\n",
        "            params = self.params[key]\n",
        "            gs = GridSearchCV(model, params, cv=cv, n_jobs=n_jobs, verbose=verbose, scoring=scoring)\n",
        "            gs.fit(X,y)\n",
        "            self.grid_searches[key] = gs    \n",
        "\n",
        "    def score_summary(self, sort_by='mean_score'):\n",
        "        def row(key, scores, params):\n",
        "            d = {\n",
        "                 'estimator': key,\n",
        "                 'min_score': min(scores),\n",
        "                 'max_score': max(scores),\n",
        "                 'mean_score': np.mean(scores),\n",
        "                 'std_score': np.std(scores),\n",
        "            }\n",
        "            return pd.Series({**params,**d})\n",
        "\n",
        "        rows = []\n",
        "        for k in self.grid_searches:\n",
        "            params = self.grid_searches[k].cv_results_['params']\n",
        "            scores = []\n",
        "            for i in range(self.grid_searches[k].cv):\n",
        "                key = \"split{}_test_score\".format(i)\n",
        "                r = self.grid_searches[k].cv_results_[key]        \n",
        "                scores.append(r.reshape(len(params),1))\n",
        "\n",
        "            all_scores = np.hstack(scores)\n",
        "            for p, s in zip(params,all_scores):\n",
        "                rows.append((row(k, s, p)))\n",
        "\n",
        "        df = pd.concat(rows, axis=1).T.sort_values([sort_by], ascending=False)\n",
        "\n",
        "        columns = ['estimator', 'min_score', 'mean_score', 'max_score', 'std_score']\n",
        "        columns = columns + [c for c in df.columns if c not in columns]\n",
        "\n",
        "        return df[columns], self.grid_searches\n"
      ],
      "outputs": [],
      "metadata": {
        "id": "NpTcVDtQ5RMc"
      }
    },
    {
      "cell_type": "markdown",
      "source": [
        "## Split Train Test Set"
      ],
      "metadata": {
        "id": "LD6B3CuhiDMT"
      }
    },
    {
      "cell_type": "markdown",
      "source": [
        "Quick recap in our raw dataset"
      ],
      "metadata": {
        "id": "kpxaylKk-6CQ"
      }
    },
    {
      "cell_type": "code",
      "execution_count": null,
      "source": [
        "print(df.shape)\n",
        "df.head(3)"
      ],
      "outputs": [],
      "metadata": {
        "id": "zfKHc63v-6Zm"
      }
    },
    {
      "cell_type": "markdown",
      "source": [
        "Split Train and Test Set"
      ],
      "metadata": {
        "id": "Gs6mDnoDhzwj"
      }
    },
    {
      "cell_type": "code",
      "execution_count": null,
      "source": [
        "from sklearn.model_selection import train_test_split\n",
        "X_train, X_test,y_train, y_test = train_test_split(\n",
        "                                    df.drop(['tenure'],axis=1),\n",
        "                                    df['tenure'],\n",
        "                                    test_size=0.2,\n",
        "                                    random_state=0\n",
        "                                    )\n",
        "\n",
        "print(\"* Train set:\", X_train.shape, y_train.shape, \"\\n* Test set:\",  X_test.shape, y_test.shape)"
      ],
      "outputs": [],
      "metadata": {
        "id": "-pFzP2iGiIk1"
      }
    },
    {
      "cell_type": "markdown",
      "source": [
        "## Target Distribution Analysis"
      ],
      "metadata": {
        "id": "j285uIq1f3h3"
      }
    },
    {
      "cell_type": "code",
      "execution_count": null,
      "source": [
        "import seaborn as sns\n",
        "import matplotlib.pyplot as plt\n",
        "sns.set_style(\"whitegrid\")\n",
        "\n",
        "def Target_DistributionAndStats(y_train,y_test):\n",
        "\n",
        "  figure, ax = plt.subplots(nrows=1, ncols=2,figsize=(12,3))\n",
        "  sns.histplot(x=y_train, kde=True,ax=ax[0]).set(title='y train')\n",
        "  sns.histplot(x=y_test, kde=True,ax=ax[1]).set(title='y test')\n",
        "  plt.show();\n",
        "\n",
        "  print(\"\\n* Train set - target descriptive stats: \\n\", y_train.describe().to_frame().round(3))\n",
        "  print(f\"\\n* Train set skewness: {y_train.skew().round(3)}, and kurtosis: {y_train.kurt().round(3)} \\n\\n\")"
      ],
      "outputs": [],
      "metadata": {
        "id": "Q0IYJz0uf2CT"
      }
    },
    {
      "cell_type": "code",
      "execution_count": null,
      "source": [
        "Target_DistributionAndStats(y_train, y_test)"
      ],
      "outputs": [],
      "metadata": {
        "id": "Z4TsdEhkhlht"
      }
    },
    {
      "cell_type": "markdown",
      "source": [
        "Target Transformation"
      ],
      "metadata": {
        "id": "IUSDkpgSnNed"
      }
    },
    {
      "cell_type": "code",
      "execution_count": null,
      "source": [
        "import sklearn.preprocessing\n",
        "target_transformer = sklearn.preprocessing.PowerTransformer(method='box-cox',standardize=True)\n",
        "\n",
        "y_train = target_transformer.fit_transform(y_train.to_frame())\n",
        "y_train = pd.Series(y_train.reshape(-1), name='tenure')\n",
        "\n",
        "y_test = target_transformer.transform(y_test.to_frame())\n",
        "y_test = pd.Series(y_test.reshape(-1), name='tenure')\n",
        "\n",
        "Target_DistributionAndStats(y_train,y_test)"
      ],
      "outputs": [],
      "metadata": {
        "id": "PqTCBJMua4QS"
      }
    },
    {
      "cell_type": "markdown",
      "source": [
        "## Grid Search CV - Sklearn"
      ],
      "metadata": {
        "id": "-15-sWUST6XX"
      }
    },
    {
      "cell_type": "markdown",
      "source": [
        "### Use standard hyper parameters to find most suitable model"
      ],
      "metadata": {
        "id": "KTFXq-ieogBj"
      }
    },
    {
      "cell_type": "markdown",
      "source": [
        "Define models for quick search"
      ],
      "metadata": {
        "id": "8D5u8D_2MvqM"
      }
    },
    {
      "cell_type": "code",
      "execution_count": null,
      "source": [
        "models_quick_search = {\n",
        "    'LinearRegression': LinearRegression(),\n",
        "    \"DecisionTreeRegressor\": DecisionTreeRegressor(random_state=0),\n",
        "    \"RandomForestRegressor\": RandomForestRegressor(random_state=0),\n",
        "    \"ExtraTreesRegressor\": ExtraTreesRegressor(random_state=0),\n",
        "    \"AdaBoostRegressor\": AdaBoostRegressor(random_state=0),\n",
        "    \"GradientBoostingRegressor\": GradientBoostingRegressor(random_state=0),\n",
        "    \"XGBRegressor\": XGBRegressor(random_state=0),\n",
        "}\n",
        "\n",
        "params_quick_search = {\n",
        "    'LinearRegression': {},\n",
        "    \"DecisionTreeRegressor\": {},\n",
        "    \"RandomForestRegressor\": {},\n",
        "    \"ExtraTreesRegressor\": {},\n",
        "    \"AdaBoostRegressor\": {},\n",
        "    \"GradientBoostingRegressor\": {},\n",
        "    \"XGBRegressor\": {},\n",
        "}\n"
      ],
      "outputs": [],
      "metadata": {
        "id": "XZKV86gsPw8c"
      }
    },
    {
      "cell_type": "markdown",
      "source": [
        "Do a hyperparameter optmization search "
      ],
      "metadata": {
        "id": "jGABtSoSLP9u"
      }
    },
    {
      "cell_type": "code",
      "execution_count": null,
      "source": [
        "search = HyperparameterOptimizationSearch(models=models_quick_search, params=params_quick_search)\n",
        "search.fit(X_train, y_train, scoring='r2', n_jobs=-1, cv=5)"
      ],
      "outputs": [],
      "metadata": {
        "id": "-_q-ru92GiBb"
      }
    },
    {
      "cell_type": "markdown",
      "source": [
        "Check results"
      ],
      "metadata": {
        "id": "c7p56nXeoqWo"
      }
    },
    {
      "cell_type": "code",
      "execution_count": null,
      "source": [
        "grid_search_summary, grid_search_pipelines = search.score_summary(sort_by='mean_score')\n",
        "grid_search_summary"
      ],
      "outputs": [],
      "metadata": {
        "id": "mq4YlrmZooiw"
      }
    },
    {
      "cell_type": "markdown",
      "source": [
        "Check best model"
      ],
      "metadata": {
        "id": "igjPv1kxZ38P"
      }
    },
    {
      "cell_type": "code",
      "execution_count": null,
      "source": [
        "best_model = grid_search_summary.iloc[0,0]\n",
        "best_model"
      ],
      "outputs": [],
      "metadata": {
        "id": "pmBzm_jEZ4FD"
      }
    },
    {
      "cell_type": "markdown",
      "source": [
        "### Do extensive search on most suitable model to find best hyperparameter configuration"
      ],
      "metadata": {
        "id": "6pRUAeoG9lrZ"
      }
    },
    {
      "cell_type": "markdown",
      "source": [
        "Define model and parameters, for Extensive Search"
      ],
      "metadata": {
        "id": "w2XCyOYkAYpZ"
      }
    },
    {
      "cell_type": "code",
      "execution_count": null,
      "source": [
        "models_search = {\n",
        "    \"GradientBoostingRegressor\":GradientBoostingRegressor(random_state=0),\n",
        "}\n",
        "\n",
        "# documentation to help on hyperparameter list: \n",
        "# https://scikit-learn.org/stable/modules/generated/sklearn.ensemble.GradientBoostingRegressor.html\n",
        "\n",
        "# We will not conduct an extensive search, since the focus\n",
        "# is on how to combine all knowledge in an applied project.\n",
        "# In a workplace project, you may consider more hyperparameters and spend more time in this step\n",
        "\n",
        "params_search = {\n",
        "    \"GradientBoostingRegressor\":{\n",
        "        'model__n_estimators': [100,300],\n",
        "        'model__learning_rate': [1e-1,1e-2,1e-3], \n",
        "        'model__max_depth': [3,10,None],\n",
        "    }\n",
        "}"
      ],
      "outputs": [],
      "metadata": {
        "id": "lyjC7ThFAYKY"
      }
    },
    {
      "cell_type": "markdown",
      "source": [
        "Extensive GridSearch CV"
      ],
      "metadata": {
        "id": "sBy8thxqAlrd"
      }
    },
    {
      "cell_type": "code",
      "execution_count": null,
      "source": [
        "search = HyperparameterOptimizationSearch(models=models_search, params=params_search)\n",
        "search.fit(X_train, y_train, scoring = 'r2', n_jobs=-1, cv=5)"
      ],
      "outputs": [],
      "metadata": {
        "id": "Y_4Ob7heAYM9"
      }
    },
    {
      "cell_type": "markdown",
      "source": [
        "Check results"
      ],
      "metadata": {
        "id": "wtNJJpLEAzdP"
      }
    },
    {
      "cell_type": "code",
      "execution_count": null,
      "source": [
        "grid_search_summary, grid_search_pipelines = search.score_summary(sort_by='mean_score')\n",
        "grid_search_summary"
      ],
      "outputs": [],
      "metadata": {
        "id": "qjauRLNHAYPr"
      }
    },
    {
      "cell_type": "markdown",
      "source": [
        "Check the best model"
      ],
      "metadata": {
        "id": "DWryh7BlA2df"
      }
    },
    {
      "cell_type": "code",
      "execution_count": null,
      "source": [
        "best_model = grid_search_summary.iloc[0,0]\n",
        "best_model"
      ],
      "outputs": [],
      "metadata": {
        "id": "QVWEmpSuA4C7"
      }
    },
    {
      "cell_type": "markdown",
      "source": [
        "Parameters for best model"
      ],
      "metadata": {
        "id": "7_jvnR4sZ8km"
      }
    },
    {
      "cell_type": "code",
      "execution_count": null,
      "source": [
        "grid_search_pipelines[best_model].best_params_"
      ],
      "outputs": [],
      "metadata": {
        "id": "2my-LZFzZ-YD"
      }
    },
    {
      "cell_type": "markdown",
      "source": [
        "Define the best regressor, based on search"
      ],
      "metadata": {
        "id": "DgWXlprwaAW-"
      }
    },
    {
      "cell_type": "code",
      "execution_count": null,
      "source": [
        "best_regressor_pipeline = grid_search_pipelines[best_model].best_estimator_\n",
        "best_regressor_pipeline"
      ],
      "outputs": [],
      "metadata": {
        "id": "0OZ24jS0aAfP"
      }
    },
    {
      "cell_type": "markdown",
      "source": [
        "## Assess feature importance"
      ],
      "metadata": {
        "id": "I9uT2XmaKISR"
      }
    },
    {
      "cell_type": "code",
      "execution_count": null,
      "source": [
        "# after data cleaning and feat engine, the feature space changes\n",
        "columns_after_data_cleaning_feat_eng = (PipelineDataCleaningAndFeatureEngineering()\n",
        "                                        .fit_transform(X_train)\n",
        "                                        .columns)\n",
        "\n",
        "best_features = columns_after_data_cleaning_feat_eng[best_regressor_pipeline['feat_selection'].get_support()].to_list()\n",
        "\n",
        "# create DataFrame to display feature importance\n",
        "df_feature_importance = (pd.DataFrame(data={\n",
        "          'Attribute': columns_after_data_cleaning_feat_eng[best_regressor_pipeline['feat_selection'].get_support()],\n",
        "          'Importance': best_regressor_pipeline['model'].feature_importances_})\n",
        "  .sort_values(by='Importance', ascending=False)\n",
        "  )\n",
        "\n",
        "# Most important features statement and plot\n",
        "print(f\"* These are the {len(best_features)} most important features in descending order. \"\n",
        "      f\"The model was trained on them: \\n{df_feature_importance['Attribute'].to_list()}\")\n",
        "\n",
        "df_feature_importance.plot(kind='bar',x='Attribute',y='Importance')\n",
        "plt.show()"
      ],
      "outputs": [],
      "metadata": {
        "id": "-m6NUUa0KFQX"
      }
    },
    {
      "cell_type": "markdown",
      "source": [
        "## Evaluate Regressor on Train and Test Sets"
      ],
      "metadata": {
        "id": "QzNyQirSKJj6"
      }
    },
    {
      "cell_type": "markdown",
      "source": [
        "Custom Functions"
      ],
      "metadata": {
        "id": "Ye8fsXJYBO1g"
      }
    },
    {
      "cell_type": "code",
      "execution_count": null,
      "source": [
        "from sklearn.metrics import r2_score, mean_squared_error, mean_absolute_error \n",
        "import numpy as np\n",
        "\n",
        "def model_score_train_test_set(X_train, y_train, X_test, y_test,pipeline):\n",
        "\n",
        "\tprint(\"Model Evaluation \\n\")\n",
        "\tprint(\"* Train Set\")\n",
        "\tPredictionEvaluation(X_train,y_train,pipeline)\n",
        "\n",
        "\tprint(\"* Test Set\")\n",
        "\tPredictionEvaluation(X_test,y_test,pipeline)\n",
        "\n",
        "\n",
        "\n",
        "def PredictionEvaluation(X,y,pipeline):\n",
        "  prediction = pipeline.predict(X)\n",
        "\n",
        "  print('R2 Score:', r2_score(y, prediction).round(3))  \n",
        "  print('Mean Absolute Error:', mean_absolute_error(y, prediction).round(3))  \n",
        "  print('Mean Squared Error:', mean_squared_error(y, prediction).round(3))  \n",
        "  print('Root Mean Squared Error:', np.sqrt(mean_squared_error(y, prediction)).round(3))\n",
        "  print(\"\\n\")\n",
        "\n",
        "  \n",
        "\n",
        "\n",
        "def PredictionVsActual_TrainTestSets(X_train, y_train, X_test, y_test,pipeline):\n",
        "  pred_train = pipeline.predict(X_train)\n",
        "  pred_test = pipeline.predict(X_test)\n",
        "  Plot_Prediction_vs_Actual(y_train,pred_train,y_test, pred_test)\n",
        "\n",
        "\n",
        "\n",
        "def Plot_Prediction_vs_Actual(TrainActual,TrainPred,TestActual,TestPred):\n",
        "\n",
        "  fig, axes = plt.subplots(nrows=1, ncols=2, figsize=(12,6))\n",
        "\n",
        "  sns.scatterplot(x=TrainActual , y=TrainPred, alpha=0.2, ax=axes[0])\n",
        "  sns.lineplot(x=TrainActual , y=TrainActual, color='red', ax=axes[0])\n",
        "  axes[0].set_xlabel(\"Actual\")\n",
        "  axes[0].set_ylabel(\"Predictions\")\n",
        "  axes[0].set_title(\"Train Set\")\n",
        "\n",
        "  sns.scatterplot(x=TestActual , y=TestPred, alpha=0.2, ax=axes[1])\n",
        "  sns.lineplot(x=TestActual , y=TestActual, color='red', ax=axes[1])\n",
        "  axes[1].set_xlabel(\"Actual\")\n",
        "  axes[1].set_ylabel(\"Predictions\")\n",
        "  axes[1].set_title(\"Test Set\")\n",
        "\n",
        "  plt.show()"
      ],
      "outputs": [],
      "metadata": {
        "id": "5pBm_vx8BO9s"
      }
    },
    {
      "cell_type": "markdown",
      "source": [
        "Evaluate Performance"
      ],
      "metadata": {
        "id": "tV-W5nYyBPdk"
      }
    },
    {
      "cell_type": "code",
      "execution_count": null,
      "source": [
        "model_score_train_test_set(X_train, y_train, X_test, y_test,best_regressor_pipeline)\n",
        "PredictionVsActual_TrainTestSets(X_train, y_train, X_test, y_test,best_regressor_pipeline)"
      ],
      "outputs": [],
      "metadata": {
        "id": "EgBgrKJ5KFcX"
      }
    },
    {
      "cell_type": "markdown",
      "source": [
        "# Regressor add PCA() in the pipeline: Sklearn"
      ],
      "metadata": {
        "id": "HZ9tjLxEIn3h"
      }
    },
    {
      "cell_type": "markdown",
      "source": [
        "## Rewrite ML Pipeline for Modelling: add PCA step"
      ],
      "metadata": {
        "id": "5eaMf41ZBhBk"
      }
    },
    {
      "cell_type": "markdown",
      "source": [
        "* It will change only the PipelineOptimization() function"
      ],
      "metadata": {
        "id": "LPWv-kTBKnjR"
      }
    },
    {
      "cell_type": "code",
      "execution_count": 24,
      "source": [
        "### PCA\n",
        "from sklearn.decomposition import PCA\n",
        "\n",
        "def PipelineOptimization(model):\n",
        "  pipe = PipelineDataCleaningAndFeatureEngineering()\n",
        "  pipe.steps.append([\"PCA\",PCA(n_components=3, random_state=0)])   #### PCA replace Feature Engineering\n",
        "  pipe.steps.append([\"scaler\", StandardScaler()])\n",
        "  pipe.steps.append([\"model\", model])\n",
        "  \n",
        "  return pipe"
      ],
      "outputs": [],
      "metadata": {
        "id": "XfU562GBIsB1"
      }
    },
    {
      "cell_type": "markdown",
      "source": [
        "## Grid Search CV – Sklearn"
      ],
      "metadata": {
        "id": "irUsq475Bn7N"
      }
    },
    {
      "cell_type": "markdown",
      "source": [
        "### Use standard hyper parameters to find most suitable model"
      ],
      "metadata": {
        "id": "2LVF-KR_Bqum"
      }
    },
    {
      "cell_type": "code",
      "execution_count": 25,
      "source": [
        "models_quick_search = {\n",
        "    'LinearRegression': LinearRegression(),\n",
        "    \"DecisionTreeRegressor\": DecisionTreeRegressor(random_state=0),\n",
        "    \"RandomForestRegressor\": RandomForestRegressor(random_state=0),\n",
        "    \"ExtraTreesRegressor\": ExtraTreesRegressor(random_state=0),\n",
        "    \"AdaBoostRegressor\": AdaBoostRegressor(random_state=0),\n",
        "    \"GradientBoostingRegressor\": GradientBoostingRegressor(random_state=0),\n",
        "    \"XGBRegressor\": XGBRegressor(random_state=0),\n",
        "}\n",
        "\n",
        "params_quick_search = {\n",
        "    'LinearRegression': {},\n",
        "    \"DecisionTreeRegressor\": {},\n",
        "    \"RandomForestRegressor\": {},\n",
        "    \"ExtraTreesRegressor\": {},\n",
        "    \"AdaBoostRegressor\": {},\n",
        "    \"GradientBoostingRegressor\": {},\n",
        "    \"XGBRegressor\": {},\n",
        "}\n"
      ],
      "outputs": [],
      "metadata": {
        "id": "2XmJNoUcJkKX"
      }
    },
    {
      "cell_type": "markdown",
      "source": [
        "Do a quick optmization search "
      ],
      "metadata": {
        "id": "Jq8td65fJkKY"
      }
    },
    {
      "cell_type": "code",
      "execution_count": 26,
      "source": [
        "quick_search = HyperparameterOptimizationSearch(models=models_quick_search, params=params_quick_search)\n",
        "quick_search.fit(X_train, y_train, scoring='r2', n_jobs=-1, cv=5)"
      ],
      "outputs": [
        {
          "output_type": "stream",
          "name": "stdout",
          "text": [
            "\n",
            "Running GridSearchCV for LinearRegression \n",
            "\n",
            "Fitting 5 folds for each of 1 candidates, totalling 5 fits\n",
            "\n",
            "Running GridSearchCV for DecisionTreeRegressor \n",
            "\n",
            "Fitting 5 folds for each of 1 candidates, totalling 5 fits\n",
            "\n",
            "Running GridSearchCV for RandomForestRegressor \n",
            "\n",
            "Fitting 5 folds for each of 1 candidates, totalling 5 fits\n",
            "\n",
            "Running GridSearchCV for ExtraTreesRegressor \n",
            "\n",
            "Fitting 5 folds for each of 1 candidates, totalling 5 fits\n",
            "\n",
            "Running GridSearchCV for AdaBoostRegressor \n",
            "\n",
            "Fitting 5 folds for each of 1 candidates, totalling 5 fits\n",
            "\n",
            "Running GridSearchCV for GradientBoostingRegressor \n",
            "\n",
            "Fitting 5 folds for each of 1 candidates, totalling 5 fits\n",
            "\n",
            "Running GridSearchCV for XGBRegressor \n",
            "\n",
            "Fitting 5 folds for each of 1 candidates, totalling 5 fits\n"
          ]
        }
      ],
      "metadata": {
        "id": "s1BdqEB6JkKZ"
      }
    },
    {
      "cell_type": "markdown",
      "source": [
        "Check results"
      ],
      "metadata": {
        "id": "zQ_Xj5oGJkKZ"
      }
    },
    {
      "cell_type": "code",
      "execution_count": 27,
      "source": [
        "grid_search_summary, grid_search_pipelines = quick_search.score_summary(sort_by='mean_score')\n",
        "grid_search_summary"
      ],
      "outputs": [
        {
          "output_type": "execute_result",
          "data": {
            "text/plain": [
              "                   estimator min_score mean_score  max_score  std_score\n",
              "5  GradientBoostingRegressor  0.292139   0.380262   0.435378  0.0478961\n",
              "2      RandomForestRegressor  0.259349    0.33728   0.400934   0.047094\n",
              "4          AdaBoostRegressor  0.263693   0.333468   0.368808  0.0362284\n",
              "6               XGBRegressor  0.227217   0.313146   0.400142  0.0582165\n",
              "0           LinearRegression  0.246823   0.308161   0.362973  0.0411205\n",
              "3        ExtraTreesRegressor  0.209481   0.287381   0.356079  0.0511687\n",
              "1      DecisionTreeRegressor -0.211158   -0.12299  0.0592011  0.0945859"
            ],
            "text/html": [
              "<div>\n",
              "<style scoped>\n",
              "    .dataframe tbody tr th:only-of-type {\n",
              "        vertical-align: middle;\n",
              "    }\n",
              "\n",
              "    .dataframe tbody tr th {\n",
              "        vertical-align: top;\n",
              "    }\n",
              "\n",
              "    .dataframe thead th {\n",
              "        text-align: right;\n",
              "    }\n",
              "</style>\n",
              "<table border=\"1\" class=\"dataframe\">\n",
              "  <thead>\n",
              "    <tr style=\"text-align: right;\">\n",
              "      <th></th>\n",
              "      <th>estimator</th>\n",
              "      <th>min_score</th>\n",
              "      <th>mean_score</th>\n",
              "      <th>max_score</th>\n",
              "      <th>std_score</th>\n",
              "    </tr>\n",
              "  </thead>\n",
              "  <tbody>\n",
              "    <tr>\n",
              "      <th>5</th>\n",
              "      <td>GradientBoostingRegressor</td>\n",
              "      <td>0.292139</td>\n",
              "      <td>0.380262</td>\n",
              "      <td>0.435378</td>\n",
              "      <td>0.0478961</td>\n",
              "    </tr>\n",
              "    <tr>\n",
              "      <th>2</th>\n",
              "      <td>RandomForestRegressor</td>\n",
              "      <td>0.259349</td>\n",
              "      <td>0.33728</td>\n",
              "      <td>0.400934</td>\n",
              "      <td>0.047094</td>\n",
              "    </tr>\n",
              "    <tr>\n",
              "      <th>4</th>\n",
              "      <td>AdaBoostRegressor</td>\n",
              "      <td>0.263693</td>\n",
              "      <td>0.333468</td>\n",
              "      <td>0.368808</td>\n",
              "      <td>0.0362284</td>\n",
              "    </tr>\n",
              "    <tr>\n",
              "      <th>6</th>\n",
              "      <td>XGBRegressor</td>\n",
              "      <td>0.227217</td>\n",
              "      <td>0.313146</td>\n",
              "      <td>0.400142</td>\n",
              "      <td>0.0582165</td>\n",
              "    </tr>\n",
              "    <tr>\n",
              "      <th>0</th>\n",
              "      <td>LinearRegression</td>\n",
              "      <td>0.246823</td>\n",
              "      <td>0.308161</td>\n",
              "      <td>0.362973</td>\n",
              "      <td>0.0411205</td>\n",
              "    </tr>\n",
              "    <tr>\n",
              "      <th>3</th>\n",
              "      <td>ExtraTreesRegressor</td>\n",
              "      <td>0.209481</td>\n",
              "      <td>0.287381</td>\n",
              "      <td>0.356079</td>\n",
              "      <td>0.0511687</td>\n",
              "    </tr>\n",
              "    <tr>\n",
              "      <th>1</th>\n",
              "      <td>DecisionTreeRegressor</td>\n",
              "      <td>-0.211158</td>\n",
              "      <td>-0.12299</td>\n",
              "      <td>0.0592011</td>\n",
              "      <td>0.0945859</td>\n",
              "    </tr>\n",
              "  </tbody>\n",
              "</table>\n",
              "</div>"
            ]
          },
          "metadata": {},
          "execution_count": 27
        }
      ],
      "metadata": {
        "id": "vIC2csxKJkKZ"
      }
    },
    {
      "cell_type": "markdown",
      "source": [
        "Check best model"
      ],
      "metadata": {
        "id": "F3QJ5d7GJkKc"
      }
    },
    {
      "cell_type": "code",
      "execution_count": 28,
      "source": [
        "best_model = grid_search_summary.iloc[0,0]\n",
        "best_model"
      ],
      "outputs": [
        {
          "output_type": "execute_result",
          "data": {
            "text/plain": [
              "'GradientBoostingRegressor'"
            ]
          },
          "metadata": {},
          "execution_count": 28
        }
      ],
      "metadata": {
        "id": "T-qRFydjJkKc"
      }
    },
    {
      "cell_type": "markdown",
      "source": [
        "### Do extensive search on most suitable model to find best hyperparameter configuration"
      ],
      "metadata": {
        "id": "383vOhJZBwza"
      }
    },
    {
      "cell_type": "markdown",
      "source": [
        "Define model and parameters, for Extensive Search"
      ],
      "metadata": {
        "id": "PrcbiQHlB9QT"
      }
    },
    {
      "cell_type": "code",
      "execution_count": 29,
      "source": [
        "models_search = {\n",
        "    \"GradientBoostingRegressor\":GradientBoostingRegressor(random_state=0),\n",
        "}\n",
        "\n",
        "# documentation to help on hyperparameter list: \n",
        "# https://scikit-learn.org/stable/modules/generated/sklearn.ensemble.GradientBoostingRegressor.html\n",
        "\n",
        "# We will not conduct an extensive search, since the focus\n",
        "# is on how to combine all knowledge in an applied project.\n",
        "# In a workplace project, you may spend more time in this step\n",
        "params_search = {\n",
        "    \"GradientBoostingRegressor\":{\n",
        "        'model__n_estimators': [100,300],\n",
        "        'model__learning_rate': [1e-1,1e-2,1e-3], \n",
        "        'model__max_depth': [3,10, None],\n",
        "    }\n",
        "}"
      ],
      "outputs": [],
      "metadata": {
        "id": "S7t-fum6B9QU"
      }
    },
    {
      "cell_type": "markdown",
      "source": [
        "Extensive GridSearch CV"
      ],
      "metadata": {
        "id": "Jvt-IOmHB9QU"
      }
    },
    {
      "cell_type": "code",
      "execution_count": 30,
      "source": [
        "search = HyperparameterOptimizationSearch(models=models_search, params=params_search)\n",
        "search.fit(X_train, y_train, scoring = 'r2', n_jobs=-1, cv=5)"
      ],
      "outputs": [
        {
          "output_type": "stream",
          "name": "stdout",
          "text": [
            "\n",
            "Running GridSearchCV for GradientBoostingRegressor \n",
            "\n",
            "Fitting 2 folds for each of 18 candidates, totalling 36 fits\n"
          ]
        }
      ],
      "metadata": {
        "id": "eXbTwW1UB9QV"
      }
    },
    {
      "cell_type": "markdown",
      "source": [
        "Check results"
      ],
      "metadata": {
        "id": "TVUDzRSGB9QV"
      }
    },
    {
      "cell_type": "code",
      "execution_count": 31,
      "source": [
        "grid_search_summary, grid_search_pipelines = search.score_summary(sort_by='mean_score')\n",
        "grid_search_summary"
      ],
      "outputs": [
        {
          "output_type": "execute_result",
          "data": {
            "text/plain": [
              "                    estimator  min_score mean_score  max_score    std_score  \\\n",
              "0   GradientBoostingRegressor   0.339106    0.34793   0.356755   0.00882437   \n",
              "7   GradientBoostingRegressor   0.334237   0.344124    0.35401   0.00988622   \n",
              "1   GradientBoostingRegressor   0.289908   0.306167   0.322425    0.0162584   \n",
              "6   GradientBoostingRegressor   0.258206   0.271471   0.284736     0.013265   \n",
              "8   GradientBoostingRegressor   0.247784    0.25928   0.270776    0.0114963   \n",
              "9   GradientBoostingRegressor   0.196943   0.200796   0.204648   0.00385226   \n",
              "2   GradientBoostingRegressor   0.153219   0.164368   0.175517    0.0111486   \n",
              "15  GradientBoostingRegressor   0.158573   0.161558   0.164544   0.00298549   \n",
              "3   GradientBoostingRegressor   0.139146    0.15249   0.165834     0.013344   \n",
              "17  GradientBoostingRegressor   0.141225   0.144588   0.147951   0.00336278   \n",
              "13  GradientBoostingRegressor   0.125508   0.135641   0.145774    0.0101329   \n",
              "10  GradientBoostingRegressor   0.115739   0.117563   0.119387    0.0018238   \n",
              "16  GradientBoostingRegressor  0.0666739  0.0682593  0.0698447   0.00158538   \n",
              "14  GradientBoostingRegressor  0.0659902  0.0662158  0.0664413  0.000225543   \n",
              "12  GradientBoostingRegressor  0.0493673  0.0541144  0.0588615   0.00474708   \n",
              "11  GradientBoostingRegressor  -0.126852  -0.122498  -0.118144   0.00435377   \n",
              "4   GradientBoostingRegressor  -0.181549  -0.176151  -0.170753   0.00539796   \n",
              "5   GradientBoostingRegressor  -0.181581  -0.176182  -0.170783   0.00539881   \n",
              "\n",
              "   model__learning_rate model__max_depth model__n_estimators  \n",
              "0                   0.1                3                 100  \n",
              "7                  0.01                3                 300  \n",
              "1                   0.1                3                 300  \n",
              "6                  0.01                3                 100  \n",
              "8                  0.01               10                 100  \n",
              "9                  0.01               10                 300  \n",
              "2                   0.1               10                 100  \n",
              "15                0.001               10                 300  \n",
              "3                   0.1               10                 300  \n",
              "17                0.001             None                 300  \n",
              "13                0.001                3                 300  \n",
              "10                 0.01             None                 100  \n",
              "16                0.001             None                 100  \n",
              "14                0.001               10                 100  \n",
              "12                0.001                3                 100  \n",
              "11                 0.01             None                 300  \n",
              "4                   0.1             None                 100  \n",
              "5                   0.1             None                 300  "
            ],
            "text/html": [
              "<div>\n",
              "<style scoped>\n",
              "    .dataframe tbody tr th:only-of-type {\n",
              "        vertical-align: middle;\n",
              "    }\n",
              "\n",
              "    .dataframe tbody tr th {\n",
              "        vertical-align: top;\n",
              "    }\n",
              "\n",
              "    .dataframe thead th {\n",
              "        text-align: right;\n",
              "    }\n",
              "</style>\n",
              "<table border=\"1\" class=\"dataframe\">\n",
              "  <thead>\n",
              "    <tr style=\"text-align: right;\">\n",
              "      <th></th>\n",
              "      <th>estimator</th>\n",
              "      <th>min_score</th>\n",
              "      <th>mean_score</th>\n",
              "      <th>max_score</th>\n",
              "      <th>std_score</th>\n",
              "      <th>model__learning_rate</th>\n",
              "      <th>model__max_depth</th>\n",
              "      <th>model__n_estimators</th>\n",
              "    </tr>\n",
              "  </thead>\n",
              "  <tbody>\n",
              "    <tr>\n",
              "      <th>0</th>\n",
              "      <td>GradientBoostingRegressor</td>\n",
              "      <td>0.339106</td>\n",
              "      <td>0.34793</td>\n",
              "      <td>0.356755</td>\n",
              "      <td>0.00882437</td>\n",
              "      <td>0.1</td>\n",
              "      <td>3</td>\n",
              "      <td>100</td>\n",
              "    </tr>\n",
              "    <tr>\n",
              "      <th>7</th>\n",
              "      <td>GradientBoostingRegressor</td>\n",
              "      <td>0.334237</td>\n",
              "      <td>0.344124</td>\n",
              "      <td>0.35401</td>\n",
              "      <td>0.00988622</td>\n",
              "      <td>0.01</td>\n",
              "      <td>3</td>\n",
              "      <td>300</td>\n",
              "    </tr>\n",
              "    <tr>\n",
              "      <th>1</th>\n",
              "      <td>GradientBoostingRegressor</td>\n",
              "      <td>0.289908</td>\n",
              "      <td>0.306167</td>\n",
              "      <td>0.322425</td>\n",
              "      <td>0.0162584</td>\n",
              "      <td>0.1</td>\n",
              "      <td>3</td>\n",
              "      <td>300</td>\n",
              "    </tr>\n",
              "    <tr>\n",
              "      <th>6</th>\n",
              "      <td>GradientBoostingRegressor</td>\n",
              "      <td>0.258206</td>\n",
              "      <td>0.271471</td>\n",
              "      <td>0.284736</td>\n",
              "      <td>0.013265</td>\n",
              "      <td>0.01</td>\n",
              "      <td>3</td>\n",
              "      <td>100</td>\n",
              "    </tr>\n",
              "    <tr>\n",
              "      <th>8</th>\n",
              "      <td>GradientBoostingRegressor</td>\n",
              "      <td>0.247784</td>\n",
              "      <td>0.25928</td>\n",
              "      <td>0.270776</td>\n",
              "      <td>0.0114963</td>\n",
              "      <td>0.01</td>\n",
              "      <td>10</td>\n",
              "      <td>100</td>\n",
              "    </tr>\n",
              "    <tr>\n",
              "      <th>9</th>\n",
              "      <td>GradientBoostingRegressor</td>\n",
              "      <td>0.196943</td>\n",
              "      <td>0.200796</td>\n",
              "      <td>0.204648</td>\n",
              "      <td>0.00385226</td>\n",
              "      <td>0.01</td>\n",
              "      <td>10</td>\n",
              "      <td>300</td>\n",
              "    </tr>\n",
              "    <tr>\n",
              "      <th>2</th>\n",
              "      <td>GradientBoostingRegressor</td>\n",
              "      <td>0.153219</td>\n",
              "      <td>0.164368</td>\n",
              "      <td>0.175517</td>\n",
              "      <td>0.0111486</td>\n",
              "      <td>0.1</td>\n",
              "      <td>10</td>\n",
              "      <td>100</td>\n",
              "    </tr>\n",
              "    <tr>\n",
              "      <th>15</th>\n",
              "      <td>GradientBoostingRegressor</td>\n",
              "      <td>0.158573</td>\n",
              "      <td>0.161558</td>\n",
              "      <td>0.164544</td>\n",
              "      <td>0.00298549</td>\n",
              "      <td>0.001</td>\n",
              "      <td>10</td>\n",
              "      <td>300</td>\n",
              "    </tr>\n",
              "    <tr>\n",
              "      <th>3</th>\n",
              "      <td>GradientBoostingRegressor</td>\n",
              "      <td>0.139146</td>\n",
              "      <td>0.15249</td>\n",
              "      <td>0.165834</td>\n",
              "      <td>0.013344</td>\n",
              "      <td>0.1</td>\n",
              "      <td>10</td>\n",
              "      <td>300</td>\n",
              "    </tr>\n",
              "    <tr>\n",
              "      <th>17</th>\n",
              "      <td>GradientBoostingRegressor</td>\n",
              "      <td>0.141225</td>\n",
              "      <td>0.144588</td>\n",
              "      <td>0.147951</td>\n",
              "      <td>0.00336278</td>\n",
              "      <td>0.001</td>\n",
              "      <td>None</td>\n",
              "      <td>300</td>\n",
              "    </tr>\n",
              "    <tr>\n",
              "      <th>13</th>\n",
              "      <td>GradientBoostingRegressor</td>\n",
              "      <td>0.125508</td>\n",
              "      <td>0.135641</td>\n",
              "      <td>0.145774</td>\n",
              "      <td>0.0101329</td>\n",
              "      <td>0.001</td>\n",
              "      <td>3</td>\n",
              "      <td>300</td>\n",
              "    </tr>\n",
              "    <tr>\n",
              "      <th>10</th>\n",
              "      <td>GradientBoostingRegressor</td>\n",
              "      <td>0.115739</td>\n",
              "      <td>0.117563</td>\n",
              "      <td>0.119387</td>\n",
              "      <td>0.0018238</td>\n",
              "      <td>0.01</td>\n",
              "      <td>None</td>\n",
              "      <td>100</td>\n",
              "    </tr>\n",
              "    <tr>\n",
              "      <th>16</th>\n",
              "      <td>GradientBoostingRegressor</td>\n",
              "      <td>0.0666739</td>\n",
              "      <td>0.0682593</td>\n",
              "      <td>0.0698447</td>\n",
              "      <td>0.00158538</td>\n",
              "      <td>0.001</td>\n",
              "      <td>None</td>\n",
              "      <td>100</td>\n",
              "    </tr>\n",
              "    <tr>\n",
              "      <th>14</th>\n",
              "      <td>GradientBoostingRegressor</td>\n",
              "      <td>0.0659902</td>\n",
              "      <td>0.0662158</td>\n",
              "      <td>0.0664413</td>\n",
              "      <td>0.000225543</td>\n",
              "      <td>0.001</td>\n",
              "      <td>10</td>\n",
              "      <td>100</td>\n",
              "    </tr>\n",
              "    <tr>\n",
              "      <th>12</th>\n",
              "      <td>GradientBoostingRegressor</td>\n",
              "      <td>0.0493673</td>\n",
              "      <td>0.0541144</td>\n",
              "      <td>0.0588615</td>\n",
              "      <td>0.00474708</td>\n",
              "      <td>0.001</td>\n",
              "      <td>3</td>\n",
              "      <td>100</td>\n",
              "    </tr>\n",
              "    <tr>\n",
              "      <th>11</th>\n",
              "      <td>GradientBoostingRegressor</td>\n",
              "      <td>-0.126852</td>\n",
              "      <td>-0.122498</td>\n",
              "      <td>-0.118144</td>\n",
              "      <td>0.00435377</td>\n",
              "      <td>0.01</td>\n",
              "      <td>None</td>\n",
              "      <td>300</td>\n",
              "    </tr>\n",
              "    <tr>\n",
              "      <th>4</th>\n",
              "      <td>GradientBoostingRegressor</td>\n",
              "      <td>-0.181549</td>\n",
              "      <td>-0.176151</td>\n",
              "      <td>-0.170753</td>\n",
              "      <td>0.00539796</td>\n",
              "      <td>0.1</td>\n",
              "      <td>None</td>\n",
              "      <td>100</td>\n",
              "    </tr>\n",
              "    <tr>\n",
              "      <th>5</th>\n",
              "      <td>GradientBoostingRegressor</td>\n",
              "      <td>-0.181581</td>\n",
              "      <td>-0.176182</td>\n",
              "      <td>-0.170783</td>\n",
              "      <td>0.00539881</td>\n",
              "      <td>0.1</td>\n",
              "      <td>None</td>\n",
              "      <td>300</td>\n",
              "    </tr>\n",
              "  </tbody>\n",
              "</table>\n",
              "</div>"
            ]
          },
          "metadata": {},
          "execution_count": 31
        }
      ],
      "metadata": {
        "id": "5ZfOdh5kB9QW"
      }
    },
    {
      "cell_type": "markdown",
      "source": [
        "Check the best model"
      ],
      "metadata": {
        "id": "CgoLo5C8B9QW"
      }
    },
    {
      "cell_type": "code",
      "execution_count": 32,
      "source": [
        "best_model = grid_search_summary.iloc[0,0]\n",
        "best_model"
      ],
      "outputs": [
        {
          "output_type": "execute_result",
          "data": {
            "text/plain": [
              "'GradientBoostingRegressor'"
            ]
          },
          "metadata": {},
          "execution_count": 32
        }
      ],
      "metadata": {
        "id": "C3UGYjpcB9QW"
      }
    },
    {
      "cell_type": "markdown",
      "source": [
        "Parameters for best model"
      ],
      "metadata": {
        "id": "bjY2MdBNB9QX"
      }
    },
    {
      "cell_type": "code",
      "execution_count": 33,
      "source": [
        "grid_search_pipelines[best_model].best_params_"
      ],
      "outputs": [
        {
          "output_type": "execute_result",
          "data": {
            "text/plain": [
              "{'model__learning_rate': 0.1,\n",
              " 'model__max_depth': 3,\n",
              " 'model__n_estimators': 100}"
            ]
          },
          "metadata": {},
          "execution_count": 33
        }
      ],
      "metadata": {
        "id": "Uspihv71B9QX"
      }
    },
    {
      "cell_type": "markdown",
      "source": [
        "Define the best regressor, based on search"
      ],
      "metadata": {
        "id": "-8HonhniB9QX"
      }
    },
    {
      "cell_type": "code",
      "execution_count": 34,
      "source": [
        "best_regressor_pipeline = grid_search_pipelines[best_model].best_estimator_\n",
        "best_regressor_pipeline"
      ],
      "outputs": [
        {
          "output_type": "execute_result",
          "data": {
            "text/plain": [
              "Pipeline(steps=[('OrdinalCategoricalEncoder',\n",
              "                 OrdinalEncoder(encoding_method='arbitrary',\n",
              "                                variables=['gender', 'Partner', 'Dependents',\n",
              "                                           'PhoneService', 'MultipleLines',\n",
              "                                           'InternetService', 'OnlineSecurity',\n",
              "                                           'OnlineBackup', 'DeviceProtection',\n",
              "                                           'TechSupport', 'StreamingTV',\n",
              "                                           'StreamingMovies', 'Contract',\n",
              "                                           'PaperlessBilling',\n",
              "                                           'PaymentMethod'])),\n",
              "                ('SmartCorrelatedSelecti...\n",
              "                                                     'Partner', 'Dependents',\n",
              "                                                     'PhoneService',\n",
              "                                                     'MultipleLines',\n",
              "                                                     'InternetService',\n",
              "                                                     'OnlineSecurity',\n",
              "                                                     'OnlineBackup',\n",
              "                                                     'DeviceProtection',\n",
              "                                                     'TechSupport',\n",
              "                                                     'StreamingTV',\n",
              "                                                     'StreamingMovies',\n",
              "                                                     'Contract',\n",
              "                                                     'PaperlessBilling',\n",
              "                                                     'PaymentMethod',\n",
              "                                                     'MonthlyCharges'])),\n",
              "                ('PCA', PCA(n_components=3, random_state=0)),\n",
              "                ('scaler', StandardScaler()),\n",
              "                ['model', GradientBoostingRegressor(random_state=0)]])"
            ]
          },
          "metadata": {},
          "execution_count": 34
        }
      ],
      "metadata": {
        "id": "DC8U4skKB9QY"
      }
    },
    {
      "cell_type": "markdown",
      "source": [
        "## Evaluate Regressor on Train and Tests Sets"
      ],
      "metadata": {
        "id": "rKGmSgINCQwj"
      }
    },
    {
      "cell_type": "code",
      "execution_count": 35,
      "source": [
        "model_score_train_test_set(X_train, y_train, X_test, y_test,best_regressor_pipeline)\n",
        "PredictionVsActual_TrainTestSets(X_train, y_train, X_test, y_test,best_regressor_pipeline)"
      ],
      "outputs": [
        {
          "output_type": "stream",
          "name": "stdout",
          "text": [
            "Model Evaluation \n",
            "\n",
            "* Train Set\n",
            "R2 Score: 0.538\n",
            "Mean Absolute Error: 0.56\n",
            "Mean Squared Error: 0.462\n",
            "Root Mean Squared Error: 0.68\n",
            "\n",
            "\n",
            "* Test Set\n",
            "R2 Score: 0.378\n",
            "Mean Absolute Error: 0.668\n",
            "Mean Squared Error: 0.652\n",
            "Root Mean Squared Error: 0.807\n",
            "\n",
            "\n"
          ]
        },
        {
          "output_type": "display_data",
          "data": {
            "text/plain": [
              "<Figure size 864x432 with 2 Axes>"
            ],
            "image/svg+xml": "<?xml version=\"1.0\" encoding=\"utf-8\" standalone=\"no\"?>\n<!DOCTYPE svg PUBLIC \"-//W3C//DTD SVG 1.1//EN\"\n  \"http://www.w3.org/Graphics/SVG/1.1/DTD/svg11.dtd\">\n<!-- Created with matplotlib (https://matplotlib.org/) -->\n<svg height=\"386.034375pt\" version=\"1.1\" viewBox=\"0 0 728.960937 386.034375\" width=\"728.960937pt\" xmlns=\"http://www.w3.org/2000/svg\" xmlns:xlink=\"http://www.w3.org/1999/xlink\">\n <metadata>\n  <rdf:RDF xmlns:cc=\"http://creativecommons.org/ns#\" xmlns:dc=\"http://purl.org/dc/elements/1.1/\" xmlns:rdf=\"http://www.w3.org/1999/02/22-rdf-syntax-ns#\">\n   <cc:Work>\n    <dc:type rdf:resource=\"http://purl.org/dc/dcmitype/StillImage\"/>\n    <dc:date>2021-09-29T12:49:50.171519</dc:date>\n    <dc:format>image/svg+xml</dc:format>\n    <dc:creator>\n     <cc:Agent>\n      <dc:title>Matplotlib v3.3.1, https://matplotlib.org/</dc:title>\n     </cc:Agent>\n    </dc:creator>\n   </cc:Work>\n  </rdf:RDF>\n </metadata>\n <defs>\n  <style type=\"text/css\">*{stroke-linecap:butt;stroke-linejoin:round;}</style>\n </defs>\n <g id=\"figure_1\">\n  <g id=\"patch_1\">\n   <path d=\"M 0 386.034375 \nL 728.960937 386.034375 \nL 728.960937 0 \nL 0 0 \nz\n\" style=\"fill:#ffffff;\"/>\n  </g>\n  <g id=\"axes_1\">\n   <g id=\"patch_2\">\n    <path d=\"M 52.160938 348.478125 \nL 356.524574 348.478125 \nL 356.524574 22.318125 \nL 52.160938 22.318125 \nz\n\" style=\"fill:#ffffff;\"/>\n   </g>\n   <g id=\"matplotlib.axis_1\">\n    <g id=\"xtick_1\">\n     <g id=\"line2d_1\">\n      <path clip-path=\"url(#pba74d6571b)\" d=\"M 58.261997 348.478125 \nL 58.261997 22.318125 \n\" style=\"fill:none;stroke:#cccccc;stroke-linecap:round;stroke-width:0.8;\"/>\n     </g>\n     <g id=\"text_1\">\n      <!-- −1.5 -->\n      <g style=\"fill:#262626;\" transform=\"translate(46.120591 363.076562)scale(0.1 -0.1)\">\n       <defs>\n        <path d=\"M 10.59375 35.5 \nL 73.1875 35.5 \nL 73.1875 27.203125 \nL 10.59375 27.203125 \nz\n\" id=\"DejaVuSans-8722\"/>\n        <path d=\"M 12.40625 8.296875 \nL 28.515625 8.296875 \nL 28.515625 63.921875 \nL 10.984375 60.40625 \nL 10.984375 69.390625 \nL 28.421875 72.90625 \nL 38.28125 72.90625 \nL 38.28125 8.296875 \nL 54.390625 8.296875 \nL 54.390625 0 \nL 12.40625 0 \nz\n\" id=\"DejaVuSans-49\"/>\n        <path d=\"M 10.6875 12.40625 \nL 21 12.40625 \nL 21 0 \nL 10.6875 0 \nz\n\" id=\"DejaVuSans-46\"/>\n        <path d=\"M 10.796875 72.90625 \nL 49.515625 72.90625 \nL 49.515625 64.59375 \nL 19.828125 64.59375 \nL 19.828125 46.734375 \nQ 21.96875 47.46875 24.109375 47.828125 \nQ 26.265625 48.1875 28.421875 48.1875 \nQ 40.625 48.1875 47.75 41.5 \nQ 54.890625 34.8125 54.890625 23.390625 \nQ 54.890625 11.625 47.5625 5.09375 \nQ 40.234375 -1.421875 26.90625 -1.421875 \nQ 22.3125 -1.421875 17.546875 -0.640625 \nQ 12.796875 0.140625 7.71875 1.703125 \nL 7.71875 11.625 \nQ 12.109375 9.234375 16.796875 8.0625 \nQ 21.484375 6.890625 26.703125 6.890625 \nQ 35.15625 6.890625 40.078125 11.328125 \nQ 45.015625 15.765625 45.015625 23.390625 \nQ 45.015625 31 40.078125 35.4375 \nQ 35.15625 39.890625 26.703125 39.890625 \nQ 22.75 39.890625 18.8125 39.015625 \nQ 14.890625 38.140625 10.796875 36.28125 \nz\n\" id=\"DejaVuSans-53\"/>\n       </defs>\n       <use xlink:href=\"#DejaVuSans-8722\"/>\n       <use x=\"83.789062\" xlink:href=\"#DejaVuSans-49\"/>\n       <use x=\"147.412109\" xlink:href=\"#DejaVuSans-46\"/>\n       <use x=\"179.199219\" xlink:href=\"#DejaVuSans-53\"/>\n      </g>\n     </g>\n    </g>\n    <g id=\"xtick_2\">\n     <g id=\"line2d_2\">\n      <path clip-path=\"url(#pba74d6571b)\" d=\"M 103.443188 348.478125 \nL 103.443188 22.318125 \n\" style=\"fill:none;stroke:#cccccc;stroke-linecap:round;stroke-width:0.8;\"/>\n     </g>\n     <g id=\"text_2\">\n      <!-- −1.0 -->\n      <g style=\"fill:#262626;\" transform=\"translate(91.301782 363.076562)scale(0.1 -0.1)\">\n       <defs>\n        <path d=\"M 31.78125 66.40625 \nQ 24.171875 66.40625 20.328125 58.90625 \nQ 16.5 51.421875 16.5 36.375 \nQ 16.5 21.390625 20.328125 13.890625 \nQ 24.171875 6.390625 31.78125 6.390625 \nQ 39.453125 6.390625 43.28125 13.890625 \nQ 47.125 21.390625 47.125 36.375 \nQ 47.125 51.421875 43.28125 58.90625 \nQ 39.453125 66.40625 31.78125 66.40625 \nz\nM 31.78125 74.21875 \nQ 44.046875 74.21875 50.515625 64.515625 \nQ 56.984375 54.828125 56.984375 36.375 \nQ 56.984375 17.96875 50.515625 8.265625 \nQ 44.046875 -1.421875 31.78125 -1.421875 \nQ 19.53125 -1.421875 13.0625 8.265625 \nQ 6.59375 17.96875 6.59375 36.375 \nQ 6.59375 54.828125 13.0625 64.515625 \nQ 19.53125 74.21875 31.78125 74.21875 \nz\n\" id=\"DejaVuSans-48\"/>\n       </defs>\n       <use xlink:href=\"#DejaVuSans-8722\"/>\n       <use x=\"83.789062\" xlink:href=\"#DejaVuSans-49\"/>\n       <use x=\"147.412109\" xlink:href=\"#DejaVuSans-46\"/>\n       <use x=\"179.199219\" xlink:href=\"#DejaVuSans-48\"/>\n      </g>\n     </g>\n    </g>\n    <g id=\"xtick_3\">\n     <g id=\"line2d_3\">\n      <path clip-path=\"url(#pba74d6571b)\" d=\"M 148.624379 348.478125 \nL 148.624379 22.318125 \n\" style=\"fill:none;stroke:#cccccc;stroke-linecap:round;stroke-width:0.8;\"/>\n     </g>\n     <g id=\"text_3\">\n      <!-- −0.5 -->\n      <g style=\"fill:#262626;\" transform=\"translate(136.482972 363.076562)scale(0.1 -0.1)\">\n       <use xlink:href=\"#DejaVuSans-8722\"/>\n       <use x=\"83.789062\" xlink:href=\"#DejaVuSans-48\"/>\n       <use x=\"147.412109\" xlink:href=\"#DejaVuSans-46\"/>\n       <use x=\"179.199219\" xlink:href=\"#DejaVuSans-53\"/>\n      </g>\n     </g>\n    </g>\n    <g id=\"xtick_4\">\n     <g id=\"line2d_4\">\n      <path clip-path=\"url(#pba74d6571b)\" d=\"M 193.805569 348.478125 \nL 193.805569 22.318125 \n\" style=\"fill:none;stroke:#cccccc;stroke-linecap:round;stroke-width:0.8;\"/>\n     </g>\n     <g id=\"text_4\">\n      <!-- 0.0 -->\n      <g style=\"fill:#262626;\" transform=\"translate(185.854007 363.076562)scale(0.1 -0.1)\">\n       <use xlink:href=\"#DejaVuSans-48\"/>\n       <use x=\"63.623047\" xlink:href=\"#DejaVuSans-46\"/>\n       <use x=\"95.410156\" xlink:href=\"#DejaVuSans-48\"/>\n      </g>\n     </g>\n    </g>\n    <g id=\"xtick_5\">\n     <g id=\"line2d_5\">\n      <path clip-path=\"url(#pba74d6571b)\" d=\"M 238.98676 348.478125 \nL 238.98676 22.318125 \n\" style=\"fill:none;stroke:#cccccc;stroke-linecap:round;stroke-width:0.8;\"/>\n     </g>\n     <g id=\"text_5\">\n      <!-- 0.5 -->\n      <g style=\"fill:#262626;\" transform=\"translate(231.035198 363.076562)scale(0.1 -0.1)\">\n       <use xlink:href=\"#DejaVuSans-48\"/>\n       <use x=\"63.623047\" xlink:href=\"#DejaVuSans-46\"/>\n       <use x=\"95.410156\" xlink:href=\"#DejaVuSans-53\"/>\n      </g>\n     </g>\n    </g>\n    <g id=\"xtick_6\">\n     <g id=\"line2d_6\">\n      <path clip-path=\"url(#pba74d6571b)\" d=\"M 284.167951 348.478125 \nL 284.167951 22.318125 \n\" style=\"fill:none;stroke:#cccccc;stroke-linecap:round;stroke-width:0.8;\"/>\n     </g>\n     <g id=\"text_6\">\n      <!-- 1.0 -->\n      <g style=\"fill:#262626;\" transform=\"translate(276.216388 363.076562)scale(0.1 -0.1)\">\n       <use xlink:href=\"#DejaVuSans-49\"/>\n       <use x=\"63.623047\" xlink:href=\"#DejaVuSans-46\"/>\n       <use x=\"95.410156\" xlink:href=\"#DejaVuSans-48\"/>\n      </g>\n     </g>\n    </g>\n    <g id=\"xtick_7\">\n     <g id=\"line2d_7\">\n      <path clip-path=\"url(#pba74d6571b)\" d=\"M 329.349141 348.478125 \nL 329.349141 22.318125 \n\" style=\"fill:none;stroke:#cccccc;stroke-linecap:round;stroke-width:0.8;\"/>\n     </g>\n     <g id=\"text_7\">\n      <!-- 1.5 -->\n      <g style=\"fill:#262626;\" transform=\"translate(321.397579 363.076562)scale(0.1 -0.1)\">\n       <use xlink:href=\"#DejaVuSans-49\"/>\n       <use x=\"63.623047\" xlink:href=\"#DejaVuSans-46\"/>\n       <use x=\"95.410156\" xlink:href=\"#DejaVuSans-53\"/>\n      </g>\n     </g>\n    </g>\n    <g id=\"text_8\">\n     <!-- Actual -->\n     <g style=\"fill:#262626;\" transform=\"translate(188.678693 376.754687)scale(0.1 -0.1)\">\n      <defs>\n       <path d=\"M 34.1875 63.1875 \nL 20.796875 26.90625 \nL 47.609375 26.90625 \nz\nM 28.609375 72.90625 \nL 39.796875 72.90625 \nL 67.578125 0 \nL 57.328125 0 \nL 50.6875 18.703125 \nL 17.828125 18.703125 \nL 11.1875 0 \nL 0.78125 0 \nz\n\" id=\"DejaVuSans-65\"/>\n       <path d=\"M 48.78125 52.59375 \nL 48.78125 44.1875 \nQ 44.96875 46.296875 41.140625 47.34375 \nQ 37.3125 48.390625 33.40625 48.390625 \nQ 24.65625 48.390625 19.8125 42.84375 \nQ 14.984375 37.3125 14.984375 27.296875 \nQ 14.984375 17.28125 19.8125 11.734375 \nQ 24.65625 6.203125 33.40625 6.203125 \nQ 37.3125 6.203125 41.140625 7.25 \nQ 44.96875 8.296875 48.78125 10.40625 \nL 48.78125 2.09375 \nQ 45.015625 0.34375 40.984375 -0.53125 \nQ 36.96875 -1.421875 32.421875 -1.421875 \nQ 20.0625 -1.421875 12.78125 6.34375 \nQ 5.515625 14.109375 5.515625 27.296875 \nQ 5.515625 40.671875 12.859375 48.328125 \nQ 20.21875 56 33.015625 56 \nQ 37.15625 56 41.109375 55.140625 \nQ 45.0625 54.296875 48.78125 52.59375 \nz\n\" id=\"DejaVuSans-99\"/>\n       <path d=\"M 18.3125 70.21875 \nL 18.3125 54.6875 \nL 36.8125 54.6875 \nL 36.8125 47.703125 \nL 18.3125 47.703125 \nL 18.3125 18.015625 \nQ 18.3125 11.328125 20.140625 9.421875 \nQ 21.96875 7.515625 27.59375 7.515625 \nL 36.8125 7.515625 \nL 36.8125 0 \nL 27.59375 0 \nQ 17.1875 0 13.234375 3.875 \nQ 9.28125 7.765625 9.28125 18.015625 \nL 9.28125 47.703125 \nL 2.6875 47.703125 \nL 2.6875 54.6875 \nL 9.28125 54.6875 \nL 9.28125 70.21875 \nz\n\" id=\"DejaVuSans-116\"/>\n       <path d=\"M 8.5 21.578125 \nL 8.5 54.6875 \nL 17.484375 54.6875 \nL 17.484375 21.921875 \nQ 17.484375 14.15625 20.5 10.265625 \nQ 23.53125 6.390625 29.59375 6.390625 \nQ 36.859375 6.390625 41.078125 11.03125 \nQ 45.3125 15.671875 45.3125 23.6875 \nL 45.3125 54.6875 \nL 54.296875 54.6875 \nL 54.296875 0 \nL 45.3125 0 \nL 45.3125 8.40625 \nQ 42.046875 3.421875 37.71875 1 \nQ 33.40625 -1.421875 27.6875 -1.421875 \nQ 18.265625 -1.421875 13.375 4.4375 \nQ 8.5 10.296875 8.5 21.578125 \nz\nM 31.109375 56 \nz\n\" id=\"DejaVuSans-117\"/>\n       <path d=\"M 34.28125 27.484375 \nQ 23.390625 27.484375 19.1875 25 \nQ 14.984375 22.515625 14.984375 16.5 \nQ 14.984375 11.71875 18.140625 8.90625 \nQ 21.296875 6.109375 26.703125 6.109375 \nQ 34.1875 6.109375 38.703125 11.40625 \nQ 43.21875 16.703125 43.21875 25.484375 \nL 43.21875 27.484375 \nz\nM 52.203125 31.203125 \nL 52.203125 0 \nL 43.21875 0 \nL 43.21875 8.296875 \nQ 40.140625 3.328125 35.546875 0.953125 \nQ 30.953125 -1.421875 24.3125 -1.421875 \nQ 15.921875 -1.421875 10.953125 3.296875 \nQ 6 8.015625 6 15.921875 \nQ 6 25.140625 12.171875 29.828125 \nQ 18.359375 34.515625 30.609375 34.515625 \nL 43.21875 34.515625 \nL 43.21875 35.40625 \nQ 43.21875 41.609375 39.140625 45 \nQ 35.0625 48.390625 27.6875 48.390625 \nQ 23 48.390625 18.546875 47.265625 \nQ 14.109375 46.140625 10.015625 43.890625 \nL 10.015625 52.203125 \nQ 14.9375 54.109375 19.578125 55.046875 \nQ 24.21875 56 28.609375 56 \nQ 40.484375 56 46.34375 49.84375 \nQ 52.203125 43.703125 52.203125 31.203125 \nz\n\" id=\"DejaVuSans-97\"/>\n       <path d=\"M 9.421875 75.984375 \nL 18.40625 75.984375 \nL 18.40625 0 \nL 9.421875 0 \nz\n\" id=\"DejaVuSans-108\"/>\n      </defs>\n      <use xlink:href=\"#DejaVuSans-65\"/>\n      <use x=\"66.658203\" xlink:href=\"#DejaVuSans-99\"/>\n      <use x=\"121.638672\" xlink:href=\"#DejaVuSans-116\"/>\n      <use x=\"160.847656\" xlink:href=\"#DejaVuSans-117\"/>\n      <use x=\"224.226562\" xlink:href=\"#DejaVuSans-97\"/>\n      <use x=\"285.505859\" xlink:href=\"#DejaVuSans-108\"/>\n     </g>\n    </g>\n   </g>\n   <g id=\"matplotlib.axis_2\">\n    <g id=\"ytick_1\">\n     <g id=\"line2d_8\">\n      <path clip-path=\"url(#pba74d6571b)\" d=\"M 52.160938 341.94015 \nL 356.524574 341.94015 \n\" style=\"fill:none;stroke:#cccccc;stroke-linecap:round;stroke-width:0.8;\"/>\n     </g>\n     <g id=\"text_9\">\n      <!-- −1.5 -->\n      <g style=\"fill:#262626;\" transform=\"translate(20.878125 345.739369)scale(0.1 -0.1)\">\n       <use xlink:href=\"#DejaVuSans-8722\"/>\n       <use x=\"83.789062\" xlink:href=\"#DejaVuSans-49\"/>\n       <use x=\"147.412109\" xlink:href=\"#DejaVuSans-46\"/>\n       <use x=\"179.199219\" xlink:href=\"#DejaVuSans-53\"/>\n      </g>\n     </g>\n    </g>\n    <g id=\"ytick_2\">\n     <g id=\"line2d_9\">\n      <path clip-path=\"url(#pba74d6571b)\" d=\"M 52.160938 293.523404 \nL 356.524574 293.523404 \n\" style=\"fill:none;stroke:#cccccc;stroke-linecap:round;stroke-width:0.8;\"/>\n     </g>\n     <g id=\"text_10\">\n      <!-- −1.0 -->\n      <g style=\"fill:#262626;\" transform=\"translate(20.878125 297.322622)scale(0.1 -0.1)\">\n       <use xlink:href=\"#DejaVuSans-8722\"/>\n       <use x=\"83.789062\" xlink:href=\"#DejaVuSans-49\"/>\n       <use x=\"147.412109\" xlink:href=\"#DejaVuSans-46\"/>\n       <use x=\"179.199219\" xlink:href=\"#DejaVuSans-48\"/>\n      </g>\n     </g>\n    </g>\n    <g id=\"ytick_3\">\n     <g id=\"line2d_10\">\n      <path clip-path=\"url(#pba74d6571b)\" d=\"M 52.160938 245.106657 \nL 356.524574 245.106657 \n\" style=\"fill:none;stroke:#cccccc;stroke-linecap:round;stroke-width:0.8;\"/>\n     </g>\n     <g id=\"text_11\">\n      <!-- −0.5 -->\n      <g style=\"fill:#262626;\" transform=\"translate(20.878125 248.905875)scale(0.1 -0.1)\">\n       <use xlink:href=\"#DejaVuSans-8722\"/>\n       <use x=\"83.789062\" xlink:href=\"#DejaVuSans-48\"/>\n       <use x=\"147.412109\" xlink:href=\"#DejaVuSans-46\"/>\n       <use x=\"179.199219\" xlink:href=\"#DejaVuSans-53\"/>\n      </g>\n     </g>\n    </g>\n    <g id=\"ytick_4\">\n     <g id=\"line2d_11\">\n      <path clip-path=\"url(#pba74d6571b)\" d=\"M 52.160938 196.68991 \nL 356.524574 196.68991 \n\" style=\"fill:none;stroke:#cccccc;stroke-linecap:round;stroke-width:0.8;\"/>\n     </g>\n     <g id=\"text_12\">\n      <!-- 0.0 -->\n      <g style=\"fill:#262626;\" transform=\"translate(29.257813 200.489129)scale(0.1 -0.1)\">\n       <use xlink:href=\"#DejaVuSans-48\"/>\n       <use x=\"63.623047\" xlink:href=\"#DejaVuSans-46\"/>\n       <use x=\"95.410156\" xlink:href=\"#DejaVuSans-48\"/>\n      </g>\n     </g>\n    </g>\n    <g id=\"ytick_5\">\n     <g id=\"line2d_12\">\n      <path clip-path=\"url(#pba74d6571b)\" d=\"M 52.160938 148.273163 \nL 356.524574 148.273163 \n\" style=\"fill:none;stroke:#cccccc;stroke-linecap:round;stroke-width:0.8;\"/>\n     </g>\n     <g id=\"text_13\">\n      <!-- 0.5 -->\n      <g style=\"fill:#262626;\" transform=\"translate(29.257813 152.072382)scale(0.1 -0.1)\">\n       <use xlink:href=\"#DejaVuSans-48\"/>\n       <use x=\"63.623047\" xlink:href=\"#DejaVuSans-46\"/>\n       <use x=\"95.410156\" xlink:href=\"#DejaVuSans-53\"/>\n      </g>\n     </g>\n    </g>\n    <g id=\"ytick_6\">\n     <g id=\"line2d_13\">\n      <path clip-path=\"url(#pba74d6571b)\" d=\"M 52.160938 99.856416 \nL 356.524574 99.856416 \n\" style=\"fill:none;stroke:#cccccc;stroke-linecap:round;stroke-width:0.8;\"/>\n     </g>\n     <g id=\"text_14\">\n      <!-- 1.0 -->\n      <g style=\"fill:#262626;\" transform=\"translate(29.257813 103.655635)scale(0.1 -0.1)\">\n       <use xlink:href=\"#DejaVuSans-49\"/>\n       <use x=\"63.623047\" xlink:href=\"#DejaVuSans-46\"/>\n       <use x=\"95.410156\" xlink:href=\"#DejaVuSans-48\"/>\n      </g>\n     </g>\n    </g>\n    <g id=\"ytick_7\">\n     <g id=\"line2d_14\">\n      <path clip-path=\"url(#pba74d6571b)\" d=\"M 52.160938 51.439669 \nL 356.524574 51.439669 \n\" style=\"fill:none;stroke:#cccccc;stroke-linecap:round;stroke-width:0.8;\"/>\n     </g>\n     <g id=\"text_15\">\n      <!-- 1.5 -->\n      <g style=\"fill:#262626;\" transform=\"translate(29.257813 55.238888)scale(0.1 -0.1)\">\n       <use xlink:href=\"#DejaVuSans-49\"/>\n       <use x=\"63.623047\" xlink:href=\"#DejaVuSans-46\"/>\n       <use x=\"95.410156\" xlink:href=\"#DejaVuSans-53\"/>\n      </g>\n     </g>\n    </g>\n    <g id=\"text_16\">\n     <!-- Predictions -->\n     <g style=\"fill:#262626;\" transform=\"translate(14.798438 212.839531)rotate(-90)scale(0.1 -0.1)\">\n      <defs>\n       <path d=\"M 19.671875 64.796875 \nL 19.671875 37.40625 \nL 32.078125 37.40625 \nQ 38.96875 37.40625 42.71875 40.96875 \nQ 46.484375 44.53125 46.484375 51.125 \nQ 46.484375 57.671875 42.71875 61.234375 \nQ 38.96875 64.796875 32.078125 64.796875 \nz\nM 9.8125 72.90625 \nL 32.078125 72.90625 \nQ 44.34375 72.90625 50.609375 67.359375 \nQ 56.890625 61.8125 56.890625 51.125 \nQ 56.890625 40.328125 50.609375 34.8125 \nQ 44.34375 29.296875 32.078125 29.296875 \nL 19.671875 29.296875 \nL 19.671875 0 \nL 9.8125 0 \nz\n\" id=\"DejaVuSans-80\"/>\n       <path d=\"M 41.109375 46.296875 \nQ 39.59375 47.171875 37.8125 47.578125 \nQ 36.03125 48 33.890625 48 \nQ 26.265625 48 22.1875 43.046875 \nQ 18.109375 38.09375 18.109375 28.8125 \nL 18.109375 0 \nL 9.078125 0 \nL 9.078125 54.6875 \nL 18.109375 54.6875 \nL 18.109375 46.1875 \nQ 20.953125 51.171875 25.484375 53.578125 \nQ 30.03125 56 36.53125 56 \nQ 37.453125 56 38.578125 55.875 \nQ 39.703125 55.765625 41.0625 55.515625 \nz\n\" id=\"DejaVuSans-114\"/>\n       <path d=\"M 56.203125 29.59375 \nL 56.203125 25.203125 \nL 14.890625 25.203125 \nQ 15.484375 15.921875 20.484375 11.0625 \nQ 25.484375 6.203125 34.421875 6.203125 \nQ 39.59375 6.203125 44.453125 7.46875 \nQ 49.3125 8.734375 54.109375 11.28125 \nL 54.109375 2.78125 \nQ 49.265625 0.734375 44.1875 -0.34375 \nQ 39.109375 -1.421875 33.890625 -1.421875 \nQ 20.796875 -1.421875 13.15625 6.1875 \nQ 5.515625 13.8125 5.515625 26.8125 \nQ 5.515625 40.234375 12.765625 48.109375 \nQ 20.015625 56 32.328125 56 \nQ 43.359375 56 49.78125 48.890625 \nQ 56.203125 41.796875 56.203125 29.59375 \nz\nM 47.21875 32.234375 \nQ 47.125 39.59375 43.09375 43.984375 \nQ 39.0625 48.390625 32.421875 48.390625 \nQ 24.90625 48.390625 20.390625 44.140625 \nQ 15.875 39.890625 15.1875 32.171875 \nz\n\" id=\"DejaVuSans-101\"/>\n       <path d=\"M 45.40625 46.390625 \nL 45.40625 75.984375 \nL 54.390625 75.984375 \nL 54.390625 0 \nL 45.40625 0 \nL 45.40625 8.203125 \nQ 42.578125 3.328125 38.25 0.953125 \nQ 33.9375 -1.421875 27.875 -1.421875 \nQ 17.96875 -1.421875 11.734375 6.484375 \nQ 5.515625 14.40625 5.515625 27.296875 \nQ 5.515625 40.1875 11.734375 48.09375 \nQ 17.96875 56 27.875 56 \nQ 33.9375 56 38.25 53.625 \nQ 42.578125 51.265625 45.40625 46.390625 \nz\nM 14.796875 27.296875 \nQ 14.796875 17.390625 18.875 11.75 \nQ 22.953125 6.109375 30.078125 6.109375 \nQ 37.203125 6.109375 41.296875 11.75 \nQ 45.40625 17.390625 45.40625 27.296875 \nQ 45.40625 37.203125 41.296875 42.84375 \nQ 37.203125 48.484375 30.078125 48.484375 \nQ 22.953125 48.484375 18.875 42.84375 \nQ 14.796875 37.203125 14.796875 27.296875 \nz\n\" id=\"DejaVuSans-100\"/>\n       <path d=\"M 9.421875 54.6875 \nL 18.40625 54.6875 \nL 18.40625 0 \nL 9.421875 0 \nz\nM 9.421875 75.984375 \nL 18.40625 75.984375 \nL 18.40625 64.59375 \nL 9.421875 64.59375 \nz\n\" id=\"DejaVuSans-105\"/>\n       <path d=\"M 30.609375 48.390625 \nQ 23.390625 48.390625 19.1875 42.75 \nQ 14.984375 37.109375 14.984375 27.296875 \nQ 14.984375 17.484375 19.15625 11.84375 \nQ 23.34375 6.203125 30.609375 6.203125 \nQ 37.796875 6.203125 41.984375 11.859375 \nQ 46.1875 17.53125 46.1875 27.296875 \nQ 46.1875 37.015625 41.984375 42.703125 \nQ 37.796875 48.390625 30.609375 48.390625 \nz\nM 30.609375 56 \nQ 42.328125 56 49.015625 48.375 \nQ 55.71875 40.765625 55.71875 27.296875 \nQ 55.71875 13.875 49.015625 6.21875 \nQ 42.328125 -1.421875 30.609375 -1.421875 \nQ 18.84375 -1.421875 12.171875 6.21875 \nQ 5.515625 13.875 5.515625 27.296875 \nQ 5.515625 40.765625 12.171875 48.375 \nQ 18.84375 56 30.609375 56 \nz\n\" id=\"DejaVuSans-111\"/>\n       <path d=\"M 54.890625 33.015625 \nL 54.890625 0 \nL 45.90625 0 \nL 45.90625 32.71875 \nQ 45.90625 40.484375 42.875 44.328125 \nQ 39.84375 48.1875 33.796875 48.1875 \nQ 26.515625 48.1875 22.3125 43.546875 \nQ 18.109375 38.921875 18.109375 30.90625 \nL 18.109375 0 \nL 9.078125 0 \nL 9.078125 54.6875 \nL 18.109375 54.6875 \nL 18.109375 46.1875 \nQ 21.34375 51.125 25.703125 53.5625 \nQ 30.078125 56 35.796875 56 \nQ 45.21875 56 50.046875 50.171875 \nQ 54.890625 44.34375 54.890625 33.015625 \nz\n\" id=\"DejaVuSans-110\"/>\n       <path d=\"M 44.28125 53.078125 \nL 44.28125 44.578125 \nQ 40.484375 46.53125 36.375 47.5 \nQ 32.28125 48.484375 27.875 48.484375 \nQ 21.1875 48.484375 17.84375 46.4375 \nQ 14.5 44.390625 14.5 40.28125 \nQ 14.5 37.15625 16.890625 35.375 \nQ 19.28125 33.59375 26.515625 31.984375 \nL 29.59375 31.296875 \nQ 39.15625 29.25 43.1875 25.515625 \nQ 47.21875 21.78125 47.21875 15.09375 \nQ 47.21875 7.46875 41.1875 3.015625 \nQ 35.15625 -1.421875 24.609375 -1.421875 \nQ 20.21875 -1.421875 15.453125 -0.5625 \nQ 10.6875 0.296875 5.421875 2 \nL 5.421875 11.28125 \nQ 10.40625 8.6875 15.234375 7.390625 \nQ 20.0625 6.109375 24.8125 6.109375 \nQ 31.15625 6.109375 34.5625 8.28125 \nQ 37.984375 10.453125 37.984375 14.40625 \nQ 37.984375 18.0625 35.515625 20.015625 \nQ 33.0625 21.96875 24.703125 23.78125 \nL 21.578125 24.515625 \nQ 13.234375 26.265625 9.515625 29.90625 \nQ 5.8125 33.546875 5.8125 39.890625 \nQ 5.8125 47.609375 11.28125 51.796875 \nQ 16.75 56 26.8125 56 \nQ 31.78125 56 36.171875 55.265625 \nQ 40.578125 54.546875 44.28125 53.078125 \nz\n\" id=\"DejaVuSans-115\"/>\n      </defs>\n      <use xlink:href=\"#DejaVuSans-80\"/>\n      <use x=\"58.552734\" xlink:href=\"#DejaVuSans-114\"/>\n      <use x=\"97.416016\" xlink:href=\"#DejaVuSans-101\"/>\n      <use x=\"158.939453\" xlink:href=\"#DejaVuSans-100\"/>\n      <use x=\"222.416016\" xlink:href=\"#DejaVuSans-105\"/>\n      <use x=\"250.199219\" xlink:href=\"#DejaVuSans-99\"/>\n      <use x=\"305.179688\" xlink:href=\"#DejaVuSans-116\"/>\n      <use x=\"344.388672\" xlink:href=\"#DejaVuSans-105\"/>\n      <use x=\"372.171875\" xlink:href=\"#DejaVuSans-111\"/>\n      <use x=\"433.353516\" xlink:href=\"#DejaVuSans-110\"/>\n      <use x=\"496.732422\" xlink:href=\"#DejaVuSans-115\"/>\n     </g>\n    </g>\n   </g>\n   <g id=\"PathCollection_1\">\n    <defs>\n     <path d=\"M 0 3 \nC 0.795609 3 1.55874 2.683901 2.12132 2.12132 \nC 2.683901 1.55874 3 0.795609 3 0 \nC 3 -0.795609 2.683901 -1.55874 2.12132 -2.12132 \nC 1.55874 -2.683901 0.795609 -3 0 -3 \nC -0.795609 -3 -1.55874 -2.683901 -2.12132 -2.12132 \nC -2.683901 -1.55874 -3 -0.795609 -3 0 \nC -3 0.795609 -2.683901 1.55874 -2.12132 2.12132 \nC -1.55874 2.683901 -0.795609 3 0 3 \nz\n\" id=\"m071fe2ce43\" style=\"stroke:#ffffff;stroke-opacity:0.2;stroke-width:0.48;\"/>\n    </defs>\n    <g clip-path=\"url(#pba74d6571b)\">\n     <use style=\"fill:#1f77b4;fill-opacity:0.2;stroke:#ffffff;stroke-opacity:0.2;stroke-width:0.48;\" x=\"296.296893\" xlink:href=\"#m071fe2ce43\" y=\"214.553129\"/>\n     <use style=\"fill:#1f77b4;fill-opacity:0.2;stroke:#ffffff;stroke-opacity:0.2;stroke-width:0.48;\" x=\"178.990369\" xlink:href=\"#m071fe2ce43\" y=\"211.188292\"/>\n     <use style=\"fill:#1f77b4;fill-opacity:0.2;stroke:#ffffff;stroke-opacity:0.2;stroke-width:0.48;\" x=\"65.995648\" xlink:href=\"#m071fe2ce43\" y=\"225.633612\"/>\n     <use style=\"fill:#1f77b4;fill-opacity:0.2;stroke:#ffffff;stroke-opacity:0.2;stroke-width:0.48;\" x=\"341.603172\" xlink:href=\"#m071fe2ce43\" y=\"167.505599\"/>\n     <use style=\"fill:#1f77b4;fill-opacity:0.2;stroke:#ffffff;stroke-opacity:0.2;stroke-width:0.48;\" x=\"65.995648\" xlink:href=\"#m071fe2ce43\" y=\"286.740279\"/>\n     <use style=\"fill:#1f77b4;fill-opacity:0.2;stroke:#ffffff;stroke-opacity:0.2;stroke-width:0.48;\" x=\"266.973078\" xlink:href=\"#m071fe2ce43\" y=\"169.172219\"/>\n     <use style=\"fill:#1f77b4;fill-opacity:0.2;stroke:#ffffff;stroke-opacity:0.2;stroke-width:0.48;\" x=\"65.995648\" xlink:href=\"#m071fe2ce43\" y=\"281.709493\"/>\n     <use style=\"fill:#1f77b4;fill-opacity:0.2;stroke:#ffffff;stroke-opacity:0.2;stroke-width:0.48;\" x=\"65.995648\" xlink:href=\"#m071fe2ce43\" y=\"259.974598\"/>\n     <use style=\"fill:#1f77b4;fill-opacity:0.2;stroke:#ffffff;stroke-opacity:0.2;stroke-width:0.48;\" x=\"321.998648\" xlink:href=\"#m071fe2ce43\" y=\"147.740836\"/>\n     <use style=\"fill:#1f77b4;fill-opacity:0.2;stroke:#ffffff;stroke-opacity:0.2;stroke-width:0.48;\" x=\"195.057843\" xlink:href=\"#m071fe2ce43\" y=\"159.171037\"/>\n     <use style=\"fill:#1f77b4;fill-opacity:0.2;stroke:#ffffff;stroke-opacity:0.2;stroke-width:0.48;\" x=\"288.367263\" xlink:href=\"#m071fe2ce43\" y=\"197.609754\"/>\n     <use style=\"fill:#1f77b4;fill-opacity:0.2;stroke:#ffffff;stroke-opacity:0.2;stroke-width:0.48;\" x=\"65.995648\" xlink:href=\"#m071fe2ce43\" y=\"214.248431\"/>\n     <use style=\"fill:#1f77b4;fill-opacity:0.2;stroke:#ffffff;stroke-opacity:0.2;stroke-width:0.48;\" x=\"339.38729\" xlink:href=\"#m071fe2ce43\" y=\"99.537341\"/>\n     <use style=\"fill:#1f77b4;fill-opacity:0.2;stroke:#ffffff;stroke-opacity:0.2;stroke-width:0.48;\" x=\"65.995648\" xlink:href=\"#m071fe2ce43\" y=\"313.306602\"/>\n     <use style=\"fill:#1f77b4;fill-opacity:0.2;stroke:#ffffff;stroke-opacity:0.2;stroke-width:0.48;\" x=\"294.386524\" xlink:href=\"#m071fe2ce43\" y=\"146.460244\"/>\n     <use style=\"fill:#1f77b4;fill-opacity:0.2;stroke:#ffffff;stroke-opacity:0.2;stroke-width:0.48;\" x=\"277.202116\" xlink:href=\"#m071fe2ce43\" y=\"125.11412\"/>\n     <use style=\"fill:#1f77b4;fill-opacity:0.2;stroke:#ffffff;stroke-opacity:0.2;stroke-width:0.48;\" x=\"213.895565\" xlink:href=\"#m071fe2ce43\" y=\"138.923986\"/>\n     <use style=\"fill:#1f77b4;fill-opacity:0.2;stroke:#ffffff;stroke-opacity:0.2;stroke-width:0.48;\" x=\"158.031682\" xlink:href=\"#m071fe2ce43\" y=\"295.03709\"/>\n     <use style=\"fill:#1f77b4;fill-opacity:0.2;stroke:#ffffff;stroke-opacity:0.2;stroke-width:0.48;\" x=\"195.057843\" xlink:href=\"#m071fe2ce43\" y=\"108.320662\"/>\n     <use style=\"fill:#1f77b4;fill-opacity:0.2;stroke:#ffffff;stroke-opacity:0.2;stroke-width:0.48;\" x=\"104.028452\" xlink:href=\"#m071fe2ce43\" y=\"223.211797\"/>\n     <use style=\"fill:#1f77b4;fill-opacity:0.2;stroke:#ffffff;stroke-opacity:0.2;stroke-width:0.48;\" x=\"337.112085\" xlink:href=\"#m071fe2ce43\" y=\"191.819397\"/>\n     <use style=\"fill:#1f77b4;fill-opacity:0.2;stroke:#ffffff;stroke-opacity:0.2;stroke-width:0.48;\" x=\"248.552904\" xlink:href=\"#m071fe2ce43\" y=\"194.06646\"/>\n     <use style=\"fill:#1f77b4;fill-opacity:0.2;stroke:#ffffff;stroke-opacity:0.2;stroke-width:0.48;\" x=\"224.189079\" xlink:href=\"#m071fe2ce43\" y=\"201.664733\"/>\n     <use style=\"fill:#1f77b4;fill-opacity:0.2;stroke:#ffffff;stroke-opacity:0.2;stroke-width:0.48;\" x=\"65.995648\" xlink:href=\"#m071fe2ce43\" y=\"303.939541\"/>\n     <use style=\"fill:#1f77b4;fill-opacity:0.2;stroke:#ffffff;stroke-opacity:0.2;stroke-width:0.48;\" x=\"65.995648\" xlink:href=\"#m071fe2ce43\" y=\"281.65398\"/>\n     <use style=\"fill:#1f77b4;fill-opacity:0.2;stroke:#ffffff;stroke-opacity:0.2;stroke-width:0.48;\" x=\"65.995648\" xlink:href=\"#m071fe2ce43\" y=\"256.680765\"/>\n     <use style=\"fill:#1f77b4;fill-opacity:0.2;stroke:#ffffff;stroke-opacity:0.2;stroke-width:0.48;\" x=\"158.031682\" xlink:href=\"#m071fe2ce43\" y=\"277.929035\"/>\n     <use style=\"fill:#1f77b4;fill-opacity:0.2;stroke:#ffffff;stroke-opacity:0.2;stroke-width:0.48;\" x=\"201.901232\" xlink:href=\"#m071fe2ce43\" y=\"120.820201\"/>\n     <use style=\"fill:#1f77b4;fill-opacity:0.2;stroke:#ffffff;stroke-opacity:0.2;stroke-width:0.48;\" x=\"104.028452\" xlink:href=\"#m071fe2ce43\" y=\"171.130637\"/>\n     <use style=\"fill:#1f77b4;fill-opacity:0.2;stroke:#ffffff;stroke-opacity:0.2;stroke-width:0.48;\" x=\"169.31072\" xlink:href=\"#m071fe2ce43\" y=\"182.683865\"/>\n     <use style=\"fill:#1f77b4;fill-opacity:0.2;stroke:#ffffff;stroke-opacity:0.2;stroke-width:0.48;\" x=\"269.658213\" xlink:href=\"#m071fe2ce43\" y=\"155.602943\"/>\n     <use style=\"fill:#1f77b4;fill-opacity:0.2;stroke:#ffffff;stroke-opacity:0.2;stroke-width:0.48;\" x=\"195.057843\" xlink:href=\"#m071fe2ce43\" y=\"247.798274\"/>\n     <use style=\"fill:#1f77b4;fill-opacity:0.2;stroke:#ffffff;stroke-opacity:0.2;stroke-width:0.48;\" x=\"201.901232\" xlink:href=\"#m071fe2ce43\" y=\"259.653932\"/>\n     <use style=\"fill:#1f77b4;fill-opacity:0.2;stroke:#ffffff;stroke-opacity:0.2;stroke-width:0.48;\" x=\"65.995648\" xlink:href=\"#m071fe2ce43\" y=\"277.959874\"/>\n     <use style=\"fill:#1f77b4;fill-opacity:0.2;stroke:#ffffff;stroke-opacity:0.2;stroke-width:0.48;\" x=\"298.163135\" xlink:href=\"#m071fe2ce43\" y=\"190.599793\"/>\n     <use style=\"fill:#1f77b4;fill-opacity:0.2;stroke:#ffffff;stroke-opacity:0.2;stroke-width:0.48;\" x=\"65.995648\" xlink:href=\"#m071fe2ce43\" y=\"224.161316\"/>\n     <use style=\"fill:#1f77b4;fill-opacity:0.2;stroke:#ffffff;stroke-opacity:0.2;stroke-width:0.48;\" x=\"321.998648\" xlink:href=\"#m071fe2ce43\" y=\"200.161728\"/>\n     <use style=\"fill:#1f77b4;fill-opacity:0.2;stroke:#ffffff;stroke-opacity:0.2;stroke-width:0.48;\" x=\"224.189079\" xlink:href=\"#m071fe2ce43\" y=\"225.067038\"/>\n     <use style=\"fill:#1f77b4;fill-opacity:0.2;stroke:#ffffff;stroke-opacity:0.2;stroke-width:0.48;\" x=\"213.895565\" xlink:href=\"#m071fe2ce43\" y=\"140.195464\"/>\n     <use style=\"fill:#1f77b4;fill-opacity:0.2;stroke:#ffffff;stroke-opacity:0.2;stroke-width:0.48;\" x=\"65.995648\" xlink:href=\"#m071fe2ce43\" y=\"286.235271\"/>\n     <use style=\"fill:#1f77b4;fill-opacity:0.2;stroke:#ffffff;stroke-opacity:0.2;stroke-width:0.48;\" x=\"104.028452\" xlink:href=\"#m071fe2ce43\" y=\"207.182709\"/>\n     <use style=\"fill:#1f77b4;fill-opacity:0.2;stroke:#ffffff;stroke-opacity:0.2;stroke-width:0.48;\" x=\"104.028452\" xlink:href=\"#m071fe2ce43\" y=\"206.005272\"/>\n     <use style=\"fill:#1f77b4;fill-opacity:0.2;stroke:#ffffff;stroke-opacity:0.2;stroke-width:0.48;\" x=\"104.028452\" xlink:href=\"#m071fe2ce43\" y=\"183.917127\"/>\n     <use style=\"fill:#1f77b4;fill-opacity:0.2;stroke:#ffffff;stroke-opacity:0.2;stroke-width:0.48;\" x=\"281.858074\" xlink:href=\"#m071fe2ce43\" y=\"107.637325\"/>\n     <use style=\"fill:#1f77b4;fill-opacity:0.2;stroke:#ffffff;stroke-opacity:0.2;stroke-width:0.48;\" x=\"310.149519\" xlink:href=\"#m071fe2ce43\" y=\"189.5876\"/>\n     <use style=\"fill:#1f77b4;fill-opacity:0.2;stroke:#ffffff;stroke-opacity:0.2;stroke-width:0.48;\" x=\"208.147173\" xlink:href=\"#m071fe2ce43\" y=\"136.614003\"/>\n     <use style=\"fill:#1f77b4;fill-opacity:0.2;stroke:#ffffff;stroke-opacity:0.2;stroke-width:0.48;\" x=\"65.995648\" xlink:href=\"#m071fe2ce43\" y=\"302.172974\"/>\n     <use style=\"fill:#1f77b4;fill-opacity:0.2;stroke:#ffffff;stroke-opacity:0.2;stroke-width:0.48;\" x=\"290.424234\" xlink:href=\"#m071fe2ce43\" y=\"136.860458\"/>\n     <use style=\"fill:#1f77b4;fill-opacity:0.2;stroke:#ffffff;stroke-opacity:0.2;stroke-width:0.48;\" x=\"178.990369\" xlink:href=\"#m071fe2ce43\" y=\"186.076701\"/>\n     <use style=\"fill:#1f77b4;fill-opacity:0.2;stroke:#ffffff;stroke-opacity:0.2;stroke-width:0.48;\" x=\"65.995648\" xlink:href=\"#m071fe2ce43\" y=\"253.313355\"/>\n     <use style=\"fill:#1f77b4;fill-opacity:0.2;stroke:#ffffff;stroke-opacity:0.2;stroke-width:0.48;\" x=\"178.990369\" xlink:href=\"#m071fe2ce43\" y=\"234.159512\"/>\n     <use style=\"fill:#1f77b4;fill-opacity:0.2;stroke:#ffffff;stroke-opacity:0.2;stroke-width:0.48;\" x=\"219.2229\" xlink:href=\"#m071fe2ce43\" y=\"143.6802\"/>\n     <use style=\"fill:#1f77b4;fill-opacity:0.2;stroke:#ffffff;stroke-opacity:0.2;stroke-width:0.48;\" x=\"334.774124\" xlink:href=\"#m071fe2ce43\" y=\"107.276939\"/>\n     <use style=\"fill:#1f77b4;fill-opacity:0.2;stroke:#ffffff;stroke-opacity:0.2;stroke-width:0.48;\" x=\"144.473222\" xlink:href=\"#m071fe2ce43\" y=\"283.371627\"/>\n     <use style=\"fill:#1f77b4;fill-opacity:0.2;stroke:#ffffff;stroke-opacity:0.2;stroke-width:0.48;\" x=\"65.995648\" xlink:href=\"#m071fe2ce43\" y=\"316.21978\"/>\n     <use style=\"fill:#1f77b4;fill-opacity:0.2;stroke:#ffffff;stroke-opacity:0.2;stroke-width:0.48;\" x=\"144.473222\" xlink:href=\"#m071fe2ce43\" y=\"131.807289\"/>\n     <use style=\"fill:#1f77b4;fill-opacity:0.2;stroke:#ffffff;stroke-opacity:0.2;stroke-width:0.48;\" x=\"237.355883\" xlink:href=\"#m071fe2ce43\" y=\"171.445174\"/>\n     <use style=\"fill:#1f77b4;fill-opacity:0.2;stroke:#ffffff;stroke-opacity:0.2;stroke-width:0.48;\" x=\"201.901232\" xlink:href=\"#m071fe2ce43\" y=\"233.927123\"/>\n     <use style=\"fill:#1f77b4;fill-opacity:0.2;stroke:#ffffff;stroke-opacity:0.2;stroke-width:0.48;\" x=\"317.751481\" xlink:href=\"#m071fe2ce43\" y=\"111.671802\"/>\n     <use style=\"fill:#1f77b4;fill-opacity:0.2;stroke:#ffffff;stroke-opacity:0.2;stroke-width:0.48;\" x=\"237.355883\" xlink:href=\"#m071fe2ce43\" y=\"148.665022\"/>\n     <use style=\"fill:#1f77b4;fill-opacity:0.2;stroke:#ffffff;stroke-opacity:0.2;stroke-width:0.48;\" x=\"320.606901\" xlink:href=\"#m071fe2ce43\" y=\"86.927791\"/>\n     <use style=\"fill:#1f77b4;fill-opacity:0.2;stroke:#ffffff;stroke-opacity:0.2;stroke-width:0.48;\" x=\"65.995648\" xlink:href=\"#m071fe2ce43\" y=\"302.163844\"/>\n     <use style=\"fill:#1f77b4;fill-opacity:0.2;stroke:#ffffff;stroke-opacity:0.2;stroke-width:0.48;\" x=\"264.192127\" xlink:href=\"#m071fe2ce43\" y=\"158.454382\"/>\n     <use style=\"fill:#1f77b4;fill-opacity:0.2;stroke:#ffffff;stroke-opacity:0.2;stroke-width:0.48;\" x=\"65.995648\" xlink:href=\"#m071fe2ce43\" y=\"316.21978\"/>\n     <use style=\"fill:#1f77b4;fill-opacity:0.2;stroke:#ffffff;stroke-opacity:0.2;stroke-width:0.48;\" x=\"158.031682\" xlink:href=\"#m071fe2ce43\" y=\"251.097472\"/>\n     <use style=\"fill:#1f77b4;fill-opacity:0.2;stroke:#ffffff;stroke-opacity:0.2;stroke-width:0.48;\" x=\"65.995648\" xlink:href=\"#m071fe2ce43\" y=\"276.57304\"/>\n     <use style=\"fill:#1f77b4;fill-opacity:0.2;stroke:#ffffff;stroke-opacity:0.2;stroke-width:0.48;\" x=\"195.057843\" xlink:href=\"#m071fe2ce43\" y=\"270.583875\"/>\n     <use style=\"fill:#1f77b4;fill-opacity:0.2;stroke:#ffffff;stroke-opacity:0.2;stroke-width:0.48;\" x=\"269.658213\" xlink:href=\"#m071fe2ce43\" y=\"201.861362\"/>\n     <use style=\"fill:#1f77b4;fill-opacity:0.2;stroke:#ffffff;stroke-opacity:0.2;stroke-width:0.48;\" x=\"340.502443\" xlink:href=\"#m071fe2ce43\" y=\"79.795087\"/>\n     <use style=\"fill:#1f77b4;fill-opacity:0.2;stroke:#ffffff;stroke-opacity:0.2;stroke-width:0.48;\" x=\"65.995648\" xlink:href=\"#m071fe2ce43\" y=\"295.597112\"/>\n     <use style=\"fill:#1f77b4;fill-opacity:0.2;stroke:#ffffff;stroke-opacity:0.2;stroke-width:0.48;\" x=\"169.31072\" xlink:href=\"#m071fe2ce43\" y=\"207.578616\"/>\n     <use style=\"fill:#1f77b4;fill-opacity:0.2;stroke:#ffffff;stroke-opacity:0.2;stroke-width:0.48;\" x=\"127.384739\" xlink:href=\"#m071fe2ce43\" y=\"169.54221\"/>\n     <use style=\"fill:#1f77b4;fill-opacity:0.2;stroke:#ffffff;stroke-opacity:0.2;stroke-width:0.48;\" x=\"65.995648\" xlink:href=\"#m071fe2ce43\" y=\"288.342564\"/>\n     <use style=\"fill:#1f77b4;fill-opacity:0.2;stroke:#ffffff;stroke-opacity:0.2;stroke-width:0.48;\" x=\"303.517225\" xlink:href=\"#m071fe2ce43\" y=\"140.215295\"/>\n     <use style=\"fill:#1f77b4;fill-opacity:0.2;stroke:#ffffff;stroke-opacity:0.2;stroke-width:0.48;\" x=\"261.307895\" xlink:href=\"#m071fe2ce43\" y=\"137.287558\"/>\n     <use style=\"fill:#1f77b4;fill-opacity:0.2;stroke:#ffffff;stroke-opacity:0.2;stroke-width:0.48;\" x=\"245.001515\" xlink:href=\"#m071fe2ce43\" y=\"161.153113\"/>\n     <use style=\"fill:#1f77b4;fill-opacity:0.2;stroke:#ffffff;stroke-opacity:0.2;stroke-width:0.48;\" x=\"323.367524\" xlink:href=\"#m071fe2ce43\" y=\"95.530257\"/>\n     <use style=\"fill:#1f77b4;fill-opacity:0.2;stroke:#ffffff;stroke-opacity:0.2;stroke-width:0.48;\" x=\"333.580454\" xlink:href=\"#m071fe2ce43\" y=\"81.653449\"/>\n     <use style=\"fill:#1f77b4;fill-opacity:0.2;stroke:#ffffff;stroke-opacity:0.2;stroke-width:0.48;\" x=\"104.028452\" xlink:href=\"#m071fe2ce43\" y=\"308.394138\"/>\n     <use style=\"fill:#1f77b4;fill-opacity:0.2;stroke:#ffffff;stroke-opacity:0.2;stroke-width:0.48;\" x=\"298.163135\" xlink:href=\"#m071fe2ce43\" y=\"133.445188\"/>\n     <use style=\"fill:#1f77b4;fill-opacity:0.2;stroke:#ffffff;stroke-opacity:0.2;stroke-width:0.48;\" x=\"65.995648\" xlink:href=\"#m071fe2ce43\" y=\"282.06805\"/>\n     <use style=\"fill:#1f77b4;fill-opacity:0.2;stroke:#ffffff;stroke-opacity:0.2;stroke-width:0.48;\" x=\"245.001515\" xlink:href=\"#m071fe2ce43\" y=\"172.705555\"/>\n     <use style=\"fill:#1f77b4;fill-opacity:0.2;stroke:#ffffff;stroke-opacity:0.2;stroke-width:0.48;\" x=\"296.296893\" xlink:href=\"#m071fe2ce43\" y=\"135.458772\"/>\n     <use style=\"fill:#1f77b4;fill-opacity:0.2;stroke:#ffffff;stroke-opacity:0.2;stroke-width:0.48;\" x=\"323.367524\" xlink:href=\"#m071fe2ce43\" y=\"111.549835\"/>\n     <use style=\"fill:#1f77b4;fill-opacity:0.2;stroke:#ffffff;stroke-opacity:0.2;stroke-width:0.48;\" x=\"317.751481\" xlink:href=\"#m071fe2ce43\" y=\"194.930246\"/>\n     <use style=\"fill:#1f77b4;fill-opacity:0.2;stroke:#ffffff;stroke-opacity:0.2;stroke-width:0.48;\" x=\"144.473222\" xlink:href=\"#m071fe2ce43\" y=\"172.619531\"/>\n     <use style=\"fill:#1f77b4;fill-opacity:0.2;stroke:#ffffff;stroke-opacity:0.2;stroke-width:0.48;\" x=\"219.2229\" xlink:href=\"#m071fe2ce43\" y=\"227.078907\"/>\n     <use style=\"fill:#1f77b4;fill-opacity:0.2;stroke:#ffffff;stroke-opacity:0.2;stroke-width:0.48;\" x=\"65.995648\" xlink:href=\"#m071fe2ce43\" y=\"311.728384\"/>\n     <use style=\"fill:#1f77b4;fill-opacity:0.2;stroke:#ffffff;stroke-opacity:0.2;stroke-width:0.48;\" x=\"127.384739\" xlink:href=\"#m071fe2ce43\" y=\"291.758341\"/>\n     <use style=\"fill:#1f77b4;fill-opacity:0.2;stroke:#ffffff;stroke-opacity:0.2;stroke-width:0.48;\" x=\"65.995648\" xlink:href=\"#m071fe2ce43\" y=\"311.176607\"/>\n     <use style=\"fill:#1f77b4;fill-opacity:0.2;stroke:#ffffff;stroke-opacity:0.2;stroke-width:0.48;\" x=\"326.039719\" xlink:href=\"#m071fe2ce43\" y=\"106.936973\"/>\n     <use style=\"fill:#1f77b4;fill-opacity:0.2;stroke:#ffffff;stroke-opacity:0.2;stroke-width:0.48;\" x=\"158.031682\" xlink:href=\"#m071fe2ce43\" y=\"302.389789\"/>\n     <use style=\"fill:#1f77b4;fill-opacity:0.2;stroke:#ffffff;stroke-opacity:0.2;stroke-width:0.48;\" x=\"178.990369\" xlink:href=\"#m071fe2ce43\" y=\"234.159512\"/>\n     <use style=\"fill:#1f77b4;fill-opacity:0.2;stroke:#ffffff;stroke-opacity:0.2;stroke-width:0.48;\" x=\"187.482922\" xlink:href=\"#m071fe2ce43\" y=\"161.428088\"/>\n     <use style=\"fill:#1f77b4;fill-opacity:0.2;stroke:#ffffff;stroke-opacity:0.2;stroke-width:0.48;\" x=\"158.031682\" xlink:href=\"#m071fe2ce43\" y=\"226.731198\"/>\n     <use style=\"fill:#1f77b4;fill-opacity:0.2;stroke:#ffffff;stroke-opacity:0.2;stroke-width:0.48;\" x=\"213.895565\" xlink:href=\"#m071fe2ce43\" y=\"179.376555\"/>\n     <use style=\"fill:#1f77b4;fill-opacity:0.2;stroke:#ffffff;stroke-opacity:0.2;stroke-width:0.48;\" x=\"255.19495\" xlink:href=\"#m071fe2ce43\" y=\"162.747291\"/>\n     <use style=\"fill:#1f77b4;fill-opacity:0.2;stroke:#ffffff;stroke-opacity:0.2;stroke-width:0.48;\" x=\"65.995648\" xlink:href=\"#m071fe2ce43\" y=\"243.035646\"/>\n     <use style=\"fill:#1f77b4;fill-opacity:0.2;stroke:#ffffff;stroke-opacity:0.2;stroke-width:0.48;\" x=\"65.995648\" xlink:href=\"#m071fe2ce43\" y=\"249.965675\"/>\n     <use style=\"fill:#1f77b4;fill-opacity:0.2;stroke:#ffffff;stroke-opacity:0.2;stroke-width:0.48;\" x=\"213.895565\" xlink:href=\"#m071fe2ce43\" y=\"163.954517\"/>\n     <use style=\"fill:#1f77b4;fill-opacity:0.2;stroke:#ffffff;stroke-opacity:0.2;stroke-width:0.48;\" x=\"213.895565\" xlink:href=\"#m071fe2ce43\" y=\"202.230115\"/>\n     <use style=\"fill:#1f77b4;fill-opacity:0.2;stroke:#ffffff;stroke-opacity:0.2;stroke-width:0.48;\" x=\"299.987334\" xlink:href=\"#m071fe2ce43\" y=\"70.301693\"/>\n     <use style=\"fill:#1f77b4;fill-opacity:0.2;stroke:#ffffff;stroke-opacity:0.2;stroke-width:0.48;\" x=\"178.990369\" xlink:href=\"#m071fe2ce43\" y=\"211.32762\"/>\n     <use style=\"fill:#1f77b4;fill-opacity:0.2;stroke:#ffffff;stroke-opacity:0.2;stroke-width:0.48;\" x=\"65.995648\" xlink:href=\"#m071fe2ce43\" y=\"302.163844\"/>\n     <use style=\"fill:#1f77b4;fill-opacity:0.2;stroke:#ffffff;stroke-opacity:0.2;stroke-width:0.48;\" x=\"248.552904\" xlink:href=\"#m071fe2ce43\" y=\"151.719043\"/>\n     <use style=\"fill:#1f77b4;fill-opacity:0.2;stroke:#ffffff;stroke-opacity:0.2;stroke-width:0.48;\" x=\"144.473222\" xlink:href=\"#m071fe2ce43\" y=\"168.809051\"/>\n     <use style=\"fill:#1f77b4;fill-opacity:0.2;stroke:#ffffff;stroke-opacity:0.2;stroke-width:0.48;\" x=\"228.841918\" xlink:href=\"#m071fe2ce43\" y=\"174.009425\"/>\n     <use style=\"fill:#1f77b4;fill-opacity:0.2;stroke:#ffffff;stroke-opacity:0.2;stroke-width:0.48;\" x=\"264.192127\" xlink:href=\"#m071fe2ce43\" y=\"123.767242\"/>\n     <use style=\"fill:#1f77b4;fill-opacity:0.2;stroke:#ffffff;stroke-opacity:0.2;stroke-width:0.48;\" x=\"65.995648\" xlink:href=\"#m071fe2ce43\" y=\"177.077421\"/>\n     <use style=\"fill:#1f77b4;fill-opacity:0.2;stroke:#ffffff;stroke-opacity:0.2;stroke-width:0.48;\" x=\"65.995648\" xlink:href=\"#m071fe2ce43\" y=\"296.828775\"/>\n     <use style=\"fill:#1f77b4;fill-opacity:0.2;stroke:#ffffff;stroke-opacity:0.2;stroke-width:0.48;\" x=\"195.057843\" xlink:href=\"#m071fe2ce43\" y=\"214.608734\"/>\n     <use style=\"fill:#1f77b4;fill-opacity:0.2;stroke:#ffffff;stroke-opacity:0.2;stroke-width:0.48;\" x=\"127.384739\" xlink:href=\"#m071fe2ce43\" y=\"227.469449\"/>\n     <use style=\"fill:#1f77b4;fill-opacity:0.2;stroke:#ffffff;stroke-opacity:0.2;stroke-width:0.48;\" x=\"104.028452\" xlink:href=\"#m071fe2ce43\" y=\"229.529088\"/>\n     <use style=\"fill:#1f77b4;fill-opacity:0.2;stroke:#ffffff;stroke-opacity:0.2;stroke-width:0.48;\" x=\"284.087414\" xlink:href=\"#m071fe2ce43\" y=\"134.214387\"/>\n     <use style=\"fill:#1f77b4;fill-opacity:0.2;stroke:#ffffff;stroke-opacity:0.2;stroke-width:0.48;\" x=\"169.31072\" xlink:href=\"#m071fe2ce43\" y=\"222.930314\"/>\n     <use style=\"fill:#1f77b4;fill-opacity:0.2;stroke:#ffffff;stroke-opacity:0.2;stroke-width:0.48;\" x=\"104.028452\" xlink:href=\"#m071fe2ce43\" y=\"185.334291\"/>\n     <use style=\"fill:#1f77b4;fill-opacity:0.2;stroke:#ffffff;stroke-opacity:0.2;stroke-width:0.48;\" x=\"201.901232\" xlink:href=\"#m071fe2ce43\" y=\"136.582744\"/>\n     <use style=\"fill:#1f77b4;fill-opacity:0.2;stroke:#ffffff;stroke-opacity:0.2;stroke-width:0.48;\" x=\"144.473222\" xlink:href=\"#m071fe2ce43\" y=\"229.234054\"/>\n     <use style=\"fill:#1f77b4;fill-opacity:0.2;stroke:#ffffff;stroke-opacity:0.2;stroke-width:0.48;\" x=\"233.220213\" xlink:href=\"#m071fe2ce43\" y=\"219.268057\"/>\n     <use style=\"fill:#1f77b4;fill-opacity:0.2;stroke:#ffffff;stroke-opacity:0.2;stroke-width:0.48;\" x=\"127.384739\" xlink:href=\"#m071fe2ce43\" y=\"225.999127\"/>\n     <use style=\"fill:#1f77b4;fill-opacity:0.2;stroke:#ffffff;stroke-opacity:0.2;stroke-width:0.48;\" x=\"290.424234\" xlink:href=\"#m071fe2ce43\" y=\"158.951301\"/>\n     <use style=\"fill:#1f77b4;fill-opacity:0.2;stroke:#ffffff;stroke-opacity:0.2;stroke-width:0.48;\" x=\"169.31072\" xlink:href=\"#m071fe2ce43\" y=\"159.667736\"/>\n     <use style=\"fill:#1f77b4;fill-opacity:0.2;stroke:#ffffff;stroke-opacity:0.2;stroke-width:0.48;\" x=\"324.714302\" xlink:href=\"#m071fe2ce43\" y=\"131.869487\"/>\n     <use style=\"fill:#1f77b4;fill-opacity:0.2;stroke:#ffffff;stroke-opacity:0.2;stroke-width:0.48;\" x=\"65.995648\" xlink:href=\"#m071fe2ce43\" y=\"233.303214\"/>\n     <use style=\"fill:#1f77b4;fill-opacity:0.2;stroke:#ffffff;stroke-opacity:0.2;stroke-width:0.48;\" x=\"316.286036\" xlink:href=\"#m071fe2ce43\" y=\"165.710924\"/>\n     <use style=\"fill:#1f77b4;fill-opacity:0.2;stroke:#ffffff;stroke-opacity:0.2;stroke-width:0.48;\" x=\"65.995648\" xlink:href=\"#m071fe2ce43\" y=\"302.163844\"/>\n     <use style=\"fill:#1f77b4;fill-opacity:0.2;stroke:#ffffff;stroke-opacity:0.2;stroke-width:0.48;\" x=\"337.112085\" xlink:href=\"#m071fe2ce43\" y=\"155.135161\"/>\n     <use style=\"fill:#1f77b4;fill-opacity:0.2;stroke:#ffffff;stroke-opacity:0.2;stroke-width:0.48;\" x=\"301.771429\" xlink:href=\"#m071fe2ce43\" y=\"154.169299\"/>\n     <use style=\"fill:#1f77b4;fill-opacity:0.2;stroke:#ffffff;stroke-opacity:0.2;stroke-width:0.48;\" x=\"65.995648\" xlink:href=\"#m071fe2ce43\" y=\"221.225671\"/>\n     <use style=\"fill:#1f77b4;fill-opacity:0.2;stroke:#ffffff;stroke-opacity:0.2;stroke-width:0.48;\" x=\"299.987334\" xlink:href=\"#m071fe2ce43\" y=\"151.719043\"/>\n     <use style=\"fill:#1f77b4;fill-opacity:0.2;stroke:#ffffff;stroke-opacity:0.2;stroke-width:0.48;\" x=\"65.995648\" xlink:href=\"#m071fe2ce43\" y=\"281.709493\"/>\n     <use style=\"fill:#1f77b4;fill-opacity:0.2;stroke:#ffffff;stroke-opacity:0.2;stroke-width:0.48;\" x=\"258.311993\" xlink:href=\"#m071fe2ce43\" y=\"154.735614\"/>\n     <use style=\"fill:#1f77b4;fill-opacity:0.2;stroke:#ffffff;stroke-opacity:0.2;stroke-width:0.48;\" x=\"201.901232\" xlink:href=\"#m071fe2ce43\" y=\"249.316589\"/>\n     <use style=\"fill:#1f77b4;fill-opacity:0.2;stroke:#ffffff;stroke-opacity:0.2;stroke-width:0.48;\" x=\"169.31072\" xlink:href=\"#m071fe2ce43\" y=\"84.231256\"/>\n     <use style=\"fill:#1f77b4;fill-opacity:0.2;stroke:#ffffff;stroke-opacity:0.2;stroke-width:0.48;\" x=\"329.894611\" xlink:href=\"#m071fe2ce43\" y=\"121.433133\"/>\n     <use style=\"fill:#1f77b4;fill-opacity:0.2;stroke:#ffffff;stroke-opacity:0.2;stroke-width:0.48;\" x=\"65.995648\" xlink:href=\"#m071fe2ce43\" y=\"291.758341\"/>\n     <use style=\"fill:#1f77b4;fill-opacity:0.2;stroke:#ffffff;stroke-opacity:0.2;stroke-width:0.48;\" x=\"261.307895\" xlink:href=\"#m071fe2ce43\" y=\"231.063674\"/>\n     <use style=\"fill:#1f77b4;fill-opacity:0.2;stroke:#ffffff;stroke-opacity:0.2;stroke-width:0.48;\" x=\"326.039719\" xlink:href=\"#m071fe2ce43\" y=\"135.212022\"/>\n     <use style=\"fill:#1f77b4;fill-opacity:0.2;stroke:#ffffff;stroke-opacity:0.2;stroke-width:0.48;\" x=\"187.482922\" xlink:href=\"#m071fe2ce43\" y=\"146.460244\"/>\n     <use style=\"fill:#1f77b4;fill-opacity:0.2;stroke:#ffffff;stroke-opacity:0.2;stroke-width:0.48;\" x=\"195.057843\" xlink:href=\"#m071fe2ce43\" y=\"241.24621\"/>\n     <use style=\"fill:#1f77b4;fill-opacity:0.2;stroke:#ffffff;stroke-opacity:0.2;stroke-width:0.48;\" x=\"301.771429\" xlink:href=\"#m071fe2ce43\" y=\"113.362605\"/>\n     <use style=\"fill:#1f77b4;fill-opacity:0.2;stroke:#ffffff;stroke-opacity:0.2;stroke-width:0.48;\" x=\"65.995648\" xlink:href=\"#m071fe2ce43\" y=\"308.349628\"/>\n     <use style=\"fill:#1f77b4;fill-opacity:0.2;stroke:#ffffff;stroke-opacity:0.2;stroke-width:0.48;\" x=\"104.028452\" xlink:href=\"#m071fe2ce43\" y=\"211.593154\"/>\n     <use style=\"fill:#1f77b4;fill-opacity:0.2;stroke:#ffffff;stroke-opacity:0.2;stroke-width:0.48;\" x=\"277.202116\" xlink:href=\"#m071fe2ce43\" y=\"108.581876\"/>\n     <use style=\"fill:#1f77b4;fill-opacity:0.2;stroke:#ffffff;stroke-opacity:0.2;stroke-width:0.48;\" x=\"65.995648\" xlink:href=\"#m071fe2ce43\" y=\"212.648762\"/>\n     <use style=\"fill:#1f77b4;fill-opacity:0.2;stroke:#ffffff;stroke-opacity:0.2;stroke-width:0.48;\" x=\"321.998648\" xlink:href=\"#m071fe2ce43\" y=\"123.504972\"/>\n     <use style=\"fill:#1f77b4;fill-opacity:0.2;stroke:#ffffff;stroke-opacity:0.2;stroke-width:0.48;\" x=\"104.028452\" xlink:href=\"#m071fe2ce43\" y=\"231.494293\"/>\n     <use style=\"fill:#1f77b4;fill-opacity:0.2;stroke:#ffffff;stroke-opacity:0.2;stroke-width:0.48;\" x=\"233.220213\" xlink:href=\"#m071fe2ce43\" y=\"155.135161\"/>\n     <use style=\"fill:#1f77b4;fill-opacity:0.2;stroke:#ffffff;stroke-opacity:0.2;stroke-width:0.48;\" x=\"169.31072\" xlink:href=\"#m071fe2ce43\" y=\"231.063674\"/>\n     <use style=\"fill:#1f77b4;fill-opacity:0.2;stroke:#ffffff;stroke-opacity:0.2;stroke-width:0.48;\" x=\"65.995648\" xlink:href=\"#m071fe2ce43\" y=\"241.196455\"/>\n     <use style=\"fill:#1f77b4;fill-opacity:0.2;stroke:#ffffff;stroke-opacity:0.2;stroke-width:0.48;\" x=\"104.028452\" xlink:href=\"#m071fe2ce43\" y=\"254.513364\"/>\n     <use style=\"fill:#1f77b4;fill-opacity:0.2;stroke:#ffffff;stroke-opacity:0.2;stroke-width:0.48;\" x=\"104.028452\" xlink:href=\"#m071fe2ce43\" y=\"172.619531\"/>\n     <use style=\"fill:#1f77b4;fill-opacity:0.2;stroke:#ffffff;stroke-opacity:0.2;stroke-width:0.48;\" x=\"324.714302\" xlink:href=\"#m071fe2ce43\" y=\"82.659149\"/>\n     <use style=\"fill:#1f77b4;fill-opacity:0.2;stroke:#ffffff;stroke-opacity:0.2;stroke-width:0.48;\" x=\"264.192127\" xlink:href=\"#m071fe2ce43\" y=\"90.017054\"/>\n     <use style=\"fill:#1f77b4;fill-opacity:0.2;stroke:#ffffff;stroke-opacity:0.2;stroke-width:0.48;\" x=\"274.767038\" xlink:href=\"#m071fe2ce43\" y=\"160.567936\"/>\n     <use style=\"fill:#1f77b4;fill-opacity:0.2;stroke:#ffffff;stroke-opacity:0.2;stroke-width:0.48;\" x=\"144.473222\" xlink:href=\"#m071fe2ce43\" y=\"183.390074\"/>\n     <use style=\"fill:#1f77b4;fill-opacity:0.2;stroke:#ffffff;stroke-opacity:0.2;stroke-width:0.48;\" x=\"258.311993\" xlink:href=\"#m071fe2ce43\" y=\"152.650696\"/>\n     <use style=\"fill:#1f77b4;fill-opacity:0.2;stroke:#ffffff;stroke-opacity:0.2;stroke-width:0.48;\" x=\"127.384739\" xlink:href=\"#m071fe2ce43\" y=\"309.280491\"/>\n     <use style=\"fill:#1f77b4;fill-opacity:0.2;stroke:#ffffff;stroke-opacity:0.2;stroke-width:0.48;\" x=\"341.603172\" xlink:href=\"#m071fe2ce43\" y=\"74.593978\"/>\n     <use style=\"fill:#1f77b4;fill-opacity:0.2;stroke:#ffffff;stroke-opacity:0.2;stroke-width:0.48;\" x=\"178.990369\" xlink:href=\"#m071fe2ce43\" y=\"260.807921\"/>\n     <use style=\"fill:#1f77b4;fill-opacity:0.2;stroke:#ffffff;stroke-opacity:0.2;stroke-width:0.48;\" x=\"241.27552\" xlink:href=\"#m071fe2ce43\" y=\"174.009425\"/>\n     <use style=\"fill:#1f77b4;fill-opacity:0.2;stroke:#ffffff;stroke-opacity:0.2;stroke-width:0.48;\" x=\"219.2229\" xlink:href=\"#m071fe2ce43\" y=\"193.246182\"/>\n     <use style=\"fill:#1f77b4;fill-opacity:0.2;stroke:#ffffff;stroke-opacity:0.2;stroke-width:0.48;\" x=\"65.995648\" xlink:href=\"#m071fe2ce43\" y=\"246.878353\"/>\n     <use style=\"fill:#1f77b4;fill-opacity:0.2;stroke:#ffffff;stroke-opacity:0.2;stroke-width:0.48;\" x=\"65.995648\" xlink:href=\"#m071fe2ce43\" y=\"219.64461\"/>\n     <use style=\"fill:#1f77b4;fill-opacity:0.2;stroke:#ffffff;stroke-opacity:0.2;stroke-width:0.48;\" x=\"251.946013\" xlink:href=\"#m071fe2ce43\" y=\"102.532314\"/>\n     <use style=\"fill:#1f77b4;fill-opacity:0.2;stroke:#ffffff;stroke-opacity:0.2;stroke-width:0.48;\" x=\"65.995648\" xlink:href=\"#m071fe2ce43\" y=\"299.792556\"/>\n     <use style=\"fill:#1f77b4;fill-opacity:0.2;stroke:#ffffff;stroke-opacity:0.2;stroke-width:0.48;\" x=\"65.995648\" xlink:href=\"#m071fe2ce43\" y=\"277.959874\"/>\n     <use style=\"fill:#1f77b4;fill-opacity:0.2;stroke:#ffffff;stroke-opacity:0.2;stroke-width:0.48;\" x=\"127.384739\" xlink:href=\"#m071fe2ce43\" y=\"261.078386\"/>\n     <use style=\"fill:#1f77b4;fill-opacity:0.2;stroke:#ffffff;stroke-opacity:0.2;stroke-width:0.48;\" x=\"65.995648\" xlink:href=\"#m071fe2ce43\" y=\"244.782091\"/>\n     <use style=\"fill:#1f77b4;fill-opacity:0.2;stroke:#ffffff;stroke-opacity:0.2;stroke-width:0.48;\" x=\"195.057843\" xlink:href=\"#m071fe2ce43\" y=\"148.9803\"/>\n     <use style=\"fill:#1f77b4;fill-opacity:0.2;stroke:#ffffff;stroke-opacity:0.2;stroke-width:0.48;\" x=\"316.286036\" xlink:href=\"#m071fe2ce43\" y=\"146.665412\"/>\n     <use style=\"fill:#1f77b4;fill-opacity:0.2;stroke:#ffffff;stroke-opacity:0.2;stroke-width:0.48;\" x=\"264.192127\" xlink:href=\"#m071fe2ce43\" y=\"169.512271\"/>\n     <use style=\"fill:#1f77b4;fill-opacity:0.2;stroke:#ffffff;stroke-opacity:0.2;stroke-width:0.48;\" x=\"301.771429\" xlink:href=\"#m071fe2ce43\" y=\"216.934828\"/>\n     <use style=\"fill:#1f77b4;fill-opacity:0.2;stroke:#ffffff;stroke-opacity:0.2;stroke-width:0.48;\" x=\"201.901232\" xlink:href=\"#m071fe2ce43\" y=\"110.97177\"/>\n     <use style=\"fill:#1f77b4;fill-opacity:0.2;stroke:#ffffff;stroke-opacity:0.2;stroke-width:0.48;\" x=\"219.2229\" xlink:href=\"#m071fe2ce43\" y=\"234.666459\"/>\n     <use style=\"fill:#1f77b4;fill-opacity:0.2;stroke:#ffffff;stroke-opacity:0.2;stroke-width:0.48;\" x=\"65.995648\" xlink:href=\"#m071fe2ce43\" y=\"311.176607\"/>\n     <use style=\"fill:#1f77b4;fill-opacity:0.2;stroke:#ffffff;stroke-opacity:0.2;stroke-width:0.48;\" x=\"65.995648\" xlink:href=\"#m071fe2ce43\" y=\"281.709493\"/>\n     <use style=\"fill:#1f77b4;fill-opacity:0.2;stroke:#ffffff;stroke-opacity:0.2;stroke-width:0.48;\" x=\"224.189079\" xlink:href=\"#m071fe2ce43\" y=\"159.468313\"/>\n     <use style=\"fill:#1f77b4;fill-opacity:0.2;stroke:#ffffff;stroke-opacity:0.2;stroke-width:0.48;\" x=\"144.473222\" xlink:href=\"#m071fe2ce43\" y=\"238.292554\"/>\n     <use style=\"fill:#1f77b4;fill-opacity:0.2;stroke:#ffffff;stroke-opacity:0.2;stroke-width:0.48;\" x=\"104.028452\" xlink:href=\"#m071fe2ce43\" y=\"259.857612\"/>\n     <use style=\"fill:#1f77b4;fill-opacity:0.2;stroke:#ffffff;stroke-opacity:0.2;stroke-width:0.48;\" x=\"169.31072\" xlink:href=\"#m071fe2ce43\" y=\"211.504898\"/>\n     <use style=\"fill:#1f77b4;fill-opacity:0.2;stroke:#ffffff;stroke-opacity:0.2;stroke-width:0.48;\" x=\"274.767038\" xlink:href=\"#m071fe2ce43\" y=\"130.891564\"/>\n     <use style=\"fill:#1f77b4;fill-opacity:0.2;stroke:#ffffff;stroke-opacity:0.2;stroke-width:0.48;\" x=\"255.19495\" xlink:href=\"#m071fe2ce43\" y=\"137.153581\"/>\n     <use style=\"fill:#1f77b4;fill-opacity:0.2;stroke:#ffffff;stroke-opacity:0.2;stroke-width:0.48;\" x=\"65.995648\" xlink:href=\"#m071fe2ce43\" y=\"251.576685\"/>\n     <use style=\"fill:#1f77b4;fill-opacity:0.2;stroke:#ffffff;stroke-opacity:0.2;stroke-width:0.48;\" x=\"178.990369\" xlink:href=\"#m071fe2ce43\" y=\"230.255029\"/>\n     <use style=\"fill:#1f77b4;fill-opacity:0.2;stroke:#ffffff;stroke-opacity:0.2;stroke-width:0.48;\" x=\"279.564319\" xlink:href=\"#m071fe2ce43\" y=\"135.857385\"/>\n     <use style=\"fill:#1f77b4;fill-opacity:0.2;stroke:#ffffff;stroke-opacity:0.2;stroke-width:0.48;\" x=\"219.2229\" xlink:href=\"#m071fe2ce43\" y=\"167.860699\"/>\n     <use style=\"fill:#1f77b4;fill-opacity:0.2;stroke:#ffffff;stroke-opacity:0.2;stroke-width:0.48;\" x=\"127.384739\" xlink:href=\"#m071fe2ce43\" y=\"150.251623\"/>\n     <use style=\"fill:#1f77b4;fill-opacity:0.2;stroke:#ffffff;stroke-opacity:0.2;stroke-width:0.48;\" x=\"224.189079\" xlink:href=\"#m071fe2ce43\" y=\"167.831753\"/>\n     <use style=\"fill:#1f77b4;fill-opacity:0.2;stroke:#ffffff;stroke-opacity:0.2;stroke-width:0.48;\" x=\"158.031682\" xlink:href=\"#m071fe2ce43\" y=\"255.581\"/>\n     <use style=\"fill:#1f77b4;fill-opacity:0.2;stroke:#ffffff;stroke-opacity:0.2;stroke-width:0.48;\" x=\"303.517225\" xlink:href=\"#m071fe2ce43\" y=\"190.882568\"/>\n     <use style=\"fill:#1f77b4;fill-opacity:0.2;stroke:#ffffff;stroke-opacity:0.2;stroke-width:0.48;\" x=\"255.19495\" xlink:href=\"#m071fe2ce43\" y=\"146.665412\"/>\n     <use style=\"fill:#1f77b4;fill-opacity:0.2;stroke:#ffffff;stroke-opacity:0.2;stroke-width:0.48;\" x=\"290.424234\" xlink:href=\"#m071fe2ce43\" y=\"211.369166\"/>\n     <use style=\"fill:#1f77b4;fill-opacity:0.2;stroke:#ffffff;stroke-opacity:0.2;stroke-width:0.48;\" x=\"178.990369\" xlink:href=\"#m071fe2ce43\" y=\"189.223133\"/>\n     <use style=\"fill:#1f77b4;fill-opacity:0.2;stroke:#ffffff;stroke-opacity:0.2;stroke-width:0.48;\" x=\"303.517225\" xlink:href=\"#m071fe2ce43\" y=\"197.604855\"/>\n     <use style=\"fill:#1f77b4;fill-opacity:0.2;stroke:#ffffff;stroke-opacity:0.2;stroke-width:0.48;\" x=\"314.794167\" xlink:href=\"#m071fe2ce43\" y=\"158.454382\"/>\n     <use style=\"fill:#1f77b4;fill-opacity:0.2;stroke:#ffffff;stroke-opacity:0.2;stroke-width:0.48;\" x=\"144.473222\" xlink:href=\"#m071fe2ce43\" y=\"222.985333\"/>\n     <use style=\"fill:#1f77b4;fill-opacity:0.2;stroke:#ffffff;stroke-opacity:0.2;stroke-width:0.48;\" x=\"255.19495\" xlink:href=\"#m071fe2ce43\" y=\"196.152059\"/>\n     <use style=\"fill:#1f77b4;fill-opacity:0.2;stroke:#ffffff;stroke-opacity:0.2;stroke-width:0.48;\" x=\"158.031682\" xlink:href=\"#m071fe2ce43\" y=\"244.100323\"/>\n     <use style=\"fill:#1f77b4;fill-opacity:0.2;stroke:#ffffff;stroke-opacity:0.2;stroke-width:0.48;\" x=\"127.384739\" xlink:href=\"#m071fe2ce43\" y=\"211.215229\"/>\n     <use style=\"fill:#1f77b4;fill-opacity:0.2;stroke:#ffffff;stroke-opacity:0.2;stroke-width:0.48;\" x=\"65.995648\" xlink:href=\"#m071fe2ce43\" y=\"316.517558\"/>\n     <use style=\"fill:#1f77b4;fill-opacity:0.2;stroke:#ffffff;stroke-opacity:0.2;stroke-width:0.48;\" x=\"201.901232\" xlink:href=\"#m071fe2ce43\" y=\"213.149502\"/>\n     <use style=\"fill:#1f77b4;fill-opacity:0.2;stroke:#ffffff;stroke-opacity:0.2;stroke-width:0.48;\" x=\"313.274857\" xlink:href=\"#m071fe2ce43\" y=\"116.135188\"/>\n     <use style=\"fill:#1f77b4;fill-opacity:0.2;stroke:#ffffff;stroke-opacity:0.2;stroke-width:0.48;\" x=\"228.841918\" xlink:href=\"#m071fe2ce43\" y=\"234.159512\"/>\n     <use style=\"fill:#1f77b4;fill-opacity:0.2;stroke:#ffffff;stroke-opacity:0.2;stroke-width:0.48;\" x=\"65.995648\" xlink:href=\"#m071fe2ce43\" y=\"270.583875\"/>\n     <use style=\"fill:#1f77b4;fill-opacity:0.2;stroke:#ffffff;stroke-opacity:0.2;stroke-width:0.48;\" x=\"158.031682\" xlink:href=\"#m071fe2ce43\" y=\"245.707374\"/>\n     <use style=\"fill:#1f77b4;fill-opacity:0.2;stroke:#ffffff;stroke-opacity:0.2;stroke-width:0.48;\" x=\"104.028452\" xlink:href=\"#m071fe2ce43\" y=\"277.309274\"/>\n     <use style=\"fill:#1f77b4;fill-opacity:0.2;stroke:#ffffff;stroke-opacity:0.2;stroke-width:0.48;\" x=\"224.189079\" xlink:href=\"#m071fe2ce43\" y=\"197.604855\"/>\n     <use style=\"fill:#1f77b4;fill-opacity:0.2;stroke:#ffffff;stroke-opacity:0.2;stroke-width:0.48;\" x=\"65.995648\" xlink:href=\"#m071fe2ce43\" y=\"302.163844\"/>\n     <use style=\"fill:#1f77b4;fill-opacity:0.2;stroke:#ffffff;stroke-opacity:0.2;stroke-width:0.48;\" x=\"219.2229\" xlink:href=\"#m071fe2ce43\" y=\"173.844933\"/>\n     <use style=\"fill:#1f77b4;fill-opacity:0.2;stroke:#ffffff;stroke-opacity:0.2;stroke-width:0.48;\" x=\"104.028452\" xlink:href=\"#m071fe2ce43\" y=\"299.885465\"/>\n     <use style=\"fill:#1f77b4;fill-opacity:0.2;stroke:#ffffff;stroke-opacity:0.2;stroke-width:0.48;\" x=\"104.028452\" xlink:href=\"#m071fe2ce43\" y=\"187.617328\"/>\n     <use style=\"fill:#1f77b4;fill-opacity:0.2;stroke:#ffffff;stroke-opacity:0.2;stroke-width:0.48;\" x=\"233.220213\" xlink:href=\"#m071fe2ce43\" y=\"160.245526\"/>\n     <use style=\"fill:#1f77b4;fill-opacity:0.2;stroke:#ffffff;stroke-opacity:0.2;stroke-width:0.48;\" x=\"281.858074\" xlink:href=\"#m071fe2ce43\" y=\"163.954517\"/>\n     <use style=\"fill:#1f77b4;fill-opacity:0.2;stroke:#ffffff;stroke-opacity:0.2;stroke-width:0.48;\" x=\"303.517225\" xlink:href=\"#m071fe2ce43\" y=\"214.248431\"/>\n     <use style=\"fill:#1f77b4;fill-opacity:0.2;stroke:#ffffff;stroke-opacity:0.2;stroke-width:0.48;\" x=\"261.307895\" xlink:href=\"#m071fe2ce43\" y=\"158.247067\"/>\n     <use style=\"fill:#1f77b4;fill-opacity:0.2;stroke:#ffffff;stroke-opacity:0.2;stroke-width:0.48;\" x=\"178.990369\" xlink:href=\"#m071fe2ce43\" y=\"195.983442\"/>\n     <use style=\"fill:#1f77b4;fill-opacity:0.2;stroke:#ffffff;stroke-opacity:0.2;stroke-width:0.48;\" x=\"178.990369\" xlink:href=\"#m071fe2ce43\" y=\"212.450843\"/>\n     <use style=\"fill:#1f77b4;fill-opacity:0.2;stroke:#ffffff;stroke-opacity:0.2;stroke-width:0.48;\" x=\"65.995648\" xlink:href=\"#m071fe2ce43\" y=\"239.577917\"/>\n     <use style=\"fill:#1f77b4;fill-opacity:0.2;stroke:#ffffff;stroke-opacity:0.2;stroke-width:0.48;\" x=\"169.31072\" xlink:href=\"#m071fe2ce43\" y=\"188.733285\"/>\n     <use style=\"fill:#1f77b4;fill-opacity:0.2;stroke:#ffffff;stroke-opacity:0.2;stroke-width:0.48;\" x=\"65.995648\" xlink:href=\"#m071fe2ce43\" y=\"225.447183\"/>\n     <use style=\"fill:#1f77b4;fill-opacity:0.2;stroke:#ffffff;stroke-opacity:0.2;stroke-width:0.48;\" x=\"241.27552\" xlink:href=\"#m071fe2ce43\" y=\"134.108534\"/>\n     <use style=\"fill:#1f77b4;fill-opacity:0.2;stroke:#ffffff;stroke-opacity:0.2;stroke-width:0.48;\" x=\"326.039719\" xlink:href=\"#m071fe2ce43\" y=\"72.338708\"/>\n     <use style=\"fill:#1f77b4;fill-opacity:0.2;stroke:#ffffff;stroke-opacity:0.2;stroke-width:0.48;\" x=\"65.995648\" xlink:href=\"#m071fe2ce43\" y=\"190.112143\"/>\n     <use style=\"fill:#1f77b4;fill-opacity:0.2;stroke:#ffffff;stroke-opacity:0.2;stroke-width:0.48;\" x=\"248.552904\" xlink:href=\"#m071fe2ce43\" y=\"88.221271\"/>\n     <use style=\"fill:#1f77b4;fill-opacity:0.2;stroke:#ffffff;stroke-opacity:0.2;stroke-width:0.48;\" x=\"169.31072\" xlink:href=\"#m071fe2ce43\" y=\"285.5638\"/>\n     <use style=\"fill:#1f77b4;fill-opacity:0.2;stroke:#ffffff;stroke-opacity:0.2;stroke-width:0.48;\" x=\"277.202116\" xlink:href=\"#m071fe2ce43\" y=\"211.975209\"/>\n     <use style=\"fill:#1f77b4;fill-opacity:0.2;stroke:#ffffff;stroke-opacity:0.2;stroke-width:0.48;\" x=\"104.028452\" xlink:href=\"#m071fe2ce43\" y=\"268.974412\"/>\n     <use style=\"fill:#1f77b4;fill-opacity:0.2;stroke:#ffffff;stroke-opacity:0.2;stroke-width:0.48;\" x=\"65.995648\" xlink:href=\"#m071fe2ce43\" y=\"288.894697\"/>\n     <use style=\"fill:#1f77b4;fill-opacity:0.2;stroke:#ffffff;stroke-opacity:0.2;stroke-width:0.48;\" x=\"281.858074\" xlink:href=\"#m071fe2ce43\" y=\"170.278082\"/>\n     <use style=\"fill:#1f77b4;fill-opacity:0.2;stroke:#ffffff;stroke-opacity:0.2;stroke-width:0.48;\" x=\"65.995648\" xlink:href=\"#m071fe2ce43\" y=\"290.281157\"/>\n     <use style=\"fill:#1f77b4;fill-opacity:0.2;stroke:#ffffff;stroke-opacity:0.2;stroke-width:0.48;\" x=\"104.028452\" xlink:href=\"#m071fe2ce43\" y=\"226.032754\"/>\n     <use style=\"fill:#1f77b4;fill-opacity:0.2;stroke:#ffffff;stroke-opacity:0.2;stroke-width:0.48;\" x=\"241.27552\" xlink:href=\"#m071fe2ce43\" y=\"150.251623\"/>\n     <use style=\"fill:#1f77b4;fill-opacity:0.2;stroke:#ffffff;stroke-opacity:0.2;stroke-width:0.48;\" x=\"178.990369\" xlink:href=\"#m071fe2ce43\" y=\"140.987054\"/>\n     <use style=\"fill:#1f77b4;fill-opacity:0.2;stroke:#ffffff;stroke-opacity:0.2;stroke-width:0.48;\" x=\"65.995648\" xlink:href=\"#m071fe2ce43\" y=\"308.394138\"/>\n     <use style=\"fill:#1f77b4;fill-opacity:0.2;stroke:#ffffff;stroke-opacity:0.2;stroke-width:0.48;\" x=\"169.31072\" xlink:href=\"#m071fe2ce43\" y=\"199.412747\"/>\n     <use style=\"fill:#1f77b4;fill-opacity:0.2;stroke:#ffffff;stroke-opacity:0.2;stroke-width:0.48;\" x=\"237.355883\" xlink:href=\"#m071fe2ce43\" y=\"217.541029\"/>\n     <use style=\"fill:#1f77b4;fill-opacity:0.2;stroke:#ffffff;stroke-opacity:0.2;stroke-width:0.48;\" x=\"319.191466\" xlink:href=\"#m071fe2ce43\" y=\"185.800773\"/>\n     <use style=\"fill:#1f77b4;fill-opacity:0.2;stroke:#ffffff;stroke-opacity:0.2;stroke-width:0.48;\" x=\"241.27552\" xlink:href=\"#m071fe2ce43\" y=\"161.2566\"/>\n     <use style=\"fill:#1f77b4;fill-opacity:0.2;stroke:#ffffff;stroke-opacity:0.2;stroke-width:0.48;\" x=\"208.147173\" xlink:href=\"#m071fe2ce43\" y=\"139.452716\"/>\n     <use style=\"fill:#1f77b4;fill-opacity:0.2;stroke:#ffffff;stroke-opacity:0.2;stroke-width:0.48;\" x=\"290.424234\" xlink:href=\"#m071fe2ce43\" y=\"169.512271\"/>\n     <use style=\"fill:#1f77b4;fill-opacity:0.2;stroke:#ffffff;stroke-opacity:0.2;stroke-width:0.48;\" x=\"264.192127\" xlink:href=\"#m071fe2ce43\" y=\"157.98228\"/>\n     <use style=\"fill:#1f77b4;fill-opacity:0.2;stroke:#ffffff;stroke-opacity:0.2;stroke-width:0.48;\" x=\"178.990369\" xlink:href=\"#m071fe2ce43\" y=\"142.995339\"/>\n     <use style=\"fill:#1f77b4;fill-opacity:0.2;stroke:#ffffff;stroke-opacity:0.2;stroke-width:0.48;\" x=\"104.028452\" xlink:href=\"#m071fe2ce43\" y=\"242.735422\"/>\n     <use style=\"fill:#1f77b4;fill-opacity:0.2;stroke:#ffffff;stroke-opacity:0.2;stroke-width:0.48;\" x=\"65.995648\" xlink:href=\"#m071fe2ce43\" y=\"246.878353\"/>\n     <use style=\"fill:#1f77b4;fill-opacity:0.2;stroke:#ffffff;stroke-opacity:0.2;stroke-width:0.48;\" x=\"342.689863\" xlink:href=\"#m071fe2ce43\" y=\"59.437566\"/>\n     <use style=\"fill:#1f77b4;fill-opacity:0.2;stroke:#ffffff;stroke-opacity:0.2;stroke-width:0.48;\" x=\"104.028452\" xlink:href=\"#m071fe2ce43\" y=\"212.456528\"/>\n     <use style=\"fill:#1f77b4;fill-opacity:0.2;stroke:#ffffff;stroke-opacity:0.2;stroke-width:0.48;\" x=\"298.163135\" xlink:href=\"#m071fe2ce43\" y=\"84.361811\"/>\n     <use style=\"fill:#1f77b4;fill-opacity:0.2;stroke:#ffffff;stroke-opacity:0.2;stroke-width:0.48;\" x=\"104.028452\" xlink:href=\"#m071fe2ce43\" y=\"268.227016\"/>\n     <use style=\"fill:#1f77b4;fill-opacity:0.2;stroke:#ffffff;stroke-opacity:0.2;stroke-width:0.48;\" x=\"233.220213\" xlink:href=\"#m071fe2ce43\" y=\"225.92246\"/>\n     <use style=\"fill:#1f77b4;fill-opacity:0.2;stroke:#ffffff;stroke-opacity:0.2;stroke-width:0.48;\" x=\"201.901232\" xlink:href=\"#m071fe2ce43\" y=\"181.065271\"/>\n     <use style=\"fill:#1f77b4;fill-opacity:0.2;stroke:#ffffff;stroke-opacity:0.2;stroke-width:0.48;\" x=\"65.995648\" xlink:href=\"#m071fe2ce43\" y=\"288.342564\"/>\n     <use style=\"fill:#1f77b4;fill-opacity:0.2;stroke:#ffffff;stroke-opacity:0.2;stroke-width:0.48;\" x=\"338.25731\" xlink:href=\"#m071fe2ce43\" y=\"114.491469\"/>\n     <use style=\"fill:#1f77b4;fill-opacity:0.2;stroke:#ffffff;stroke-opacity:0.2;stroke-width:0.48;\" x=\"65.995648\" xlink:href=\"#m071fe2ce43\" y=\"201.861362\"/>\n     <use style=\"fill:#1f77b4;fill-opacity:0.2;stroke:#ffffff;stroke-opacity:0.2;stroke-width:0.48;\" x=\"323.367524\" xlink:href=\"#m071fe2ce43\" y=\"92.725415\"/>\n     <use style=\"fill:#1f77b4;fill-opacity:0.2;stroke:#ffffff;stroke-opacity:0.2;stroke-width:0.48;\" x=\"269.658213\" xlink:href=\"#m071fe2ce43\" y=\"169.435948\"/>\n     <use style=\"fill:#1f77b4;fill-opacity:0.2;stroke:#ffffff;stroke-opacity:0.2;stroke-width:0.48;\" x=\"340.502443\" xlink:href=\"#m071fe2ce43\" y=\"59.437566\"/>\n     <use style=\"fill:#1f77b4;fill-opacity:0.2;stroke:#ffffff;stroke-opacity:0.2;stroke-width:0.48;\" x=\"269.658213\" xlink:href=\"#m071fe2ce43\" y=\"209.410608\"/>\n     <use style=\"fill:#1f77b4;fill-opacity:0.2;stroke:#ffffff;stroke-opacity:0.2;stroke-width:0.48;\" x=\"65.995648\" xlink:href=\"#m071fe2ce43\" y=\"299.005963\"/>\n     <use style=\"fill:#1f77b4;fill-opacity:0.2;stroke:#ffffff;stroke-opacity:0.2;stroke-width:0.48;\" x=\"104.028452\" xlink:href=\"#m071fe2ce43\" y=\"245.750953\"/>\n     <use style=\"fill:#1f77b4;fill-opacity:0.2;stroke:#ffffff;stroke-opacity:0.2;stroke-width:0.48;\" x=\"219.2229\" xlink:href=\"#m071fe2ce43\" y=\"164.797808\"/>\n     <use style=\"fill:#1f77b4;fill-opacity:0.2;stroke:#ffffff;stroke-opacity:0.2;stroke-width:0.48;\" x=\"65.995648\" xlink:href=\"#m071fe2ce43\" y=\"282.938048\"/>\n     <use style=\"fill:#1f77b4;fill-opacity:0.2;stroke:#ffffff;stroke-opacity:0.2;stroke-width:0.48;\" x=\"321.998648\" xlink:href=\"#m071fe2ce43\" y=\"119.670444\"/>\n     <use style=\"fill:#1f77b4;fill-opacity:0.2;stroke:#ffffff;stroke-opacity:0.2;stroke-width:0.48;\" x=\"339.38729\" xlink:href=\"#m071fe2ce43\" y=\"76.797492\"/>\n     <use style=\"fill:#1f77b4;fill-opacity:0.2;stroke:#ffffff;stroke-opacity:0.2;stroke-width:0.48;\" x=\"251.946013\" xlink:href=\"#m071fe2ce43\" y=\"195.213323\"/>\n     <use style=\"fill:#1f77b4;fill-opacity:0.2;stroke:#ffffff;stroke-opacity:0.2;stroke-width:0.48;\" x=\"187.482922\" xlink:href=\"#m071fe2ce43\" y=\"204.579377\"/>\n     <use style=\"fill:#1f77b4;fill-opacity:0.2;stroke:#ffffff;stroke-opacity:0.2;stroke-width:0.48;\" x=\"269.658213\" xlink:href=\"#m071fe2ce43\" y=\"134.214387\"/>\n     <use style=\"fill:#1f77b4;fill-opacity:0.2;stroke:#ffffff;stroke-opacity:0.2;stroke-width:0.48;\" x=\"306.90055\" xlink:href=\"#m071fe2ce43\" y=\"257.8407\"/>\n     <use style=\"fill:#1f77b4;fill-opacity:0.2;stroke:#ffffff;stroke-opacity:0.2;stroke-width:0.48;\" x=\"127.384739\" xlink:href=\"#m071fe2ce43\" y=\"266.654451\"/>\n     <use style=\"fill:#1f77b4;fill-opacity:0.2;stroke:#ffffff;stroke-opacity:0.2;stroke-width:0.48;\" x=\"104.028452\" xlink:href=\"#m071fe2ce43\" y=\"209.010645\"/>\n     <use style=\"fill:#1f77b4;fill-opacity:0.2;stroke:#ffffff;stroke-opacity:0.2;stroke-width:0.48;\" x=\"306.90055\" xlink:href=\"#m071fe2ce43\" y=\"110.735795\"/>\n     <use style=\"fill:#1f77b4;fill-opacity:0.2;stroke:#ffffff;stroke-opacity:0.2;stroke-width:0.48;\" x=\"65.995648\" xlink:href=\"#m071fe2ce43\" y=\"308.394138\"/>\n     <use style=\"fill:#1f77b4;fill-opacity:0.2;stroke:#ffffff;stroke-opacity:0.2;stroke-width:0.48;\" x=\"274.767038\" xlink:href=\"#m071fe2ce43\" y=\"129.734892\"/>\n     <use style=\"fill:#1f77b4;fill-opacity:0.2;stroke:#ffffff;stroke-opacity:0.2;stroke-width:0.48;\" x=\"65.995648\" xlink:href=\"#m071fe2ce43\" y=\"261.38012\"/>\n     <use style=\"fill:#1f77b4;fill-opacity:0.2;stroke:#ffffff;stroke-opacity:0.2;stroke-width:0.48;\" x=\"237.355883\" xlink:href=\"#m071fe2ce43\" y=\"143.418267\"/>\n     <use style=\"fill:#1f77b4;fill-opacity:0.2;stroke:#ffffff;stroke-opacity:0.2;stroke-width:0.48;\" x=\"65.995648\" xlink:href=\"#m071fe2ce43\" y=\"289.730638\"/>\n     <use style=\"fill:#1f77b4;fill-opacity:0.2;stroke:#ffffff;stroke-opacity:0.2;stroke-width:0.48;\" x=\"127.384739\" xlink:href=\"#m071fe2ce43\" y=\"169.768933\"/>\n     <use style=\"fill:#1f77b4;fill-opacity:0.2;stroke:#ffffff;stroke-opacity:0.2;stroke-width:0.48;\" x=\"169.31072\" xlink:href=\"#m071fe2ce43\" y=\"128.807096\"/>\n     <use style=\"fill:#1f77b4;fill-opacity:0.2;stroke:#ffffff;stroke-opacity:0.2;stroke-width:0.48;\" x=\"187.482922\" xlink:href=\"#m071fe2ce43\" y=\"282.394842\"/>\n     <use style=\"fill:#1f77b4;fill-opacity:0.2;stroke:#ffffff;stroke-opacity:0.2;stroke-width:0.48;\" x=\"327.344471\" xlink:href=\"#m071fe2ce43\" y=\"78.44653\"/>\n     <use style=\"fill:#1f77b4;fill-opacity:0.2;stroke:#ffffff;stroke-opacity:0.2;stroke-width:0.48;\" x=\"178.990369\" xlink:href=\"#m071fe2ce43\" y=\"281.954841\"/>\n     <use style=\"fill:#1f77b4;fill-opacity:0.2;stroke:#ffffff;stroke-opacity:0.2;stroke-width:0.48;\" x=\"104.028452\" xlink:href=\"#m071fe2ce43\" y=\"267.239896\"/>\n     <use style=\"fill:#1f77b4;fill-opacity:0.2;stroke:#ffffff;stroke-opacity:0.2;stroke-width:0.48;\" x=\"65.995648\" xlink:href=\"#m071fe2ce43\" y=\"214.553129\"/>\n     <use style=\"fill:#1f77b4;fill-opacity:0.2;stroke:#ffffff;stroke-opacity:0.2;stroke-width:0.48;\" x=\"224.189079\" xlink:href=\"#m071fe2ce43\" y=\"192.649966\"/>\n     <use style=\"fill:#1f77b4;fill-opacity:0.2;stroke:#ffffff;stroke-opacity:0.2;stroke-width:0.48;\" x=\"266.973078\" xlink:href=\"#m071fe2ce43\" y=\"181.285259\"/>\n     <use style=\"fill:#1f77b4;fill-opacity:0.2;stroke:#ffffff;stroke-opacity:0.2;stroke-width:0.48;\" x=\"233.220213\" xlink:href=\"#m071fe2ce43\" y=\"215.313982\"/>\n     <use style=\"fill:#1f77b4;fill-opacity:0.2;stroke:#ffffff;stroke-opacity:0.2;stroke-width:0.48;\" x=\"178.990369\" xlink:href=\"#m071fe2ce43\" y=\"261.887003\"/>\n     <use style=\"fill:#1f77b4;fill-opacity:0.2;stroke:#ffffff;stroke-opacity:0.2;stroke-width:0.48;\" x=\"213.895565\" xlink:href=\"#m071fe2ce43\" y=\"191.838196\"/>\n     <use style=\"fill:#1f77b4;fill-opacity:0.2;stroke:#ffffff;stroke-opacity:0.2;stroke-width:0.48;\" x=\"65.995648\" xlink:href=\"#m071fe2ce43\" y=\"309.280491\"/>\n     <use style=\"fill:#1f77b4;fill-opacity:0.2;stroke:#ffffff;stroke-opacity:0.2;stroke-width:0.48;\" x=\"286.256021\" xlink:href=\"#m071fe2ce43\" y=\"86.988512\"/>\n     <use style=\"fill:#1f77b4;fill-opacity:0.2;stroke:#ffffff;stroke-opacity:0.2;stroke-width:0.48;\" x=\"144.473222\" xlink:href=\"#m071fe2ce43\" y=\"187.739563\"/>\n     <use style=\"fill:#1f77b4;fill-opacity:0.2;stroke:#ffffff;stroke-opacity:0.2;stroke-width:0.48;\" x=\"241.27552\" xlink:href=\"#m071fe2ce43\" y=\"209.613408\"/>\n     <use style=\"fill:#1f77b4;fill-opacity:0.2;stroke:#ffffff;stroke-opacity:0.2;stroke-width:0.48;\" x=\"298.163135\" xlink:href=\"#m071fe2ce43\" y=\"216.475989\"/>\n     <use style=\"fill:#1f77b4;fill-opacity:0.2;stroke:#ffffff;stroke-opacity:0.2;stroke-width:0.48;\" x=\"342.689863\" xlink:href=\"#m071fe2ce43\" y=\"82.014015\"/>\n     <use style=\"fill:#1f77b4;fill-opacity:0.2;stroke:#ffffff;stroke-opacity:0.2;stroke-width:0.48;\" x=\"219.2229\" xlink:href=\"#m071fe2ce43\" y=\"104.857281\"/>\n     <use style=\"fill:#1f77b4;fill-opacity:0.2;stroke:#ffffff;stroke-opacity:0.2;stroke-width:0.48;\" x=\"251.946013\" xlink:href=\"#m071fe2ce43\" y=\"158.454382\"/>\n     <use style=\"fill:#1f77b4;fill-opacity:0.2;stroke:#ffffff;stroke-opacity:0.2;stroke-width:0.48;\" x=\"104.028452\" xlink:href=\"#m071fe2ce43\" y=\"140.246182\"/>\n     <use style=\"fill:#1f77b4;fill-opacity:0.2;stroke:#ffffff;stroke-opacity:0.2;stroke-width:0.48;\" x=\"213.895565\" xlink:href=\"#m071fe2ce43\" y=\"237.412139\"/>\n     <use style=\"fill:#1f77b4;fill-opacity:0.2;stroke:#ffffff;stroke-opacity:0.2;stroke-width:0.48;\" x=\"261.307895\" xlink:href=\"#m071fe2ce43\" y=\"238.292554\"/>\n     <use style=\"fill:#1f77b4;fill-opacity:0.2;stroke:#ffffff;stroke-opacity:0.2;stroke-width:0.48;\" x=\"104.028452\" xlink:href=\"#m071fe2ce43\" y=\"276.709384\"/>\n     <use style=\"fill:#1f77b4;fill-opacity:0.2;stroke:#ffffff;stroke-opacity:0.2;stroke-width:0.48;\" x=\"178.990369\" xlink:href=\"#m071fe2ce43\" y=\"228.385186\"/>\n     <use style=\"fill:#1f77b4;fill-opacity:0.2;stroke:#ffffff;stroke-opacity:0.2;stroke-width:0.48;\" x=\"305.226407\" xlink:href=\"#m071fe2ce43\" y=\"157.987071\"/>\n     <use style=\"fill:#1f77b4;fill-opacity:0.2;stroke:#ffffff;stroke-opacity:0.2;stroke-width:0.48;\" x=\"127.384739\" xlink:href=\"#m071fe2ce43\" y=\"234.666459\"/>\n     <use style=\"fill:#1f77b4;fill-opacity:0.2;stroke:#ffffff;stroke-opacity:0.2;stroke-width:0.48;\" x=\"195.057843\" xlink:href=\"#m071fe2ce43\" y=\"302.163844\"/>\n     <use style=\"fill:#1f77b4;fill-opacity:0.2;stroke:#ffffff;stroke-opacity:0.2;stroke-width:0.48;\" x=\"65.995648\" xlink:href=\"#m071fe2ce43\" y=\"309.280491\"/>\n     <use style=\"fill:#1f77b4;fill-opacity:0.2;stroke:#ffffff;stroke-opacity:0.2;stroke-width:0.48;\" x=\"201.901232\" xlink:href=\"#m071fe2ce43\" y=\"166.937757\"/>\n     <use style=\"fill:#1f77b4;fill-opacity:0.2;stroke:#ffffff;stroke-opacity:0.2;stroke-width:0.48;\" x=\"255.19495\" xlink:href=\"#m071fe2ce43\" y=\"222.930314\"/>\n     <use style=\"fill:#1f77b4;fill-opacity:0.2;stroke:#ffffff;stroke-opacity:0.2;stroke-width:0.48;\" x=\"241.27552\" xlink:href=\"#m071fe2ce43\" y=\"285.411108\"/>\n     <use style=\"fill:#1f77b4;fill-opacity:0.2;stroke:#ffffff;stroke-opacity:0.2;stroke-width:0.48;\" x=\"65.995648\" xlink:href=\"#m071fe2ce43\" y=\"263.570183\"/>\n     <use style=\"fill:#1f77b4;fill-opacity:0.2;stroke:#ffffff;stroke-opacity:0.2;stroke-width:0.48;\" x=\"65.995648\" xlink:href=\"#m071fe2ce43\" y=\"273.101058\"/>\n     <use style=\"fill:#1f77b4;fill-opacity:0.2;stroke:#ffffff;stroke-opacity:0.2;stroke-width:0.48;\" x=\"310.149519\" xlink:href=\"#m071fe2ce43\" y=\"116.949103\"/>\n     <use style=\"fill:#1f77b4;fill-opacity:0.2;stroke:#ffffff;stroke-opacity:0.2;stroke-width:0.48;\" x=\"144.473222\" xlink:href=\"#m071fe2ce43\" y=\"223.986756\"/>\n     <use style=\"fill:#1f77b4;fill-opacity:0.2;stroke:#ffffff;stroke-opacity:0.2;stroke-width:0.48;\" x=\"144.473222\" xlink:href=\"#m071fe2ce43\" y=\"273.538297\"/>\n     <use style=\"fill:#1f77b4;fill-opacity:0.2;stroke:#ffffff;stroke-opacity:0.2;stroke-width:0.48;\" x=\"320.606901\" xlink:href=\"#m071fe2ce43\" y=\"105.540617\"/>\n     <use style=\"fill:#1f77b4;fill-opacity:0.2;stroke:#ffffff;stroke-opacity:0.2;stroke-width:0.48;\" x=\"169.31072\" xlink:href=\"#m071fe2ce43\" y=\"163.954517\"/>\n     <use style=\"fill:#1f77b4;fill-opacity:0.2;stroke:#ffffff;stroke-opacity:0.2;stroke-width:0.48;\" x=\"277.202116\" xlink:href=\"#m071fe2ce43\" y=\"145.864621\"/>\n     <use style=\"fill:#1f77b4;fill-opacity:0.2;stroke:#ffffff;stroke-opacity:0.2;stroke-width:0.48;\" x=\"65.995648\" xlink:href=\"#m071fe2ce43\" y=\"206.128204\"/>\n     <use style=\"fill:#1f77b4;fill-opacity:0.2;stroke:#ffffff;stroke-opacity:0.2;stroke-width:0.48;\" x=\"187.482922\" xlink:href=\"#m071fe2ce43\" y=\"217.810668\"/>\n     <use style=\"fill:#1f77b4;fill-opacity:0.2;stroke:#ffffff;stroke-opacity:0.2;stroke-width:0.48;\" x=\"335.951175\" xlink:href=\"#m071fe2ce43\" y=\"98.934731\"/>\n     <use style=\"fill:#1f77b4;fill-opacity:0.2;stroke:#ffffff;stroke-opacity:0.2;stroke-width:0.48;\" x=\"319.191466\" xlink:href=\"#m071fe2ce43\" y=\"159.753677\"/>\n     <use style=\"fill:#1f77b4;fill-opacity:0.2;stroke:#ffffff;stroke-opacity:0.2;stroke-width:0.48;\" x=\"296.296893\" xlink:href=\"#m071fe2ce43\" y=\"98.697361\"/>\n     <use style=\"fill:#1f77b4;fill-opacity:0.2;stroke:#ffffff;stroke-opacity:0.2;stroke-width:0.48;\" x=\"335.951175\" xlink:href=\"#m071fe2ce43\" y=\"69.568649\"/>\n     <use style=\"fill:#1f77b4;fill-opacity:0.2;stroke:#ffffff;stroke-opacity:0.2;stroke-width:0.48;\" x=\"65.995648\" xlink:href=\"#m071fe2ce43\" y=\"243.222585\"/>\n     <use style=\"fill:#1f77b4;fill-opacity:0.2;stroke:#ffffff;stroke-opacity:0.2;stroke-width:0.48;\" x=\"233.220213\" xlink:href=\"#m071fe2ce43\" y=\"178.962874\"/>\n     <use style=\"fill:#1f77b4;fill-opacity:0.2;stroke:#ffffff;stroke-opacity:0.2;stroke-width:0.48;\" x=\"65.995648\" xlink:href=\"#m071fe2ce43\" y=\"235.765602\"/>\n     <use style=\"fill:#1f77b4;fill-opacity:0.2;stroke:#ffffff;stroke-opacity:0.2;stroke-width:0.48;\" x=\"272.254203\" xlink:href=\"#m071fe2ce43\" y=\"172.699671\"/>\n     <use style=\"fill:#1f77b4;fill-opacity:0.2;stroke:#ffffff;stroke-opacity:0.2;stroke-width:0.48;\" x=\"187.482922\" xlink:href=\"#m071fe2ce43\" y=\"290.281157\"/>\n     <use style=\"fill:#1f77b4;fill-opacity:0.2;stroke:#ffffff;stroke-opacity:0.2;stroke-width:0.48;\" x=\"65.995648\" xlink:href=\"#m071fe2ce43\" y=\"285.588402\"/>\n     <use style=\"fill:#1f77b4;fill-opacity:0.2;stroke:#ffffff;stroke-opacity:0.2;stroke-width:0.48;\" x=\"65.995648\" xlink:href=\"#m071fe2ce43\" y=\"209.217235\"/>\n     <use style=\"fill:#1f77b4;fill-opacity:0.2;stroke:#ffffff;stroke-opacity:0.2;stroke-width:0.48;\" x=\"308.541127\" xlink:href=\"#m071fe2ce43\" y=\"70.469683\"/>\n     <use style=\"fill:#1f77b4;fill-opacity:0.2;stroke:#ffffff;stroke-opacity:0.2;stroke-width:0.48;\" x=\"65.995648\" xlink:href=\"#m071fe2ce43\" y=\"249.965675\"/>\n     <use style=\"fill:#1f77b4;fill-opacity:0.2;stroke:#ffffff;stroke-opacity:0.2;stroke-width:0.48;\" x=\"320.606901\" xlink:href=\"#m071fe2ce43\" y=\"88.736692\"/>\n     <use style=\"fill:#1f77b4;fill-opacity:0.2;stroke:#ffffff;stroke-opacity:0.2;stroke-width:0.48;\" x=\"65.995648\" xlink:href=\"#m071fe2ce43\" y=\"288.945929\"/>\n     <use style=\"fill:#1f77b4;fill-opacity:0.2;stroke:#ffffff;stroke-opacity:0.2;stroke-width:0.48;\" x=\"248.552904\" xlink:href=\"#m071fe2ce43\" y=\"183.082843\"/>\n     <use style=\"fill:#1f77b4;fill-opacity:0.2;stroke:#ffffff;stroke-opacity:0.2;stroke-width:0.48;\" x=\"65.995648\" xlink:href=\"#m071fe2ce43\" y=\"219.20737\"/>\n     <use style=\"fill:#1f77b4;fill-opacity:0.2;stroke:#ffffff;stroke-opacity:0.2;stroke-width:0.48;\" x=\"233.220213\" xlink:href=\"#m071fe2ce43\" y=\"134.797027\"/>\n     <use style=\"fill:#1f77b4;fill-opacity:0.2;stroke:#ffffff;stroke-opacity:0.2;stroke-width:0.48;\" x=\"104.028452\" xlink:href=\"#m071fe2ce43\" y=\"192.009465\"/>\n     <use style=\"fill:#1f77b4;fill-opacity:0.2;stroke:#ffffff;stroke-opacity:0.2;stroke-width:0.48;\" x=\"187.482922\" xlink:href=\"#m071fe2ce43\" y=\"160.156282\"/>\n     <use style=\"fill:#1f77b4;fill-opacity:0.2;stroke:#ffffff;stroke-opacity:0.2;stroke-width:0.48;\" x=\"144.473222\" xlink:href=\"#m071fe2ce43\" y=\"140.256596\"/>\n     <use style=\"fill:#1f77b4;fill-opacity:0.2;stroke:#ffffff;stroke-opacity:0.2;stroke-width:0.48;\" x=\"104.028452\" xlink:href=\"#m071fe2ce43\" y=\"194.150591\"/>\n     <use style=\"fill:#1f77b4;fill-opacity:0.2;stroke:#ffffff;stroke-opacity:0.2;stroke-width:0.48;\" x=\"65.995648\" xlink:href=\"#m071fe2ce43\" y=\"243.222585\"/>\n     <use style=\"fill:#1f77b4;fill-opacity:0.2;stroke:#ffffff;stroke-opacity:0.2;stroke-width:0.48;\" x=\"261.307895\" xlink:href=\"#m071fe2ce43\" y=\"158.578415\"/>\n     <use style=\"fill:#1f77b4;fill-opacity:0.2;stroke:#ffffff;stroke-opacity:0.2;stroke-width:0.48;\" x=\"158.031682\" xlink:href=\"#m071fe2ce43\" y=\"167.702543\"/>\n     <use style=\"fill:#1f77b4;fill-opacity:0.2;stroke:#ffffff;stroke-opacity:0.2;stroke-width:0.48;\" x=\"279.564319\" xlink:href=\"#m071fe2ce43\" y=\"157.55481\"/>\n     <use style=\"fill:#1f77b4;fill-opacity:0.2;stroke:#ffffff;stroke-opacity:0.2;stroke-width:0.48;\" x=\"274.767038\" xlink:href=\"#m071fe2ce43\" y=\"140.914044\"/>\n     <use style=\"fill:#1f77b4;fill-opacity:0.2;stroke:#ffffff;stroke-opacity:0.2;stroke-width:0.48;\" x=\"258.311993\" xlink:href=\"#m071fe2ce43\" y=\"197.297127\"/>\n     <use style=\"fill:#1f77b4;fill-opacity:0.2;stroke:#ffffff;stroke-opacity:0.2;stroke-width:0.48;\" x=\"65.995648\" xlink:href=\"#m071fe2ce43\" y=\"299.005963\"/>\n     <use style=\"fill:#1f77b4;fill-opacity:0.2;stroke:#ffffff;stroke-opacity:0.2;stroke-width:0.48;\" x=\"65.995648\" xlink:href=\"#m071fe2ce43\" y=\"316.517558\"/>\n     <use style=\"fill:#1f77b4;fill-opacity:0.2;stroke:#ffffff;stroke-opacity:0.2;stroke-width:0.48;\" x=\"213.895565\" xlink:href=\"#m071fe2ce43\" y=\"228.823719\"/>\n     <use style=\"fill:#1f77b4;fill-opacity:0.2;stroke:#ffffff;stroke-opacity:0.2;stroke-width:0.48;\" x=\"224.189079\" xlink:href=\"#m071fe2ce43\" y=\"193.270184\"/>\n     <use style=\"fill:#1f77b4;fill-opacity:0.2;stroke:#ffffff;stroke-opacity:0.2;stroke-width:0.48;\" x=\"266.973078\" xlink:href=\"#m071fe2ce43\" y=\"182.511964\"/>\n     <use style=\"fill:#1f77b4;fill-opacity:0.2;stroke:#ffffff;stroke-opacity:0.2;stroke-width:0.48;\" x=\"213.895565\" xlink:href=\"#m071fe2ce43\" y=\"211.396007\"/>\n     <use style=\"fill:#1f77b4;fill-opacity:0.2;stroke:#ffffff;stroke-opacity:0.2;stroke-width:0.48;\" x=\"219.2229\" xlink:href=\"#m071fe2ce43\" y=\"240.785487\"/>\n     <use style=\"fill:#1f77b4;fill-opacity:0.2;stroke:#ffffff;stroke-opacity:0.2;stroke-width:0.48;\" x=\"258.311993\" xlink:href=\"#m071fe2ce43\" y=\"196.152059\"/>\n     <use style=\"fill:#1f77b4;fill-opacity:0.2;stroke:#ffffff;stroke-opacity:0.2;stroke-width:0.48;\" x=\"65.995648\" xlink:href=\"#m071fe2ce43\" y=\"244.626543\"/>\n     <use style=\"fill:#1f77b4;fill-opacity:0.2;stroke:#ffffff;stroke-opacity:0.2;stroke-width:0.48;\" x=\"104.028452\" xlink:href=\"#m071fe2ce43\" y=\"250.58218\"/>\n     <use style=\"fill:#1f77b4;fill-opacity:0.2;stroke:#ffffff;stroke-opacity:0.2;stroke-width:0.48;\" x=\"104.028452\" xlink:href=\"#m071fe2ce43\" y=\"178.817446\"/>\n     <use style=\"fill:#1f77b4;fill-opacity:0.2;stroke:#ffffff;stroke-opacity:0.2;stroke-width:0.48;\" x=\"65.995648\" xlink:href=\"#m071fe2ce43\" y=\"256.644299\"/>\n     <use style=\"fill:#1f77b4;fill-opacity:0.2;stroke:#ffffff;stroke-opacity:0.2;stroke-width:0.48;\" x=\"219.2229\" xlink:href=\"#m071fe2ce43\" y=\"165.136223\"/>\n     <use style=\"fill:#1f77b4;fill-opacity:0.2;stroke:#ffffff;stroke-opacity:0.2;stroke-width:0.48;\" x=\"274.767038\" xlink:href=\"#m071fe2ce43\" y=\"164.527387\"/>\n     <use style=\"fill:#1f77b4;fill-opacity:0.2;stroke:#ffffff;stroke-opacity:0.2;stroke-width:0.48;\" x=\"266.973078\" xlink:href=\"#m071fe2ce43\" y=\"210.218675\"/>\n     <use style=\"fill:#1f77b4;fill-opacity:0.2;stroke:#ffffff;stroke-opacity:0.2;stroke-width:0.48;\" x=\"65.995648\" xlink:href=\"#m071fe2ce43\" y=\"223.039205\"/>\n     <use style=\"fill:#1f77b4;fill-opacity:0.2;stroke:#ffffff;stroke-opacity:0.2;stroke-width:0.48;\" x=\"331.141233\" xlink:href=\"#m071fe2ce43\" y=\"146.478532\"/>\n     <use style=\"fill:#1f77b4;fill-opacity:0.2;stroke:#ffffff;stroke-opacity:0.2;stroke-width:0.48;\" x=\"224.189079\" xlink:href=\"#m071fe2ce43\" y=\"114.491469\"/>\n     <use style=\"fill:#1f77b4;fill-opacity:0.2;stroke:#ffffff;stroke-opacity:0.2;stroke-width:0.48;\" x=\"323.367524\" xlink:href=\"#m071fe2ce43\" y=\"115.025207\"/>\n     <use style=\"fill:#1f77b4;fill-opacity:0.2;stroke:#ffffff;stroke-opacity:0.2;stroke-width:0.48;\" x=\"296.296893\" xlink:href=\"#m071fe2ce43\" y=\"185.383946\"/>\n     <use style=\"fill:#1f77b4;fill-opacity:0.2;stroke:#ffffff;stroke-opacity:0.2;stroke-width:0.48;\" x=\"201.901232\" xlink:href=\"#m071fe2ce43\" y=\"254.832593\"/>\n     <use style=\"fill:#1f77b4;fill-opacity:0.2;stroke:#ffffff;stroke-opacity:0.2;stroke-width:0.48;\" x=\"264.192127\" xlink:href=\"#m071fe2ce43\" y=\"140.195369\"/>\n     <use style=\"fill:#1f77b4;fill-opacity:0.2;stroke:#ffffff;stroke-opacity:0.2;stroke-width:0.48;\" x=\"65.995648\" xlink:href=\"#m071fe2ce43\" y=\"323.051313\"/>\n     <use style=\"fill:#1f77b4;fill-opacity:0.2;stroke:#ffffff;stroke-opacity:0.2;stroke-width:0.48;\" x=\"65.995648\" xlink:href=\"#m071fe2ce43\" y=\"263.697556\"/>\n     <use style=\"fill:#1f77b4;fill-opacity:0.2;stroke:#ffffff;stroke-opacity:0.2;stroke-width:0.48;\" x=\"127.384739\" xlink:href=\"#m071fe2ce43\" y=\"240.759215\"/>\n     <use style=\"fill:#1f77b4;fill-opacity:0.2;stroke:#ffffff;stroke-opacity:0.2;stroke-width:0.48;\" x=\"65.995648\" xlink:href=\"#m071fe2ce43\" y=\"241.826231\"/>\n     <use style=\"fill:#1f77b4;fill-opacity:0.2;stroke:#ffffff;stroke-opacity:0.2;stroke-width:0.48;\" x=\"65.995648\" xlink:href=\"#m071fe2ce43\" y=\"301.669853\"/>\n     <use style=\"fill:#1f77b4;fill-opacity:0.2;stroke:#ffffff;stroke-opacity:0.2;stroke-width:0.48;\" x=\"65.995648\" xlink:href=\"#m071fe2ce43\" y=\"311.728384\"/>\n     <use style=\"fill:#1f77b4;fill-opacity:0.2;stroke:#ffffff;stroke-opacity:0.2;stroke-width:0.48;\" x=\"104.028452\" xlink:href=\"#m071fe2ce43\" y=\"200.161728\"/>\n     <use style=\"fill:#1f77b4;fill-opacity:0.2;stroke:#ffffff;stroke-opacity:0.2;stroke-width:0.48;\" x=\"308.541127\" xlink:href=\"#m071fe2ce43\" y=\"115.932217\"/>\n     <use style=\"fill:#1f77b4;fill-opacity:0.2;stroke:#ffffff;stroke-opacity:0.2;stroke-width:0.48;\" x=\"308.541127\" xlink:href=\"#m071fe2ce43\" y=\"127.007091\"/>\n     <use style=\"fill:#1f77b4;fill-opacity:0.2;stroke:#ffffff;stroke-opacity:0.2;stroke-width:0.48;\" x=\"65.995648\" xlink:href=\"#m071fe2ce43\" y=\"221.075646\"/>\n     <use style=\"fill:#1f77b4;fill-opacity:0.2;stroke:#ffffff;stroke-opacity:0.2;stroke-width:0.48;\" x=\"65.995648\" xlink:href=\"#m071fe2ce43\" y=\"290.878939\"/>\n     <use style=\"fill:#1f77b4;fill-opacity:0.2;stroke:#ffffff;stroke-opacity:0.2;stroke-width:0.48;\" x=\"333.580454\" xlink:href=\"#m071fe2ce43\" y=\"196.062735\"/>\n     <use style=\"fill:#1f77b4;fill-opacity:0.2;stroke:#ffffff;stroke-opacity:0.2;stroke-width:0.48;\" x=\"65.995648\" xlink:href=\"#m071fe2ce43\" y=\"267.090137\"/>\n     <use style=\"fill:#1f77b4;fill-opacity:0.2;stroke:#ffffff;stroke-opacity:0.2;stroke-width:0.48;\" x=\"65.995648\" xlink:href=\"#m071fe2ce43\" y=\"290.281157\"/>\n     <use style=\"fill:#1f77b4;fill-opacity:0.2;stroke:#ffffff;stroke-opacity:0.2;stroke-width:0.48;\" x=\"279.564319\" xlink:href=\"#m071fe2ce43\" y=\"140.987054\"/>\n     <use style=\"fill:#1f77b4;fill-opacity:0.2;stroke:#ffffff;stroke-opacity:0.2;stroke-width:0.48;\" x=\"144.473222\" xlink:href=\"#m071fe2ce43\" y=\"215.744387\"/>\n     <use style=\"fill:#1f77b4;fill-opacity:0.2;stroke:#ffffff;stroke-opacity:0.2;stroke-width:0.48;\" x=\"65.995648\" xlink:href=\"#m071fe2ce43\" y=\"311.176607\"/>\n     <use style=\"fill:#1f77b4;fill-opacity:0.2;stroke:#ffffff;stroke-opacity:0.2;stroke-width:0.48;\" x=\"277.202116\" xlink:href=\"#m071fe2ce43\" y=\"156.820452\"/>\n     <use style=\"fill:#1f77b4;fill-opacity:0.2;stroke:#ffffff;stroke-opacity:0.2;stroke-width:0.48;\" x=\"144.473222\" xlink:href=\"#m071fe2ce43\" y=\"244.357536\"/>\n     <use style=\"fill:#1f77b4;fill-opacity:0.2;stroke:#ffffff;stroke-opacity:0.2;stroke-width:0.48;\" x=\"65.995648\" xlink:href=\"#m071fe2ce43\" y=\"247.798274\"/>\n     <use style=\"fill:#1f77b4;fill-opacity:0.2;stroke:#ffffff;stroke-opacity:0.2;stroke-width:0.48;\" x=\"127.384739\" xlink:href=\"#m071fe2ce43\" y=\"273.101058\"/>\n     <use style=\"fill:#1f77b4;fill-opacity:0.2;stroke:#ffffff;stroke-opacity:0.2;stroke-width:0.48;\" x=\"284.087414\" xlink:href=\"#m071fe2ce43\" y=\"142.807117\"/>\n     <use style=\"fill:#1f77b4;fill-opacity:0.2;stroke:#ffffff;stroke-opacity:0.2;stroke-width:0.48;\" x=\"319.191466\" xlink:href=\"#m071fe2ce43\" y=\"108.320662\"/>\n     <use style=\"fill:#1f77b4;fill-opacity:0.2;stroke:#ffffff;stroke-opacity:0.2;stroke-width:0.48;\" x=\"228.841918\" xlink:href=\"#m071fe2ce43\" y=\"182.683865\"/>\n     <use style=\"fill:#1f77b4;fill-opacity:0.2;stroke:#ffffff;stroke-opacity:0.2;stroke-width:0.48;\" x=\"201.901232\" xlink:href=\"#m071fe2ce43\" y=\"160.267258\"/>\n     <use style=\"fill:#1f77b4;fill-opacity:0.2;stroke:#ffffff;stroke-opacity:0.2;stroke-width:0.48;\" x=\"104.028452\" xlink:href=\"#m071fe2ce43\" y=\"226.032754\"/>\n     <use style=\"fill:#1f77b4;fill-opacity:0.2;stroke:#ffffff;stroke-opacity:0.2;stroke-width:0.48;\" x=\"195.057843\" xlink:href=\"#m071fe2ce43\" y=\"257.712283\"/>\n     <use style=\"fill:#1f77b4;fill-opacity:0.2;stroke:#ffffff;stroke-opacity:0.2;stroke-width:0.48;\" x=\"208.147173\" xlink:href=\"#m071fe2ce43\" y=\"114.169059\"/>\n     <use style=\"fill:#1f77b4;fill-opacity:0.2;stroke:#ffffff;stroke-opacity:0.2;stroke-width:0.48;\" x=\"301.771429\" xlink:href=\"#m071fe2ce43\" y=\"143.5422\"/>\n     <use style=\"fill:#1f77b4;fill-opacity:0.2;stroke:#ffffff;stroke-opacity:0.2;stroke-width:0.48;\" x=\"266.973078\" xlink:href=\"#m071fe2ce43\" y=\"192.835319\"/>\n     <use style=\"fill:#1f77b4;fill-opacity:0.2;stroke:#ffffff;stroke-opacity:0.2;stroke-width:0.48;\" x=\"65.995648\" xlink:href=\"#m071fe2ce43\" y=\"246.000765\"/>\n     <use style=\"fill:#1f77b4;fill-opacity:0.2;stroke:#ffffff;stroke-opacity:0.2;stroke-width:0.48;\" x=\"65.995648\" xlink:href=\"#m071fe2ce43\" y=\"207.403165\"/>\n     <use style=\"fill:#1f77b4;fill-opacity:0.2;stroke:#ffffff;stroke-opacity:0.2;stroke-width:0.48;\" x=\"104.028452\" xlink:href=\"#m071fe2ce43\" y=\"157.506783\"/>\n     <use style=\"fill:#1f77b4;fill-opacity:0.2;stroke:#ffffff;stroke-opacity:0.2;stroke-width:0.48;\" x=\"233.220213\" xlink:href=\"#m071fe2ce43\" y=\"208.080181\"/>\n     <use style=\"fill:#1f77b4;fill-opacity:0.2;stroke:#ffffff;stroke-opacity:0.2;stroke-width:0.48;\" x=\"127.384739\" xlink:href=\"#m071fe2ce43\" y=\"260.710162\"/>\n     <use style=\"fill:#1f77b4;fill-opacity:0.2;stroke:#ffffff;stroke-opacity:0.2;stroke-width:0.48;\" x=\"169.31072\" xlink:href=\"#m071fe2ce43\" y=\"211.119425\"/>\n     <use style=\"fill:#1f77b4;fill-opacity:0.2;stroke:#ffffff;stroke-opacity:0.2;stroke-width:0.48;\" x=\"178.990369\" xlink:href=\"#m071fe2ce43\" y=\"207.840551\"/>\n     <use style=\"fill:#1f77b4;fill-opacity:0.2;stroke:#ffffff;stroke-opacity:0.2;stroke-width:0.48;\" x=\"201.901232\" xlink:href=\"#m071fe2ce43\" y=\"251.08099\"/>\n     <use style=\"fill:#1f77b4;fill-opacity:0.2;stroke:#ffffff;stroke-opacity:0.2;stroke-width:0.48;\" x=\"281.858074\" xlink:href=\"#m071fe2ce43\" y=\"194.094492\"/>\n     <use style=\"fill:#1f77b4;fill-opacity:0.2;stroke:#ffffff;stroke-opacity:0.2;stroke-width:0.48;\" x=\"158.031682\" xlink:href=\"#m071fe2ce43\" y=\"268.287743\"/>\n     <use style=\"fill:#1f77b4;fill-opacity:0.2;stroke:#ffffff;stroke-opacity:0.2;stroke-width:0.48;\" x=\"237.355883\" xlink:href=\"#m071fe2ce43\" y=\"227.933339\"/>\n     <use style=\"fill:#1f77b4;fill-opacity:0.2;stroke:#ffffff;stroke-opacity:0.2;stroke-width:0.48;\" x=\"261.307895\" xlink:href=\"#m071fe2ce43\" y=\"88.893895\"/>\n     <use style=\"fill:#1f77b4;fill-opacity:0.2;stroke:#ffffff;stroke-opacity:0.2;stroke-width:0.48;\" x=\"299.987334\" xlink:href=\"#m071fe2ce43\" y=\"70.301693\"/>\n     <use style=\"fill:#1f77b4;fill-opacity:0.2;stroke:#ffffff;stroke-opacity:0.2;stroke-width:0.48;\" x=\"65.995648\" xlink:href=\"#m071fe2ce43\" y=\"225.92246\"/>\n     <use style=\"fill:#1f77b4;fill-opacity:0.2;stroke:#ffffff;stroke-opacity:0.2;stroke-width:0.48;\" x=\"65.995648\" xlink:href=\"#m071fe2ce43\" y=\"311.728384\"/>\n     <use style=\"fill:#1f77b4;fill-opacity:0.2;stroke:#ffffff;stroke-opacity:0.2;stroke-width:0.48;\" x=\"310.149519\" xlink:href=\"#m071fe2ce43\" y=\"142.913211\"/>\n     <use style=\"fill:#1f77b4;fill-opacity:0.2;stroke:#ffffff;stroke-opacity:0.2;stroke-width:0.48;\" x=\"65.995648\" xlink:href=\"#m071fe2ce43\" y=\"302.163844\"/>\n     <use style=\"fill:#1f77b4;fill-opacity:0.2;stroke:#ffffff;stroke-opacity:0.2;stroke-width:0.48;\" x=\"213.895565\" xlink:href=\"#m071fe2ce43\" y=\"177.273298\"/>\n     <use style=\"fill:#1f77b4;fill-opacity:0.2;stroke:#ffffff;stroke-opacity:0.2;stroke-width:0.48;\" x=\"228.841918\" xlink:href=\"#m071fe2ce43\" y=\"158.109451\"/>\n     <use style=\"fill:#1f77b4;fill-opacity:0.2;stroke:#ffffff;stroke-opacity:0.2;stroke-width:0.48;\" x=\"294.386524\" xlink:href=\"#m071fe2ce43\" y=\"166.184861\"/>\n     <use style=\"fill:#1f77b4;fill-opacity:0.2;stroke:#ffffff;stroke-opacity:0.2;stroke-width:0.48;\" x=\"65.995648\" xlink:href=\"#m071fe2ce43\" y=\"280.753964\"/>\n     <use style=\"fill:#1f77b4;fill-opacity:0.2;stroke:#ffffff;stroke-opacity:0.2;stroke-width:0.48;\" x=\"281.858074\" xlink:href=\"#m071fe2ce43\" y=\"195.805759\"/>\n     <use style=\"fill:#1f77b4;fill-opacity:0.2;stroke:#ffffff;stroke-opacity:0.2;stroke-width:0.48;\" x=\"233.220213\" xlink:href=\"#m071fe2ce43\" y=\"180.353481\"/>\n     <use style=\"fill:#1f77b4;fill-opacity:0.2;stroke:#ffffff;stroke-opacity:0.2;stroke-width:0.48;\" x=\"65.995648\" xlink:href=\"#m071fe2ce43\" y=\"279.286951\"/>\n     <use style=\"fill:#1f77b4;fill-opacity:0.2;stroke:#ffffff;stroke-opacity:0.2;stroke-width:0.48;\" x=\"104.028452\" xlink:href=\"#m071fe2ce43\" y=\"179.376555\"/>\n     <use style=\"fill:#1f77b4;fill-opacity:0.2;stroke:#ffffff;stroke-opacity:0.2;stroke-width:0.48;\" x=\"65.995648\" xlink:href=\"#m071fe2ce43\" y=\"277.959874\"/>\n     <use style=\"fill:#1f77b4;fill-opacity:0.2;stroke:#ffffff;stroke-opacity:0.2;stroke-width:0.48;\" x=\"261.307895\" xlink:href=\"#m071fe2ce43\" y=\"175.705697\"/>\n     <use style=\"fill:#1f77b4;fill-opacity:0.2;stroke:#ffffff;stroke-opacity:0.2;stroke-width:0.48;\" x=\"317.751481\" xlink:href=\"#m071fe2ce43\" y=\"84.231256\"/>\n     <use style=\"fill:#1f77b4;fill-opacity:0.2;stroke:#ffffff;stroke-opacity:0.2;stroke-width:0.48;\" x=\"65.995648\" xlink:href=\"#m071fe2ce43\" y=\"296.828775\"/>\n     <use style=\"fill:#1f77b4;fill-opacity:0.2;stroke:#ffffff;stroke-opacity:0.2;stroke-width:0.48;\" x=\"305.226407\" xlink:href=\"#m071fe2ce43\" y=\"135.249186\"/>\n     <use style=\"fill:#1f77b4;fill-opacity:0.2;stroke:#ffffff;stroke-opacity:0.2;stroke-width:0.48;\" x=\"237.355883\" xlink:href=\"#m071fe2ce43\" y=\"222.919903\"/>\n     <use style=\"fill:#1f77b4;fill-opacity:0.2;stroke:#ffffff;stroke-opacity:0.2;stroke-width:0.48;\" x=\"65.995648\" xlink:href=\"#m071fe2ce43\" y=\"246.388423\"/>\n     <use style=\"fill:#1f77b4;fill-opacity:0.2;stroke:#ffffff;stroke-opacity:0.2;stroke-width:0.48;\" x=\"228.841918\" xlink:href=\"#m071fe2ce43\" y=\"157.98228\"/>\n     <use style=\"fill:#1f77b4;fill-opacity:0.2;stroke:#ffffff;stroke-opacity:0.2;stroke-width:0.48;\" x=\"127.384739\" xlink:href=\"#m071fe2ce43\" y=\"234.381304\"/>\n     <use style=\"fill:#1f77b4;fill-opacity:0.2;stroke:#ffffff;stroke-opacity:0.2;stroke-width:0.48;\" x=\"65.995648\" xlink:href=\"#m071fe2ce43\" y=\"299.792556\"/>\n     <use style=\"fill:#1f77b4;fill-opacity:0.2;stroke:#ffffff;stroke-opacity:0.2;stroke-width:0.48;\" x=\"104.028452\" xlink:href=\"#m071fe2ce43\" y=\"291.758341\"/>\n     <use style=\"fill:#1f77b4;fill-opacity:0.2;stroke:#ffffff;stroke-opacity:0.2;stroke-width:0.48;\" x=\"258.311993\" xlink:href=\"#m071fe2ce43\" y=\"130.615179\"/>\n     <use style=\"fill:#1f77b4;fill-opacity:0.2;stroke:#ffffff;stroke-opacity:0.2;stroke-width:0.48;\" x=\"104.028452\" xlink:href=\"#m071fe2ce43\" y=\"221.268219\"/>\n     <use style=\"fill:#1f77b4;fill-opacity:0.2;stroke:#ffffff;stroke-opacity:0.2;stroke-width:0.48;\" x=\"248.552904\" xlink:href=\"#m071fe2ce43\" y=\"219.64461\"/>\n     <use style=\"fill:#1f77b4;fill-opacity:0.2;stroke:#ffffff;stroke-opacity:0.2;stroke-width:0.48;\" x=\"219.2229\" xlink:href=\"#m071fe2ce43\" y=\"131.434063\"/>\n     <use style=\"fill:#1f77b4;fill-opacity:0.2;stroke:#ffffff;stroke-opacity:0.2;stroke-width:0.48;\" x=\"219.2229\" xlink:href=\"#m071fe2ce43\" y=\"150.177121\"/>\n     <use style=\"fill:#1f77b4;fill-opacity:0.2;stroke:#ffffff;stroke-opacity:0.2;stroke-width:0.48;\" x=\"127.384739\" xlink:href=\"#m071fe2ce43\" y=\"281.65398\"/>\n     <use style=\"fill:#1f77b4;fill-opacity:0.2;stroke:#ffffff;stroke-opacity:0.2;stroke-width:0.48;\" x=\"104.028452\" xlink:href=\"#m071fe2ce43\" y=\"266.397023\"/>\n     <use style=\"fill:#1f77b4;fill-opacity:0.2;stroke:#ffffff;stroke-opacity:0.2;stroke-width:0.48;\" x=\"213.895565\" xlink:href=\"#m071fe2ce43\" y=\"231.950025\"/>\n     <use style=\"fill:#1f77b4;fill-opacity:0.2;stroke:#ffffff;stroke-opacity:0.2;stroke-width:0.48;\" x=\"264.192127\" xlink:href=\"#m071fe2ce43\" y=\"119.218184\"/>\n     <use style=\"fill:#1f77b4;fill-opacity:0.2;stroke:#ffffff;stroke-opacity:0.2;stroke-width:0.48;\" x=\"65.995648\" xlink:href=\"#m071fe2ce43\" y=\"276.612155\"/>\n     <use style=\"fill:#1f77b4;fill-opacity:0.2;stroke:#ffffff;stroke-opacity:0.2;stroke-width:0.48;\" x=\"213.895565\" xlink:href=\"#m071fe2ce43\" y=\"165.602612\"/>\n     <use style=\"fill:#1f77b4;fill-opacity:0.2;stroke:#ffffff;stroke-opacity:0.2;stroke-width:0.48;\" x=\"233.220213\" xlink:href=\"#m071fe2ce43\" y=\"165.647931\"/>\n     <use style=\"fill:#1f77b4;fill-opacity:0.2;stroke:#ffffff;stroke-opacity:0.2;stroke-width:0.48;\" x=\"65.995648\" xlink:href=\"#m071fe2ce43\" y=\"258.759617\"/>\n     <use style=\"fill:#1f77b4;fill-opacity:0.2;stroke:#ffffff;stroke-opacity:0.2;stroke-width:0.48;\" x=\"127.384739\" xlink:href=\"#m071fe2ce43\" y=\"91.022753\"/>\n     <use style=\"fill:#1f77b4;fill-opacity:0.2;stroke:#ffffff;stroke-opacity:0.2;stroke-width:0.48;\" x=\"294.386524\" xlink:href=\"#m071fe2ce43\" y=\"156.609509\"/>\n     <use style=\"fill:#1f77b4;fill-opacity:0.2;stroke:#ffffff;stroke-opacity:0.2;stroke-width:0.48;\" x=\"296.296893\" xlink:href=\"#m071fe2ce43\" y=\"158.53918\"/>\n     <use style=\"fill:#1f77b4;fill-opacity:0.2;stroke:#ffffff;stroke-opacity:0.2;stroke-width:0.48;\" x=\"178.990369\" xlink:href=\"#m071fe2ce43\" y=\"182.519571\"/>\n     <use style=\"fill:#1f77b4;fill-opacity:0.2;stroke:#ffffff;stroke-opacity:0.2;stroke-width:0.48;\" x=\"311.727023\" xlink:href=\"#m071fe2ce43\" y=\"216.367263\"/>\n     <use style=\"fill:#1f77b4;fill-opacity:0.2;stroke:#ffffff;stroke-opacity:0.2;stroke-width:0.48;\" x=\"313.274857\" xlink:href=\"#m071fe2ce43\" y=\"129.816177\"/>\n     <use style=\"fill:#1f77b4;fill-opacity:0.2;stroke:#ffffff;stroke-opacity:0.2;stroke-width:0.48;\" x=\"65.995648\" xlink:href=\"#m071fe2ce43\" y=\"316.517558\"/>\n     <use style=\"fill:#1f77b4;fill-opacity:0.2;stroke:#ffffff;stroke-opacity:0.2;stroke-width:0.48;\" x=\"290.424234\" xlink:href=\"#m071fe2ce43\" y=\"143.092256\"/>\n     <use style=\"fill:#1f77b4;fill-opacity:0.2;stroke:#ffffff;stroke-opacity:0.2;stroke-width:0.48;\" x=\"104.028452\" xlink:href=\"#m071fe2ce43\" y=\"243.222585\"/>\n     <use style=\"fill:#1f77b4;fill-opacity:0.2;stroke:#ffffff;stroke-opacity:0.2;stroke-width:0.48;\" x=\"65.995648\" xlink:href=\"#m071fe2ce43\" y=\"291.040484\"/>\n     <use style=\"fill:#1f77b4;fill-opacity:0.2;stroke:#ffffff;stroke-opacity:0.2;stroke-width:0.48;\" x=\"65.995648\" xlink:href=\"#m071fe2ce43\" y=\"282.136908\"/>\n     <use style=\"fill:#1f77b4;fill-opacity:0.2;stroke:#ffffff;stroke-opacity:0.2;stroke-width:0.48;\" x=\"319.191466\" xlink:href=\"#m071fe2ce43\" y=\"133.531716\"/>\n     <use style=\"fill:#1f77b4;fill-opacity:0.2;stroke:#ffffff;stroke-opacity:0.2;stroke-width:0.48;\" x=\"65.995648\" xlink:href=\"#m071fe2ce43\" y=\"290.302581\"/>\n     <use style=\"fill:#1f77b4;fill-opacity:0.2;stroke:#ffffff;stroke-opacity:0.2;stroke-width:0.48;\" x=\"296.296893\" xlink:href=\"#m071fe2ce43\" y=\"185.484285\"/>\n     <use style=\"fill:#1f77b4;fill-opacity:0.2;stroke:#ffffff;stroke-opacity:0.2;stroke-width:0.48;\" x=\"144.473222\" xlink:href=\"#m071fe2ce43\" y=\"261.339494\"/>\n     <use style=\"fill:#1f77b4;fill-opacity:0.2;stroke:#ffffff;stroke-opacity:0.2;stroke-width:0.48;\" x=\"65.995648\" xlink:href=\"#m071fe2ce43\" y=\"150.303813\"/>\n     <use style=\"fill:#1f77b4;fill-opacity:0.2;stroke:#ffffff;stroke-opacity:0.2;stroke-width:0.48;\" x=\"233.220213\" xlink:href=\"#m071fe2ce43\" y=\"177.754437\"/>\n     <use style=\"fill:#1f77b4;fill-opacity:0.2;stroke:#ffffff;stroke-opacity:0.2;stroke-width:0.48;\" x=\"144.473222\" xlink:href=\"#m071fe2ce43\" y=\"185.385677\"/>\n     <use style=\"fill:#1f77b4;fill-opacity:0.2;stroke:#ffffff;stroke-opacity:0.2;stroke-width:0.48;\" x=\"144.473222\" xlink:href=\"#m071fe2ce43\" y=\"163.35845\"/>\n     <use style=\"fill:#1f77b4;fill-opacity:0.2;stroke:#ffffff;stroke-opacity:0.2;stroke-width:0.48;\" x=\"65.995648\" xlink:href=\"#m071fe2ce43\" y=\"280.298289\"/>\n     <use style=\"fill:#1f77b4;fill-opacity:0.2;stroke:#ffffff;stroke-opacity:0.2;stroke-width:0.48;\" x=\"281.858074\" xlink:href=\"#m071fe2ce43\" y=\"158.951301\"/>\n     <use style=\"fill:#1f77b4;fill-opacity:0.2;stroke:#ffffff;stroke-opacity:0.2;stroke-width:0.48;\" x=\"65.995648\" xlink:href=\"#m071fe2ce43\" y=\"277.959874\"/>\n     <use style=\"fill:#1f77b4;fill-opacity:0.2;stroke:#ffffff;stroke-opacity:0.2;stroke-width:0.48;\" x=\"158.031682\" xlink:href=\"#m071fe2ce43\" y=\"217.346623\"/>\n     <use style=\"fill:#1f77b4;fill-opacity:0.2;stroke:#ffffff;stroke-opacity:0.2;stroke-width:0.48;\" x=\"228.841918\" xlink:href=\"#m071fe2ce43\" y=\"143.866961\"/>\n     <use style=\"fill:#1f77b4;fill-opacity:0.2;stroke:#ffffff;stroke-opacity:0.2;stroke-width:0.48;\" x=\"316.286036\" xlink:href=\"#m071fe2ce43\" y=\"150.251623\"/>\n     <use style=\"fill:#1f77b4;fill-opacity:0.2;stroke:#ffffff;stroke-opacity:0.2;stroke-width:0.48;\" x=\"65.995648\" xlink:href=\"#m071fe2ce43\" y=\"229.407577\"/>\n     <use style=\"fill:#1f77b4;fill-opacity:0.2;stroke:#ffffff;stroke-opacity:0.2;stroke-width:0.48;\" x=\"324.714302\" xlink:href=\"#m071fe2ce43\" y=\"201.024754\"/>\n     <use style=\"fill:#1f77b4;fill-opacity:0.2;stroke:#ffffff;stroke-opacity:0.2;stroke-width:0.48;\" x=\"65.995648\" xlink:href=\"#m071fe2ce43\" y=\"299.792556\"/>\n     <use style=\"fill:#1f77b4;fill-opacity:0.2;stroke:#ffffff;stroke-opacity:0.2;stroke-width:0.48;\" x=\"277.202116\" xlink:href=\"#m071fe2ce43\" y=\"140.982283\"/>\n     <use style=\"fill:#1f77b4;fill-opacity:0.2;stroke:#ffffff;stroke-opacity:0.2;stroke-width:0.48;\" x=\"144.473222\" xlink:href=\"#m071fe2ce43\" y=\"169.325448\"/>\n     <use style=\"fill:#1f77b4;fill-opacity:0.2;stroke:#ffffff;stroke-opacity:0.2;stroke-width:0.48;\" x=\"65.995648\" xlink:href=\"#m071fe2ce43\" y=\"259.19761\"/>\n     <use style=\"fill:#1f77b4;fill-opacity:0.2;stroke:#ffffff;stroke-opacity:0.2;stroke-width:0.48;\" x=\"292.429779\" xlink:href=\"#m071fe2ce43\" y=\"148.9803\"/>\n     <use style=\"fill:#1f77b4;fill-opacity:0.2;stroke:#ffffff;stroke-opacity:0.2;stroke-width:0.48;\" x=\"144.473222\" xlink:href=\"#m071fe2ce43\" y=\"184.992531\"/>\n     <use style=\"fill:#1f77b4;fill-opacity:0.2;stroke:#ffffff;stroke-opacity:0.2;stroke-width:0.48;\" x=\"127.384739\" xlink:href=\"#m071fe2ce43\" y=\"142.603319\"/>\n     <use style=\"fill:#1f77b4;fill-opacity:0.2;stroke:#ffffff;stroke-opacity:0.2;stroke-width:0.48;\" x=\"195.057843\" xlink:href=\"#m071fe2ce43\" y=\"175.297729\"/>\n     <use style=\"fill:#1f77b4;fill-opacity:0.2;stroke:#ffffff;stroke-opacity:0.2;stroke-width:0.48;\" x=\"158.031682\" xlink:href=\"#m071fe2ce43\" y=\"191.25233\"/>\n     <use style=\"fill:#1f77b4;fill-opacity:0.2;stroke:#ffffff;stroke-opacity:0.2;stroke-width:0.48;\" x=\"65.995648\" xlink:href=\"#m071fe2ce43\" y=\"321.666937\"/>\n     <use style=\"fill:#1f77b4;fill-opacity:0.2;stroke:#ffffff;stroke-opacity:0.2;stroke-width:0.48;\" x=\"288.367263\" xlink:href=\"#m071fe2ce43\" y=\"181.364226\"/>\n     <use style=\"fill:#1f77b4;fill-opacity:0.2;stroke:#ffffff;stroke-opacity:0.2;stroke-width:0.48;\" x=\"104.028452\" xlink:href=\"#m071fe2ce43\" y=\"249.965675\"/>\n     <use style=\"fill:#1f77b4;fill-opacity:0.2;stroke:#ffffff;stroke-opacity:0.2;stroke-width:0.48;\" x=\"281.858074\" xlink:href=\"#m071fe2ce43\" y=\"243.222585\"/>\n     <use style=\"fill:#1f77b4;fill-opacity:0.2;stroke:#ffffff;stroke-opacity:0.2;stroke-width:0.48;\" x=\"144.473222\" xlink:href=\"#m071fe2ce43\" y=\"270.898888\"/>\n     <use style=\"fill:#1f77b4;fill-opacity:0.2;stroke:#ffffff;stroke-opacity:0.2;stroke-width:0.48;\" x=\"308.541127\" xlink:href=\"#m071fe2ce43\" y=\"107.011943\"/>\n     <use style=\"fill:#1f77b4;fill-opacity:0.2;stroke:#ffffff;stroke-opacity:0.2;stroke-width:0.48;\" x=\"281.858074\" xlink:href=\"#m071fe2ce43\" y=\"214.65438\"/>\n     <use style=\"fill:#1f77b4;fill-opacity:0.2;stroke:#ffffff;stroke-opacity:0.2;stroke-width:0.48;\" x=\"127.384739\" xlink:href=\"#m071fe2ce43\" y=\"144.759482\"/>\n     <use style=\"fill:#1f77b4;fill-opacity:0.2;stroke:#ffffff;stroke-opacity:0.2;stroke-width:0.48;\" x=\"255.19495\" xlink:href=\"#m071fe2ce43\" y=\"156.99886\"/>\n     <use style=\"fill:#1f77b4;fill-opacity:0.2;stroke:#ffffff;stroke-opacity:0.2;stroke-width:0.48;\" x=\"104.028452\" xlink:href=\"#m071fe2ce43\" y=\"268.263657\"/>\n     <use style=\"fill:#1f77b4;fill-opacity:0.2;stroke:#ffffff;stroke-opacity:0.2;stroke-width:0.48;\" x=\"294.386524\" xlink:href=\"#m071fe2ce43\" y=\"195.038986\"/>\n     <use style=\"fill:#1f77b4;fill-opacity:0.2;stroke:#ffffff;stroke-opacity:0.2;stroke-width:0.48;\" x=\"158.031682\" xlink:href=\"#m071fe2ce43\" y=\"195.003763\"/>\n     <use style=\"fill:#1f77b4;fill-opacity:0.2;stroke:#ffffff;stroke-opacity:0.2;stroke-width:0.48;\" x=\"127.384739\" xlink:href=\"#m071fe2ce43\" y=\"296.741638\"/>\n     <use style=\"fill:#1f77b4;fill-opacity:0.2;stroke:#ffffff;stroke-opacity:0.2;stroke-width:0.48;\" x=\"248.552904\" xlink:href=\"#m071fe2ce43\" y=\"171.209677\"/>\n     <use style=\"fill:#1f77b4;fill-opacity:0.2;stroke:#ffffff;stroke-opacity:0.2;stroke-width:0.48;\" x=\"224.189079\" xlink:href=\"#m071fe2ce43\" y=\"188.163063\"/>\n     <use style=\"fill:#1f77b4;fill-opacity:0.2;stroke:#ffffff;stroke-opacity:0.2;stroke-width:0.48;\" x=\"65.995648\" xlink:href=\"#m071fe2ce43\" y=\"295.96145\"/>\n     <use style=\"fill:#1f77b4;fill-opacity:0.2;stroke:#ffffff;stroke-opacity:0.2;stroke-width:0.48;\" x=\"228.841918\" xlink:href=\"#m071fe2ce43\" y=\"174.949542\"/>\n     <use style=\"fill:#1f77b4;fill-opacity:0.2;stroke:#ffffff;stroke-opacity:0.2;stroke-width:0.48;\" x=\"296.296893\" xlink:href=\"#m071fe2ce43\" y=\"86.155152\"/>\n     <use style=\"fill:#1f77b4;fill-opacity:0.2;stroke:#ffffff;stroke-opacity:0.2;stroke-width:0.48;\" x=\"241.27552\" xlink:href=\"#m071fe2ce43\" y=\"223.180434\"/>\n     <use style=\"fill:#1f77b4;fill-opacity:0.2;stroke:#ffffff;stroke-opacity:0.2;stroke-width:0.48;\" x=\"65.995648\" xlink:href=\"#m071fe2ce43\" y=\"239.790413\"/>\n     <use style=\"fill:#1f77b4;fill-opacity:0.2;stroke:#ffffff;stroke-opacity:0.2;stroke-width:0.48;\" x=\"261.307895\" xlink:href=\"#m071fe2ce43\" y=\"165.248637\"/>\n     <use style=\"fill:#1f77b4;fill-opacity:0.2;stroke:#ffffff;stroke-opacity:0.2;stroke-width:0.48;\" x=\"104.028452\" xlink:href=\"#m071fe2ce43\" y=\"303.939541\"/>\n     <use style=\"fill:#1f77b4;fill-opacity:0.2;stroke:#ffffff;stroke-opacity:0.2;stroke-width:0.48;\" x=\"284.087414\" xlink:href=\"#m071fe2ce43\" y=\"137.142264\"/>\n     <use style=\"fill:#1f77b4;fill-opacity:0.2;stroke:#ffffff;stroke-opacity:0.2;stroke-width:0.48;\" x=\"104.028452\" xlink:href=\"#m071fe2ce43\" y=\"242.735422\"/>\n     <use style=\"fill:#1f77b4;fill-opacity:0.2;stroke:#ffffff;stroke-opacity:0.2;stroke-width:0.48;\" x=\"277.202116\" xlink:href=\"#m071fe2ce43\" y=\"138.055461\"/>\n     <use style=\"fill:#1f77b4;fill-opacity:0.2;stroke:#ffffff;stroke-opacity:0.2;stroke-width:0.48;\" x=\"65.995648\" xlink:href=\"#m071fe2ce43\" y=\"244.357536\"/>\n     <use style=\"fill:#1f77b4;fill-opacity:0.2;stroke:#ffffff;stroke-opacity:0.2;stroke-width:0.48;\" x=\"144.473222\" xlink:href=\"#m071fe2ce43\" y=\"209.613408\"/>\n     <use style=\"fill:#1f77b4;fill-opacity:0.2;stroke:#ffffff;stroke-opacity:0.2;stroke-width:0.48;\" x=\"201.901232\" xlink:href=\"#m071fe2ce43\" y=\"151.956492\"/>\n     <use style=\"fill:#1f77b4;fill-opacity:0.2;stroke:#ffffff;stroke-opacity:0.2;stroke-width:0.48;\" x=\"228.841918\" xlink:href=\"#m071fe2ce43\" y=\"220.872481\"/>\n     <use style=\"fill:#1f77b4;fill-opacity:0.2;stroke:#ffffff;stroke-opacity:0.2;stroke-width:0.48;\" x=\"158.031682\" xlink:href=\"#m071fe2ce43\" y=\"173.566418\"/>\n     <use style=\"fill:#1f77b4;fill-opacity:0.2;stroke:#ffffff;stroke-opacity:0.2;stroke-width:0.48;\" x=\"65.995648\" xlink:href=\"#m071fe2ce43\" y=\"303.008677\"/>\n     <use style=\"fill:#1f77b4;fill-opacity:0.2;stroke:#ffffff;stroke-opacity:0.2;stroke-width:0.48;\" x=\"241.27552\" xlink:href=\"#m071fe2ce43\" y=\"142.954513\"/>\n     <use style=\"fill:#1f77b4;fill-opacity:0.2;stroke:#ffffff;stroke-opacity:0.2;stroke-width:0.48;\" x=\"219.2229\" xlink:href=\"#m071fe2ce43\" y=\"160.245526\"/>\n     <use style=\"fill:#1f77b4;fill-opacity:0.2;stroke:#ffffff;stroke-opacity:0.2;stroke-width:0.48;\" x=\"310.149519\" xlink:href=\"#m071fe2ce43\" y=\"78.217301\"/>\n     <use style=\"fill:#1f77b4;fill-opacity:0.2;stroke:#ffffff;stroke-opacity:0.2;stroke-width:0.48;\" x=\"187.482922\" xlink:href=\"#m071fe2ce43\" y=\"148.9803\"/>\n     <use style=\"fill:#1f77b4;fill-opacity:0.2;stroke:#ffffff;stroke-opacity:0.2;stroke-width:0.48;\" x=\"255.19495\" xlink:href=\"#m071fe2ce43\" y=\"194.921345\"/>\n     <use style=\"fill:#1f77b4;fill-opacity:0.2;stroke:#ffffff;stroke-opacity:0.2;stroke-width:0.48;\" x=\"144.473222\" xlink:href=\"#m071fe2ce43\" y=\"196.152059\"/>\n     <use style=\"fill:#1f77b4;fill-opacity:0.2;stroke:#ffffff;stroke-opacity:0.2;stroke-width:0.48;\" x=\"314.794167\" xlink:href=\"#m071fe2ce43\" y=\"83.535372\"/>\n     <use style=\"fill:#1f77b4;fill-opacity:0.2;stroke:#ffffff;stroke-opacity:0.2;stroke-width:0.48;\" x=\"329.894611\" xlink:href=\"#m071fe2ce43\" y=\"82.659149\"/>\n     <use style=\"fill:#1f77b4;fill-opacity:0.2;stroke:#ffffff;stroke-opacity:0.2;stroke-width:0.48;\" x=\"127.384739\" xlink:href=\"#m071fe2ce43\" y=\"256.939159\"/>\n     <use style=\"fill:#1f77b4;fill-opacity:0.2;stroke:#ffffff;stroke-opacity:0.2;stroke-width:0.48;\" x=\"224.189079\" xlink:href=\"#m071fe2ce43\" y=\"244.787941\"/>\n     <use style=\"fill:#1f77b4;fill-opacity:0.2;stroke:#ffffff;stroke-opacity:0.2;stroke-width:0.48;\" x=\"104.028452\" xlink:href=\"#m071fe2ce43\" y=\"266.418025\"/>\n     <use style=\"fill:#1f77b4;fill-opacity:0.2;stroke:#ffffff;stroke-opacity:0.2;stroke-width:0.48;\" x=\"228.841918\" xlink:href=\"#m071fe2ce43\" y=\"159.603114\"/>\n     <use style=\"fill:#1f77b4;fill-opacity:0.2;stroke:#ffffff;stroke-opacity:0.2;stroke-width:0.48;\" x=\"65.995648\" xlink:href=\"#m071fe2ce43\" y=\"161.57901\"/>\n     <use style=\"fill:#1f77b4;fill-opacity:0.2;stroke:#ffffff;stroke-opacity:0.2;stroke-width:0.48;\" x=\"269.658213\" xlink:href=\"#m071fe2ce43\" y=\"129.734892\"/>\n     <use style=\"fill:#1f77b4;fill-opacity:0.2;stroke:#ffffff;stroke-opacity:0.2;stroke-width:0.48;\" x=\"178.990369\" xlink:href=\"#m071fe2ce43\" y=\"216.934828\"/>\n     <use style=\"fill:#1f77b4;fill-opacity:0.2;stroke:#ffffff;stroke-opacity:0.2;stroke-width:0.48;\" x=\"65.995648\" xlink:href=\"#m071fe2ce43\" y=\"287.473786\"/>\n     <use style=\"fill:#1f77b4;fill-opacity:0.2;stroke:#ffffff;stroke-opacity:0.2;stroke-width:0.48;\" x=\"65.995648\" xlink:href=\"#m071fe2ce43\" y=\"276.278177\"/>\n     <use style=\"fill:#1f77b4;fill-opacity:0.2;stroke:#ffffff;stroke-opacity:0.2;stroke-width:0.48;\" x=\"178.990369\" xlink:href=\"#m071fe2ce43\" y=\"173.94842\"/>\n     <use style=\"fill:#1f77b4;fill-opacity:0.2;stroke:#ffffff;stroke-opacity:0.2;stroke-width:0.48;\" x=\"195.057843\" xlink:href=\"#m071fe2ce43\" y=\"197.342957\"/>\n     <use style=\"fill:#1f77b4;fill-opacity:0.2;stroke:#ffffff;stroke-opacity:0.2;stroke-width:0.48;\" x=\"187.482922\" xlink:href=\"#m071fe2ce43\" y=\"138.507511\"/>\n     <use style=\"fill:#1f77b4;fill-opacity:0.2;stroke:#ffffff;stroke-opacity:0.2;stroke-width:0.48;\" x=\"104.028452\" xlink:href=\"#m071fe2ce43\" y=\"246.878353\"/>\n     <use style=\"fill:#1f77b4;fill-opacity:0.2;stroke:#ffffff;stroke-opacity:0.2;stroke-width:0.48;\" x=\"65.995648\" xlink:href=\"#m071fe2ce43\" y=\"253.253918\"/>\n     <use style=\"fill:#1f77b4;fill-opacity:0.2;stroke:#ffffff;stroke-opacity:0.2;stroke-width:0.48;\" x=\"288.367263\" xlink:href=\"#m071fe2ce43\" y=\"118.000579\"/>\n     <use style=\"fill:#1f77b4;fill-opacity:0.2;stroke:#ffffff;stroke-opacity:0.2;stroke-width:0.48;\" x=\"144.473222\" xlink:href=\"#m071fe2ce43\" y=\"302.163844\"/>\n     <use style=\"fill:#1f77b4;fill-opacity:0.2;stroke:#ffffff;stroke-opacity:0.2;stroke-width:0.48;\" x=\"335.951175\" xlink:href=\"#m071fe2ce43\" y=\"113.515839\"/>\n     <use style=\"fill:#1f77b4;fill-opacity:0.2;stroke:#ffffff;stroke-opacity:0.2;stroke-width:0.48;\" x=\"333.580454\" xlink:href=\"#m071fe2ce43\" y=\"176.419725\"/>\n     <use style=\"fill:#1f77b4;fill-opacity:0.2;stroke:#ffffff;stroke-opacity:0.2;stroke-width:0.48;\" x=\"65.995648\" xlink:href=\"#m071fe2ce43\" y=\"319.773914\"/>\n     <use style=\"fill:#1f77b4;fill-opacity:0.2;stroke:#ffffff;stroke-opacity:0.2;stroke-width:0.48;\" x=\"65.995648\" xlink:href=\"#m071fe2ce43\" y=\"316.517558\"/>\n     <use style=\"fill:#1f77b4;fill-opacity:0.2;stroke:#ffffff;stroke-opacity:0.2;stroke-width:0.48;\" x=\"65.995648\" xlink:href=\"#m071fe2ce43\" y=\"262.671682\"/>\n     <use style=\"fill:#1f77b4;fill-opacity:0.2;stroke:#ffffff;stroke-opacity:0.2;stroke-width:0.48;\" x=\"311.727023\" xlink:href=\"#m071fe2ce43\" y=\"70.636046\"/>\n     <use style=\"fill:#1f77b4;fill-opacity:0.2;stroke:#ffffff;stroke-opacity:0.2;stroke-width:0.48;\" x=\"65.995648\" xlink:href=\"#m071fe2ce43\" y=\"299.47327\"/>\n     <use style=\"fill:#1f77b4;fill-opacity:0.2;stroke:#ffffff;stroke-opacity:0.2;stroke-width:0.48;\" x=\"277.202116\" xlink:href=\"#m071fe2ce43\" y=\"182.683865\"/>\n     <use style=\"fill:#1f77b4;fill-opacity:0.2;stroke:#ffffff;stroke-opacity:0.2;stroke-width:0.48;\" x=\"334.774124\" xlink:href=\"#m071fe2ce43\" y=\"140.66223\"/>\n     <use style=\"fill:#1f77b4;fill-opacity:0.2;stroke:#ffffff;stroke-opacity:0.2;stroke-width:0.48;\" x=\"127.384739\" xlink:href=\"#m071fe2ce43\" y=\"182.30765\"/>\n     <use style=\"fill:#1f77b4;fill-opacity:0.2;stroke:#ffffff;stroke-opacity:0.2;stroke-width:0.48;\" x=\"65.995648\" xlink:href=\"#m071fe2ce43\" y=\"284.893397\"/>\n     <use style=\"fill:#1f77b4;fill-opacity:0.2;stroke:#ffffff;stroke-opacity:0.2;stroke-width:0.48;\" x=\"144.473222\" xlink:href=\"#m071fe2ce43\" y=\"184.238767\"/>\n     <use style=\"fill:#1f77b4;fill-opacity:0.2;stroke:#ffffff;stroke-opacity:0.2;stroke-width:0.48;\" x=\"251.946013\" xlink:href=\"#m071fe2ce43\" y=\"242.342862\"/>\n     <use style=\"fill:#1f77b4;fill-opacity:0.2;stroke:#ffffff;stroke-opacity:0.2;stroke-width:0.48;\" x=\"219.2229\" xlink:href=\"#m071fe2ce43\" y=\"151.511868\"/>\n     <use style=\"fill:#1f77b4;fill-opacity:0.2;stroke:#ffffff;stroke-opacity:0.2;stroke-width:0.48;\" x=\"331.141233\" xlink:href=\"#m071fe2ce43\" y=\"147.51288\"/>\n     <use style=\"fill:#1f77b4;fill-opacity:0.2;stroke:#ffffff;stroke-opacity:0.2;stroke-width:0.48;\" x=\"237.355883\" xlink:href=\"#m071fe2ce43\" y=\"164.017341\"/>\n     <use style=\"fill:#1f77b4;fill-opacity:0.2;stroke:#ffffff;stroke-opacity:0.2;stroke-width:0.48;\" x=\"201.901232\" xlink:href=\"#m071fe2ce43\" y=\"133.589481\"/>\n     <use style=\"fill:#1f77b4;fill-opacity:0.2;stroke:#ffffff;stroke-opacity:0.2;stroke-width:0.48;\" x=\"104.028452\" xlink:href=\"#m071fe2ce43\" y=\"259.444484\"/>\n     <use style=\"fill:#1f77b4;fill-opacity:0.2;stroke:#ffffff;stroke-opacity:0.2;stroke-width:0.48;\" x=\"224.189079\" xlink:href=\"#m071fe2ce43\" y=\"151.850742\"/>\n     <use style=\"fill:#1f77b4;fill-opacity:0.2;stroke:#ffffff;stroke-opacity:0.2;stroke-width:0.48;\" x=\"228.841918\" xlink:href=\"#m071fe2ce43\" y=\"165.942724\"/>\n     <use style=\"fill:#1f77b4;fill-opacity:0.2;stroke:#ffffff;stroke-opacity:0.2;stroke-width:0.48;\" x=\"144.473222\" xlink:href=\"#m071fe2ce43\" y=\"203.409068\"/>\n     <use style=\"fill:#1f77b4;fill-opacity:0.2;stroke:#ffffff;stroke-opacity:0.2;stroke-width:0.48;\" x=\"313.274857\" xlink:href=\"#m071fe2ce43\" y=\"135.770158\"/>\n     <use style=\"fill:#1f77b4;fill-opacity:0.2;stroke:#ffffff;stroke-opacity:0.2;stroke-width:0.48;\" x=\"65.995648\" xlink:href=\"#m071fe2ce43\" y=\"224.161316\"/>\n     <use style=\"fill:#1f77b4;fill-opacity:0.2;stroke:#ffffff;stroke-opacity:0.2;stroke-width:0.48;\" x=\"284.087414\" xlink:href=\"#m071fe2ce43\" y=\"70.469683\"/>\n     <use style=\"fill:#1f77b4;fill-opacity:0.2;stroke:#ffffff;stroke-opacity:0.2;stroke-width:0.48;\" x=\"340.502443\" xlink:href=\"#m071fe2ce43\" y=\"86.927791\"/>\n     <use style=\"fill:#1f77b4;fill-opacity:0.2;stroke:#ffffff;stroke-opacity:0.2;stroke-width:0.48;\" x=\"310.149519\" xlink:href=\"#m071fe2ce43\" y=\"128.661153\"/>\n     <use style=\"fill:#1f77b4;fill-opacity:0.2;stroke:#ffffff;stroke-opacity:0.2;stroke-width:0.48;\" x=\"311.727023\" xlink:href=\"#m071fe2ce43\" y=\"65.271186\"/>\n     <use style=\"fill:#1f77b4;fill-opacity:0.2;stroke:#ffffff;stroke-opacity:0.2;stroke-width:0.48;\" x=\"255.19495\" xlink:href=\"#m071fe2ce43\" y=\"201.833495\"/>\n     <use style=\"fill:#1f77b4;fill-opacity:0.2;stroke:#ffffff;stroke-opacity:0.2;stroke-width:0.48;\" x=\"334.774124\" xlink:href=\"#m071fe2ce43\" y=\"82.952244\"/>\n     <use style=\"fill:#1f77b4;fill-opacity:0.2;stroke:#ffffff;stroke-opacity:0.2;stroke-width:0.48;\" x=\"261.307895\" xlink:href=\"#m071fe2ce43\" y=\"219.64461\"/>\n     <use style=\"fill:#1f77b4;fill-opacity:0.2;stroke:#ffffff;stroke-opacity:0.2;stroke-width:0.48;\" x=\"65.995648\" xlink:href=\"#m071fe2ce43\" y=\"270.583875\"/>\n     <use style=\"fill:#1f77b4;fill-opacity:0.2;stroke:#ffffff;stroke-opacity:0.2;stroke-width:0.48;\" x=\"237.355883\" xlink:href=\"#m071fe2ce43\" y=\"251.477247\"/>\n     <use style=\"fill:#1f77b4;fill-opacity:0.2;stroke:#ffffff;stroke-opacity:0.2;stroke-width:0.48;\" x=\"294.386524\" xlink:href=\"#m071fe2ce43\" y=\"222.760712\"/>\n     <use style=\"fill:#1f77b4;fill-opacity:0.2;stroke:#ffffff;stroke-opacity:0.2;stroke-width:0.48;\" x=\"286.256021\" xlink:href=\"#m071fe2ce43\" y=\"193.285268\"/>\n     <use style=\"fill:#1f77b4;fill-opacity:0.2;stroke:#ffffff;stroke-opacity:0.2;stroke-width:0.48;\" x=\"261.307895\" xlink:href=\"#m071fe2ce43\" y=\"140.174469\"/>\n     <use style=\"fill:#1f77b4;fill-opacity:0.2;stroke:#ffffff;stroke-opacity:0.2;stroke-width:0.48;\" x=\"169.31072\" xlink:href=\"#m071fe2ce43\" y=\"211.691861\"/>\n     <use style=\"fill:#1f77b4;fill-opacity:0.2;stroke:#ffffff;stroke-opacity:0.2;stroke-width:0.48;\" x=\"292.429779\" xlink:href=\"#m071fe2ce43\" y=\"113.199447\"/>\n     <use style=\"fill:#1f77b4;fill-opacity:0.2;stroke:#ffffff;stroke-opacity:0.2;stroke-width:0.48;\" x=\"144.473222\" xlink:href=\"#m071fe2ce43\" y=\"161.2566\"/>\n     <use style=\"fill:#1f77b4;fill-opacity:0.2;stroke:#ffffff;stroke-opacity:0.2;stroke-width:0.48;\" x=\"65.995648\" xlink:href=\"#m071fe2ce43\" y=\"254.513364\"/>\n     <use style=\"fill:#1f77b4;fill-opacity:0.2;stroke:#ffffff;stroke-opacity:0.2;stroke-width:0.48;\" x=\"65.995648\" xlink:href=\"#m071fe2ce43\" y=\"236.32306\"/>\n     <use style=\"fill:#1f77b4;fill-opacity:0.2;stroke:#ffffff;stroke-opacity:0.2;stroke-width:0.48;\" x=\"298.163135\" xlink:href=\"#m071fe2ce43\" y=\"87.223932\"/>\n     <use style=\"fill:#1f77b4;fill-opacity:0.2;stroke:#ffffff;stroke-opacity:0.2;stroke-width:0.48;\" x=\"127.384739\" xlink:href=\"#m071fe2ce43\" y=\"215.922512\"/>\n     <use style=\"fill:#1f77b4;fill-opacity:0.2;stroke:#ffffff;stroke-opacity:0.2;stroke-width:0.48;\" x=\"65.995648\" xlink:href=\"#m071fe2ce43\" y=\"226.776336\"/>\n     <use style=\"fill:#1f77b4;fill-opacity:0.2;stroke:#ffffff;stroke-opacity:0.2;stroke-width:0.48;\" x=\"158.031682\" xlink:href=\"#m071fe2ce43\" y=\"206.345499\"/>\n     <use style=\"fill:#1f77b4;fill-opacity:0.2;stroke:#ffffff;stroke-opacity:0.2;stroke-width:0.48;\" x=\"261.307895\" xlink:href=\"#m071fe2ce43\" y=\"163.954517\"/>\n     <use style=\"fill:#1f77b4;fill-opacity:0.2;stroke:#ffffff;stroke-opacity:0.2;stroke-width:0.48;\" x=\"208.147173\" xlink:href=\"#m071fe2ce43\" y=\"243.867108\"/>\n     <use style=\"fill:#1f77b4;fill-opacity:0.2;stroke:#ffffff;stroke-opacity:0.2;stroke-width:0.48;\" x=\"332.369665\" xlink:href=\"#m071fe2ce43\" y=\"88.893895\"/>\n     <use style=\"fill:#1f77b4;fill-opacity:0.2;stroke:#ffffff;stroke-opacity:0.2;stroke-width:0.48;\" x=\"272.254203\" xlink:href=\"#m071fe2ce43\" y=\"209.609113\"/>\n     <use style=\"fill:#1f77b4;fill-opacity:0.2;stroke:#ffffff;stroke-opacity:0.2;stroke-width:0.48;\" x=\"144.473222\" xlink:href=\"#m071fe2ce43\" y=\"209.609113\"/>\n     <use style=\"fill:#1f77b4;fill-opacity:0.2;stroke:#ffffff;stroke-opacity:0.2;stroke-width:0.48;\" x=\"169.31072\" xlink:href=\"#m071fe2ce43\" y=\"250.717561\"/>\n     <use style=\"fill:#1f77b4;fill-opacity:0.2;stroke:#ffffff;stroke-opacity:0.2;stroke-width:0.48;\" x=\"306.90055\" xlink:href=\"#m071fe2ce43\" y=\"134.797027\"/>\n     <use style=\"fill:#1f77b4;fill-opacity:0.2;stroke:#ffffff;stroke-opacity:0.2;stroke-width:0.48;\" x=\"296.296893\" xlink:href=\"#m071fe2ce43\" y=\"129.675227\"/>\n     <use style=\"fill:#1f77b4;fill-opacity:0.2;stroke:#ffffff;stroke-opacity:0.2;stroke-width:0.48;\" x=\"104.028452\" xlink:href=\"#m071fe2ce43\" y=\"259.974598\"/>\n     <use style=\"fill:#1f77b4;fill-opacity:0.2;stroke:#ffffff;stroke-opacity:0.2;stroke-width:0.48;\" x=\"324.714302\" xlink:href=\"#m071fe2ce43\" y=\"70.301693\"/>\n     <use style=\"fill:#1f77b4;fill-opacity:0.2;stroke:#ffffff;stroke-opacity:0.2;stroke-width:0.48;\" x=\"277.202116\" xlink:href=\"#m071fe2ce43\" y=\"146.053695\"/>\n     <use style=\"fill:#1f77b4;fill-opacity:0.2;stroke:#ffffff;stroke-opacity:0.2;stroke-width:0.48;\" x=\"144.473222\" xlink:href=\"#m071fe2ce43\" y=\"150.563352\"/>\n     <use style=\"fill:#1f77b4;fill-opacity:0.2;stroke:#ffffff;stroke-opacity:0.2;stroke-width:0.48;\" x=\"195.057843\" xlink:href=\"#m071fe2ce43\" y=\"237.483684\"/>\n     <use style=\"fill:#1f77b4;fill-opacity:0.2;stroke:#ffffff;stroke-opacity:0.2;stroke-width:0.48;\" x=\"178.990369\" xlink:href=\"#m071fe2ce43\" y=\"277.522634\"/>\n     <use style=\"fill:#1f77b4;fill-opacity:0.2;stroke:#ffffff;stroke-opacity:0.2;stroke-width:0.48;\" x=\"241.27552\" xlink:href=\"#m071fe2ce43\" y=\"194.244155\"/>\n     <use style=\"fill:#1f77b4;fill-opacity:0.2;stroke:#ffffff;stroke-opacity:0.2;stroke-width:0.48;\" x=\"187.482922\" xlink:href=\"#m071fe2ce43\" y=\"207.512202\"/>\n     <use style=\"fill:#1f77b4;fill-opacity:0.2;stroke:#ffffff;stroke-opacity:0.2;stroke-width:0.48;\" x=\"266.973078\" xlink:href=\"#m071fe2ce43\" y=\"175.936628\"/>\n     <use style=\"fill:#1f77b4;fill-opacity:0.2;stroke:#ffffff;stroke-opacity:0.2;stroke-width:0.48;\" x=\"104.028452\" xlink:href=\"#m071fe2ce43\" y=\"223.166398\"/>\n     <use style=\"fill:#1f77b4;fill-opacity:0.2;stroke:#ffffff;stroke-opacity:0.2;stroke-width:0.48;\" x=\"320.606901\" xlink:href=\"#m071fe2ce43\" y=\"68.097211\"/>\n     <use style=\"fill:#1f77b4;fill-opacity:0.2;stroke:#ffffff;stroke-opacity:0.2;stroke-width:0.48;\" x=\"332.369665\" xlink:href=\"#m071fe2ce43\" y=\"71.756993\"/>\n     <use style=\"fill:#1f77b4;fill-opacity:0.2;stroke:#ffffff;stroke-opacity:0.2;stroke-width:0.48;\" x=\"299.987334\" xlink:href=\"#m071fe2ce43\" y=\"154.059574\"/>\n     <use style=\"fill:#1f77b4;fill-opacity:0.2;stroke:#ffffff;stroke-opacity:0.2;stroke-width:0.48;\" x=\"195.057843\" xlink:href=\"#m071fe2ce43\" y=\"238.089077\"/>\n     <use style=\"fill:#1f77b4;fill-opacity:0.2;stroke:#ffffff;stroke-opacity:0.2;stroke-width:0.48;\" x=\"241.27552\" xlink:href=\"#m071fe2ce43\" y=\"167.062348\"/>\n     <use style=\"fill:#1f77b4;fill-opacity:0.2;stroke:#ffffff;stroke-opacity:0.2;stroke-width:0.48;\" x=\"65.995648\" xlink:href=\"#m071fe2ce43\" y=\"292.048099\"/>\n     <use style=\"fill:#1f77b4;fill-opacity:0.2;stroke:#ffffff;stroke-opacity:0.2;stroke-width:0.48;\" x=\"127.384739\" xlink:href=\"#m071fe2ce43\" y=\"276.703813\"/>\n     <use style=\"fill:#1f77b4;fill-opacity:0.2;stroke:#ffffff;stroke-opacity:0.2;stroke-width:0.48;\" x=\"288.367263\" xlink:href=\"#m071fe2ce43\" y=\"151.719043\"/>\n     <use style=\"fill:#1f77b4;fill-opacity:0.2;stroke:#ffffff;stroke-opacity:0.2;stroke-width:0.48;\" x=\"339.38729\" xlink:href=\"#m071fe2ce43\" y=\"111.671802\"/>\n     <use style=\"fill:#1f77b4;fill-opacity:0.2;stroke:#ffffff;stroke-opacity:0.2;stroke-width:0.48;\" x=\"65.995648\" xlink:href=\"#m071fe2ce43\" y=\"299.47327\"/>\n     <use style=\"fill:#1f77b4;fill-opacity:0.2;stroke:#ffffff;stroke-opacity:0.2;stroke-width:0.48;\" x=\"296.296893\" xlink:href=\"#m071fe2ce43\" y=\"188.320856\"/>\n     <use style=\"fill:#1f77b4;fill-opacity:0.2;stroke:#ffffff;stroke-opacity:0.2;stroke-width:0.48;\" x=\"158.031682\" xlink:href=\"#m071fe2ce43\" y=\"214.553129\"/>\n     <use style=\"fill:#1f77b4;fill-opacity:0.2;stroke:#ffffff;stroke-opacity:0.2;stroke-width:0.48;\" x=\"320.606901\" xlink:href=\"#m071fe2ce43\" y=\"118.433773\"/>\n     <use style=\"fill:#1f77b4;fill-opacity:0.2;stroke:#ffffff;stroke-opacity:0.2;stroke-width:0.48;\" x=\"201.901232\" xlink:href=\"#m071fe2ce43\" y=\"168.809051\"/>\n     <use style=\"fill:#1f77b4;fill-opacity:0.2;stroke:#ffffff;stroke-opacity:0.2;stroke-width:0.48;\" x=\"65.995648\" xlink:href=\"#m071fe2ce43\" y=\"302.564191\"/>\n     <use style=\"fill:#1f77b4;fill-opacity:0.2;stroke:#ffffff;stroke-opacity:0.2;stroke-width:0.48;\" x=\"301.771429\" xlink:href=\"#m071fe2ce43\" y=\"72.431828\"/>\n     <use style=\"fill:#1f77b4;fill-opacity:0.2;stroke:#ffffff;stroke-opacity:0.2;stroke-width:0.48;\" x=\"237.355883\" xlink:href=\"#m071fe2ce43\" y=\"147.712871\"/>\n     <use style=\"fill:#1f77b4;fill-opacity:0.2;stroke:#ffffff;stroke-opacity:0.2;stroke-width:0.48;\" x=\"277.202116\" xlink:href=\"#m071fe2ce43\" y=\"214.380049\"/>\n     <use style=\"fill:#1f77b4;fill-opacity:0.2;stroke:#ffffff;stroke-opacity:0.2;stroke-width:0.48;\" x=\"340.502443\" xlink:href=\"#m071fe2ce43\" y=\"108.40497\"/>\n     <use style=\"fill:#1f77b4;fill-opacity:0.2;stroke:#ffffff;stroke-opacity:0.2;stroke-width:0.48;\" x=\"233.220213\" xlink:href=\"#m071fe2ce43\" y=\"260.370681\"/>\n     <use style=\"fill:#1f77b4;fill-opacity:0.2;stroke:#ffffff;stroke-opacity:0.2;stroke-width:0.48;\" x=\"228.841918\" xlink:href=\"#m071fe2ce43\" y=\"207.512202\"/>\n     <use style=\"fill:#1f77b4;fill-opacity:0.2;stroke:#ffffff;stroke-opacity:0.2;stroke-width:0.48;\" x=\"65.995648\" xlink:href=\"#m071fe2ce43\" y=\"314.172458\"/>\n     <use style=\"fill:#1f77b4;fill-opacity:0.2;stroke:#ffffff;stroke-opacity:0.2;stroke-width:0.48;\" x=\"328.629225\" xlink:href=\"#m071fe2ce43\" y=\"76.513735\"/>\n     <use style=\"fill:#1f77b4;fill-opacity:0.2;stroke:#ffffff;stroke-opacity:0.2;stroke-width:0.48;\" x=\"219.2229\" xlink:href=\"#m071fe2ce43\" y=\"223.211797\"/>\n     <use style=\"fill:#1f77b4;fill-opacity:0.2;stroke:#ffffff;stroke-opacity:0.2;stroke-width:0.48;\" x=\"219.2229\" xlink:href=\"#m071fe2ce43\" y=\"253.071456\"/>\n     <use style=\"fill:#1f77b4;fill-opacity:0.2;stroke:#ffffff;stroke-opacity:0.2;stroke-width:0.48;\" x=\"228.841918\" xlink:href=\"#m071fe2ce43\" y=\"250.348965\"/>\n     <use style=\"fill:#1f77b4;fill-opacity:0.2;stroke:#ffffff;stroke-opacity:0.2;stroke-width:0.48;\" x=\"303.517225\" xlink:href=\"#m071fe2ce43\" y=\"240.785487\"/>\n     <use style=\"fill:#1f77b4;fill-opacity:0.2;stroke:#ffffff;stroke-opacity:0.2;stroke-width:0.48;\" x=\"340.502443\" xlink:href=\"#m071fe2ce43\" y=\"70.301693\"/>\n     <use style=\"fill:#1f77b4;fill-opacity:0.2;stroke:#ffffff;stroke-opacity:0.2;stroke-width:0.48;\" x=\"144.473222\" xlink:href=\"#m071fe2ce43\" y=\"254.904532\"/>\n     <use style=\"fill:#1f77b4;fill-opacity:0.2;stroke:#ffffff;stroke-opacity:0.2;stroke-width:0.48;\" x=\"144.473222\" xlink:href=\"#m071fe2ce43\" y=\"254.832593\"/>\n     <use style=\"fill:#1f77b4;fill-opacity:0.2;stroke:#ffffff;stroke-opacity:0.2;stroke-width:0.48;\" x=\"310.149519\" xlink:href=\"#m071fe2ce43\" y=\"69.638706\"/>\n     <use style=\"fill:#1f77b4;fill-opacity:0.2;stroke:#ffffff;stroke-opacity:0.2;stroke-width:0.48;\" x=\"65.995648\" xlink:href=\"#m071fe2ce43\" y=\"274.627499\"/>\n     <use style=\"fill:#1f77b4;fill-opacity:0.2;stroke:#ffffff;stroke-opacity:0.2;stroke-width:0.48;\" x=\"233.220213\" xlink:href=\"#m071fe2ce43\" y=\"145.693255\"/>\n     <use style=\"fill:#1f77b4;fill-opacity:0.2;stroke:#ffffff;stroke-opacity:0.2;stroke-width:0.48;\" x=\"158.031682\" xlink:href=\"#m071fe2ce43\" y=\"244.987129\"/>\n     <use style=\"fill:#1f77b4;fill-opacity:0.2;stroke:#ffffff;stroke-opacity:0.2;stroke-width:0.48;\" x=\"314.794167\" xlink:href=\"#m071fe2ce43\" y=\"67.835651\"/>\n     <use style=\"fill:#1f77b4;fill-opacity:0.2;stroke:#ffffff;stroke-opacity:0.2;stroke-width:0.48;\" x=\"65.995648\" xlink:href=\"#m071fe2ce43\" y=\"243.335145\"/>\n     <use style=\"fill:#1f77b4;fill-opacity:0.2;stroke:#ffffff;stroke-opacity:0.2;stroke-width:0.48;\" x=\"195.057843\" xlink:href=\"#m071fe2ce43\" y=\"247.816409\"/>\n     <use style=\"fill:#1f77b4;fill-opacity:0.2;stroke:#ffffff;stroke-opacity:0.2;stroke-width:0.48;\" x=\"286.256021\" xlink:href=\"#m071fe2ce43\" y=\"144.391662\"/>\n     <use style=\"fill:#1f77b4;fill-opacity:0.2;stroke:#ffffff;stroke-opacity:0.2;stroke-width:0.48;\" x=\"104.028452\" xlink:href=\"#m071fe2ce43\" y=\"241.33478\"/>\n     <use style=\"fill:#1f77b4;fill-opacity:0.2;stroke:#ffffff;stroke-opacity:0.2;stroke-width:0.48;\" x=\"255.19495\" xlink:href=\"#m071fe2ce43\" y=\"184.238767\"/>\n     <use style=\"fill:#1f77b4;fill-opacity:0.2;stroke:#ffffff;stroke-opacity:0.2;stroke-width:0.48;\" x=\"158.031682\" xlink:href=\"#m071fe2ce43\" y=\"166.838343\"/>\n     <use style=\"fill:#1f77b4;fill-opacity:0.2;stroke:#ffffff;stroke-opacity:0.2;stroke-width:0.48;\" x=\"65.995648\" xlink:href=\"#m071fe2ce43\" y=\"316.21978\"/>\n     <use style=\"fill:#1f77b4;fill-opacity:0.2;stroke:#ffffff;stroke-opacity:0.2;stroke-width:0.48;\" x=\"178.990369\" xlink:href=\"#m071fe2ce43\" y=\"179.166122\"/>\n     <use style=\"fill:#1f77b4;fill-opacity:0.2;stroke:#ffffff;stroke-opacity:0.2;stroke-width:0.48;\" x=\"327.344471\" xlink:href=\"#m071fe2ce43\" y=\"174.237522\"/>\n     <use style=\"fill:#1f77b4;fill-opacity:0.2;stroke:#ffffff;stroke-opacity:0.2;stroke-width:0.48;\" x=\"313.274857\" xlink:href=\"#m071fe2ce43\" y=\"147.553706\"/>\n     <use style=\"fill:#1f77b4;fill-opacity:0.2;stroke:#ffffff;stroke-opacity:0.2;stroke-width:0.48;\" x=\"335.951175\" xlink:href=\"#m071fe2ce43\" y=\"69.568649\"/>\n     <use style=\"fill:#1f77b4;fill-opacity:0.2;stroke:#ffffff;stroke-opacity:0.2;stroke-width:0.48;\" x=\"195.057843\" xlink:href=\"#m071fe2ce43\" y=\"174.009425\"/>\n     <use style=\"fill:#1f77b4;fill-opacity:0.2;stroke:#ffffff;stroke-opacity:0.2;stroke-width:0.48;\" x=\"294.386524\" xlink:href=\"#m071fe2ce43\" y=\"176.419725\"/>\n     <use style=\"fill:#1f77b4;fill-opacity:0.2;stroke:#ffffff;stroke-opacity:0.2;stroke-width:0.48;\" x=\"158.031682\" xlink:href=\"#m071fe2ce43\" y=\"209.010645\"/>\n     <use style=\"fill:#1f77b4;fill-opacity:0.2;stroke:#ffffff;stroke-opacity:0.2;stroke-width:0.48;\" x=\"201.901232\" xlink:href=\"#m071fe2ce43\" y=\"248.357941\"/>\n     <use style=\"fill:#1f77b4;fill-opacity:0.2;stroke:#ffffff;stroke-opacity:0.2;stroke-width:0.48;\" x=\"233.220213\" xlink:href=\"#m071fe2ce43\" y=\"116.949103\"/>\n     <use style=\"fill:#1f77b4;fill-opacity:0.2;stroke:#ffffff;stroke-opacity:0.2;stroke-width:0.48;\" x=\"337.112085\" xlink:href=\"#m071fe2ce43\" y=\"72.063745\"/>\n     <use style=\"fill:#1f77b4;fill-opacity:0.2;stroke:#ffffff;stroke-opacity:0.2;stroke-width:0.48;\" x=\"266.973078\" xlink:href=\"#m071fe2ce43\" y=\"193.102937\"/>\n     <use style=\"fill:#1f77b4;fill-opacity:0.2;stroke:#ffffff;stroke-opacity:0.2;stroke-width:0.48;\" x=\"169.31072\" xlink:href=\"#m071fe2ce43\" y=\"147.553706\"/>\n     <use style=\"fill:#1f77b4;fill-opacity:0.2;stroke:#ffffff;stroke-opacity:0.2;stroke-width:0.48;\" x=\"319.191466\" xlink:href=\"#m071fe2ce43\" y=\"108.40497\"/>\n     <use style=\"fill:#1f77b4;fill-opacity:0.2;stroke:#ffffff;stroke-opacity:0.2;stroke-width:0.48;\" x=\"127.384739\" xlink:href=\"#m071fe2ce43\" y=\"235.044565\"/>\n     <use style=\"fill:#1f77b4;fill-opacity:0.2;stroke:#ffffff;stroke-opacity:0.2;stroke-width:0.48;\" x=\"228.841918\" xlink:href=\"#m071fe2ce43\" y=\"173.94842\"/>\n     <use style=\"fill:#1f77b4;fill-opacity:0.2;stroke:#ffffff;stroke-opacity:0.2;stroke-width:0.48;\" x=\"65.995648\" xlink:href=\"#m071fe2ce43\" y=\"309.280491\"/>\n     <use style=\"fill:#1f77b4;fill-opacity:0.2;stroke:#ffffff;stroke-opacity:0.2;stroke-width:0.48;\" x=\"127.384739\" xlink:href=\"#m071fe2ce43\" y=\"179.635873\"/>\n     <use style=\"fill:#1f77b4;fill-opacity:0.2;stroke:#ffffff;stroke-opacity:0.2;stroke-width:0.48;\" x=\"127.384739\" xlink:href=\"#m071fe2ce43\" y=\"241.24621\"/>\n     <use style=\"fill:#1f77b4;fill-opacity:0.2;stroke:#ffffff;stroke-opacity:0.2;stroke-width:0.48;\" x=\"313.274857\" xlink:href=\"#m071fe2ce43\" y=\"115.292218\"/>\n     <use style=\"fill:#1f77b4;fill-opacity:0.2;stroke:#ffffff;stroke-opacity:0.2;stroke-width:0.48;\" x=\"219.2229\" xlink:href=\"#m071fe2ce43\" y=\"203.111675\"/>\n     <use style=\"fill:#1f77b4;fill-opacity:0.2;stroke:#ffffff;stroke-opacity:0.2;stroke-width:0.48;\" x=\"208.147173\" xlink:href=\"#m071fe2ce43\" y=\"140.256596\"/>\n     <use style=\"fill:#1f77b4;fill-opacity:0.2;stroke:#ffffff;stroke-opacity:0.2;stroke-width:0.48;\" x=\"306.90055\" xlink:href=\"#m071fe2ce43\" y=\"144.083445\"/>\n     <use style=\"fill:#1f77b4;fill-opacity:0.2;stroke:#ffffff;stroke-opacity:0.2;stroke-width:0.48;\" x=\"144.473222\" xlink:href=\"#m071fe2ce43\" y=\"178.747034\"/>\n     <use style=\"fill:#1f77b4;fill-opacity:0.2;stroke:#ffffff;stroke-opacity:0.2;stroke-width:0.48;\" x=\"144.473222\" xlink:href=\"#m071fe2ce43\" y=\"173.94842\"/>\n     <use style=\"fill:#1f77b4;fill-opacity:0.2;stroke:#ffffff;stroke-opacity:0.2;stroke-width:0.48;\" x=\"219.2229\" xlink:href=\"#m071fe2ce43\" y=\"154.080077\"/>\n     <use style=\"fill:#1f77b4;fill-opacity:0.2;stroke:#ffffff;stroke-opacity:0.2;stroke-width:0.48;\" x=\"178.990369\" xlink:href=\"#m071fe2ce43\" y=\"142.913211\"/>\n     <use style=\"fill:#1f77b4;fill-opacity:0.2;stroke:#ffffff;stroke-opacity:0.2;stroke-width:0.48;\" x=\"237.355883\" xlink:href=\"#m071fe2ce43\" y=\"219.20737\"/>\n     <use style=\"fill:#1f77b4;fill-opacity:0.2;stroke:#ffffff;stroke-opacity:0.2;stroke-width:0.48;\" x=\"342.689863\" xlink:href=\"#m071fe2ce43\" y=\"82.115611\"/>\n     <use style=\"fill:#1f77b4;fill-opacity:0.2;stroke:#ffffff;stroke-opacity:0.2;stroke-width:0.48;\" x=\"248.552904\" xlink:href=\"#m071fe2ce43\" y=\"214.55675\"/>\n     <use style=\"fill:#1f77b4;fill-opacity:0.2;stroke:#ffffff;stroke-opacity:0.2;stroke-width:0.48;\" x=\"208.147173\" xlink:href=\"#m071fe2ce43\" y=\"207.213028\"/>\n     <use style=\"fill:#1f77b4;fill-opacity:0.2;stroke:#ffffff;stroke-opacity:0.2;stroke-width:0.48;\" x=\"158.031682\" xlink:href=\"#m071fe2ce43\" y=\"193.270184\"/>\n     <use style=\"fill:#1f77b4;fill-opacity:0.2;stroke:#ffffff;stroke-opacity:0.2;stroke-width:0.48;\" x=\"104.028452\" xlink:href=\"#m071fe2ce43\" y=\"249.965675\"/>\n     <use style=\"fill:#1f77b4;fill-opacity:0.2;stroke:#ffffff;stroke-opacity:0.2;stroke-width:0.48;\" x=\"233.220213\" xlink:href=\"#m071fe2ce43\" y=\"175.936628\"/>\n     <use style=\"fill:#1f77b4;fill-opacity:0.2;stroke:#ffffff;stroke-opacity:0.2;stroke-width:0.48;\" x=\"286.256021\" xlink:href=\"#m071fe2ce43\" y=\"179.283369\"/>\n     <use style=\"fill:#1f77b4;fill-opacity:0.2;stroke:#ffffff;stroke-opacity:0.2;stroke-width:0.48;\" x=\"195.057843\" xlink:href=\"#m071fe2ce43\" y=\"173.844933\"/>\n     <use style=\"fill:#1f77b4;fill-opacity:0.2;stroke:#ffffff;stroke-opacity:0.2;stroke-width:0.48;\" x=\"65.995648\" xlink:href=\"#m071fe2ce43\" y=\"305.315626\"/>\n     <use style=\"fill:#1f77b4;fill-opacity:0.2;stroke:#ffffff;stroke-opacity:0.2;stroke-width:0.48;\" x=\"277.202116\" xlink:href=\"#m071fe2ce43\" y=\"135.98935\"/>\n     <use style=\"fill:#1f77b4;fill-opacity:0.2;stroke:#ffffff;stroke-opacity:0.2;stroke-width:0.48;\" x=\"292.429779\" xlink:href=\"#m071fe2ce43\" y=\"219.002056\"/>\n     <use style=\"fill:#1f77b4;fill-opacity:0.2;stroke:#ffffff;stroke-opacity:0.2;stroke-width:0.48;\" x=\"65.995648\" xlink:href=\"#m071fe2ce43\" y=\"203.438714\"/>\n     <use style=\"fill:#1f77b4;fill-opacity:0.2;stroke:#ffffff;stroke-opacity:0.2;stroke-width:0.48;\" x=\"264.192127\" xlink:href=\"#m071fe2ce43\" y=\"159.468313\"/>\n     <use style=\"fill:#1f77b4;fill-opacity:0.2;stroke:#ffffff;stroke-opacity:0.2;stroke-width:0.48;\" x=\"316.286036\" xlink:href=\"#m071fe2ce43\" y=\"128.145467\"/>\n     <use style=\"fill:#1f77b4;fill-opacity:0.2;stroke:#ffffff;stroke-opacity:0.2;stroke-width:0.48;\" x=\"241.27552\" xlink:href=\"#m071fe2ce43\" y=\"120.358233\"/>\n     <use style=\"fill:#1f77b4;fill-opacity:0.2;stroke:#ffffff;stroke-opacity:0.2;stroke-width:0.48;\" x=\"65.995648\" xlink:href=\"#m071fe2ce43\" y=\"110.735795\"/>\n     <use style=\"fill:#1f77b4;fill-opacity:0.2;stroke:#ffffff;stroke-opacity:0.2;stroke-width:0.48;\" x=\"127.384739\" xlink:href=\"#m071fe2ce43\" y=\"264.667868\"/>\n     <use style=\"fill:#1f77b4;fill-opacity:0.2;stroke:#ffffff;stroke-opacity:0.2;stroke-width:0.48;\" x=\"65.995648\" xlink:href=\"#m071fe2ce43\" y=\"305.315626\"/>\n     <use style=\"fill:#1f77b4;fill-opacity:0.2;stroke:#ffffff;stroke-opacity:0.2;stroke-width:0.48;\" x=\"104.028452\" xlink:href=\"#m071fe2ce43\" y=\"244.240333\"/>\n     <use style=\"fill:#1f77b4;fill-opacity:0.2;stroke:#ffffff;stroke-opacity:0.2;stroke-width:0.48;\" x=\"65.995648\" xlink:href=\"#m071fe2ce43\" y=\"260.642817\"/>\n     <use style=\"fill:#1f77b4;fill-opacity:0.2;stroke:#ffffff;stroke-opacity:0.2;stroke-width:0.48;\" x=\"65.995648\" xlink:href=\"#m071fe2ce43\" y=\"254.832593\"/>\n     <use style=\"fill:#1f77b4;fill-opacity:0.2;stroke:#ffffff;stroke-opacity:0.2;stroke-width:0.48;\" x=\"65.995648\" xlink:href=\"#m071fe2ce43\" y=\"288.342564\"/>\n     <use style=\"fill:#1f77b4;fill-opacity:0.2;stroke:#ffffff;stroke-opacity:0.2;stroke-width:0.48;\" x=\"251.946013\" xlink:href=\"#m071fe2ce43\" y=\"147.51288\"/>\n     <use style=\"fill:#1f77b4;fill-opacity:0.2;stroke:#ffffff;stroke-opacity:0.2;stroke-width:0.48;\" x=\"65.995648\" xlink:href=\"#m071fe2ce43\" y=\"267.090137\"/>\n     <use style=\"fill:#1f77b4;fill-opacity:0.2;stroke:#ffffff;stroke-opacity:0.2;stroke-width:0.48;\" x=\"255.19495\" xlink:href=\"#m071fe2ce43\" y=\"224.971383\"/>\n     <use style=\"fill:#1f77b4;fill-opacity:0.2;stroke:#ffffff;stroke-opacity:0.2;stroke-width:0.48;\" x=\"213.895565\" xlink:href=\"#m071fe2ce43\" y=\"148.665022\"/>\n     <use style=\"fill:#1f77b4;fill-opacity:0.2;stroke:#ffffff;stroke-opacity:0.2;stroke-width:0.48;\" x=\"65.995648\" xlink:href=\"#m071fe2ce43\" y=\"241.615775\"/>\n     <use style=\"fill:#1f77b4;fill-opacity:0.2;stroke:#ffffff;stroke-opacity:0.2;stroke-width:0.48;\" x=\"301.771429\" xlink:href=\"#m071fe2ce43\" y=\"177.077421\"/>\n     <use style=\"fill:#1f77b4;fill-opacity:0.2;stroke:#ffffff;stroke-opacity:0.2;stroke-width:0.48;\" x=\"65.995648\" xlink:href=\"#m071fe2ce43\" y=\"311.176607\"/>\n     <use style=\"fill:#1f77b4;fill-opacity:0.2;stroke:#ffffff;stroke-opacity:0.2;stroke-width:0.48;\" x=\"158.031682\" xlink:href=\"#m071fe2ce43\" y=\"273.204914\"/>\n     <use style=\"fill:#1f77b4;fill-opacity:0.2;stroke:#ffffff;stroke-opacity:0.2;stroke-width:0.48;\" x=\"104.028452\" xlink:href=\"#m071fe2ce43\" y=\"196.081894\"/>\n     <use style=\"fill:#1f77b4;fill-opacity:0.2;stroke:#ffffff;stroke-opacity:0.2;stroke-width:0.48;\" x=\"286.256021\" xlink:href=\"#m071fe2ce43\" y=\"161.971862\"/>\n     <use style=\"fill:#1f77b4;fill-opacity:0.2;stroke:#ffffff;stroke-opacity:0.2;stroke-width:0.48;\" x=\"251.946013\" xlink:href=\"#m071fe2ce43\" y=\"82.952244\"/>\n     <use style=\"fill:#1f77b4;fill-opacity:0.2;stroke:#ffffff;stroke-opacity:0.2;stroke-width:0.48;\" x=\"104.028452\" xlink:href=\"#m071fe2ce43\" y=\"157.08293\"/>\n     <use style=\"fill:#1f77b4;fill-opacity:0.2;stroke:#ffffff;stroke-opacity:0.2;stroke-width:0.48;\" x=\"65.995648\" xlink:href=\"#m071fe2ce43\" y=\"234.159512\"/>\n     <use style=\"fill:#1f77b4;fill-opacity:0.2;stroke:#ffffff;stroke-opacity:0.2;stroke-width:0.48;\" x=\"208.147173\" xlink:href=\"#m071fe2ce43\" y=\"145.693255\"/>\n     <use style=\"fill:#1f77b4;fill-opacity:0.2;stroke:#ffffff;stroke-opacity:0.2;stroke-width:0.48;\" x=\"208.147173\" xlink:href=\"#m071fe2ce43\" y=\"203.138816\"/>\n     <use style=\"fill:#1f77b4;fill-opacity:0.2;stroke:#ffffff;stroke-opacity:0.2;stroke-width:0.48;\" x=\"298.163135\" xlink:href=\"#m071fe2ce43\" y=\"170.077533\"/>\n     <use style=\"fill:#1f77b4;fill-opacity:0.2;stroke:#ffffff;stroke-opacity:0.2;stroke-width:0.48;\" x=\"169.31072\" xlink:href=\"#m071fe2ce43\" y=\"201.40709\"/>\n     <use style=\"fill:#1f77b4;fill-opacity:0.2;stroke:#ffffff;stroke-opacity:0.2;stroke-width:0.48;\" x=\"208.147173\" xlink:href=\"#m071fe2ce43\" y=\"245.453892\"/>\n     <use style=\"fill:#1f77b4;fill-opacity:0.2;stroke:#ffffff;stroke-opacity:0.2;stroke-width:0.48;\" x=\"335.951175\" xlink:href=\"#m071fe2ce43\" y=\"157.98228\"/>\n     <use style=\"fill:#1f77b4;fill-opacity:0.2;stroke:#ffffff;stroke-opacity:0.2;stroke-width:0.48;\" x=\"104.028452\" xlink:href=\"#m071fe2ce43\" y=\"273.101058\"/>\n     <use style=\"fill:#1f77b4;fill-opacity:0.2;stroke:#ffffff;stroke-opacity:0.2;stroke-width:0.48;\" x=\"127.384739\" xlink:href=\"#m071fe2ce43\" y=\"194.741237\"/>\n     <use style=\"fill:#1f77b4;fill-opacity:0.2;stroke:#ffffff;stroke-opacity:0.2;stroke-width:0.48;\" x=\"213.895565\" xlink:href=\"#m071fe2ce43\" y=\"119.077962\"/>\n     <use style=\"fill:#1f77b4;fill-opacity:0.2;stroke:#ffffff;stroke-opacity:0.2;stroke-width:0.48;\" x=\"178.990369\" xlink:href=\"#m071fe2ce43\" y=\"250.717561\"/>\n     <use style=\"fill:#1f77b4;fill-opacity:0.2;stroke:#ffffff;stroke-opacity:0.2;stroke-width:0.48;\" x=\"201.901232\" xlink:href=\"#m071fe2ce43\" y=\"190.00995\"/>\n     <use style=\"fill:#1f77b4;fill-opacity:0.2;stroke:#ffffff;stroke-opacity:0.2;stroke-width:0.48;\" x=\"323.367524\" xlink:href=\"#m071fe2ce43\" y=\"92.050435\"/>\n     <use style=\"fill:#1f77b4;fill-opacity:0.2;stroke:#ffffff;stroke-opacity:0.2;stroke-width:0.48;\" x=\"187.482922\" xlink:href=\"#m071fe2ce43\" y=\"125.11412\"/>\n     <use style=\"fill:#1f77b4;fill-opacity:0.2;stroke:#ffffff;stroke-opacity:0.2;stroke-width:0.48;\" x=\"195.057843\" xlink:href=\"#m071fe2ce43\" y=\"216.70799\"/>\n     <use style=\"fill:#1f77b4;fill-opacity:0.2;stroke:#ffffff;stroke-opacity:0.2;stroke-width:0.48;\" x=\"144.473222\" xlink:href=\"#m071fe2ce43\" y=\"263.114278\"/>\n     <use style=\"fill:#1f77b4;fill-opacity:0.2;stroke:#ffffff;stroke-opacity:0.2;stroke-width:0.48;\" x=\"290.424234\" xlink:href=\"#m071fe2ce43\" y=\"169.512271\"/>\n     <use style=\"fill:#1f77b4;fill-opacity:0.2;stroke:#ffffff;stroke-opacity:0.2;stroke-width:0.48;\" x=\"187.482922\" xlink:href=\"#m071fe2ce43\" y=\"235.899721\"/>\n     <use style=\"fill:#1f77b4;fill-opacity:0.2;stroke:#ffffff;stroke-opacity:0.2;stroke-width:0.48;\" x=\"104.028452\" xlink:href=\"#m071fe2ce43\" y=\"246.878353\"/>\n     <use style=\"fill:#1f77b4;fill-opacity:0.2;stroke:#ffffff;stroke-opacity:0.2;stroke-width:0.48;\" x=\"213.895565\" xlink:href=\"#m071fe2ce43\" y=\"154.774278\"/>\n     <use style=\"fill:#1f77b4;fill-opacity:0.2;stroke:#ffffff;stroke-opacity:0.2;stroke-width:0.48;\" x=\"314.794167\" xlink:href=\"#m071fe2ce43\" y=\"69.288898\"/>\n     <use style=\"fill:#1f77b4;fill-opacity:0.2;stroke:#ffffff;stroke-opacity:0.2;stroke-width:0.48;\" x=\"65.995648\" xlink:href=\"#m071fe2ce43\" y=\"302.163844\"/>\n     <use style=\"fill:#1f77b4;fill-opacity:0.2;stroke:#ffffff;stroke-opacity:0.2;stroke-width:0.48;\" x=\"335.951175\" xlink:href=\"#m071fe2ce43\" y=\"82.659149\"/>\n     <use style=\"fill:#1f77b4;fill-opacity:0.2;stroke:#ffffff;stroke-opacity:0.2;stroke-width:0.48;\" x=\"104.028452\" xlink:href=\"#m071fe2ce43\" y=\"237.333125\"/>\n     <use style=\"fill:#1f77b4;fill-opacity:0.2;stroke:#ffffff;stroke-opacity:0.2;stroke-width:0.48;\" x=\"144.473222\" xlink:href=\"#m071fe2ce43\" y=\"209.609113\"/>\n     <use style=\"fill:#1f77b4;fill-opacity:0.2;stroke:#ffffff;stroke-opacity:0.2;stroke-width:0.48;\" x=\"301.771429\" xlink:href=\"#m071fe2ce43\" y=\"140.215295\"/>\n     <use style=\"fill:#1f77b4;fill-opacity:0.2;stroke:#ffffff;stroke-opacity:0.2;stroke-width:0.48;\" x=\"213.895565\" xlink:href=\"#m071fe2ce43\" y=\"191.149366\"/>\n     <use style=\"fill:#1f77b4;fill-opacity:0.2;stroke:#ffffff;stroke-opacity:0.2;stroke-width:0.48;\" x=\"127.384739\" xlink:href=\"#m071fe2ce43\" y=\"288.342564\"/>\n     <use style=\"fill:#1f77b4;fill-opacity:0.2;stroke:#ffffff;stroke-opacity:0.2;stroke-width:0.48;\" x=\"311.727023\" xlink:href=\"#m071fe2ce43\" y=\"174.009425\"/>\n     <use style=\"fill:#1f77b4;fill-opacity:0.2;stroke:#ffffff;stroke-opacity:0.2;stroke-width:0.48;\" x=\"65.995648\" xlink:href=\"#m071fe2ce43\" y=\"254.832593\"/>\n     <use style=\"fill:#1f77b4;fill-opacity:0.2;stroke:#ffffff;stroke-opacity:0.2;stroke-width:0.48;\" x=\"144.473222\" xlink:href=\"#m071fe2ce43\" y=\"173.844933\"/>\n     <use style=\"fill:#1f77b4;fill-opacity:0.2;stroke:#ffffff;stroke-opacity:0.2;stroke-width:0.48;\" x=\"228.841918\" xlink:href=\"#m071fe2ce43\" y=\"145.306043\"/>\n     <use style=\"fill:#1f77b4;fill-opacity:0.2;stroke:#ffffff;stroke-opacity:0.2;stroke-width:0.48;\" x=\"65.995648\" xlink:href=\"#m071fe2ce43\" y=\"319.531843\"/>\n     <use style=\"fill:#1f77b4;fill-opacity:0.2;stroke:#ffffff;stroke-opacity:0.2;stroke-width:0.48;\" x=\"65.995648\" xlink:href=\"#m071fe2ce43\" y=\"304.491318\"/>\n     <use style=\"fill:#1f77b4;fill-opacity:0.2;stroke:#ffffff;stroke-opacity:0.2;stroke-width:0.48;\" x=\"228.841918\" xlink:href=\"#m071fe2ce43\" y=\"191.179568\"/>\n     <use style=\"fill:#1f77b4;fill-opacity:0.2;stroke:#ffffff;stroke-opacity:0.2;stroke-width:0.48;\" x=\"201.901232\" xlink:href=\"#m071fe2ce43\" y=\"254.649296\"/>\n     <use style=\"fill:#1f77b4;fill-opacity:0.2;stroke:#ffffff;stroke-opacity:0.2;stroke-width:0.48;\" x=\"337.112085\" xlink:href=\"#m071fe2ce43\" y=\"78.860327\"/>\n     <use style=\"fill:#1f77b4;fill-opacity:0.2;stroke:#ffffff;stroke-opacity:0.2;stroke-width:0.48;\" x=\"338.25731\" xlink:href=\"#m071fe2ce43\" y=\"122.363632\"/>\n     <use style=\"fill:#1f77b4;fill-opacity:0.2;stroke:#ffffff;stroke-opacity:0.2;stroke-width:0.48;\" x=\"219.2229\" xlink:href=\"#m071fe2ce43\" y=\"254.904532\"/>\n     <use style=\"fill:#1f77b4;fill-opacity:0.2;stroke:#ffffff;stroke-opacity:0.2;stroke-width:0.48;\" x=\"158.031682\" xlink:href=\"#m071fe2ce43\" y=\"233.519289\"/>\n     <use style=\"fill:#1f77b4;fill-opacity:0.2;stroke:#ffffff;stroke-opacity:0.2;stroke-width:0.48;\" x=\"104.028452\" xlink:href=\"#m071fe2ce43\" y=\"274.627499\"/>\n     <use style=\"fill:#1f77b4;fill-opacity:0.2;stroke:#ffffff;stroke-opacity:0.2;stroke-width:0.48;\" x=\"219.2229\" xlink:href=\"#m071fe2ce43\" y=\"219.030447\"/>\n     <use style=\"fill:#1f77b4;fill-opacity:0.2;stroke:#ffffff;stroke-opacity:0.2;stroke-width:0.48;\" x=\"277.202116\" xlink:href=\"#m071fe2ce43\" y=\"138.055461\"/>\n     <use style=\"fill:#1f77b4;fill-opacity:0.2;stroke:#ffffff;stroke-opacity:0.2;stroke-width:0.48;\" x=\"281.858074\" xlink:href=\"#m071fe2ce43\" y=\"71.800856\"/>\n     <use style=\"fill:#1f77b4;fill-opacity:0.2;stroke:#ffffff;stroke-opacity:0.2;stroke-width:0.48;\" x=\"329.894611\" xlink:href=\"#m071fe2ce43\" y=\"54.440108\"/>\n     <use style=\"fill:#1f77b4;fill-opacity:0.2;stroke:#ffffff;stroke-opacity:0.2;stroke-width:0.48;\" x=\"261.307895\" xlink:href=\"#m071fe2ce43\" y=\"103.823053\"/>\n     <use style=\"fill:#1f77b4;fill-opacity:0.2;stroke:#ffffff;stroke-opacity:0.2;stroke-width:0.48;\" x=\"65.995648\" xlink:href=\"#m071fe2ce43\" y=\"226.032754\"/>\n     <use style=\"fill:#1f77b4;fill-opacity:0.2;stroke:#ffffff;stroke-opacity:0.2;stroke-width:0.48;\" x=\"296.296893\" xlink:href=\"#m071fe2ce43\" y=\"146.049187\"/>\n     <use style=\"fill:#1f77b4;fill-opacity:0.2;stroke:#ffffff;stroke-opacity:0.2;stroke-width:0.48;\" x=\"233.220213\" xlink:href=\"#m071fe2ce43\" y=\"151.915967\"/>\n     <use style=\"fill:#1f77b4;fill-opacity:0.2;stroke:#ffffff;stroke-opacity:0.2;stroke-width:0.48;\" x=\"65.995648\" xlink:href=\"#m071fe2ce43\" y=\"271.124344\"/>\n     <use style=\"fill:#1f77b4;fill-opacity:0.2;stroke:#ffffff;stroke-opacity:0.2;stroke-width:0.48;\" x=\"308.541127\" xlink:href=\"#m071fe2ce43\" y=\"147.595915\"/>\n     <use style=\"fill:#1f77b4;fill-opacity:0.2;stroke:#ffffff;stroke-opacity:0.2;stroke-width:0.48;\" x=\"237.355883\" xlink:href=\"#m071fe2ce43\" y=\"210.046353\"/>\n     <use style=\"fill:#1f77b4;fill-opacity:0.2;stroke:#ffffff;stroke-opacity:0.2;stroke-width:0.48;\" x=\"241.27552\" xlink:href=\"#m071fe2ce43\" y=\"261.840335\"/>\n     <use style=\"fill:#1f77b4;fill-opacity:0.2;stroke:#ffffff;stroke-opacity:0.2;stroke-width:0.48;\" x=\"187.482922\" xlink:href=\"#m071fe2ce43\" y=\"225.92246\"/>\n     <use style=\"fill:#1f77b4;fill-opacity:0.2;stroke:#ffffff;stroke-opacity:0.2;stroke-width:0.48;\" x=\"248.552904\" xlink:href=\"#m071fe2ce43\" y=\"273.907646\"/>\n     <use style=\"fill:#1f77b4;fill-opacity:0.2;stroke:#ffffff;stroke-opacity:0.2;stroke-width:0.48;\" x=\"292.429779\" xlink:href=\"#m071fe2ce43\" y=\"111.68538\"/>\n     <use style=\"fill:#1f77b4;fill-opacity:0.2;stroke:#ffffff;stroke-opacity:0.2;stroke-width:0.48;\" x=\"104.028452\" xlink:href=\"#m071fe2ce43\" y=\"251.097472\"/>\n     <use style=\"fill:#1f77b4;fill-opacity:0.2;stroke:#ffffff;stroke-opacity:0.2;stroke-width:0.48;\" x=\"158.031682\" xlink:href=\"#m071fe2ce43\" y=\"204.581748\"/>\n     <use style=\"fill:#1f77b4;fill-opacity:0.2;stroke:#ffffff;stroke-opacity:0.2;stroke-width:0.48;\" x=\"127.384739\" xlink:href=\"#m071fe2ce43\" y=\"185.369923\"/>\n     <use style=\"fill:#1f77b4;fill-opacity:0.2;stroke:#ffffff;stroke-opacity:0.2;stroke-width:0.48;\" x=\"286.256021\" xlink:href=\"#m071fe2ce43\" y=\"184.512794\"/>\n     <use style=\"fill:#1f77b4;fill-opacity:0.2;stroke:#ffffff;stroke-opacity:0.2;stroke-width:0.48;\" x=\"335.951175\" xlink:href=\"#m071fe2ce43\" y=\"133.871481\"/>\n     <use style=\"fill:#1f77b4;fill-opacity:0.2;stroke:#ffffff;stroke-opacity:0.2;stroke-width:0.48;\" x=\"65.995648\" xlink:href=\"#m071fe2ce43\" y=\"230.064493\"/>\n     <use style=\"fill:#1f77b4;fill-opacity:0.2;stroke:#ffffff;stroke-opacity:0.2;stroke-width:0.48;\" x=\"104.028452\" xlink:href=\"#m071fe2ce43\" y=\"193.270184\"/>\n     <use style=\"fill:#1f77b4;fill-opacity:0.2;stroke:#ffffff;stroke-opacity:0.2;stroke-width:0.48;\" x=\"178.990369\" xlink:href=\"#m071fe2ce43\" y=\"201.861362\"/>\n     <use style=\"fill:#1f77b4;fill-opacity:0.2;stroke:#ffffff;stroke-opacity:0.2;stroke-width:0.48;\" x=\"299.987334\" xlink:href=\"#m071fe2ce43\" y=\"78.217301\"/>\n     <use style=\"fill:#1f77b4;fill-opacity:0.2;stroke:#ffffff;stroke-opacity:0.2;stroke-width:0.48;\" x=\"65.995648\" xlink:href=\"#m071fe2ce43\" y=\"302.163844\"/>\n     <use style=\"fill:#1f77b4;fill-opacity:0.2;stroke:#ffffff;stroke-opacity:0.2;stroke-width:0.48;\" x=\"245.001515\" xlink:href=\"#m071fe2ce43\" y=\"126.394833\"/>\n     <use style=\"fill:#1f77b4;fill-opacity:0.2;stroke:#ffffff;stroke-opacity:0.2;stroke-width:0.48;\" x=\"127.384739\" xlink:href=\"#m071fe2ce43\" y=\"288.245779\"/>\n     <use style=\"fill:#1f77b4;fill-opacity:0.2;stroke:#ffffff;stroke-opacity:0.2;stroke-width:0.48;\" x=\"65.995648\" xlink:href=\"#m071fe2ce43\" y=\"285.411108\"/>\n     <use style=\"fill:#1f77b4;fill-opacity:0.2;stroke:#ffffff;stroke-opacity:0.2;stroke-width:0.48;\" x=\"127.384739\" xlink:href=\"#m071fe2ce43\" y=\"193.020573\"/>\n     <use style=\"fill:#1f77b4;fill-opacity:0.2;stroke:#ffffff;stroke-opacity:0.2;stroke-width:0.48;\" x=\"303.517225\" xlink:href=\"#m071fe2ce43\" y=\"130.809437\"/>\n     <use style=\"fill:#1f77b4;fill-opacity:0.2;stroke:#ffffff;stroke-opacity:0.2;stroke-width:0.48;\" x=\"65.995648\" xlink:href=\"#m071fe2ce43\" y=\"281.709493\"/>\n     <use style=\"fill:#1f77b4;fill-opacity:0.2;stroke:#ffffff;stroke-opacity:0.2;stroke-width:0.48;\" x=\"65.995648\" xlink:href=\"#m071fe2ce43\" y=\"299.005963\"/>\n     <use style=\"fill:#1f77b4;fill-opacity:0.2;stroke:#ffffff;stroke-opacity:0.2;stroke-width:0.48;\" x=\"65.995648\" xlink:href=\"#m071fe2ce43\" y=\"246.449509\"/>\n     <use style=\"fill:#1f77b4;fill-opacity:0.2;stroke:#ffffff;stroke-opacity:0.2;stroke-width:0.48;\" x=\"65.995648\" xlink:href=\"#m071fe2ce43\" y=\"250.211395\"/>\n     <use style=\"fill:#1f77b4;fill-opacity:0.2;stroke:#ffffff;stroke-opacity:0.2;stroke-width:0.48;\" x=\"104.028452\" xlink:href=\"#m071fe2ce43\" y=\"243.736553\"/>\n     <use style=\"fill:#1f77b4;fill-opacity:0.2;stroke:#ffffff;stroke-opacity:0.2;stroke-width:0.48;\" x=\"65.995648\" xlink:href=\"#m071fe2ce43\" y=\"184.238767\"/>\n     <use style=\"fill:#1f77b4;fill-opacity:0.2;stroke:#ffffff;stroke-opacity:0.2;stroke-width:0.48;\" x=\"169.31072\" xlink:href=\"#m071fe2ce43\" y=\"233.786269\"/>\n     <use style=\"fill:#1f77b4;fill-opacity:0.2;stroke:#ffffff;stroke-opacity:0.2;stroke-width:0.48;\" x=\"296.296893\" xlink:href=\"#m071fe2ce43\" y=\"118.407926\"/>\n     <use style=\"fill:#1f77b4;fill-opacity:0.2;stroke:#ffffff;stroke-opacity:0.2;stroke-width:0.48;\" x=\"228.841918\" xlink:href=\"#m071fe2ce43\" y=\"193.020573\"/>\n     <use style=\"fill:#1f77b4;fill-opacity:0.2;stroke:#ffffff;stroke-opacity:0.2;stroke-width:0.48;\" x=\"299.987334\" xlink:href=\"#m071fe2ce43\" y=\"198.997718\"/>\n     <use style=\"fill:#1f77b4;fill-opacity:0.2;stroke:#ffffff;stroke-opacity:0.2;stroke-width:0.48;\" x=\"228.841918\" xlink:href=\"#m071fe2ce43\" y=\"214.248431\"/>\n     <use style=\"fill:#1f77b4;fill-opacity:0.2;stroke:#ffffff;stroke-opacity:0.2;stroke-width:0.48;\" x=\"127.384739\" xlink:href=\"#m071fe2ce43\" y=\"290.262423\"/>\n     <use style=\"fill:#1f77b4;fill-opacity:0.2;stroke:#ffffff;stroke-opacity:0.2;stroke-width:0.48;\" x=\"104.028452\" xlink:href=\"#m071fe2ce43\" y=\"298.433713\"/>\n     <use style=\"fill:#1f77b4;fill-opacity:0.2;stroke:#ffffff;stroke-opacity:0.2;stroke-width:0.48;\" x=\"228.841918\" xlink:href=\"#m071fe2ce43\" y=\"158.451051\"/>\n     <use style=\"fill:#1f77b4;fill-opacity:0.2;stroke:#ffffff;stroke-opacity:0.2;stroke-width:0.48;\" x=\"332.369665\" xlink:href=\"#m071fe2ce43\" y=\"105.500863\"/>\n     <use style=\"fill:#1f77b4;fill-opacity:0.2;stroke:#ffffff;stroke-opacity:0.2;stroke-width:0.48;\" x=\"286.256021\" xlink:href=\"#m071fe2ce43\" y=\"114.825793\"/>\n     <use style=\"fill:#1f77b4;fill-opacity:0.2;stroke:#ffffff;stroke-opacity:0.2;stroke-width:0.48;\" x=\"201.901232\" xlink:href=\"#m071fe2ce43\" y=\"229.407577\"/>\n     <use style=\"fill:#1f77b4;fill-opacity:0.2;stroke:#ffffff;stroke-opacity:0.2;stroke-width:0.48;\" x=\"169.31072\" xlink:href=\"#m071fe2ce43\" y=\"244.357536\"/>\n     <use style=\"fill:#1f77b4;fill-opacity:0.2;stroke:#ffffff;stroke-opacity:0.2;stroke-width:0.48;\" x=\"144.473222\" xlink:href=\"#m071fe2ce43\" y=\"154.329993\"/>\n     <use style=\"fill:#1f77b4;fill-opacity:0.2;stroke:#ffffff;stroke-opacity:0.2;stroke-width:0.48;\" x=\"104.028452\" xlink:href=\"#m071fe2ce43\" y=\"247.420064\"/>\n     <use style=\"fill:#1f77b4;fill-opacity:0.2;stroke:#ffffff;stroke-opacity:0.2;stroke-width:0.48;\" x=\"340.502443\" xlink:href=\"#m071fe2ce43\" y=\"189.510654\"/>\n     <use style=\"fill:#1f77b4;fill-opacity:0.2;stroke:#ffffff;stroke-opacity:0.2;stroke-width:0.48;\" x=\"245.001515\" xlink:href=\"#m071fe2ce43\" y=\"124.54111\"/>\n     <use style=\"fill:#1f77b4;fill-opacity:0.2;stroke:#ffffff;stroke-opacity:0.2;stroke-width:0.48;\" x=\"338.25731\" xlink:href=\"#m071fe2ce43\" y=\"108.40497\"/>\n     <use style=\"fill:#1f77b4;fill-opacity:0.2;stroke:#ffffff;stroke-opacity:0.2;stroke-width:0.48;\" x=\"303.517225\" xlink:href=\"#m071fe2ce43\" y=\"163.939637\"/>\n     <use style=\"fill:#1f77b4;fill-opacity:0.2;stroke:#ffffff;stroke-opacity:0.2;stroke-width:0.48;\" x=\"65.995648\" xlink:href=\"#m071fe2ce43\" y=\"285.071125\"/>\n     <use style=\"fill:#1f77b4;fill-opacity:0.2;stroke:#ffffff;stroke-opacity:0.2;stroke-width:0.48;\" x=\"65.995648\" xlink:href=\"#m071fe2ce43\" y=\"275.09623\"/>\n     <use style=\"fill:#1f77b4;fill-opacity:0.2;stroke:#ffffff;stroke-opacity:0.2;stroke-width:0.48;\" x=\"219.2229\" xlink:href=\"#m071fe2ce43\" y=\"140.195464\"/>\n     <use style=\"fill:#1f77b4;fill-opacity:0.2;stroke:#ffffff;stroke-opacity:0.2;stroke-width:0.48;\" x=\"224.189079\" xlink:href=\"#m071fe2ce43\" y=\"123.652878\"/>\n     <use style=\"fill:#1f77b4;fill-opacity:0.2;stroke:#ffffff;stroke-opacity:0.2;stroke-width:0.48;\" x=\"127.384739\" xlink:href=\"#m071fe2ce43\" y=\"211.504898\"/>\n     <use style=\"fill:#1f77b4;fill-opacity:0.2;stroke:#ffffff;stroke-opacity:0.2;stroke-width:0.48;\" x=\"201.901232\" xlink:href=\"#m071fe2ce43\" y=\"239.337988\"/>\n     <use style=\"fill:#1f77b4;fill-opacity:0.2;stroke:#ffffff;stroke-opacity:0.2;stroke-width:0.48;\" x=\"65.995648\" xlink:href=\"#m071fe2ce43\" y=\"226.032754\"/>\n     <use style=\"fill:#1f77b4;fill-opacity:0.2;stroke:#ffffff;stroke-opacity:0.2;stroke-width:0.48;\" x=\"292.429779\" xlink:href=\"#m071fe2ce43\" y=\"174.84122\"/>\n     <use style=\"fill:#1f77b4;fill-opacity:0.2;stroke:#ffffff;stroke-opacity:0.2;stroke-width:0.48;\" x=\"127.384739\" xlink:href=\"#m071fe2ce43\" y=\"212.648762\"/>\n     <use style=\"fill:#1f77b4;fill-opacity:0.2;stroke:#ffffff;stroke-opacity:0.2;stroke-width:0.48;\" x=\"127.384739\" xlink:href=\"#m071fe2ce43\" y=\"295.431209\"/>\n     <use style=\"fill:#1f77b4;fill-opacity:0.2;stroke:#ffffff;stroke-opacity:0.2;stroke-width:0.48;\" x=\"213.895565\" xlink:href=\"#m071fe2ce43\" y=\"247.816409\"/>\n     <use style=\"fill:#1f77b4;fill-opacity:0.2;stroke:#ffffff;stroke-opacity:0.2;stroke-width:0.48;\" x=\"65.995648\" xlink:href=\"#m071fe2ce43\" y=\"265.405014\"/>\n     <use style=\"fill:#1f77b4;fill-opacity:0.2;stroke:#ffffff;stroke-opacity:0.2;stroke-width:0.48;\" x=\"296.296893\" xlink:href=\"#m071fe2ce43\" y=\"108.40497\"/>\n     <use style=\"fill:#1f77b4;fill-opacity:0.2;stroke:#ffffff;stroke-opacity:0.2;stroke-width:0.48;\" x=\"208.147173\" xlink:href=\"#m071fe2ce43\" y=\"122.932986\"/>\n     <use style=\"fill:#1f77b4;fill-opacity:0.2;stroke:#ffffff;stroke-opacity:0.2;stroke-width:0.48;\" x=\"326.039719\" xlink:href=\"#m071fe2ce43\" y=\"145.693255\"/>\n     <use style=\"fill:#1f77b4;fill-opacity:0.2;stroke:#ffffff;stroke-opacity:0.2;stroke-width:0.48;\" x=\"144.473222\" xlink:href=\"#m071fe2ce43\" y=\"204.091032\"/>\n     <use style=\"fill:#1f77b4;fill-opacity:0.2;stroke:#ffffff;stroke-opacity:0.2;stroke-width:0.48;\" x=\"255.19495\" xlink:href=\"#m071fe2ce43\" y=\"139.615268\"/>\n     <use style=\"fill:#1f77b4;fill-opacity:0.2;stroke:#ffffff;stroke-opacity:0.2;stroke-width:0.48;\" x=\"201.901232\" xlink:href=\"#m071fe2ce43\" y=\"139.280661\"/>\n     <use style=\"fill:#1f77b4;fill-opacity:0.2;stroke:#ffffff;stroke-opacity:0.2;stroke-width:0.48;\" x=\"338.25731\" xlink:href=\"#m071fe2ce43\" y=\"68.097211\"/>\n     <use style=\"fill:#1f77b4;fill-opacity:0.2;stroke:#ffffff;stroke-opacity:0.2;stroke-width:0.48;\" x=\"284.087414\" xlink:href=\"#m071fe2ce43\" y=\"106.200223\"/>\n     <use style=\"fill:#1f77b4;fill-opacity:0.2;stroke:#ffffff;stroke-opacity:0.2;stroke-width:0.48;\" x=\"65.995648\" xlink:href=\"#m071fe2ce43\" y=\"275.09623\"/>\n     <use style=\"fill:#1f77b4;fill-opacity:0.2;stroke:#ffffff;stroke-opacity:0.2;stroke-width:0.48;\" x=\"233.220213\" xlink:href=\"#m071fe2ce43\" y=\"124.340189\"/>\n     <use style=\"fill:#1f77b4;fill-opacity:0.2;stroke:#ffffff;stroke-opacity:0.2;stroke-width:0.48;\" x=\"241.27552\" xlink:href=\"#m071fe2ce43\" y=\"136.352799\"/>\n     <use style=\"fill:#1f77b4;fill-opacity:0.2;stroke:#ffffff;stroke-opacity:0.2;stroke-width:0.48;\" x=\"65.995648\" xlink:href=\"#m071fe2ce43\" y=\"316.21978\"/>\n     <use style=\"fill:#1f77b4;fill-opacity:0.2;stroke:#ffffff;stroke-opacity:0.2;stroke-width:0.48;\" x=\"264.192127\" xlink:href=\"#m071fe2ce43\" y=\"208.110303\"/>\n     <use style=\"fill:#1f77b4;fill-opacity:0.2;stroke:#ffffff;stroke-opacity:0.2;stroke-width:0.48;\" x=\"104.028452\" xlink:href=\"#m071fe2ce43\" y=\"291.758341\"/>\n     <use style=\"fill:#1f77b4;fill-opacity:0.2;stroke:#ffffff;stroke-opacity:0.2;stroke-width:0.48;\" x=\"65.995648\" xlink:href=\"#m071fe2ce43\" y=\"214.670414\"/>\n     <use style=\"fill:#1f77b4;fill-opacity:0.2;stroke:#ffffff;stroke-opacity:0.2;stroke-width:0.48;\" x=\"208.147173\" xlink:href=\"#m071fe2ce43\" y=\"235.70834\"/>\n     <use style=\"fill:#1f77b4;fill-opacity:0.2;stroke:#ffffff;stroke-opacity:0.2;stroke-width:0.48;\" x=\"178.990369\" xlink:href=\"#m071fe2ce43\" y=\"268.974412\"/>\n     <use style=\"fill:#1f77b4;fill-opacity:0.2;stroke:#ffffff;stroke-opacity:0.2;stroke-width:0.48;\" x=\"127.384739\" xlink:href=\"#m071fe2ce43\" y=\"184.585726\"/>\n     <use style=\"fill:#1f77b4;fill-opacity:0.2;stroke:#ffffff;stroke-opacity:0.2;stroke-width:0.48;\" x=\"144.473222\" xlink:href=\"#m071fe2ce43\" y=\"134.889867\"/>\n     <use style=\"fill:#1f77b4;fill-opacity:0.2;stroke:#ffffff;stroke-opacity:0.2;stroke-width:0.48;\" x=\"219.2229\" xlink:href=\"#m071fe2ce43\" y=\"232.415132\"/>\n     <use style=\"fill:#1f77b4;fill-opacity:0.2;stroke:#ffffff;stroke-opacity:0.2;stroke-width:0.48;\" x=\"224.189079\" xlink:href=\"#m071fe2ce43\" y=\"198.151704\"/>\n     <use style=\"fill:#1f77b4;fill-opacity:0.2;stroke:#ffffff;stroke-opacity:0.2;stroke-width:0.48;\" x=\"305.226407\" xlink:href=\"#m071fe2ce43\" y=\"147.553706\"/>\n     <use style=\"fill:#1f77b4;fill-opacity:0.2;stroke:#ffffff;stroke-opacity:0.2;stroke-width:0.48;\" x=\"65.995648\" xlink:href=\"#m071fe2ce43\" y=\"266.397023\"/>\n     <use style=\"fill:#1f77b4;fill-opacity:0.2;stroke:#ffffff;stroke-opacity:0.2;stroke-width:0.48;\" x=\"104.028452\" xlink:href=\"#m071fe2ce43\" y=\"281.954841\"/>\n     <use style=\"fill:#1f77b4;fill-opacity:0.2;stroke:#ffffff;stroke-opacity:0.2;stroke-width:0.48;\" x=\"65.995648\" xlink:href=\"#m071fe2ce43\" y=\"241.615775\"/>\n     <use style=\"fill:#1f77b4;fill-opacity:0.2;stroke:#ffffff;stroke-opacity:0.2;stroke-width:0.48;\" x=\"334.774124\" xlink:href=\"#m071fe2ce43\" y=\"181.582503\"/>\n     <use style=\"fill:#1f77b4;fill-opacity:0.2;stroke:#ffffff;stroke-opacity:0.2;stroke-width:0.48;\" x=\"65.995648\" xlink:href=\"#m071fe2ce43\" y=\"247.816409\"/>\n     <use style=\"fill:#1f77b4;fill-opacity:0.2;stroke:#ffffff;stroke-opacity:0.2;stroke-width:0.48;\" x=\"269.658213\" xlink:href=\"#m071fe2ce43\" y=\"85.144239\"/>\n     <use style=\"fill:#1f77b4;fill-opacity:0.2;stroke:#ffffff;stroke-opacity:0.2;stroke-width:0.48;\" x=\"258.311993\" xlink:href=\"#m071fe2ce43\" y=\"194.630255\"/>\n     <use style=\"fill:#1f77b4;fill-opacity:0.2;stroke:#ffffff;stroke-opacity:0.2;stroke-width:0.48;\" x=\"228.841918\" xlink:href=\"#m071fe2ce43\" y=\"176.87319\"/>\n     <use style=\"fill:#1f77b4;fill-opacity:0.2;stroke:#ffffff;stroke-opacity:0.2;stroke-width:0.48;\" x=\"264.192127\" xlink:href=\"#m071fe2ce43\" y=\"106.862505\"/>\n     <use style=\"fill:#1f77b4;fill-opacity:0.2;stroke:#ffffff;stroke-opacity:0.2;stroke-width:0.48;\" x=\"104.028452\" xlink:href=\"#m071fe2ce43\" y=\"290.281157\"/>\n     <use style=\"fill:#1f77b4;fill-opacity:0.2;stroke:#ffffff;stroke-opacity:0.2;stroke-width:0.48;\" x=\"335.951175\" xlink:href=\"#m071fe2ce43\" y=\"71.661306\"/>\n     <use style=\"fill:#1f77b4;fill-opacity:0.2;stroke:#ffffff;stroke-opacity:0.2;stroke-width:0.48;\" x=\"319.191466\" xlink:href=\"#m071fe2ce43\" y=\"168.020284\"/>\n     <use style=\"fill:#1f77b4;fill-opacity:0.2;stroke:#ffffff;stroke-opacity:0.2;stroke-width:0.48;\" x=\"195.057843\" xlink:href=\"#m071fe2ce43\" y=\"217.220458\"/>\n     <use style=\"fill:#1f77b4;fill-opacity:0.2;stroke:#ffffff;stroke-opacity:0.2;stroke-width:0.48;\" x=\"290.424234\" xlink:href=\"#m071fe2ce43\" y=\"127.894165\"/>\n     <use style=\"fill:#1f77b4;fill-opacity:0.2;stroke:#ffffff;stroke-opacity:0.2;stroke-width:0.48;\" x=\"339.38729\" xlink:href=\"#m071fe2ce43\" y=\"80.029641\"/>\n     <use style=\"fill:#1f77b4;fill-opacity:0.2;stroke:#ffffff;stroke-opacity:0.2;stroke-width:0.48;\" x=\"127.384739\" xlink:href=\"#m071fe2ce43\" y=\"227.396624\"/>\n     <use style=\"fill:#1f77b4;fill-opacity:0.2;stroke:#ffffff;stroke-opacity:0.2;stroke-width:0.48;\" x=\"310.149519\" xlink:href=\"#m071fe2ce43\" y=\"182.019743\"/>\n     <use style=\"fill:#1f77b4;fill-opacity:0.2;stroke:#ffffff;stroke-opacity:0.2;stroke-width:0.48;\" x=\"219.2229\" xlink:href=\"#m071fe2ce43\" y=\"178.373833\"/>\n     <use style=\"fill:#1f77b4;fill-opacity:0.2;stroke:#ffffff;stroke-opacity:0.2;stroke-width:0.48;\" x=\"195.057843\" xlink:href=\"#m071fe2ce43\" y=\"193.270184\"/>\n     <use style=\"fill:#1f77b4;fill-opacity:0.2;stroke:#ffffff;stroke-opacity:0.2;stroke-width:0.48;\" x=\"65.995648\" xlink:href=\"#m071fe2ce43\" y=\"245.707374\"/>\n     <use style=\"fill:#1f77b4;fill-opacity:0.2;stroke:#ffffff;stroke-opacity:0.2;stroke-width:0.48;\" x=\"144.473222\" xlink:href=\"#m071fe2ce43\" y=\"216.766778\"/>\n     <use style=\"fill:#1f77b4;fill-opacity:0.2;stroke:#ffffff;stroke-opacity:0.2;stroke-width:0.48;\" x=\"245.001515\" xlink:href=\"#m071fe2ce43\" y=\"100.319414\"/>\n     <use style=\"fill:#1f77b4;fill-opacity:0.2;stroke:#ffffff;stroke-opacity:0.2;stroke-width:0.48;\" x=\"158.031682\" xlink:href=\"#m071fe2ce43\" y=\"177.460364\"/>\n     <use style=\"fill:#1f77b4;fill-opacity:0.2;stroke:#ffffff;stroke-opacity:0.2;stroke-width:0.48;\" x=\"264.192127\" xlink:href=\"#m071fe2ce43\" y=\"167.102395\"/>\n     <use style=\"fill:#1f77b4;fill-opacity:0.2;stroke:#ffffff;stroke-opacity:0.2;stroke-width:0.48;\" x=\"261.307895\" xlink:href=\"#m071fe2ce43\" y=\"98.723716\"/>\n     <use style=\"fill:#1f77b4;fill-opacity:0.2;stroke:#ffffff;stroke-opacity:0.2;stroke-width:0.48;\" x=\"65.995648\" xlink:href=\"#m071fe2ce43\" y=\"261.840335\"/>\n     <use style=\"fill:#1f77b4;fill-opacity:0.2;stroke:#ffffff;stroke-opacity:0.2;stroke-width:0.48;\" x=\"251.946013\" xlink:href=\"#m071fe2ce43\" y=\"182.019743\"/>\n     <use style=\"fill:#1f77b4;fill-opacity:0.2;stroke:#ffffff;stroke-opacity:0.2;stroke-width:0.48;\" x=\"340.502443\" xlink:href=\"#m071fe2ce43\" y=\"133.628112\"/>\n     <use style=\"fill:#1f77b4;fill-opacity:0.2;stroke:#ffffff;stroke-opacity:0.2;stroke-width:0.48;\" x=\"65.995648\" xlink:href=\"#m071fe2ce43\" y=\"253.253918\"/>\n     <use style=\"fill:#1f77b4;fill-opacity:0.2;stroke:#ffffff;stroke-opacity:0.2;stroke-width:0.48;\" x=\"292.429779\" xlink:href=\"#m071fe2ce43\" y=\"165.928499\"/>\n     <use style=\"fill:#1f77b4;fill-opacity:0.2;stroke:#ffffff;stroke-opacity:0.2;stroke-width:0.48;\" x=\"104.028452\" xlink:href=\"#m071fe2ce43\" y=\"223.800897\"/>\n     <use style=\"fill:#1f77b4;fill-opacity:0.2;stroke:#ffffff;stroke-opacity:0.2;stroke-width:0.48;\" x=\"65.995648\" xlink:href=\"#m071fe2ce43\" y=\"270.413502\"/>\n     <use style=\"fill:#1f77b4;fill-opacity:0.2;stroke:#ffffff;stroke-opacity:0.2;stroke-width:0.48;\" x=\"65.995648\" xlink:href=\"#m071fe2ce43\" y=\"213.893606\"/>\n     <use style=\"fill:#1f77b4;fill-opacity:0.2;stroke:#ffffff;stroke-opacity:0.2;stroke-width:0.48;\" x=\"144.473222\" xlink:href=\"#m071fe2ce43\" y=\"225.999127\"/>\n     <use style=\"fill:#1f77b4;fill-opacity:0.2;stroke:#ffffff;stroke-opacity:0.2;stroke-width:0.48;\" x=\"213.895565\" xlink:href=\"#m071fe2ce43\" y=\"202.230115\"/>\n     <use style=\"fill:#1f77b4;fill-opacity:0.2;stroke:#ffffff;stroke-opacity:0.2;stroke-width:0.48;\" x=\"213.895565\" xlink:href=\"#m071fe2ce43\" y=\"179.139997\"/>\n     <use style=\"fill:#1f77b4;fill-opacity:0.2;stroke:#ffffff;stroke-opacity:0.2;stroke-width:0.48;\" x=\"104.028452\" xlink:href=\"#m071fe2ce43\" y=\"187.369714\"/>\n     <use style=\"fill:#1f77b4;fill-opacity:0.2;stroke:#ffffff;stroke-opacity:0.2;stroke-width:0.48;\" x=\"331.141233\" xlink:href=\"#m071fe2ce43\" y=\"88.893895\"/>\n     <use style=\"fill:#1f77b4;fill-opacity:0.2;stroke:#ffffff;stroke-opacity:0.2;stroke-width:0.48;\" x=\"65.995648\" xlink:href=\"#m071fe2ce43\" y=\"280.264385\"/>\n     <use style=\"fill:#1f77b4;fill-opacity:0.2;stroke:#ffffff;stroke-opacity:0.2;stroke-width:0.48;\" x=\"224.189079\" xlink:href=\"#m071fe2ce43\" y=\"140.215295\"/>\n     <use style=\"fill:#1f77b4;fill-opacity:0.2;stroke:#ffffff;stroke-opacity:0.2;stroke-width:0.48;\" x=\"279.564319\" xlink:href=\"#m071fe2ce43\" y=\"154.735614\"/>\n     <use style=\"fill:#1f77b4;fill-opacity:0.2;stroke:#ffffff;stroke-opacity:0.2;stroke-width:0.48;\" x=\"340.502443\" xlink:href=\"#m071fe2ce43\" y=\"123.317968\"/>\n     <use style=\"fill:#1f77b4;fill-opacity:0.2;stroke:#ffffff;stroke-opacity:0.2;stroke-width:0.48;\" x=\"65.995648\" xlink:href=\"#m071fe2ce43\" y=\"259.444484\"/>\n     <use style=\"fill:#1f77b4;fill-opacity:0.2;stroke:#ffffff;stroke-opacity:0.2;stroke-width:0.48;\" x=\"144.473222\" xlink:href=\"#m071fe2ce43\" y=\"165.259023\"/>\n     <use style=\"fill:#1f77b4;fill-opacity:0.2;stroke:#ffffff;stroke-opacity:0.2;stroke-width:0.48;\" x=\"65.995648\" xlink:href=\"#m071fe2ce43\" y=\"266.418025\"/>\n     <use style=\"fill:#1f77b4;fill-opacity:0.2;stroke:#ffffff;stroke-opacity:0.2;stroke-width:0.48;\" x=\"65.995648\" xlink:href=\"#m071fe2ce43\" y=\"302.163844\"/>\n     <use style=\"fill:#1f77b4;fill-opacity:0.2;stroke:#ffffff;stroke-opacity:0.2;stroke-width:0.48;\" x=\"339.38729\" xlink:href=\"#m071fe2ce43\" y=\"66.023509\"/>\n     <use style=\"fill:#1f77b4;fill-opacity:0.2;stroke:#ffffff;stroke-opacity:0.2;stroke-width:0.48;\" x=\"65.995648\" xlink:href=\"#m071fe2ce43\" y=\"235.765602\"/>\n     <use style=\"fill:#1f77b4;fill-opacity:0.2;stroke:#ffffff;stroke-opacity:0.2;stroke-width:0.48;\" x=\"228.841918\" xlink:href=\"#m071fe2ce43\" y=\"146.315558\"/>\n     <use style=\"fill:#1f77b4;fill-opacity:0.2;stroke:#ffffff;stroke-opacity:0.2;stroke-width:0.48;\" x=\"301.771429\" xlink:href=\"#m071fe2ce43\" y=\"228.490009\"/>\n     <use style=\"fill:#1f77b4;fill-opacity:0.2;stroke:#ffffff;stroke-opacity:0.2;stroke-width:0.48;\" x=\"144.473222\" xlink:href=\"#m071fe2ce43\" y=\"155.474358\"/>\n     <use style=\"fill:#1f77b4;fill-opacity:0.2;stroke:#ffffff;stroke-opacity:0.2;stroke-width:0.48;\" x=\"288.367263\" xlink:href=\"#m071fe2ce43\" y=\"145.940059\"/>\n     <use style=\"fill:#1f77b4;fill-opacity:0.2;stroke:#ffffff;stroke-opacity:0.2;stroke-width:0.48;\" x=\"65.995648\" xlink:href=\"#m071fe2ce43\" y=\"270.565504\"/>\n     <use style=\"fill:#1f77b4;fill-opacity:0.2;stroke:#ffffff;stroke-opacity:0.2;stroke-width:0.48;\" x=\"144.473222\" xlink:href=\"#m071fe2ce43\" y=\"239.919082\"/>\n     <use style=\"fill:#1f77b4;fill-opacity:0.2;stroke:#ffffff;stroke-opacity:0.2;stroke-width:0.48;\" x=\"303.517225\" xlink:href=\"#m071fe2ce43\" y=\"95.526324\"/>\n     <use style=\"fill:#1f77b4;fill-opacity:0.2;stroke:#ffffff;stroke-opacity:0.2;stroke-width:0.48;\" x=\"272.254203\" xlink:href=\"#m071fe2ce43\" y=\"165.447775\"/>\n     <use style=\"fill:#1f77b4;fill-opacity:0.2;stroke:#ffffff;stroke-opacity:0.2;stroke-width:0.48;\" x=\"303.517225\" xlink:href=\"#m071fe2ce43\" y=\"108.40497\"/>\n     <use style=\"fill:#1f77b4;fill-opacity:0.2;stroke:#ffffff;stroke-opacity:0.2;stroke-width:0.48;\" x=\"286.256021\" xlink:href=\"#m071fe2ce43\" y=\"219.245688\"/>\n     <use style=\"fill:#1f77b4;fill-opacity:0.2;stroke:#ffffff;stroke-opacity:0.2;stroke-width:0.48;\" x=\"187.482922\" xlink:href=\"#m071fe2ce43\" y=\"139.452716\"/>\n     <use style=\"fill:#1f77b4;fill-opacity:0.2;stroke:#ffffff;stroke-opacity:0.2;stroke-width:0.48;\" x=\"266.973078\" xlink:href=\"#m071fe2ce43\" y=\"133.42215\"/>\n     <use style=\"fill:#1f77b4;fill-opacity:0.2;stroke:#ffffff;stroke-opacity:0.2;stroke-width:0.48;\" x=\"321.998648\" xlink:href=\"#m071fe2ce43\" y=\"151.899718\"/>\n     <use style=\"fill:#1f77b4;fill-opacity:0.2;stroke:#ffffff;stroke-opacity:0.2;stroke-width:0.48;\" x=\"264.192127\" xlink:href=\"#m071fe2ce43\" y=\"179.488533\"/>\n     <use style=\"fill:#1f77b4;fill-opacity:0.2;stroke:#ffffff;stroke-opacity:0.2;stroke-width:0.48;\" x=\"187.482922\" xlink:href=\"#m071fe2ce43\" y=\"203.182526\"/>\n     <use style=\"fill:#1f77b4;fill-opacity:0.2;stroke:#ffffff;stroke-opacity:0.2;stroke-width:0.48;\" x=\"104.028452\" xlink:href=\"#m071fe2ce43\" y=\"272.371857\"/>\n     <use style=\"fill:#1f77b4;fill-opacity:0.2;stroke:#ffffff;stroke-opacity:0.2;stroke-width:0.48;\" x=\"255.19495\" xlink:href=\"#m071fe2ce43\" y=\"168.546911\"/>\n     <use style=\"fill:#1f77b4;fill-opacity:0.2;stroke:#ffffff;stroke-opacity:0.2;stroke-width:0.48;\" x=\"324.714302\" xlink:href=\"#m071fe2ce43\" y=\"170.723752\"/>\n     <use style=\"fill:#1f77b4;fill-opacity:0.2;stroke:#ffffff;stroke-opacity:0.2;stroke-width:0.48;\" x=\"288.367263\" xlink:href=\"#m071fe2ce43\" y=\"199.789752\"/>\n     <use style=\"fill:#1f77b4;fill-opacity:0.2;stroke:#ffffff;stroke-opacity:0.2;stroke-width:0.48;\" x=\"292.429779\" xlink:href=\"#m071fe2ce43\" y=\"73.437528\"/>\n     <use style=\"fill:#1f77b4;fill-opacity:0.2;stroke:#ffffff;stroke-opacity:0.2;stroke-width:0.48;\" x=\"213.895565\" xlink:href=\"#m071fe2ce43\" y=\"212.933173\"/>\n     <use style=\"fill:#1f77b4;fill-opacity:0.2;stroke:#ffffff;stroke-opacity:0.2;stroke-width:0.48;\" x=\"219.2229\" xlink:href=\"#m071fe2ce43\" y=\"163.939637\"/>\n     <use style=\"fill:#1f77b4;fill-opacity:0.2;stroke:#ffffff;stroke-opacity:0.2;stroke-width:0.48;\" x=\"264.192127\" xlink:href=\"#m071fe2ce43\" y=\"179.488533\"/>\n     <use style=\"fill:#1f77b4;fill-opacity:0.2;stroke:#ffffff;stroke-opacity:0.2;stroke-width:0.48;\" x=\"255.19495\" xlink:href=\"#m071fe2ce43\" y=\"222.265111\"/>\n     <use style=\"fill:#1f77b4;fill-opacity:0.2;stroke:#ffffff;stroke-opacity:0.2;stroke-width:0.48;\" x=\"261.307895\" xlink:href=\"#m071fe2ce43\" y=\"159.340116\"/>\n     <use style=\"fill:#1f77b4;fill-opacity:0.2;stroke:#ffffff;stroke-opacity:0.2;stroke-width:0.48;\" x=\"178.990369\" xlink:href=\"#m071fe2ce43\" y=\"243.718141\"/>\n     <use style=\"fill:#1f77b4;fill-opacity:0.2;stroke:#ffffff;stroke-opacity:0.2;stroke-width:0.48;\" x=\"321.998648\" xlink:href=\"#m071fe2ce43\" y=\"147.273179\"/>\n     <use style=\"fill:#1f77b4;fill-opacity:0.2;stroke:#ffffff;stroke-opacity:0.2;stroke-width:0.48;\" x=\"127.384739\" xlink:href=\"#m071fe2ce43\" y=\"291.758341\"/>\n     <use style=\"fill:#1f77b4;fill-opacity:0.2;stroke:#ffffff;stroke-opacity:0.2;stroke-width:0.48;\" x=\"127.384739\" xlink:href=\"#m071fe2ce43\" y=\"222.765445\"/>\n     <use style=\"fill:#1f77b4;fill-opacity:0.2;stroke:#ffffff;stroke-opacity:0.2;stroke-width:0.48;\" x=\"213.895565\" xlink:href=\"#m071fe2ce43\" y=\"147.553706\"/>\n     <use style=\"fill:#1f77b4;fill-opacity:0.2;stroke:#ffffff;stroke-opacity:0.2;stroke-width:0.48;\" x=\"178.990369\" xlink:href=\"#m071fe2ce43\" y=\"217.642212\"/>\n     <use style=\"fill:#1f77b4;fill-opacity:0.2;stroke:#ffffff;stroke-opacity:0.2;stroke-width:0.48;\" x=\"65.995648\" xlink:href=\"#m071fe2ce43\" y=\"290.130325\"/>\n     <use style=\"fill:#1f77b4;fill-opacity:0.2;stroke:#ffffff;stroke-opacity:0.2;stroke-width:0.48;\" x=\"127.384739\" xlink:href=\"#m071fe2ce43\" y=\"253.513954\"/>\n     <use style=\"fill:#1f77b4;fill-opacity:0.2;stroke:#ffffff;stroke-opacity:0.2;stroke-width:0.48;\" x=\"65.995648\" xlink:href=\"#m071fe2ce43\" y=\"308.826302\"/>\n     <use style=\"fill:#1f77b4;fill-opacity:0.2;stroke:#ffffff;stroke-opacity:0.2;stroke-width:0.48;\" x=\"127.384739\" xlink:href=\"#m071fe2ce43\" y=\"244.634513\"/>\n     <use style=\"fill:#1f77b4;fill-opacity:0.2;stroke:#ffffff;stroke-opacity:0.2;stroke-width:0.48;\" x=\"144.473222\" xlink:href=\"#m071fe2ce43\" y=\"223.571465\"/>\n     <use style=\"fill:#1f77b4;fill-opacity:0.2;stroke:#ffffff;stroke-opacity:0.2;stroke-width:0.48;\" x=\"201.901232\" xlink:href=\"#m071fe2ce43\" y=\"147.668285\"/>\n     <use style=\"fill:#1f77b4;fill-opacity:0.2;stroke:#ffffff;stroke-opacity:0.2;stroke-width:0.48;\" x=\"187.482922\" xlink:href=\"#m071fe2ce43\" y=\"261.887003\"/>\n     <use style=\"fill:#1f77b4;fill-opacity:0.2;stroke:#ffffff;stroke-opacity:0.2;stroke-width:0.48;\" x=\"65.995648\" xlink:href=\"#m071fe2ce43\" y=\"242.735422\"/>\n     <use style=\"fill:#1f77b4;fill-opacity:0.2;stroke:#ffffff;stroke-opacity:0.2;stroke-width:0.48;\" x=\"65.995648\" xlink:href=\"#m071fe2ce43\" y=\"238.292554\"/>\n     <use style=\"fill:#1f77b4;fill-opacity:0.2;stroke:#ffffff;stroke-opacity:0.2;stroke-width:0.48;\" x=\"158.031682\" xlink:href=\"#m071fe2ce43\" y=\"184.992531\"/>\n     <use style=\"fill:#1f77b4;fill-opacity:0.2;stroke:#ffffff;stroke-opacity:0.2;stroke-width:0.48;\" x=\"65.995648\" xlink:href=\"#m071fe2ce43\" y=\"296.00714\"/>\n     <use style=\"fill:#1f77b4;fill-opacity:0.2;stroke:#ffffff;stroke-opacity:0.2;stroke-width:0.48;\" x=\"208.147173\" xlink:href=\"#m071fe2ce43\" y=\"211.363264\"/>\n     <use style=\"fill:#1f77b4;fill-opacity:0.2;stroke:#ffffff;stroke-opacity:0.2;stroke-width:0.48;\" x=\"158.031682\" xlink:href=\"#m071fe2ce43\" y=\"182.452802\"/>\n     <use style=\"fill:#1f77b4;fill-opacity:0.2;stroke:#ffffff;stroke-opacity:0.2;stroke-width:0.48;\" x=\"65.995648\" xlink:href=\"#m071fe2ce43\" y=\"288.643344\"/>\n     <use style=\"fill:#1f77b4;fill-opacity:0.2;stroke:#ffffff;stroke-opacity:0.2;stroke-width:0.48;\" x=\"342.689863\" xlink:href=\"#m071fe2ce43\" y=\"88.893895\"/>\n     <use style=\"fill:#1f77b4;fill-opacity:0.2;stroke:#ffffff;stroke-opacity:0.2;stroke-width:0.48;\" x=\"104.028452\" xlink:href=\"#m071fe2ce43\" y=\"226.378134\"/>\n     <use style=\"fill:#1f77b4;fill-opacity:0.2;stroke:#ffffff;stroke-opacity:0.2;stroke-width:0.48;\" x=\"313.274857\" xlink:href=\"#m071fe2ce43\" y=\"151.793284\"/>\n     <use style=\"fill:#1f77b4;fill-opacity:0.2;stroke:#ffffff;stroke-opacity:0.2;stroke-width:0.48;\" x=\"233.220213\" xlink:href=\"#m071fe2ce43\" y=\"261.840335\"/>\n     <use style=\"fill:#1f77b4;fill-opacity:0.2;stroke:#ffffff;stroke-opacity:0.2;stroke-width:0.48;\" x=\"299.987334\" xlink:href=\"#m071fe2ce43\" y=\"72.290668\"/>\n     <use style=\"fill:#1f77b4;fill-opacity:0.2;stroke:#ffffff;stroke-opacity:0.2;stroke-width:0.48;\" x=\"178.990369\" xlink:href=\"#m071fe2ce43\" y=\"165.303826\"/>\n     <use style=\"fill:#1f77b4;fill-opacity:0.2;stroke:#ffffff;stroke-opacity:0.2;stroke-width:0.48;\" x=\"158.031682\" xlink:href=\"#m071fe2ce43\" y=\"265.883959\"/>\n     <use style=\"fill:#1f77b4;fill-opacity:0.2;stroke:#ffffff;stroke-opacity:0.2;stroke-width:0.48;\" x=\"224.189079\" xlink:href=\"#m071fe2ce43\" y=\"190.480533\"/>\n     <use style=\"fill:#1f77b4;fill-opacity:0.2;stroke:#ffffff;stroke-opacity:0.2;stroke-width:0.48;\" x=\"158.031682\" xlink:href=\"#m071fe2ce43\" y=\"189.642534\"/>\n     <use style=\"fill:#1f77b4;fill-opacity:0.2;stroke:#ffffff;stroke-opacity:0.2;stroke-width:0.48;\" x=\"284.087414\" xlink:href=\"#m071fe2ce43\" y=\"182.519571\"/>\n     <use style=\"fill:#1f77b4;fill-opacity:0.2;stroke:#ffffff;stroke-opacity:0.2;stroke-width:0.48;\" x=\"255.19495\" xlink:href=\"#m071fe2ce43\" y=\"157.08293\"/>\n     <use style=\"fill:#1f77b4;fill-opacity:0.2;stroke:#ffffff;stroke-opacity:0.2;stroke-width:0.48;\" x=\"277.202116\" xlink:href=\"#m071fe2ce43\" y=\"187.906539\"/>\n     <use style=\"fill:#1f77b4;fill-opacity:0.2;stroke:#ffffff;stroke-opacity:0.2;stroke-width:0.48;\" x=\"245.001515\" xlink:href=\"#m071fe2ce43\" y=\"219.663845\"/>\n     <use style=\"fill:#1f77b4;fill-opacity:0.2;stroke:#ffffff;stroke-opacity:0.2;stroke-width:0.48;\" x=\"195.057843\" xlink:href=\"#m071fe2ce43\" y=\"159.50909\"/>\n     <use style=\"fill:#1f77b4;fill-opacity:0.2;stroke:#ffffff;stroke-opacity:0.2;stroke-width:0.48;\" x=\"104.028452\" xlink:href=\"#m071fe2ce43\" y=\"311.176607\"/>\n     <use style=\"fill:#1f77b4;fill-opacity:0.2;stroke:#ffffff;stroke-opacity:0.2;stroke-width:0.48;\" x=\"187.482922\" xlink:href=\"#m071fe2ce43\" y=\"208.827787\"/>\n     <use style=\"fill:#1f77b4;fill-opacity:0.2;stroke:#ffffff;stroke-opacity:0.2;stroke-width:0.48;\" x=\"195.057843\" xlink:href=\"#m071fe2ce43\" y=\"192.360648\"/>\n     <use style=\"fill:#1f77b4;fill-opacity:0.2;stroke:#ffffff;stroke-opacity:0.2;stroke-width:0.48;\" x=\"158.031682\" xlink:href=\"#m071fe2ce43\" y=\"263.52296\"/>\n     <use style=\"fill:#1f77b4;fill-opacity:0.2;stroke:#ffffff;stroke-opacity:0.2;stroke-width:0.48;\" x=\"65.995648\" xlink:href=\"#m071fe2ce43\" y=\"231.870868\"/>\n     <use style=\"fill:#1f77b4;fill-opacity:0.2;stroke:#ffffff;stroke-opacity:0.2;stroke-width:0.48;\" x=\"65.995648\" xlink:href=\"#m071fe2ce43\" y=\"248.77968\"/>\n     <use style=\"fill:#1f77b4;fill-opacity:0.2;stroke:#ffffff;stroke-opacity:0.2;stroke-width:0.48;\" x=\"65.995648\" xlink:href=\"#m071fe2ce43\" y=\"281.65398\"/>\n     <use style=\"fill:#1f77b4;fill-opacity:0.2;stroke:#ffffff;stroke-opacity:0.2;stroke-width:0.48;\" x=\"104.028452\" xlink:href=\"#m071fe2ce43\" y=\"290.262423\"/>\n     <use style=\"fill:#1f77b4;fill-opacity:0.2;stroke:#ffffff;stroke-opacity:0.2;stroke-width:0.48;\" x=\"241.27552\" xlink:href=\"#m071fe2ce43\" y=\"168.34996\"/>\n     <use style=\"fill:#1f77b4;fill-opacity:0.2;stroke:#ffffff;stroke-opacity:0.2;stroke-width:0.48;\" x=\"158.031682\" xlink:href=\"#m071fe2ce43\" y=\"157.823069\"/>\n     <use style=\"fill:#1f77b4;fill-opacity:0.2;stroke:#ffffff;stroke-opacity:0.2;stroke-width:0.48;\" x=\"237.355883\" xlink:href=\"#m071fe2ce43\" y=\"164.206682\"/>\n     <use style=\"fill:#1f77b4;fill-opacity:0.2;stroke:#ffffff;stroke-opacity:0.2;stroke-width:0.48;\" x=\"65.995648\" xlink:href=\"#m071fe2ce43\" y=\"268.974412\"/>\n     <use style=\"fill:#1f77b4;fill-opacity:0.2;stroke:#ffffff;stroke-opacity:0.2;stroke-width:0.48;\" x=\"187.482922\" xlink:href=\"#m071fe2ce43\" y=\"220.872481\"/>\n     <use style=\"fill:#1f77b4;fill-opacity:0.2;stroke:#ffffff;stroke-opacity:0.2;stroke-width:0.48;\" x=\"310.149519\" xlink:href=\"#m071fe2ce43\" y=\"144.814963\"/>\n     <use style=\"fill:#1f77b4;fill-opacity:0.2;stroke:#ffffff;stroke-opacity:0.2;stroke-width:0.48;\" x=\"279.564319\" xlink:href=\"#m071fe2ce43\" y=\"180.672968\"/>\n     <use style=\"fill:#1f77b4;fill-opacity:0.2;stroke:#ffffff;stroke-opacity:0.2;stroke-width:0.48;\" x=\"178.990369\" xlink:href=\"#m071fe2ce43\" y=\"139.452716\"/>\n     <use style=\"fill:#1f77b4;fill-opacity:0.2;stroke:#ffffff;stroke-opacity:0.2;stroke-width:0.48;\" x=\"158.031682\" xlink:href=\"#m071fe2ce43\" y=\"165.942724\"/>\n     <use style=\"fill:#1f77b4;fill-opacity:0.2;stroke:#ffffff;stroke-opacity:0.2;stroke-width:0.48;\" x=\"237.355883\" xlink:href=\"#m071fe2ce43\" y=\"136.352799\"/>\n     <use style=\"fill:#1f77b4;fill-opacity:0.2;stroke:#ffffff;stroke-opacity:0.2;stroke-width:0.48;\" x=\"219.2229\" xlink:href=\"#m071fe2ce43\" y=\"243.736553\"/>\n     <use style=\"fill:#1f77b4;fill-opacity:0.2;stroke:#ffffff;stroke-opacity:0.2;stroke-width:0.48;\" x=\"279.564319\" xlink:href=\"#m071fe2ce43\" y=\"135.98935\"/>\n     <use style=\"fill:#1f77b4;fill-opacity:0.2;stroke:#ffffff;stroke-opacity:0.2;stroke-width:0.48;\" x=\"65.995648\" xlink:href=\"#m071fe2ce43\" y=\"241.480802\"/>\n     <use style=\"fill:#1f77b4;fill-opacity:0.2;stroke:#ffffff;stroke-opacity:0.2;stroke-width:0.48;\" x=\"323.367524\" xlink:href=\"#m071fe2ce43\" y=\"133.42215\"/>\n     <use style=\"fill:#1f77b4;fill-opacity:0.2;stroke:#ffffff;stroke-opacity:0.2;stroke-width:0.48;\" x=\"158.031682\" xlink:href=\"#m071fe2ce43\" y=\"175.967837\"/>\n     <use style=\"fill:#1f77b4;fill-opacity:0.2;stroke:#ffffff;stroke-opacity:0.2;stroke-width:0.48;\" x=\"274.767038\" xlink:href=\"#m071fe2ce43\" y=\"149.814462\"/>\n     <use style=\"fill:#1f77b4;fill-opacity:0.2;stroke:#ffffff;stroke-opacity:0.2;stroke-width:0.48;\" x=\"261.307895\" xlink:href=\"#m071fe2ce43\" y=\"215.140724\"/>\n     <use style=\"fill:#1f77b4;fill-opacity:0.2;stroke:#ffffff;stroke-opacity:0.2;stroke-width:0.48;\" x=\"104.028452\" xlink:href=\"#m071fe2ce43\" y=\"268.329007\"/>\n     <use style=\"fill:#1f77b4;fill-opacity:0.2;stroke:#ffffff;stroke-opacity:0.2;stroke-width:0.48;\" x=\"65.995648\" xlink:href=\"#m071fe2ce43\" y=\"311.176607\"/>\n     <use style=\"fill:#1f77b4;fill-opacity:0.2;stroke:#ffffff;stroke-opacity:0.2;stroke-width:0.48;\" x=\"281.858074\" xlink:href=\"#m071fe2ce43\" y=\"214.553129\"/>\n     <use style=\"fill:#1f77b4;fill-opacity:0.2;stroke:#ffffff;stroke-opacity:0.2;stroke-width:0.48;\" x=\"178.990369\" xlink:href=\"#m071fe2ce43\" y=\"134.312487\"/>\n     <use style=\"fill:#1f77b4;fill-opacity:0.2;stroke:#ffffff;stroke-opacity:0.2;stroke-width:0.48;\" x=\"178.990369\" xlink:href=\"#m071fe2ce43\" y=\"198.849957\"/>\n     <use style=\"fill:#1f77b4;fill-opacity:0.2;stroke:#ffffff;stroke-opacity:0.2;stroke-width:0.48;\" x=\"104.028452\" xlink:href=\"#m071fe2ce43\" y=\"295.431209\"/>\n     <use style=\"fill:#1f77b4;fill-opacity:0.2;stroke:#ffffff;stroke-opacity:0.2;stroke-width:0.48;\" x=\"127.384739\" xlink:href=\"#m071fe2ce43\" y=\"225.213021\"/>\n     <use style=\"fill:#1f77b4;fill-opacity:0.2;stroke:#ffffff;stroke-opacity:0.2;stroke-width:0.48;\" x=\"65.995648\" xlink:href=\"#m071fe2ce43\" y=\"302.163844\"/>\n     <use style=\"fill:#1f77b4;fill-opacity:0.2;stroke:#ffffff;stroke-opacity:0.2;stroke-width:0.48;\" x=\"339.38729\" xlink:href=\"#m071fe2ce43\" y=\"107.637325\"/>\n     <use style=\"fill:#1f77b4;fill-opacity:0.2;stroke:#ffffff;stroke-opacity:0.2;stroke-width:0.48;\" x=\"337.112085\" xlink:href=\"#m071fe2ce43\" y=\"67.456602\"/>\n     <use style=\"fill:#1f77b4;fill-opacity:0.2;stroke:#ffffff;stroke-opacity:0.2;stroke-width:0.48;\" x=\"65.995648\" xlink:href=\"#m071fe2ce43\" y=\"244.356371\"/>\n     <use style=\"fill:#1f77b4;fill-opacity:0.2;stroke:#ffffff;stroke-opacity:0.2;stroke-width:0.48;\" x=\"127.384739\" xlink:href=\"#m071fe2ce43\" y=\"309.225584\"/>\n     <use style=\"fill:#1f77b4;fill-opacity:0.2;stroke:#ffffff;stroke-opacity:0.2;stroke-width:0.48;\" x=\"213.895565\" xlink:href=\"#m071fe2ce43\" y=\"133.531716\"/>\n     <use style=\"fill:#1f77b4;fill-opacity:0.2;stroke:#ffffff;stroke-opacity:0.2;stroke-width:0.48;\" x=\"65.995648\" xlink:href=\"#m071fe2ce43\" y=\"219.20737\"/>\n     <use style=\"fill:#1f77b4;fill-opacity:0.2;stroke:#ffffff;stroke-opacity:0.2;stroke-width:0.48;\" x=\"65.995648\" xlink:href=\"#m071fe2ce43\" y=\"190.848632\"/>\n     <use style=\"fill:#1f77b4;fill-opacity:0.2;stroke:#ffffff;stroke-opacity:0.2;stroke-width:0.48;\" x=\"169.31072\" xlink:href=\"#m071fe2ce43\" y=\"188.960978\"/>\n     <use style=\"fill:#1f77b4;fill-opacity:0.2;stroke:#ffffff;stroke-opacity:0.2;stroke-width:0.48;\" x=\"341.603172\" xlink:href=\"#m071fe2ce43\" y=\"65.887963\"/>\n     <use style=\"fill:#1f77b4;fill-opacity:0.2;stroke:#ffffff;stroke-opacity:0.2;stroke-width:0.48;\" x=\"213.895565\" xlink:href=\"#m071fe2ce43\" y=\"152.446569\"/>\n     <use style=\"fill:#1f77b4;fill-opacity:0.2;stroke:#ffffff;stroke-opacity:0.2;stroke-width:0.48;\" x=\"284.087414\" xlink:href=\"#m071fe2ce43\" y=\"140.6939\"/>\n     <use style=\"fill:#1f77b4;fill-opacity:0.2;stroke:#ffffff;stroke-opacity:0.2;stroke-width:0.48;\" x=\"104.028452\" xlink:href=\"#m071fe2ce43\" y=\"146.665412\"/>\n     <use style=\"fill:#1f77b4;fill-opacity:0.2;stroke:#ffffff;stroke-opacity:0.2;stroke-width:0.48;\" x=\"65.995648\" xlink:href=\"#m071fe2ce43\" y=\"179.483771\"/>\n     <use style=\"fill:#1f77b4;fill-opacity:0.2;stroke:#ffffff;stroke-opacity:0.2;stroke-width:0.48;\" x=\"341.603172\" xlink:href=\"#m071fe2ce43\" y=\"86.412151\"/>\n     <use style=\"fill:#1f77b4;fill-opacity:0.2;stroke:#ffffff;stroke-opacity:0.2;stroke-width:0.48;\" x=\"127.384739\" xlink:href=\"#m071fe2ce43\" y=\"222.228515\"/>\n     <use style=\"fill:#1f77b4;fill-opacity:0.2;stroke:#ffffff;stroke-opacity:0.2;stroke-width:0.48;\" x=\"292.429779\" xlink:href=\"#m071fe2ce43\" y=\"207.453807\"/>\n     <use style=\"fill:#1f77b4;fill-opacity:0.2;stroke:#ffffff;stroke-opacity:0.2;stroke-width:0.48;\" x=\"303.517225\" xlink:href=\"#m071fe2ce43\" y=\"102.644545\"/>\n     <use style=\"fill:#1f77b4;fill-opacity:0.2;stroke:#ffffff;stroke-opacity:0.2;stroke-width:0.48;\" x=\"65.995648\" xlink:href=\"#m071fe2ce43\" y=\"307.365575\"/>\n     <use style=\"fill:#1f77b4;fill-opacity:0.2;stroke:#ffffff;stroke-opacity:0.2;stroke-width:0.48;\" x=\"342.689863\" xlink:href=\"#m071fe2ce43\" y=\"176.357198\"/>\n     <use style=\"fill:#1f77b4;fill-opacity:0.2;stroke:#ffffff;stroke-opacity:0.2;stroke-width:0.48;\" x=\"169.31072\" xlink:href=\"#m071fe2ce43\" y=\"242.187034\"/>\n     <use style=\"fill:#1f77b4;fill-opacity:0.2;stroke:#ffffff;stroke-opacity:0.2;stroke-width:0.48;\" x=\"284.087414\" xlink:href=\"#m071fe2ce43\" y=\"252.345155\"/>\n     <use style=\"fill:#1f77b4;fill-opacity:0.2;stroke:#ffffff;stroke-opacity:0.2;stroke-width:0.48;\" x=\"201.901232\" xlink:href=\"#m071fe2ce43\" y=\"170.278082\"/>\n     <use style=\"fill:#1f77b4;fill-opacity:0.2;stroke:#ffffff;stroke-opacity:0.2;stroke-width:0.48;\" x=\"272.254203\" xlink:href=\"#m071fe2ce43\" y=\"120.253084\"/>\n     <use style=\"fill:#1f77b4;fill-opacity:0.2;stroke:#ffffff;stroke-opacity:0.2;stroke-width:0.48;\" x=\"258.311993\" xlink:href=\"#m071fe2ce43\" y=\"160.866611\"/>\n     <use style=\"fill:#1f77b4;fill-opacity:0.2;stroke:#ffffff;stroke-opacity:0.2;stroke-width:0.48;\" x=\"255.19495\" xlink:href=\"#m071fe2ce43\" y=\"169.956652\"/>\n     <use style=\"fill:#1f77b4;fill-opacity:0.2;stroke:#ffffff;stroke-opacity:0.2;stroke-width:0.48;\" x=\"201.901232\" xlink:href=\"#m071fe2ce43\" y=\"270.898888\"/>\n     <use style=\"fill:#1f77b4;fill-opacity:0.2;stroke:#ffffff;stroke-opacity:0.2;stroke-width:0.48;\" x=\"245.001515\" xlink:href=\"#m071fe2ce43\" y=\"178.373833\"/>\n     <use style=\"fill:#1f77b4;fill-opacity:0.2;stroke:#ffffff;stroke-opacity:0.2;stroke-width:0.48;\" x=\"144.473222\" xlink:href=\"#m071fe2ce43\" y=\"181.974193\"/>\n     <use style=\"fill:#1f77b4;fill-opacity:0.2;stroke:#ffffff;stroke-opacity:0.2;stroke-width:0.48;\" x=\"248.552904\" xlink:href=\"#m071fe2ce43\" y=\"146.081219\"/>\n     <use style=\"fill:#1f77b4;fill-opacity:0.2;stroke:#ffffff;stroke-opacity:0.2;stroke-width:0.48;\" x=\"127.384739\" xlink:href=\"#m071fe2ce43\" y=\"259.655477\"/>\n     <use style=\"fill:#1f77b4;fill-opacity:0.2;stroke:#ffffff;stroke-opacity:0.2;stroke-width:0.48;\" x=\"305.226407\" xlink:href=\"#m071fe2ce43\" y=\"149.176448\"/>\n     <use style=\"fill:#1f77b4;fill-opacity:0.2;stroke:#ffffff;stroke-opacity:0.2;stroke-width:0.48;\" x=\"333.580454\" xlink:href=\"#m071fe2ce43\" y=\"106.936973\"/>\n     <use style=\"fill:#1f77b4;fill-opacity:0.2;stroke:#ffffff;stroke-opacity:0.2;stroke-width:0.48;\" x=\"65.995648\" xlink:href=\"#m071fe2ce43\" y=\"173.94842\"/>\n     <use style=\"fill:#1f77b4;fill-opacity:0.2;stroke:#ffffff;stroke-opacity:0.2;stroke-width:0.48;\" x=\"248.552904\" xlink:href=\"#m071fe2ce43\" y=\"193.270184\"/>\n     <use style=\"fill:#1f77b4;fill-opacity:0.2;stroke:#ffffff;stroke-opacity:0.2;stroke-width:0.48;\" x=\"305.226407\" xlink:href=\"#m071fe2ce43\" y=\"194.766321\"/>\n     <use style=\"fill:#1f77b4;fill-opacity:0.2;stroke:#ffffff;stroke-opacity:0.2;stroke-width:0.48;\" x=\"314.794167\" xlink:href=\"#m071fe2ce43\" y=\"83.026094\"/>\n     <use style=\"fill:#1f77b4;fill-opacity:0.2;stroke:#ffffff;stroke-opacity:0.2;stroke-width:0.48;\" x=\"187.482922\" xlink:href=\"#m071fe2ce43\" y=\"159.761515\"/>\n     <use style=\"fill:#1f77b4;fill-opacity:0.2;stroke:#ffffff;stroke-opacity:0.2;stroke-width:0.48;\" x=\"340.502443\" xlink:href=\"#m071fe2ce43\" y=\"44.118902\"/>\n     <use style=\"fill:#1f77b4;fill-opacity:0.2;stroke:#ffffff;stroke-opacity:0.2;stroke-width:0.48;\" x=\"274.767038\" xlink:href=\"#m071fe2ce43\" y=\"115.795359\"/>\n     <use style=\"fill:#1f77b4;fill-opacity:0.2;stroke:#ffffff;stroke-opacity:0.2;stroke-width:0.48;\" x=\"319.191466\" xlink:href=\"#m071fe2ce43\" y=\"151.511868\"/>\n     <use style=\"fill:#1f77b4;fill-opacity:0.2;stroke:#ffffff;stroke-opacity:0.2;stroke-width:0.48;\" x=\"65.995648\" xlink:href=\"#m071fe2ce43\" y=\"240.759215\"/>\n     <use style=\"fill:#1f77b4;fill-opacity:0.2;stroke:#ffffff;stroke-opacity:0.2;stroke-width:0.48;\" x=\"195.057843\" xlink:href=\"#m071fe2ce43\" y=\"209.613408\"/>\n     <use style=\"fill:#1f77b4;fill-opacity:0.2;stroke:#ffffff;stroke-opacity:0.2;stroke-width:0.48;\" x=\"127.384739\" xlink:href=\"#m071fe2ce43\" y=\"223.211797\"/>\n     <use style=\"fill:#1f77b4;fill-opacity:0.2;stroke:#ffffff;stroke-opacity:0.2;stroke-width:0.48;\" x=\"65.995648\" xlink:href=\"#m071fe2ce43\" y=\"288.342564\"/>\n     <use style=\"fill:#1f77b4;fill-opacity:0.2;stroke:#ffffff;stroke-opacity:0.2;stroke-width:0.48;\" x=\"187.482922\" xlink:href=\"#m071fe2ce43\" y=\"234.875913\"/>\n     <use style=\"fill:#1f77b4;fill-opacity:0.2;stroke:#ffffff;stroke-opacity:0.2;stroke-width:0.48;\" x=\"169.31072\" xlink:href=\"#m071fe2ce43\" y=\"202.230115\"/>\n     <use style=\"fill:#1f77b4;fill-opacity:0.2;stroke:#ffffff;stroke-opacity:0.2;stroke-width:0.48;\" x=\"288.367263\" xlink:href=\"#m071fe2ce43\" y=\"164.213764\"/>\n     <use style=\"fill:#1f77b4;fill-opacity:0.2;stroke:#ffffff;stroke-opacity:0.2;stroke-width:0.48;\" x=\"272.254203\" xlink:href=\"#m071fe2ce43\" y=\"227.861524\"/>\n     <use style=\"fill:#1f77b4;fill-opacity:0.2;stroke:#ffffff;stroke-opacity:0.2;stroke-width:0.48;\" x=\"127.384739\" xlink:href=\"#m071fe2ce43\" y=\"191.501209\"/>\n     <use style=\"fill:#1f77b4;fill-opacity:0.2;stroke:#ffffff;stroke-opacity:0.2;stroke-width:0.48;\" x=\"258.311993\" xlink:href=\"#m071fe2ce43\" y=\"111.541173\"/>\n     <use style=\"fill:#1f77b4;fill-opacity:0.2;stroke:#ffffff;stroke-opacity:0.2;stroke-width:0.48;\" x=\"292.429779\" xlink:href=\"#m071fe2ce43\" y=\"165.570002\"/>\n     <use style=\"fill:#1f77b4;fill-opacity:0.2;stroke:#ffffff;stroke-opacity:0.2;stroke-width:0.48;\" x=\"261.307895\" xlink:href=\"#m071fe2ce43\" y=\"188.094076\"/>\n     <use style=\"fill:#1f77b4;fill-opacity:0.2;stroke:#ffffff;stroke-opacity:0.2;stroke-width:0.48;\" x=\"158.031682\" xlink:href=\"#m071fe2ce43\" y=\"247.610826\"/>\n     <use style=\"fill:#1f77b4;fill-opacity:0.2;stroke:#ffffff;stroke-opacity:0.2;stroke-width:0.48;\" x=\"158.031682\" xlink:href=\"#m071fe2ce43\" y=\"163.954517\"/>\n     <use style=\"fill:#1f77b4;fill-opacity:0.2;stroke:#ffffff;stroke-opacity:0.2;stroke-width:0.48;\" x=\"303.517225\" xlink:href=\"#m071fe2ce43\" y=\"125.189385\"/>\n     <use style=\"fill:#1f77b4;fill-opacity:0.2;stroke:#ffffff;stroke-opacity:0.2;stroke-width:0.48;\" x=\"104.028452\" xlink:href=\"#m071fe2ce43\" y=\"214.553129\"/>\n     <use style=\"fill:#1f77b4;fill-opacity:0.2;stroke:#ffffff;stroke-opacity:0.2;stroke-width:0.48;\" x=\"65.995648\" xlink:href=\"#m071fe2ce43\" y=\"247.798274\"/>\n     <use style=\"fill:#1f77b4;fill-opacity:0.2;stroke:#ffffff;stroke-opacity:0.2;stroke-width:0.48;\" x=\"65.995648\" xlink:href=\"#m071fe2ce43\" y=\"316.517558\"/>\n     <use style=\"fill:#1f77b4;fill-opacity:0.2;stroke:#ffffff;stroke-opacity:0.2;stroke-width:0.48;\" x=\"274.767038\" xlink:href=\"#m071fe2ce43\" y=\"214.55675\"/>\n     <use style=\"fill:#1f77b4;fill-opacity:0.2;stroke:#ffffff;stroke-opacity:0.2;stroke-width:0.48;\" x=\"104.028452\" xlink:href=\"#m071fe2ce43\" y=\"201.40709\"/>\n     <use style=\"fill:#1f77b4;fill-opacity:0.2;stroke:#ffffff;stroke-opacity:0.2;stroke-width:0.48;\" x=\"201.901232\" xlink:href=\"#m071fe2ce43\" y=\"159.171037\"/>\n     <use style=\"fill:#1f77b4;fill-opacity:0.2;stroke:#ffffff;stroke-opacity:0.2;stroke-width:0.48;\" x=\"144.473222\" xlink:href=\"#m071fe2ce43\" y=\"132.847374\"/>\n     <use style=\"fill:#1f77b4;fill-opacity:0.2;stroke:#ffffff;stroke-opacity:0.2;stroke-width:0.48;\" x=\"65.995648\" xlink:href=\"#m071fe2ce43\" y=\"308.394138\"/>\n     <use style=\"fill:#1f77b4;fill-opacity:0.2;stroke:#ffffff;stroke-opacity:0.2;stroke-width:0.48;\" x=\"65.995648\" xlink:href=\"#m071fe2ce43\" y=\"316.517558\"/>\n     <use style=\"fill:#1f77b4;fill-opacity:0.2;stroke:#ffffff;stroke-opacity:0.2;stroke-width:0.48;\" x=\"313.274857\" xlink:href=\"#m071fe2ce43\" y=\"140.256596\"/>\n     <use style=\"fill:#1f77b4;fill-opacity:0.2;stroke:#ffffff;stroke-opacity:0.2;stroke-width:0.48;\" x=\"284.087414\" xlink:href=\"#m071fe2ce43\" y=\"222.343474\"/>\n     <use style=\"fill:#1f77b4;fill-opacity:0.2;stroke:#ffffff;stroke-opacity:0.2;stroke-width:0.48;\" x=\"241.27552\" xlink:href=\"#m071fe2ce43\" y=\"182.716014\"/>\n     <use style=\"fill:#1f77b4;fill-opacity:0.2;stroke:#ffffff;stroke-opacity:0.2;stroke-width:0.48;\" x=\"294.386524\" xlink:href=\"#m071fe2ce43\" y=\"126.236747\"/>\n     <use style=\"fill:#1f77b4;fill-opacity:0.2;stroke:#ffffff;stroke-opacity:0.2;stroke-width:0.48;\" x=\"65.995648\" xlink:href=\"#m071fe2ce43\" y=\"296.050714\"/>\n     <use style=\"fill:#1f77b4;fill-opacity:0.2;stroke:#ffffff;stroke-opacity:0.2;stroke-width:0.48;\" x=\"266.973078\" xlink:href=\"#m071fe2ce43\" y=\"183.443101\"/>\n     <use style=\"fill:#1f77b4;fill-opacity:0.2;stroke:#ffffff;stroke-opacity:0.2;stroke-width:0.48;\" x=\"319.191466\" xlink:href=\"#m071fe2ce43\" y=\"69.568649\"/>\n     <use style=\"fill:#1f77b4;fill-opacity:0.2;stroke:#ffffff;stroke-opacity:0.2;stroke-width:0.48;\" x=\"319.191466\" xlink:href=\"#m071fe2ce43\" y=\"90.068369\"/>\n     <use style=\"fill:#1f77b4;fill-opacity:0.2;stroke:#ffffff;stroke-opacity:0.2;stroke-width:0.48;\" x=\"306.90055\" xlink:href=\"#m071fe2ce43\" y=\"133.372682\"/>\n     <use style=\"fill:#1f77b4;fill-opacity:0.2;stroke:#ffffff;stroke-opacity:0.2;stroke-width:0.48;\" x=\"195.057843\" xlink:href=\"#m071fe2ce43\" y=\"157.506783\"/>\n     <use style=\"fill:#1f77b4;fill-opacity:0.2;stroke:#ffffff;stroke-opacity:0.2;stroke-width:0.48;\" x=\"339.38729\" xlink:href=\"#m071fe2ce43\" y=\"88.221271\"/>\n     <use style=\"fill:#1f77b4;fill-opacity:0.2;stroke:#ffffff;stroke-opacity:0.2;stroke-width:0.48;\" x=\"303.517225\" xlink:href=\"#m071fe2ce43\" y=\"74.100514\"/>\n     <use style=\"fill:#1f77b4;fill-opacity:0.2;stroke:#ffffff;stroke-opacity:0.2;stroke-width:0.48;\" x=\"310.149519\" xlink:href=\"#m071fe2ce43\" y=\"68.920564\"/>\n     <use style=\"fill:#1f77b4;fill-opacity:0.2;stroke:#ffffff;stroke-opacity:0.2;stroke-width:0.48;\" x=\"169.31072\" xlink:href=\"#m071fe2ce43\" y=\"75.265324\"/>\n     <use style=\"fill:#1f77b4;fill-opacity:0.2;stroke:#ffffff;stroke-opacity:0.2;stroke-width:0.48;\" x=\"294.386524\" xlink:href=\"#m071fe2ce43\" y=\"162.475035\"/>\n     <use style=\"fill:#1f77b4;fill-opacity:0.2;stroke:#ffffff;stroke-opacity:0.2;stroke-width:0.48;\" x=\"274.767038\" xlink:href=\"#m071fe2ce43\" y=\"112.51014\"/>\n     <use style=\"fill:#1f77b4;fill-opacity:0.2;stroke:#ffffff;stroke-opacity:0.2;stroke-width:0.48;\" x=\"65.995648\" xlink:href=\"#m071fe2ce43\" y=\"249.450512\"/>\n     <use style=\"fill:#1f77b4;fill-opacity:0.2;stroke:#ffffff;stroke-opacity:0.2;stroke-width:0.48;\" x=\"104.028452\" xlink:href=\"#m071fe2ce43\" y=\"218.410932\"/>\n     <use style=\"fill:#1f77b4;fill-opacity:0.2;stroke:#ffffff;stroke-opacity:0.2;stroke-width:0.48;\" x=\"327.344471\" xlink:href=\"#m071fe2ce43\" y=\"108.043548\"/>\n     <use style=\"fill:#1f77b4;fill-opacity:0.2;stroke:#ffffff;stroke-opacity:0.2;stroke-width:0.48;\" x=\"195.057843\" xlink:href=\"#m071fe2ce43\" y=\"139.506627\"/>\n     <use style=\"fill:#1f77b4;fill-opacity:0.2;stroke:#ffffff;stroke-opacity:0.2;stroke-width:0.48;\" x=\"65.995648\" xlink:href=\"#m071fe2ce43\" y=\"311.728384\"/>\n     <use style=\"fill:#1f77b4;fill-opacity:0.2;stroke:#ffffff;stroke-opacity:0.2;stroke-width:0.48;\" x=\"274.767038\" xlink:href=\"#m071fe2ce43\" y=\"169.371778\"/>\n     <use style=\"fill:#1f77b4;fill-opacity:0.2;stroke:#ffffff;stroke-opacity:0.2;stroke-width:0.48;\" x=\"245.001515\" xlink:href=\"#m071fe2ce43\" y=\"176.056046\"/>\n     <use style=\"fill:#1f77b4;fill-opacity:0.2;stroke:#ffffff;stroke-opacity:0.2;stroke-width:0.48;\" x=\"65.995648\" xlink:href=\"#m071fe2ce43\" y=\"302.163844\"/>\n     <use style=\"fill:#1f77b4;fill-opacity:0.2;stroke:#ffffff;stroke-opacity:0.2;stroke-width:0.48;\" x=\"279.564319\" xlink:href=\"#m071fe2ce43\" y=\"192.637184\"/>\n     <use style=\"fill:#1f77b4;fill-opacity:0.2;stroke:#ffffff;stroke-opacity:0.2;stroke-width:0.48;\" x=\"201.901232\" xlink:href=\"#m071fe2ce43\" y=\"166.474303\"/>\n     <use style=\"fill:#1f77b4;fill-opacity:0.2;stroke:#ffffff;stroke-opacity:0.2;stroke-width:0.48;\" x=\"144.473222\" xlink:href=\"#m071fe2ce43\" y=\"264.018221\"/>\n     <use style=\"fill:#1f77b4;fill-opacity:0.2;stroke:#ffffff;stroke-opacity:0.2;stroke-width:0.48;\" x=\"65.995648\" xlink:href=\"#m071fe2ce43\" y=\"230.945217\"/>\n     <use style=\"fill:#1f77b4;fill-opacity:0.2;stroke:#ffffff;stroke-opacity:0.2;stroke-width:0.48;\" x=\"201.901232\" xlink:href=\"#m071fe2ce43\" y=\"166.184861\"/>\n     <use style=\"fill:#1f77b4;fill-opacity:0.2;stroke:#ffffff;stroke-opacity:0.2;stroke-width:0.48;\" x=\"303.517225\" xlink:href=\"#m071fe2ce43\" y=\"87.792494\"/>\n     <use style=\"fill:#1f77b4;fill-opacity:0.2;stroke:#ffffff;stroke-opacity:0.2;stroke-width:0.48;\" x=\"65.995648\" xlink:href=\"#m071fe2ce43\" y=\"197.604855\"/>\n     <use style=\"fill:#1f77b4;fill-opacity:0.2;stroke:#ffffff;stroke-opacity:0.2;stroke-width:0.48;\" x=\"245.001515\" xlink:href=\"#m071fe2ce43\" y=\"211.369166\"/>\n     <use style=\"fill:#1f77b4;fill-opacity:0.2;stroke:#ffffff;stroke-opacity:0.2;stroke-width:0.48;\" x=\"338.25731\" xlink:href=\"#m071fe2ce43\" y=\"76.326878\"/>\n     <use style=\"fill:#1f77b4;fill-opacity:0.2;stroke:#ffffff;stroke-opacity:0.2;stroke-width:0.48;\" x=\"292.429779\" xlink:href=\"#m071fe2ce43\" y=\"160.245526\"/>\n     <use style=\"fill:#1f77b4;fill-opacity:0.2;stroke:#ffffff;stroke-opacity:0.2;stroke-width:0.48;\" x=\"213.895565\" xlink:href=\"#m071fe2ce43\" y=\"125.159365\"/>\n     <use style=\"fill:#1f77b4;fill-opacity:0.2;stroke:#ffffff;stroke-opacity:0.2;stroke-width:0.48;\" x=\"65.995648\" xlink:href=\"#m071fe2ce43\" y=\"277.522634\"/>\n     <use style=\"fill:#1f77b4;fill-opacity:0.2;stroke:#ffffff;stroke-opacity:0.2;stroke-width:0.48;\" x=\"169.31072\" xlink:href=\"#m071fe2ce43\" y=\"274.627499\"/>\n     <use style=\"fill:#1f77b4;fill-opacity:0.2;stroke:#ffffff;stroke-opacity:0.2;stroke-width:0.48;\" x=\"65.995648\" xlink:href=\"#m071fe2ce43\" y=\"294.125452\"/>\n     <use style=\"fill:#1f77b4;fill-opacity:0.2;stroke:#ffffff;stroke-opacity:0.2;stroke-width:0.48;\" x=\"335.951175\" xlink:href=\"#m071fe2ce43\" y=\"110.735795\"/>\n     <use style=\"fill:#1f77b4;fill-opacity:0.2;stroke:#ffffff;stroke-opacity:0.2;stroke-width:0.48;\" x=\"127.384739\" xlink:href=\"#m071fe2ce43\" y=\"194.602532\"/>\n     <use style=\"fill:#1f77b4;fill-opacity:0.2;stroke:#ffffff;stroke-opacity:0.2;stroke-width:0.48;\" x=\"281.858074\" xlink:href=\"#m071fe2ce43\" y=\"177.514661\"/>\n     <use style=\"fill:#1f77b4;fill-opacity:0.2;stroke:#ffffff;stroke-opacity:0.2;stroke-width:0.48;\" x=\"65.995648\" xlink:href=\"#m071fe2ce43\" y=\"253.265032\"/>\n     <use style=\"fill:#1f77b4;fill-opacity:0.2;stroke:#ffffff;stroke-opacity:0.2;stroke-width:0.48;\" x=\"65.995648\" xlink:href=\"#m071fe2ce43\" y=\"146.460244\"/>\n     <use style=\"fill:#1f77b4;fill-opacity:0.2;stroke:#ffffff;stroke-opacity:0.2;stroke-width:0.48;\" x=\"144.473222\" xlink:href=\"#m071fe2ce43\" y=\"247.798274\"/>\n     <use style=\"fill:#1f77b4;fill-opacity:0.2;stroke:#ffffff;stroke-opacity:0.2;stroke-width:0.48;\" x=\"284.087414\" xlink:href=\"#m071fe2ce43\" y=\"154.738945\"/>\n     <use style=\"fill:#1f77b4;fill-opacity:0.2;stroke:#ffffff;stroke-opacity:0.2;stroke-width:0.48;\" x=\"127.384739\" xlink:href=\"#m071fe2ce43\" y=\"169.963662\"/>\n     <use style=\"fill:#1f77b4;fill-opacity:0.2;stroke:#ffffff;stroke-opacity:0.2;stroke-width:0.48;\" x=\"237.355883\" xlink:href=\"#m071fe2ce43\" y=\"203.182526\"/>\n     <use style=\"fill:#1f77b4;fill-opacity:0.2;stroke:#ffffff;stroke-opacity:0.2;stroke-width:0.48;\" x=\"314.794167\" xlink:href=\"#m071fe2ce43\" y=\"71.800856\"/>\n     <use style=\"fill:#1f77b4;fill-opacity:0.2;stroke:#ffffff;stroke-opacity:0.2;stroke-width:0.48;\" x=\"208.147173\" xlink:href=\"#m071fe2ce43\" y=\"215.313982\"/>\n     <use style=\"fill:#1f77b4;fill-opacity:0.2;stroke:#ffffff;stroke-opacity:0.2;stroke-width:0.48;\" x=\"219.2229\" xlink:href=\"#m071fe2ce43\" y=\"192.009465\"/>\n     <use style=\"fill:#1f77b4;fill-opacity:0.2;stroke:#ffffff;stroke-opacity:0.2;stroke-width:0.48;\" x=\"255.19495\" xlink:href=\"#m071fe2ce43\" y=\"213.756122\"/>\n     <use style=\"fill:#1f77b4;fill-opacity:0.2;stroke:#ffffff;stroke-opacity:0.2;stroke-width:0.48;\" x=\"201.901232\" xlink:href=\"#m071fe2ce43\" y=\"218.37857\"/>\n     <use style=\"fill:#1f77b4;fill-opacity:0.2;stroke:#ffffff;stroke-opacity:0.2;stroke-width:0.48;\" x=\"301.771429\" xlink:href=\"#m071fe2ce43\" y=\"86.27467\"/>\n     <use style=\"fill:#1f77b4;fill-opacity:0.2;stroke:#ffffff;stroke-opacity:0.2;stroke-width:0.48;\" x=\"274.767038\" xlink:href=\"#m071fe2ce43\" y=\"203.111675\"/>\n     <use style=\"fill:#1f77b4;fill-opacity:0.2;stroke:#ffffff;stroke-opacity:0.2;stroke-width:0.48;\" x=\"208.147173\" xlink:href=\"#m071fe2ce43\" y=\"151.816824\"/>\n     <use style=\"fill:#1f77b4;fill-opacity:0.2;stroke:#ffffff;stroke-opacity:0.2;stroke-width:0.48;\" x=\"329.894611\" xlink:href=\"#m071fe2ce43\" y=\"98.475297\"/>\n     <use style=\"fill:#1f77b4;fill-opacity:0.2;stroke:#ffffff;stroke-opacity:0.2;stroke-width:0.48;\" x=\"127.384739\" xlink:href=\"#m071fe2ce43\" y=\"229.407577\"/>\n     <use style=\"fill:#1f77b4;fill-opacity:0.2;stroke:#ffffff;stroke-opacity:0.2;stroke-width:0.48;\" x=\"272.254203\" xlink:href=\"#m071fe2ce43\" y=\"141.982896\"/>\n     <use style=\"fill:#1f77b4;fill-opacity:0.2;stroke:#ffffff;stroke-opacity:0.2;stroke-width:0.48;\" x=\"224.189079\" xlink:href=\"#m071fe2ce43\" y=\"199.149754\"/>\n     <use style=\"fill:#1f77b4;fill-opacity:0.2;stroke:#ffffff;stroke-opacity:0.2;stroke-width:0.48;\" x=\"127.384739\" xlink:href=\"#m071fe2ce43\" y=\"217.742484\"/>\n     <use style=\"fill:#1f77b4;fill-opacity:0.2;stroke:#ffffff;stroke-opacity:0.2;stroke-width:0.48;\" x=\"327.344471\" xlink:href=\"#m071fe2ce43\" y=\"119.077962\"/>\n     <use style=\"fill:#1f77b4;fill-opacity:0.2;stroke:#ffffff;stroke-opacity:0.2;stroke-width:0.48;\" x=\"233.220213\" xlink:href=\"#m071fe2ce43\" y=\"204.579377\"/>\n     <use style=\"fill:#1f77b4;fill-opacity:0.2;stroke:#ffffff;stroke-opacity:0.2;stroke-width:0.48;\" x=\"65.995648\" xlink:href=\"#m071fe2ce43\" y=\"254.513364\"/>\n     <use style=\"fill:#1f77b4;fill-opacity:0.2;stroke:#ffffff;stroke-opacity:0.2;stroke-width:0.48;\" x=\"201.901232\" xlink:href=\"#m071fe2ce43\" y=\"148.432422\"/>\n     <use style=\"fill:#1f77b4;fill-opacity:0.2;stroke:#ffffff;stroke-opacity:0.2;stroke-width:0.48;\" x=\"241.27552\" xlink:href=\"#m071fe2ce43\" y=\"204.579377\"/>\n     <use style=\"fill:#1f77b4;fill-opacity:0.2;stroke:#ffffff;stroke-opacity:0.2;stroke-width:0.48;\" x=\"335.951175\" xlink:href=\"#m071fe2ce43\" y=\"133.132595\"/>\n     <use style=\"fill:#1f77b4;fill-opacity:0.2;stroke:#ffffff;stroke-opacity:0.2;stroke-width:0.48;\" x=\"127.384739\" xlink:href=\"#m071fe2ce43\" y=\"288.342564\"/>\n     <use style=\"fill:#1f77b4;fill-opacity:0.2;stroke:#ffffff;stroke-opacity:0.2;stroke-width:0.48;\" x=\"255.19495\" xlink:href=\"#m071fe2ce43\" y=\"164.396651\"/>\n     <use style=\"fill:#1f77b4;fill-opacity:0.2;stroke:#ffffff;stroke-opacity:0.2;stroke-width:0.48;\" x=\"264.192127\" xlink:href=\"#m071fe2ce43\" y=\"152.016148\"/>\n     <use style=\"fill:#1f77b4;fill-opacity:0.2;stroke:#ffffff;stroke-opacity:0.2;stroke-width:0.48;\" x=\"219.2229\" xlink:href=\"#m071fe2ce43\" y=\"160.245526\"/>\n     <use style=\"fill:#1f77b4;fill-opacity:0.2;stroke:#ffffff;stroke-opacity:0.2;stroke-width:0.48;\" x=\"224.189079\" xlink:href=\"#m071fe2ce43\" y=\"197.748568\"/>\n     <use style=\"fill:#1f77b4;fill-opacity:0.2;stroke:#ffffff;stroke-opacity:0.2;stroke-width:0.48;\" x=\"65.995648\" xlink:href=\"#m071fe2ce43\" y=\"277.959874\"/>\n     <use style=\"fill:#1f77b4;fill-opacity:0.2;stroke:#ffffff;stroke-opacity:0.2;stroke-width:0.48;\" x=\"144.473222\" xlink:href=\"#m071fe2ce43\" y=\"151.533261\"/>\n     <use style=\"fill:#1f77b4;fill-opacity:0.2;stroke:#ffffff;stroke-opacity:0.2;stroke-width:0.48;\" x=\"65.995648\" xlink:href=\"#m071fe2ce43\" y=\"270.068566\"/>\n     <use style=\"fill:#1f77b4;fill-opacity:0.2;stroke:#ffffff;stroke-opacity:0.2;stroke-width:0.48;\" x=\"187.482922\" xlink:href=\"#m071fe2ce43\" y=\"222.400987\"/>\n     <use style=\"fill:#1f77b4;fill-opacity:0.2;stroke:#ffffff;stroke-opacity:0.2;stroke-width:0.48;\" x=\"314.794167\" xlink:href=\"#m071fe2ce43\" y=\"145.940059\"/>\n     <use style=\"fill:#1f77b4;fill-opacity:0.2;stroke:#ffffff;stroke-opacity:0.2;stroke-width:0.48;\" x=\"298.163135\" xlink:href=\"#m071fe2ce43\" y=\"205.629589\"/>\n     <use style=\"fill:#1f77b4;fill-opacity:0.2;stroke:#ffffff;stroke-opacity:0.2;stroke-width:0.48;\" x=\"65.995648\" xlink:href=\"#m071fe2ce43\" y=\"259.846281\"/>\n     <use style=\"fill:#1f77b4;fill-opacity:0.2;stroke:#ffffff;stroke-opacity:0.2;stroke-width:0.48;\" x=\"158.031682\" xlink:href=\"#m071fe2ce43\" y=\"301.487216\"/>\n     <use style=\"fill:#1f77b4;fill-opacity:0.2;stroke:#ffffff;stroke-opacity:0.2;stroke-width:0.48;\" x=\"313.274857\" xlink:href=\"#m071fe2ce43\" y=\"139.658005\"/>\n     <use style=\"fill:#1f77b4;fill-opacity:0.2;stroke:#ffffff;stroke-opacity:0.2;stroke-width:0.48;\" x=\"104.028452\" xlink:href=\"#m071fe2ce43\" y=\"208.278296\"/>\n     <use style=\"fill:#1f77b4;fill-opacity:0.2;stroke:#ffffff;stroke-opacity:0.2;stroke-width:0.48;\" x=\"224.189079\" xlink:href=\"#m071fe2ce43\" y=\"155.135161\"/>\n     <use style=\"fill:#1f77b4;fill-opacity:0.2;stroke:#ffffff;stroke-opacity:0.2;stroke-width:0.48;\" x=\"201.901232\" xlink:href=\"#m071fe2ce43\" y=\"208.827787\"/>\n     <use style=\"fill:#1f77b4;fill-opacity:0.2;stroke:#ffffff;stroke-opacity:0.2;stroke-width:0.48;\" x=\"158.031682\" xlink:href=\"#m071fe2ce43\" y=\"248.792072\"/>\n     <use style=\"fill:#1f77b4;fill-opacity:0.2;stroke:#ffffff;stroke-opacity:0.2;stroke-width:0.48;\" x=\"317.751481\" xlink:href=\"#m071fe2ce43\" y=\"216.876623\"/>\n     <use style=\"fill:#1f77b4;fill-opacity:0.2;stroke:#ffffff;stroke-opacity:0.2;stroke-width:0.48;\" x=\"195.057843\" xlink:href=\"#m071fe2ce43\" y=\"308.394138\"/>\n     <use style=\"fill:#1f77b4;fill-opacity:0.2;stroke:#ffffff;stroke-opacity:0.2;stroke-width:0.48;\" x=\"127.384739\" xlink:href=\"#m071fe2ce43\" y=\"274.281294\"/>\n     <use style=\"fill:#1f77b4;fill-opacity:0.2;stroke:#ffffff;stroke-opacity:0.2;stroke-width:0.48;\" x=\"208.147173\" xlink:href=\"#m071fe2ce43\" y=\"171.980604\"/>\n     <use style=\"fill:#1f77b4;fill-opacity:0.2;stroke:#ffffff;stroke-opacity:0.2;stroke-width:0.48;\" x=\"104.028452\" xlink:href=\"#m071fe2ce43\" y=\"218.241685\"/>\n     <use style=\"fill:#1f77b4;fill-opacity:0.2;stroke:#ffffff;stroke-opacity:0.2;stroke-width:0.48;\" x=\"326.039719\" xlink:href=\"#m071fe2ce43\" y=\"96.149412\"/>\n     <use style=\"fill:#1f77b4;fill-opacity:0.2;stroke:#ffffff;stroke-opacity:0.2;stroke-width:0.48;\" x=\"65.995648\" xlink:href=\"#m071fe2ce43\" y=\"303.939541\"/>\n     <use style=\"fill:#1f77b4;fill-opacity:0.2;stroke:#ffffff;stroke-opacity:0.2;stroke-width:0.48;\" x=\"65.995648\" xlink:href=\"#m071fe2ce43\" y=\"142.913211\"/>\n     <use style=\"fill:#1f77b4;fill-opacity:0.2;stroke:#ffffff;stroke-opacity:0.2;stroke-width:0.48;\" x=\"213.895565\" xlink:href=\"#m071fe2ce43\" y=\"218.439483\"/>\n     <use style=\"fill:#1f77b4;fill-opacity:0.2;stroke:#ffffff;stroke-opacity:0.2;stroke-width:0.48;\" x=\"65.995648\" xlink:href=\"#m071fe2ce43\" y=\"302.163844\"/>\n     <use style=\"fill:#1f77b4;fill-opacity:0.2;stroke:#ffffff;stroke-opacity:0.2;stroke-width:0.48;\" x=\"187.482922\" xlink:href=\"#m071fe2ce43\" y=\"166.693683\"/>\n     <use style=\"fill:#1f77b4;fill-opacity:0.2;stroke:#ffffff;stroke-opacity:0.2;stroke-width:0.48;\" x=\"329.894611\" xlink:href=\"#m071fe2ce43\" y=\"110.823592\"/>\n     <use style=\"fill:#1f77b4;fill-opacity:0.2;stroke:#ffffff;stroke-opacity:0.2;stroke-width:0.48;\" x=\"104.028452\" xlink:href=\"#m071fe2ce43\" y=\"199.446492\"/>\n     <use style=\"fill:#1f77b4;fill-opacity:0.2;stroke:#ffffff;stroke-opacity:0.2;stroke-width:0.48;\" x=\"65.995648\" xlink:href=\"#m071fe2ce43\" y=\"314.172458\"/>\n     <use style=\"fill:#1f77b4;fill-opacity:0.2;stroke:#ffffff;stroke-opacity:0.2;stroke-width:0.48;\" x=\"104.028452\" xlink:href=\"#m071fe2ce43\" y=\"208.278296\"/>\n     <use style=\"fill:#1f77b4;fill-opacity:0.2;stroke:#ffffff;stroke-opacity:0.2;stroke-width:0.48;\" x=\"187.482922\" xlink:href=\"#m071fe2ce43\" y=\"165.303826\"/>\n     <use style=\"fill:#1f77b4;fill-opacity:0.2;stroke:#ffffff;stroke-opacity:0.2;stroke-width:0.48;\" x=\"144.473222\" xlink:href=\"#m071fe2ce43\" y=\"212.648762\"/>\n     <use style=\"fill:#1f77b4;fill-opacity:0.2;stroke:#ffffff;stroke-opacity:0.2;stroke-width:0.48;\" x=\"144.473222\" xlink:href=\"#m071fe2ce43\" y=\"224.044647\"/>\n     <use style=\"fill:#1f77b4;fill-opacity:0.2;stroke:#ffffff;stroke-opacity:0.2;stroke-width:0.48;\" x=\"284.087414\" xlink:href=\"#m071fe2ce43\" y=\"89.709165\"/>\n     <use style=\"fill:#1f77b4;fill-opacity:0.2;stroke:#ffffff;stroke-opacity:0.2;stroke-width:0.48;\" x=\"298.163135\" xlink:href=\"#m071fe2ce43\" y=\"124.340189\"/>\n     <use style=\"fill:#1f77b4;fill-opacity:0.2;stroke:#ffffff;stroke-opacity:0.2;stroke-width:0.48;\" x=\"144.473222\" xlink:href=\"#m071fe2ce43\" y=\"211.664998\"/>\n     <use style=\"fill:#1f77b4;fill-opacity:0.2;stroke:#ffffff;stroke-opacity:0.2;stroke-width:0.48;\" x=\"187.482922\" xlink:href=\"#m071fe2ce43\" y=\"248.096223\"/>\n     <use style=\"fill:#1f77b4;fill-opacity:0.2;stroke:#ffffff;stroke-opacity:0.2;stroke-width:0.48;\" x=\"255.19495\" xlink:href=\"#m071fe2ce43\" y=\"177.460364\"/>\n     <use style=\"fill:#1f77b4;fill-opacity:0.2;stroke:#ffffff;stroke-opacity:0.2;stroke-width:0.48;\" x=\"127.384739\" xlink:href=\"#m071fe2ce43\" y=\"252.525991\"/>\n     <use style=\"fill:#1f77b4;fill-opacity:0.2;stroke:#ffffff;stroke-opacity:0.2;stroke-width:0.48;\" x=\"65.995648\" xlink:href=\"#m071fe2ce43\" y=\"307.793219\"/>\n     <use style=\"fill:#1f77b4;fill-opacity:0.2;stroke:#ffffff;stroke-opacity:0.2;stroke-width:0.48;\" x=\"290.424234\" xlink:href=\"#m071fe2ce43\" y=\"132.29393\"/>\n     <use style=\"fill:#1f77b4;fill-opacity:0.2;stroke:#ffffff;stroke-opacity:0.2;stroke-width:0.48;\" x=\"178.990369\" xlink:href=\"#m071fe2ce43\" y=\"247.798274\"/>\n     <use style=\"fill:#1f77b4;fill-opacity:0.2;stroke:#ffffff;stroke-opacity:0.2;stroke-width:0.48;\" x=\"334.774124\" xlink:href=\"#m071fe2ce43\" y=\"66.837225\"/>\n     <use style=\"fill:#1f77b4;fill-opacity:0.2;stroke:#ffffff;stroke-opacity:0.2;stroke-width:0.48;\" x=\"158.031682\" xlink:href=\"#m071fe2ce43\" y=\"247.798274\"/>\n     <use style=\"fill:#1f77b4;fill-opacity:0.2;stroke:#ffffff;stroke-opacity:0.2;stroke-width:0.48;\" x=\"228.841918\" xlink:href=\"#m071fe2ce43\" y=\"183.216376\"/>\n     <use style=\"fill:#1f77b4;fill-opacity:0.2;stroke:#ffffff;stroke-opacity:0.2;stroke-width:0.48;\" x=\"340.502443\" xlink:href=\"#m071fe2ce43\" y=\"98.779889\"/>\n     <use style=\"fill:#1f77b4;fill-opacity:0.2;stroke:#ffffff;stroke-opacity:0.2;stroke-width:0.48;\" x=\"213.895565\" xlink:href=\"#m071fe2ce43\" y=\"270.583875\"/>\n     <use style=\"fill:#1f77b4;fill-opacity:0.2;stroke:#ffffff;stroke-opacity:0.2;stroke-width:0.48;\" x=\"269.658213\" xlink:href=\"#m071fe2ce43\" y=\"171.19308\"/>\n     <use style=\"fill:#1f77b4;fill-opacity:0.2;stroke:#ffffff;stroke-opacity:0.2;stroke-width:0.48;\" x=\"187.482922\" xlink:href=\"#m071fe2ce43\" y=\"197.609754\"/>\n     <use style=\"fill:#1f77b4;fill-opacity:0.2;stroke:#ffffff;stroke-opacity:0.2;stroke-width:0.48;\" x=\"208.147173\" xlink:href=\"#m071fe2ce43\" y=\"207.403165\"/>\n     <use style=\"fill:#1f77b4;fill-opacity:0.2;stroke:#ffffff;stroke-opacity:0.2;stroke-width:0.48;\" x=\"65.995648\" xlink:href=\"#m071fe2ce43\" y=\"227.933339\"/>\n     <use style=\"fill:#1f77b4;fill-opacity:0.2;stroke:#ffffff;stroke-opacity:0.2;stroke-width:0.48;\" x=\"178.990369\" xlink:href=\"#m071fe2ce43\" y=\"201.861362\"/>\n     <use style=\"fill:#1f77b4;fill-opacity:0.2;stroke:#ffffff;stroke-opacity:0.2;stroke-width:0.48;\" x=\"279.564319\" xlink:href=\"#m071fe2ce43\" y=\"86.155152\"/>\n     <use style=\"fill:#1f77b4;fill-opacity:0.2;stroke:#ffffff;stroke-opacity:0.2;stroke-width:0.48;\" x=\"301.771429\" xlink:href=\"#m071fe2ce43\" y=\"129.455217\"/>\n     <use style=\"fill:#1f77b4;fill-opacity:0.2;stroke:#ffffff;stroke-opacity:0.2;stroke-width:0.48;\" x=\"65.995648\" xlink:href=\"#m071fe2ce43\" y=\"293.805663\"/>\n     <use style=\"fill:#1f77b4;fill-opacity:0.2;stroke:#ffffff;stroke-opacity:0.2;stroke-width:0.48;\" x=\"228.841918\" xlink:href=\"#m071fe2ce43\" y=\"206.307366\"/>\n     <use style=\"fill:#1f77b4;fill-opacity:0.2;stroke:#ffffff;stroke-opacity:0.2;stroke-width:0.48;\" x=\"158.031682\" xlink:href=\"#m071fe2ce43\" y=\"222.765445\"/>\n     <use style=\"fill:#1f77b4;fill-opacity:0.2;stroke:#ffffff;stroke-opacity:0.2;stroke-width:0.48;\" x=\"127.384739\" xlink:href=\"#m071fe2ce43\" y=\"224.811532\"/>\n     <use style=\"fill:#1f77b4;fill-opacity:0.2;stroke:#ffffff;stroke-opacity:0.2;stroke-width:0.48;\" x=\"104.028452\" xlink:href=\"#m071fe2ce43\" y=\"182.019743\"/>\n     <use style=\"fill:#1f77b4;fill-opacity:0.2;stroke:#ffffff;stroke-opacity:0.2;stroke-width:0.48;\" x=\"144.473222\" xlink:href=\"#m071fe2ce43\" y=\"261.840335\"/>\n     <use style=\"fill:#1f77b4;fill-opacity:0.2;stroke:#ffffff;stroke-opacity:0.2;stroke-width:0.48;\" x=\"208.147173\" xlink:href=\"#m071fe2ce43\" y=\"163.954517\"/>\n     <use style=\"fill:#1f77b4;fill-opacity:0.2;stroke:#ffffff;stroke-opacity:0.2;stroke-width:0.48;\" x=\"208.147173\" xlink:href=\"#m071fe2ce43\" y=\"243.222585\"/>\n     <use style=\"fill:#1f77b4;fill-opacity:0.2;stroke:#ffffff;stroke-opacity:0.2;stroke-width:0.48;\" x=\"104.028452\" xlink:href=\"#m071fe2ce43\" y=\"252.453894\"/>\n     <use style=\"fill:#1f77b4;fill-opacity:0.2;stroke:#ffffff;stroke-opacity:0.2;stroke-width:0.48;\" x=\"144.473222\" xlink:href=\"#m071fe2ce43\" y=\"221.093786\"/>\n     <use style=\"fill:#1f77b4;fill-opacity:0.2;stroke:#ffffff;stroke-opacity:0.2;stroke-width:0.48;\" x=\"320.606901\" xlink:href=\"#m071fe2ce43\" y=\"130.809437\"/>\n     <use style=\"fill:#1f77b4;fill-opacity:0.2;stroke:#ffffff;stroke-opacity:0.2;stroke-width:0.48;\" x=\"169.31072\" xlink:href=\"#m071fe2ce43\" y=\"222.930314\"/>\n     <use style=\"fill:#1f77b4;fill-opacity:0.2;stroke:#ffffff;stroke-opacity:0.2;stroke-width:0.48;\" x=\"158.031682\" xlink:href=\"#m071fe2ce43\" y=\"176.384085\"/>\n     <use style=\"fill:#1f77b4;fill-opacity:0.2;stroke:#ffffff;stroke-opacity:0.2;stroke-width:0.48;\" x=\"208.147173\" xlink:href=\"#m071fe2ce43\" y=\"215.744387\"/>\n     <use style=\"fill:#1f77b4;fill-opacity:0.2;stroke:#ffffff;stroke-opacity:0.2;stroke-width:0.48;\" x=\"65.995648\" xlink:href=\"#m071fe2ce43\" y=\"249.965675\"/>\n     <use style=\"fill:#1f77b4;fill-opacity:0.2;stroke:#ffffff;stroke-opacity:0.2;stroke-width:0.48;\" x=\"233.220213\" xlink:href=\"#m071fe2ce43\" y=\"226.336983\"/>\n     <use style=\"fill:#1f77b4;fill-opacity:0.2;stroke:#ffffff;stroke-opacity:0.2;stroke-width:0.48;\" x=\"328.629225\" xlink:href=\"#m071fe2ce43\" y=\"181.116021\"/>\n     <use style=\"fill:#1f77b4;fill-opacity:0.2;stroke:#ffffff;stroke-opacity:0.2;stroke-width:0.48;\" x=\"65.995648\" xlink:href=\"#m071fe2ce43\" y=\"306.299268\"/>\n     <use style=\"fill:#1f77b4;fill-opacity:0.2;stroke:#ffffff;stroke-opacity:0.2;stroke-width:0.48;\" x=\"65.995648\" xlink:href=\"#m071fe2ce43\" y=\"241.33478\"/>\n     <use style=\"fill:#1f77b4;fill-opacity:0.2;stroke:#ffffff;stroke-opacity:0.2;stroke-width:0.48;\" x=\"245.001515\" xlink:href=\"#m071fe2ce43\" y=\"203.322701\"/>\n     <use style=\"fill:#1f77b4;fill-opacity:0.2;stroke:#ffffff;stroke-opacity:0.2;stroke-width:0.48;\" x=\"144.473222\" xlink:href=\"#m071fe2ce43\" y=\"150.002817\"/>\n     <use style=\"fill:#1f77b4;fill-opacity:0.2;stroke:#ffffff;stroke-opacity:0.2;stroke-width:0.48;\" x=\"104.028452\" xlink:href=\"#m071fe2ce43\" y=\"257.84631\"/>\n     <use style=\"fill:#1f77b4;fill-opacity:0.2;stroke:#ffffff;stroke-opacity:0.2;stroke-width:0.48;\" x=\"169.31072\" xlink:href=\"#m071fe2ce43\" y=\"190.152184\"/>\n     <use style=\"fill:#1f77b4;fill-opacity:0.2;stroke:#ffffff;stroke-opacity:0.2;stroke-width:0.48;\" x=\"334.774124\" xlink:href=\"#m071fe2ce43\" y=\"135.212022\"/>\n     <use style=\"fill:#1f77b4;fill-opacity:0.2;stroke:#ffffff;stroke-opacity:0.2;stroke-width:0.48;\" x=\"65.995648\" xlink:href=\"#m071fe2ce43\" y=\"222.265111\"/>\n     <use style=\"fill:#1f77b4;fill-opacity:0.2;stroke:#ffffff;stroke-opacity:0.2;stroke-width:0.48;\" x=\"264.192127\" xlink:href=\"#m071fe2ce43\" y=\"179.376555\"/>\n     <use style=\"fill:#1f77b4;fill-opacity:0.2;stroke:#ffffff;stroke-opacity:0.2;stroke-width:0.48;\" x=\"169.31072\" xlink:href=\"#m071fe2ce43\" y=\"204.521466\"/>\n     <use style=\"fill:#1f77b4;fill-opacity:0.2;stroke:#ffffff;stroke-opacity:0.2;stroke-width:0.48;\" x=\"144.473222\" xlink:href=\"#m071fe2ce43\" y=\"307.793219\"/>\n     <use style=\"fill:#1f77b4;fill-opacity:0.2;stroke:#ffffff;stroke-opacity:0.2;stroke-width:0.48;\" x=\"248.552904\" xlink:href=\"#m071fe2ce43\" y=\"210.819918\"/>\n     <use style=\"fill:#1f77b4;fill-opacity:0.2;stroke:#ffffff;stroke-opacity:0.2;stroke-width:0.48;\" x=\"292.429779\" xlink:href=\"#m071fe2ce43\" y=\"166.394591\"/>\n     <use style=\"fill:#1f77b4;fill-opacity:0.2;stroke:#ffffff;stroke-opacity:0.2;stroke-width:0.48;\" x=\"195.057843\" xlink:href=\"#m071fe2ce43\" y=\"276.019596\"/>\n     <use style=\"fill:#1f77b4;fill-opacity:0.2;stroke:#ffffff;stroke-opacity:0.2;stroke-width:0.48;\" x=\"65.995648\" xlink:href=\"#m071fe2ce43\" y=\"299.005963\"/>\n     <use style=\"fill:#1f77b4;fill-opacity:0.2;stroke:#ffffff;stroke-opacity:0.2;stroke-width:0.48;\" x=\"65.995648\" xlink:href=\"#m071fe2ce43\" y=\"270.543411\"/>\n     <use style=\"fill:#1f77b4;fill-opacity:0.2;stroke:#ffffff;stroke-opacity:0.2;stroke-width:0.48;\" x=\"104.028452\" xlink:href=\"#m071fe2ce43\" y=\"219.20737\"/>\n     <use style=\"fill:#1f77b4;fill-opacity:0.2;stroke:#ffffff;stroke-opacity:0.2;stroke-width:0.48;\" x=\"65.995648\" xlink:href=\"#m071fe2ce43\" y=\"316.325986\"/>\n     <use style=\"fill:#1f77b4;fill-opacity:0.2;stroke:#ffffff;stroke-opacity:0.2;stroke-width:0.48;\" x=\"65.995648\" xlink:href=\"#m071fe2ce43\" y=\"167.860699\"/>\n     <use style=\"fill:#1f77b4;fill-opacity:0.2;stroke:#ffffff;stroke-opacity:0.2;stroke-width:0.48;\" x=\"208.147173\" xlink:href=\"#m071fe2ce43\" y=\"142.377956\"/>\n     <use style=\"fill:#1f77b4;fill-opacity:0.2;stroke:#ffffff;stroke-opacity:0.2;stroke-width:0.48;\" x=\"65.995648\" xlink:href=\"#m071fe2ce43\" y=\"203.322701\"/>\n     <use style=\"fill:#1f77b4;fill-opacity:0.2;stroke:#ffffff;stroke-opacity:0.2;stroke-width:0.48;\" x=\"104.028452\" xlink:href=\"#m071fe2ce43\" y=\"302.163844\"/>\n     <use style=\"fill:#1f77b4;fill-opacity:0.2;stroke:#ffffff;stroke-opacity:0.2;stroke-width:0.48;\" x=\"338.25731\" xlink:href=\"#m071fe2ce43\" y=\"165.942724\"/>\n     <use style=\"fill:#1f77b4;fill-opacity:0.2;stroke:#ffffff;stroke-opacity:0.2;stroke-width:0.48;\" x=\"201.901232\" xlink:href=\"#m071fe2ce43\" y=\"133.589481\"/>\n     <use style=\"fill:#1f77b4;fill-opacity:0.2;stroke:#ffffff;stroke-opacity:0.2;stroke-width:0.48;\" x=\"144.473222\" xlink:href=\"#m071fe2ce43\" y=\"196.449725\"/>\n     <use style=\"fill:#1f77b4;fill-opacity:0.2;stroke:#ffffff;stroke-opacity:0.2;stroke-width:0.48;\" x=\"65.995648\" xlink:href=\"#m071fe2ce43\" y=\"221.014955\"/>\n     <use style=\"fill:#1f77b4;fill-opacity:0.2;stroke:#ffffff;stroke-opacity:0.2;stroke-width:0.48;\" x=\"178.990369\" xlink:href=\"#m071fe2ce43\" y=\"161.189408\"/>\n     <use style=\"fill:#1f77b4;fill-opacity:0.2;stroke:#ffffff;stroke-opacity:0.2;stroke-width:0.48;\" x=\"319.191466\" xlink:href=\"#m071fe2ce43\" y=\"165.91907\"/>\n     <use style=\"fill:#1f77b4;fill-opacity:0.2;stroke:#ffffff;stroke-opacity:0.2;stroke-width:0.48;\" x=\"201.901232\" xlink:href=\"#m071fe2ce43\" y=\"243.222585\"/>\n     <use style=\"fill:#1f77b4;fill-opacity:0.2;stroke:#ffffff;stroke-opacity:0.2;stroke-width:0.48;\" x=\"327.344471\" xlink:href=\"#m071fe2ce43\" y=\"159.61729\"/>\n     <use style=\"fill:#1f77b4;fill-opacity:0.2;stroke:#ffffff;stroke-opacity:0.2;stroke-width:0.48;\" x=\"65.995648\" xlink:href=\"#m071fe2ce43\" y=\"275.993702\"/>\n     <use style=\"fill:#1f77b4;fill-opacity:0.2;stroke:#ffffff;stroke-opacity:0.2;stroke-width:0.48;\" x=\"255.19495\" xlink:href=\"#m071fe2ce43\" y=\"229.234054\"/>\n     <use style=\"fill:#1f77b4;fill-opacity:0.2;stroke:#ffffff;stroke-opacity:0.2;stroke-width:0.48;\" x=\"169.31072\" xlink:href=\"#m071fe2ce43\" y=\"185.456415\"/>\n     <use style=\"fill:#1f77b4;fill-opacity:0.2;stroke:#ffffff;stroke-opacity:0.2;stroke-width:0.48;\" x=\"65.995648\" xlink:href=\"#m071fe2ce43\" y=\"276.019596\"/>\n     <use style=\"fill:#1f77b4;fill-opacity:0.2;stroke:#ffffff;stroke-opacity:0.2;stroke-width:0.48;\" x=\"195.057843\" xlink:href=\"#m071fe2ce43\" y=\"173.844933\"/>\n     <use style=\"fill:#1f77b4;fill-opacity:0.2;stroke:#ffffff;stroke-opacity:0.2;stroke-width:0.48;\" x=\"241.27552\" xlink:href=\"#m071fe2ce43\" y=\"195.003763\"/>\n     <use style=\"fill:#1f77b4;fill-opacity:0.2;stroke:#ffffff;stroke-opacity:0.2;stroke-width:0.48;\" x=\"65.995648\" xlink:href=\"#m071fe2ce43\" y=\"316.517558\"/>\n     <use style=\"fill:#1f77b4;fill-opacity:0.2;stroke:#ffffff;stroke-opacity:0.2;stroke-width:0.48;\" x=\"228.841918\" xlink:href=\"#m071fe2ce43\" y=\"249.316589\"/>\n     <use style=\"fill:#1f77b4;fill-opacity:0.2;stroke:#ffffff;stroke-opacity:0.2;stroke-width:0.48;\" x=\"298.163135\" xlink:href=\"#m071fe2ce43\" y=\"118.416853\"/>\n     <use style=\"fill:#1f77b4;fill-opacity:0.2;stroke:#ffffff;stroke-opacity:0.2;stroke-width:0.48;\" x=\"311.727023\" xlink:href=\"#m071fe2ce43\" y=\"69.721163\"/>\n     <use style=\"fill:#1f77b4;fill-opacity:0.2;stroke:#ffffff;stroke-opacity:0.2;stroke-width:0.48;\" x=\"65.995648\" xlink:href=\"#m071fe2ce43\" y=\"235.145337\"/>\n     <use style=\"fill:#1f77b4;fill-opacity:0.2;stroke:#ffffff;stroke-opacity:0.2;stroke-width:0.48;\" x=\"169.31072\" xlink:href=\"#m071fe2ce43\" y=\"223.039205\"/>\n     <use style=\"fill:#1f77b4;fill-opacity:0.2;stroke:#ffffff;stroke-opacity:0.2;stroke-width:0.48;\" x=\"158.031682\" xlink:href=\"#m071fe2ce43\" y=\"190.598865\"/>\n     <use style=\"fill:#1f77b4;fill-opacity:0.2;stroke:#ffffff;stroke-opacity:0.2;stroke-width:0.48;\" x=\"233.220213\" xlink:href=\"#m071fe2ce43\" y=\"252.453894\"/>\n     <use style=\"fill:#1f77b4;fill-opacity:0.2;stroke:#ffffff;stroke-opacity:0.2;stroke-width:0.48;\" x=\"195.057843\" xlink:href=\"#m071fe2ce43\" y=\"225.067038\"/>\n     <use style=\"fill:#1f77b4;fill-opacity:0.2;stroke:#ffffff;stroke-opacity:0.2;stroke-width:0.48;\" x=\"158.031682\" xlink:href=\"#m071fe2ce43\" y=\"277.121979\"/>\n     <use style=\"fill:#1f77b4;fill-opacity:0.2;stroke:#ffffff;stroke-opacity:0.2;stroke-width:0.48;\" x=\"65.995648\" xlink:href=\"#m071fe2ce43\" y=\"228.38967\"/>\n     <use style=\"fill:#1f77b4;fill-opacity:0.2;stroke:#ffffff;stroke-opacity:0.2;stroke-width:0.48;\" x=\"187.482922\" xlink:href=\"#m071fe2ce43\" y=\"243.222585\"/>\n     <use style=\"fill:#1f77b4;fill-opacity:0.2;stroke:#ffffff;stroke-opacity:0.2;stroke-width:0.48;\" x=\"158.031682\" xlink:href=\"#m071fe2ce43\" y=\"188.960978\"/>\n     <use style=\"fill:#1f77b4;fill-opacity:0.2;stroke:#ffffff;stroke-opacity:0.2;stroke-width:0.48;\" x=\"144.473222\" xlink:href=\"#m071fe2ce43\" y=\"273.538297\"/>\n     <use style=\"fill:#1f77b4;fill-opacity:0.2;stroke:#ffffff;stroke-opacity:0.2;stroke-width:0.48;\" x=\"178.990369\" xlink:href=\"#m071fe2ce43\" y=\"250.717561\"/>\n     <use style=\"fill:#1f77b4;fill-opacity:0.2;stroke:#ffffff;stroke-opacity:0.2;stroke-width:0.48;\" x=\"158.031682\" xlink:href=\"#m071fe2ce43\" y=\"221.650864\"/>\n     <use style=\"fill:#1f77b4;fill-opacity:0.2;stroke:#ffffff;stroke-opacity:0.2;stroke-width:0.48;\" x=\"144.473222\" xlink:href=\"#m071fe2ce43\" y=\"204.579377\"/>\n     <use style=\"fill:#1f77b4;fill-opacity:0.2;stroke:#ffffff;stroke-opacity:0.2;stroke-width:0.48;\" x=\"65.995648\" xlink:href=\"#m071fe2ce43\" y=\"274.627499\"/>\n     <use style=\"fill:#1f77b4;fill-opacity:0.2;stroke:#ffffff;stroke-opacity:0.2;stroke-width:0.48;\" x=\"279.564319\" xlink:href=\"#m071fe2ce43\" y=\"152.827518\"/>\n     <use style=\"fill:#1f77b4;fill-opacity:0.2;stroke:#ffffff;stroke-opacity:0.2;stroke-width:0.48;\" x=\"65.995648\" xlink:href=\"#m071fe2ce43\" y=\"152.486031\"/>\n     <use style=\"fill:#1f77b4;fill-opacity:0.2;stroke:#ffffff;stroke-opacity:0.2;stroke-width:0.48;\" x=\"237.355883\" xlink:href=\"#m071fe2ce43\" y=\"241.59427\"/>\n     <use style=\"fill:#1f77b4;fill-opacity:0.2;stroke:#ffffff;stroke-opacity:0.2;stroke-width:0.48;\" x=\"308.541127\" xlink:href=\"#m071fe2ce43\" y=\"150.002817\"/>\n     <use style=\"fill:#1f77b4;fill-opacity:0.2;stroke:#ffffff;stroke-opacity:0.2;stroke-width:0.48;\" x=\"104.028452\" xlink:href=\"#m071fe2ce43\" y=\"238.292554\"/>\n     <use style=\"fill:#1f77b4;fill-opacity:0.2;stroke:#ffffff;stroke-opacity:0.2;stroke-width:0.48;\" x=\"310.149519\" xlink:href=\"#m071fe2ce43\" y=\"149.921009\"/>\n     <use style=\"fill:#1f77b4;fill-opacity:0.2;stroke:#ffffff;stroke-opacity:0.2;stroke-width:0.48;\" x=\"299.987334\" xlink:href=\"#m071fe2ce43\" y=\"114.422115\"/>\n     <use style=\"fill:#1f77b4;fill-opacity:0.2;stroke:#ffffff;stroke-opacity:0.2;stroke-width:0.48;\" x=\"321.998648\" xlink:href=\"#m071fe2ce43\" y=\"148.9803\"/>\n     <use style=\"fill:#1f77b4;fill-opacity:0.2;stroke:#ffffff;stroke-opacity:0.2;stroke-width:0.48;\" x=\"65.995648\" xlink:href=\"#m071fe2ce43\" y=\"254.832593\"/>\n     <use style=\"fill:#1f77b4;fill-opacity:0.2;stroke:#ffffff;stroke-opacity:0.2;stroke-width:0.48;\" x=\"313.274857\" xlink:href=\"#m071fe2ce43\" y=\"141.10966\"/>\n     <use style=\"fill:#1f77b4;fill-opacity:0.2;stroke:#ffffff;stroke-opacity:0.2;stroke-width:0.48;\" x=\"228.841918\" xlink:href=\"#m071fe2ce43\" y=\"116.135188\"/>\n     <use style=\"fill:#1f77b4;fill-opacity:0.2;stroke:#ffffff;stroke-opacity:0.2;stroke-width:0.48;\" x=\"213.895565\" xlink:href=\"#m071fe2ce43\" y=\"185.435947\"/>\n     <use style=\"fill:#1f77b4;fill-opacity:0.2;stroke:#ffffff;stroke-opacity:0.2;stroke-width:0.48;\" x=\"311.727023\" xlink:href=\"#m071fe2ce43\" y=\"151.605543\"/>\n     <use style=\"fill:#1f77b4;fill-opacity:0.2;stroke:#ffffff;stroke-opacity:0.2;stroke-width:0.48;\" x=\"65.995648\" xlink:href=\"#m071fe2ce43\" y=\"219.20737\"/>\n     <use style=\"fill:#1f77b4;fill-opacity:0.2;stroke:#ffffff;stroke-opacity:0.2;stroke-width:0.48;\" x=\"104.028452\" xlink:href=\"#m071fe2ce43\" y=\"200.092654\"/>\n     <use style=\"fill:#1f77b4;fill-opacity:0.2;stroke:#ffffff;stroke-opacity:0.2;stroke-width:0.48;\" x=\"264.192127\" xlink:href=\"#m071fe2ce43\" y=\"251.907915\"/>\n     <use style=\"fill:#1f77b4;fill-opacity:0.2;stroke:#ffffff;stroke-opacity:0.2;stroke-width:0.48;\" x=\"178.990369\" xlink:href=\"#m071fe2ce43\" y=\"221.014955\"/>\n     <use style=\"fill:#1f77b4;fill-opacity:0.2;stroke:#ffffff;stroke-opacity:0.2;stroke-width:0.48;\" x=\"251.946013\" xlink:href=\"#m071fe2ce43\" y=\"188.320856\"/>\n     <use style=\"fill:#1f77b4;fill-opacity:0.2;stroke:#ffffff;stroke-opacity:0.2;stroke-width:0.48;\" x=\"127.384739\" xlink:href=\"#m071fe2ce43\" y=\"289.730638\"/>\n     <use style=\"fill:#1f77b4;fill-opacity:0.2;stroke:#ffffff;stroke-opacity:0.2;stroke-width:0.48;\" x=\"127.384739\" xlink:href=\"#m071fe2ce43\" y=\"197.604855\"/>\n     <use style=\"fill:#1f77b4;fill-opacity:0.2;stroke:#ffffff;stroke-opacity:0.2;stroke-width:0.48;\" x=\"65.995648\" xlink:href=\"#m071fe2ce43\" y=\"232.705951\"/>\n     <use style=\"fill:#1f77b4;fill-opacity:0.2;stroke:#ffffff;stroke-opacity:0.2;stroke-width:0.48;\" x=\"127.384739\" xlink:href=\"#m071fe2ce43\" y=\"157.506783\"/>\n     <use style=\"fill:#1f77b4;fill-opacity:0.2;stroke:#ffffff;stroke-opacity:0.2;stroke-width:0.48;\" x=\"65.995648\" xlink:href=\"#m071fe2ce43\" y=\"240.79\"/>\n     <use style=\"fill:#1f77b4;fill-opacity:0.2;stroke:#ffffff;stroke-opacity:0.2;stroke-width:0.48;\" x=\"338.25731\" xlink:href=\"#m071fe2ce43\" y=\"75.803176\"/>\n     <use style=\"fill:#1f77b4;fill-opacity:0.2;stroke:#ffffff;stroke-opacity:0.2;stroke-width:0.48;\" x=\"241.27552\" xlink:href=\"#m071fe2ce43\" y=\"136.352799\"/>\n     <use style=\"fill:#1f77b4;fill-opacity:0.2;stroke:#ffffff;stroke-opacity:0.2;stroke-width:0.48;\" x=\"248.552904\" xlink:href=\"#m071fe2ce43\" y=\"243.222585\"/>\n     <use style=\"fill:#1f77b4;fill-opacity:0.2;stroke:#ffffff;stroke-opacity:0.2;stroke-width:0.48;\" x=\"277.202116\" xlink:href=\"#m071fe2ce43\" y=\"227.40653\"/>\n     <use style=\"fill:#1f77b4;fill-opacity:0.2;stroke:#ffffff;stroke-opacity:0.2;stroke-width:0.48;\" x=\"335.951175\" xlink:href=\"#m071fe2ce43\" y=\"80.029641\"/>\n     <use style=\"fill:#1f77b4;fill-opacity:0.2;stroke:#ffffff;stroke-opacity:0.2;stroke-width:0.48;\" x=\"237.355883\" xlink:href=\"#m071fe2ce43\" y=\"223.367554\"/>\n     <use style=\"fill:#1f77b4;fill-opacity:0.2;stroke:#ffffff;stroke-opacity:0.2;stroke-width:0.48;\" x=\"269.658213\" xlink:href=\"#m071fe2ce43\" y=\"165.588947\"/>\n     <use style=\"fill:#1f77b4;fill-opacity:0.2;stroke:#ffffff;stroke-opacity:0.2;stroke-width:0.48;\" x=\"65.995648\" xlink:href=\"#m071fe2ce43\" y=\"306.299268\"/>\n     <use style=\"fill:#1f77b4;fill-opacity:0.2;stroke:#ffffff;stroke-opacity:0.2;stroke-width:0.48;\" x=\"144.473222\" xlink:href=\"#m071fe2ce43\" y=\"285.646878\"/>\n     <use style=\"fill:#1f77b4;fill-opacity:0.2;stroke:#ffffff;stroke-opacity:0.2;stroke-width:0.48;\" x=\"294.386524\" xlink:href=\"#m071fe2ce43\" y=\"191.997663\"/>\n     <use style=\"fill:#1f77b4;fill-opacity:0.2;stroke:#ffffff;stroke-opacity:0.2;stroke-width:0.48;\" x=\"328.629225\" xlink:href=\"#m071fe2ce43\" y=\"172.525668\"/>\n     <use style=\"fill:#1f77b4;fill-opacity:0.2;stroke:#ffffff;stroke-opacity:0.2;stroke-width:0.48;\" x=\"219.2229\" xlink:href=\"#m071fe2ce43\" y=\"247.798274\"/>\n     <use style=\"fill:#1f77b4;fill-opacity:0.2;stroke:#ffffff;stroke-opacity:0.2;stroke-width:0.48;\" x=\"301.771429\" xlink:href=\"#m071fe2ce43\" y=\"110.823592\"/>\n     <use style=\"fill:#1f77b4;fill-opacity:0.2;stroke:#ffffff;stroke-opacity:0.2;stroke-width:0.48;\" x=\"158.031682\" xlink:href=\"#m071fe2ce43\" y=\"247.798274\"/>\n     <use style=\"fill:#1f77b4;fill-opacity:0.2;stroke:#ffffff;stroke-opacity:0.2;stroke-width:0.48;\" x=\"319.191466\" xlink:href=\"#m071fe2ce43\" y=\"159.382064\"/>\n     <use style=\"fill:#1f77b4;fill-opacity:0.2;stroke:#ffffff;stroke-opacity:0.2;stroke-width:0.48;\" x=\"127.384739\" xlink:href=\"#m071fe2ce43\" y=\"208.079371\"/>\n     <use style=\"fill:#1f77b4;fill-opacity:0.2;stroke:#ffffff;stroke-opacity:0.2;stroke-width:0.48;\" x=\"158.031682\" xlink:href=\"#m071fe2ce43\" y=\"212.648762\"/>\n     <use style=\"fill:#1f77b4;fill-opacity:0.2;stroke:#ffffff;stroke-opacity:0.2;stroke-width:0.48;\" x=\"258.311993\" xlink:href=\"#m071fe2ce43\" y=\"243.335145\"/>\n     <use style=\"fill:#1f77b4;fill-opacity:0.2;stroke:#ffffff;stroke-opacity:0.2;stroke-width:0.48;\" x=\"237.355883\" xlink:href=\"#m071fe2ce43\" y=\"111.670555\"/>\n     <use style=\"fill:#1f77b4;fill-opacity:0.2;stroke:#ffffff;stroke-opacity:0.2;stroke-width:0.48;\" x=\"201.901232\" xlink:href=\"#m071fe2ce43\" y=\"133.589481\"/>\n     <use style=\"fill:#1f77b4;fill-opacity:0.2;stroke:#ffffff;stroke-opacity:0.2;stroke-width:0.48;\" x=\"261.307895\" xlink:href=\"#m071fe2ce43\" y=\"108.40497\"/>\n     <use style=\"fill:#1f77b4;fill-opacity:0.2;stroke:#ffffff;stroke-opacity:0.2;stroke-width:0.48;\" x=\"311.727023\" xlink:href=\"#m071fe2ce43\" y=\"175.436478\"/>\n     <use style=\"fill:#1f77b4;fill-opacity:0.2;stroke:#ffffff;stroke-opacity:0.2;stroke-width:0.48;\" x=\"65.995648\" xlink:href=\"#m071fe2ce43\" y=\"275.993702\"/>\n     <use style=\"fill:#1f77b4;fill-opacity:0.2;stroke:#ffffff;stroke-opacity:0.2;stroke-width:0.48;\" x=\"158.031682\" xlink:href=\"#m071fe2ce43\" y=\"182.672006\"/>\n     <use style=\"fill:#1f77b4;fill-opacity:0.2;stroke:#ffffff;stroke-opacity:0.2;stroke-width:0.48;\" x=\"65.995648\" xlink:href=\"#m071fe2ce43\" y=\"277.959874\"/>\n     <use style=\"fill:#1f77b4;fill-opacity:0.2;stroke:#ffffff;stroke-opacity:0.2;stroke-width:0.48;\" x=\"248.552904\" xlink:href=\"#m071fe2ce43\" y=\"208.524189\"/>\n     <use style=\"fill:#1f77b4;fill-opacity:0.2;stroke:#ffffff;stroke-opacity:0.2;stroke-width:0.48;\" x=\"65.995648\" xlink:href=\"#m071fe2ce43\" y=\"297.045103\"/>\n     <use style=\"fill:#1f77b4;fill-opacity:0.2;stroke:#ffffff;stroke-opacity:0.2;stroke-width:0.48;\" x=\"317.751481\" xlink:href=\"#m071fe2ce43\" y=\"118.656396\"/>\n     <use style=\"fill:#1f77b4;fill-opacity:0.2;stroke:#ffffff;stroke-opacity:0.2;stroke-width:0.48;\" x=\"266.973078\" xlink:href=\"#m071fe2ce43\" y=\"172.764595\"/>\n     <use style=\"fill:#1f77b4;fill-opacity:0.2;stroke:#ffffff;stroke-opacity:0.2;stroke-width:0.48;\" x=\"65.995648\" xlink:href=\"#m071fe2ce43\" y=\"195.805759\"/>\n     <use style=\"fill:#1f77b4;fill-opacity:0.2;stroke:#ffffff;stroke-opacity:0.2;stroke-width:0.48;\" x=\"65.995648\" xlink:href=\"#m071fe2ce43\" y=\"163.692837\"/>\n     <use style=\"fill:#1f77b4;fill-opacity:0.2;stroke:#ffffff;stroke-opacity:0.2;stroke-width:0.48;\" x=\"314.794167\" xlink:href=\"#m071fe2ce43\" y=\"142.662401\"/>\n     <use style=\"fill:#1f77b4;fill-opacity:0.2;stroke:#ffffff;stroke-opacity:0.2;stroke-width:0.48;\" x=\"65.995648\" xlink:href=\"#m071fe2ce43\" y=\"274.68262\"/>\n     <use style=\"fill:#1f77b4;fill-opacity:0.2;stroke:#ffffff;stroke-opacity:0.2;stroke-width:0.48;\" x=\"321.998648\" xlink:href=\"#m071fe2ce43\" y=\"144.814963\"/>\n     <use style=\"fill:#1f77b4;fill-opacity:0.2;stroke:#ffffff;stroke-opacity:0.2;stroke-width:0.48;\" x=\"281.858074\" xlink:href=\"#m071fe2ce43\" y=\"174.873608\"/>\n     <use style=\"fill:#1f77b4;fill-opacity:0.2;stroke:#ffffff;stroke-opacity:0.2;stroke-width:0.48;\" x=\"195.057843\" xlink:href=\"#m071fe2ce43\" y=\"195.529056\"/>\n     <use style=\"fill:#1f77b4;fill-opacity:0.2;stroke:#ffffff;stroke-opacity:0.2;stroke-width:0.48;\" x=\"279.564319\" xlink:href=\"#m071fe2ce43\" y=\"154.250611\"/>\n     <use style=\"fill:#1f77b4;fill-opacity:0.2;stroke:#ffffff;stroke-opacity:0.2;stroke-width:0.48;\" x=\"301.771429\" xlink:href=\"#m071fe2ce43\" y=\"179.283369\"/>\n     <use style=\"fill:#1f77b4;fill-opacity:0.2;stroke:#ffffff;stroke-opacity:0.2;stroke-width:0.48;\" x=\"65.995648\" xlink:href=\"#m071fe2ce43\" y=\"201.069508\"/>\n     <use style=\"fill:#1f77b4;fill-opacity:0.2;stroke:#ffffff;stroke-opacity:0.2;stroke-width:0.48;\" x=\"245.001515\" xlink:href=\"#m071fe2ce43\" y=\"133.42215\"/>\n     <use style=\"fill:#1f77b4;fill-opacity:0.2;stroke:#ffffff;stroke-opacity:0.2;stroke-width:0.48;\" x=\"320.606901\" xlink:href=\"#m071fe2ce43\" y=\"72.338708\"/>\n     <use style=\"fill:#1f77b4;fill-opacity:0.2;stroke:#ffffff;stroke-opacity:0.2;stroke-width:0.48;\" x=\"178.990369\" xlink:href=\"#m071fe2ce43\" y=\"245.070423\"/>\n     <use style=\"fill:#1f77b4;fill-opacity:0.2;stroke:#ffffff;stroke-opacity:0.2;stroke-width:0.48;\" x=\"213.895565\" xlink:href=\"#m071fe2ce43\" y=\"160.245526\"/>\n     <use style=\"fill:#1f77b4;fill-opacity:0.2;stroke:#ffffff;stroke-opacity:0.2;stroke-width:0.48;\" x=\"219.2229\" xlink:href=\"#m071fe2ce43\" y=\"148.320695\"/>\n     <use style=\"fill:#1f77b4;fill-opacity:0.2;stroke:#ffffff;stroke-opacity:0.2;stroke-width:0.48;\" x=\"65.995648\" xlink:href=\"#m071fe2ce43\" y=\"215.313982\"/>\n     <use style=\"fill:#1f77b4;fill-opacity:0.2;stroke:#ffffff;stroke-opacity:0.2;stroke-width:0.48;\" x=\"127.384739\" xlink:href=\"#m071fe2ce43\" y=\"137.709699\"/>\n     <use style=\"fill:#1f77b4;fill-opacity:0.2;stroke:#ffffff;stroke-opacity:0.2;stroke-width:0.48;\" x=\"296.296893\" xlink:href=\"#m071fe2ce43\" y=\"181.34322\"/>\n     <use style=\"fill:#1f77b4;fill-opacity:0.2;stroke:#ffffff;stroke-opacity:0.2;stroke-width:0.48;\" x=\"255.19495\" xlink:href=\"#m071fe2ce43\" y=\"163.85103\"/>\n     <use style=\"fill:#1f77b4;fill-opacity:0.2;stroke:#ffffff;stroke-opacity:0.2;stroke-width:0.48;\" x=\"272.254203\" xlink:href=\"#m071fe2ce43\" y=\"106.575203\"/>\n     <use style=\"fill:#1f77b4;fill-opacity:0.2;stroke:#ffffff;stroke-opacity:0.2;stroke-width:0.48;\" x=\"65.995648\" xlink:href=\"#m071fe2ce43\" y=\"288.183587\"/>\n     <use style=\"fill:#1f77b4;fill-opacity:0.2;stroke:#ffffff;stroke-opacity:0.2;stroke-width:0.48;\" x=\"233.220213\" xlink:href=\"#m071fe2ce43\" y=\"160.245526\"/>\n     <use style=\"fill:#1f77b4;fill-opacity:0.2;stroke:#ffffff;stroke-opacity:0.2;stroke-width:0.48;\" x=\"284.087414\" xlink:href=\"#m071fe2ce43\" y=\"160.567936\"/>\n     <use style=\"fill:#1f77b4;fill-opacity:0.2;stroke:#ffffff;stroke-opacity:0.2;stroke-width:0.48;\" x=\"104.028452\" xlink:href=\"#m071fe2ce43\" y=\"281.709493\"/>\n     <use style=\"fill:#1f77b4;fill-opacity:0.2;stroke:#ffffff;stroke-opacity:0.2;stroke-width:0.48;\" x=\"144.473222\" xlink:href=\"#m071fe2ce43\" y=\"249.965675\"/>\n     <use style=\"fill:#1f77b4;fill-opacity:0.2;stroke:#ffffff;stroke-opacity:0.2;stroke-width:0.48;\" x=\"178.990369\" xlink:href=\"#m071fe2ce43\" y=\"280.264385\"/>\n     <use style=\"fill:#1f77b4;fill-opacity:0.2;stroke:#ffffff;stroke-opacity:0.2;stroke-width:0.48;\" x=\"213.895565\" xlink:href=\"#m071fe2ce43\" y=\"114.825793\"/>\n     <use style=\"fill:#1f77b4;fill-opacity:0.2;stroke:#ffffff;stroke-opacity:0.2;stroke-width:0.48;\" x=\"169.31072\" xlink:href=\"#m071fe2ce43\" y=\"256.603786\"/>\n     <use style=\"fill:#1f77b4;fill-opacity:0.2;stroke:#ffffff;stroke-opacity:0.2;stroke-width:0.48;\" x=\"237.355883\" xlink:href=\"#m071fe2ce43\" y=\"113.247095\"/>\n     <use style=\"fill:#1f77b4;fill-opacity:0.2;stroke:#ffffff;stroke-opacity:0.2;stroke-width:0.48;\" x=\"208.147173\" xlink:href=\"#m071fe2ce43\" y=\"92.725415\"/>\n     <use style=\"fill:#1f77b4;fill-opacity:0.2;stroke:#ffffff;stroke-opacity:0.2;stroke-width:0.48;\" x=\"266.973078\" xlink:href=\"#m071fe2ce43\" y=\"149.135705\"/>\n     <use style=\"fill:#1f77b4;fill-opacity:0.2;stroke:#ffffff;stroke-opacity:0.2;stroke-width:0.48;\" x=\"261.307895\" xlink:href=\"#m071fe2ce43\" y=\"133.445188\"/>\n     <use style=\"fill:#1f77b4;fill-opacity:0.2;stroke:#ffffff;stroke-opacity:0.2;stroke-width:0.48;\" x=\"158.031682\" xlink:href=\"#m071fe2ce43\" y=\"166.826522\"/>\n     <use style=\"fill:#1f77b4;fill-opacity:0.2;stroke:#ffffff;stroke-opacity:0.2;stroke-width:0.48;\" x=\"195.057843\" xlink:href=\"#m071fe2ce43\" y=\"173.02207\"/>\n     <use style=\"fill:#1f77b4;fill-opacity:0.2;stroke:#ffffff;stroke-opacity:0.2;stroke-width:0.48;\" x=\"158.031682\" xlink:href=\"#m071fe2ce43\" y=\"165.332769\"/>\n     <use style=\"fill:#1f77b4;fill-opacity:0.2;stroke:#ffffff;stroke-opacity:0.2;stroke-width:0.48;\" x=\"224.189079\" xlink:href=\"#m071fe2ce43\" y=\"121.33265\"/>\n     <use style=\"fill:#1f77b4;fill-opacity:0.2;stroke:#ffffff;stroke-opacity:0.2;stroke-width:0.48;\" x=\"127.384739\" xlink:href=\"#m071fe2ce43\" y=\"228.490009\"/>\n     <use style=\"fill:#1f77b4;fill-opacity:0.2;stroke:#ffffff;stroke-opacity:0.2;stroke-width:0.48;\" x=\"208.147173\" xlink:href=\"#m071fe2ce43\" y=\"173.02207\"/>\n     <use style=\"fill:#1f77b4;fill-opacity:0.2;stroke:#ffffff;stroke-opacity:0.2;stroke-width:0.48;\" x=\"317.751481\" xlink:href=\"#m071fe2ce43\" y=\"68.38321\"/>\n     <use style=\"fill:#1f77b4;fill-opacity:0.2;stroke:#ffffff;stroke-opacity:0.2;stroke-width:0.48;\" x=\"317.751481\" xlink:href=\"#m071fe2ce43\" y=\"174.691596\"/>\n     <use style=\"fill:#1f77b4;fill-opacity:0.2;stroke:#ffffff;stroke-opacity:0.2;stroke-width:0.48;\" x=\"266.973078\" xlink:href=\"#m071fe2ce43\" y=\"171.425907\"/>\n     <use style=\"fill:#1f77b4;fill-opacity:0.2;stroke:#ffffff;stroke-opacity:0.2;stroke-width:0.48;\" x=\"127.384739\" xlink:href=\"#m071fe2ce43\" y=\"171.25187\"/>\n     <use style=\"fill:#1f77b4;fill-opacity:0.2;stroke:#ffffff;stroke-opacity:0.2;stroke-width:0.48;\" x=\"264.192127\" xlink:href=\"#m071fe2ce43\" y=\"190.423329\"/>\n     <use style=\"fill:#1f77b4;fill-opacity:0.2;stroke:#ffffff;stroke-opacity:0.2;stroke-width:0.48;\" x=\"178.990369\" xlink:href=\"#m071fe2ce43\" y=\"179.283369\"/>\n     <use style=\"fill:#1f77b4;fill-opacity:0.2;stroke:#ffffff;stroke-opacity:0.2;stroke-width:0.48;\" x=\"104.028452\" xlink:href=\"#m071fe2ce43\" y=\"273.180919\"/>\n     <use style=\"fill:#1f77b4;fill-opacity:0.2;stroke:#ffffff;stroke-opacity:0.2;stroke-width:0.48;\" x=\"201.901232\" xlink:href=\"#m071fe2ce43\" y=\"222.765445\"/>\n     <use style=\"fill:#1f77b4;fill-opacity:0.2;stroke:#ffffff;stroke-opacity:0.2;stroke-width:0.48;\" x=\"144.473222\" xlink:href=\"#m071fe2ce43\" y=\"169.371778\"/>\n     <use style=\"fill:#1f77b4;fill-opacity:0.2;stroke:#ffffff;stroke-opacity:0.2;stroke-width:0.48;\" x=\"169.31072\" xlink:href=\"#m071fe2ce43\" y=\"159.383606\"/>\n     <use style=\"fill:#1f77b4;fill-opacity:0.2;stroke:#ffffff;stroke-opacity:0.2;stroke-width:0.48;\" x=\"342.689863\" xlink:href=\"#m071fe2ce43\" y=\"66.85888\"/>\n     <use style=\"fill:#1f77b4;fill-opacity:0.2;stroke:#ffffff;stroke-opacity:0.2;stroke-width:0.48;\" x=\"104.028452\" xlink:href=\"#m071fe2ce43\" y=\"274.627499\"/>\n     <use style=\"fill:#1f77b4;fill-opacity:0.2;stroke:#ffffff;stroke-opacity:0.2;stroke-width:0.48;\" x=\"169.31072\" xlink:href=\"#m071fe2ce43\" y=\"224.592863\"/>\n     <use style=\"fill:#1f77b4;fill-opacity:0.2;stroke:#ffffff;stroke-opacity:0.2;stroke-width:0.48;\" x=\"251.946013\" xlink:href=\"#m071fe2ce43\" y=\"186.935252\"/>\n     <use style=\"fill:#1f77b4;fill-opacity:0.2;stroke:#ffffff;stroke-opacity:0.2;stroke-width:0.48;\" x=\"178.990369\" xlink:href=\"#m071fe2ce43\" y=\"228.608244\"/>\n     <use style=\"fill:#1f77b4;fill-opacity:0.2;stroke:#ffffff;stroke-opacity:0.2;stroke-width:0.48;\" x=\"158.031682\" xlink:href=\"#m071fe2ce43\" y=\"295.03709\"/>\n     <use style=\"fill:#1f77b4;fill-opacity:0.2;stroke:#ffffff;stroke-opacity:0.2;stroke-width:0.48;\" x=\"158.031682\" xlink:href=\"#m071fe2ce43\" y=\"146.04153\"/>\n     <use style=\"fill:#1f77b4;fill-opacity:0.2;stroke:#ffffff;stroke-opacity:0.2;stroke-width:0.48;\" x=\"104.028452\" xlink:href=\"#m071fe2ce43\" y=\"240.216362\"/>\n     <use style=\"fill:#1f77b4;fill-opacity:0.2;stroke:#ffffff;stroke-opacity:0.2;stroke-width:0.48;\" x=\"338.25731\" xlink:href=\"#m071fe2ce43\" y=\"139.20239\"/>\n     <use style=\"fill:#1f77b4;fill-opacity:0.2;stroke:#ffffff;stroke-opacity:0.2;stroke-width:0.48;\" x=\"201.901232\" xlink:href=\"#m071fe2ce43\" y=\"255.66193\"/>\n     <use style=\"fill:#1f77b4;fill-opacity:0.2;stroke:#ffffff;stroke-opacity:0.2;stroke-width:0.48;\" x=\"65.995648\" xlink:href=\"#m071fe2ce43\" y=\"270.325147\"/>\n     <use style=\"fill:#1f77b4;fill-opacity:0.2;stroke:#ffffff;stroke-opacity:0.2;stroke-width:0.48;\" x=\"241.27552\" xlink:href=\"#m071fe2ce43\" y=\"119.077962\"/>\n     <use style=\"fill:#1f77b4;fill-opacity:0.2;stroke:#ffffff;stroke-opacity:0.2;stroke-width:0.48;\" x=\"104.028452\" xlink:href=\"#m071fe2ce43\" y=\"292.048099\"/>\n     <use style=\"fill:#1f77b4;fill-opacity:0.2;stroke:#ffffff;stroke-opacity:0.2;stroke-width:0.48;\" x=\"127.384739\" xlink:href=\"#m071fe2ce43\" y=\"193.396644\"/>\n     <use style=\"fill:#1f77b4;fill-opacity:0.2;stroke:#ffffff;stroke-opacity:0.2;stroke-width:0.48;\" x=\"65.995648\" xlink:href=\"#m071fe2ce43\" y=\"199.499844\"/>\n     <use style=\"fill:#1f77b4;fill-opacity:0.2;stroke:#ffffff;stroke-opacity:0.2;stroke-width:0.48;\" x=\"65.995648\" xlink:href=\"#m071fe2ce43\" y=\"240.068658\"/>\n     <use style=\"fill:#1f77b4;fill-opacity:0.2;stroke:#ffffff;stroke-opacity:0.2;stroke-width:0.48;\" x=\"65.995648\" xlink:href=\"#m071fe2ce43\" y=\"202.454204\"/>\n     <use style=\"fill:#1f77b4;fill-opacity:0.2;stroke:#ffffff;stroke-opacity:0.2;stroke-width:0.48;\" x=\"144.473222\" xlink:href=\"#m071fe2ce43\" y=\"280.753964\"/>\n     <use style=\"fill:#1f77b4;fill-opacity:0.2;stroke:#ffffff;stroke-opacity:0.2;stroke-width:0.48;\" x=\"299.987334\" xlink:href=\"#m071fe2ce43\" y=\"144.181605\"/>\n     <use style=\"fill:#1f77b4;fill-opacity:0.2;stroke:#ffffff;stroke-opacity:0.2;stroke-width:0.48;\" x=\"299.987334\" xlink:href=\"#m071fe2ce43\" y=\"79.799494\"/>\n     <use style=\"fill:#1f77b4;fill-opacity:0.2;stroke:#ffffff;stroke-opacity:0.2;stroke-width:0.48;\" x=\"213.895565\" xlink:href=\"#m071fe2ce43\" y=\"92.079466\"/>\n     <use style=\"fill:#1f77b4;fill-opacity:0.2;stroke:#ffffff;stroke-opacity:0.2;stroke-width:0.48;\" x=\"65.995648\" xlink:href=\"#m071fe2ce43\" y=\"229.407577\"/>\n     <use style=\"fill:#1f77b4;fill-opacity:0.2;stroke:#ffffff;stroke-opacity:0.2;stroke-width:0.48;\" x=\"195.057843\" xlink:href=\"#m071fe2ce43\" y=\"200.366034\"/>\n     <use style=\"fill:#1f77b4;fill-opacity:0.2;stroke:#ffffff;stroke-opacity:0.2;stroke-width:0.48;\" x=\"65.995648\" xlink:href=\"#m071fe2ce43\" y=\"255.264258\"/>\n     <use style=\"fill:#1f77b4;fill-opacity:0.2;stroke:#ffffff;stroke-opacity:0.2;stroke-width:0.48;\" x=\"65.995648\" xlink:href=\"#m071fe2ce43\" y=\"277.959874\"/>\n     <use style=\"fill:#1f77b4;fill-opacity:0.2;stroke:#ffffff;stroke-opacity:0.2;stroke-width:0.48;\" x=\"65.995648\" xlink:href=\"#m071fe2ce43\" y=\"181.223862\"/>\n     <use style=\"fill:#1f77b4;fill-opacity:0.2;stroke:#ffffff;stroke-opacity:0.2;stroke-width:0.48;\" x=\"65.995648\" xlink:href=\"#m071fe2ce43\" y=\"282.897399\"/>\n     <use style=\"fill:#1f77b4;fill-opacity:0.2;stroke:#ffffff;stroke-opacity:0.2;stroke-width:0.48;\" x=\"169.31072\" xlink:href=\"#m071fe2ce43\" y=\"189.024864\"/>\n     <use style=\"fill:#1f77b4;fill-opacity:0.2;stroke:#ffffff;stroke-opacity:0.2;stroke-width:0.48;\" x=\"104.028452\" xlink:href=\"#m071fe2ce43\" y=\"233.956529\"/>\n     <use style=\"fill:#1f77b4;fill-opacity:0.2;stroke:#ffffff;stroke-opacity:0.2;stroke-width:0.48;\" x=\"264.192127\" xlink:href=\"#m071fe2ce43\" y=\"149.095225\"/>\n     <use style=\"fill:#1f77b4;fill-opacity:0.2;stroke:#ffffff;stroke-opacity:0.2;stroke-width:0.48;\" x=\"320.606901\" xlink:href=\"#m071fe2ce43\" y=\"87.223932\"/>\n     <use style=\"fill:#1f77b4;fill-opacity:0.2;stroke:#ffffff;stroke-opacity:0.2;stroke-width:0.48;\" x=\"269.658213\" xlink:href=\"#m071fe2ce43\" y=\"185.369923\"/>\n     <use style=\"fill:#1f77b4;fill-opacity:0.2;stroke:#ffffff;stroke-opacity:0.2;stroke-width:0.48;\" x=\"237.355883\" xlink:href=\"#m071fe2ce43\" y=\"252.153097\"/>\n     <use style=\"fill:#1f77b4;fill-opacity:0.2;stroke:#ffffff;stroke-opacity:0.2;stroke-width:0.48;\" x=\"144.473222\" xlink:href=\"#m071fe2ce43\" y=\"143.866961\"/>\n     <use style=\"fill:#1f77b4;fill-opacity:0.2;stroke:#ffffff;stroke-opacity:0.2;stroke-width:0.48;\" x=\"65.995648\" xlink:href=\"#m071fe2ce43\" y=\"299.005963\"/>\n     <use style=\"fill:#1f77b4;fill-opacity:0.2;stroke:#ffffff;stroke-opacity:0.2;stroke-width:0.48;\" x=\"65.995648\" xlink:href=\"#m071fe2ce43\" y=\"280.329439\"/>\n     <use style=\"fill:#1f77b4;fill-opacity:0.2;stroke:#ffffff;stroke-opacity:0.2;stroke-width:0.48;\" x=\"326.039719\" xlink:href=\"#m071fe2ce43\" y=\"83.608734\"/>\n     <use style=\"fill:#1f77b4;fill-opacity:0.2;stroke:#ffffff;stroke-opacity:0.2;stroke-width:0.48;\" x=\"208.147173\" xlink:href=\"#m071fe2ce43\" y=\"178.262415\"/>\n     <use style=\"fill:#1f77b4;fill-opacity:0.2;stroke:#ffffff;stroke-opacity:0.2;stroke-width:0.48;\" x=\"299.987334\" xlink:href=\"#m071fe2ce43\" y=\"206.427891\"/>\n     <use style=\"fill:#1f77b4;fill-opacity:0.2;stroke:#ffffff;stroke-opacity:0.2;stroke-width:0.48;\" x=\"308.541127\" xlink:href=\"#m071fe2ce43\" y=\"231.950025\"/>\n     <use style=\"fill:#1f77b4;fill-opacity:0.2;stroke:#ffffff;stroke-opacity:0.2;stroke-width:0.48;\" x=\"213.895565\" xlink:href=\"#m071fe2ce43\" y=\"232.8028\"/>\n     <use style=\"fill:#1f77b4;fill-opacity:0.2;stroke:#ffffff;stroke-opacity:0.2;stroke-width:0.48;\" x=\"310.149519\" xlink:href=\"#m071fe2ce43\" y=\"75.265324\"/>\n     <use style=\"fill:#1f77b4;fill-opacity:0.2;stroke:#ffffff;stroke-opacity:0.2;stroke-width:0.48;\" x=\"219.2229\" xlink:href=\"#m071fe2ce43\" y=\"177.28733\"/>\n     <use style=\"fill:#1f77b4;fill-opacity:0.2;stroke:#ffffff;stroke-opacity:0.2;stroke-width:0.48;\" x=\"219.2229\" xlink:href=\"#m071fe2ce43\" y=\"163.244808\"/>\n     <use style=\"fill:#1f77b4;fill-opacity:0.2;stroke:#ffffff;stroke-opacity:0.2;stroke-width:0.48;\" x=\"228.841918\" xlink:href=\"#m071fe2ce43\" y=\"217.208311\"/>\n     <use style=\"fill:#1f77b4;fill-opacity:0.2;stroke:#ffffff;stroke-opacity:0.2;stroke-width:0.48;\" x=\"65.995648\" xlink:href=\"#m071fe2ce43\" y=\"207.01436\"/>\n     <use style=\"fill:#1f77b4;fill-opacity:0.2;stroke:#ffffff;stroke-opacity:0.2;stroke-width:0.48;\" x=\"178.990369\" xlink:href=\"#m071fe2ce43\" y=\"214.553129\"/>\n     <use style=\"fill:#1f77b4;fill-opacity:0.2;stroke:#ffffff;stroke-opacity:0.2;stroke-width:0.48;\" x=\"144.473222\" xlink:href=\"#m071fe2ce43\" y=\"265.01363\"/>\n     <use style=\"fill:#1f77b4;fill-opacity:0.2;stroke:#ffffff;stroke-opacity:0.2;stroke-width:0.48;\" x=\"264.192127\" xlink:href=\"#m071fe2ce43\" y=\"125.11412\"/>\n     <use style=\"fill:#1f77b4;fill-opacity:0.2;stroke:#ffffff;stroke-opacity:0.2;stroke-width:0.48;\" x=\"331.141233\" xlink:href=\"#m071fe2ce43\" y=\"99.375352\"/>\n     <use style=\"fill:#1f77b4;fill-opacity:0.2;stroke:#ffffff;stroke-opacity:0.2;stroke-width:0.48;\" x=\"65.995648\" xlink:href=\"#m071fe2ce43\" y=\"291.040484\"/>\n     <use style=\"fill:#1f77b4;fill-opacity:0.2;stroke:#ffffff;stroke-opacity:0.2;stroke-width:0.48;\" x=\"65.995648\" xlink:href=\"#m071fe2ce43\" y=\"253.253918\"/>\n     <use style=\"fill:#1f77b4;fill-opacity:0.2;stroke:#ffffff;stroke-opacity:0.2;stroke-width:0.48;\" x=\"65.995648\" xlink:href=\"#m071fe2ce43\" y=\"242.604333\"/>\n     <use style=\"fill:#1f77b4;fill-opacity:0.2;stroke:#ffffff;stroke-opacity:0.2;stroke-width:0.48;\" x=\"65.995648\" xlink:href=\"#m071fe2ce43\" y=\"277.863896\"/>\n     <use style=\"fill:#1f77b4;fill-opacity:0.2;stroke:#ffffff;stroke-opacity:0.2;stroke-width:0.48;\" x=\"251.946013\" xlink:href=\"#m071fe2ce43\" y=\"163.85103\"/>\n     <use style=\"fill:#1f77b4;fill-opacity:0.2;stroke:#ffffff;stroke-opacity:0.2;stroke-width:0.48;\" x=\"187.482922\" xlink:href=\"#m071fe2ce43\" y=\"129.81393\"/>\n     <use style=\"fill:#1f77b4;fill-opacity:0.2;stroke:#ffffff;stroke-opacity:0.2;stroke-width:0.48;\" x=\"104.028452\" xlink:href=\"#m071fe2ce43\" y=\"173.94842\"/>\n     <use style=\"fill:#1f77b4;fill-opacity:0.2;stroke:#ffffff;stroke-opacity:0.2;stroke-width:0.48;\" x=\"104.028452\" xlink:href=\"#m071fe2ce43\" y=\"187.687049\"/>\n     <use style=\"fill:#1f77b4;fill-opacity:0.2;stroke:#ffffff;stroke-opacity:0.2;stroke-width:0.48;\" x=\"65.995648\" xlink:href=\"#m071fe2ce43\" y=\"156.153763\"/>\n     <use style=\"fill:#1f77b4;fill-opacity:0.2;stroke:#ffffff;stroke-opacity:0.2;stroke-width:0.48;\" x=\"314.794167\" xlink:href=\"#m071fe2ce43\" y=\"259.653932\"/>\n     <use style=\"fill:#1f77b4;fill-opacity:0.2;stroke:#ffffff;stroke-opacity:0.2;stroke-width:0.48;\" x=\"65.995648\" xlink:href=\"#m071fe2ce43\" y=\"286.456115\"/>\n     <use style=\"fill:#1f77b4;fill-opacity:0.2;stroke:#ffffff;stroke-opacity:0.2;stroke-width:0.48;\" x=\"241.27552\" xlink:href=\"#m071fe2ce43\" y=\"189.631086\"/>\n     <use style=\"fill:#1f77b4;fill-opacity:0.2;stroke:#ffffff;stroke-opacity:0.2;stroke-width:0.48;\" x=\"65.995648\" xlink:href=\"#m071fe2ce43\" y=\"179.283369\"/>\n     <use style=\"fill:#1f77b4;fill-opacity:0.2;stroke:#ffffff;stroke-opacity:0.2;stroke-width:0.48;\" x=\"233.220213\" xlink:href=\"#m071fe2ce43\" y=\"166.474303\"/>\n     <use style=\"fill:#1f77b4;fill-opacity:0.2;stroke:#ffffff;stroke-opacity:0.2;stroke-width:0.48;\" x=\"251.946013\" xlink:href=\"#m071fe2ce43\" y=\"146.687988\"/>\n     <use style=\"fill:#1f77b4;fill-opacity:0.2;stroke:#ffffff;stroke-opacity:0.2;stroke-width:0.48;\" x=\"316.286036\" xlink:href=\"#m071fe2ce43\" y=\"160.245526\"/>\n     <use style=\"fill:#1f77b4;fill-opacity:0.2;stroke:#ffffff;stroke-opacity:0.2;stroke-width:0.48;\" x=\"248.552904\" xlink:href=\"#m071fe2ce43\" y=\"216.323711\"/>\n     <use style=\"fill:#1f77b4;fill-opacity:0.2;stroke:#ffffff;stroke-opacity:0.2;stroke-width:0.48;\" x=\"326.039719\" xlink:href=\"#m071fe2ce43\" y=\"116.957032\"/>\n     <use style=\"fill:#1f77b4;fill-opacity:0.2;stroke:#ffffff;stroke-opacity:0.2;stroke-width:0.48;\" x=\"219.2229\" xlink:href=\"#m071fe2ce43\" y=\"207.521307\"/>\n     <use style=\"fill:#1f77b4;fill-opacity:0.2;stroke:#ffffff;stroke-opacity:0.2;stroke-width:0.48;\" x=\"224.189079\" xlink:href=\"#m071fe2ce43\" y=\"191.202171\"/>\n     <use style=\"fill:#1f77b4;fill-opacity:0.2;stroke:#ffffff;stroke-opacity:0.2;stroke-width:0.48;\" x=\"65.995648\" xlink:href=\"#m071fe2ce43\" y=\"304.220296\"/>\n     <use style=\"fill:#1f77b4;fill-opacity:0.2;stroke:#ffffff;stroke-opacity:0.2;stroke-width:0.48;\" x=\"316.286036\" xlink:href=\"#m071fe2ce43\" y=\"157.55481\"/>\n     <use style=\"fill:#1f77b4;fill-opacity:0.2;stroke:#ffffff;stroke-opacity:0.2;stroke-width:0.48;\" x=\"65.995648\" xlink:href=\"#m071fe2ce43\" y=\"274.627499\"/>\n     <use style=\"fill:#1f77b4;fill-opacity:0.2;stroke:#ffffff;stroke-opacity:0.2;stroke-width:0.48;\" x=\"104.028452\" xlink:href=\"#m071fe2ce43\" y=\"215.922512\"/>\n     <use style=\"fill:#1f77b4;fill-opacity:0.2;stroke:#ffffff;stroke-opacity:0.2;stroke-width:0.48;\" x=\"178.990369\" xlink:href=\"#m071fe2ce43\" y=\"229.407577\"/>\n     <use style=\"fill:#1f77b4;fill-opacity:0.2;stroke:#ffffff;stroke-opacity:0.2;stroke-width:0.48;\" x=\"187.482922\" xlink:href=\"#m071fe2ce43\" y=\"87.223932\"/>\n     <use style=\"fill:#1f77b4;fill-opacity:0.2;stroke:#ffffff;stroke-opacity:0.2;stroke-width:0.48;\" x=\"144.473222\" xlink:href=\"#m071fe2ce43\" y=\"302.163844\"/>\n     <use style=\"fill:#1f77b4;fill-opacity:0.2;stroke:#ffffff;stroke-opacity:0.2;stroke-width:0.48;\" x=\"338.25731\" xlink:href=\"#m071fe2ce43\" y=\"64.632743\"/>\n     <use style=\"fill:#1f77b4;fill-opacity:0.2;stroke:#ffffff;stroke-opacity:0.2;stroke-width:0.48;\" x=\"104.028452\" xlink:href=\"#m071fe2ce43\" y=\"293.347391\"/>\n     <use style=\"fill:#1f77b4;fill-opacity:0.2;stroke:#ffffff;stroke-opacity:0.2;stroke-width:0.48;\" x=\"65.995648\" xlink:href=\"#m071fe2ce43\" y=\"319.531843\"/>\n     <use style=\"fill:#1f77b4;fill-opacity:0.2;stroke:#ffffff;stroke-opacity:0.2;stroke-width:0.48;\" x=\"251.946013\" xlink:href=\"#m071fe2ce43\" y=\"216.904623\"/>\n     <use style=\"fill:#1f77b4;fill-opacity:0.2;stroke:#ffffff;stroke-opacity:0.2;stroke-width:0.48;\" x=\"127.384739\" xlink:href=\"#m071fe2ce43\" y=\"211.119425\"/>\n     <use style=\"fill:#1f77b4;fill-opacity:0.2;stroke:#ffffff;stroke-opacity:0.2;stroke-width:0.48;\" x=\"237.355883\" xlink:href=\"#m071fe2ce43\" y=\"257.84631\"/>\n     <use style=\"fill:#1f77b4;fill-opacity:0.2;stroke:#ffffff;stroke-opacity:0.2;stroke-width:0.48;\" x=\"339.38729\" xlink:href=\"#m071fe2ce43\" y=\"155.934596\"/>\n     <use style=\"fill:#1f77b4;fill-opacity:0.2;stroke:#ffffff;stroke-opacity:0.2;stroke-width:0.48;\" x=\"195.057843\" xlink:href=\"#m071fe2ce43\" y=\"264.915262\"/>\n     <use style=\"fill:#1f77b4;fill-opacity:0.2;stroke:#ffffff;stroke-opacity:0.2;stroke-width:0.48;\" x=\"292.429779\" xlink:href=\"#m071fe2ce43\" y=\"106.245893\"/>\n     <use style=\"fill:#1f77b4;fill-opacity:0.2;stroke:#ffffff;stroke-opacity:0.2;stroke-width:0.48;\" x=\"208.147173\" xlink:href=\"#m071fe2ce43\" y=\"196.068144\"/>\n     <use style=\"fill:#1f77b4;fill-opacity:0.2;stroke:#ffffff;stroke-opacity:0.2;stroke-width:0.48;\" x=\"228.841918\" xlink:href=\"#m071fe2ce43\" y=\"164.713243\"/>\n     <use style=\"fill:#1f77b4;fill-opacity:0.2;stroke:#ffffff;stroke-opacity:0.2;stroke-width:0.48;\" x=\"269.658213\" xlink:href=\"#m071fe2ce43\" y=\"211.482215\"/>\n     <use style=\"fill:#1f77b4;fill-opacity:0.2;stroke:#ffffff;stroke-opacity:0.2;stroke-width:0.48;\" x=\"144.473222\" xlink:href=\"#m071fe2ce43\" y=\"249.965675\"/>\n     <use style=\"fill:#1f77b4;fill-opacity:0.2;stroke:#ffffff;stroke-opacity:0.2;stroke-width:0.48;\" x=\"127.384739\" xlink:href=\"#m071fe2ce43\" y=\"286.456115\"/>\n     <use style=\"fill:#1f77b4;fill-opacity:0.2;stroke:#ffffff;stroke-opacity:0.2;stroke-width:0.48;\" x=\"65.995648\" xlink:href=\"#m071fe2ce43\" y=\"280.264385\"/>\n     <use style=\"fill:#1f77b4;fill-opacity:0.2;stroke:#ffffff;stroke-opacity:0.2;stroke-width:0.48;\" x=\"298.163135\" xlink:href=\"#m071fe2ce43\" y=\"162.181788\"/>\n     <use style=\"fill:#1f77b4;fill-opacity:0.2;stroke:#ffffff;stroke-opacity:0.2;stroke-width:0.48;\" x=\"308.541127\" xlink:href=\"#m071fe2ce43\" y=\"223.039205\"/>\n     <use style=\"fill:#1f77b4;fill-opacity:0.2;stroke:#ffffff;stroke-opacity:0.2;stroke-width:0.48;\" x=\"261.307895\" xlink:href=\"#m071fe2ce43\" y=\"146.460244\"/>\n     <use style=\"fill:#1f77b4;fill-opacity:0.2;stroke:#ffffff;stroke-opacity:0.2;stroke-width:0.48;\" x=\"187.482922\" xlink:href=\"#m071fe2ce43\" y=\"249.965675\"/>\n     <use style=\"fill:#1f77b4;fill-opacity:0.2;stroke:#ffffff;stroke-opacity:0.2;stroke-width:0.48;\" x=\"298.163135\" xlink:href=\"#m071fe2ce43\" y=\"136.614003\"/>\n     <use style=\"fill:#1f77b4;fill-opacity:0.2;stroke:#ffffff;stroke-opacity:0.2;stroke-width:0.48;\" x=\"255.19495\" xlink:href=\"#m071fe2ce43\" y=\"181.814411\"/>\n     <use style=\"fill:#1f77b4;fill-opacity:0.2;stroke:#ffffff;stroke-opacity:0.2;stroke-width:0.48;\" x=\"144.473222\" xlink:href=\"#m071fe2ce43\" y=\"143.391799\"/>\n     <use style=\"fill:#1f77b4;fill-opacity:0.2;stroke:#ffffff;stroke-opacity:0.2;stroke-width:0.48;\" x=\"279.564319\" xlink:href=\"#m071fe2ce43\" y=\"161.2566\"/>\n     <use style=\"fill:#1f77b4;fill-opacity:0.2;stroke:#ffffff;stroke-opacity:0.2;stroke-width:0.48;\" x=\"65.995648\" xlink:href=\"#m071fe2ce43\" y=\"266.418025\"/>\n     <use style=\"fill:#1f77b4;fill-opacity:0.2;stroke:#ffffff;stroke-opacity:0.2;stroke-width:0.48;\" x=\"178.990369\" xlink:href=\"#m071fe2ce43\" y=\"179.488533\"/>\n     <use style=\"fill:#1f77b4;fill-opacity:0.2;stroke:#ffffff;stroke-opacity:0.2;stroke-width:0.48;\" x=\"248.552904\" xlink:href=\"#m071fe2ce43\" y=\"141.982896\"/>\n     <use style=\"fill:#1f77b4;fill-opacity:0.2;stroke:#ffffff;stroke-opacity:0.2;stroke-width:0.48;\" x=\"258.311993\" xlink:href=\"#m071fe2ce43\" y=\"127.245226\"/>\n     <use style=\"fill:#1f77b4;fill-opacity:0.2;stroke:#ffffff;stroke-opacity:0.2;stroke-width:0.48;\" x=\"127.384739\" xlink:href=\"#m071fe2ce43\" y=\"244.357536\"/>\n     <use style=\"fill:#1f77b4;fill-opacity:0.2;stroke:#ffffff;stroke-opacity:0.2;stroke-width:0.48;\" x=\"320.606901\" xlink:href=\"#m071fe2ce43\" y=\"197.604855\"/>\n     <use style=\"fill:#1f77b4;fill-opacity:0.2;stroke:#ffffff;stroke-opacity:0.2;stroke-width:0.48;\" x=\"251.946013\" xlink:href=\"#m071fe2ce43\" y=\"119.670444\"/>\n     <use style=\"fill:#1f77b4;fill-opacity:0.2;stroke:#ffffff;stroke-opacity:0.2;stroke-width:0.48;\" x=\"127.384739\" xlink:href=\"#m071fe2ce43\" y=\"184.585726\"/>\n     <use style=\"fill:#1f77b4;fill-opacity:0.2;stroke:#ffffff;stroke-opacity:0.2;stroke-width:0.48;\" x=\"65.995648\" xlink:href=\"#m071fe2ce43\" y=\"240.162979\"/>\n     <use style=\"fill:#1f77b4;fill-opacity:0.2;stroke:#ffffff;stroke-opacity:0.2;stroke-width:0.48;\" x=\"329.894611\" xlink:href=\"#m071fe2ce43\" y=\"88.893895\"/>\n     <use style=\"fill:#1f77b4;fill-opacity:0.2;stroke:#ffffff;stroke-opacity:0.2;stroke-width:0.48;\" x=\"178.990369\" xlink:href=\"#m071fe2ce43\" y=\"204.579377\"/>\n     <use style=\"fill:#1f77b4;fill-opacity:0.2;stroke:#ffffff;stroke-opacity:0.2;stroke-width:0.48;\" x=\"178.990369\" xlink:href=\"#m071fe2ce43\" y=\"201.994894\"/>\n     <use style=\"fill:#1f77b4;fill-opacity:0.2;stroke:#ffffff;stroke-opacity:0.2;stroke-width:0.48;\" x=\"65.995648\" xlink:href=\"#m071fe2ce43\" y=\"302.163844\"/>\n     <use style=\"fill:#1f77b4;fill-opacity:0.2;stroke:#ffffff;stroke-opacity:0.2;stroke-width:0.48;\" x=\"251.946013\" xlink:href=\"#m071fe2ce43\" y=\"161.501531\"/>\n     <use style=\"fill:#1f77b4;fill-opacity:0.2;stroke:#ffffff;stroke-opacity:0.2;stroke-width:0.48;\" x=\"310.149519\" xlink:href=\"#m071fe2ce43\" y=\"154.329993\"/>\n     <use style=\"fill:#1f77b4;fill-opacity:0.2;stroke:#ffffff;stroke-opacity:0.2;stroke-width:0.48;\" x=\"228.841918\" xlink:href=\"#m071fe2ce43\" y=\"177.680942\"/>\n     <use style=\"fill:#1f77b4;fill-opacity:0.2;stroke:#ffffff;stroke-opacity:0.2;stroke-width:0.48;\" x=\"255.19495\" xlink:href=\"#m071fe2ce43\" y=\"125.159365\"/>\n     <use style=\"fill:#1f77b4;fill-opacity:0.2;stroke:#ffffff;stroke-opacity:0.2;stroke-width:0.48;\" x=\"237.355883\" xlink:href=\"#m071fe2ce43\" y=\"222.930314\"/>\n     <use style=\"fill:#1f77b4;fill-opacity:0.2;stroke:#ffffff;stroke-opacity:0.2;stroke-width:0.48;\" x=\"104.028452\" xlink:href=\"#m071fe2ce43\" y=\"257.84631\"/>\n     <use style=\"fill:#1f77b4;fill-opacity:0.2;stroke:#ffffff;stroke-opacity:0.2;stroke-width:0.48;\" x=\"337.112085\" xlink:href=\"#m071fe2ce43\" y=\"145.879933\"/>\n     <use style=\"fill:#1f77b4;fill-opacity:0.2;stroke:#ffffff;stroke-opacity:0.2;stroke-width:0.48;\" x=\"187.482922\" xlink:href=\"#m071fe2ce43\" y=\"242.674885\"/>\n     <use style=\"fill:#1f77b4;fill-opacity:0.2;stroke:#ffffff;stroke-opacity:0.2;stroke-width:0.48;\" x=\"228.841918\" xlink:href=\"#m071fe2ce43\" y=\"141.943271\"/>\n     <use style=\"fill:#1f77b4;fill-opacity:0.2;stroke:#ffffff;stroke-opacity:0.2;stroke-width:0.48;\" x=\"187.482922\" xlink:href=\"#m071fe2ce43\" y=\"207.403165\"/>\n     <use style=\"fill:#1f77b4;fill-opacity:0.2;stroke:#ffffff;stroke-opacity:0.2;stroke-width:0.48;\" x=\"281.858074\" xlink:href=\"#m071fe2ce43\" y=\"158.175952\"/>\n     <use style=\"fill:#1f77b4;fill-opacity:0.2;stroke:#ffffff;stroke-opacity:0.2;stroke-width:0.48;\" x=\"323.367524\" xlink:href=\"#m071fe2ce43\" y=\"247.918354\"/>\n     <use style=\"fill:#1f77b4;fill-opacity:0.2;stroke:#ffffff;stroke-opacity:0.2;stroke-width:0.48;\" x=\"65.995648\" xlink:href=\"#m071fe2ce43\" y=\"316.517558\"/>\n     <use style=\"fill:#1f77b4;fill-opacity:0.2;stroke:#ffffff;stroke-opacity:0.2;stroke-width:0.48;\" x=\"208.147173\" xlink:href=\"#m071fe2ce43\" y=\"272.677947\"/>\n     <use style=\"fill:#1f77b4;fill-opacity:0.2;stroke:#ffffff;stroke-opacity:0.2;stroke-width:0.48;\" x=\"286.256021\" xlink:href=\"#m071fe2ce43\" y=\"156.792059\"/>\n     <use style=\"fill:#1f77b4;fill-opacity:0.2;stroke:#ffffff;stroke-opacity:0.2;stroke-width:0.48;\" x=\"251.946013\" xlink:href=\"#m071fe2ce43\" y=\"90.017054\"/>\n     <use style=\"fill:#1f77b4;fill-opacity:0.2;stroke:#ffffff;stroke-opacity:0.2;stroke-width:0.48;\" x=\"65.995648\" xlink:href=\"#m071fe2ce43\" y=\"237.021463\"/>\n     <use style=\"fill:#1f77b4;fill-opacity:0.2;stroke:#ffffff;stroke-opacity:0.2;stroke-width:0.48;\" x=\"195.057843\" xlink:href=\"#m071fe2ce43\" y=\"239.790413\"/>\n     <use style=\"fill:#1f77b4;fill-opacity:0.2;stroke:#ffffff;stroke-opacity:0.2;stroke-width:0.48;\" x=\"65.995648\" xlink:href=\"#m071fe2ce43\" y=\"247.798274\"/>\n     <use style=\"fill:#1f77b4;fill-opacity:0.2;stroke:#ffffff;stroke-opacity:0.2;stroke-width:0.48;\" x=\"65.995648\" xlink:href=\"#m071fe2ce43\" y=\"277.959874\"/>\n     <use style=\"fill:#1f77b4;fill-opacity:0.2;stroke:#ffffff;stroke-opacity:0.2;stroke-width:0.48;\" x=\"219.2229\" xlink:href=\"#m071fe2ce43\" y=\"202.725634\"/>\n     <use style=\"fill:#1f77b4;fill-opacity:0.2;stroke:#ffffff;stroke-opacity:0.2;stroke-width:0.48;\" x=\"272.254203\" xlink:href=\"#m071fe2ce43\" y=\"123.893094\"/>\n     <use style=\"fill:#1f77b4;fill-opacity:0.2;stroke:#ffffff;stroke-opacity:0.2;stroke-width:0.48;\" x=\"65.995648\" xlink:href=\"#m071fe2ce43\" y=\"257.797618\"/>\n     <use style=\"fill:#1f77b4;fill-opacity:0.2;stroke:#ffffff;stroke-opacity:0.2;stroke-width:0.48;\" x=\"258.311993\" xlink:href=\"#m071fe2ce43\" y=\"178.989296\"/>\n     <use style=\"fill:#1f77b4;fill-opacity:0.2;stroke:#ffffff;stroke-opacity:0.2;stroke-width:0.48;\" x=\"158.031682\" xlink:href=\"#m071fe2ce43\" y=\"176.319481\"/>\n     <use style=\"fill:#1f77b4;fill-opacity:0.2;stroke:#ffffff;stroke-opacity:0.2;stroke-width:0.48;\" x=\"326.039719\" xlink:href=\"#m071fe2ce43\" y=\"113.362605\"/>\n     <use style=\"fill:#1f77b4;fill-opacity:0.2;stroke:#ffffff;stroke-opacity:0.2;stroke-width:0.48;\" x=\"279.564319\" xlink:href=\"#m071fe2ce43\" y=\"236.90567\"/>\n     <use style=\"fill:#1f77b4;fill-opacity:0.2;stroke:#ffffff;stroke-opacity:0.2;stroke-width:0.48;\" x=\"158.031682\" xlink:href=\"#m071fe2ce43\" y=\"221.650059\"/>\n     <use style=\"fill:#1f77b4;fill-opacity:0.2;stroke:#ffffff;stroke-opacity:0.2;stroke-width:0.48;\" x=\"127.384739\" xlink:href=\"#m071fe2ce43\" y=\"182.824665\"/>\n     <use style=\"fill:#1f77b4;fill-opacity:0.2;stroke:#ffffff;stroke-opacity:0.2;stroke-width:0.48;\" x=\"303.517225\" xlink:href=\"#m071fe2ce43\" y=\"118.593907\"/>\n     <use style=\"fill:#1f77b4;fill-opacity:0.2;stroke:#ffffff;stroke-opacity:0.2;stroke-width:0.48;\" x=\"65.995648\" xlink:href=\"#m071fe2ce43\" y=\"276.019596\"/>\n     <use style=\"fill:#1f77b4;fill-opacity:0.2;stroke:#ffffff;stroke-opacity:0.2;stroke-width:0.48;\" x=\"65.995648\" xlink:href=\"#m071fe2ce43\" y=\"249.965675\"/>\n     <use style=\"fill:#1f77b4;fill-opacity:0.2;stroke:#ffffff;stroke-opacity:0.2;stroke-width:0.48;\" x=\"65.995648\" xlink:href=\"#m071fe2ce43\" y=\"239.919082\"/>\n     <use style=\"fill:#1f77b4;fill-opacity:0.2;stroke:#ffffff;stroke-opacity:0.2;stroke-width:0.48;\" x=\"208.147173\" xlink:href=\"#m071fe2ce43\" y=\"181.691361\"/>\n     <use style=\"fill:#1f77b4;fill-opacity:0.2;stroke:#ffffff;stroke-opacity:0.2;stroke-width:0.48;\" x=\"65.995648\" xlink:href=\"#m071fe2ce43\" y=\"294.371121\"/>\n     <use style=\"fill:#1f77b4;fill-opacity:0.2;stroke:#ffffff;stroke-opacity:0.2;stroke-width:0.48;\" x=\"233.220213\" xlink:href=\"#m071fe2ce43\" y=\"116.442741\"/>\n     <use style=\"fill:#1f77b4;fill-opacity:0.2;stroke:#ffffff;stroke-opacity:0.2;stroke-width:0.48;\" x=\"178.990369\" xlink:href=\"#m071fe2ce43\" y=\"273.538297\"/>\n     <use style=\"fill:#1f77b4;fill-opacity:0.2;stroke:#ffffff;stroke-opacity:0.2;stroke-width:0.48;\" x=\"195.057843\" xlink:href=\"#m071fe2ce43\" y=\"232.441328\"/>\n     <use style=\"fill:#1f77b4;fill-opacity:0.2;stroke:#ffffff;stroke-opacity:0.2;stroke-width:0.48;\" x=\"334.774124\" xlink:href=\"#m071fe2ce43\" y=\"62.640474\"/>\n     <use style=\"fill:#1f77b4;fill-opacity:0.2;stroke:#ffffff;stroke-opacity:0.2;stroke-width:0.48;\" x=\"65.995648\" xlink:href=\"#m071fe2ce43\" y=\"302.163844\"/>\n     <use style=\"fill:#1f77b4;fill-opacity:0.2;stroke:#ffffff;stroke-opacity:0.2;stroke-width:0.48;\" x=\"298.163135\" xlink:href=\"#m071fe2ce43\" y=\"177.077421\"/>\n     <use style=\"fill:#1f77b4;fill-opacity:0.2;stroke:#ffffff;stroke-opacity:0.2;stroke-width:0.48;\" x=\"258.311993\" xlink:href=\"#m071fe2ce43\" y=\"197.265194\"/>\n     <use style=\"fill:#1f77b4;fill-opacity:0.2;stroke:#ffffff;stroke-opacity:0.2;stroke-width:0.48;\" x=\"335.951175\" xlink:href=\"#m071fe2ce43\" y=\"75.265324\"/>\n     <use style=\"fill:#1f77b4;fill-opacity:0.2;stroke:#ffffff;stroke-opacity:0.2;stroke-width:0.48;\" x=\"169.31072\" xlink:href=\"#m071fe2ce43\" y=\"152.268498\"/>\n     <use style=\"fill:#1f77b4;fill-opacity:0.2;stroke:#ffffff;stroke-opacity:0.2;stroke-width:0.48;\" x=\"158.031682\" xlink:href=\"#m071fe2ce43\" y=\"209.613408\"/>\n     <use style=\"fill:#1f77b4;fill-opacity:0.2;stroke:#ffffff;stroke-opacity:0.2;stroke-width:0.48;\" x=\"228.841918\" xlink:href=\"#m071fe2ce43\" y=\"212.313588\"/>\n     <use style=\"fill:#1f77b4;fill-opacity:0.2;stroke:#ffffff;stroke-opacity:0.2;stroke-width:0.48;\" x=\"195.057843\" xlink:href=\"#m071fe2ce43\" y=\"160.245526\"/>\n     <use style=\"fill:#1f77b4;fill-opacity:0.2;stroke:#ffffff;stroke-opacity:0.2;stroke-width:0.48;\" x=\"187.482922\" xlink:href=\"#m071fe2ce43\" y=\"261.840335\"/>\n     <use style=\"fill:#1f77b4;fill-opacity:0.2;stroke:#ffffff;stroke-opacity:0.2;stroke-width:0.48;\" x=\"228.841918\" xlink:href=\"#m071fe2ce43\" y=\"207.840551\"/>\n     <use style=\"fill:#1f77b4;fill-opacity:0.2;stroke:#ffffff;stroke-opacity:0.2;stroke-width:0.48;\" x=\"65.995648\" xlink:href=\"#m071fe2ce43\" y=\"230.791753\"/>\n     <use style=\"fill:#1f77b4;fill-opacity:0.2;stroke:#ffffff;stroke-opacity:0.2;stroke-width:0.48;\" x=\"292.429779\" xlink:href=\"#m071fe2ce43\" y=\"108.280908\"/>\n     <use style=\"fill:#1f77b4;fill-opacity:0.2;stroke:#ffffff;stroke-opacity:0.2;stroke-width:0.48;\" x=\"178.990369\" xlink:href=\"#m071fe2ce43\" y=\"145.693255\"/>\n    </g>\n   </g>\n   <g id=\"PolyCollection_1\">\n    <defs>\n     <path d=\"M 65.995648 -52.381705 \nL 65.995648 -52.381705 \nL 104.028452 -93.138148 \nL 127.384739 -118.167047 \nL 144.473222 -136.479286 \nL 158.031682 -151.008705 \nL 169.31072 -163.095469 \nL 178.990369 -173.468305 \nL 187.482922 -182.569034 \nL 195.057843 -190.686417 \nL 201.901232 -198.019882 \nL 208.147173 -204.713112 \nL 213.895565 -210.873164 \nL 219.2229 -216.582004 \nL 224.189079 -221.903826 \nL 228.841918 -226.889869 \nL 233.220213 -231.581706 \nL 237.355883 -236.013544 \nL 241.27552 -240.213877 \nL 245.001515 -244.206701 \nL 248.552904 -248.012416 \nL 251.946013 -251.648515 \nL 255.19495 -255.130118 \nL 258.311993 -258.470382 \nL 261.307895 -261.680828 \nL 264.192127 -264.771609 \nL 266.973078 -267.751712 \nL 269.658213 -270.629137 \nL 272.254203 -273.411033 \nL 274.767038 -276.10382 \nL 277.202116 -278.713281 \nL 279.564319 -281.244647 \nL 281.858074 -283.702665 \nL 284.087414 -286.091655 \nL 286.256021 -288.415562 \nL 288.367263 -290.677996 \nL 290.424234 -292.882273 \nL 292.429779 -295.031441 \nL 294.386524 -297.128314 \nL 296.296893 -299.17549 \nL 298.163135 -301.175379 \nL 299.987334 -303.130214 \nL 301.771429 -305.042073 \nL 303.517225 -306.912891 \nL 305.226407 -308.744472 \nL 306.90055 -310.538506 \nL 308.541127 -312.296569 \nL 310.149519 -314.020143 \nL 311.727023 -315.710616 \nL 313.274857 -317.369295 \nL 314.794167 -318.997408 \nL 316.286036 -320.596113 \nL 317.751481 -322.166503 \nL 319.191466 -323.70961 \nL 320.606901 -325.226409 \nL 321.998648 -326.717823 \nL 323.367524 -328.184728 \nL 324.714302 -329.627953 \nL 326.039719 -331.048286 \nL 327.344471 -332.446476 \nL 328.629225 -333.823234 \nL 329.894611 -335.179238 \nL 331.141233 -336.515135 \nL 332.369665 -337.831538 \nL 333.580454 -339.129035 \nL 334.774124 -340.408187 \nL 335.951175 -341.66953 \nL 337.112085 -342.913576 \nL 338.25731 -344.140815 \nL 339.38729 -345.351715 \nL 340.502443 -346.546728 \nL 341.603172 -347.726284 \nL 342.689863 -348.890795 \nL 342.689863 -348.890795 \nL 342.689863 -348.890795 \nL 341.603172 -347.726284 \nL 340.502443 -346.546728 \nL 339.38729 -345.351715 \nL 338.25731 -344.140815 \nL 337.112085 -342.913576 \nL 335.951175 -341.66953 \nL 334.774124 -340.408187 \nL 333.580454 -339.129035 \nL 332.369665 -337.831538 \nL 331.141233 -336.515135 \nL 329.894611 -335.179238 \nL 328.629225 -333.823234 \nL 327.344471 -332.446476 \nL 326.039719 -331.048286 \nL 324.714302 -329.627953 \nL 323.367524 -328.184728 \nL 321.998648 -326.717823 \nL 320.606901 -325.226409 \nL 319.191466 -323.70961 \nL 317.751481 -322.166503 \nL 316.286036 -320.596113 \nL 314.794167 -318.997408 \nL 313.274857 -317.369295 \nL 311.727023 -315.710616 \nL 310.149519 -314.020143 \nL 308.541127 -312.296569 \nL 306.90055 -310.538506 \nL 305.226407 -308.744472 \nL 303.517225 -306.912891 \nL 301.771429 -305.042073 \nL 299.987334 -303.130214 \nL 298.163135 -301.175379 \nL 296.296893 -299.17549 \nL 294.386524 -297.128314 \nL 292.429779 -295.031441 \nL 290.424234 -292.882273 \nL 288.367263 -290.677996 \nL 286.256021 -288.415562 \nL 284.087414 -286.091655 \nL 281.858074 -283.702665 \nL 279.564319 -281.244647 \nL 277.202116 -278.713281 \nL 274.767038 -276.10382 \nL 272.254203 -273.411033 \nL 269.658213 -270.629137 \nL 266.973078 -267.751712 \nL 264.192127 -264.771609 \nL 261.307895 -261.680828 \nL 258.311993 -258.470382 \nL 255.19495 -255.130118 \nL 251.946013 -251.648515 \nL 248.552904 -248.012416 \nL 245.001515 -244.206701 \nL 241.27552 -240.213877 \nL 237.355883 -236.013544 \nL 233.220213 -231.581706 \nL 228.841918 -226.889869 \nL 224.189079 -221.903826 \nL 219.2229 -216.582004 \nL 213.895565 -210.873164 \nL 208.147173 -204.713112 \nL 201.901232 -198.019882 \nL 195.057843 -190.686417 \nL 187.482922 -182.569034 \nL 178.990369 -173.468305 \nL 169.31072 -163.095469 \nL 158.031682 -151.008705 \nL 144.473222 -136.479286 \nL 127.384739 -118.167047 \nL 104.028452 -93.138148 \nL 65.995648 -52.381705 \nz\n\" id=\"m39a73454f7\" style=\"stroke:#ff0000;stroke-opacity:0.2;\"/>\n    </defs>\n    <g clip-path=\"url(#pba74d6571b)\">\n     <use style=\"fill:#ff0000;fill-opacity:0.2;stroke:#ff0000;stroke-opacity:0.2;\" x=\"0\" xlink:href=\"#m39a73454f7\" y=\"386.034375\"/>\n    </g>\n   </g>\n   <g id=\"line2d_15\">\n    <path clip-path=\"url(#pba74d6571b)\" d=\"M 65.995648 333.65267 \nL 104.028452 292.896227 \nL 127.384739 267.867328 \nL 144.473222 249.555089 \nL 158.031682 235.02567 \nL 169.31072 222.938906 \nL 178.990369 212.56607 \nL 187.482922 203.465341 \nL 195.057843 195.347958 \nL 201.901232 188.014493 \nL 208.147173 181.321263 \nL 213.895565 175.161211 \nL 219.2229 169.452371 \nL 224.189079 164.130549 \nL 228.841918 159.144506 \nL 233.220213 154.452669 \nL 237.355883 150.020831 \nL 241.27552 145.820498 \nL 245.001515 141.827674 \nL 248.552904 138.021959 \nL 251.946013 134.38586 \nL 255.19495 130.904257 \nL 258.311993 127.563993 \nL 261.307895 124.353547 \nL 264.192127 121.262766 \nL 266.973078 118.282663 \nL 269.658213 115.405238 \nL 272.254203 112.623342 \nL 274.767038 109.930555 \nL 277.202116 107.321094 \nL 279.564319 104.789728 \nL 281.858074 102.33171 \nL 284.087414 99.94272 \nL 286.256021 97.618813 \nL 288.367263 95.356379 \nL 290.424234 93.152102 \nL 292.429779 91.002934 \nL 294.386524 88.906061 \nL 296.296893 86.858885 \nL 298.163135 84.858996 \nL 299.987334 82.904161 \nL 301.771429 80.992302 \nL 303.517225 79.121484 \nL 305.226407 77.289903 \nL 306.90055 75.495869 \nL 308.541127 73.737806 \nL 310.149519 72.014232 \nL 311.727023 70.323759 \nL 313.274857 68.66508 \nL 314.794167 67.036967 \nL 316.286036 65.438262 \nL 317.751481 63.867872 \nL 319.191466 62.324765 \nL 320.606901 60.807966 \nL 321.998648 59.316552 \nL 323.367524 57.849647 \nL 324.714302 56.406422 \nL 326.039719 54.986089 \nL 327.344471 53.587899 \nL 328.629225 52.211141 \nL 329.894611 50.855137 \nL 331.141233 49.51924 \nL 332.369665 48.202837 \nL 333.580454 46.90534 \nL 334.774124 45.626188 \nL 335.951175 44.364845 \nL 337.112085 43.120799 \nL 338.25731 41.89356 \nL 339.38729 40.68266 \nL 340.502443 39.487647 \nL 341.603172 38.308091 \nL 342.689863 37.14358 \n\" style=\"fill:none;stroke:#ff0000;stroke-linecap:round;stroke-width:1.5;\"/>\n   </g>\n   <g id=\"patch_3\">\n    <path d=\"M 52.160938 348.478125 \nL 52.160938 22.318125 \n\" style=\"fill:none;stroke:#cccccc;stroke-linecap:square;stroke-linejoin:miter;stroke-width:0.8;\"/>\n   </g>\n   <g id=\"patch_4\">\n    <path d=\"M 356.524574 348.478125 \nL 356.524574 22.318125 \n\" style=\"fill:none;stroke:#cccccc;stroke-linecap:square;stroke-linejoin:miter;stroke-width:0.8;\"/>\n   </g>\n   <g id=\"patch_5\">\n    <path d=\"M 52.160938 348.478125 \nL 356.524574 348.478125 \n\" style=\"fill:none;stroke:#cccccc;stroke-linecap:square;stroke-linejoin:miter;stroke-width:0.8;\"/>\n   </g>\n   <g id=\"patch_6\">\n    <path d=\"M 52.160938 22.318125 \nL 356.524574 22.318125 \n\" style=\"fill:none;stroke:#cccccc;stroke-linecap:square;stroke-linejoin:miter;stroke-width:0.8;\"/>\n   </g>\n   <g id=\"text_17\">\n    <!-- Train Set -->\n    <g style=\"fill:#262626;\" transform=\"translate(178.190256 16.318125)scale(0.12 -0.12)\">\n     <defs>\n      <path d=\"M -0.296875 72.90625 \nL 61.375 72.90625 \nL 61.375 64.59375 \nL 35.5 64.59375 \nL 35.5 0 \nL 25.59375 0 \nL 25.59375 64.59375 \nL -0.296875 64.59375 \nz\n\" id=\"DejaVuSans-84\"/>\n      <path id=\"DejaVuSans-32\"/>\n      <path d=\"M 53.515625 70.515625 \nL 53.515625 60.890625 \nQ 47.90625 63.578125 42.921875 64.890625 \nQ 37.9375 66.21875 33.296875 66.21875 \nQ 25.25 66.21875 20.875 63.09375 \nQ 16.5 59.96875 16.5 54.203125 \nQ 16.5 49.359375 19.40625 46.890625 \nQ 22.3125 44.4375 30.421875 42.921875 \nL 36.375 41.703125 \nQ 47.40625 39.59375 52.65625 34.296875 \nQ 57.90625 29 57.90625 20.125 \nQ 57.90625 9.515625 50.796875 4.046875 \nQ 43.703125 -1.421875 29.984375 -1.421875 \nQ 24.8125 -1.421875 18.96875 -0.25 \nQ 13.140625 0.921875 6.890625 3.21875 \nL 6.890625 13.375 \nQ 12.890625 10.015625 18.65625 8.296875 \nQ 24.421875 6.59375 29.984375 6.59375 \nQ 38.421875 6.59375 43.015625 9.90625 \nQ 47.609375 13.234375 47.609375 19.390625 \nQ 47.609375 24.75 44.3125 27.78125 \nQ 41.015625 30.8125 33.5 32.328125 \nL 27.484375 33.5 \nQ 16.453125 35.6875 11.515625 40.375 \nQ 6.59375 45.0625 6.59375 53.421875 \nQ 6.59375 63.09375 13.40625 68.65625 \nQ 20.21875 74.21875 32.171875 74.21875 \nQ 37.3125 74.21875 42.625 73.28125 \nQ 47.953125 72.359375 53.515625 70.515625 \nz\n\" id=\"DejaVuSans-83\"/>\n     </defs>\n     <use xlink:href=\"#DejaVuSans-84\"/>\n     <use x=\"46.333984\" xlink:href=\"#DejaVuSans-114\"/>\n     <use x=\"87.447266\" xlink:href=\"#DejaVuSans-97\"/>\n     <use x=\"148.726562\" xlink:href=\"#DejaVuSans-105\"/>\n     <use x=\"176.509766\" xlink:href=\"#DejaVuSans-110\"/>\n     <use x=\"239.888672\" xlink:href=\"#DejaVuSans-32\"/>\n     <use x=\"271.675781\" xlink:href=\"#DejaVuSans-83\"/>\n     <use x=\"335.152344\" xlink:href=\"#DejaVuSans-101\"/>\n     <use x=\"396.675781\" xlink:href=\"#DejaVuSans-116\"/>\n    </g>\n   </g>\n  </g>\n  <g id=\"axes_2\">\n   <g id=\"patch_7\">\n    <path d=\"M 417.397301 348.478125 \nL 721.760937 348.478125 \nL 721.760937 22.318125 \nL 417.397301 22.318125 \nz\n\" style=\"fill:#ffffff;\"/>\n   </g>\n   <g id=\"matplotlib.axis_3\">\n    <g id=\"xtick_8\">\n     <g id=\"line2d_16\">\n      <path clip-path=\"url(#p87a46f90e4)\" d=\"M 423.467868 348.478125 \nL 423.467868 22.318125 \n\" style=\"fill:none;stroke:#cccccc;stroke-linecap:round;stroke-width:0.8;\"/>\n     </g>\n     <g id=\"text_18\">\n      <!-- −1.5 -->\n      <g style=\"fill:#262626;\" transform=\"translate(411.326462 363.076562)scale(0.1 -0.1)\">\n       <use xlink:href=\"#DejaVuSans-8722\"/>\n       <use x=\"83.789062\" xlink:href=\"#DejaVuSans-49\"/>\n       <use x=\"147.412109\" xlink:href=\"#DejaVuSans-46\"/>\n       <use x=\"179.199219\" xlink:href=\"#DejaVuSans-53\"/>\n      </g>\n     </g>\n    </g>\n    <g id=\"xtick_9\">\n     <g id=\"line2d_17\">\n      <path clip-path=\"url(#p87a46f90e4)\" d=\"M 468.827203 348.478125 \nL 468.827203 22.318125 \n\" style=\"fill:none;stroke:#cccccc;stroke-linecap:round;stroke-width:0.8;\"/>\n     </g>\n     <g id=\"text_19\">\n      <!-- −1.0 -->\n      <g style=\"fill:#262626;\" transform=\"translate(456.685797 363.076562)scale(0.1 -0.1)\">\n       <use xlink:href=\"#DejaVuSans-8722\"/>\n       <use x=\"83.789062\" xlink:href=\"#DejaVuSans-49\"/>\n       <use x=\"147.412109\" xlink:href=\"#DejaVuSans-46\"/>\n       <use x=\"179.199219\" xlink:href=\"#DejaVuSans-48\"/>\n      </g>\n     </g>\n    </g>\n    <g id=\"xtick_10\">\n     <g id=\"line2d_18\">\n      <path clip-path=\"url(#p87a46f90e4)\" d=\"M 514.186539 348.478125 \nL 514.186539 22.318125 \n\" style=\"fill:none;stroke:#cccccc;stroke-linecap:round;stroke-width:0.8;\"/>\n     </g>\n     <g id=\"text_20\">\n      <!-- −0.5 -->\n      <g style=\"fill:#262626;\" transform=\"translate(502.045132 363.076562)scale(0.1 -0.1)\">\n       <use xlink:href=\"#DejaVuSans-8722\"/>\n       <use x=\"83.789062\" xlink:href=\"#DejaVuSans-48\"/>\n       <use x=\"147.412109\" xlink:href=\"#DejaVuSans-46\"/>\n       <use x=\"179.199219\" xlink:href=\"#DejaVuSans-53\"/>\n      </g>\n     </g>\n    </g>\n    <g id=\"xtick_11\">\n     <g id=\"line2d_19\">\n      <path clip-path=\"url(#p87a46f90e4)\" d=\"M 559.545874 348.478125 \nL 559.545874 22.318125 \n\" style=\"fill:none;stroke:#cccccc;stroke-linecap:round;stroke-width:0.8;\"/>\n     </g>\n     <g id=\"text_21\">\n      <!-- 0.0 -->\n      <g style=\"fill:#262626;\" transform=\"translate(551.594311 363.076562)scale(0.1 -0.1)\">\n       <use xlink:href=\"#DejaVuSans-48\"/>\n       <use x=\"63.623047\" xlink:href=\"#DejaVuSans-46\"/>\n       <use x=\"95.410156\" xlink:href=\"#DejaVuSans-48\"/>\n      </g>\n     </g>\n    </g>\n    <g id=\"xtick_12\">\n     <g id=\"line2d_20\">\n      <path clip-path=\"url(#p87a46f90e4)\" d=\"M 604.905209 348.478125 \nL 604.905209 22.318125 \n\" style=\"fill:none;stroke:#cccccc;stroke-linecap:round;stroke-width:0.8;\"/>\n     </g>\n     <g id=\"text_22\">\n      <!-- 0.5 -->\n      <g style=\"fill:#262626;\" transform=\"translate(596.953646 363.076562)scale(0.1 -0.1)\">\n       <use xlink:href=\"#DejaVuSans-48\"/>\n       <use x=\"63.623047\" xlink:href=\"#DejaVuSans-46\"/>\n       <use x=\"95.410156\" xlink:href=\"#DejaVuSans-53\"/>\n      </g>\n     </g>\n    </g>\n    <g id=\"xtick_13\">\n     <g id=\"line2d_21\">\n      <path clip-path=\"url(#p87a46f90e4)\" d=\"M 650.264544 348.478125 \nL 650.264544 22.318125 \n\" style=\"fill:none;stroke:#cccccc;stroke-linecap:round;stroke-width:0.8;\"/>\n     </g>\n     <g id=\"text_23\">\n      <!-- 1.0 -->\n      <g style=\"fill:#262626;\" transform=\"translate(642.312982 363.076562)scale(0.1 -0.1)\">\n       <use xlink:href=\"#DejaVuSans-49\"/>\n       <use x=\"63.623047\" xlink:href=\"#DejaVuSans-46\"/>\n       <use x=\"95.410156\" xlink:href=\"#DejaVuSans-48\"/>\n      </g>\n     </g>\n    </g>\n    <g id=\"xtick_14\">\n     <g id=\"line2d_22\">\n      <path clip-path=\"url(#p87a46f90e4)\" d=\"M 695.623879 348.478125 \nL 695.623879 22.318125 \n\" style=\"fill:none;stroke:#cccccc;stroke-linecap:round;stroke-width:0.8;\"/>\n     </g>\n     <g id=\"text_24\">\n      <!-- 1.5 -->\n      <g style=\"fill:#262626;\" transform=\"translate(687.672317 363.076562)scale(0.1 -0.1)\">\n       <use xlink:href=\"#DejaVuSans-49\"/>\n       <use x=\"63.623047\" xlink:href=\"#DejaVuSans-46\"/>\n       <use x=\"95.410156\" xlink:href=\"#DejaVuSans-53\"/>\n      </g>\n     </g>\n    </g>\n    <g id=\"text_25\">\n     <!-- Actual -->\n     <g style=\"fill:#262626;\" transform=\"translate(553.915057 376.754687)scale(0.1 -0.1)\">\n      <use xlink:href=\"#DejaVuSans-65\"/>\n      <use x=\"66.658203\" xlink:href=\"#DejaVuSans-99\"/>\n      <use x=\"121.638672\" xlink:href=\"#DejaVuSans-116\"/>\n      <use x=\"160.847656\" xlink:href=\"#DejaVuSans-117\"/>\n      <use x=\"224.226562\" xlink:href=\"#DejaVuSans-97\"/>\n      <use x=\"285.505859\" xlink:href=\"#DejaVuSans-108\"/>\n     </g>\n    </g>\n   </g>\n   <g id=\"matplotlib.axis_4\">\n    <g id=\"ytick_8\">\n     <g id=\"line2d_23\">\n      <path clip-path=\"url(#p87a46f90e4)\" d=\"M 417.397301 341.972827 \nL 721.760937 341.972827 \n\" style=\"fill:none;stroke:#cccccc;stroke-linecap:round;stroke-width:0.8;\"/>\n     </g>\n     <g id=\"text_26\">\n      <!-- −1.5 -->\n      <g style=\"fill:#262626;\" transform=\"translate(386.114489 345.772046)scale(0.1 -0.1)\">\n       <use xlink:href=\"#DejaVuSans-8722\"/>\n       <use x=\"83.789062\" xlink:href=\"#DejaVuSans-49\"/>\n       <use x=\"147.412109\" xlink:href=\"#DejaVuSans-46\"/>\n       <use x=\"179.199219\" xlink:href=\"#DejaVuSans-53\"/>\n      </g>\n     </g>\n    </g>\n    <g id=\"ytick_9\">\n     <g id=\"line2d_24\">\n      <path clip-path=\"url(#p87a46f90e4)\" d=\"M 417.397301 293.365178 \nL 721.760937 293.365178 \n\" style=\"fill:none;stroke:#cccccc;stroke-linecap:round;stroke-width:0.8;\"/>\n     </g>\n     <g id=\"text_27\">\n      <!-- −1.0 -->\n      <g style=\"fill:#262626;\" transform=\"translate(386.114489 297.164397)scale(0.1 -0.1)\">\n       <use xlink:href=\"#DejaVuSans-8722\"/>\n       <use x=\"83.789062\" xlink:href=\"#DejaVuSans-49\"/>\n       <use x=\"147.412109\" xlink:href=\"#DejaVuSans-46\"/>\n       <use x=\"179.199219\" xlink:href=\"#DejaVuSans-48\"/>\n      </g>\n     </g>\n    </g>\n    <g id=\"ytick_10\">\n     <g id=\"line2d_25\">\n      <path clip-path=\"url(#p87a46f90e4)\" d=\"M 417.397301 244.757529 \nL 721.760937 244.757529 \n\" style=\"fill:none;stroke:#cccccc;stroke-linecap:round;stroke-width:0.8;\"/>\n     </g>\n     <g id=\"text_28\">\n      <!-- −0.5 -->\n      <g style=\"fill:#262626;\" transform=\"translate(386.114489 248.556748)scale(0.1 -0.1)\">\n       <use xlink:href=\"#DejaVuSans-8722\"/>\n       <use x=\"83.789062\" xlink:href=\"#DejaVuSans-48\"/>\n       <use x=\"147.412109\" xlink:href=\"#DejaVuSans-46\"/>\n       <use x=\"179.199219\" xlink:href=\"#DejaVuSans-53\"/>\n      </g>\n     </g>\n    </g>\n    <g id=\"ytick_11\">\n     <g id=\"line2d_26\">\n      <path clip-path=\"url(#p87a46f90e4)\" d=\"M 417.397301 196.14988 \nL 721.760937 196.14988 \n\" style=\"fill:none;stroke:#cccccc;stroke-linecap:round;stroke-width:0.8;\"/>\n     </g>\n     <g id=\"text_29\">\n      <!-- 0.0 -->\n      <g style=\"fill:#262626;\" transform=\"translate(394.494176 199.949099)scale(0.1 -0.1)\">\n       <use xlink:href=\"#DejaVuSans-48\"/>\n       <use x=\"63.623047\" xlink:href=\"#DejaVuSans-46\"/>\n       <use x=\"95.410156\" xlink:href=\"#DejaVuSans-48\"/>\n      </g>\n     </g>\n    </g>\n    <g id=\"ytick_12\">\n     <g id=\"line2d_27\">\n      <path clip-path=\"url(#p87a46f90e4)\" d=\"M 417.397301 147.542232 \nL 721.760937 147.542232 \n\" style=\"fill:none;stroke:#cccccc;stroke-linecap:round;stroke-width:0.8;\"/>\n     </g>\n     <g id=\"text_30\">\n      <!-- 0.5 -->\n      <g style=\"fill:#262626;\" transform=\"translate(394.494176 151.34145)scale(0.1 -0.1)\">\n       <use xlink:href=\"#DejaVuSans-48\"/>\n       <use x=\"63.623047\" xlink:href=\"#DejaVuSans-46\"/>\n       <use x=\"95.410156\" xlink:href=\"#DejaVuSans-53\"/>\n      </g>\n     </g>\n    </g>\n    <g id=\"ytick_13\">\n     <g id=\"line2d_28\">\n      <path clip-path=\"url(#p87a46f90e4)\" d=\"M 417.397301 98.934583 \nL 721.760937 98.934583 \n\" style=\"fill:none;stroke:#cccccc;stroke-linecap:round;stroke-width:0.8;\"/>\n     </g>\n     <g id=\"text_31\">\n      <!-- 1.0 -->\n      <g style=\"fill:#262626;\" transform=\"translate(394.494176 102.733801)scale(0.1 -0.1)\">\n       <use xlink:href=\"#DejaVuSans-49\"/>\n       <use x=\"63.623047\" xlink:href=\"#DejaVuSans-46\"/>\n       <use x=\"95.410156\" xlink:href=\"#DejaVuSans-48\"/>\n      </g>\n     </g>\n    </g>\n    <g id=\"ytick_14\">\n     <g id=\"line2d_29\">\n      <path clip-path=\"url(#p87a46f90e4)\" d=\"M 417.397301 50.326934 \nL 721.760937 50.326934 \n\" style=\"fill:none;stroke:#cccccc;stroke-linecap:round;stroke-width:0.8;\"/>\n     </g>\n     <g id=\"text_32\">\n      <!-- 1.5 -->\n      <g style=\"fill:#262626;\" transform=\"translate(394.494176 54.126152)scale(0.1 -0.1)\">\n       <use xlink:href=\"#DejaVuSans-49\"/>\n       <use x=\"63.623047\" xlink:href=\"#DejaVuSans-46\"/>\n       <use x=\"95.410156\" xlink:href=\"#DejaVuSans-53\"/>\n      </g>\n     </g>\n    </g>\n    <g id=\"text_33\">\n     <!-- Predictions -->\n     <g style=\"fill:#262626;\" transform=\"translate(380.034801 212.839531)rotate(-90)scale(0.1 -0.1)\">\n      <use xlink:href=\"#DejaVuSans-80\"/>\n      <use x=\"58.552734\" xlink:href=\"#DejaVuSans-114\"/>\n      <use x=\"97.416016\" xlink:href=\"#DejaVuSans-101\"/>\n      <use x=\"158.939453\" xlink:href=\"#DejaVuSans-100\"/>\n      <use x=\"222.416016\" xlink:href=\"#DejaVuSans-105\"/>\n      <use x=\"250.199219\" xlink:href=\"#DejaVuSans-99\"/>\n      <use x=\"305.179688\" xlink:href=\"#DejaVuSans-116\"/>\n      <use x=\"344.388672\" xlink:href=\"#DejaVuSans-105\"/>\n      <use x=\"372.171875\" xlink:href=\"#DejaVuSans-111\"/>\n      <use x=\"433.353516\" xlink:href=\"#DejaVuSans-110\"/>\n      <use x=\"496.732422\" xlink:href=\"#DejaVuSans-115\"/>\n     </g>\n    </g>\n   </g>\n   <g id=\"PathCollection_2\">\n    <g clip-path=\"url(#p87a46f90e4)\">\n     <use style=\"fill:#1f77b4;fill-opacity:0.2;stroke:#ffffff;stroke-opacity:0.2;stroke-width:0.48;\" x=\"431.232012\" xlink:href=\"#m071fe2ce43\" y=\"247.57381\"/>\n     <use style=\"fill:#1f77b4;fill-opacity:0.2;stroke:#ffffff;stroke-opacity:0.2;stroke-width:0.48;\" x=\"652.360847\" xlink:href=\"#m071fe2ce43\" y=\"189.254429\"/>\n     <use style=\"fill:#1f77b4;fill-opacity:0.2;stroke:#ffffff;stroke-opacity:0.2;stroke-width:0.48;\" x=\"431.232012\" xlink:href=\"#m071fe2ce43\" y=\"143.624707\"/>\n     <use style=\"fill:#1f77b4;fill-opacity:0.2;stroke:#ffffff;stroke-opacity:0.2;stroke-width:0.48;\" x=\"469.414775\" xlink:href=\"#m071fe2ce43\" y=\"201.636166\"/>\n     <use style=\"fill:#1f77b4;fill-opacity:0.2;stroke:#ffffff;stroke-opacity:0.2;stroke-width:0.48;\" x=\"585.063422\" xlink:href=\"#m071fe2ce43\" y=\"130.009648\"/>\n     <use style=\"fill:#1f77b4;fill-opacity:0.2;stroke:#ffffff;stroke-opacity:0.2;stroke-width:0.48;\" x=\"610.94368\" xlink:href=\"#m071fe2ce43\" y=\"142.243598\"/>\n     <use style=\"fill:#1f77b4;fill-opacity:0.2;stroke:#ffffff;stroke-opacity:0.2;stroke-width:0.48;\" x=\"560.803085\" xlink:href=\"#m071fe2ce43\" y=\"219.802656\"/>\n     <use style=\"fill:#1f77b4;fill-opacity:0.2;stroke:#ffffff;stroke-opacity:0.2;stroke-width:0.48;\" x=\"560.803085\" xlink:href=\"#m071fe2ce43\" y=\"155.212197\"/>\n     <use style=\"fill:#1f77b4;fill-opacity:0.2;stroke:#ffffff;stroke-opacity:0.2;stroke-width:0.48;\" x=\"707.926227\" xlink:href=\"#m071fe2ce43\" y=\"154.81559\"/>\n     <use style=\"fill:#1f77b4;fill-opacity:0.2;stroke:#ffffff;stroke-opacity:0.2;stroke-width:0.48;\" x=\"510.019015\" xlink:href=\"#m071fe2ce43\" y=\"284.541602\"/>\n     <use style=\"fill:#1f77b4;fill-opacity:0.2;stroke:#ffffff;stroke-opacity:0.2;stroke-width:0.48;\" x=\"594.720367\" xlink:href=\"#m071fe2ce43\" y=\"220.933563\"/>\n     <use style=\"fill:#1f77b4;fill-opacity:0.2;stroke:#ffffff;stroke-opacity:0.2;stroke-width:0.48;\" x=\"706.821158\" xlink:href=\"#m071fe2ce43\" y=\"42.977302\"/>\n     <use style=\"fill:#1f77b4;fill-opacity:0.2;stroke:#ffffff;stroke-opacity:0.2;stroke-width:0.48;\" x=\"492.863154\" xlink:href=\"#m071fe2ce43\" y=\"272.846695\"/>\n     <use style=\"fill:#1f77b4;fill-opacity:0.2;stroke:#ffffff;stroke-opacity:0.2;stroke-width:0.48;\" x=\"694.901124\" xlink:href=\"#m071fe2ce43\" y=\"170.355401\"/>\n     <use style=\"fill:#1f77b4;fill-opacity:0.2;stroke:#ffffff;stroke-opacity:0.2;stroke-width:0.48;\" x=\"492.863154\" xlink:href=\"#m071fe2ce43\" y=\"197.780782\"/>\n     <use style=\"fill:#1f77b4;fill-opacity:0.2;stroke:#ffffff;stroke-opacity:0.2;stroke-width:0.48;\" x=\"660.523408\" xlink:href=\"#m071fe2ce43\" y=\"165.524553\"/>\n     <use style=\"fill:#1f77b4;fill-opacity:0.2;stroke:#ffffff;stroke-opacity:0.2;stroke-width:0.48;\" x=\"662.44131\" xlink:href=\"#m071fe2ce43\" y=\"254.290206\"/>\n     <use style=\"fill:#1f77b4;fill-opacity:0.2;stroke:#ffffff;stroke-opacity:0.2;stroke-width:0.48;\" x=\"534.954444\" xlink:href=\"#m071fe2ce43\" y=\"171.5258\"/>\n     <use style=\"fill:#1f77b4;fill-opacity:0.2;stroke:#ffffff;stroke-opacity:0.2;stroke-width:0.48;\" x=\"553.198297\" xlink:href=\"#m071fe2ce43\" y=\"103.989678\"/>\n     <use style=\"fill:#1f77b4;fill-opacity:0.2;stroke:#ffffff;stroke-opacity:0.2;stroke-width:0.48;\" x=\"643.271244\" xlink:href=\"#m071fe2ce43\" y=\"216.416187\"/>\n     <use style=\"fill:#1f77b4;fill-opacity:0.2;stroke:#ffffff;stroke-opacity:0.2;stroke-width:0.48;\" x=\"492.863154\" xlink:href=\"#m071fe2ce43\" y=\"230.386184\"/>\n     <use style=\"fill:#1f77b4;fill-opacity:0.2;stroke:#ffffff;stroke-opacity:0.2;stroke-width:0.48;\" x=\"469.414775\" xlink:href=\"#m071fe2ce43\" y=\"150.815184\"/>\n     <use style=\"fill:#1f77b4;fill-opacity:0.2;stroke:#ffffff;stroke-opacity:0.2;stroke-width:0.48;\" x=\"510.019015\" xlink:href=\"#m071fe2ce43\" y=\"146.943686\"/>\n     <use style=\"fill:#1f77b4;fill-opacity:0.2;stroke:#ffffff;stroke-opacity:0.2;stroke-width:0.48;\" x=\"523.630933\" xlink:href=\"#m071fe2ce43\" y=\"263.83682\"/>\n     <use style=\"fill:#1f77b4;fill-opacity:0.2;stroke:#ffffff;stroke-opacity:0.2;stroke-width:0.48;\" x=\"431.232012\" xlink:href=\"#m071fe2ce43\" y=\"205.189881\"/>\n     <use style=\"fill:#1f77b4;fill-opacity:0.2;stroke:#ffffff;stroke-opacity:0.2;stroke-width:0.48;\" x=\"603.267902\" xlink:href=\"#m071fe2ce43\" y=\"163.285415\"/>\n     <use style=\"fill:#1f77b4;fill-opacity:0.2;stroke:#ffffff;stroke-opacity:0.2;stroke-width:0.48;\" x=\"431.232012\" xlink:href=\"#m071fe2ce43\" y=\"209.172615\"/>\n     <use style=\"fill:#1f77b4;fill-opacity:0.2;stroke:#ffffff;stroke-opacity:0.2;stroke-width:0.48;\" x=\"585.063422\" xlink:href=\"#m071fe2ce43\" y=\"256.487228\"/>\n     <use style=\"fill:#1f77b4;fill-opacity:0.2;stroke:#ffffff;stroke-opacity:0.2;stroke-width:0.48;\" x=\"510.019015\" xlink:href=\"#m071fe2ce43\" y=\"267.230085\"/>\n     <use style=\"fill:#1f77b4;fill-opacity:0.2;stroke:#ffffff;stroke-opacity:0.2;stroke-width:0.48;\" x=\"640.826565\" xlink:href=\"#m071fe2ce43\" y=\"273.301273\"/>\n     <use style=\"fill:#1f77b4;fill-opacity:0.2;stroke:#ffffff;stroke-opacity:0.2;stroke-width:0.48;\" x=\"603.267902\" xlink:href=\"#m071fe2ce43\" y=\"280.053881\"/>\n     <use style=\"fill:#1f77b4;fill-opacity:0.2;stroke:#ffffff;stroke-opacity:0.2;stroke-width:0.48;\" x=\"594.720367\" xlink:href=\"#m071fe2ce43\" y=\"190.690861\"/>\n     <use style=\"fill:#1f77b4;fill-opacity:0.2;stroke:#ffffff;stroke-opacity:0.2;stroke-width:0.48;\" x=\"431.232012\" xlink:href=\"#m071fe2ce43\" y=\"175.082929\"/>\n     <use style=\"fill:#1f77b4;fill-opacity:0.2;stroke:#ffffff;stroke-opacity:0.2;stroke-width:0.48;\" x=\"431.232012\" xlink:href=\"#m071fe2ce43\" y=\"215.72055\"/>\n     <use style=\"fill:#1f77b4;fill-opacity:0.2;stroke:#ffffff;stroke-opacity:0.2;stroke-width:0.48;\" x=\"431.232012\" xlink:href=\"#m071fe2ce43\" y=\"307.691258\"/>\n     <use style=\"fill:#1f77b4;fill-opacity:0.2;stroke:#ffffff;stroke-opacity:0.2;stroke-width:0.48;\" x=\"654.480414\" xlink:href=\"#m071fe2ce43\" y=\"272.130233\"/>\n     <use style=\"fill:#1f77b4;fill-opacity:0.2;stroke:#ffffff;stroke-opacity:0.2;stroke-width:0.48;\" x=\"431.232012\" xlink:href=\"#m071fe2ce43\" y=\"291.655593\"/>\n     <use style=\"fill:#1f77b4;fill-opacity:0.2;stroke:#ffffff;stroke-opacity:0.2;stroke-width:0.48;\" x=\"567.673457\" xlink:href=\"#m071fe2ce43\" y=\"158.755152\"/>\n     <use style=\"fill:#1f77b4;fill-opacity:0.2;stroke:#ffffff;stroke-opacity:0.2;stroke-width:0.48;\" x=\"669.69011\" xlink:href=\"#m071fe2ce43\" y=\"82.13636\"/>\n     <use style=\"fill:#1f77b4;fill-opacity:0.2;stroke:#ffffff;stroke-opacity:0.2;stroke-width:0.48;\" x=\"510.019015\" xlink:href=\"#m071fe2ce43\" y=\"233.031571\"/>\n     <use style=\"fill:#1f77b4;fill-opacity:0.2;stroke:#ffffff;stroke-opacity:0.2;stroke-width:0.48;\" x=\"703.417431\" xlink:href=\"#m071fe2ce43\" y=\"134.565202\"/>\n     <use style=\"fill:#1f77b4;fill-opacity:0.2;stroke:#ffffff;stroke-opacity:0.2;stroke-width:0.48;\" x=\"492.863154\" xlink:href=\"#m071fe2ce43\" y=\"177.761585\"/>\n     <use style=\"fill:#1f77b4;fill-opacity:0.2;stroke:#ffffff;stroke-opacity:0.2;stroke-width:0.48;\" x=\"469.414775\" xlink:href=\"#m071fe2ce43\" y=\"138.893105\"/>\n     <use style=\"fill:#1f77b4;fill-opacity:0.2;stroke:#ffffff;stroke-opacity:0.2;stroke-width:0.48;\" x=\"607.202994\" xlink:href=\"#m071fe2ce43\" y=\"145.199928\"/>\n     <use style=\"fill:#1f77b4;fill-opacity:0.2;stroke:#ffffff;stroke-opacity:0.2;stroke-width:0.48;\" x=\"627.314354\" xlink:href=\"#m071fe2ce43\" y=\"199.611989\"/>\n     <use style=\"fill:#1f77b4;fill-opacity:0.2;stroke:#ffffff;stroke-opacity:0.2;stroke-width:0.48;\" x=\"510.019015\" xlink:href=\"#m071fe2ce43\" y=\"243.286498\"/>\n     <use style=\"fill:#1f77b4;fill-opacity:0.2;stroke:#ffffff;stroke-opacity:0.2;stroke-width:0.48;\" x=\"650.18369\" xlink:href=\"#m071fe2ce43\" y=\"214.083532\"/>\n     <use style=\"fill:#1f77b4;fill-opacity:0.2;stroke:#ffffff;stroke-opacity:0.2;stroke-width:0.48;\" x=\"469.414775\" xlink:href=\"#m071fe2ce43\" y=\"270.877802\"/>\n     <use style=\"fill:#1f77b4;fill-opacity:0.2;stroke:#ffffff;stroke-opacity:0.2;stroke-width:0.48;\" x=\"431.232012\" xlink:href=\"#m071fe2ce43\" y=\"285.677099\"/>\n     <use style=\"fill:#1f77b4;fill-opacity:0.2;stroke:#ffffff;stroke-opacity:0.2;stroke-width:0.48;\" x=\"431.232012\" xlink:href=\"#m071fe2ce43\" y=\"250.370499\"/>\n     <use style=\"fill:#1f77b4;fill-opacity:0.2;stroke:#ffffff;stroke-opacity:0.2;stroke-width:0.48;\" x=\"431.232012\" xlink:href=\"#m071fe2ce43\" y=\"249.944546\"/>\n     <use style=\"fill:#1f77b4;fill-opacity:0.2;stroke:#ffffff;stroke-opacity:0.2;stroke-width:0.48;\" x=\"431.232012\" xlink:href=\"#m071fe2ce43\" y=\"226.132911\"/>\n     <use style=\"fill:#1f77b4;fill-opacity:0.2;stroke:#ffffff;stroke-opacity:0.2;stroke-width:0.48;\" x=\"573.944024\" xlink:href=\"#m071fe2ce43\" y=\"222.907655\"/>\n     <use style=\"fill:#1f77b4;fill-opacity:0.2;stroke:#ffffff;stroke-opacity:0.2;stroke-width:0.48;\" x=\"603.267902\" xlink:href=\"#m071fe2ce43\" y=\"242.866029\"/>\n     <use style=\"fill:#1f77b4;fill-opacity:0.2;stroke:#ffffff;stroke-opacity:0.2;stroke-width:0.48;\" x=\"621.177307\" xlink:href=\"#m071fe2ce43\" y=\"230.386184\"/>\n     <use style=\"fill:#1f77b4;fill-opacity:0.2;stroke:#ffffff;stroke-opacity:0.2;stroke-width:0.48;\" x=\"645.64276\" xlink:href=\"#m071fe2ce43\" y=\"99.399407\"/>\n     <use style=\"fill:#1f77b4;fill-opacity:0.2;stroke:#ffffff;stroke-opacity:0.2;stroke-width:0.48;\" x=\"523.630933\" xlink:href=\"#m071fe2ce43\" y=\"175.616232\"/>\n     <use style=\"fill:#1f77b4;fill-opacity:0.2;stroke:#ffffff;stroke-opacity:0.2;stroke-width:0.48;\" x=\"431.232012\" xlink:href=\"#m071fe2ce43\" y=\"275.766359\"/>\n     <use style=\"fill:#1f77b4;fill-opacity:0.2;stroke:#ffffff;stroke-opacity:0.2;stroke-width:0.48;\" x=\"431.232012\" xlink:href=\"#m071fe2ce43\" y=\"283.457239\"/>\n     <use style=\"fill:#1f77b4;fill-opacity:0.2;stroke:#ffffff;stroke-opacity:0.2;stroke-width:0.48;\" x=\"431.232012\" xlink:href=\"#m071fe2ce43\" y=\"290.352716\"/>\n     <use style=\"fill:#1f77b4;fill-opacity:0.2;stroke:#ffffff;stroke-opacity:0.2;stroke-width:0.48;\" x=\"654.480414\" xlink:href=\"#m071fe2ce43\" y=\"214.087168\"/>\n     <use style=\"fill:#1f77b4;fill-opacity:0.2;stroke:#ffffff;stroke-opacity:0.2;stroke-width:0.48;\" x=\"701.070252\" xlink:href=\"#m071fe2ce43\" y=\"84.164397\"/>\n     <use style=\"fill:#1f77b4;fill-opacity:0.2;stroke:#ffffff;stroke-opacity:0.2;stroke-width:0.48;\" x=\"693.611305\" xlink:href=\"#m071fe2ce43\" y=\"163.348487\"/>\n     <use style=\"fill:#1f77b4;fill-opacity:0.2;stroke:#ffffff;stroke-opacity:0.2;stroke-width:0.48;\" x=\"431.232012\" xlink:href=\"#m071fe2ce43\" y=\"200.24241\"/>\n     <use style=\"fill:#1f77b4;fill-opacity:0.2;stroke:#ffffff;stroke-opacity:0.2;stroke-width:0.48;\" x=\"431.232012\" xlink:href=\"#m071fe2ce43\" y=\"287.291708\"/>\n     <use style=\"fill:#1f77b4;fill-opacity:0.2;stroke:#ffffff;stroke-opacity:0.2;stroke-width:0.48;\" x=\"630.209958\" xlink:href=\"#m071fe2ce43\" y=\"102.067735\"/>\n     <use style=\"fill:#1f77b4;fill-opacity:0.2;stroke:#ffffff;stroke-opacity:0.2;stroke-width:0.48;\" x=\"431.232012\" xlink:href=\"#m071fe2ce43\" y=\"214.083532\"/>\n     <use style=\"fill:#1f77b4;fill-opacity:0.2;stroke:#ffffff;stroke-opacity:0.2;stroke-width:0.48;\" x=\"431.232012\" xlink:href=\"#m071fe2ce43\" y=\"171.343149\"/>\n     <use style=\"fill:#1f77b4;fill-opacity:0.2;stroke:#ffffff;stroke-opacity:0.2;stroke-width:0.48;\" x=\"573.944024\" xlink:href=\"#m071fe2ce43\" y=\"181.824091\"/>\n     <use style=\"fill:#1f77b4;fill-opacity:0.2;stroke:#ffffff;stroke-opacity:0.2;stroke-width:0.48;\" x=\"560.803085\" xlink:href=\"#m071fe2ce43\" y=\"175.285172\"/>\n     <use style=\"fill:#1f77b4;fill-opacity:0.2;stroke:#ffffff;stroke-opacity:0.2;stroke-width:0.48;\" x=\"660.523408\" xlink:href=\"#m071fe2ce43\" y=\"134.677315\"/>\n     <use style=\"fill:#1f77b4;fill-opacity:0.2;stroke:#ffffff;stroke-opacity:0.2;stroke-width:0.48;\" x=\"510.019015\" xlink:href=\"#m071fe2ce43\" y=\"159.5618\"/>\n     <use style=\"fill:#1f77b4;fill-opacity:0.2;stroke:#ffffff;stroke-opacity:0.2;stroke-width:0.48;\" x=\"656.545495\" xlink:href=\"#m071fe2ce43\" y=\"210.913963\"/>\n     <use style=\"fill:#1f77b4;fill-opacity:0.2;stroke:#ffffff;stroke-opacity:0.2;stroke-width:0.48;\" x=\"603.267902\" xlink:href=\"#m071fe2ce43\" y=\"169.293703\"/>\n     <use style=\"fill:#1f77b4;fill-opacity:0.2;stroke:#ffffff;stroke-opacity:0.2;stroke-width:0.48;\" x=\"696.1715\" xlink:href=\"#m071fe2ce43\" y=\"72.005523\"/>\n     <use style=\"fill:#1f77b4;fill-opacity:0.2;stroke:#ffffff;stroke-opacity:0.2;stroke-width:0.48;\" x=\"431.232012\" xlink:href=\"#m071fe2ce43\" y=\"181.923669\"/>\n     <use style=\"fill:#1f77b4;fill-opacity:0.2;stroke:#ffffff;stroke-opacity:0.2;stroke-width:0.48;\" x=\"431.232012\" xlink:href=\"#m071fe2ce43\" y=\"316.151044\"/>\n     <use style=\"fill:#1f77b4;fill-opacity:0.2;stroke:#ffffff;stroke-opacity:0.2;stroke-width:0.48;\" x=\"431.232012\" xlink:href=\"#m071fe2ce43\" y=\"196.449022\"/>\n     <use style=\"fill:#1f77b4;fill-opacity:0.2;stroke:#ffffff;stroke-opacity:0.2;stroke-width:0.48;\" x=\"679.486216\" xlink:href=\"#m071fe2ce43\" y=\"145.199928\"/>\n     <use style=\"fill:#1f77b4;fill-opacity:0.2;stroke:#ffffff;stroke-opacity:0.2;stroke-width:0.48;\" x=\"469.414775\" xlink:href=\"#m071fe2ce43\" y=\"302.039687\"/>\n     <use style=\"fill:#1f77b4;fill-opacity:0.2;stroke:#ffffff;stroke-opacity:0.2;stroke-width:0.48;\" x=\"621.177307\" xlink:href=\"#m071fe2ce43\" y=\"161.167225\"/>\n     <use style=\"fill:#1f77b4;fill-opacity:0.2;stroke:#ffffff;stroke-opacity:0.2;stroke-width:0.48;\" x=\"492.863154\" xlink:href=\"#m071fe2ce43\" y=\"259.362163\"/>\n     <use style=\"fill:#1f77b4;fill-opacity:0.2;stroke:#ffffff;stroke-opacity:0.2;stroke-width:0.48;\" x=\"431.232012\" xlink:href=\"#m071fe2ce43\" y=\"232.015964\"/>\n     <use style=\"fill:#1f77b4;fill-opacity:0.2;stroke:#ffffff;stroke-opacity:0.2;stroke-width:0.48;\" x=\"579.715083\" xlink:href=\"#m071fe2ce43\" y=\"173.379969\"/>\n     <use style=\"fill:#1f77b4;fill-opacity:0.2;stroke:#ffffff;stroke-opacity:0.2;stroke-width:0.48;\" x=\"431.232012\" xlink:href=\"#m071fe2ce43\" y=\"217.956546\"/>\n     <use style=\"fill:#1f77b4;fill-opacity:0.2;stroke:#ffffff;stroke-opacity:0.2;stroke-width:0.48;\" x=\"627.314354\" xlink:href=\"#m071fe2ce43\" y=\"195.609909\"/>\n     <use style=\"fill:#1f77b4;fill-opacity:0.2;stroke:#ffffff;stroke-opacity:0.2;stroke-width:0.48;\" x=\"638.303822\" xlink:href=\"#m071fe2ce43\" y=\"118.086164\"/>\n     <use style=\"fill:#1f77b4;fill-opacity:0.2;stroke:#ffffff;stroke-opacity:0.2;stroke-width:0.48;\" x=\"431.232012\" xlink:href=\"#m071fe2ce43\" y=\"209.120022\"/>\n     <use style=\"fill:#1f77b4;fill-opacity:0.2;stroke:#ffffff;stroke-opacity:0.2;stroke-width:0.48;\" x=\"492.863154\" xlink:href=\"#m071fe2ce43\" y=\"218.608493\"/>\n     <use style=\"fill:#1f77b4;fill-opacity:0.2;stroke:#ffffff;stroke-opacity:0.2;stroke-width:0.48;\" x=\"431.232012\" xlink:href=\"#m071fe2ce43\" y=\"241.117378\"/>\n     <use style=\"fill:#1f77b4;fill-opacity:0.2;stroke:#ffffff;stroke-opacity:0.2;stroke-width:0.48;\" x=\"560.803085\" xlink:href=\"#m071fe2ce43\" y=\"108.834064\"/>\n     <use style=\"fill:#1f77b4;fill-opacity:0.2;stroke:#ffffff;stroke-opacity:0.2;stroke-width:0.48;\" x=\"645.64276\" xlink:href=\"#m071fe2ce43\" y=\"74.690789\"/>\n     <use style=\"fill:#1f77b4;fill-opacity:0.2;stroke:#ffffff;stroke-opacity:0.2;stroke-width:0.48;\" x=\"534.954444\" xlink:href=\"#m071fe2ce43\" y=\"182.455079\"/>\n     <use style=\"fill:#1f77b4;fill-opacity:0.2;stroke:#ffffff;stroke-opacity:0.2;stroke-width:0.48;\" x=\"492.863154\" xlink:href=\"#m071fe2ce43\" y=\"225.902342\"/>\n     <use style=\"fill:#1f77b4;fill-opacity:0.2;stroke:#ffffff;stroke-opacity:0.2;stroke-width:0.48;\" x=\"431.232012\" xlink:href=\"#m071fe2ce43\" y=\"299.659049\"/>\n     <use style=\"fill:#1f77b4;fill-opacity:0.2;stroke:#ffffff;stroke-opacity:0.2;stroke-width:0.48;\" x=\"510.019015\" xlink:href=\"#m071fe2ce43\" y=\"233.767222\"/>\n     <use style=\"fill:#1f77b4;fill-opacity:0.2;stroke:#ffffff;stroke-opacity:0.2;stroke-width:0.48;\" x=\"573.944024\" xlink:href=\"#m071fe2ce43\" y=\"153.086733\"/>\n     <use style=\"fill:#1f77b4;fill-opacity:0.2;stroke:#ffffff;stroke-opacity:0.2;stroke-width:0.48;\" x=\"630.209958\" xlink:href=\"#m071fe2ce43\" y=\"277.740283\"/>\n     <use style=\"fill:#1f77b4;fill-opacity:0.2;stroke:#ffffff;stroke-opacity:0.2;stroke-width:0.48;\" x=\"469.414775\" xlink:href=\"#m071fe2ce43\" y=\"314.09565\"/>\n     <use style=\"fill:#1f77b4;fill-opacity:0.2;stroke:#ffffff;stroke-opacity:0.2;stroke-width:0.48;\" x=\"647.94556\" xlink:href=\"#m071fe2ce43\" y=\"163.613657\"/>\n     <use style=\"fill:#1f77b4;fill-opacity:0.2;stroke:#ffffff;stroke-opacity:0.2;stroke-width:0.48;\" x=\"431.232012\" xlink:href=\"#m071fe2ce43\" y=\"263.246446\"/>\n     <use style=\"fill:#1f77b4;fill-opacity:0.2;stroke:#ffffff;stroke-opacity:0.2;stroke-width:0.48;\" x=\"671.406032\" xlink:href=\"#m071fe2ce43\" y=\"140.660079\"/>\n     <use style=\"fill:#1f77b4;fill-opacity:0.2;stroke:#ffffff;stroke-opacity:0.2;stroke-width:0.48;\" x=\"431.232012\" xlink:href=\"#m071fe2ce43\" y=\"182.376653\"/>\n     <use style=\"fill:#1f77b4;fill-opacity:0.2;stroke:#ffffff;stroke-opacity:0.2;stroke-width:0.48;\" x=\"679.486216\" xlink:href=\"#m071fe2ce43\" y=\"126.604138\"/>\n     <use style=\"fill:#1f77b4;fill-opacity:0.2;stroke:#ffffff;stroke-opacity:0.2;stroke-width:0.48;\" x=\"685.426154\" xlink:href=\"#m071fe2ce43\" y=\"177.139938\"/>\n     <use style=\"fill:#1f77b4;fill-opacity:0.2;stroke:#ffffff;stroke-opacity:0.2;stroke-width:0.48;\" x=\"510.019015\" xlink:href=\"#m071fe2ce43\" y=\"211.346285\"/>\n     <use style=\"fill:#1f77b4;fill-opacity:0.2;stroke:#ffffff;stroke-opacity:0.2;stroke-width:0.48;\" x=\"469.414775\" xlink:href=\"#m071fe2ce43\" y=\"249.635706\"/>\n     <use style=\"fill:#1f77b4;fill-opacity:0.2;stroke:#ffffff;stroke-opacity:0.2;stroke-width:0.48;\" x=\"567.673457\" xlink:href=\"#m071fe2ce43\" y=\"119.037648\"/>\n     <use style=\"fill:#1f77b4;fill-opacity:0.2;stroke:#ffffff;stroke-opacity:0.2;stroke-width:0.48;\" x=\"431.232012\" xlink:href=\"#m071fe2ce43\" y=\"259.684093\"/>\n     <use style=\"fill:#1f77b4;fill-opacity:0.2;stroke:#ffffff;stroke-opacity:0.2;stroke-width:0.48;\" x=\"567.673457\" xlink:href=\"#m071fe2ce43\" y=\"190.10136\"/>\n     <use style=\"fill:#1f77b4;fill-opacity:0.2;stroke:#ffffff;stroke-opacity:0.2;stroke-width:0.48;\" x=\"590.049182\" xlink:href=\"#m071fe2ce43\" y=\"256.377273\"/>\n     <use style=\"fill:#1f77b4;fill-opacity:0.2;stroke:#ffffff;stroke-opacity:0.2;stroke-width:0.48;\" x=\"492.863154\" xlink:href=\"#m071fe2ce43\" y=\"244.64264\"/>\n     <use style=\"fill:#1f77b4;fill-opacity:0.2;stroke:#ffffff;stroke-opacity:0.2;stroke-width:0.48;\" x=\"431.232012\" xlink:href=\"#m071fe2ce43\" y=\"288.163911\"/>\n     <use style=\"fill:#1f77b4;fill-opacity:0.2;stroke:#ffffff;stroke-opacity:0.2;stroke-width:0.48;\" x=\"666.146302\" xlink:href=\"#m071fe2ce43\" y=\"58.760024\"/>\n     <use style=\"fill:#1f77b4;fill-opacity:0.2;stroke:#ffffff;stroke-opacity:0.2;stroke-width:0.48;\" x=\"664.31491\" xlink:href=\"#m071fe2ce43\" y=\"122.107382\"/>\n     <use style=\"fill:#1f77b4;fill-opacity:0.2;stroke:#ffffff;stroke-opacity:0.2;stroke-width:0.48;\" x=\"585.063422\" xlink:href=\"#m071fe2ce43\" y=\"220.245279\"/>\n     <use style=\"fill:#1f77b4;fill-opacity:0.2;stroke:#ffffff;stroke-opacity:0.2;stroke-width:0.48;\" x=\"690.970766\" xlink:href=\"#m071fe2ce43\" y=\"220.825099\"/>\n     <use style=\"fill:#1f77b4;fill-opacity:0.2;stroke:#ffffff;stroke-opacity:0.2;stroke-width:0.48;\" x=\"630.209958\" xlink:href=\"#m071fe2ce43\" y=\"167.293706\"/>\n     <use style=\"fill:#1f77b4;fill-opacity:0.2;stroke:#ffffff;stroke-opacity:0.2;stroke-width:0.48;\" x=\"673.086776\" xlink:href=\"#m071fe2ce43\" y=\"179.327011\"/>\n     <use style=\"fill:#1f77b4;fill-opacity:0.2;stroke:#ffffff;stroke-opacity:0.2;stroke-width:0.48;\" x=\"431.232012\" xlink:href=\"#m071fe2ce43\" y=\"234.846398\"/>\n     <use style=\"fill:#1f77b4;fill-opacity:0.2;stroke:#ffffff;stroke-opacity:0.2;stroke-width:0.48;\" x=\"469.414775\" xlink:href=\"#m071fe2ce43\" y=\"306.895513\"/>\n     <use style=\"fill:#1f77b4;fill-opacity:0.2;stroke:#ffffff;stroke-opacity:0.2;stroke-width:0.48;\" x=\"647.94556\" xlink:href=\"#m071fe2ce43\" y=\"131.007675\"/>\n     <use style=\"fill:#1f77b4;fill-opacity:0.2;stroke:#ffffff;stroke-opacity:0.2;stroke-width:0.48;\" x=\"431.232012\" xlink:href=\"#m071fe2ce43\" y=\"267.795938\"/>\n     <use style=\"fill:#1f77b4;fill-opacity:0.2;stroke:#ffffff;stroke-opacity:0.2;stroke-width:0.48;\" x=\"431.232012\" xlink:href=\"#m071fe2ce43\" y=\"246.817596\"/>\n     <use style=\"fill:#1f77b4;fill-opacity:0.2;stroke:#ffffff;stroke-opacity:0.2;stroke-width:0.48;\" x=\"703.417431\" xlink:href=\"#m071fe2ce43\" y=\"70.768403\"/>\n     <use style=\"fill:#1f77b4;fill-opacity:0.2;stroke:#ffffff;stroke-opacity:0.2;stroke-width:0.48;\" x=\"431.232012\" xlink:href=\"#m071fe2ce43\" y=\"270.970453\"/>\n     <use style=\"fill:#1f77b4;fill-opacity:0.2;stroke:#ffffff;stroke-opacity:0.2;stroke-width:0.48;\" x=\"654.480414\" xlink:href=\"#m071fe2ce43\" y=\"138.741994\"/>\n     <use style=\"fill:#1f77b4;fill-opacity:0.2;stroke:#ffffff;stroke-opacity:0.2;stroke-width:0.48;\" x=\"652.360847\" xlink:href=\"#m071fe2ce43\" y=\"139.411605\"/>\n     <use style=\"fill:#1f77b4;fill-opacity:0.2;stroke:#ffffff;stroke-opacity:0.2;stroke-width:0.48;\" x=\"492.863154\" xlink:href=\"#m071fe2ce43\" y=\"265.799367\"/>\n     <use style=\"fill:#1f77b4;fill-opacity:0.2;stroke:#ffffff;stroke-opacity:0.2;stroke-width:0.48;\" x=\"594.720367\" xlink:href=\"#m071fe2ce43\" y=\"250.771966\"/>\n     <use style=\"fill:#1f77b4;fill-opacity:0.2;stroke:#ffffff;stroke-opacity:0.2;stroke-width:0.48;\" x=\"579.715083\" xlink:href=\"#m071fe2ce43\" y=\"162.08823\"/>\n     <use style=\"fill:#1f77b4;fill-opacity:0.2;stroke:#ffffff;stroke-opacity:0.2;stroke-width:0.48;\" x=\"469.414775\" xlink:href=\"#m071fe2ce43\" y=\"209.124334\"/>\n     <use style=\"fill:#1f77b4;fill-opacity:0.2;stroke:#ffffff;stroke-opacity:0.2;stroke-width:0.48;\" x=\"645.64276\" xlink:href=\"#m071fe2ce43\" y=\"243.546914\"/>\n     <use style=\"fill:#1f77b4;fill-opacity:0.2;stroke:#ffffff;stroke-opacity:0.2;stroke-width:0.48;\" x=\"693.611305\" xlink:href=\"#m071fe2ce43\" y=\"58.760024\"/>\n     <use style=\"fill:#1f77b4;fill-opacity:0.2;stroke:#ffffff;stroke-opacity:0.2;stroke-width:0.48;\" x=\"431.232012\" xlink:href=\"#m071fe2ce43\" y=\"288.163911\"/>\n     <use style=\"fill:#1f77b4;fill-opacity:0.2;stroke:#ffffff;stroke-opacity:0.2;stroke-width:0.48;\" x=\"553.198297\" xlink:href=\"#m071fe2ce43\" y=\"203.811692\"/>\n     <use style=\"fill:#1f77b4;fill-opacity:0.2;stroke:#ffffff;stroke-opacity:0.2;stroke-width:0.48;\" x=\"666.146302\" xlink:href=\"#m071fe2ce43\" y=\"117.745954\"/>\n     <use style=\"fill:#1f77b4;fill-opacity:0.2;stroke:#ffffff;stroke-opacity:0.2;stroke-width:0.48;\" x=\"431.232012\" xlink:href=\"#m071fe2ce43\" y=\"223.454144\"/>\n     <use style=\"fill:#1f77b4;fill-opacity:0.2;stroke:#ffffff;stroke-opacity:0.2;stroke-width:0.48;\" x=\"689.618677\" xlink:href=\"#m071fe2ce43\" y=\"63.567406\"/>\n     <use style=\"fill:#1f77b4;fill-opacity:0.2;stroke:#ffffff;stroke-opacity:0.2;stroke-width:0.48;\" x=\"579.715083\" xlink:href=\"#m071fe2ce43\" y=\"191.603033\"/>\n     <use style=\"fill:#1f77b4;fill-opacity:0.2;stroke:#ffffff;stroke-opacity:0.2;stroke-width:0.48;\" x=\"624.30664\" xlink:href=\"#m071fe2ce43\" y=\"147.637517\"/>\n     <use style=\"fill:#1f77b4;fill-opacity:0.2;stroke:#ffffff;stroke-opacity:0.2;stroke-width:0.48;\" x=\"469.414775\" xlink:href=\"#m071fe2ce43\" y=\"249.635706\"/>\n     <use style=\"fill:#1f77b4;fill-opacity:0.2;stroke:#ffffff;stroke-opacity:0.2;stroke-width:0.48;\" x=\"492.863154\" xlink:href=\"#m071fe2ce43\" y=\"224.785455\"/>\n     <use style=\"fill:#1f77b4;fill-opacity:0.2;stroke:#ffffff;stroke-opacity:0.2;stroke-width:0.48;\" x=\"660.523408\" xlink:href=\"#m071fe2ce43\" y=\"139.786325\"/>\n     <use style=\"fill:#1f77b4;fill-opacity:0.2;stroke:#ffffff;stroke-opacity:0.2;stroke-width:0.48;\" x=\"667.937431\" xlink:href=\"#m071fe2ce43\" y=\"160.576861\"/>\n     <use style=\"fill:#1f77b4;fill-opacity:0.2;stroke:#ffffff;stroke-opacity:0.2;stroke-width:0.48;\" x=\"469.414775\" xlink:href=\"#m071fe2ce43\" y=\"224.785455\"/>\n     <use style=\"fill:#1f77b4;fill-opacity:0.2;stroke:#ffffff;stroke-opacity:0.2;stroke-width:0.48;\" x=\"590.049182\" xlink:href=\"#m071fe2ce43\" y=\"163.181521\"/>\n     <use style=\"fill:#1f77b4;fill-opacity:0.2;stroke:#ffffff;stroke-opacity:0.2;stroke-width:0.48;\" x=\"647.94556\" xlink:href=\"#m071fe2ce43\" y=\"147.628578\"/>\n     <use style=\"fill:#1f77b4;fill-opacity:0.2;stroke:#ffffff;stroke-opacity:0.2;stroke-width:0.48;\" x=\"698.656312\" xlink:href=\"#m071fe2ce43\" y=\"118.231917\"/>\n     <use style=\"fill:#1f77b4;fill-opacity:0.2;stroke:#ffffff;stroke-opacity:0.2;stroke-width:0.48;\" x=\"553.198297\" xlink:href=\"#m071fe2ce43\" y=\"178.88068\"/>\n     <use style=\"fill:#1f77b4;fill-opacity:0.2;stroke:#ffffff;stroke-opacity:0.2;stroke-width:0.48;\" x=\"431.232012\" xlink:href=\"#m071fe2ce43\" y=\"235.893408\"/>\n     <use style=\"fill:#1f77b4;fill-opacity:0.2;stroke:#ffffff;stroke-opacity:0.2;stroke-width:0.48;\" x=\"469.414775\" xlink:href=\"#m071fe2ce43\" y=\"272.527611\"/>\n     <use style=\"fill:#1f77b4;fill-opacity:0.2;stroke:#ffffff;stroke-opacity:0.2;stroke-width:0.48;\" x=\"610.94368\" xlink:href=\"#m071fe2ce43\" y=\"138.239845\"/>\n     <use style=\"fill:#1f77b4;fill-opacity:0.2;stroke:#ffffff;stroke-opacity:0.2;stroke-width:0.48;\" x=\"682.509267\" xlink:href=\"#m071fe2ce43\" y=\"195.262243\"/>\n     <use style=\"fill:#1f77b4;fill-opacity:0.2;stroke:#ffffff;stroke-opacity:0.2;stroke-width:0.48;\" x=\"674.733821\" xlink:href=\"#m071fe2ce43\" y=\"138.687006\"/>\n     <use style=\"fill:#1f77b4;fill-opacity:0.2;stroke:#ffffff;stroke-opacity:0.2;stroke-width:0.48;\" x=\"594.720367\" xlink:href=\"#m071fe2ce43\" y=\"139.411605\"/>\n     <use style=\"fill:#1f77b4;fill-opacity:0.2;stroke:#ffffff;stroke-opacity:0.2;stroke-width:0.48;\" x=\"431.232012\" xlink:href=\"#m071fe2ce43\" y=\"314.09565\"/>\n     <use style=\"fill:#1f77b4;fill-opacity:0.2;stroke:#ffffff;stroke-opacity:0.2;stroke-width:0.48;\" x=\"674.733821\" xlink:href=\"#m071fe2ce43\" y=\"188.327897\"/>\n     <use style=\"fill:#1f77b4;fill-opacity:0.2;stroke:#ffffff;stroke-opacity:0.2;stroke-width:0.48;\" x=\"633.001874\" xlink:href=\"#m071fe2ce43\" y=\"84.7133\"/>\n     <use style=\"fill:#1f77b4;fill-opacity:0.2;stroke:#ffffff;stroke-opacity:0.2;stroke-width:0.48;\" x=\"534.954444\" xlink:href=\"#m071fe2ce43\" y=\"164.640045\"/>\n     <use style=\"fill:#1f77b4;fill-opacity:0.2;stroke:#ffffff;stroke-opacity:0.2;stroke-width:0.48;\" x=\"633.001874\" xlink:href=\"#m071fe2ce43\" y=\"168.865083\"/>\n     <use style=\"fill:#1f77b4;fill-opacity:0.2;stroke:#ffffff;stroke-opacity:0.2;stroke-width:0.48;\" x=\"638.303822\" xlink:href=\"#m071fe2ce43\" y=\"62.121304\"/>\n     <use style=\"fill:#1f77b4;fill-opacity:0.2;stroke:#ffffff;stroke-opacity:0.2;stroke-width:0.48;\" x=\"658.558948\" xlink:href=\"#m071fe2ce43\" y=\"139.494056\"/>\n     <use style=\"fill:#1f77b4;fill-opacity:0.2;stroke:#ffffff;stroke-opacity:0.2;stroke-width:0.48;\" x=\"492.863154\" xlink:href=\"#m071fe2ce43\" y=\"295.70882\"/>\n     <use style=\"fill:#1f77b4;fill-opacity:0.2;stroke:#ffffff;stroke-opacity:0.2;stroke-width:0.48;\" x=\"560.803085\" xlink:href=\"#m071fe2ce43\" y=\"201.341723\"/>\n     <use style=\"fill:#1f77b4;fill-opacity:0.2;stroke:#ffffff;stroke-opacity:0.2;stroke-width:0.48;\" x=\"677.932279\" xlink:href=\"#m071fe2ce43\" y=\"66.96089\"/>\n     <use style=\"fill:#1f77b4;fill-opacity:0.2;stroke:#ffffff;stroke-opacity:0.2;stroke-width:0.48;\" x=\"647.94556\" xlink:href=\"#m071fe2ce43\" y=\"134.113838\"/>\n     <use style=\"fill:#1f77b4;fill-opacity:0.2;stroke:#ffffff;stroke-opacity:0.2;stroke-width:0.48;\" x=\"579.715083\" xlink:href=\"#m071fe2ce43\" y=\"214.083532\"/>\n     <use style=\"fill:#1f77b4;fill-opacity:0.2;stroke:#ffffff;stroke-opacity:0.2;stroke-width:0.48;\" x=\"681.011517\" xlink:href=\"#m071fe2ce43\" y=\"146.819938\"/>\n     <use style=\"fill:#1f77b4;fill-opacity:0.2;stroke:#ffffff;stroke-opacity:0.2;stroke-width:0.48;\" x=\"523.630933\" xlink:href=\"#m071fe2ce43\" y=\"135.8371\"/>\n     <use style=\"fill:#1f77b4;fill-opacity:0.2;stroke:#ffffff;stroke-opacity:0.2;stroke-width:0.48;\" x=\"492.863154\" xlink:href=\"#m071fe2ce43\" y=\"176.552324\"/>\n     <use style=\"fill:#1f77b4;fill-opacity:0.2;stroke:#ffffff;stroke-opacity:0.2;stroke-width:0.48;\" x=\"679.486216\" xlink:href=\"#m071fe2ce43\" y=\"175.31477\"/>\n     <use style=\"fill:#1f77b4;fill-opacity:0.2;stroke:#ffffff;stroke-opacity:0.2;stroke-width:0.48;\" x=\"614.509071\" xlink:href=\"#m071fe2ce43\" y=\"162.572908\"/>\n     <use style=\"fill:#1f77b4;fill-opacity:0.2;stroke:#ffffff;stroke-opacity:0.2;stroke-width:0.48;\" x=\"544.672258\" xlink:href=\"#m071fe2ce43\" y=\"311.087986\"/>\n     <use style=\"fill:#1f77b4;fill-opacity:0.2;stroke:#ffffff;stroke-opacity:0.2;stroke-width:0.48;\" x=\"469.414775\" xlink:href=\"#m071fe2ce43\" y=\"167.293706\"/>\n     <use style=\"fill:#1f77b4;fill-opacity:0.2;stroke:#ffffff;stroke-opacity:0.2;stroke-width:0.48;\" x=\"640.826565\" xlink:href=\"#m071fe2ce43\" y=\"165.815136\"/>\n     <use style=\"fill:#1f77b4;fill-opacity:0.2;stroke:#ffffff;stroke-opacity:0.2;stroke-width:0.48;\" x=\"567.673457\" xlink:href=\"#m071fe2ce43\" y=\"178.609529\"/>\n     <use style=\"fill:#1f77b4;fill-opacity:0.2;stroke:#ffffff;stroke-opacity:0.2;stroke-width:0.48;\" x=\"607.202994\" xlink:href=\"#m071fe2ce43\" y=\"214.083532\"/>\n     <use style=\"fill:#1f77b4;fill-opacity:0.2;stroke:#ffffff;stroke-opacity:0.2;stroke-width:0.48;\" x=\"492.863154\" xlink:href=\"#m071fe2ce43\" y=\"170.54725\"/>\n     <use style=\"fill:#1f77b4;fill-opacity:0.2;stroke:#ffffff;stroke-opacity:0.2;stroke-width:0.48;\" x=\"679.486216\" xlink:href=\"#m071fe2ce43\" y=\"163.538845\"/>\n     <use style=\"fill:#1f77b4;fill-opacity:0.2;stroke:#ffffff;stroke-opacity:0.2;stroke-width:0.48;\" x=\"610.94368\" xlink:href=\"#m071fe2ce43\" y=\"178.88068\"/>\n     <use style=\"fill:#1f77b4;fill-opacity:0.2;stroke:#ffffff;stroke-opacity:0.2;stroke-width:0.48;\" x=\"510.019015\" xlink:href=\"#m071fe2ce43\" y=\"254.201326\"/>\n     <use style=\"fill:#1f77b4;fill-opacity:0.2;stroke:#ffffff;stroke-opacity:0.2;stroke-width:0.48;\" x=\"492.863154\" xlink:href=\"#m071fe2ce43\" y=\"237.916559\"/>\n     <use style=\"fill:#1f77b4;fill-opacity:0.2;stroke:#ffffff;stroke-opacity:0.2;stroke-width:0.48;\" x=\"599.115925\" xlink:href=\"#m071fe2ce43\" y=\"216.474622\"/>\n     <use style=\"fill:#1f77b4;fill-opacity:0.2;stroke:#ffffff;stroke-opacity:0.2;stroke-width:0.48;\" x=\"607.202994\" xlink:href=\"#m071fe2ce43\" y=\"180.872068\"/>\n     <use style=\"fill:#1f77b4;fill-opacity:0.2;stroke:#ffffff;stroke-opacity:0.2;stroke-width:0.48;\" x=\"638.303822\" xlink:href=\"#m071fe2ce43\" y=\"103.955165\"/>\n     <use style=\"fill:#1f77b4;fill-opacity:0.2;stroke:#ffffff;stroke-opacity:0.2;stroke-width:0.48;\" x=\"610.94368\" xlink:href=\"#m071fe2ce43\" y=\"178.674708\"/>\n     <use style=\"fill:#1f77b4;fill-opacity:0.2;stroke:#ffffff;stroke-opacity:0.2;stroke-width:0.48;\" x=\"492.863154\" xlink:href=\"#m071fe2ce43\" y=\"222.493748\"/>\n     <use style=\"fill:#1f77b4;fill-opacity:0.2;stroke:#ffffff;stroke-opacity:0.2;stroke-width:0.48;\" x=\"431.232012\" xlink:href=\"#m071fe2ce43\" y=\"216.142562\"/>\n     <use style=\"fill:#1f77b4;fill-opacity:0.2;stroke:#ffffff;stroke-opacity:0.2;stroke-width:0.48;\" x=\"635.697596\" xlink:href=\"#m071fe2ce43\" y=\"201.71193\"/>\n     <use style=\"fill:#1f77b4;fill-opacity:0.2;stroke:#ffffff;stroke-opacity:0.2;stroke-width:0.48;\" x=\"431.232012\" xlink:href=\"#m071fe2ce43\" y=\"247.45976\"/>\n     <use style=\"fill:#1f77b4;fill-opacity:0.2;stroke:#ffffff;stroke-opacity:0.2;stroke-width:0.48;\" x=\"654.480414\" xlink:href=\"#m071fe2ce43\" y=\"138.514273\"/>\n     <use style=\"fill:#1f77b4;fill-opacity:0.2;stroke:#ffffff;stroke-opacity:0.2;stroke-width:0.48;\" x=\"431.232012\" xlink:href=\"#m071fe2ce43\" y=\"202.925294\"/>\n     <use style=\"fill:#1f77b4;fill-opacity:0.2;stroke:#ffffff;stroke-opacity:0.2;stroke-width:0.48;\" x=\"523.630933\" xlink:href=\"#m071fe2ce43\" y=\"98.378366\"/>\n     <use style=\"fill:#1f77b4;fill-opacity:0.2;stroke:#ffffff;stroke-opacity:0.2;stroke-width:0.48;\" x=\"431.232012\" xlink:href=\"#m071fe2ce43\" y=\"239.794359\"/>\n     <use style=\"fill:#1f77b4;fill-opacity:0.2;stroke:#ffffff;stroke-opacity:0.2;stroke-width:0.48;\" x=\"492.863154\" xlink:href=\"#m071fe2ce43\" y=\"159.885482\"/>\n     <use style=\"fill:#1f77b4;fill-opacity:0.2;stroke:#ffffff;stroke-opacity:0.2;stroke-width:0.48;\" x=\"431.232012\" xlink:href=\"#m071fe2ce43\" y=\"212.396723\"/>\n     <use style=\"fill:#1f77b4;fill-opacity:0.2;stroke:#ffffff;stroke-opacity:0.2;stroke-width:0.48;\" x=\"431.232012\" xlink:href=\"#m071fe2ce43\" y=\"196.602251\"/>\n     <use style=\"fill:#1f77b4;fill-opacity:0.2;stroke:#ffffff;stroke-opacity:0.2;stroke-width:0.48;\" x=\"617.915559\" xlink:href=\"#m071fe2ce43\" y=\"173.318723\"/>\n     <use style=\"fill:#1f77b4;fill-opacity:0.2;stroke:#ffffff;stroke-opacity:0.2;stroke-width:0.48;\" x=\"640.826565\" xlink:href=\"#m071fe2ce43\" y=\"144.952152\"/>\n     <use style=\"fill:#1f77b4;fill-opacity:0.2;stroke:#ffffff;stroke-opacity:0.2;stroke-width:0.48;\" x=\"523.630933\" xlink:href=\"#m071fe2ce43\" y=\"179.438548\"/>\n     <use style=\"fill:#1f77b4;fill-opacity:0.2;stroke:#ffffff;stroke-opacity:0.2;stroke-width:0.48;\" x=\"492.863154\" xlink:href=\"#m071fe2ce43\" y=\"166.445705\"/>\n     <use style=\"fill:#1f77b4;fill-opacity:0.2;stroke:#ffffff;stroke-opacity:0.2;stroke-width:0.48;\" x=\"431.232012\" xlink:href=\"#m071fe2ce43\" y=\"268.124342\"/>\n     <use style=\"fill:#1f77b4;fill-opacity:0.2;stroke:#ffffff;stroke-opacity:0.2;stroke-width:0.48;\" x=\"676.348555\" xlink:href=\"#m071fe2ce43\" y=\"222.488402\"/>\n     <use style=\"fill:#1f77b4;fill-opacity:0.2;stroke:#ffffff;stroke-opacity:0.2;stroke-width:0.48;\" x=\"690.970766\" xlink:href=\"#m071fe2ce43\" y=\"139.70575\"/>\n     <use style=\"fill:#1f77b4;fill-opacity:0.2;stroke:#ffffff;stroke-opacity:0.2;stroke-width:0.48;\" x=\"431.232012\" xlink:href=\"#m071fe2ce43\" y=\"308.24986\"/>\n     <use style=\"fill:#1f77b4;fill-opacity:0.2;stroke:#ffffff;stroke-opacity:0.2;stroke-width:0.48;\" x=\"469.414775\" xlink:href=\"#m071fe2ce43\" y=\"302.039687\"/>\n     <use style=\"fill:#1f77b4;fill-opacity:0.2;stroke:#ffffff;stroke-opacity:0.2;stroke-width:0.48;\" x=\"431.232012\" xlink:href=\"#m071fe2ce43\" y=\"149.010486\"/>\n     <use style=\"fill:#1f77b4;fill-opacity:0.2;stroke:#ffffff;stroke-opacity:0.2;stroke-width:0.48;\" x=\"553.198297\" xlink:href=\"#m071fe2ce43\" y=\"188.390474\"/>\n     <use style=\"fill:#1f77b4;fill-opacity:0.2;stroke:#ffffff;stroke-opacity:0.2;stroke-width:0.48;\" x=\"694.901124\" xlink:href=\"#m071fe2ce43\" y=\"146.819938\"/>\n     <use style=\"fill:#1f77b4;fill-opacity:0.2;stroke:#ffffff;stroke-opacity:0.2;stroke-width:0.48;\" x=\"610.94368\" xlink:href=\"#m071fe2ce43\" y=\"249.635706\"/>\n     <use style=\"fill:#1f77b4;fill-opacity:0.2;stroke:#ffffff;stroke-opacity:0.2;stroke-width:0.48;\" x=\"573.944024\" xlink:href=\"#m071fe2ce43\" y=\"240.419322\"/>\n     <use style=\"fill:#1f77b4;fill-opacity:0.2;stroke:#ffffff;stroke-opacity:0.2;stroke-width:0.48;\" x=\"677.932279\" xlink:href=\"#m071fe2ce43\" y=\"157.446407\"/>\n     <use style=\"fill:#1f77b4;fill-opacity:0.2;stroke:#ffffff;stroke-opacity:0.2;stroke-width:0.48;\" x=\"685.426154\" xlink:href=\"#m071fe2ce43\" y=\"204.070455\"/>\n     <use style=\"fill:#1f77b4;fill-opacity:0.2;stroke:#ffffff;stroke-opacity:0.2;stroke-width:0.48;\" x=\"469.414775\" xlink:href=\"#m071fe2ce43\" y=\"264.127275\"/>\n     <use style=\"fill:#1f77b4;fill-opacity:0.2;stroke:#ffffff;stroke-opacity:0.2;stroke-width:0.48;\" x=\"692.301408\" xlink:href=\"#m071fe2ce43\" y=\"210.054818\"/>\n     <use style=\"fill:#1f77b4;fill-opacity:0.2;stroke:#ffffff;stroke-opacity:0.2;stroke-width:0.48;\" x=\"650.18369\" xlink:href=\"#m071fe2ce43\" y=\"158.831775\"/>\n     <use style=\"fill:#1f77b4;fill-opacity:0.2;stroke:#ffffff;stroke-opacity:0.2;stroke-width:0.48;\" x=\"560.803085\" xlink:href=\"#m071fe2ce43\" y=\"206.905376\"/>\n     <use style=\"fill:#1f77b4;fill-opacity:0.2;stroke:#ffffff;stroke-opacity:0.2;stroke-width:0.48;\" x=\"599.115925\" xlink:href=\"#m071fe2ce43\" y=\"226.490747\"/>\n     <use style=\"fill:#1f77b4;fill-opacity:0.2;stroke:#ffffff;stroke-opacity:0.2;stroke-width:0.48;\" x=\"630.209958\" xlink:href=\"#m071fe2ce43\" y=\"135.8371\"/>\n     <use style=\"fill:#1f77b4;fill-opacity:0.2;stroke:#ffffff;stroke-opacity:0.2;stroke-width:0.48;\" x=\"599.115925\" xlink:href=\"#m071fe2ce43\" y=\"221.209252\"/>\n     <use style=\"fill:#1f77b4;fill-opacity:0.2;stroke:#ffffff;stroke-opacity:0.2;stroke-width:0.48;\" x=\"667.937431\" xlink:href=\"#m071fe2ce43\" y=\"136.891961\"/>\n     <use style=\"fill:#1f77b4;fill-opacity:0.2;stroke:#ffffff;stroke-opacity:0.2;stroke-width:0.48;\" x=\"431.232012\" xlink:href=\"#m071fe2ce43\" y=\"159.5618\"/>\n     <use style=\"fill:#1f77b4;fill-opacity:0.2;stroke:#ffffff;stroke-opacity:0.2;stroke-width:0.48;\" x=\"686.84717\" xlink:href=\"#m071fe2ce43\" y=\"71.724668\"/>\n     <use style=\"fill:#1f77b4;fill-opacity:0.2;stroke:#ffffff;stroke-opacity:0.2;stroke-width:0.48;\" x=\"431.232012\" xlink:href=\"#m071fe2ce43\" y=\"316.449996\"/>\n     <use style=\"fill:#1f77b4;fill-opacity:0.2;stroke:#ffffff;stroke-opacity:0.2;stroke-width:0.48;\" x=\"544.672258\" xlink:href=\"#m071fe2ce43\" y=\"149.424984\"/>\n     <use style=\"fill:#1f77b4;fill-opacity:0.2;stroke:#ffffff;stroke-opacity:0.2;stroke-width:0.48;\" x=\"614.509071\" xlink:href=\"#m071fe2ce43\" y=\"217.815344\"/>\n     <use style=\"fill:#1f77b4;fill-opacity:0.2;stroke:#ffffff;stroke-opacity:0.2;stroke-width:0.48;\" x=\"431.232012\" xlink:href=\"#m071fe2ce43\" y=\"280.053881\"/>\n     <use style=\"fill:#1f77b4;fill-opacity:0.2;stroke:#ffffff;stroke-opacity:0.2;stroke-width:0.48;\" x=\"567.673457\" xlink:href=\"#m071fe2ce43\" y=\"298.869355\"/>\n     <use style=\"fill:#1f77b4;fill-opacity:0.2;stroke:#ffffff;stroke-opacity:0.2;stroke-width:0.48;\" x=\"652.360847\" xlink:href=\"#m071fe2ce43\" y=\"146.819938\"/>\n     <use style=\"fill:#1f77b4;fill-opacity:0.2;stroke:#ffffff;stroke-opacity:0.2;stroke-width:0.48;\" x=\"660.523408\" xlink:href=\"#m071fe2ce43\" y=\"119.411672\"/>\n     <use style=\"fill:#1f77b4;fill-opacity:0.2;stroke:#ffffff;stroke-opacity:0.2;stroke-width:0.48;\" x=\"567.673457\" xlink:href=\"#m071fe2ce43\" y=\"165.264253\"/>\n     <use style=\"fill:#1f77b4;fill-opacity:0.2;stroke:#ffffff;stroke-opacity:0.2;stroke-width:0.48;\" x=\"594.720367\" xlink:href=\"#m071fe2ce43\" y=\"242.866029\"/>\n     <use style=\"fill:#1f77b4;fill-opacity:0.2;stroke:#ffffff;stroke-opacity:0.2;stroke-width:0.48;\" x=\"469.414775\" xlink:href=\"#m071fe2ce43\" y=\"224.785455\"/>\n     <use style=\"fill:#1f77b4;fill-opacity:0.2;stroke:#ffffff;stroke-opacity:0.2;stroke-width:0.48;\" x=\"674.733821\" xlink:href=\"#m071fe2ce43\" y=\"142.161146\"/>\n     <use style=\"fill:#1f77b4;fill-opacity:0.2;stroke:#ffffff;stroke-opacity:0.2;stroke-width:0.48;\" x=\"523.630933\" xlink:href=\"#m071fe2ce43\" y=\"249.314005\"/>\n     <use style=\"fill:#1f77b4;fill-opacity:0.2;stroke:#ffffff;stroke-opacity:0.2;stroke-width:0.48;\" x=\"431.232012\" xlink:href=\"#m071fe2ce43\" y=\"287.474671\"/>\n     <use style=\"fill:#1f77b4;fill-opacity:0.2;stroke:#ffffff;stroke-opacity:0.2;stroke-width:0.48;\" x=\"492.863154\" xlink:href=\"#m071fe2ce43\" y=\"202.808824\"/>\n     <use style=\"fill:#1f77b4;fill-opacity:0.2;stroke:#ffffff;stroke-opacity:0.2;stroke-width:0.48;\" x=\"492.863154\" xlink:href=\"#m071fe2ce43\" y=\"230.929695\"/>\n     <use style=\"fill:#1f77b4;fill-opacity:0.2;stroke:#ffffff;stroke-opacity:0.2;stroke-width:0.48;\" x=\"431.232012\" xlink:href=\"#m071fe2ce43\" y=\"236.640456\"/>\n     <use style=\"fill:#1f77b4;fill-opacity:0.2;stroke:#ffffff;stroke-opacity:0.2;stroke-width:0.48;\" x=\"694.901124\" xlink:href=\"#m071fe2ce43\" y=\"101.757111\"/>\n     <use style=\"fill:#1f77b4;fill-opacity:0.2;stroke:#ffffff;stroke-opacity:0.2;stroke-width:0.48;\" x=\"666.146302\" xlink:href=\"#m071fe2ce43\" y=\"144.952152\"/>\n     <use style=\"fill:#1f77b4;fill-opacity:0.2;stroke:#ffffff;stroke-opacity:0.2;stroke-width:0.48;\" x=\"431.232012\" xlink:href=\"#m071fe2ce43\" y=\"209.240138\"/>\n     <use style=\"fill:#1f77b4;fill-opacity:0.2;stroke:#ffffff;stroke-opacity:0.2;stroke-width:0.48;\" x=\"701.070252\" xlink:href=\"#m071fe2ce43\" y=\"81.914605\"/>\n     <use style=\"fill:#1f77b4;fill-opacity:0.2;stroke:#ffffff;stroke-opacity:0.2;stroke-width:0.48;\" x=\"647.94556\" xlink:href=\"#m071fe2ce43\" y=\"63.092777\"/>\n     <use style=\"fill:#1f77b4;fill-opacity:0.2;stroke:#ffffff;stroke-opacity:0.2;stroke-width:0.48;\" x=\"544.672258\" xlink:href=\"#m071fe2ce43\" y=\"281.864657\"/>\n     <use style=\"fill:#1f77b4;fill-opacity:0.2;stroke:#ffffff;stroke-opacity:0.2;stroke-width:0.48;\" x=\"567.673457\" xlink:href=\"#m071fe2ce43\" y=\"132.632663\"/>\n     <use style=\"fill:#1f77b4;fill-opacity:0.2;stroke:#ffffff;stroke-opacity:0.2;stroke-width:0.48;\" x=\"567.673457\" xlink:href=\"#m071fe2ce43\" y=\"178.768261\"/>\n     <use style=\"fill:#1f77b4;fill-opacity:0.2;stroke:#ffffff;stroke-opacity:0.2;stroke-width:0.48;\" x=\"610.94368\" xlink:href=\"#m071fe2ce43\" y=\"170.428698\"/>\n     <use style=\"fill:#1f77b4;fill-opacity:0.2;stroke:#ffffff;stroke-opacity:0.2;stroke-width:0.48;\" x=\"707.926227\" xlink:href=\"#m071fe2ce43\" y=\"81.669508\"/>\n     <use style=\"fill:#1f77b4;fill-opacity:0.2;stroke:#ffffff;stroke-opacity:0.2;stroke-width:0.48;\" x=\"638.303822\" xlink:href=\"#m071fe2ce43\" y=\"117.745954\"/>\n     <use style=\"fill:#1f77b4;fill-opacity:0.2;stroke:#ffffff;stroke-opacity:0.2;stroke-width:0.48;\" x=\"469.414775\" xlink:href=\"#m071fe2ce43\" y=\"156.812259\"/>\n     <use style=\"fill:#1f77b4;fill-opacity:0.2;stroke:#ffffff;stroke-opacity:0.2;stroke-width:0.48;\" x=\"431.232012\" xlink:href=\"#m071fe2ce43\" y=\"296.104898\"/>\n     <use style=\"fill:#1f77b4;fill-opacity:0.2;stroke:#ffffff;stroke-opacity:0.2;stroke-width:0.48;\" x=\"656.545495\" xlink:href=\"#m071fe2ce43\" y=\"211.025283\"/>\n     <use style=\"fill:#1f77b4;fill-opacity:0.2;stroke:#ffffff;stroke-opacity:0.2;stroke-width:0.48;\" x=\"431.232012\" xlink:href=\"#m071fe2ce43\" y=\"270.164156\"/>\n     <use style=\"fill:#1f77b4;fill-opacity:0.2;stroke:#ffffff;stroke-opacity:0.2;stroke-width:0.48;\" x=\"431.232012\" xlink:href=\"#m071fe2ce43\" y=\"270.970453\"/>\n     <use style=\"fill:#1f77b4;fill-opacity:0.2;stroke:#ffffff;stroke-opacity:0.2;stroke-width:0.48;\" x=\"686.84717\" xlink:href=\"#m071fe2ce43\" y=\"87.928837\"/>\n     <use style=\"fill:#1f77b4;fill-opacity:0.2;stroke:#ffffff;stroke-opacity:0.2;stroke-width:0.48;\" x=\"585.063422\" xlink:href=\"#m071fe2ce43\" y=\"191.560301\"/>\n     <use style=\"fill:#1f77b4;fill-opacity:0.2;stroke:#ffffff;stroke-opacity:0.2;stroke-width:0.48;\" x=\"654.480414\" xlink:href=\"#m071fe2ce43\" y=\"148.252157\"/>\n     <use style=\"fill:#1f77b4;fill-opacity:0.2;stroke:#ffffff;stroke-opacity:0.2;stroke-width:0.48;\" x=\"685.426154\" xlink:href=\"#m071fe2ce43\" y=\"164.784561\"/>\n     <use style=\"fill:#1f77b4;fill-opacity:0.2;stroke:#ffffff;stroke-opacity:0.2;stroke-width:0.48;\" x=\"553.198297\" xlink:href=\"#m071fe2ce43\" y=\"149.341163\"/>\n     <use style=\"fill:#1f77b4;fill-opacity:0.2;stroke:#ffffff;stroke-opacity:0.2;stroke-width:0.48;\" x=\"640.826565\" xlink:href=\"#m071fe2ce43\" y=\"204.276778\"/>\n     <use style=\"fill:#1f77b4;fill-opacity:0.2;stroke:#ffffff;stroke-opacity:0.2;stroke-width:0.48;\" x=\"469.414775\" xlink:href=\"#m071fe2ce43\" y=\"240.419322\"/>\n     <use style=\"fill:#1f77b4;fill-opacity:0.2;stroke:#ffffff;stroke-opacity:0.2;stroke-width:0.48;\" x=\"431.232012\" xlink:href=\"#m071fe2ce43\" y=\"249.981926\"/>\n     <use style=\"fill:#1f77b4;fill-opacity:0.2;stroke:#ffffff;stroke-opacity:0.2;stroke-width:0.48;\" x=\"679.486216\" xlink:href=\"#m071fe2ce43\" y=\"63.697307\"/>\n     <use style=\"fill:#1f77b4;fill-opacity:0.2;stroke:#ffffff;stroke-opacity:0.2;stroke-width:0.48;\" x=\"431.232012\" xlink:href=\"#m071fe2ce43\" y=\"253.389004\"/>\n     <use style=\"fill:#1f77b4;fill-opacity:0.2;stroke:#ffffff;stroke-opacity:0.2;stroke-width:0.48;\" x=\"633.001874\" xlink:href=\"#m071fe2ce43\" y=\"143.645426\"/>\n     <use style=\"fill:#1f77b4;fill-opacity:0.2;stroke:#ffffff;stroke-opacity:0.2;stroke-width:0.48;\" x=\"469.414775\" xlink:href=\"#m071fe2ce43\" y=\"167.293706\"/>\n     <use style=\"fill:#1f77b4;fill-opacity:0.2;stroke:#ffffff;stroke-opacity:0.2;stroke-width:0.48;\" x=\"431.232012\" xlink:href=\"#m071fe2ce43\" y=\"291.707382\"/>\n     <use style=\"fill:#1f77b4;fill-opacity:0.2;stroke:#ffffff;stroke-opacity:0.2;stroke-width:0.48;\" x=\"560.803085\" xlink:href=\"#m071fe2ce43\" y=\"241.821877\"/>\n     <use style=\"fill:#1f77b4;fill-opacity:0.2;stroke:#ffffff;stroke-opacity:0.2;stroke-width:0.48;\" x=\"692.301408\" xlink:href=\"#m071fe2ce43\" y=\"116.451604\"/>\n     <use style=\"fill:#1f77b4;fill-opacity:0.2;stroke:#ffffff;stroke-opacity:0.2;stroke-width:0.48;\" x=\"469.414775\" xlink:href=\"#m071fe2ce43\" y=\"281.504687\"/>\n     <use style=\"fill:#1f77b4;fill-opacity:0.2;stroke:#ffffff;stroke-opacity:0.2;stroke-width:0.48;\" x=\"469.414775\" xlink:href=\"#m071fe2ce43\" y=\"174.648035\"/>\n     <use style=\"fill:#1f77b4;fill-opacity:0.2;stroke:#ffffff;stroke-opacity:0.2;stroke-width:0.48;\" x=\"510.019015\" xlink:href=\"#m071fe2ce43\" y=\"140.222605\"/>\n     <use style=\"fill:#1f77b4;fill-opacity:0.2;stroke:#ffffff;stroke-opacity:0.2;stroke-width:0.48;\" x=\"534.954444\" xlink:href=\"#m071fe2ce43\" y=\"218.756124\"/>\n     <use style=\"fill:#1f77b4;fill-opacity:0.2;stroke:#ffffff;stroke-opacity:0.2;stroke-width:0.48;\" x=\"599.115925\" xlink:href=\"#m071fe2ce43\" y=\"288.465877\"/>\n     <use style=\"fill:#1f77b4;fill-opacity:0.2;stroke:#ffffff;stroke-opacity:0.2;stroke-width:0.48;\" x=\"621.177307\" xlink:href=\"#m071fe2ce43\" y=\"222.493748\"/>\n     <use style=\"fill:#1f77b4;fill-opacity:0.2;stroke:#ffffff;stroke-opacity:0.2;stroke-width:0.48;\" x=\"579.715083\" xlink:href=\"#m071fe2ce43\" y=\"241.103012\"/>\n     <use style=\"fill:#1f77b4;fill-opacity:0.2;stroke:#ffffff;stroke-opacity:0.2;stroke-width:0.48;\" x=\"686.84717\" xlink:href=\"#m071fe2ce43\" y=\"149.286531\"/>\n     <use style=\"fill:#1f77b4;fill-opacity:0.2;stroke:#ffffff;stroke-opacity:0.2;stroke-width:0.48;\" x=\"560.803085\" xlink:href=\"#m071fe2ce43\" y=\"249.118512\"/>\n     <use style=\"fill:#1f77b4;fill-opacity:0.2;stroke:#ffffff;stroke-opacity:0.2;stroke-width:0.48;\" x=\"627.314354\" xlink:href=\"#m071fe2ce43\" y=\"139.452592\"/>\n     <use style=\"fill:#1f77b4;fill-opacity:0.2;stroke:#ffffff;stroke-opacity:0.2;stroke-width:0.48;\" x=\"696.1715\" xlink:href=\"#m071fe2ce43\" y=\"160.576861\"/>\n     <use style=\"fill:#1f77b4;fill-opacity:0.2;stroke:#ffffff;stroke-opacity:0.2;stroke-width:0.48;\" x=\"553.198297\" xlink:href=\"#m071fe2ce43\" y=\"142.931159\"/>\n     <use style=\"fill:#1f77b4;fill-opacity:0.2;stroke:#ffffff;stroke-opacity:0.2;stroke-width:0.48;\" x=\"560.803085\" xlink:href=\"#m071fe2ce43\" y=\"209.960439\"/>\n     <use style=\"fill:#1f77b4;fill-opacity:0.2;stroke:#ffffff;stroke-opacity:0.2;stroke-width:0.48;\" x=\"492.863154\" xlink:href=\"#m071fe2ce43\" y=\"151.771711\"/>\n     <use style=\"fill:#1f77b4;fill-opacity:0.2;stroke:#ffffff;stroke-opacity:0.2;stroke-width:0.48;\" x=\"431.232012\" xlink:href=\"#m071fe2ce43\" y=\"217.924057\"/>\n     <use style=\"fill:#1f77b4;fill-opacity:0.2;stroke:#ffffff;stroke-opacity:0.2;stroke-width:0.48;\" x=\"553.198297\" xlink:href=\"#m071fe2ce43\" y=\"191.560301\"/>\n     <use style=\"fill:#1f77b4;fill-opacity:0.2;stroke:#ffffff;stroke-opacity:0.2;stroke-width:0.48;\" x=\"674.733821\" xlink:href=\"#m071fe2ce43\" y=\"138.97167\"/>\n     <use style=\"fill:#1f77b4;fill-opacity:0.2;stroke:#ffffff;stroke-opacity:0.2;stroke-width:0.48;\" x=\"645.64276\" xlink:href=\"#m071fe2ce43\" y=\"232.307929\"/>\n     <use style=\"fill:#1f77b4;fill-opacity:0.2;stroke:#ffffff;stroke-opacity:0.2;stroke-width:0.48;\" x=\"534.954444\" xlink:href=\"#m071fe2ce43\" y=\"170.355401\"/>\n     <use style=\"fill:#1f77b4;fill-opacity:0.2;stroke:#ffffff;stroke-opacity:0.2;stroke-width:0.48;\" x=\"621.177307\" xlink:href=\"#m071fe2ce43\" y=\"252.533576\"/>\n     <use style=\"fill:#1f77b4;fill-opacity:0.2;stroke:#ffffff;stroke-opacity:0.2;stroke-width:0.48;\" x=\"431.232012\" xlink:href=\"#m071fe2ce43\" y=\"192.280091\"/>\n     <use style=\"fill:#1f77b4;fill-opacity:0.2;stroke:#ffffff;stroke-opacity:0.2;stroke-width:0.48;\" x=\"431.232012\" xlink:href=\"#m071fe2ce43\" y=\"262.836153\"/>\n     <use style=\"fill:#1f77b4;fill-opacity:0.2;stroke:#ffffff;stroke-opacity:0.2;stroke-width:0.48;\" x=\"621.177307\" xlink:href=\"#m071fe2ce43\" y=\"197.70985\"/>\n     <use style=\"fill:#1f77b4;fill-opacity:0.2;stroke:#ffffff;stroke-opacity:0.2;stroke-width:0.48;\" x=\"510.019015\" xlink:href=\"#m071fe2ce43\" y=\"275.792355\"/>\n     <use style=\"fill:#1f77b4;fill-opacity:0.2;stroke:#ffffff;stroke-opacity:0.2;stroke-width:0.48;\" x=\"523.630933\" xlink:href=\"#m071fe2ce43\" y=\"234.827586\"/>\n     <use style=\"fill:#1f77b4;fill-opacity:0.2;stroke:#ffffff;stroke-opacity:0.2;stroke-width:0.48;\" x=\"688.244404\" xlink:href=\"#m071fe2ce43\" y=\"158.219646\"/>\n     <use style=\"fill:#1f77b4;fill-opacity:0.2;stroke:#ffffff;stroke-opacity:0.2;stroke-width:0.48;\" x=\"510.019015\" xlink:href=\"#m071fe2ce43\" y=\"278.629752\"/>\n     <use style=\"fill:#1f77b4;fill-opacity:0.2;stroke:#ffffff;stroke-opacity:0.2;stroke-width:0.48;\" x=\"553.198297\" xlink:href=\"#m071fe2ce43\" y=\"232.510115\"/>\n     <use style=\"fill:#1f77b4;fill-opacity:0.2;stroke:#ffffff;stroke-opacity:0.2;stroke-width:0.48;\" x=\"682.509267\" xlink:href=\"#m071fe2ce43\" y=\"154.897877\"/>\n     <use style=\"fill:#1f77b4;fill-opacity:0.2;stroke:#ffffff;stroke-opacity:0.2;stroke-width:0.48;\" x=\"567.673457\" xlink:href=\"#m071fe2ce43\" y=\"153.571918\"/>\n     <use style=\"fill:#1f77b4;fill-opacity:0.2;stroke:#ffffff;stroke-opacity:0.2;stroke-width:0.48;\" x=\"431.232012\" xlink:href=\"#m071fe2ce43\" y=\"228.075364\"/>\n     <use style=\"fill:#1f77b4;fill-opacity:0.2;stroke:#ffffff;stroke-opacity:0.2;stroke-width:0.48;\" x=\"614.509071\" xlink:href=\"#m071fe2ce43\" y=\"159.885482\"/>\n     <use style=\"fill:#1f77b4;fill-opacity:0.2;stroke:#ffffff;stroke-opacity:0.2;stroke-width:0.48;\" x=\"573.944024\" xlink:href=\"#m071fe2ce43\" y=\"178.415124\"/>\n     <use style=\"fill:#1f77b4;fill-opacity:0.2;stroke:#ffffff;stroke-opacity:0.2;stroke-width:0.48;\" x=\"431.232012\" xlink:href=\"#m071fe2ce43\" y=\"281.751002\"/>\n     <use style=\"fill:#1f77b4;fill-opacity:0.2;stroke:#ffffff;stroke-opacity:0.2;stroke-width:0.48;\" x=\"703.417431\" xlink:href=\"#m071fe2ce43\" y=\"61.834493\"/>\n     <use style=\"fill:#1f77b4;fill-opacity:0.2;stroke:#ffffff;stroke-opacity:0.2;stroke-width:0.48;\" x=\"469.414775\" xlink:href=\"#m071fe2ce43\" y=\"189.254429\"/>\n     <use style=\"fill:#1f77b4;fill-opacity:0.2;stroke:#ffffff;stroke-opacity:0.2;stroke-width:0.48;\" x=\"431.232012\" xlink:href=\"#m071fe2ce43\" y=\"178.88068\"/>\n     <use style=\"fill:#1f77b4;fill-opacity:0.2;stroke:#ffffff;stroke-opacity:0.2;stroke-width:0.48;\" x=\"431.232012\" xlink:href=\"#m071fe2ce43\" y=\"173.214828\"/>\n     <use style=\"fill:#1f77b4;fill-opacity:0.2;stroke:#ffffff;stroke-opacity:0.2;stroke-width:0.48;\" x=\"431.232012\" xlink:href=\"#m071fe2ce43\" y=\"288.066744\"/>\n     <use style=\"fill:#1f77b4;fill-opacity:0.2;stroke:#ffffff;stroke-opacity:0.2;stroke-width:0.48;\" x=\"523.630933\" xlink:href=\"#m071fe2ce43\" y=\"198.970894\"/>\n     <use style=\"fill:#1f77b4;fill-opacity:0.2;stroke:#ffffff;stroke-opacity:0.2;stroke-width:0.48;\" x=\"431.232012\" xlink:href=\"#m071fe2ce43\" y=\"285.578832\"/>\n     <use style=\"fill:#1f77b4;fill-opacity:0.2;stroke:#ffffff;stroke-opacity:0.2;stroke-width:0.48;\" x=\"553.198297\" xlink:href=\"#m071fe2ce43\" y=\"156.123221\"/>\n     <use style=\"fill:#1f77b4;fill-opacity:0.2;stroke:#ffffff;stroke-opacity:0.2;stroke-width:0.48;\" x=\"560.803085\" xlink:href=\"#m071fe2ce43\" y=\"228.99655\"/>\n     <use style=\"fill:#1f77b4;fill-opacity:0.2;stroke:#ffffff;stroke-opacity:0.2;stroke-width:0.48;\" x=\"627.314354\" xlink:href=\"#m071fe2ce43\" y=\"214.083532\"/>\n     <use style=\"fill:#1f77b4;fill-opacity:0.2;stroke:#ffffff;stroke-opacity:0.2;stroke-width:0.48;\" x=\"610.94368\" xlink:href=\"#m071fe2ce43\" y=\"247.45976\"/>\n     <use style=\"fill:#1f77b4;fill-opacity:0.2;stroke:#ffffff;stroke-opacity:0.2;stroke-width:0.48;\" x=\"492.863154\" xlink:href=\"#m071fe2ce43\" y=\"264.500568\"/>\n     <use style=\"fill:#1f77b4;fill-opacity:0.2;stroke:#ffffff;stroke-opacity:0.2;stroke-width:0.48;\" x=\"658.558948\" xlink:href=\"#m071fe2ce43\" y=\"244.431684\"/>\n     <use style=\"fill:#1f77b4;fill-opacity:0.2;stroke:#ffffff;stroke-opacity:0.2;stroke-width:0.48;\" x=\"523.630933\" xlink:href=\"#m071fe2ce43\" y=\"206.021456\"/>\n     <use style=\"fill:#1f77b4;fill-opacity:0.2;stroke:#ffffff;stroke-opacity:0.2;stroke-width:0.48;\" x=\"431.232012\" xlink:href=\"#m071fe2ce43\" y=\"274.707779\"/>\n     <use style=\"fill:#1f77b4;fill-opacity:0.2;stroke:#ffffff;stroke-opacity:0.2;stroke-width:0.48;\" x=\"654.480414\" xlink:href=\"#m071fe2ce43\" y=\"128.895384\"/>\n     <use style=\"fill:#1f77b4;fill-opacity:0.2;stroke:#ffffff;stroke-opacity:0.2;stroke-width:0.48;\" x=\"534.954444\" xlink:href=\"#m071fe2ce43\" y=\"139.751259\"/>\n     <use style=\"fill:#1f77b4;fill-opacity:0.2;stroke:#ffffff;stroke-opacity:0.2;stroke-width:0.48;\" x=\"585.063422\" xlink:href=\"#m071fe2ce43\" y=\"156.001437\"/>\n     <use style=\"fill:#1f77b4;fill-opacity:0.2;stroke:#ffffff;stroke-opacity:0.2;stroke-width:0.48;\" x=\"492.863154\" xlink:href=\"#m071fe2ce43\" y=\"245.360615\"/>\n     <use style=\"fill:#1f77b4;fill-opacity:0.2;stroke:#ffffff;stroke-opacity:0.2;stroke-width:0.48;\" x=\"510.019015\" xlink:href=\"#m071fe2ce43\" y=\"311.087986\"/>\n     <use style=\"fill:#1f77b4;fill-opacity:0.2;stroke:#ffffff;stroke-opacity:0.2;stroke-width:0.48;\" x=\"607.202994\" xlink:href=\"#m071fe2ce43\" y=\"236.631836\"/>\n     <use style=\"fill:#1f77b4;fill-opacity:0.2;stroke:#ffffff;stroke-opacity:0.2;stroke-width:0.48;\" x=\"702.251944\" xlink:href=\"#m071fe2ce43\" y=\"72.703805\"/>\n     <use style=\"fill:#1f77b4;fill-opacity:0.2;stroke:#ffffff;stroke-opacity:0.2;stroke-width:0.48;\" x=\"692.301408\" xlink:href=\"#m071fe2ce43\" y=\"78.255281\"/>\n     <use style=\"fill:#1f77b4;fill-opacity:0.2;stroke:#ffffff;stroke-opacity:0.2;stroke-width:0.48;\" x=\"492.863154\" xlink:href=\"#m071fe2ce43\" y=\"153.622943\"/>\n     <use style=\"fill:#1f77b4;fill-opacity:0.2;stroke:#ffffff;stroke-opacity:0.2;stroke-width:0.48;\" x=\"703.417431\" xlink:href=\"#m071fe2ce43\" y=\"79.029633\"/>\n     <use style=\"fill:#1f77b4;fill-opacity:0.2;stroke:#ffffff;stroke-opacity:0.2;stroke-width:0.48;\" x=\"579.715083\" xlink:href=\"#m071fe2ce43\" y=\"209.124334\"/>\n     <use style=\"fill:#1f77b4;fill-opacity:0.2;stroke:#ffffff;stroke-opacity:0.2;stroke-width:0.48;\" x=\"697.423037\" xlink:href=\"#m071fe2ce43\" y=\"130.750219\"/>\n     <use style=\"fill:#1f77b4;fill-opacity:0.2;stroke:#ffffff;stroke-opacity:0.2;stroke-width:0.48;\" x=\"431.232012\" xlink:href=\"#m071fe2ce43\" y=\"204.070455\"/>\n     <use style=\"fill:#1f77b4;fill-opacity:0.2;stroke:#ffffff;stroke-opacity:0.2;stroke-width:0.48;\" x=\"654.480414\" xlink:href=\"#m071fe2ce43\" y=\"142.635851\"/>\n     <use style=\"fill:#1f77b4;fill-opacity:0.2;stroke:#ffffff;stroke-opacity:0.2;stroke-width:0.48;\" x=\"431.232012\" xlink:href=\"#m071fe2ce43\" y=\"156.812259\"/>\n     <use style=\"fill:#1f77b4;fill-opacity:0.2;stroke:#ffffff;stroke-opacity:0.2;stroke-width:0.48;\" x=\"567.673457\" xlink:href=\"#m071fe2ce43\" y=\"142.054634\"/>\n     <use style=\"fill:#1f77b4;fill-opacity:0.2;stroke:#ffffff;stroke-opacity:0.2;stroke-width:0.48;\" x=\"679.486216\" xlink:href=\"#m071fe2ce43\" y=\"85.435365\"/>\n     <use style=\"fill:#1f77b4;fill-opacity:0.2;stroke:#ffffff;stroke-opacity:0.2;stroke-width:0.48;\" x=\"617.915559\" xlink:href=\"#m071fe2ce43\" y=\"64.515474\"/>\n     <use style=\"fill:#1f77b4;fill-opacity:0.2;stroke:#ffffff;stroke-opacity:0.2;stroke-width:0.48;\" x=\"431.232012\" xlink:href=\"#m071fe2ce43\" y=\"224.923053\"/>\n     <use style=\"fill:#1f77b4;fill-opacity:0.2;stroke:#ffffff;stroke-opacity:0.2;stroke-width:0.48;\" x=\"510.019015\" xlink:href=\"#m071fe2ce43\" y=\"253.532174\"/>\n     <use style=\"fill:#1f77b4;fill-opacity:0.2;stroke:#ffffff;stroke-opacity:0.2;stroke-width:0.48;\" x=\"635.697596\" xlink:href=\"#m071fe2ce43\" y=\"175.509116\"/>\n     <use style=\"fill:#1f77b4;fill-opacity:0.2;stroke:#ffffff;stroke-opacity:0.2;stroke-width:0.48;\" x=\"689.618677\" xlink:href=\"#m071fe2ce43\" y=\"102.694767\"/>\n     <use style=\"fill:#1f77b4;fill-opacity:0.2;stroke:#ffffff;stroke-opacity:0.2;stroke-width:0.48;\" x=\"686.84717\" xlink:href=\"#m071fe2ce43\" y=\"137.065398\"/>\n     <use style=\"fill:#1f77b4;fill-opacity:0.2;stroke:#ffffff;stroke-opacity:0.2;stroke-width:0.48;\" x=\"469.414775\" xlink:href=\"#m071fe2ce43\" y=\"273.301273\"/>\n     <use style=\"fill:#1f77b4;fill-opacity:0.2;stroke:#ffffff;stroke-opacity:0.2;stroke-width:0.48;\" x=\"523.630933\" xlink:href=\"#m071fe2ce43\" y=\"196.251544\"/>\n     <use style=\"fill:#1f77b4;fill-opacity:0.2;stroke:#ffffff;stroke-opacity:0.2;stroke-width:0.48;\" x=\"431.232012\" xlink:href=\"#m071fe2ce43\" y=\"288.529233\"/>\n     <use style=\"fill:#1f77b4;fill-opacity:0.2;stroke:#ffffff;stroke-opacity:0.2;stroke-width:0.48;\" x=\"510.019015\" xlink:href=\"#m071fe2ce43\" y=\"124.291875\"/>\n     <use style=\"fill:#1f77b4;fill-opacity:0.2;stroke:#ffffff;stroke-opacity:0.2;stroke-width:0.48;\" x=\"431.232012\" xlink:href=\"#m071fe2ce43\" y=\"214.056898\"/>\n     <use style=\"fill:#1f77b4;fill-opacity:0.2;stroke:#ffffff;stroke-opacity:0.2;stroke-width:0.48;\" x=\"689.618677\" xlink:href=\"#m071fe2ce43\" y=\"164.293703\"/>\n     <use style=\"fill:#1f77b4;fill-opacity:0.2;stroke:#ffffff;stroke-opacity:0.2;stroke-width:0.48;\" x=\"594.720367\" xlink:href=\"#m071fe2ce43\" y=\"211.352927\"/>\n     <use style=\"fill:#1f77b4;fill-opacity:0.2;stroke:#ffffff;stroke-opacity:0.2;stroke-width:0.48;\" x=\"590.049182\" xlink:href=\"#m071fe2ce43\" y=\"162.476361\"/>\n     <use style=\"fill:#1f77b4;fill-opacity:0.2;stroke:#ffffff;stroke-opacity:0.2;stroke-width:0.48;\" x=\"492.863154\" xlink:href=\"#m071fe2ce43\" y=\"317.890739\"/>\n     <use style=\"fill:#1f77b4;fill-opacity:0.2;stroke:#ffffff;stroke-opacity:0.2;stroke-width:0.48;\" x=\"431.232012\" xlink:href=\"#m071fe2ce43\" y=\"227.97463\"/>\n     <use style=\"fill:#1f77b4;fill-opacity:0.2;stroke:#ffffff;stroke-opacity:0.2;stroke-width:0.48;\" x=\"610.94368\" xlink:href=\"#m071fe2ce43\" y=\"189.350638\"/>\n     <use style=\"fill:#1f77b4;fill-opacity:0.2;stroke:#ffffff;stroke-opacity:0.2;stroke-width:0.48;\" x=\"690.970766\" xlink:href=\"#m071fe2ce43\" y=\"188.942318\"/>\n     <use style=\"fill:#1f77b4;fill-opacity:0.2;stroke:#ffffff;stroke-opacity:0.2;stroke-width:0.48;\" x=\"647.94556\" xlink:href=\"#m071fe2ce43\" y=\"156.174875\"/>\n     <use style=\"fill:#1f77b4;fill-opacity:0.2;stroke:#ffffff;stroke-opacity:0.2;stroke-width:0.48;\" x=\"693.611305\" xlink:href=\"#m071fe2ce43\" y=\"147.7139\"/>\n     <use style=\"fill:#1f77b4;fill-opacity:0.2;stroke:#ffffff;stroke-opacity:0.2;stroke-width:0.48;\" x=\"469.414775\" xlink:href=\"#m071fe2ce43\" y=\"281.751002\"/>\n     <use style=\"fill:#1f77b4;fill-opacity:0.2;stroke:#ffffff;stroke-opacity:0.2;stroke-width:0.48;\" x=\"431.232012\" xlink:href=\"#m071fe2ce43\" y=\"302.048853\"/>\n     <use style=\"fill:#1f77b4;fill-opacity:0.2;stroke:#ffffff;stroke-opacity:0.2;stroke-width:0.48;\" x=\"590.049182\" xlink:href=\"#m071fe2ce43\" y=\"149.211854\"/>\n     <use style=\"fill:#1f77b4;fill-opacity:0.2;stroke:#ffffff;stroke-opacity:0.2;stroke-width:0.48;\" x=\"523.630933\" xlink:href=\"#m071fe2ce43\" y=\"138.514273\"/>\n     <use style=\"fill:#1f77b4;fill-opacity:0.2;stroke:#ffffff;stroke-opacity:0.2;stroke-width:0.48;\" x=\"594.720367\" xlink:href=\"#m071fe2ce43\" y=\"195.609909\"/>\n     <use style=\"fill:#1f77b4;fill-opacity:0.2;stroke:#ffffff;stroke-opacity:0.2;stroke-width:0.48;\" x=\"603.267902\" xlink:href=\"#m071fe2ce43\" y=\"173.495036\"/>\n     <use style=\"fill:#1f77b4;fill-opacity:0.2;stroke:#ffffff;stroke-opacity:0.2;stroke-width:0.48;\" x=\"683.980491\" xlink:href=\"#m071fe2ce43\" y=\"131.499994\"/>\n     <use style=\"fill:#1f77b4;fill-opacity:0.2;stroke:#ffffff;stroke-opacity:0.2;stroke-width:0.48;\" x=\"544.672258\" xlink:href=\"#m071fe2ce43\" y=\"157.198863\"/>\n     <use style=\"fill:#1f77b4;fill-opacity:0.2;stroke:#ffffff;stroke-opacity:0.2;stroke-width:0.48;\" x=\"553.198297\" xlink:href=\"#m071fe2ce43\" y=\"288.45622\"/>\n     <use style=\"fill:#1f77b4;fill-opacity:0.2;stroke:#ffffff;stroke-opacity:0.2;stroke-width:0.48;\" x=\"654.480414\" xlink:href=\"#m071fe2ce43\" y=\"203.806488\"/>\n     <use style=\"fill:#1f77b4;fill-opacity:0.2;stroke:#ffffff;stroke-opacity:0.2;stroke-width:0.48;\" x=\"579.715083\" xlink:href=\"#m071fe2ce43\" y=\"257.084385\"/>\n     <use style=\"fill:#1f77b4;fill-opacity:0.2;stroke:#ffffff;stroke-opacity:0.2;stroke-width:0.48;\" x=\"469.414775\" xlink:href=\"#m071fe2ce43\" y=\"218.756124\"/>\n     <use style=\"fill:#1f77b4;fill-opacity:0.2;stroke:#ffffff;stroke-opacity:0.2;stroke-width:0.48;\" x=\"643.271244\" xlink:href=\"#m071fe2ce43\" y=\"136.377232\"/>\n     <use style=\"fill:#1f77b4;fill-opacity:0.2;stroke:#ffffff;stroke-opacity:0.2;stroke-width:0.48;\" x=\"560.803085\" xlink:href=\"#m071fe2ce43\" y=\"158.831775\"/>\n     <use style=\"fill:#1f77b4;fill-opacity:0.2;stroke:#ffffff;stroke-opacity:0.2;stroke-width:0.48;\" x=\"431.232012\" xlink:href=\"#m071fe2ce43\" y=\"200.740545\"/>\n     <use style=\"fill:#1f77b4;fill-opacity:0.2;stroke:#ffffff;stroke-opacity:0.2;stroke-width:0.48;\" x=\"676.348555\" xlink:href=\"#m071fe2ce43\" y=\"191.163167\"/>\n     <use style=\"fill:#1f77b4;fill-opacity:0.2;stroke:#ffffff;stroke-opacity:0.2;stroke-width:0.48;\" x=\"431.232012\" xlink:href=\"#m071fe2ce43\" y=\"309.184395\"/>\n    </g>\n   </g>\n   <g id=\"PolyCollection_2\">\n    <path clip-path=\"url(#p87a46f90e4)\" d=\"M 431.232012 333.65267 \nL 431.232012 333.65267 \nL 469.414775 292.735529 \nL 492.863154 267.607944 \nL 510.019015 249.223502 \nL 523.630933 234.636794 \nL 534.954444 222.502374 \nL 544.672258 212.088639 \nL 553.198297 202.952026 \nL 560.803085 194.802637 \nL 567.673457 187.440258 \nL 573.944024 180.720636 \nL 579.715083 174.536296 \nL 585.063422 168.804947 \nL 590.049182 163.462142 \nL 594.720367 158.45644 \nL 599.115925 153.746103 \nL 603.267902 149.296791 \nL 607.202994 145.079896 \nL 610.94368 141.071329 \nL 614.509071 137.250609 \nL 617.915559 133.600172 \nL 621.177307 130.104842 \nL 621.177307 130.104842 \nL 621.177307 130.104842 \nL 617.915559 133.600172 \nL 614.509071 137.250609 \nL 610.94368 141.071329 \nL 607.202994 145.079896 \nL 603.267902 149.296791 \nL 599.115925 153.746103 \nL 594.720367 158.45644 \nL 590.049182 163.462142 \nL 585.063422 168.804947 \nL 579.715083 174.536296 \nL 573.944024 180.720636 \nL 567.673457 187.440258 \nL 560.803085 194.802637 \nL 553.198297 202.952026 \nL 544.672258 212.088639 \nL 534.954444 222.502374 \nL 523.630933 234.636794 \nL 510.019015 249.223502 \nL 492.863154 267.607944 \nL 469.414775 292.735529 \nL 431.232012 333.65267 \nz\n\" style=\"fill:#ff0000;fill-opacity:0.2;stroke:#ff0000;stroke-opacity:0.2;\"/>\n    <path clip-path=\"url(#p87a46f90e4)\" d=\"M 627.314354 123.528303 \nL 627.314354 123.528303 \nL 630.209958 120.425335 \nL 633.001874 117.433482 \nL 635.697596 114.544712 \nL 638.303822 111.751847 \nL 640.826565 109.048443 \nL 643.271244 106.428693 \nL 645.64276 103.887346 \nL 647.94556 101.419636 \nL 650.18369 99.021227 \nL 652.360847 96.688157 \nL 654.480414 94.416802 \nL 656.545495 92.203835 \nL 658.558948 90.046192 \nL 660.523408 87.941052 \nL 660.523408 87.941052 \nL 660.523408 87.941052 \nL 658.558948 90.046192 \nL 656.545495 92.203835 \nL 654.480414 94.416802 \nL 652.360847 96.688157 \nL 650.18369 99.021227 \nL 647.94556 101.419636 \nL 645.64276 103.887346 \nL 643.271244 106.428693 \nL 640.826565 109.048443 \nL 638.303822 111.751847 \nL 635.697596 114.544712 \nL 633.001874 117.433482 \nL 630.209958 120.425335 \nL 627.314354 123.528303 \nz\n\" style=\"fill:#ff0000;fill-opacity:0.2;stroke:#ff0000;stroke-opacity:0.2;\"/>\n    <path clip-path=\"url(#p87a46f90e4)\" d=\"M 666.146302 81.915486 \nL 666.146302 81.915486 \nL 667.937431 79.996089 \nL 667.937431 79.996089 \nL 667.937431 79.996089 \nL 666.146302 81.915486 \nz\n\" style=\"fill:#ff0000;fill-opacity:0.2;stroke:#ff0000;stroke-opacity:0.2;\"/>\n    <path clip-path=\"url(#p87a46f90e4)\" d=\"M 674.733821 72.71299 \nL 674.733821 72.71299 \nL 676.348555 70.98262 \nL 677.932279 69.285481 \nL 679.486216 67.620263 \nL 679.486216 67.620263 \nL 679.486216 67.620263 \nL 677.932279 69.285481 \nL 676.348555 70.98262 \nL 674.733821 72.71299 \nz\n\" style=\"fill:#ff0000;fill-opacity:0.2;stroke:#ff0000;stroke-opacity:0.2;\"/>\n    <path clip-path=\"url(#p87a46f90e4)\" d=\"M 682.509267 64.380721 \nL 682.509267 64.380721 \nL 682.509267 64.380721 \nL 682.509267 64.380721 \nz\n\" style=\"fill:#ff0000;fill-opacity:0.2;stroke:#ff0000;stroke-opacity:0.2;\"/>\n    <path clip-path=\"url(#p87a46f90e4)\" d=\"M 685.426154 61.254948 \nL 685.426154 61.254948 \nL 686.84717 59.732169 \nL 686.84717 59.732169 \nL 686.84717 59.732169 \nL 685.426154 61.254948 \nz\n\" style=\"fill:#ff0000;fill-opacity:0.2;stroke:#ff0000;stroke-opacity:0.2;\"/>\n    <path clip-path=\"url(#p87a46f90e4)\" d=\"M 689.618677 56.762186 \nL 689.618677 56.762186 \nL 690.970766 55.31327 \nL 692.301408 53.887337 \nL 693.611305 52.483634 \nL 694.901124 51.101447 \nL 696.1715 49.740096 \nL 696.1715 49.740096 \nL 696.1715 49.740096 \nL 694.901124 51.101447 \nL 693.611305 52.483634 \nL 692.301408 53.887337 \nL 690.970766 55.31327 \nL 689.618677 56.762186 \nz\n\" style=\"fill:#ff0000;fill-opacity:0.2;stroke:#ff0000;stroke-opacity:0.2;\"/>\n    <path clip-path=\"url(#p87a46f90e4)\" d=\"M 701.070252 44.49053 \nL 701.070252 44.49053 \nL 701.070252 44.49053 \nL 701.070252 44.49053 \nz\n\" style=\"fill:#ff0000;fill-opacity:0.2;stroke:#ff0000;stroke-opacity:0.2;\"/>\n    <path clip-path=\"url(#p87a46f90e4)\" d=\"M 703.417431 41.975263 \nL 703.417431 41.975263 \nL 703.417431 41.975263 \nL 703.417431 41.975263 \nz\n\" style=\"fill:#ff0000;fill-opacity:0.2;stroke:#ff0000;stroke-opacity:0.2;\"/>\n    <path clip-path=\"url(#p87a46f90e4)\" d=\"M 707.926227 37.14358 \nL 707.926227 37.14358 \nL 707.926227 37.14358 \nL 707.926227 37.14358 \nz\n\" style=\"fill:#ff0000;fill-opacity:0.2;stroke:#ff0000;stroke-opacity:0.2;\"/>\n   </g>\n   <g id=\"line2d_30\">\n    <path clip-path=\"url(#p87a46f90e4)\" d=\"M 431.232012 333.65267 \nL 469.414775 292.735529 \nL 492.863154 267.607944 \nL 510.019015 249.223502 \nL 523.630933 234.636794 \nL 534.954444 222.502374 \nL 544.672258 212.088639 \nL 553.198297 202.952026 \nL 560.803085 194.802637 \nL 567.673457 187.440258 \nL 573.944024 180.720636 \nL 579.715083 174.536296 \nL 585.063422 168.804947 \nL 590.049182 163.462142 \nL 594.720367 158.45644 \nL 599.115925 153.746103 \nL 603.267902 149.296791 \nL 607.202994 145.079896 \nL 610.94368 141.071329 \nL 614.509071 137.250609 \nL 617.915559 133.600172 \nL 621.177307 130.104842 \nL 624.30664 126.751408 \nL 627.314354 123.528303 \nL 630.209958 120.425335 \nL 633.001874 117.433482 \nL 635.697596 114.544712 \nL 638.303822 111.751847 \nL 640.826565 109.048443 \nL 643.271244 106.428693 \nL 645.64276 103.887346 \nL 647.94556 101.419636 \nL 650.18369 99.021227 \nL 652.360847 96.688157 \nL 654.480414 94.416802 \nL 656.545495 92.203835 \nL 658.558948 90.046192 \nL 660.523408 87.941052 \nL 662.44131 85.885803 \nL 664.31491 83.878029 \nL 666.146302 81.915486 \nL 667.937431 79.996089 \nL 669.69011 78.117895 \nL 671.406032 76.279092 \nL 673.086776 74.477985 \nL 674.733821 72.71299 \nL 676.348555 70.98262 \nL 677.932279 69.285481 \nL 679.486216 67.620263 \nL 681.011517 65.98573 \nL 682.509267 64.380721 \nL 683.980491 62.804139 \nL 685.426154 61.254948 \nL 686.84717 59.732169 \nL 688.244404 58.234874 \nL 689.618677 56.762186 \nL 690.970766 55.31327 \nL 692.301408 53.887337 \nL 693.611305 52.483634 \nL 694.901124 51.101447 \nL 696.1715 49.740096 \nL 697.423037 48.398933 \nL 698.656312 47.077339 \nL 701.070252 44.49053 \nL 702.251944 43.224214 \nL 703.417431 41.975263 \nL 706.821158 38.327786 \nL 707.926227 37.14358 \n\" style=\"fill:none;stroke:#ff0000;stroke-linecap:round;stroke-width:1.5;\"/>\n   </g>\n   <g id=\"patch_8\">\n    <path d=\"M 417.397301 348.478125 \nL 417.397301 22.318125 \n\" style=\"fill:none;stroke:#cccccc;stroke-linecap:square;stroke-linejoin:miter;stroke-width:0.8;\"/>\n   </g>\n   <g id=\"patch_9\">\n    <path d=\"M 721.760937 348.478125 \nL 721.760937 22.318125 \n\" style=\"fill:none;stroke:#cccccc;stroke-linecap:square;stroke-linejoin:miter;stroke-width:0.8;\"/>\n   </g>\n   <g id=\"patch_10\">\n    <path d=\"M 417.397301 348.478125 \nL 721.760937 348.478125 \n\" style=\"fill:none;stroke:#cccccc;stroke-linecap:square;stroke-linejoin:miter;stroke-width:0.8;\"/>\n   </g>\n   <g id=\"patch_11\">\n    <path d=\"M 417.397301 22.318125 \nL 721.760937 22.318125 \n\" style=\"fill:none;stroke:#cccccc;stroke-linecap:square;stroke-linejoin:miter;stroke-width:0.8;\"/>\n   </g>\n   <g id=\"text_34\">\n    <!-- Test Set -->\n    <g style=\"fill:#262626;\" transform=\"translate(546.004744 16.318125)scale(0.12 -0.12)\">\n     <use xlink:href=\"#DejaVuSans-84\"/>\n     <use x=\"44.083984\" xlink:href=\"#DejaVuSans-101\"/>\n     <use x=\"105.607422\" xlink:href=\"#DejaVuSans-115\"/>\n     <use x=\"157.707031\" xlink:href=\"#DejaVuSans-116\"/>\n     <use x=\"196.916016\" xlink:href=\"#DejaVuSans-32\"/>\n     <use x=\"228.703125\" xlink:href=\"#DejaVuSans-83\"/>\n     <use x=\"292.179688\" xlink:href=\"#DejaVuSans-101\"/>\n     <use x=\"353.703125\" xlink:href=\"#DejaVuSans-116\"/>\n    </g>\n   </g>\n  </g>\n </g>\n <defs>\n  <clipPath id=\"pba74d6571b\">\n   <rect height=\"326.16\" width=\"304.363636\" x=\"52.160938\" y=\"22.318125\"/>\n  </clipPath>\n  <clipPath id=\"p87a46f90e4\">\n   <rect height=\"326.16\" width=\"304.363636\" x=\"417.397301\" y=\"22.318125\"/>\n  </clipPath>\n </defs>\n</svg>\n",
            "image/png": "[encoded data removed]"
          },
          "metadata": {}
        }
      ],
      "metadata": {
        "id": "78tt_ZkiJRdE"
      }
    },
    {
      "cell_type": "markdown",
      "source": [
        "# Convert Regression to Classification: Sklearn"
      ],
      "metadata": {
        "id": "qpKz9qjRUOR0"
      }
    },
    {
      "cell_type": "markdown",
      "source": [
        "### Convert target to bins and check if it is balanced"
      ],
      "metadata": {
        "id": "g0yf7s9LVZFH"
      }
    },
    {
      "cell_type": "code",
      "execution_count": 36,
      "source": [
        "from feature_engine.discretisation import EqualFrequencyDiscretiser\n",
        "disc = EqualFrequencyDiscretiser(q=3, variables=['tenure'])\n",
        "\n",
        "df_clf = disc.fit_transform(df)\n",
        "df_clf['tenure'].value_counts()"
      ],
      "outputs": [
        {
          "output_type": "execute_result",
          "data": {
            "text/plain": [
              "0    680\n",
              "2    618\n",
              "1    571\n",
              "Name: tenure, dtype: int64"
            ]
          },
          "metadata": {},
          "execution_count": 36
        }
      ],
      "metadata": {
        "id": "dzXQjVf-Uoay"
      }
    },
    {
      "cell_type": "markdown",
      "source": [
        "Visualize target distribution and range levels"
      ],
      "metadata": {
        "id": "MaElij1Wv_gL"
      }
    },
    {
      "cell_type": "code",
      "execution_count": 37,
      "source": [
        "print(f\"* The classes represent the following ranges: \\n{disc.binner_dict_} \\n\")\n",
        "sns.countplot(data=df_clf, x='tenure')\n",
        "plt.show()"
      ],
      "outputs": [
        {
          "output_type": "stream",
          "name": "stdout",
          "text": [
            "* The classes represent the following ranges: \n",
            "{'tenure': [-inf, 4.0, 20.0, inf]} \n",
            "\n"
          ]
        },
        {
          "output_type": "display_data",
          "data": {
            "text/plain": [
              "<Figure size 432x288 with 1 Axes>"
            ],
            "image/svg+xml": "<?xml version=\"1.0\" encoding=\"utf-8\" standalone=\"no\"?>\n<!DOCTYPE svg PUBLIC \"-//W3C//DTD SVG 1.1//EN\"\n  \"http://www.w3.org/Graphics/SVG/1.1/DTD/svg11.dtd\">\n<!-- Created with matplotlib (https://matplotlib.org/) -->\n<svg height=\"262.19625pt\" version=\"1.1\" viewBox=\"0 0 388.965625 262.19625\" width=\"388.965625pt\" xmlns=\"http://www.w3.org/2000/svg\" xmlns:xlink=\"http://www.w3.org/1999/xlink\">\n <metadata>\n  <rdf:RDF xmlns:cc=\"http://creativecommons.org/ns#\" xmlns:dc=\"http://purl.org/dc/elements/1.1/\" xmlns:rdf=\"http://www.w3.org/1999/02/22-rdf-syntax-ns#\">\n   <cc:Work>\n    <dc:type rdf:resource=\"http://purl.org/dc/dcmitype/StillImage\"/>\n    <dc:date>2021-09-29T12:49:58.579100</dc:date>\n    <dc:format>image/svg+xml</dc:format>\n    <dc:creator>\n     <cc:Agent>\n      <dc:title>Matplotlib v3.3.1, https://matplotlib.org/</dc:title>\n     </cc:Agent>\n    </dc:creator>\n   </cc:Work>\n  </rdf:RDF>\n </metadata>\n <defs>\n  <style type=\"text/css\">*{stroke-linecap:butt;stroke-linejoin:round;}</style>\n </defs>\n <g id=\"figure_1\">\n  <g id=\"patch_1\">\n   <path d=\"M -0 262.19625 \nL 388.965625 262.19625 \nL 388.965625 0 \nL -0 0 \nz\n\" style=\"fill:#ffffff;\"/>\n  </g>\n  <g id=\"axes_1\">\n   <g id=\"patch_2\">\n    <path d=\"M 46.965625 224.64 \nL 381.765625 224.64 \nL 381.765625 7.2 \nL 46.965625 7.2 \nz\n\" style=\"fill:#ffffff;\"/>\n   </g>\n   <g id=\"matplotlib.axis_1\">\n    <g id=\"xtick_1\">\n     <g id=\"text_1\">\n      <!-- 0 -->\n      <g style=\"fill:#262626;\" transform=\"translate(99.584375 239.238438)scale(0.1 -0.1)\">\n       <defs>\n        <path d=\"M 31.78125 66.40625 \nQ 24.171875 66.40625 20.328125 58.90625 \nQ 16.5 51.421875 16.5 36.375 \nQ 16.5 21.390625 20.328125 13.890625 \nQ 24.171875 6.390625 31.78125 6.390625 \nQ 39.453125 6.390625 43.28125 13.890625 \nQ 47.125 21.390625 47.125 36.375 \nQ 47.125 51.421875 43.28125 58.90625 \nQ 39.453125 66.40625 31.78125 66.40625 \nz\nM 31.78125 74.21875 \nQ 44.046875 74.21875 50.515625 64.515625 \nQ 56.984375 54.828125 56.984375 36.375 \nQ 56.984375 17.96875 50.515625 8.265625 \nQ 44.046875 -1.421875 31.78125 -1.421875 \nQ 19.53125 -1.421875 13.0625 8.265625 \nQ 6.59375 17.96875 6.59375 36.375 \nQ 6.59375 54.828125 13.0625 64.515625 \nQ 19.53125 74.21875 31.78125 74.21875 \nz\n\" id=\"DejaVuSans-48\"/>\n       </defs>\n       <use xlink:href=\"#DejaVuSans-48\"/>\n      </g>\n     </g>\n    </g>\n    <g id=\"xtick_2\">\n     <g id=\"text_2\">\n      <!-- 1 -->\n      <g style=\"fill:#262626;\" transform=\"translate(211.184375 239.238438)scale(0.1 -0.1)\">\n       <defs>\n        <path d=\"M 12.40625 8.296875 \nL 28.515625 8.296875 \nL 28.515625 63.921875 \nL 10.984375 60.40625 \nL 10.984375 69.390625 \nL 28.421875 72.90625 \nL 38.28125 72.90625 \nL 38.28125 8.296875 \nL 54.390625 8.296875 \nL 54.390625 0 \nL 12.40625 0 \nz\n\" id=\"DejaVuSans-49\"/>\n       </defs>\n       <use xlink:href=\"#DejaVuSans-49\"/>\n      </g>\n     </g>\n    </g>\n    <g id=\"xtick_3\">\n     <g id=\"text_3\">\n      <!-- 2 -->\n      <g style=\"fill:#262626;\" transform=\"translate(322.784375 239.238438)scale(0.1 -0.1)\">\n       <defs>\n        <path d=\"M 19.1875 8.296875 \nL 53.609375 8.296875 \nL 53.609375 0 \nL 7.328125 0 \nL 7.328125 8.296875 \nQ 12.9375 14.109375 22.625 23.890625 \nQ 32.328125 33.6875 34.8125 36.53125 \nQ 39.546875 41.84375 41.421875 45.53125 \nQ 43.3125 49.21875 43.3125 52.78125 \nQ 43.3125 58.59375 39.234375 62.25 \nQ 35.15625 65.921875 28.609375 65.921875 \nQ 23.96875 65.921875 18.8125 64.3125 \nQ 13.671875 62.703125 7.8125 59.421875 \nL 7.8125 69.390625 \nQ 13.765625 71.78125 18.9375 73 \nQ 24.125 74.21875 28.421875 74.21875 \nQ 39.75 74.21875 46.484375 68.546875 \nQ 53.21875 62.890625 53.21875 53.421875 \nQ 53.21875 48.921875 51.53125 44.890625 \nQ 49.859375 40.875 45.40625 35.40625 \nQ 44.1875 33.984375 37.640625 27.21875 \nQ 31.109375 20.453125 19.1875 8.296875 \nz\n\" id=\"DejaVuSans-50\"/>\n       </defs>\n       <use xlink:href=\"#DejaVuSans-50\"/>\n      </g>\n     </g>\n    </g>\n    <g id=\"text_4\">\n     <!-- tenure -->\n     <g style=\"fill:#262626;\" transform=\"translate(197.971875 252.916563)scale(0.1 -0.1)\">\n      <defs>\n       <path d=\"M 18.3125 70.21875 \nL 18.3125 54.6875 \nL 36.8125 54.6875 \nL 36.8125 47.703125 \nL 18.3125 47.703125 \nL 18.3125 18.015625 \nQ 18.3125 11.328125 20.140625 9.421875 \nQ 21.96875 7.515625 27.59375 7.515625 \nL 36.8125 7.515625 \nL 36.8125 0 \nL 27.59375 0 \nQ 17.1875 0 13.234375 3.875 \nQ 9.28125 7.765625 9.28125 18.015625 \nL 9.28125 47.703125 \nL 2.6875 47.703125 \nL 2.6875 54.6875 \nL 9.28125 54.6875 \nL 9.28125 70.21875 \nz\n\" id=\"DejaVuSans-116\"/>\n       <path d=\"M 56.203125 29.59375 \nL 56.203125 25.203125 \nL 14.890625 25.203125 \nQ 15.484375 15.921875 20.484375 11.0625 \nQ 25.484375 6.203125 34.421875 6.203125 \nQ 39.59375 6.203125 44.453125 7.46875 \nQ 49.3125 8.734375 54.109375 11.28125 \nL 54.109375 2.78125 \nQ 49.265625 0.734375 44.1875 -0.34375 \nQ 39.109375 -1.421875 33.890625 -1.421875 \nQ 20.796875 -1.421875 13.15625 6.1875 \nQ 5.515625 13.8125 5.515625 26.8125 \nQ 5.515625 40.234375 12.765625 48.109375 \nQ 20.015625 56 32.328125 56 \nQ 43.359375 56 49.78125 48.890625 \nQ 56.203125 41.796875 56.203125 29.59375 \nz\nM 47.21875 32.234375 \nQ 47.125 39.59375 43.09375 43.984375 \nQ 39.0625 48.390625 32.421875 48.390625 \nQ 24.90625 48.390625 20.390625 44.140625 \nQ 15.875 39.890625 15.1875 32.171875 \nz\n\" id=\"DejaVuSans-101\"/>\n       <path d=\"M 54.890625 33.015625 \nL 54.890625 0 \nL 45.90625 0 \nL 45.90625 32.71875 \nQ 45.90625 40.484375 42.875 44.328125 \nQ 39.84375 48.1875 33.796875 48.1875 \nQ 26.515625 48.1875 22.3125 43.546875 \nQ 18.109375 38.921875 18.109375 30.90625 \nL 18.109375 0 \nL 9.078125 0 \nL 9.078125 54.6875 \nL 18.109375 54.6875 \nL 18.109375 46.1875 \nQ 21.34375 51.125 25.703125 53.5625 \nQ 30.078125 56 35.796875 56 \nQ 45.21875 56 50.046875 50.171875 \nQ 54.890625 44.34375 54.890625 33.015625 \nz\n\" id=\"DejaVuSans-110\"/>\n       <path d=\"M 8.5 21.578125 \nL 8.5 54.6875 \nL 17.484375 54.6875 \nL 17.484375 21.921875 \nQ 17.484375 14.15625 20.5 10.265625 \nQ 23.53125 6.390625 29.59375 6.390625 \nQ 36.859375 6.390625 41.078125 11.03125 \nQ 45.3125 15.671875 45.3125 23.6875 \nL 45.3125 54.6875 \nL 54.296875 54.6875 \nL 54.296875 0 \nL 45.3125 0 \nL 45.3125 8.40625 \nQ 42.046875 3.421875 37.71875 1 \nQ 33.40625 -1.421875 27.6875 -1.421875 \nQ 18.265625 -1.421875 13.375 4.4375 \nQ 8.5 10.296875 8.5 21.578125 \nz\nM 31.109375 56 \nz\n\" id=\"DejaVuSans-117\"/>\n       <path d=\"M 41.109375 46.296875 \nQ 39.59375 47.171875 37.8125 47.578125 \nQ 36.03125 48 33.890625 48 \nQ 26.265625 48 22.1875 43.046875 \nQ 18.109375 38.09375 18.109375 28.8125 \nL 18.109375 0 \nL 9.078125 0 \nL 9.078125 54.6875 \nL 18.109375 54.6875 \nL 18.109375 46.1875 \nQ 20.953125 51.171875 25.484375 53.578125 \nQ 30.03125 56 36.53125 56 \nQ 37.453125 56 38.578125 55.875 \nQ 39.703125 55.765625 41.0625 55.515625 \nz\n\" id=\"DejaVuSans-114\"/>\n      </defs>\n      <use xlink:href=\"#DejaVuSans-116\"/>\n      <use x=\"39.208984\" xlink:href=\"#DejaVuSans-101\"/>\n      <use x=\"100.732422\" xlink:href=\"#DejaVuSans-110\"/>\n      <use x=\"164.111328\" xlink:href=\"#DejaVuSans-117\"/>\n      <use x=\"227.490234\" xlink:href=\"#DejaVuSans-114\"/>\n      <use x=\"266.353516\" xlink:href=\"#DejaVuSans-101\"/>\n     </g>\n    </g>\n   </g>\n   <g id=\"matplotlib.axis_2\">\n    <g id=\"ytick_1\">\n     <g id=\"line2d_1\">\n      <path clip-path=\"url(#p20007427a8)\" d=\"M 46.965625 224.64 \nL 381.765625 224.64 \n\" style=\"fill:none;stroke:#cccccc;stroke-linecap:round;stroke-width:0.8;\"/>\n     </g>\n     <g id=\"text_5\">\n      <!-- 0 -->\n      <g style=\"fill:#262626;\" transform=\"translate(33.603125 228.439219)scale(0.1 -0.1)\">\n       <use xlink:href=\"#DejaVuSans-48\"/>\n      </g>\n     </g>\n    </g>\n    <g id=\"ytick_2\">\n     <g id=\"line2d_2\">\n      <path clip-path=\"url(#p20007427a8)\" d=\"M 46.965625 194.186218 \nL 381.765625 194.186218 \n\" style=\"fill:none;stroke:#cccccc;stroke-linecap:round;stroke-width:0.8;\"/>\n     </g>\n     <g id=\"text_6\">\n      <!-- 100 -->\n      <g style=\"fill:#262626;\" transform=\"translate(20.878125 197.985437)scale(0.1 -0.1)\">\n       <use xlink:href=\"#DejaVuSans-49\"/>\n       <use x=\"63.623047\" xlink:href=\"#DejaVuSans-48\"/>\n       <use x=\"127.246094\" xlink:href=\"#DejaVuSans-48\"/>\n      </g>\n     </g>\n    </g>\n    <g id=\"ytick_3\">\n     <g id=\"line2d_3\">\n      <path clip-path=\"url(#p20007427a8)\" d=\"M 46.965625 163.732437 \nL 381.765625 163.732437 \n\" style=\"fill:none;stroke:#cccccc;stroke-linecap:round;stroke-width:0.8;\"/>\n     </g>\n     <g id=\"text_7\">\n      <!-- 200 -->\n      <g style=\"fill:#262626;\" transform=\"translate(20.878125 167.531656)scale(0.1 -0.1)\">\n       <use xlink:href=\"#DejaVuSans-50\"/>\n       <use x=\"63.623047\" xlink:href=\"#DejaVuSans-48\"/>\n       <use x=\"127.246094\" xlink:href=\"#DejaVuSans-48\"/>\n      </g>\n     </g>\n    </g>\n    <g id=\"ytick_4\">\n     <g id=\"line2d_4\">\n      <path clip-path=\"url(#p20007427a8)\" d=\"M 46.965625 133.278655 \nL 381.765625 133.278655 \n\" style=\"fill:none;stroke:#cccccc;stroke-linecap:round;stroke-width:0.8;\"/>\n     </g>\n     <g id=\"text_8\">\n      <!-- 300 -->\n      <g style=\"fill:#262626;\" transform=\"translate(20.878125 137.077874)scale(0.1 -0.1)\">\n       <defs>\n        <path d=\"M 40.578125 39.3125 \nQ 47.65625 37.796875 51.625 33 \nQ 55.609375 28.21875 55.609375 21.1875 \nQ 55.609375 10.40625 48.1875 4.484375 \nQ 40.765625 -1.421875 27.09375 -1.421875 \nQ 22.515625 -1.421875 17.65625 -0.515625 \nQ 12.796875 0.390625 7.625 2.203125 \nL 7.625 11.71875 \nQ 11.71875 9.328125 16.59375 8.109375 \nQ 21.484375 6.890625 26.8125 6.890625 \nQ 36.078125 6.890625 40.9375 10.546875 \nQ 45.796875 14.203125 45.796875 21.1875 \nQ 45.796875 27.640625 41.28125 31.265625 \nQ 36.765625 34.90625 28.71875 34.90625 \nL 20.21875 34.90625 \nL 20.21875 43.015625 \nL 29.109375 43.015625 \nQ 36.375 43.015625 40.234375 45.921875 \nQ 44.09375 48.828125 44.09375 54.296875 \nQ 44.09375 59.90625 40.109375 62.90625 \nQ 36.140625 65.921875 28.71875 65.921875 \nQ 24.65625 65.921875 20.015625 65.03125 \nQ 15.375 64.15625 9.8125 62.3125 \nL 9.8125 71.09375 \nQ 15.4375 72.65625 20.34375 73.4375 \nQ 25.25 74.21875 29.59375 74.21875 \nQ 40.828125 74.21875 47.359375 69.109375 \nQ 53.90625 64.015625 53.90625 55.328125 \nQ 53.90625 49.265625 50.4375 45.09375 \nQ 46.96875 40.921875 40.578125 39.3125 \nz\n\" id=\"DejaVuSans-51\"/>\n       </defs>\n       <use xlink:href=\"#DejaVuSans-51\"/>\n       <use x=\"63.623047\" xlink:href=\"#DejaVuSans-48\"/>\n       <use x=\"127.246094\" xlink:href=\"#DejaVuSans-48\"/>\n      </g>\n     </g>\n    </g>\n    <g id=\"ytick_5\">\n     <g id=\"line2d_5\">\n      <path clip-path=\"url(#p20007427a8)\" d=\"M 46.965625 102.824874 \nL 381.765625 102.824874 \n\" style=\"fill:none;stroke:#cccccc;stroke-linecap:round;stroke-width:0.8;\"/>\n     </g>\n     <g id=\"text_9\">\n      <!-- 400 -->\n      <g style=\"fill:#262626;\" transform=\"translate(20.878125 106.624093)scale(0.1 -0.1)\">\n       <defs>\n        <path d=\"M 37.796875 64.3125 \nL 12.890625 25.390625 \nL 37.796875 25.390625 \nz\nM 35.203125 72.90625 \nL 47.609375 72.90625 \nL 47.609375 25.390625 \nL 58.015625 25.390625 \nL 58.015625 17.1875 \nL 47.609375 17.1875 \nL 47.609375 0 \nL 37.796875 0 \nL 37.796875 17.1875 \nL 4.890625 17.1875 \nL 4.890625 26.703125 \nz\n\" id=\"DejaVuSans-52\"/>\n       </defs>\n       <use xlink:href=\"#DejaVuSans-52\"/>\n       <use x=\"63.623047\" xlink:href=\"#DejaVuSans-48\"/>\n       <use x=\"127.246094\" xlink:href=\"#DejaVuSans-48\"/>\n      </g>\n     </g>\n    </g>\n    <g id=\"ytick_6\">\n     <g id=\"line2d_6\">\n      <path clip-path=\"url(#p20007427a8)\" d=\"M 46.965625 72.371092 \nL 381.765625 72.371092 \n\" style=\"fill:none;stroke:#cccccc;stroke-linecap:round;stroke-width:0.8;\"/>\n     </g>\n     <g id=\"text_10\">\n      <!-- 500 -->\n      <g style=\"fill:#262626;\" transform=\"translate(20.878125 76.170311)scale(0.1 -0.1)\">\n       <defs>\n        <path d=\"M 10.796875 72.90625 \nL 49.515625 72.90625 \nL 49.515625 64.59375 \nL 19.828125 64.59375 \nL 19.828125 46.734375 \nQ 21.96875 47.46875 24.109375 47.828125 \nQ 26.265625 48.1875 28.421875 48.1875 \nQ 40.625 48.1875 47.75 41.5 \nQ 54.890625 34.8125 54.890625 23.390625 \nQ 54.890625 11.625 47.5625 5.09375 \nQ 40.234375 -1.421875 26.90625 -1.421875 \nQ 22.3125 -1.421875 17.546875 -0.640625 \nQ 12.796875 0.140625 7.71875 1.703125 \nL 7.71875 11.625 \nQ 12.109375 9.234375 16.796875 8.0625 \nQ 21.484375 6.890625 26.703125 6.890625 \nQ 35.15625 6.890625 40.078125 11.328125 \nQ 45.015625 15.765625 45.015625 23.390625 \nQ 45.015625 31 40.078125 35.4375 \nQ 35.15625 39.890625 26.703125 39.890625 \nQ 22.75 39.890625 18.8125 39.015625 \nQ 14.890625 38.140625 10.796875 36.28125 \nz\n\" id=\"DejaVuSans-53\"/>\n       </defs>\n       <use xlink:href=\"#DejaVuSans-53\"/>\n       <use x=\"63.623047\" xlink:href=\"#DejaVuSans-48\"/>\n       <use x=\"127.246094\" xlink:href=\"#DejaVuSans-48\"/>\n      </g>\n     </g>\n    </g>\n    <g id=\"ytick_7\">\n     <g id=\"line2d_7\">\n      <path clip-path=\"url(#p20007427a8)\" d=\"M 46.965625 41.917311 \nL 381.765625 41.917311 \n\" style=\"fill:none;stroke:#cccccc;stroke-linecap:round;stroke-width:0.8;\"/>\n     </g>\n     <g id=\"text_11\">\n      <!-- 600 -->\n      <g style=\"fill:#262626;\" transform=\"translate(20.878125 45.71653)scale(0.1 -0.1)\">\n       <defs>\n        <path d=\"M 33.015625 40.375 \nQ 26.375 40.375 22.484375 35.828125 \nQ 18.609375 31.296875 18.609375 23.390625 \nQ 18.609375 15.53125 22.484375 10.953125 \nQ 26.375 6.390625 33.015625 6.390625 \nQ 39.65625 6.390625 43.53125 10.953125 \nQ 47.40625 15.53125 47.40625 23.390625 \nQ 47.40625 31.296875 43.53125 35.828125 \nQ 39.65625 40.375 33.015625 40.375 \nz\nM 52.59375 71.296875 \nL 52.59375 62.3125 \nQ 48.875 64.0625 45.09375 64.984375 \nQ 41.3125 65.921875 37.59375 65.921875 \nQ 27.828125 65.921875 22.671875 59.328125 \nQ 17.53125 52.734375 16.796875 39.40625 \nQ 19.671875 43.65625 24.015625 45.921875 \nQ 28.375 48.1875 33.59375 48.1875 \nQ 44.578125 48.1875 50.953125 41.515625 \nQ 57.328125 34.859375 57.328125 23.390625 \nQ 57.328125 12.15625 50.6875 5.359375 \nQ 44.046875 -1.421875 33.015625 -1.421875 \nQ 20.359375 -1.421875 13.671875 8.265625 \nQ 6.984375 17.96875 6.984375 36.375 \nQ 6.984375 53.65625 15.1875 63.9375 \nQ 23.390625 74.21875 37.203125 74.21875 \nQ 40.921875 74.21875 44.703125 73.484375 \nQ 48.484375 72.75 52.59375 71.296875 \nz\n\" id=\"DejaVuSans-54\"/>\n       </defs>\n       <use xlink:href=\"#DejaVuSans-54\"/>\n       <use x=\"63.623047\" xlink:href=\"#DejaVuSans-48\"/>\n       <use x=\"127.246094\" xlink:href=\"#DejaVuSans-48\"/>\n      </g>\n     </g>\n    </g>\n    <g id=\"ytick_8\">\n     <g id=\"line2d_8\">\n      <path clip-path=\"url(#p20007427a8)\" d=\"M 46.965625 11.463529 \nL 381.765625 11.463529 \n\" style=\"fill:none;stroke:#cccccc;stroke-linecap:round;stroke-width:0.8;\"/>\n     </g>\n     <g id=\"text_12\">\n      <!-- 700 -->\n      <g style=\"fill:#262626;\" transform=\"translate(20.878125 15.262748)scale(0.1 -0.1)\">\n       <defs>\n        <path d=\"M 8.203125 72.90625 \nL 55.078125 72.90625 \nL 55.078125 68.703125 \nL 28.609375 0 \nL 18.3125 0 \nL 43.21875 64.59375 \nL 8.203125 64.59375 \nz\n\" id=\"DejaVuSans-55\"/>\n       </defs>\n       <use xlink:href=\"#DejaVuSans-55\"/>\n       <use x=\"63.623047\" xlink:href=\"#DejaVuSans-48\"/>\n       <use x=\"127.246094\" xlink:href=\"#DejaVuSans-48\"/>\n      </g>\n     </g>\n    </g>\n    <g id=\"text_13\">\n     <!-- count -->\n     <g style=\"fill:#262626;\" transform=\"translate(14.798438 130.02625)rotate(-90)scale(0.1 -0.1)\">\n      <defs>\n       <path d=\"M 48.78125 52.59375 \nL 48.78125 44.1875 \nQ 44.96875 46.296875 41.140625 47.34375 \nQ 37.3125 48.390625 33.40625 48.390625 \nQ 24.65625 48.390625 19.8125 42.84375 \nQ 14.984375 37.3125 14.984375 27.296875 \nQ 14.984375 17.28125 19.8125 11.734375 \nQ 24.65625 6.203125 33.40625 6.203125 \nQ 37.3125 6.203125 41.140625 7.25 \nQ 44.96875 8.296875 48.78125 10.40625 \nL 48.78125 2.09375 \nQ 45.015625 0.34375 40.984375 -0.53125 \nQ 36.96875 -1.421875 32.421875 -1.421875 \nQ 20.0625 -1.421875 12.78125 6.34375 \nQ 5.515625 14.109375 5.515625 27.296875 \nQ 5.515625 40.671875 12.859375 48.328125 \nQ 20.21875 56 33.015625 56 \nQ 37.15625 56 41.109375 55.140625 \nQ 45.0625 54.296875 48.78125 52.59375 \nz\n\" id=\"DejaVuSans-99\"/>\n       <path d=\"M 30.609375 48.390625 \nQ 23.390625 48.390625 19.1875 42.75 \nQ 14.984375 37.109375 14.984375 27.296875 \nQ 14.984375 17.484375 19.15625 11.84375 \nQ 23.34375 6.203125 30.609375 6.203125 \nQ 37.796875 6.203125 41.984375 11.859375 \nQ 46.1875 17.53125 46.1875 27.296875 \nQ 46.1875 37.015625 41.984375 42.703125 \nQ 37.796875 48.390625 30.609375 48.390625 \nz\nM 30.609375 56 \nQ 42.328125 56 49.015625 48.375 \nQ 55.71875 40.765625 55.71875 27.296875 \nQ 55.71875 13.875 49.015625 6.21875 \nQ 42.328125 -1.421875 30.609375 -1.421875 \nQ 18.84375 -1.421875 12.171875 6.21875 \nQ 5.515625 13.875 5.515625 27.296875 \nQ 5.515625 40.765625 12.171875 48.375 \nQ 18.84375 56 30.609375 56 \nz\n\" id=\"DejaVuSans-111\"/>\n      </defs>\n      <use xlink:href=\"#DejaVuSans-99\"/>\n      <use x=\"54.980469\" xlink:href=\"#DejaVuSans-111\"/>\n      <use x=\"116.162109\" xlink:href=\"#DejaVuSans-117\"/>\n      <use x=\"179.541016\" xlink:href=\"#DejaVuSans-110\"/>\n      <use x=\"242.919922\" xlink:href=\"#DejaVuSans-116\"/>\n     </g>\n    </g>\n   </g>\n   <g id=\"patch_3\">\n    <path clip-path=\"url(#p20007427a8)\" d=\"M 58.125625 224.64 \nL 147.405625 224.64 \nL 147.405625 17.554286 \nL 58.125625 17.554286 \nz\n\" style=\"fill:#3274a1;stroke:#ffffff;stroke-linejoin:miter;\"/>\n   </g>\n   <g id=\"patch_4\">\n    <path clip-path=\"url(#p20007427a8)\" d=\"M 169.725625 224.64 \nL 259.005625 224.64 \nL 259.005625 50.748908 \nL 169.725625 50.748908 \nz\n\" style=\"fill:#e1812c;stroke:#ffffff;stroke-linejoin:miter;\"/>\n   </g>\n   <g id=\"patch_5\">\n    <path clip-path=\"url(#p20007427a8)\" d=\"M 281.325625 224.64 \nL 370.605625 224.64 \nL 370.605625 36.43563 \nL 281.325625 36.43563 \nz\n\" style=\"fill:#3a923a;stroke:#ffffff;stroke-linejoin:miter;\"/>\n   </g>\n   <g id=\"patch_6\">\n    <path d=\"M 46.965625 224.64 \nL 46.965625 7.2 \n\" style=\"fill:none;stroke:#cccccc;stroke-linecap:square;stroke-linejoin:miter;stroke-width:0.8;\"/>\n   </g>\n   <g id=\"patch_7\">\n    <path d=\"M 381.765625 224.64 \nL 381.765625 7.2 \n\" style=\"fill:none;stroke:#cccccc;stroke-linecap:square;stroke-linejoin:miter;stroke-width:0.8;\"/>\n   </g>\n   <g id=\"patch_8\">\n    <path d=\"M 46.965625 224.64 \nL 381.765625 224.64 \n\" style=\"fill:none;stroke:#cccccc;stroke-linecap:square;stroke-linejoin:miter;stroke-width:0.8;\"/>\n   </g>\n   <g id=\"patch_9\">\n    <path d=\"M 46.965625 7.2 \nL 381.765625 7.2 \n\" style=\"fill:none;stroke:#cccccc;stroke-linecap:square;stroke-linejoin:miter;stroke-width:0.8;\"/>\n   </g>\n  </g>\n </g>\n <defs>\n  <clipPath id=\"p20007427a8\">\n   <rect height=\"217.44\" width=\"334.8\" x=\"46.965625\" y=\"7.2\"/>\n  </clipPath>\n </defs>\n</svg>\n",
            "image/png": "[encoded data removed]"
          },
          "metadata": {}
        }
      ],
      "metadata": {
        "id": "Rh-sJMpuVPuR"
      }
    },
    {
      "cell_type": "markdown",
      "source": [
        "## Rewrite ML Pipeline for Modelling"
      ],
      "metadata": {
        "id": "lkPaGZfiXexn"
      }
    },
    {
      "cell_type": "code",
      "execution_count": 38,
      "source": [
        "def PipelineOptimization(model):\n",
        "  pipe = PipelineDataCleaningAndFeatureEngineering()\n",
        "  pipe.steps.append([\"scaler\", StandardScaler()])\n",
        "  pipe.steps.append([\"feat_selection\", SelectFromModel(model)])\n",
        "  pipe.steps.append([\"model\", model])\n",
        "  return pipe"
      ],
      "outputs": [],
      "metadata": {
        "id": "I53mlfqRUSzn"
      }
    },
    {
      "cell_type": "markdown",
      "source": [
        "## Load estimators for classification"
      ],
      "metadata": {
        "id": "fW2lu54NCgOC"
      }
    },
    {
      "cell_type": "code",
      "execution_count": 39,
      "source": [
        "from sklearn.tree import DecisionTreeClassifier \n",
        "from sklearn.ensemble import RandomForestClassifier\n",
        "from sklearn.ensemble import GradientBoostingClassifier \n",
        "from sklearn.ensemble import ExtraTreesClassifier\n",
        "from sklearn.ensemble import AdaBoostClassifier\n",
        "from xgboost import XGBClassifier"
      ],
      "outputs": [],
      "metadata": {
        "id": "MvkMORvOft14"
      }
    },
    {
      "cell_type": "markdown",
      "source": [
        "## Split Train Test Sets"
      ],
      "metadata": {
        "id": "mVnTzZZBC73_"
      }
    },
    {
      "cell_type": "code",
      "execution_count": 40,
      "source": [
        "from sklearn.model_selection import train_test_split\n",
        "\n",
        "X_train, X_test,y_train, y_test = train_test_split(\n",
        "                                    df_clf.drop(['tenure'],axis=1),\n",
        "                                    df_clf['tenure'],\n",
        "                                    test_size=0.2,\n",
        "                                    random_state=0\n",
        "                                    )\n",
        "\n",
        "print(\"* Train set:\", X_train.shape, y_train.shape, \"\\n* Test set:\",  X_test.shape, y_test.shape)"
      ],
      "outputs": [
        {
          "output_type": "stream",
          "name": "stdout",
          "text": [
            "* Train set: (1495, 17) (1495,) \n",
            "* Test set: (374, 17) (374,)\n"
          ]
        }
      ],
      "metadata": {
        "id": "ev5Rb80fC-dP"
      }
    },
    {
      "cell_type": "markdown",
      "source": [
        "Check if target is balanced"
      ],
      "metadata": {
        "id": "flZCqIL4DB80"
      }
    },
    {
      "cell_type": "code",
      "execution_count": 41,
      "source": [
        "y_train.value_counts(normalize=True).to_frame().round(2)"
      ],
      "outputs": [
        {
          "output_type": "execute_result",
          "data": {
            "text/plain": [
              "   tenure\n",
              "0    0.36\n",
              "2    0.33\n",
              "1    0.31"
            ],
            "text/html": [
              "<div>\n",
              "<style scoped>\n",
              "    .dataframe tbody tr th:only-of-type {\n",
              "        vertical-align: middle;\n",
              "    }\n",
              "\n",
              "    .dataframe tbody tr th {\n",
              "        vertical-align: top;\n",
              "    }\n",
              "\n",
              "    .dataframe thead th {\n",
              "        text-align: right;\n",
              "    }\n",
              "</style>\n",
              "<table border=\"1\" class=\"dataframe\">\n",
              "  <thead>\n",
              "    <tr style=\"text-align: right;\">\n",
              "      <th></th>\n",
              "      <th>tenure</th>\n",
              "    </tr>\n",
              "  </thead>\n",
              "  <tbody>\n",
              "    <tr>\n",
              "      <th>0</th>\n",
              "      <td>0.36</td>\n",
              "    </tr>\n",
              "    <tr>\n",
              "      <th>2</th>\n",
              "      <td>0.33</td>\n",
              "    </tr>\n",
              "    <tr>\n",
              "      <th>1</th>\n",
              "      <td>0.31</td>\n",
              "    </tr>\n",
              "  </tbody>\n",
              "</table>\n",
              "</div>"
            ]
          },
          "metadata": {},
          "execution_count": 41
        }
      ],
      "metadata": {
        "id": "pFLYKem1DCmJ"
      }
    },
    {
      "cell_type": "markdown",
      "source": [
        "## Grid Seach CV – Sklearn"
      ],
      "metadata": {
        "id": "aTEEhpvRDF0a"
      }
    },
    {
      "cell_type": "markdown",
      "source": [
        "### Use standard hyper parameters to find most suitable model"
      ],
      "metadata": {
        "id": "PPNNBP-QDIkv"
      }
    },
    {
      "cell_type": "code",
      "execution_count": 42,
      "source": [
        "models_quick_search = {\n",
        "    \"XGBClassifier\": XGBClassifier(random_state=0),\n",
        "    \"DecisionTreeClassifier\": DecisionTreeClassifier(random_state=0),\n",
        "    \"RandomForestClassifier\": RandomForestClassifier(random_state=0),\n",
        "    \"GradientBoostingClassifier\": GradientBoostingClassifier(random_state=0),\n",
        "    \"ExtraTreesClassifier\": ExtraTreesClassifier(random_state=0),\n",
        "    \"AdaBoostClassifier\": AdaBoostClassifier(random_state=0),\n",
        "}\n",
        "\n",
        "params_quick_search = {\n",
        "    \"XGBClassifier\":{},\n",
        "    \"DecisionTreeClassifier\":{},\n",
        "    \"RandomForestClassifier\":{},\n",
        "    \"GradientBoostingClassifier\":{},\n",
        "    \"ExtraTreesClassifier\":{},\n",
        "    \"AdaBoostClassifier\":{},\n",
        "}"
      ],
      "outputs": [],
      "metadata": {
        "id": "IfW5jSmSe7Gl"
      }
    },
    {
      "cell_type": "markdown",
      "source": [
        "GridSearch CV"
      ],
      "metadata": {
        "id": "YDYHs3I1D89F"
      }
    },
    {
      "cell_type": "code",
      "execution_count": 43,
      "source": [
        "from sklearn.metrics import make_scorer, f1_score\n",
        "quick_search = HyperparameterOptimizationSearch(models=models_quick_search, params=params_quick_search)\n",
        "quick_search.fit(X_train, y_train,\n",
        "                 scoring = make_scorer(f1_score, labels=[0], average=None),\n",
        "                 n_jobs=-1,\n",
        "                 cv=5)"
      ],
      "outputs": [
        {
          "output_type": "stream",
          "name": "stdout",
          "text": [
            "\n",
            "Running GridSearchCV for XGBClassifier \n",
            "\n",
            "Fitting 2 folds for each of 1 candidates, totalling 2 fits\n"
          ]
        },
        {
          "output_type": "error",
          "ename": "KeyboardInterrupt",
          "evalue": "",
          "traceback": [
            "\u001b[0;31m---------------------------------------------------------------------------\u001b[0m",
            "\u001b[0;31mKeyboardInterrupt\u001b[0m                         Traceback (most recent call last)",
            "\u001b[0;32m/tmp/ipykernel_2270/1509718904.py\u001b[0m in \u001b[0;36m<module>\u001b[0;34m\u001b[0m\n\u001b[1;32m      1\u001b[0m \u001b[0;32mfrom\u001b[0m \u001b[0msklearn\u001b[0m\u001b[0;34m.\u001b[0m\u001b[0mmetrics\u001b[0m \u001b[0;32mimport\u001b[0m \u001b[0mmake_scorer\u001b[0m\u001b[0;34m,\u001b[0m \u001b[0mrecall_score\u001b[0m\u001b[0;34m\u001b[0m\u001b[0;34m\u001b[0m\u001b[0m\n\u001b[1;32m      2\u001b[0m \u001b[0mquick_search\u001b[0m \u001b[0;34m=\u001b[0m \u001b[0mHyperparameterOptimizationSearch\u001b[0m\u001b[0;34m(\u001b[0m\u001b[0mmodels\u001b[0m\u001b[0;34m=\u001b[0m\u001b[0mmodels_quick_search\u001b[0m\u001b[0;34m,\u001b[0m \u001b[0mparams\u001b[0m\u001b[0;34m=\u001b[0m\u001b[0mparams_quick_search\u001b[0m\u001b[0;34m)\u001b[0m\u001b[0;34m\u001b[0m\u001b[0;34m\u001b[0m\u001b[0m\n\u001b[0;32m----> 3\u001b[0;31m quick_search.fit(X_train, y_train,\n\u001b[0m\u001b[1;32m      4\u001b[0m                  \u001b[0mscoring\u001b[0m \u001b[0;34m=\u001b[0m \u001b[0mmake_scorer\u001b[0m\u001b[0;34m(\u001b[0m\u001b[0mrecall_score\u001b[0m\u001b[0;34m,\u001b[0m \u001b[0mlabels\u001b[0m\u001b[0;34m=\u001b[0m\u001b[0;34m[\u001b[0m\u001b[0;36m0\u001b[0m\u001b[0;34m]\u001b[0m\u001b[0;34m,\u001b[0m \u001b[0maverage\u001b[0m\u001b[0;34m=\u001b[0m\u001b[0;32mNone\u001b[0m\u001b[0;34m)\u001b[0m\u001b[0;34m,\u001b[0m\u001b[0;34m\u001b[0m\u001b[0;34m\u001b[0m\u001b[0m\n\u001b[1;32m      5\u001b[0m                  \u001b[0mn_jobs\u001b[0m\u001b[0;34m=\u001b[0m\u001b[0;34m-\u001b[0m\u001b[0;36m1\u001b[0m\u001b[0;34m,\u001b[0m\u001b[0;34m\u001b[0m\u001b[0;34m\u001b[0m\u001b[0m\n",
            "\u001b[0;32m/tmp/ipykernel_2270/2437944502.py\u001b[0m in \u001b[0;36mfit\u001b[0;34m(self, X, y, cv, n_jobs, verbose, scoring, refit)\u001b[0m\n\u001b[1;32m     15\u001b[0m             \u001b[0mparams\u001b[0m \u001b[0;34m=\u001b[0m \u001b[0mself\u001b[0m\u001b[0;34m.\u001b[0m\u001b[0mparams\u001b[0m\u001b[0;34m[\u001b[0m\u001b[0mkey\u001b[0m\u001b[0;34m]\u001b[0m\u001b[0;34m\u001b[0m\u001b[0;34m\u001b[0m\u001b[0m\n\u001b[1;32m     16\u001b[0m             \u001b[0mgs\u001b[0m \u001b[0;34m=\u001b[0m \u001b[0mGridSearchCV\u001b[0m\u001b[0;34m(\u001b[0m\u001b[0mmodel\u001b[0m\u001b[0;34m,\u001b[0m \u001b[0mparams\u001b[0m\u001b[0;34m,\u001b[0m \u001b[0mcv\u001b[0m\u001b[0;34m=\u001b[0m\u001b[0mcv\u001b[0m\u001b[0;34m,\u001b[0m \u001b[0mn_jobs\u001b[0m\u001b[0;34m=\u001b[0m\u001b[0mn_jobs\u001b[0m\u001b[0;34m,\u001b[0m \u001b[0mverbose\u001b[0m\u001b[0;34m=\u001b[0m\u001b[0mverbose\u001b[0m\u001b[0;34m,\u001b[0m \u001b[0mscoring\u001b[0m\u001b[0;34m=\u001b[0m\u001b[0mscoring\u001b[0m\u001b[0;34m)\u001b[0m\u001b[0;34m\u001b[0m\u001b[0;34m\u001b[0m\u001b[0m\n\u001b[0;32m---> 17\u001b[0;31m             \u001b[0mgs\u001b[0m\u001b[0;34m.\u001b[0m\u001b[0mfit\u001b[0m\u001b[0;34m(\u001b[0m\u001b[0mX\u001b[0m\u001b[0;34m,\u001b[0m\u001b[0my\u001b[0m\u001b[0;34m)\u001b[0m\u001b[0;34m\u001b[0m\u001b[0;34m\u001b[0m\u001b[0m\n\u001b[0m\u001b[1;32m     18\u001b[0m             \u001b[0mself\u001b[0m\u001b[0;34m.\u001b[0m\u001b[0mgrid_searches\u001b[0m\u001b[0;34m[\u001b[0m\u001b[0mkey\u001b[0m\u001b[0;34m]\u001b[0m \u001b[0;34m=\u001b[0m \u001b[0mgs\u001b[0m\u001b[0;34m\u001b[0m\u001b[0;34m\u001b[0m\u001b[0m\n\u001b[1;32m     19\u001b[0m \u001b[0;34m\u001b[0m\u001b[0m\n",
            "\u001b[0;32m/workspace/.pip-modules/lib/python3.8/site-packages/sklearn/utils/validation.py\u001b[0m in \u001b[0;36minner_f\u001b[0;34m(*args, **kwargs)\u001b[0m\n\u001b[1;32m     61\u001b[0m             \u001b[0mextra_args\u001b[0m \u001b[0;34m=\u001b[0m \u001b[0mlen\u001b[0m\u001b[0;34m(\u001b[0m\u001b[0margs\u001b[0m\u001b[0;34m)\u001b[0m \u001b[0;34m-\u001b[0m \u001b[0mlen\u001b[0m\u001b[0;34m(\u001b[0m\u001b[0mall_args\u001b[0m\u001b[0;34m)\u001b[0m\u001b[0;34m\u001b[0m\u001b[0;34m\u001b[0m\u001b[0m\n\u001b[1;32m     62\u001b[0m             \u001b[0;32mif\u001b[0m \u001b[0mextra_args\u001b[0m \u001b[0;34m<=\u001b[0m \u001b[0;36m0\u001b[0m\u001b[0;34m:\u001b[0m\u001b[0;34m\u001b[0m\u001b[0;34m\u001b[0m\u001b[0m\n\u001b[0;32m---> 63\u001b[0;31m                 \u001b[0;32mreturn\u001b[0m \u001b[0mf\u001b[0m\u001b[0;34m(\u001b[0m\u001b[0;34m*\u001b[0m\u001b[0margs\u001b[0m\u001b[0;34m,\u001b[0m \u001b[0;34m**\u001b[0m\u001b[0mkwargs\u001b[0m\u001b[0;34m)\u001b[0m\u001b[0;34m\u001b[0m\u001b[0;34m\u001b[0m\u001b[0m\n\u001b[0m\u001b[1;32m     64\u001b[0m \u001b[0;34m\u001b[0m\u001b[0m\n\u001b[1;32m     65\u001b[0m             \u001b[0;31m# extra_args > 0\u001b[0m\u001b[0;34m\u001b[0m\u001b[0;34m\u001b[0m\u001b[0;34m\u001b[0m\u001b[0m\n",
            "\u001b[0;32m/workspace/.pip-modules/lib/python3.8/site-packages/sklearn/model_selection/_search.py\u001b[0m in \u001b[0;36mfit\u001b[0;34m(self, X, y, groups, **fit_params)\u001b[0m\n\u001b[1;32m    878\u001b[0m             \u001b[0mrefit_start_time\u001b[0m \u001b[0;34m=\u001b[0m \u001b[0mtime\u001b[0m\u001b[0;34m.\u001b[0m\u001b[0mtime\u001b[0m\u001b[0;34m(\u001b[0m\u001b[0;34m)\u001b[0m\u001b[0;34m\u001b[0m\u001b[0;34m\u001b[0m\u001b[0m\n\u001b[1;32m    879\u001b[0m             \u001b[0;32mif\u001b[0m \u001b[0my\u001b[0m \u001b[0;32mis\u001b[0m \u001b[0;32mnot\u001b[0m \u001b[0;32mNone\u001b[0m\u001b[0;34m:\u001b[0m\u001b[0;34m\u001b[0m\u001b[0;34m\u001b[0m\u001b[0m\n\u001b[0;32m--> 880\u001b[0;31m                 \u001b[0mself\u001b[0m\u001b[0;34m.\u001b[0m\u001b[0mbest_estimator_\u001b[0m\u001b[0;34m.\u001b[0m\u001b[0mfit\u001b[0m\u001b[0;34m(\u001b[0m\u001b[0mX\u001b[0m\u001b[0;34m,\u001b[0m \u001b[0my\u001b[0m\u001b[0;34m,\u001b[0m \u001b[0;34m**\u001b[0m\u001b[0mfit_params\u001b[0m\u001b[0;34m)\u001b[0m\u001b[0;34m\u001b[0m\u001b[0;34m\u001b[0m\u001b[0m\n\u001b[0m\u001b[1;32m    881\u001b[0m             \u001b[0;32melse\u001b[0m\u001b[0;34m:\u001b[0m\u001b[0;34m\u001b[0m\u001b[0;34m\u001b[0m\u001b[0m\n\u001b[1;32m    882\u001b[0m                 \u001b[0mself\u001b[0m\u001b[0;34m.\u001b[0m\u001b[0mbest_estimator_\u001b[0m\u001b[0;34m.\u001b[0m\u001b[0mfit\u001b[0m\u001b[0;34m(\u001b[0m\u001b[0mX\u001b[0m\u001b[0;34m,\u001b[0m \u001b[0;34m**\u001b[0m\u001b[0mfit_params\u001b[0m\u001b[0;34m)\u001b[0m\u001b[0;34m\u001b[0m\u001b[0;34m\u001b[0m\u001b[0m\n",
            "\u001b[0;32m/workspace/.pip-modules/lib/python3.8/site-packages/sklearn/pipeline.py\u001b[0m in \u001b[0;36mfit\u001b[0;34m(self, X, y, **fit_params)\u001b[0m\n\u001b[1;32m    344\u001b[0m             \u001b[0;32mif\u001b[0m \u001b[0mself\u001b[0m\u001b[0;34m.\u001b[0m\u001b[0m_final_estimator\u001b[0m \u001b[0;34m!=\u001b[0m \u001b[0;34m'passthrough'\u001b[0m\u001b[0;34m:\u001b[0m\u001b[0;34m\u001b[0m\u001b[0;34m\u001b[0m\u001b[0m\n\u001b[1;32m    345\u001b[0m                 \u001b[0mfit_params_last_step\u001b[0m \u001b[0;34m=\u001b[0m \u001b[0mfit_params_steps\u001b[0m\u001b[0;34m[\u001b[0m\u001b[0mself\u001b[0m\u001b[0;34m.\u001b[0m\u001b[0msteps\u001b[0m\u001b[0;34m[\u001b[0m\u001b[0;34m-\u001b[0m\u001b[0;36m1\u001b[0m\u001b[0;34m]\u001b[0m\u001b[0;34m[\u001b[0m\u001b[0;36m0\u001b[0m\u001b[0;34m]\u001b[0m\u001b[0;34m]\u001b[0m\u001b[0;34m\u001b[0m\u001b[0;34m\u001b[0m\u001b[0m\n\u001b[0;32m--> 346\u001b[0;31m                 \u001b[0mself\u001b[0m\u001b[0;34m.\u001b[0m\u001b[0m_final_estimator\u001b[0m\u001b[0;34m.\u001b[0m\u001b[0mfit\u001b[0m\u001b[0;34m(\u001b[0m\u001b[0mXt\u001b[0m\u001b[0;34m,\u001b[0m \u001b[0my\u001b[0m\u001b[0;34m,\u001b[0m \u001b[0;34m**\u001b[0m\u001b[0mfit_params_last_step\u001b[0m\u001b[0;34m)\u001b[0m\u001b[0;34m\u001b[0m\u001b[0;34m\u001b[0m\u001b[0m\n\u001b[0m\u001b[1;32m    347\u001b[0m \u001b[0;34m\u001b[0m\u001b[0m\n\u001b[1;32m    348\u001b[0m         \u001b[0;32mreturn\u001b[0m \u001b[0mself\u001b[0m\u001b[0;34m\u001b[0m\u001b[0;34m\u001b[0m\u001b[0m\n",
            "\u001b[0;32m/workspace/.pip-modules/lib/python3.8/site-packages/xgboost/sklearn.py\u001b[0m in \u001b[0;36mfit\u001b[0;34m(self, X, y, sample_weight, base_margin, eval_set, eval_metric, early_stopping_rounds, verbose, xgb_model, sample_weight_eval_set, callbacks)\u001b[0m\n\u001b[1;32m    826\u001b[0m                                 missing=self.missing, nthread=self.n_jobs)\n\u001b[1;32m    827\u001b[0m \u001b[0;34m\u001b[0m\u001b[0m\n\u001b[0;32m--> 828\u001b[0;31m         self._Booster = train(xgb_options, train_dmatrix,\n\u001b[0m\u001b[1;32m    829\u001b[0m                               \u001b[0mself\u001b[0m\u001b[0;34m.\u001b[0m\u001b[0mget_num_boosting_rounds\u001b[0m\u001b[0;34m(\u001b[0m\u001b[0;34m)\u001b[0m\u001b[0;34m,\u001b[0m\u001b[0;34m\u001b[0m\u001b[0;34m\u001b[0m\u001b[0m\n\u001b[1;32m    830\u001b[0m                               \u001b[0mevals\u001b[0m\u001b[0;34m=\u001b[0m\u001b[0mevals\u001b[0m\u001b[0;34m,\u001b[0m\u001b[0;34m\u001b[0m\u001b[0;34m\u001b[0m\u001b[0m\n",
            "\u001b[0;32m/workspace/.pip-modules/lib/python3.8/site-packages/xgboost/training.py\u001b[0m in \u001b[0;36mtrain\u001b[0;34m(params, dtrain, num_boost_round, evals, obj, feval, maximize, early_stopping_rounds, evals_result, verbose_eval, xgb_model, callbacks)\u001b[0m\n\u001b[1;32m    206\u001b[0m         \u001b[0mcallbacks\u001b[0m\u001b[0;34m.\u001b[0m\u001b[0mappend\u001b[0m\u001b[0;34m(\u001b[0m\u001b[0mcallback\u001b[0m\u001b[0;34m.\u001b[0m\u001b[0mrecord_evaluation\u001b[0m\u001b[0;34m(\u001b[0m\u001b[0mevals_result\u001b[0m\u001b[0;34m)\u001b[0m\u001b[0;34m)\u001b[0m\u001b[0;34m\u001b[0m\u001b[0;34m\u001b[0m\u001b[0m\n\u001b[1;32m    207\u001b[0m \u001b[0;34m\u001b[0m\u001b[0m\n\u001b[0;32m--> 208\u001b[0;31m     return _train_internal(params, dtrain,\n\u001b[0m\u001b[1;32m    209\u001b[0m                            \u001b[0mnum_boost_round\u001b[0m\u001b[0;34m=\u001b[0m\u001b[0mnum_boost_round\u001b[0m\u001b[0;34m,\u001b[0m\u001b[0;34m\u001b[0m\u001b[0;34m\u001b[0m\u001b[0m\n\u001b[1;32m    210\u001b[0m                            \u001b[0mevals\u001b[0m\u001b[0;34m=\u001b[0m\u001b[0mevals\u001b[0m\u001b[0;34m,\u001b[0m\u001b[0;34m\u001b[0m\u001b[0;34m\u001b[0m\u001b[0m\n",
            "\u001b[0;32m/workspace/.pip-modules/lib/python3.8/site-packages/xgboost/training.py\u001b[0m in \u001b[0;36m_train_internal\u001b[0;34m(params, dtrain, num_boost_round, evals, obj, feval, xgb_model, callbacks)\u001b[0m\n\u001b[1;32m     73\u001b[0m         \u001b[0;31m# Skip the first update if it is a recovery step.\u001b[0m\u001b[0;34m\u001b[0m\u001b[0;34m\u001b[0m\u001b[0;34m\u001b[0m\u001b[0m\n\u001b[1;32m     74\u001b[0m         \u001b[0;32mif\u001b[0m \u001b[0mversion\u001b[0m \u001b[0;34m%\u001b[0m \u001b[0;36m2\u001b[0m \u001b[0;34m==\u001b[0m \u001b[0;36m0\u001b[0m\u001b[0;34m:\u001b[0m\u001b[0;34m\u001b[0m\u001b[0;34m\u001b[0m\u001b[0m\n\u001b[0;32m---> 75\u001b[0;31m             \u001b[0mbst\u001b[0m\u001b[0;34m.\u001b[0m\u001b[0mupdate\u001b[0m\u001b[0;34m(\u001b[0m\u001b[0mdtrain\u001b[0m\u001b[0;34m,\u001b[0m \u001b[0mi\u001b[0m\u001b[0;34m,\u001b[0m \u001b[0mobj\u001b[0m\u001b[0;34m)\u001b[0m\u001b[0;34m\u001b[0m\u001b[0;34m\u001b[0m\u001b[0m\n\u001b[0m\u001b[1;32m     76\u001b[0m             \u001b[0mbst\u001b[0m\u001b[0;34m.\u001b[0m\u001b[0msave_rabit_checkpoint\u001b[0m\u001b[0;34m(\u001b[0m\u001b[0;34m)\u001b[0m\u001b[0;34m\u001b[0m\u001b[0;34m\u001b[0m\u001b[0m\n\u001b[1;32m     77\u001b[0m             \u001b[0mversion\u001b[0m \u001b[0;34m+=\u001b[0m \u001b[0;36m1\u001b[0m\u001b[0;34m\u001b[0m\u001b[0;34m\u001b[0m\u001b[0m\n",
            "\u001b[0;32m/workspace/.pip-modules/lib/python3.8/site-packages/xgboost/core.py\u001b[0m in \u001b[0;36mupdate\u001b[0;34m(self, dtrain, iteration, fobj)\u001b[0m\n\u001b[1;32m   1157\u001b[0m \u001b[0;34m\u001b[0m\u001b[0m\n\u001b[1;32m   1158\u001b[0m         \u001b[0;32mif\u001b[0m \u001b[0mfobj\u001b[0m \u001b[0;32mis\u001b[0m \u001b[0;32mNone\u001b[0m\u001b[0;34m:\u001b[0m\u001b[0;34m\u001b[0m\u001b[0;34m\u001b[0m\u001b[0m\n\u001b[0;32m-> 1159\u001b[0;31m             _check_call(_LIB.XGBoosterUpdateOneIter(self.handle,\n\u001b[0m\u001b[1;32m   1160\u001b[0m                                                     \u001b[0mctypes\u001b[0m\u001b[0;34m.\u001b[0m\u001b[0mc_int\u001b[0m\u001b[0;34m(\u001b[0m\u001b[0miteration\u001b[0m\u001b[0;34m)\u001b[0m\u001b[0;34m,\u001b[0m\u001b[0;34m\u001b[0m\u001b[0;34m\u001b[0m\u001b[0m\n\u001b[1;32m   1161\u001b[0m                                                     dtrain.handle))\n",
            "\u001b[0;31mKeyboardInterrupt\u001b[0m: "
          ]
        }
      ],
      "metadata": {
        "id": "dh-nd-JCfX7M"
      }
    },
    {
      "cell_type": "markdown",
      "source": [
        "Check results"
      ],
      "metadata": {
        "id": "uqQfPBxfEQgf"
      }
    },
    {
      "cell_type": "code",
      "execution_count": null,
      "source": [
        "grid_search_summary, grid_search_pipelines = quick_search.score_summary(sort_by='mean_score')\n",
        "grid_search_summary"
      ],
      "outputs": [],
      "metadata": {
        "id": "yXUbzctLfXd2"
      }
    },
    {
      "cell_type": "markdown",
      "source": [
        "Check best model"
      ],
      "metadata": {
        "id": "j8Vs9pB8EVyc"
      }
    },
    {
      "cell_type": "code",
      "execution_count": null,
      "source": [
        "best_model = grid_search_summary.iloc[0,0]\n",
        "best_model"
      ],
      "outputs": [],
      "metadata": {
        "id": "r6R2wXm0XbjG"
      }
    },
    {
      "cell_type": "markdown",
      "source": [
        "### Do extensive search on most suitable model to find best hyperparameter configuration"
      ],
      "metadata": {
        "id": "uQWhAJtcDoSI"
      }
    },
    {
      "cell_type": "markdown",
      "source": [
        "Define models and parameters"
      ],
      "metadata": {
        "id": "yyeaZbCFDxf4"
      }
    },
    {
      "cell_type": "code",
      "execution_count": null,
      "source": [
        "models_search = {\n",
        "    \"AdaBoostClassifier\":AdaBoostClassifier(random_state=0),\n",
        "}\n",
        "\n",
        "# documentation to help on hyperparameter list: \n",
        "# https://scikit-learn.org/stable/modules/generated/sklearn.ensemble.AdaBoostClassifier.html\n",
        "params_search = {\n",
        "    \"AdaBoostClassifier\":{\n",
        "        'model__n_estimators': [50,100,300],\n",
        "        'model__learning_rate': [1e-1,1e-2,1e-3], \n",
        "    }\n",
        "}"
      ],
      "outputs": [],
      "metadata": {
        "id": "FxEXnjBWDzOr"
      }
    },
    {
      "cell_type": "markdown",
      "source": [
        "Extensive GridSearch CV"
      ],
      "metadata": {
        "id": "ZcqabQPpD_vX"
      }
    },
    {
      "cell_type": "code",
      "execution_count": null,
      "source": [
        "from sklearn.metrics import make_scorer,  f1_score\n",
        "search = HyperparameterOptimizationSearch(models=models_search, params=params_search)\n",
        "search.fit(X_train, y_train,\n",
        "           scoring = make_scorer(f1_score, labels=[0], average=None),\n",
        "           n_jobs=-1, cv=5)"
      ],
      "outputs": [],
      "metadata": {
        "id": "CC2xgdgkECox"
      }
    },
    {
      "cell_type": "markdown",
      "source": [
        "Check results"
      ],
      "metadata": {
        "id": "RDne0BgoEaDz"
      }
    },
    {
      "cell_type": "code",
      "execution_count": null,
      "source": [
        "grid_search_summary, grid_search_pipelines = search.score_summary(sort_by='mean_score')\n",
        "grid_search_summary"
      ],
      "outputs": [],
      "metadata": {
        "id": "KsNiNwdGECra"
      }
    },
    {
      "cell_type": "markdown",
      "source": [
        "\n",
        "Check the best model"
      ],
      "metadata": {
        "id": "-bZ2Qu5JEhrp"
      }
    },
    {
      "cell_type": "code",
      "execution_count": null,
      "source": [
        "best_model = grid_search_summary.iloc[0,0]\n",
        "best_model"
      ],
      "outputs": [],
      "metadata": {
        "id": "aAbJosK8ECt-"
      }
    },
    {
      "cell_type": "markdown",
      "source": [
        "Parameters for best model\n",
        "* We are saving this content for later"
      ],
      "metadata": {
        "id": "qUyqeVjkEjn7"
      }
    },
    {
      "cell_type": "code",
      "execution_count": null,
      "source": [
        "best_parameters = grid_search_pipelines[best_model].best_params_\n",
        "best_parameters"
      ],
      "outputs": [],
      "metadata": {
        "id": "BXPyDbbxYbv6"
      }
    },
    {
      "cell_type": "markdown",
      "source": [
        "Define the best clf pipeline"
      ],
      "metadata": {
        "id": "_YUeAvIsEo5v"
      }
    },
    {
      "cell_type": "code",
      "execution_count": null,
      "source": [
        "pipeline_clf = grid_search_pipelines[best_model].best_estimator_\n",
        "pipeline_clf"
      ],
      "outputs": [],
      "metadata": {
        "id": "LTrUEOcBYby4"
      }
    },
    {
      "cell_type": "markdown",
      "source": [
        "## Assess feature importance"
      ],
      "metadata": {
        "id": "aGc1W7wEM2GP"
      }
    },
    {
      "cell_type": "markdown",
      "source": [
        "We can assess feature importane for this model with `.feature_importances_`"
      ],
      "metadata": {
        "id": "fHN_VRwZarUp"
      }
    },
    {
      "cell_type": "code",
      "execution_count": null,
      "source": [
        "# after data cleaning and feat engine, the feature space changes\n",
        "columns_after_data_cleaning_feat_eng = (PipelineDataCleaningAndFeatureEngineering()\n",
        "                                        .fit_transform(X_train)\n",
        "                                        .columns)\n",
        "\n",
        "# best_features = columns_after_data_cleaning_feat_eng\n",
        "best_features = columns_after_data_cleaning_feat_eng[pipeline_clf['feat_selection'].get_support()].to_list()\n",
        "\n",
        "# create DataFrame to display feature importance\n",
        "df_feature_importance = (pd.DataFrame(data={\n",
        "          'Attribute': columns_after_data_cleaning_feat_eng[pipeline_clf['feat_selection'].get_support()],\n",
        "          'Importance': pipeline_clf['model'].feature_importances_})\n",
        "  .sort_values(by='Importance', ascending=False)\n",
        "  )\n",
        "\n",
        "best_features = df_feature_importance['Attribute'].to_list() # reassign best features in order\n",
        "\n",
        "# Most important features statement and plot\n",
        "print(f\"* These are the {len(best_features)} most important features in descending order. \"\n",
        "      f\"The model was trained on them: \\n{best_features}\")\n",
        "\n",
        "df_feature_importance.plot(kind='bar',x='Attribute',y='Importance')\n",
        "plt.show()"
      ],
      "outputs": [],
      "metadata": {
        "id": "kfckT_bFxFaE"
      }
    },
    {
      "cell_type": "code",
      "execution_count": null,
      "source": [
        "best_features_clf = best_features\n",
        "best_features_clf"
      ],
      "outputs": [],
      "metadata": {
        "id": "BxYUJst9MfR8"
      }
    },
    {
      "cell_type": "markdown",
      "source": [
        "## Evaluate Classifier on Train and Test Sets"
      ],
      "metadata": {
        "id": "jiwI6U28UV4C"
      }
    },
    {
      "cell_type": "markdown",
      "source": [
        "Custom Function"
      ],
      "metadata": {
        "id": "6sL9XamIDTG3"
      }
    },
    {
      "cell_type": "code",
      "execution_count": null,
      "source": [
        "from sklearn.metrics import classification_report, confusion_matrix\n",
        "\n",
        "def ClfPredictionEvaluation(X,y,pipeline,LabelsMap):\n",
        "\n",
        "  prediction = pipeline.predict(X)\n",
        "\n",
        "  Map = list() \n",
        "  for key, value in LabelsMap.items():\n",
        "    Map.append( str(key) + \": \" + value)\n",
        "\n",
        "  print('---  Confusion Matrix  ---')\n",
        "  print(pd.DataFrame(confusion_matrix(prediction,y),\n",
        "        columns=[ [\"Actual \" + sub for sub in Map] ], \n",
        "        index = [ [\"Prediction \" + sub for sub in Map ]]\n",
        "        # index=['Prediction 0', 'Prediction 1']\n",
        "        ))\n",
        "  print(\"\\n\")\n",
        "\n",
        "\n",
        "  print('---  Classification Report  ---')\n",
        "  print(classification_report(y, prediction),\"\\n\")\n",
        "\n",
        "\n",
        "def ClfPerformanceTrainTestSet(X_train,y_train,X_test,y_test,pipeline,LabelsMap):\n",
        "  print(\"#### Train Set #### \\n\")\n",
        "  ClfPredictionEvaluation(X_train,y_train,pipeline,LabelsMap)\n",
        "\n",
        "  print(\"#### Test Set ####\\n\")\n",
        "  ClfPredictionEvaluation(X_test,y_test,pipeline,LabelsMap)"
      ],
      "outputs": [],
      "metadata": {
        "id": "yMcvrPmdXbmP"
      }
    },
    {
      "cell_type": "markdown",
      "source": [
        "Creates a dictionary that relates the class and numerical interval"
      ],
      "metadata": {
        "id": "PyX8PsH-0z8z"
      }
    },
    {
      "cell_type": "code",
      "execution_count": null,
      "source": [
        "n_classes = len(disc.binner_dict_['tenure']) - 1\n",
        "classes_ranges = disc.binner_dict_['tenure'][1:-1]\n",
        "\n",
        "labels_map = {}\n",
        "for n in range(0,n_classes):\n",
        "  if n == 0:\n",
        "    labels_map[n] = f\"<{classes_ranges[0]}\"\n",
        "  elif n == n_classes-1:\n",
        "    labels_map[n] = f\"+{classes_ranges[-1]}\"\n",
        "  else:\n",
        "    labels_map[n] = f\"{classes_ranges[n-1]} to {classes_ranges[n]}\"\n",
        "\n",
        "labels_map"
      ],
      "outputs": [],
      "metadata": {
        "id": "KGLKOq44xpMw"
      }
    },
    {
      "cell_type": "code",
      "execution_count": null,
      "source": [
        "ClfPerformanceTrainTestSet(X_train, y_train ,X_test, y_test,\n",
        "                        pipeline_clf,\n",
        "                        LabelsMap=labels_map )"
      ],
      "outputs": [],
      "metadata": {
        "id": "no7flbMcYbsz"
      }
    },
    {
      "cell_type": "markdown",
      "source": [
        "# Which pipeline to choose?"
      ],
      "metadata": {
        "id": "mQ3u0TodDdOZ"
      }
    },
    {
      "cell_type": "markdown",
      "source": [
        "We fitted multiple pipelines:\n",
        "* Regression\n",
        "* Regression with PCA\n",
        "* Classifier"
      ],
      "metadata": {
        "id": "FE5va8Cr-CCy"
      }
    },
    {
      "cell_type": "markdown",
      "source": [
        "The regressor pipelines didn't reach the expected performance threshold of 0.7 for R2 score, for train and test set.\n",
        "\n",
        "The classifier was tuned on recall for class 0, since we are interested to detect prospects that may churn soon. \n",
        "* It has reasonable performance for class 0 (<4 months) and can separate the opposite classes: class 0 (<4 months) and class 2 (+20 months).\n",
        "* Class 1 (4 to 20 months) has weak performance. We will accept this limitation and will handle a prediction of class 1 as if it was a prediction of class 0."
      ],
      "metadata": {
        "id": "sQR54xeCbIAH"
      }
    },
    {
      "cell_type": "markdown",
      "source": [
        "# Refit pipeline with best features"
      ],
      "metadata": {
        "id": "1BqT1Kne54Fq"
      }
    },
    {
      "cell_type": "markdown",
      "source": [
        "## Split Train Test Set, only with best features"
      ],
      "metadata": {
        "id": "GpgS-AgU6IWx"
      }
    },
    {
      "cell_type": "code",
      "execution_count": null,
      "source": [
        "from sklearn.model_selection import train_test_split\n",
        "\n",
        "X_train, X_test,y_train, y_test = train_test_split(\n",
        "                                    df_clf.drop(['tenure'],axis=1),\n",
        "                                    df_clf['tenure'],\n",
        "                                    test_size=0.2,\n",
        "                                    random_state=0\n",
        "                                    )\n",
        "\n",
        "print(\"* Train set:\", X_train.shape, y_train.shape, \"\\n* Test set:\",  X_test.shape, y_test.shape)"
      ],
      "outputs": [],
      "metadata": {
        "id": "_31XFcrg6IWy"
      }
    },
    {
      "cell_type": "markdown",
      "source": [
        "Subset Best Features"
      ],
      "metadata": {
        "id": "ohPWfCs2E_3G"
      }
    },
    {
      "cell_type": "code",
      "execution_count": null,
      "source": [
        "X_train = X_train.filter(best_features_clf)\n",
        "\n",
        "X_test = X_test.filter(best_features_clf)\n",
        "print(\"* Train set:\", X_train.shape, y_train.shape, \"\\n* Test set:\",  X_test.shape, y_test.shape)"
      ],
      "outputs": [],
      "metadata": {
        "id": "UUEIfyLU6IWz"
      }
    },
    {
      "cell_type": "markdown",
      "source": [
        "Check how training data looks like now"
      ],
      "metadata": {
        "id": "PsYi88NhFBcx"
      }
    },
    {
      "cell_type": "code",
      "execution_count": null,
      "source": [
        "X_train.head(3)"
      ],
      "outputs": [],
      "metadata": {
        "id": "9vuYQjAfNljQ"
      }
    },
    {
      "cell_type": "markdown",
      "source": [
        "## Rewrite Data Cleaning and Feature Engineering Pipeline"
      ],
      "metadata": {
        "id": "KN4T0UFCE-qy"
      }
    },
    {
      "cell_type": "code",
      "execution_count": null,
      "source": [
        "def PipelineDataCleaningAndFeatureEngineering():\n",
        "  pipeline_base = Pipeline(\n",
        "      [\n",
        "      (\"OrdinalCategoricalEncoder\",OrdinalEncoder(encoding_method='arbitrary', \n",
        "                                                  variables = ['MultipleLines', 'Contract', \n",
        "                                                               'PaymentMethod','Partner']\n",
        "                                                  )\n",
        "      ),\n",
        "       \n",
        "    ]\n",
        "  )\n",
        "\n",
        "  return pipeline_base"
      ],
      "outputs": [],
      "metadata": {
        "id": "MGrvMwV76S1u"
      }
    },
    {
      "cell_type": "markdown",
      "source": [
        "## Rewrite Modelling Pipeline (removes feat_selection)"
      ],
      "metadata": {
        "id": "y0O-hHDpFGqd"
      }
    },
    {
      "cell_type": "code",
      "execution_count": null,
      "source": [
        "def PipelineOptimization(model):\n",
        "  pipe = PipelineDataCleaningAndFeatureEngineering()\n",
        "  pipe.steps.append([\"scaler\", StandardScaler()])\n",
        "  pipe.steps.append([\"model\", model])\n",
        "  return pipe\n"
      ],
      "outputs": [],
      "metadata": {
        "id": "QGcOyX2y589f"
      }
    },
    {
      "cell_type": "markdown",
      "source": [
        "## Grid Search CV – Sklearn"
      ],
      "metadata": {
        "id": "2fT_mdLWFJFz"
      }
    },
    {
      "cell_type": "markdown",
      "source": [
        "* using most suitable model from last section and it best hyperparameter configuration"
      ],
      "metadata": {
        "id": "r2l_tUNcFLd0"
      }
    },
    {
      "cell_type": "markdown",
      "source": [
        "We are using the same model from the last GridCV search"
      ],
      "metadata": {
        "id": "RfKEBTyLeDtj"
      }
    },
    {
      "cell_type": "code",
      "execution_count": null,
      "source": [
        "models_search"
      ],
      "outputs": [],
      "metadata": {
        "id": "_1qcZktreHH5"
      }
    },
    {
      "cell_type": "markdown",
      "source": [
        "And the best parameters from the last GridCV search"
      ],
      "metadata": {
        "id": "9WaSA9jcecXr"
      }
    },
    {
      "cell_type": "code",
      "execution_count": null,
      "source": [
        "best_parameters"
      ],
      "outputs": [],
      "metadata": {
        "id": "XXi0L025eKA6"
      }
    },
    {
      "cell_type": "markdown",
      "source": [
        "You will need to type in manually, since the hyperparameter values has to be a list. The previous dictonary is not in this format"
      ],
      "metadata": {
        "id": "_7jAkvlBeeQl"
      }
    },
    {
      "cell_type": "code",
      "execution_count": null,
      "source": [
        "params_search = {'AdaBoostClassifier':  {\n",
        "    'model__learning_rate': [0.1],   # the value should be in []\n",
        "    'model__n_estimators': [50]       # the value should be in []\n",
        "}\n",
        "}\n",
        "params_search"
      ],
      "outputs": [],
      "metadata": {
        "id": "u9HBXI2E58_5"
      }
    },
    {
      "cell_type": "markdown",
      "source": [
        "GridSearch CV"
      ],
      "metadata": {
        "id": "zEZYXLRQfvTL"
      }
    },
    {
      "cell_type": "code",
      "execution_count": null,
      "source": [
        "from sklearn.metrics import make_scorer, f1_score\n",
        "search = HyperparameterOptimizationSearch(models=models_search, params=params_search)\n",
        "search.fit(X_train, y_train,\n",
        "           scoring = make_scorer(f1_score, labels=[0], average=None),\n",
        "           n_jobs=-1,cv=5)"
      ],
      "outputs": [],
      "metadata": {
        "id": "msJPkpo8fFAI"
      }
    },
    {
      "cell_type": "markdown",
      "source": [
        "\n",
        "Check results"
      ],
      "metadata": {
        "id": "OcgDvuLRfwsE"
      }
    },
    {
      "cell_type": "code",
      "execution_count": null,
      "source": [
        "grid_search_summary, grid_search_pipelines = search.score_summary(sort_by='mean_score')\n",
        "grid_search_summary"
      ],
      "outputs": [],
      "metadata": {
        "id": "loZEVp8g6q9O"
      }
    },
    {
      "cell_type": "markdown",
      "source": [
        "Check the best model"
      ],
      "metadata": {
        "id": "3TE6Xgvif1ek"
      }
    },
    {
      "cell_type": "code",
      "execution_count": null,
      "source": [
        "best_model = grid_search_summary.iloc[0,0]\n",
        "best_model"
      ],
      "outputs": [],
      "metadata": {
        "id": "sf6qYXV06q9O"
      }
    },
    {
      "cell_type": "markdown",
      "source": [
        "Parameters for best model"
      ],
      "metadata": {
        "id": "KL2y9Zpgf4ZK"
      }
    },
    {
      "cell_type": "code",
      "execution_count": null,
      "source": [
        "grid_search_pipelines[best_model].best_params_"
      ],
      "outputs": [],
      "metadata": {
        "id": "oK7kFD5O6q9O"
      }
    },
    {
      "cell_type": "markdown",
      "source": [
        "Define the best clf pipeline"
      ],
      "metadata": {
        "id": "oeB08Md3f60p"
      }
    },
    {
      "cell_type": "code",
      "execution_count": null,
      "source": [
        "pipeline_clf = grid_search_pipelines[best_model].best_estimator_\n",
        "pipeline_clf"
      ],
      "outputs": [],
      "metadata": {
        "id": "YuA9mpyk6q9P"
      }
    },
    {
      "cell_type": "markdown",
      "source": [
        "## Assess feature importance"
      ],
      "metadata": {
        "id": "IN0aj0iv6q9P"
      }
    },
    {
      "cell_type": "code",
      "execution_count": null,
      "source": [
        "# after data cleaning and feat engine, the feature space changes\n",
        "columns_after_data_cleaning_feat_eng = (PipelineDataCleaningAndFeatureEngineering()\n",
        "                                        .fit_transform(X_train)\n",
        "                                        .columns)\n",
        "\n",
        "best_features = columns_after_data_cleaning_feat_eng\n",
        "\n",
        "# create DataFrame to display feature importance\n",
        "df_feature_importance = (pd.DataFrame(data={\n",
        "          'Attribute': columns_after_data_cleaning_feat_eng,\n",
        "          'Importance': pipeline_clf['model'].feature_importances_})\n",
        "  .sort_values(by='Importance', ascending=False)\n",
        "  )\n",
        "\n",
        "# Most important features statement and plot\n",
        "print(f\"* These are the {len(best_features)} most important features in descending order. \"\n",
        "      f\"The model was trained on them: \\n{df_feature_importance['Attribute'].to_list()}\")\n",
        "\n",
        "df_feature_importance.plot(kind='bar',x='Attribute',y='Importance')\n",
        "plt.show()"
      ],
      "outputs": [],
      "metadata": {
        "id": "dN-blGZb6q9P"
      }
    },
    {
      "cell_type": "markdown",
      "source": [
        "## Evaluate Classifier on Train and Test Sets"
      ],
      "metadata": {
        "id": "h7fjgzReFYeM"
      }
    },
    {
      "cell_type": "code",
      "execution_count": null,
      "source": [
        "ClfPerformanceTrainTestSet(X_train, y_train ,X_test, y_test,\n",
        "                        pipeline_clf,\n",
        "                        LabelsMap=labels_map )"
      ],
      "outputs": [],
      "metadata": {
        "id": "aPeKtw3A59C3"
      }
    },
    {
      "cell_type": "markdown",
      "source": [
        "# Push files to the repo"
      ],
      "metadata": {
        "id": "GBtppR73G1Yx"
      }
    },
    {
      "cell_type": "markdown",
      "source": [
        "We will generate the following files\n",
        "\n",
        "* Train set\n",
        "* Test set\n",
        "* Modeling pipeline\n",
        "* label map\n",
        "* features importance plot"
      ],
      "metadata": {
        "id": "ShuJ5tYUC06o"
      }
    },
    {
      "cell_type": "code",
      "execution_count": null,
      "source": [
        "import joblib\n",
        "import os\n",
        "\n",
        "version = 'v1'\n",
        "file_path = f'outputs/ml_pipeline/predict_tenure/{version}'\n",
        "\n",
        "try:\n",
        "  os.makedirs(name=file_path)\n",
        "except Exception as e:\n",
        "  print(e)"
      ],
      "outputs": [],
      "metadata": {
        "id": "8vBpPvnaG5Mb"
      }
    },
    {
      "cell_type": "markdown",
      "source": [
        "## Train Set : features and target"
      ],
      "metadata": {
        "id": "4TvoMsi3DNw1"
      }
    },
    {
      "cell_type": "code",
      "execution_count": null,
      "source": [
        "X_train.head()"
      ],
      "outputs": [],
      "metadata": {
        "id": "yJHmwyqgDOr1"
      }
    },
    {
      "cell_type": "code",
      "execution_count": null,
      "source": [
        "X_train.to_csv(f\"{file_path}/X_train.csv\", index=False)"
      ],
      "outputs": [],
      "metadata": {
        "id": "yh6w6R7tDOvM"
      }
    },
    {
      "cell_type": "code",
      "execution_count": null,
      "source": [
        "y_train"
      ],
      "outputs": [],
      "metadata": {
        "id": "pB6pjmAcDOym"
      }
    },
    {
      "cell_type": "code",
      "execution_count": null,
      "source": [
        "y_train.to_csv(f\"{file_path}/y_train.csv\", index=False)"
      ],
      "outputs": [],
      "metadata": {
        "id": "ZZ93HN6cDPBN"
      }
    },
    {
      "cell_type": "markdown",
      "source": [
        "## Test Set: features and target"
      ],
      "metadata": {
        "id": "aVbS3OnRDYtJ"
      }
    },
    {
      "cell_type": "code",
      "execution_count": null,
      "source": [
        "X_test.head()"
      ],
      "outputs": [],
      "metadata": {
        "id": "XbgF38n1DaPp"
      }
    },
    {
      "cell_type": "code",
      "execution_count": null,
      "source": [
        "X_test.to_csv(f\"{file_path}/X_test.csv\", index=False)"
      ],
      "outputs": [],
      "metadata": {
        "id": "x9lM0xDvDaVZ"
      }
    },
    {
      "cell_type": "code",
      "execution_count": null,
      "source": [
        "y_test"
      ],
      "outputs": [],
      "metadata": {
        "id": "5Jz66iMaDacI"
      }
    },
    {
      "cell_type": "code",
      "execution_count": null,
      "source": [
        "y_test.to_csv(f\"{file_path}/y_test.csv\", index=False)"
      ],
      "outputs": [],
      "metadata": {
        "id": "weYaJ4UxDake"
      }
    },
    {
      "cell_type": "markdown",
      "source": [
        "## Modelling pipeline (that includes Data Cleaning and Feat Eng pipeline)"
      ],
      "metadata": {
        "id": "U-XpkYAPFncu"
      }
    },
    {
      "cell_type": "markdown",
      "source": [
        "ML pipeline for predicting tenure"
      ],
      "metadata": {
        "id": "xLmFFWF6RGo6"
      }
    },
    {
      "cell_type": "code",
      "execution_count": null,
      "source": [
        "pipeline_clf"
      ],
      "outputs": [],
      "metadata": {
        "id": "vQkr4rcrHDnn"
      }
    },
    {
      "cell_type": "code",
      "execution_count": null,
      "source": [
        "joblib.dump(value=pipeline_clf ,\n",
        "            filename=f\"{file_path}/clf_pipeline.pkl\")"
      ],
      "outputs": [],
      "metadata": {
        "id": "YrZPif2aHdyO"
      }
    },
    {
      "cell_type": "markdown",
      "source": [
        "## Dictionary mapping target levels to bins"
      ],
      "metadata": {
        "id": "LUCrXGvUFpeB"
      }
    },
    {
      "cell_type": "markdown",
      "source": [
        "Map for converting numerical variable to categorical variable"
      ],
      "metadata": {
        "id": "TFkAKp0eRMYM"
      }
    },
    {
      "cell_type": "code",
      "execution_count": null,
      "source": [
        "labels_map"
      ],
      "outputs": [],
      "metadata": {
        "id": "V6HfkzarHHbW"
      }
    },
    {
      "cell_type": "code",
      "execution_count": null,
      "source": [
        "joblib.dump(value=labels_map ,\n",
        "            filename=f\"{file_path}/labels_map.pkl\")"
      ],
      "outputs": [],
      "metadata": {
        "id": "TPEpdAgPHQaL"
      }
    },
    {
      "cell_type": "markdown",
      "source": [
        "## Feature importance plot"
      ],
      "metadata": {
        "id": "tTJlYRC5Q2wJ"
      }
    },
    {
      "cell_type": "code",
      "execution_count": null,
      "source": [
        "df_feature_importance.plot(kind='bar', x='Attribute', y='Importance')\n",
        "plt.show()"
      ],
      "outputs": [],
      "metadata": {
        "id": "0SfLH05-Q2D8"
      }
    },
    {
      "cell_type": "code",
      "execution_count": null,
      "source": [
        "df_feature_importance.plot(kind='bar',x='Attribute',y='Importance')\n",
        "plt.savefig(f'{file_path}/features_importance.png', bbox_inches='tight')"
      ],
      "outputs": [],
      "metadata": {
        "id": "R-Hc2H3dQ74Z"
      }
    },
    {
      "cell_type": "markdown",
      "source": [
        "## **Push** generated/new files from this Session to GitHub repo"
      ],
      "metadata": {
        "id": "257gMsNhiuM3"
      }
    },
    {
      "cell_type": "markdown",
      "source": [
        "Now you can push the files to the GitHub repo!!!"
      ],
      "metadata": {
        "id": "5Qwo5rjVFsnL"
      }
    },
    {
      "cell_type": "markdown",
      "source": [
        "* Git status"
      ],
      "metadata": {
        "id": "FUla5863TKyk"
      }
    },
    {
      "cell_type": "code",
      "execution_count": null,
      "source": [
        "! git status"
      ],
      "outputs": [],
      "metadata": {
        "id": "NzjZgWV-TMOB"
      }
    },
    {
      "cell_type": "markdown",
      "source": [
        "* Git commit"
      ],
      "metadata": {
        "id": "lH_xeleqiuM4"
      }
    },
    {
      "cell_type": "code",
      "execution_count": null,
      "source": [
        "CommitMsg = \"added-files-predict-tenure\"\n",
        "! git add .\n",
        "! git commit -m {CommitMsg}"
      ],
      "outputs": [],
      "metadata": {
        "id": "VpFefbLXiuM4"
      }
    },
    {
      "cell_type": "markdown",
      "source": [
        "* Git Push"
      ],
      "metadata": {
        "id": "msFKrJ6fiuM5"
      }
    },
    {
      "cell_type": "code",
      "execution_count": null,
      "source": [
        "! git push origin main"
      ],
      "outputs": [],
      "metadata": {
        "id": "QZxYGf_yiuM5"
      }
    },
    {
      "cell_type": "markdown",
      "source": [
        "Good job! Save the notebook in your repo.\n",
        "\n",
        "Then, terminate the session (Runtime - Manage Sessions - Terminate)"
      ],
      "metadata": {
        "id": "Sh0SKfv_s-3V"
      }
    }
  ]
}