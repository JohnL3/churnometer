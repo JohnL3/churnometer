{
  "nbformat": 4,
  "nbformat_minor": 2,
  "metadata": {
    "orig_nbformat": 2,
    "colab": {
      "name": "Data Practitioner Jupyter Notebook.ipynb",
      "provenance": [],
      "toc_visible": true
    },
    "language_info": {
      "name": "python",
      "version": "3.8.12",
      "mimetype": "text/x-python",
      "codemirror_mode": {
        "name": "ipython",
        "version": 3
      },
      "pygments_lexer": "ipython3",
      "nbconvert_exporter": "python",
      "file_extension": ".py"
    },
    "kernelspec": {
      "name": "python3",
      "display_name": "Python 3.8.12 64-bit ('3.8.12': pyenv)"
    },
    "accelerator": "GPU",
    "interpreter": {
      "hash": "625c31d6b4db3d7e7e2853cc30dc2062e1cda684f3e49d5f899ae496ae755fe0"
    }
  },
  "cells": [
    {
      "cell_type": "markdown",
      "source": [
        "# Feature Engineering Notebook"
      ],
      "metadata": {
        "id": "0aStgWSO0E0E"
      }
    },
    {
      "cell_type": "markdown",
      "source": [
        "## Objectives\n",
        "\n",
        "*   Engineer features for Classification, Regression and Cluster models\n",
        "\n",
        "\n",
        "## Inputs\n",
        "\n",
        "* inputs/datasets/cleaned/TrainSet.csv\n",
        "* inputs/datasets/cleaned/TestSet.csv\n",
        "\n",
        "## Outputs\n",
        "\n",
        "* generate a list with variables to engineer\n",
        "\n",
        "## Conclusions\n",
        "\n",
        "\n",
        "\n",
        "* Feature Engineering Transformers\n",
        "  * Ordinal categorical encoding: `['gender', 'Partner', Dependents', 'PhoneService','MultipleLines', 'InternetService', 'OnlineSecurity', 'OnlineBackup','DeviceProtection', 'TechSupport', 'StreamingTV', 'StreamingMovies','Contract', 'PaperlessBilling', 'PaymentMethod']`\n",
        "  * Smart Correlation Selection: `['OnlineSecurity', 'DeviceProtection', 'TechSupport']`\n",
        "  \n"
      ],
      "metadata": {
        "id": "1eLEkw5O0ECa"
      }
    },
    {
      "cell_type": "markdown",
      "source": [
        "---"
      ],
      "metadata": {
        "id": "9uWZXH9LwoQg"
      }
    },
    {
      "cell_type": "markdown",
      "source": [
        "# Change working directory"
      ],
      "metadata": {}
    },
    {
      "cell_type": "markdown",
      "source": [
        "We need to change the working directory from its current folder to its parent folder\n",
        "* We access the current directory with os.getcwd()"
      ],
      "metadata": {}
    },
    {
      "cell_type": "code",
      "execution_count": null,
      "source": [
        "import os\n",
        "current_dir = os.getcwd()\n",
        "current_dir"
      ],
      "outputs": [],
      "metadata": {}
    },
    {
      "cell_type": "markdown",
      "source": [
        "We want to make the parent of current directory the new current directory\n",
        "* os.path.dirname() gets the parent directory\n",
        "* os.chir() defines the new current directory"
      ],
      "metadata": {}
    },
    {
      "cell_type": "code",
      "execution_count": null,
      "source": [
        "os.chdir(os.path.dirname(current_dir))\n",
        "print(\"You set a new current directory\")"
      ],
      "outputs": [],
      "metadata": {}
    },
    {
      "cell_type": "markdown",
      "source": [
        "Confirm the new current directory"
      ],
      "metadata": {}
    },
    {
      "cell_type": "code",
      "execution_count": null,
      "source": [
        "current_dir = os.getcwd()\n",
        "current_dir"
      ],
      "outputs": [],
      "metadata": {}
    },
    {
      "cell_type": "markdown",
      "source": [
        "---"
      ],
      "metadata": {}
    },
    {
      "cell_type": "markdown",
      "source": [
        "# Load Cleaned Data"
      ],
      "metadata": {
        "id": "-mavJ8DibrcQ"
      }
    },
    {
      "cell_type": "markdown",
      "source": [
        "Train Set"
      ],
      "metadata": {
        "id": "j6h-QeuCa2_U"
      }
    },
    {
      "cell_type": "code",
      "execution_count": null,
      "source": [
        "import pandas as pd\n",
        "train_set_path = \"outputs/datasets/cleaned/TrainSetCleaned.csv\"\n",
        "TrainSet = pd.read_csv(train_set_path)\n",
        "TrainSet.info()"
      ],
      "outputs": [],
      "metadata": {
        "id": "C2ELZj83tF1g"
      }
    },
    {
      "cell_type": "markdown",
      "source": [
        "Test Set"
      ],
      "metadata": {
        "id": "NNJOqym1a38e"
      }
    },
    {
      "cell_type": "code",
      "execution_count": null,
      "source": [
        "test_set_path = 'outputs/datasets/cleaned/TestSetCleaned.csv'\n",
        "TestSet = pd.read_csv(test_set_path)\n",
        "TestSet.info()"
      ],
      "outputs": [],
      "metadata": {
        "id": "L-WRjItbiOs6"
      }
    },
    {
      "cell_type": "markdown",
      "source": [
        "# Pandas Profiling"
      ],
      "metadata": {
        "id": "Iue5e5GJ_vZg"
      }
    },
    {
      "cell_type": "markdown",
      "source": [
        "In feature engineering, you are interested to evaluate which potential transformation you could do in your variables\n",
        "* Take your notes in your separate spreadsheet"
      ],
      "metadata": {
        "id": "edx7E2Yr4sZ5"
      }
    },
    {
      "cell_type": "code",
      "execution_count": null,
      "source": [
        "TrainSet.columns.to_list()"
      ],
      "outputs": [],
      "metadata": {}
    },
    {
      "cell_type": "code",
      "execution_count": null,
      "source": [
        "from pandas_profiling import ProfileReport\n",
        "pandas_report = ProfileReport(df=TrainSet, minimal=True)\n",
        "pandas_report.to_notebook_iframe()"
      ],
      "outputs": [],
      "metadata": {
        "id": "oyi3gi2-_q1j"
      }
    },
    {
      "cell_type": "markdown",
      "source": [
        "# Correlation and PPS Analysis"
      ],
      "metadata": {
        "id": "LvwabO0JsmYW"
      }
    },
    {
      "cell_type": "markdown",
      "source": [
        "Supporting functions"
      ],
      "metadata": {
        "id": "qufL2HWrF8ig"
      }
    },
    {
      "cell_type": "code",
      "execution_count": null,
      "source": [
        "import numpy as np\n",
        "import matplotlib.pyplot as plt\n",
        "import seaborn as sns\n",
        "import ppscore as pps\n",
        "\n",
        "def heatmap_corr(df,threshold, figsize=(20,12), font_annot = 8):\n",
        "  if len(df.columns) > 1:\n",
        "    mask = np.zeros_like(df, dtype=np.bool)\n",
        "    mask[np.triu_indices_from(mask)] = True\n",
        "    mask[abs(df) < threshold] = True\n",
        "\n",
        "    fig, axes = plt.subplots(figsize=figsize)\n",
        "    sns.heatmap(df, annot=True, xticklabels=True, yticklabels=True,\n",
        "                mask=mask, cmap='viridis', annot_kws={\"size\": font_annot}, ax=axes,\n",
        "                linewidth=0.5\n",
        "                     )\n",
        "    axes.set_yticklabels(df.columns, rotation = 0)\n",
        "    plt.ylim(len(df.columns),0)\n",
        "    plt.show()\n",
        "\n",
        "\n",
        "def heatmap_pps(df,threshold, figsize=(20,12), font_annot = 8):\n",
        "    if len(df.columns) > 1:\n",
        "\n",
        "      mask = np.zeros_like(df, dtype=np.bool)\n",
        "      mask[abs(df) < threshold] = True\n",
        "\n",
        "      fig, ax = plt.subplots(figsize=figsize)\n",
        "      ax = sns.heatmap(df, annot=True, xticklabels=True,yticklabels=True,\n",
        "                       mask=mask,cmap='rocket_r', annot_kws={\"size\": font_annot},\n",
        "                       linewidth=0.05,linecolor='grey')\n",
        "      \n",
        "      plt.ylim(len(df.columns),0)\n",
        "      plt.show()\n",
        "\n",
        "\n",
        "\n",
        "def CalculateCorrAndPPS(df):\n",
        "  df_corr_spearman = df.corr(method=\"spearman\")\n",
        "  df_corr_pearson = df.corr(method=\"pearson\")\n",
        "\n",
        "  pps_matrix_raw = pps.matrix(df)\n",
        "  pps_matrix = pps_matrix_raw.filter(['x', 'y', 'ppscore']).pivot(columns='x', index='y', values='ppscore')\n",
        "\n",
        "  pps_score_stats = pps_matrix_raw.query(\"ppscore < 1\").filter(['ppscore']).describe().T\n",
        "  print(\"PPS threshold - check PPS score IQR to decide threshold for heatmap \\n\")\n",
        "  print(pps_score_stats.round(3))\n",
        "\n",
        "  return df_corr_pearson, df_corr_spearman, pps_matrix\n",
        "\n",
        "\n",
        "def DisplayCorrAndPPS(df_corr_pearson, df_corr_spearman, pps_matrix,CorrThreshold,PPS_Threshold,\n",
        "                      figsize=(20,12), font_annot=8 ):\n",
        "\n",
        "  print(\"\\n\")\n",
        "  print(\"* Analyze how the target variable for your ML models are correlated with other variables (features and target)\")\n",
        "  print(\"* Analyze multi colinearity, that is, how the features are correlated among themselves\")\n",
        "\n",
        "  print(\"\\n\")\n",
        "  print(\"*** Heatmap: Spearman Correlation ***\")\n",
        "  print(\"It evaluates monotonic relationship \\n\")\n",
        "  heatmap_corr(df=df_corr_spearman, threshold=CorrThreshold, figsize=figsize, font_annot=font_annot)\n",
        "\n",
        "  print(\"\\n\")\n",
        "  print(\"*** Heatmap: Pearson Correlation ***\")\n",
        "  print(\"It evaluates the linear relationship between two continuous variables \\n\")\n",
        "  heatmap_corr(df=df_corr_pearson, threshold=CorrThreshold, figsize=figsize, font_annot=font_annot)\n",
        "\n",
        "  print(\"\\n\")\n",
        "  print(\"*** Heatmap: Power Predictive Score (PPS) ***\")\n",
        "  print(f\"PPS detects linear or non-linear relationships between two columns.\\n\"\n",
        "        f\"The score ranges from 0 (no predictive power) to 1 (perfect predictive power) \\n\")\n",
        "  heatmap_pps(df=pps_matrix,threshold=PPS_Threshold, figsize=figsize, font_annot=font_annot)"
      ],
      "outputs": [],
      "metadata": {
        "id": "g6Zy_MglsmYo"
      }
    },
    {
      "cell_type": "markdown",
      "source": [
        "Calculate Correlations and Power Predictive Score"
      ],
      "metadata": {
        "id": "ryNo1VnXSK9K"
      }
    },
    {
      "cell_type": "code",
      "execution_count": null,
      "source": [
        "dataset = pd.concat([TrainSet, TestSet], axis=0)\n",
        "df_corr_pearson, df_corr_spearman, pps_matrix = CalculateCorrAndPPS(dataset)"
      ],
      "outputs": [],
      "metadata": {
        "id": "3_Z4SXf6GbED"
      }
    },
    {
      "cell_type": "markdown",
      "source": [
        "Display at Heatmaps"
      ],
      "metadata": {
        "id": "cJ-0L4PiSPEK"
      }
    },
    {
      "cell_type": "code",
      "execution_count": null,
      "source": [
        "DisplayCorrAndPPS(df_corr_pearson=df_corr_pearson,\n",
        "                  df_corr_spearman=df_corr_spearman, \n",
        "                  pps_matrix=pps_matrix,\n",
        "                  CorrThreshold=0.6, PPS_Threshold=0.2,\n",
        "                  figsize=(10,7), font_annot=10)\n"
      ],
      "outputs": [],
      "metadata": {
        "id": "ioE3yuC4Q7QK"
      }
    },
    {
      "cell_type": "markdown",
      "source": [
        "# Feature Engineering"
      ],
      "metadata": {
        "id": "_ZsS4AdFjUYH"
      }
    },
    {
      "cell_type": "markdown",
      "source": [
        "## Custom function"
      ],
      "metadata": {
        "id": "GqEHqNwyrucq"
      }
    },
    {
      "cell_type": "markdown",
      "source": [
        "We studied this custom function on feature-engine lesson. That will help you on the feature engineering process"
      ],
      "metadata": {
        "id": "ZuEsBAljDsLO"
      }
    },
    {
      "cell_type": "code",
      "execution_count": null,
      "source": [
        "from feature_engine import transformation as vt\n",
        "from feature_engine.outliers import Winsorizer\n",
        "from feature_engine.encoding import OrdinalEncoder\n",
        "import scipy.stats as stats\n",
        "import matplotlib.pyplot as plt\n",
        "import seaborn as sns\n",
        "import pandas as pd\n",
        "sns.set(style=\"whitegrid\")\n",
        "import warnings\n",
        "warnings.filterwarnings('ignore')\n",
        "\n",
        "\n",
        "\n",
        "def FeatureEngineeringAnalysis(df,analysis_type=None):\n",
        "\n",
        "\n",
        "  \"\"\"\n",
        "  - used for quick feature engineering on numerical and categorical variables\n",
        "  to decide which transformation can better transform the distribution shape \n",
        "  - Once transformed, use a reporting tool, like pandas-profiling, to evaluate distributions\n",
        "\n",
        "  \"\"\"\n",
        "  check_missing_values(df)\n",
        "  allowed_types= ['numerical', 'ordinal_encoder',  'outlier_winsorizer']\n",
        "  check_user_entry_on_analysis_type(analysis_type, allowed_types)\n",
        "  list_column_transformers = define_list_column_transformers(analysis_type)\n",
        "  \n",
        "  \n",
        "  # Loop in each variable and engineer the data according to the analysis type\n",
        "  df_feat_eng = pd.DataFrame([])\n",
        "  for column in df.columns:\n",
        "    # create additional columns (column_method) to apply the methods\n",
        "    df_feat_eng = pd.concat([df_feat_eng, df[column]], axis=1)\n",
        "    for method in list_column_transformers:\n",
        "      df_feat_eng[f\"{column}_{method}\"] = df[column]\n",
        "      \n",
        "    # Apply transformers in respectives column_transformers\n",
        "    df_feat_eng,list_applied_transformers = apply_transformers(analysis_type, df_feat_eng, column)\n",
        "\n",
        "    # For each variable, assess how the transformations perform\n",
        "    transformer_evaluation(column, list_applied_transformers, analysis_type, df_feat_eng)\n",
        "\n",
        "  return df_feat_eng\n",
        "\n",
        "\n",
        "def check_user_entry_on_analysis_type(analysis_type, allowed_types):\n",
        "  ### Check analyis type\n",
        "  if analysis_type == None:\n",
        "    raise SystemExit(f\"You should pass analysis_type parameter as one of the following options: {allowed_types}\")\n",
        "  if analysis_type not in allowed_types:\n",
        "      raise SystemExit(f\"analysis_type argument should be one of these options: {allowed_types}\")\n",
        "\n",
        "def check_missing_values(df):\n",
        "  if df.isna().sum().sum() != 0:\n",
        "    raise SystemExit(\n",
        "        f\"There is missing value in your dataset. Please handle that before getting into feature engineering.\")\n",
        "\n",
        "\n",
        "\n",
        "def define_list_column_transformers(analysis_type):\n",
        "  ### Set suffix colummns acording to analysis_type\n",
        "  if analysis_type=='numerical':\n",
        "    list_column_transformers = [\"log_e\",\"log_10\",\"reciprocal\", \"power\",\"box_cox\",\"yeo_johnson\"]\n",
        "  \n",
        "  elif analysis_type=='ordinal_encoder':\n",
        "    list_column_transformers = [\"ordinal_encoder\"]\n",
        "\n",
        "  elif analysis_type=='outlier_winsorizer':\n",
        "    list_column_transformers = ['iqr']\n",
        "\n",
        "  return list_column_transformers\n",
        "\n",
        "\n",
        "\n",
        "def apply_transformers(analysis_type, df_feat_eng, column):\n",
        "\n",
        "\n",
        "  for col in df_feat_eng.select_dtypes(include='category').columns:\n",
        "    df_feat_eng[col] = df_feat_eng[col].astype('object')\n",
        "\n",
        "\n",
        "  if analysis_type=='numerical':\n",
        "    df_feat_eng,list_applied_transformers = FeatEngineering_Numerical(df_feat_eng,column)\n",
        "  \n",
        "  elif analysis_type=='outlier_winsorizer':\n",
        "    df_feat_eng,list_applied_transformers = FeatEngineering_OutlierWinsorizer(df_feat_eng,column)\n",
        "\n",
        "  elif analysis_type=='ordinal_encoder':\n",
        "    df_feat_eng,list_applied_transformers = FeatEngineering_CategoricalEncoder(df_feat_eng,column)\n",
        "\n",
        "  return df_feat_eng,list_applied_transformers\n",
        "\n",
        "\n",
        "\n",
        "def transformer_evaluation(column, list_applied_transformers, analysis_type, df_feat_eng):\n",
        "  # For each variable, assess how the transformations perform\n",
        "  print(f\"* Variable Analyzed: {column}\")\n",
        "  print(f\"* Applied transformation: {list_applied_transformers} \\n\")\n",
        "  for col in [column] + list_applied_transformers:\n",
        "    \n",
        "    if analysis_type!='ordinal_encoder':\n",
        "      DiagnosticPlots_Numerical(df_feat_eng, col)\n",
        "    \n",
        "    else:\n",
        "      if col == column: \n",
        "        DiagnosticPlots_Categories(df_feat_eng, col)\n",
        "      else:\n",
        "        DiagnosticPlots_Numerical(df_feat_eng, col)\n",
        "\n",
        "    print(\"\\n\")\n",
        "\n",
        "\n",
        "\n",
        "def DiagnosticPlots_Categories(df_feat_eng, col):\n",
        "  plt.figure(figsize=(20, 5))\n",
        "  sns.countplot(data=df_feat_eng, x=col,palette=['#432371'],order = df_feat_eng[col].value_counts().index)\n",
        "  plt.xticks(rotation=90) \n",
        "  plt.suptitle(f\"{col}\", fontsize=30,y=1.05)        \n",
        "  plt.show();\n",
        "  print(\"\\n\")\n",
        "\n",
        "\n",
        "\n",
        "def DiagnosticPlots_Numerical(df, variable):\n",
        "  fig, axes = plt.subplots(1, 3, figsize=(20, 6))\n",
        "  sns.histplot(data=df, x=variable, kde=True,element=\"step\",ax=axes[0]) \n",
        "  stats.probplot(df[variable], dist=\"norm\", plot=axes[1])\n",
        "  sns.boxplot(x=df[variable],ax=axes[2])\n",
        "  \n",
        "  axes[0].set_title('Histogram')\n",
        "  axes[1].set_title('QQ Plot')\n",
        "  axes[2].set_title('Boxplot')\n",
        "  fig.suptitle(f\"{variable}\", fontsize=30,y=1.05)\n",
        "  plt.show()\n",
        "\n",
        "\n",
        "def FeatEngineering_CategoricalEncoder(df_feat_eng,column):\n",
        "  list_methods_worked = []\n",
        "  try:  \n",
        "    encoder= OrdinalEncoder(encoding_method='arbitrary', variables = [f\"{column}_ordinal_encoder\"])\n",
        "    df_feat_eng = encoder.fit_transform(df_feat_eng)\n",
        "    list_methods_worked.append(f\"{column}_ordinal_encoder\")\n",
        "  \n",
        "  except: \n",
        "    df_feat_eng.drop([f\"{column}_ordinal_encoder\"],axis=1,inplace=True)\n",
        "    \n",
        "  return df_feat_eng,list_methods_worked\n",
        "\n",
        "\n",
        "def FeatEngineering_OutlierWinsorizer(df_feat_eng,column):\n",
        "  list_methods_worked = []\n",
        "\n",
        "  ### Winsorizer iqr\n",
        "  try: \n",
        "    disc=Winsorizer(\n",
        "        capping_method='iqr', tail='both', fold=1.5, variables = [f\"{column}_iqr\"])\n",
        "    df_feat_eng = disc.fit_transform(df_feat_eng)\n",
        "    list_methods_worked.append(f\"{column}_iqr\")\n",
        "  except: \n",
        "    df_feat_eng.drop([f\"{column}_iqr\"],axis=1,inplace=True)\n",
        "\n",
        "\n",
        "  return df_feat_eng,list_methods_worked\n",
        "\n",
        "\n",
        "\n",
        "\n",
        "def FeatEngineering_Numerical(df_feat_eng,column):\n",
        "\n",
        "  list_methods_worked = []\n",
        "\n",
        "  ### LogTransformer base e\n",
        "  try: \n",
        "    lt = vt.LogTransformer(variables = [f\"{column}_log_e\"])\n",
        "    df_feat_eng = lt.fit_transform(df_feat_eng)\n",
        "    list_methods_worked.append(f\"{column}_log_e\")\n",
        "  except: \n",
        "    df_feat_eng.drop([f\"{column}_log_e\"],axis=1,inplace=True)\n",
        "\n",
        "    ### LogTransformer base 10\n",
        "  try: \n",
        "    lt = vt.LogTransformer(variables = [f\"{column}_log_10\"],base='10')\n",
        "    df_feat_eng = lt.fit_transform(df_feat_eng)\n",
        "    list_methods_worked.append(f\"{column}_log_10\")\n",
        "  except: \n",
        "    df_feat_eng.drop([f\"{column}_log_10\"],axis=1,inplace=True)\n",
        "\n",
        "  ### ReciprocalTransformer\n",
        "  try:\n",
        "    rt = vt.ReciprocalTransformer(variables = [f\"{column}_reciprocal\"])\n",
        "    df_feat_eng =  rt.fit_transform(df_feat_eng)\n",
        "    list_methods_worked.append(f\"{column}_reciprocal\")\n",
        "  except:\n",
        "    df_feat_eng.drop([f\"{column}_reciprocal\"],axis=1,inplace=True)\n",
        "\n",
        "  ### PowerTransformer\n",
        "  try:\n",
        "    pt = vt.PowerTransformer(variables = [f\"{column}_power\"])\n",
        "    df_feat_eng = pt.fit_transform(df_feat_eng)\n",
        "    list_methods_worked.append(f\"{column}_power\")\n",
        "  except:\n",
        "    df_feat_eng.drop([f\"{column}_power\"],axis=1,inplace=True)\n",
        "\n",
        "  ### BoxCoxTransformer\n",
        "  try:\n",
        "    bct = vt.BoxCoxTransformer(variables = [f\"{column}_box_cox\"])\n",
        "    df_feat_eng = bct.fit_transform(df_feat_eng)\n",
        "    list_methods_worked.append(f\"{column}_box_cox\")\n",
        "  except:\n",
        "    df_feat_eng.drop([f\"{column}_box_cox\"],axis=1,inplace=True)\n",
        "\n",
        "\n",
        "  ### YeoJohnsonTransformer\n",
        "  try:\n",
        "    yjt = vt.YeoJohnsonTransformer(variables = [f\"{column}_yeo_johnson\"])\n",
        "    df_feat_eng = yjt.fit_transform(df_feat_eng)\n",
        "    list_methods_worked.append(f\"{column}_yeo_johnson\")\n",
        "  except:\n",
        "        df_feat_eng.drop([f\"{column}_yeo_johnson\"],axis=1,inplace=True)\n",
        "\n",
        "\n",
        "  return df_feat_eng,list_methods_worked\n"
      ],
      "outputs": [],
      "metadata": {
        "id": "masShIoqzf2b"
      }
    },
    {
      "cell_type": "markdown",
      "source": [
        "## Feature Engineering Spreadsheet Summary"
      ],
      "metadata": {
        "id": "9yh2FMDd4wWZ"
      }
    },
    {
      "cell_type": "markdown",
      "source": [
        "* Consider the notes taken in your spreadsheet summary"
      ],
      "metadata": {}
    },
    {
      "cell_type": "markdown",
      "source": [
        "At this stage, there are no missing data in your Train and Test sets.\n",
        "\n",
        "\n",
        "Now you are looking to engineer (**to transform**), your variables, so the Machine Learning model will better learn the relationships among the variables (features and labels).\n",
        "  * It is important to run a quick EDA to asess variables distribution shape. Machine Learning models learn better when the distribution is normal. To engineer that, you can use transformers in packages like feature-engine or sklearn.\n",
        "  * You can also use your business acumen and technical expertise to create new variables. For example, imagine if your dataset is about your orange juice company operation. There is a variable called \"revenue\" and other called \"volume\", you divide revenue by volume to know how much money you make per liter of manufactured juice\n",
        "\n",
        "---   \n",
        "\n",
        "**REMINDER**\n",
        "  * The transformers decided in this notebook will serve as base to construct the **ML Pipeline** for the upcoming notebooks!\n",
        "\n",
        "---"
      ],
      "metadata": {
        "id": "TUsyE39kjWrI"
      }
    },
    {
      "cell_type": "markdown",
      "source": [
        "**Strategy**\n",
        "\n",
        "\n",
        "* **1 - Do a quick EDA and evaluate distribution from all variables. List all variables and potential transformation to apply on each (including no transformation)**\n"
      ],
      "metadata": {
        "id": "gvG1I9mHmNWC"
      }
    },
    {
      "cell_type": "markdown",
      "source": [
        "\n",
        "* **2 - Consider the following template to help your engineering process**\n",
        "\n",
        "  * 1 - Select variable(s)\n",
        "  * 2 - Select the transformer(s)\n",
        "  * 3 - Create a separate dataframe, for that variable(s)\n",
        "  * 4 - Create engineered variables(s) applying the transformation(s)\n",
        "  * 5 - Assess engineered variables distribution and select most suitable transformation\n",
        "  * 6 - If you are satisfied, apply the selected transformation to the Train and Test set\n"
      ],
      "metadata": {
        "id": "xWsUzp8IoVxw"
      }
    },
    {
      "cell_type": "markdown",
      "source": [
        "## Dealing with Feature Engineering"
      ],
      "metadata": {
        "id": "h-9iRH_ZEMoJ"
      }
    },
    {
      "cell_type": "markdown",
      "source": [
        "### Categorical Enconding - Ordinal: replaces categories by ordinal numbers "
      ],
      "metadata": {
        "id": "5GT8e9W_onJj"
      }
    },
    {
      "cell_type": "markdown",
      "source": [
        "* Step 1: Select variable(s)"
      ],
      "metadata": {
        "id": "OwG_KMpOonJu"
      }
    },
    {
      "cell_type": "code",
      "execution_count": null,
      "source": [
        "variables_engineering= ['gender', 'Partner', 'Dependents', 'PhoneService',\n",
        "                        'MultipleLines', 'InternetService', 'OnlineSecurity', 'OnlineBackup',\n",
        "                        'DeviceProtection', 'TechSupport', 'StreamingTV', 'StreamingMovies',\n",
        "                        'Contract', 'PaperlessBilling', 'PaymentMethod']\n",
        "\n",
        "variables_engineering"
      ],
      "outputs": [],
      "metadata": {
        "id": "-Ii9nXtJonJv"
      }
    },
    {
      "cell_type": "markdown",
      "source": [
        "* Step 2: Select the engineering transformation(s)"
      ],
      "metadata": {
        "id": "MzOOSSzsonJw"
      }
    },
    {
      "cell_type": "code",
      "execution_count": null,
      "source": [
        "from feature_engine.encoding import OrdinalEncoder"
      ],
      "outputs": [],
      "metadata": {
        "id": "uvQf2rkoonJx"
      }
    },
    {
      "cell_type": "markdown",
      "source": [
        "* Step 3: Create a separate dataframe, with your variable(s)"
      ],
      "metadata": {
        "id": "t32melBMonJy"
      }
    },
    {
      "cell_type": "code",
      "execution_count": null,
      "source": [
        "df_engineering = TrainSet[variables_engineering].copy()\n",
        "df_engineering.head(3)"
      ],
      "outputs": [],
      "metadata": {
        "id": "iJJBWQlconJy"
      }
    },
    {
      "cell_type": "markdown",
      "source": [
        "* Step 4: Create engineered variables(s) applying the transformation(s), assess engineered variables distribution and select most suitable method for each variable"
      ],
      "metadata": {
        "id": "_mk058LZonJz"
      }
    },
    {
      "cell_type": "code",
      "execution_count": null,
      "source": [
        "df_engineering = FeatureEngineering(df=df_engineering,analysis_type='ordinal_encoder')"
      ],
      "outputs": [],
      "metadata": {
        "id": "vKEuWXrtonJz"
      }
    },
    {
      "cell_type": "markdown",
      "source": [
        "* For each variable, write you conclusion on how the transformation(s) look(s) to be effective\n",
        "  * For all variables, the transformation is effective, since converted categories to numbers.\n",
        "\n"
      ],
      "metadata": {
        "id": "BfAiPd8DonJz"
      }
    },
    {
      "cell_type": "markdown",
      "source": [
        "* Step 5: If you are satisfied, apply the selected transformation to the Train and Test set"
      ],
      "metadata": {
        "id": "hM2xZ-YTonJ0"
      }
    },
    {
      "cell_type": "code",
      "execution_count": null,
      "source": [
        "# the steps are: \n",
        "# 1 - select given transformation and respective variable(s)\n",
        "# 2 - create transformer\n",
        "# 3 - fit_transform into TrainSet\n",
        "# 4 - transform into TestSet\n",
        "\n",
        "variable_categ_enc = variables_engineering\n",
        "if variable_categ_enc: \n",
        "  encoder = OrdinalEncoder(encoding_method='arbitrary', variables = variable_categ_enc)\n",
        "  TrainSet = encoder.fit_transform(TrainSet)\n",
        "  TestSet = encoder.transform(TestSet)\n",
        "\n",
        "\n",
        "print(\"* Categorical encoding - ordinal transformation done!\")"
      ],
      "outputs": [],
      "metadata": {
        "id": "dV4pTKpHonJ0"
      }
    },
    {
      "cell_type": "markdown",
      "source": [
        "### Handle Outliers (Winsorizer:caps maximum and/or minimum values)"
      ],
      "metadata": {
        "id": "TkyO7KsuyG5A"
      }
    },
    {
      "cell_type": "markdown",
      "source": [
        "* Step 1: Select variable(s) - **Quick reminder: The variable(s) has(ve) to numerical**"
      ],
      "metadata": {
        "id": "9l4eVnHNyG5E"
      }
    },
    {
      "cell_type": "code",
      "execution_count": null,
      "source": [
        "variables_engineering = ['tenure','MonthlyCharges']\n",
        "variables_engineering"
      ],
      "outputs": [],
      "metadata": {
        "id": "v-dEF_P4yG5E"
      }
    },
    {
      "cell_type": "markdown",
      "source": [
        "* Step 2: Select the engineering transformation(s)"
      ],
      "metadata": {
        "id": "n1-fcQnUyG5H"
      }
    },
    {
      "cell_type": "code",
      "execution_count": null,
      "source": [
        "from feature_engine.outliers import Winsorizer"
      ],
      "outputs": [],
      "metadata": {
        "id": "AOkGuVWayG5I"
      }
    },
    {
      "cell_type": "markdown",
      "source": [
        "* Step 3: Create a separate dataframe, with your variable(s)"
      ],
      "metadata": {
        "id": "kUA_uA1_yG5I"
      }
    },
    {
      "cell_type": "code",
      "execution_count": null,
      "source": [
        "df_engineering = TrainSet[variables_engineering].copy()\n",
        "df_engineering.head(3)"
      ],
      "outputs": [],
      "metadata": {
        "id": "xrplTb39yG5I"
      }
    },
    {
      "cell_type": "markdown",
      "source": [
        "* Step 4: Create engineered variables(s) applying the transformation(s), assess engineered variables distribution and select most suitable method"
      ],
      "metadata": {
        "id": "QQqqdvd3yG5J"
      }
    },
    {
      "cell_type": "code",
      "execution_count": null,
      "source": [
        "df_engineering = FeatureEngineering(df=df_engineering,analysis_type='outlier_winsorizer')"
      ],
      "outputs": [],
      "metadata": {
        "id": "YZXMUZgEyG5J"
      }
    },
    {
      "cell_type": "markdown",
      "source": [
        "* For each variable, write you conclusion on how the transformation(s) look(s) to be effective\n",
        "  * For all variables - it didn't improved the boxplot distribution or qq plot\n"
      ],
      "metadata": {
        "id": "W5TyFpY1yG5J"
      }
    },
    {
      "cell_type": "markdown",
      "source": [
        "* Step 5: If you are satisfied, apply the selected transformation to the Train and Test set\n"
      ],
      "metadata": {
        "id": "FnpgHsRqyG5K"
      }
    },
    {
      "cell_type": "code",
      "execution_count": null,
      "source": [
        "# the steps are: \n",
        "# 1 - select given transformation and respective variable(s)\n",
        "# 2 - create transformer\n",
        "# 3 - fit_transform into TrainSet\n",
        "# 4 - transform into TestSet\n",
        "\n",
        "\n",
        "### Winsorizer Gaussian\n",
        "variable_out_gaussian = []\n",
        "if variable_out_gaussian:\n",
        "  out_transf =Winsorizer(capping_method='gaussian',tail='both', fold=3,variables = variable_out_gaussian)\n",
        "  TrainSet = out_transf.fit_transform(TrainSet)\n",
        "  TestSet = out_transf.transform(TestSet)\n",
        "\n",
        "### Winsorizer IQR\n",
        "variable_out_iqr = []\n",
        "if variable_out_iqr:\n",
        "  out_transf =Winsorizer(capping_method='iqr',tail='both', fold=3,variables = variable_out_iqr)\n",
        "  TrainSet = out_transf.fit_transform(TrainSet)\n",
        "  TestSet = out_transf.transform(TestSet)\n",
        "\n",
        "print(\"* Winsorizer Outlier transformation done!\")"
      ],
      "outputs": [],
      "metadata": {
        "id": "5Q6_oTrsyG5K"
      }
    },
    {
      "cell_type": "markdown",
      "source": [
        "### SmartCorrelatedSelection Variables"
      ],
      "metadata": {
        "id": "g_kMYDKU2yuT"
      }
    },
    {
      "cell_type": "markdown",
      "source": [
        "* Step 1: Select variable(s)"
      ],
      "metadata": {
        "id": "Fo7iQbNn2yuX"
      }
    },
    {
      "cell_type": "code",
      "execution_count": null,
      "source": [
        "# for this transformer, you don't need to select variables, since you need all variables for that"
      ],
      "outputs": [],
      "metadata": {
        "id": "FqF5Z5TGrGXB"
      }
    },
    {
      "cell_type": "markdown",
      "source": [
        "* Step 2: Select the engineering transformation(s)"
      ],
      "metadata": {
        "id": "OGfq83p02yuY"
      }
    },
    {
      "cell_type": "code",
      "execution_count": null,
      "source": [
        "from feature_engine.selection import SmartCorrelatedSelection"
      ],
      "outputs": [],
      "metadata": {
        "id": "XkiztpOX2yua"
      }
    },
    {
      "cell_type": "markdown",
      "source": [
        "* Step 3: Create a separate dataframe, with your variable(s)"
      ],
      "metadata": {
        "id": "9-pse1Ge2yub"
      }
    },
    {
      "cell_type": "code",
      "execution_count": null,
      "source": [
        "df_engineering = TrainSet.copy()\n",
        "df_engineering.head(3)"
      ],
      "outputs": [],
      "metadata": {
        "id": "2hnHWkNf2yub"
      }
    },
    {
      "cell_type": "markdown",
      "source": [
        "* Step 4: Create engineered variables(s) applying the transformation(s), assess engineered variables distribution and select most suitable method for each variable"
      ],
      "metadata": {
        "id": "CJsN5KNe2yuc"
      }
    },
    {
      "cell_type": "code",
      "execution_count": null,
      "source": [
        "corr_sel = SmartCorrelatedSelection(variables=None, method=\"spearman\", threshold=0.6,selection_method=\"variance\")\n",
        "\n",
        "corr_sel.fit_transform(df_engineering)\n",
        "corr_sel.correlated_feature_sets_"
      ],
      "outputs": [],
      "metadata": {
        "id": "Vq-jWVT2e2v3"
      }
    },
    {
      "cell_type": "code",
      "execution_count": null,
      "source": [
        "corr_sel.features_to_drop_"
      ],
      "outputs": [],
      "metadata": {
        "id": "kVQW3s0QfasQ"
      }
    },
    {
      "cell_type": "markdown",
      "source": [
        "* Step 5: If you are satisfied, apply the selected transformers to the Train and Test set"
      ],
      "metadata": {
        "id": "ib1Nojcs2yud"
      }
    },
    {
      "cell_type": "code",
      "execution_count": null,
      "source": [
        "corr_sel = SmartCorrelatedSelection(variables=None, method=\"spearman\", threshold=0.6,selection_method=\"variance\")\n",
        "TrainSet = corr_sel.fit_transform(TrainSet)\n",
        "TestSet = corr_sel.transform(TestSet)\n",
        "\n",
        "print(f\"* correlated feature sets: \\n{corr_sel.correlated_feature_sets_}\\n\")\n",
        "print(f\"* features to drop: \\n{corr_sel.features_to_drop_}\\n\")\n",
        "print(\"* SmartCorrelatedSelection transformation done!\")"
      ],
      "outputs": [],
      "metadata": {
        "id": "55pxyEpX2yud"
      }
    },
    {
      "cell_type": "markdown",
      "source": [
        "---"
      ],
      "metadata": {
        "id": "yZiCdjylhGP-"
      }
    },
    {
      "cell_type": "markdown",
      "source": [
        "# So what is the conclusion? :)\n"
      ],
      "metadata": {
        "id": "LQSUo5fxnozU"
      }
    },
    {
      "cell_type": "markdown",
      "source": [
        "The list below shows the transformations needed for feature engineering.\n",
        "  * You will add these steps into the ML Pipeline"
      ],
      "metadata": {
        "id": "yOP2pVnJnwxS"
      }
    },
    {
      "cell_type": "markdown",
      "source": [
        "\n",
        "Feature Engineering Transformers\n",
        "  * Ordinal categorical encoding: `['gender', 'Partner', Dependents', 'PhoneService','MultipleLines', 'InternetService', 'OnlineSecurity', 'OnlineBackup','DeviceProtection', 'TechSupport', 'StreamingTV', 'StreamingMovies','Contract', 'PaperlessBilling', 'PaymentMethod']`\n",
        "  * Smart Correlation Selection: `['OnlineSecurity', 'DeviceProtection', 'TechSupport']`\n",
        "  "
      ],
      "metadata": {
        "id": "O9EtvPIPnpYb"
      }
    },
    {
      "cell_type": "markdown",
      "source": [
        "* Well done! Clear the outputs, and move on to the next notebooks"
      ],
      "metadata": {}
    }
  ]
}