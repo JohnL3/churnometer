{
  "nbformat": 4,
  "nbformat_minor": 2,
  "metadata": {
    "orig_nbformat": 2,
    "colab": {
      "name": "Data Practitioner Jupyter Notebook.ipynb",
      "provenance": []
    },
    "language_info": {
      "name": "python",
      "version": "3.8.12",
      "mimetype": "text/x-python",
      "codemirror_mode": {
        "name": "ipython",
        "version": 3
      },
      "pygments_lexer": "ipython3",
      "nbconvert_exporter": "python",
      "file_extension": ".py"
    },
    "kernelspec": {
      "name": "python3",
      "display_name": "Python 3.8.12 64-bit"
    },
    "accelerator": "GPU",
    "interpreter": {
      "hash": "4cd7ab41f5fca4b9b44701077e38c5ffd31fe66a6cab21e0214b68d958d0e462"
    }
  },
  "cells": [
    {
      "cell_type": "markdown",
      "source": [
        "# Churned Customer Study Notebook"
      ],
      "metadata": {
        "id": "0aStgWSO0E0E"
      }
    },
    {
      "cell_type": "markdown",
      "source": [
        "## Objectives\n",
        "\n",
        "*   Answer business requirement 1: \n",
        "    * The client is interested to understand the patterns from customer base, so the client can learn the most relevant variables that are correlated to a churned customer.\n",
        "\n",
        "## Inputs\n",
        "\n",
        "* outputs/datasets/collection/TelcoCustomerChurn.csv\n",
        "\n",
        "## Outputs\n",
        "\n",
        "* generate code that answers business requirement 1 and can be used to build Streamlit App\n",
        "\n",
        "\n",
        "## Additional Comments | Insights | Conclusions\n",
        "\n",
        "\n"
      ],
      "metadata": {
        "id": "1eLEkw5O0ECa"
      }
    },
    {
      "cell_type": "markdown",
      "source": [
        "---"
      ],
      "metadata": {
        "id": "9uWZXH9LwoQg"
      }
    },
    {
      "cell_type": "markdown",
      "source": [
        "# Install Packages"
      ],
      "metadata": {
        "id": "tGT0ZCtwFAFv"
      }
    },
    {
      "cell_type": "code",
      "execution_count": null,
      "source": [
        "! pip install pandas-profiling==2.11.0\n",
        "! pip install plotly==4.14.0\n",
        "! pip install feature-engine==1.0.2\n",
        "#"
      ],
      "outputs": [],
      "metadata": {
        "id": "WcidnQspZztu"
      }
    },
    {
      "cell_type": "markdown",
      "source": [
        "# Change working directory"
      ],
      "metadata": {}
    },
    {
      "cell_type": "markdown",
      "source": [
        "We need to change the working directory from its current folder to its parent folder\n",
        "* We access the current directory with os.getcwd()"
      ],
      "metadata": {}
    },
    {
      "cell_type": "code",
      "execution_count": null,
      "source": [
        "import os\n",
        "current_dir = os.getcwd()\n",
        "current_dir"
      ],
      "outputs": [],
      "metadata": {}
    },
    {
      "cell_type": "markdown",
      "source": [
        "We want to make the parent of current directory the new current directory\n",
        "* os.path.dirname() gets the parent directory\n",
        "* os.chir() defines the new current directory"
      ],
      "metadata": {}
    },
    {
      "cell_type": "code",
      "execution_count": null,
      "source": [
        "os.chdir(os.path.dirname(current_dir))\n",
        "print(\"You set a new current directory\")"
      ],
      "outputs": [],
      "metadata": {}
    },
    {
      "cell_type": "markdown",
      "source": [
        "Confirm the new current directory"
      ],
      "metadata": {}
    },
    {
      "cell_type": "code",
      "execution_count": null,
      "source": [
        "current_dir = os.getcwd()\n",
        "current_dir"
      ],
      "outputs": [],
      "metadata": {}
    },
    {
      "cell_type": "markdown",
      "source": [
        "---"
      ],
      "metadata": {
        "id": "_tdAGw4Zwssu"
      }
    },
    {
      "cell_type": "markdown",
      "source": [
        "# Load Data"
      ],
      "metadata": {
        "id": "t2oPUd1K_qCr"
      }
    },
    {
      "cell_type": "code",
      "execution_count": null,
      "source": [
        "import pandas as pd\n",
        "df = pd.read_csv(\"outputs/datasets/collection/TelcoCustomerChurn.csv\").drop(['customerID'], axis=1)\n",
        "df.info()"
      ],
      "outputs": [],
      "metadata": {
        "id": "oqqga261_w4N",
        "colab": {
          "base_uri": "https://localhost:8080/"
        },
        "outputId": "a936deda-749e-4926-c6a0-c857edfb43ae"
      }
    },
    {
      "cell_type": "markdown",
      "source": [
        "# Pandas profiling"
      ],
      "metadata": {
        "id": "xsBHpBFJ0ZFa"
      }
    },
    {
      "cell_type": "code",
      "execution_count": null,
      "source": [
        "from pandas_profiling import ProfileReport\n",
        "pandas_report = ProfileReport(df=df, minimal=True)\n",
        "pandas_report.to_notebook_iframe()"
      ],
      "outputs": [],
      "metadata": {
        "id": "ncii4qR90aS1"
      }
    },
    {
      "cell_type": "markdown",
      "source": [
        "# Correlation Study"
      ],
      "metadata": {
        "id": "DceTmVKMzHZV"
      }
    },
    {
      "cell_type": "markdown",
      "source": [
        "For this analysis, we are transforming the categorical variables with One Hot Encoding technique, so we can see which levels tend to affect more Churn Levels"
      ],
      "metadata": {
        "id": "JGjuccXJzKFm"
      }
    },
    {
      "cell_type": "code",
      "execution_count": null,
      "source": [
        "from feature_engine.encoding import OneHotEncoder\n",
        "encoder = OneHotEncoder(variables=df.columns[df.dtypes=='object'].to_list(), drop_last=False)\n",
        "df_ohe = encoder.fit_transform(df)\n",
        "print(df_ohe.shape)\n",
        "df_ohe.head(3)"
      ],
      "outputs": [],
      "metadata": {
        "id": "nLKtmzubuK2Z",
        "colab": {
          "base_uri": "https://localhost:8080/",
          "height": 214
        },
        "outputId": "a2698dac-c7f4-4d0f-febc-aca1c3cd7e4b"
      }
    },
    {
      "cell_type": "markdown",
      "source": [
        "We use `.corr()` for `spearman` and `pearson` methods, and investigate the top 10 correlations\n",
        "* We know this command returns a pandas series and the first item is the correlation between Churn and Churn, which happens to be 1, so we exclude that with `[1:]`\n",
        "* We sort values considering the aboslute value, by setting `key=abs`"
      ],
      "metadata": {
        "id": "6a7e-64OzeP0"
      }
    },
    {
      "cell_type": "code",
      "execution_count": null,
      "source": [
        "corr_spearman = df_ohe.corr(method='spearman')['Churn'].sort_values(key=abs, ascending=False)[1:].head(10)\n",
        "corr_spearman"
      ],
      "outputs": [],
      "metadata": {
        "id": "MPn8xl6N_sug",
        "colab": {
          "base_uri": "https://localhost:8080/"
        },
        "outputId": "fed347e6-dfd9-4273-caf4-2fa1cea83935"
      }
    },
    {
      "cell_type": "markdown",
      "source": [
        "We do the same for `pearson`"
      ],
      "metadata": {
        "id": "-rIu67nO0LDs"
      }
    },
    {
      "cell_type": "code",
      "execution_count": null,
      "source": [
        "corr_pearson = df_ohe.corr(method='pearson')['Churn'].sort_values(key=abs, ascending=False)[1:].head(10)\n",
        "corr_pearson"
      ],
      "outputs": [],
      "metadata": {
        "id": "uop6Vvk4wrF0",
        "colab": {
          "base_uri": "https://localhost:8080/"
        },
        "outputId": "7e42c25a-8595-4241-ea9b-c945e7369819"
      }
    },
    {
      "cell_type": "markdown",
      "source": [
        "For both methods, we notice weak or moderate levels of correlation between Churn and a given variable. \n",
        "* Ideally, we pursue at strong correlation levels or more. However, this is not always possible\n",
        "\n",
        "We will consider the top 7 correlation levels at `df_ohe` and will study the associated variables at `df`"
      ],
      "metadata": {
        "id": "KHrTrQYO0px_"
      }
    },
    {
      "cell_type": "code",
      "execution_count": null,
      "source": [
        "top_n = 5\n",
        "set(corr_pearson[:top_n].index.to_list() + corr_spearman[:top_n].index.to_list())"
      ],
      "outputs": [],
      "metadata": {
        "id": "A-5y4MY71Nk5",
        "colab": {
          "base_uri": "https://localhost:8080/"
        },
        "outputId": "fe686228-8176-4310-e538-b6e4c7100bdf"
      }
    },
    {
      "cell_type": "markdown",
      "source": [
        "Therefore we are studying at df the following variables. We will investigate if:\n",
        "* A churned customer typically has a month to month contract\n",
        "* A churned customer typically has fiber optic\n",
        "* A churned customer typically doesn't have tech support\n",
        "* A churned customer doesn't have online security\n",
        "* A churned customer typically has low tenure levels"
      ],
      "metadata": {
        "id": "0vz-wC9e2I-z"
      }
    },
    {
      "cell_type": "code",
      "execution_count": null,
      "source": [
        "vars_to_study = ['Contract', 'InternetService', 'OnlineSecurity', 'TechSupport', 'tenure']\n",
        "vars_to_study"
      ],
      "outputs": [],
      "metadata": {
        "id": "iHKRE6E32NPv",
        "colab": {
          "base_uri": "https://localhost:8080/"
        },
        "outputId": "39ab0829-d47b-4c62-e7e2-859574080737"
      }
    },
    {
      "cell_type": "markdown",
      "source": [
        "# EDA on selected variables"
      ],
      "metadata": {
        "id": "IV2d12vC0Puq"
      }
    },
    {
      "cell_type": "markdown",
      "source": [
        "We create a separate DataFrame with `vars_to_study` and `Churn`"
      ],
      "metadata": {
        "id": "Ln0g-NKs__1j"
      }
    },
    {
      "cell_type": "code",
      "execution_count": null,
      "source": [
        "df_eda = df.filter(vars_to_study + ['Churn'])\n",
        "df_eda"
      ],
      "outputs": [],
      "metadata": {
        "id": "wpIgK8rxAbdR",
        "colab": {
          "base_uri": "https://localhost:8080/",
          "height": 419
        },
        "outputId": "e11c7684-df93-4e53-b8e4-dd287c4ce915"
      }
    },
    {
      "cell_type": "markdown",
      "source": [
        "## Variables Distribution by Churn"
      ],
      "metadata": {
        "id": "y7NNXfA10mx2"
      }
    },
    {
      "cell_type": "markdown",
      "source": [
        "We plot the distribution (numerical and categorical) colored by Churn"
      ],
      "metadata": {
        "id": "GIITMZ-3AGoY"
      }
    },
    {
      "cell_type": "code",
      "execution_count": null,
      "source": [
        "import matplotlib.pyplot as plt\n",
        "import seaborn as sns\n",
        "def plot_categorical(df, col, target_var):\n",
        "\n",
        "  plt.figure(figsize=(12, 5))\n",
        "  sns.countplot(data=df, x=col, hue=target_var,order = df[col].value_counts().index)\n",
        "  plt.xticks(rotation=90) \n",
        "  plt.title(f\"{col}\", fontsize=20,y=1.05)        \n",
        "  plt.show()\n",
        "\n",
        "def plot_numerical(df, col, target_var):\n",
        "  plt.figure(figsize=(8, 5))\n",
        "  sns.histplot(data=df, x=col, hue=target_var, kde=True,element=\"step\") \n",
        "  plt.title(f\"{col}\", fontsize=20,y=1.05)\n",
        "  plt.show()\n",
        "\n",
        "\n",
        "\n",
        "target_var = 'Churn'\n",
        "for col in df_eda.drop([target_var], axis=1).columns.to_list():\n",
        "  if df_eda[col].dtype == 'object':\n",
        "    plot_categorical(df_eda, col, target_var)\n",
        "    print(\"\\n\\n\")\n",
        "  else:\n",
        "    plot_numerical(df_eda, col, target_var)\n",
        "    print(\"\\n\\n\")\n",
        "\n"
      ],
      "outputs": [],
      "metadata": {
        "id": "ensdFklI3Vbn"
      }
    },
    {
      "cell_type": "markdown",
      "source": [
        "---"
      ],
      "metadata": {
        "id": "qH46EnLZAfYH"
      }
    },
    {
      "cell_type": "markdown",
      "source": [
        "## Parallel Plot"
      ],
      "metadata": {
        "id": "CopCR3yj0pbY"
      }
    },
    {
      "cell_type": "markdown",
      "source": [
        "Create a separate DataFrame and transform `tenure` (numerical) into bins (categorical) for visualizing at `parallel_categories()` plot\n"
      ],
      "metadata": {
        "id": "bypwzlCw_Ffg"
      }
    },
    {
      "cell_type": "code",
      "execution_count": null,
      "source": [
        "from feature_engine.discretisation import ArbitraryDiscretiser\n",
        "import numpy as np\n",
        "tenure_map = [-np.Inf, 6, 12, 18, 24, np.Inf]\n",
        "disc = ArbitraryDiscretiser(binning_dict={'tenure': tenure_map},\n",
        "                            return_object=False,\n",
        "                            return_boundaries=False)\n",
        "df_parallel = disc.fit_transform(df_eda)\n",
        "df_parallel.head()"
      ],
      "outputs": [],
      "metadata": {
        "id": "ZMm3x71j_Ego",
        "colab": {
          "base_uri": "https://localhost:8080/",
          "height": 204
        },
        "outputId": "4d1e53d9-4bc4-496d-d189-2fdd771dcf62"
      }
    },
    {
      "cell_type": "markdown",
      "source": [
        "Create map to replace `tenure` variable with more informative levels"
      ],
      "metadata": {
        "id": "A8SOHbD6QT-L"
      }
    },
    {
      "cell_type": "code",
      "execution_count": null,
      "source": [
        "n_classes = len(tenure_map) - 1\n",
        "classes_ranges = disc.binner_dict_['tenure'][1:-1]\n",
        "\n",
        "labels_map = {}\n",
        "for n in range(0,n_classes):\n",
        "  if n == 0:\n",
        "    labels_map[n] = f\"<{classes_ranges[0]}\"\n",
        "  elif n == n_classes-1:\n",
        "    labels_map[n] = f\"+{classes_ranges[-1]}\"\n",
        "  else:\n",
        "    labels_map[n] = f\"{classes_ranges[n-1]} to {classes_ranges[n]}\"\n",
        "\n",
        "labels_map"
      ],
      "outputs": [],
      "metadata": {
        "id": "9s3W0esgPBng",
        "colab": {
          "base_uri": "https://localhost:8080/"
        },
        "outputId": "006a746e-3989-4559-ca04-2b4d0c445309"
      }
    },
    {
      "cell_type": "markdown",
      "source": [
        "Replace using `.replace()`"
      ],
      "metadata": {
        "id": "Q7nvRC9uQhag"
      }
    },
    {
      "cell_type": "code",
      "execution_count": null,
      "source": [
        "df_parallel['tenure'] = df_parallel['tenure'].replace(labels_map)\n",
        "df_parallel.head()"
      ],
      "outputs": [],
      "metadata": {
        "id": "oGrZNt6I_i3o",
        "colab": {
          "base_uri": "https://localhost:8080/",
          "height": 204
        },
        "outputId": "2ec3484b-05a2-4639-dba3-584282405668"
      }
    },
    {
      "cell_type": "markdown",
      "source": [
        "Creates multi-dimensional categorical data plot"
      ],
      "metadata": {
        "id": "VgYQ30JXQxBR"
      }
    },
    {
      "cell_type": "code",
      "execution_count": null,
      "source": [
        "import plotly.express as px\n",
        "fig = px.parallel_categories(df_parallel, color=\"Churn\")\n",
        "fig.show()"
      ],
      "outputs": [],
      "metadata": {
        "id": "XpjcTS4XAbgO",
        "colab": {
          "base_uri": "https://localhost:8080/",
          "height": 542
        },
        "outputId": "be219931-6003-4e74-e67b-3254b763e596"
      }
    },
    {
      "cell_type": "markdown",
      "source": [
        "---"
      ],
      "metadata": {
        "id": "ua0-YwyMCtDy"
      }
    },
    {
      "cell_type": "markdown",
      "source": [
        "# Conclusions and Next steps"
      ],
      "metadata": {
        "id": "6jkAa1rpCLbY"
      }
    },
    {
      "cell_type": "markdown",
      "source": [
        "The correlations and plots interpretation converge. \n",
        "* A churned customer typically has a month to month contract\n",
        "* A churned customer typically has fiber optic\n",
        "* A churned customer typically doesn't have tech support\n",
        "* A churned customer doesn't have online security\n",
        "* A churned customer typically has low tenure levels"
      ],
      "metadata": {
        "id": "YX7YiPhWCNmc"
      }
    },
    {
      "cell_type": "markdown",
      "source": [
        "---"
      ],
      "metadata": {
        "id": "vVOqV5ADZjD1"
      }
    },
    {
      "cell_type": "markdown",
      "source": [
        "Well done! You generated code that answers business requirement 1 and can be used to build Streamlit App\n",
        "* In this notebook we are not pushing any file to the repo"
      ],
      "metadata": {
        "id": "5C9ptflZZjrI"
      }
    }
  ]
}